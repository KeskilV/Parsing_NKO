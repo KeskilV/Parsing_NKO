{
 "cells": [
  {
   "cell_type": "code",
   "execution_count": 1,
   "metadata": {},
   "outputs": [],
   "source": [
    "#v10.11.21 c func_rpdiamonds\n",
    "#разложение таблицы эксель с ювелиркой в таблицу с бриллиантами по ключу 1С7 и подстановка прейскуранта\n",
    "import numpy as np\n",
    "import pandas as pd\n",
    "import re\n",
    "import os"
   ]
  },
  {
   "cell_type": "code",
   "execution_count": 2,
   "metadata": {},
   "outputs": [],
   "source": [
    "#from rusprice.dictdiamonds import dcol_dia, dcla_dia, dpo_dia, dogr_dia_discount"
   ]
  },
  {
   "cell_type": "code",
   "execution_count": 3,
   "metadata": {},
   "outputs": [],
   "source": [
    "#import rusprice.func_rpdiamonds_xlsx as func_rpdiamonds"
   ]
  },
  {
   "cell_type": "code",
   "execution_count": 4,
   "metadata": {},
   "outputs": [
    {
     "data": {
      "text/plain": [
       "\"\\nparametrs = {'ШТУК':'ШТУК','ОГРАНКА':'ОГРАНКА', 'КАРАТ':'КАРАТ', 'ПО': 'ПО', 'Ц':'Ц', 'Д':'Д'}\\nrusian price of diamond v14-10-21 \\ndef rpdiamonds({'id':1,'ОГРАНКА':['Кр-57А'], 'Ц':[3], 'Д':['7а'], 'ПО': 'A','ШТУК':[1],'КАРАТ':0.35})\\n\""
      ]
     },
     "execution_count": 4,
     "metadata": {},
     "output_type": "execute_result"
    }
   ],
   "source": [
    "#func_rpdiamonds.__doc__"
   ]
  },
  {
   "cell_type": "markdown",
   "metadata": {},
   "source": [
    "# Чтение файла и подготовка jewellery"
   ]
  },
  {
   "cell_type": "code",
   "execution_count": 5,
   "metadata": {},
   "outputs": [
    {
     "data": {
      "text/plain": [
       "[(0, '.DS_Store'), (1, 'miuz')]"
      ]
     },
     "execution_count": 5,
     "metadata": {},
     "output_type": "execute_result"
    }
   ],
   "source": [
    "folders = os.listdir(path='jewels/')\n",
    "[nf for nf in enumerate(folders)]"
   ]
  },
  {
   "cell_type": "code",
   "execution_count": 6,
   "metadata": {},
   "outputs": [
    {
     "data": {
      "text/plain": [
       "'jewels/miuz/'"
      ]
     },
     "execution_count": 6,
     "metadata": {},
     "output_type": "execute_result"
    }
   ],
   "source": [
    "#выбор папки\n",
    "#sourcepath = 'jewels/antipina2/'\n",
    "sourcepath = 'jewels/'+folders[1]+'/'\n",
    "sourcepath"
   ]
  },
  {
   "cell_type": "code",
   "execution_count": 7,
   "metadata": {},
   "outputs": [
    {
     "data": {
      "text/plain": [
       "[(0, 'mius1-6.xlsx')]"
      ]
     },
     "execution_count": 7,
     "metadata": {},
     "output_type": "execute_result"
    }
   ],
   "source": [
    "files = os.listdir(path=sourcepath)\n",
    "[f for f in enumerate(files)]"
   ]
  },
  {
   "cell_type": "code",
   "execution_count": 8,
   "metadata": {},
   "outputs": [],
   "source": [
    "filename = files[0]"
   ]
  },
  {
   "cell_type": "code",
   "execution_count": 9,
   "metadata": {},
   "outputs": [],
   "source": [
    "#filename = 'jewels/artemeva/расчет ЛеженниковИсправл.xlsx'\n",
    "#filename = files[n]\n",
    "filenamep = filename.split('.')[0]"
   ]
  },
  {
   "cell_type": "code",
   "execution_count": 10,
   "metadata": {},
   "outputs": [
    {
     "name": "stdout",
     "output_type": "stream",
     "text": [
      "mius1-6\n"
     ]
    }
   ],
   "source": [
    "print(filenamep)"
   ]
  },
  {
   "cell_type": "code",
   "execution_count": 11,
   "metadata": {},
   "outputs": [],
   "source": [
    "raw = pd.read_excel(sourcepath+filename)"
   ]
  },
  {
   "cell_type": "code",
   "execution_count": 14,
   "metadata": {},
   "outputs": [
    {
     "name": "stdout",
     "output_type": "stream",
     "text": [
      "<class 'pandas.core.frame.DataFrame'>\n",
      "RangeIndex: 302 entries, 0 to 301\n",
      "Data columns (total 8 columns):\n",
      " #   Column      Non-Null Count  Dtype  \n",
      "---  ------      --------------  -----  \n",
      " 0   Unnamed: 0  302 non-null    int64  \n",
      " 1   h1          302 non-null    object \n",
      " 2   art         302 non-null    object \n",
      " 3   price       257 non-null    float64\n",
      " 4   gold        255 non-null    object \n",
      " 5   weight      238 non-null    float64\n",
      " 6   gems        236 non-null    object \n",
      " 7   url         302 non-null    object \n",
      "dtypes: float64(2), int64(1), object(5)\n",
      "memory usage: 19.0+ KB\n"
     ]
    }
   ],
   "source": [
    "raw.info()"
   ]
  },
  {
   "cell_type": "code",
   "execution_count": 15,
   "metadata": {},
   "outputs": [
    {
     "data": {
      "text/html": [
       "<div>\n",
       "<style scoped>\n",
       "    .dataframe tbody tr th:only-of-type {\n",
       "        vertical-align: middle;\n",
       "    }\n",
       "\n",
       "    .dataframe tbody tr th {\n",
       "        vertical-align: top;\n",
       "    }\n",
       "\n",
       "    .dataframe thead th {\n",
       "        text-align: right;\n",
       "    }\n",
       "</style>\n",
       "<table border=\"1\" class=\"dataframe\">\n",
       "  <thead>\n",
       "    <tr style=\"text-align: right;\">\n",
       "      <th></th>\n",
       "      <th>Unnamed: 0</th>\n",
       "      <th>h1</th>\n",
       "      <th>art</th>\n",
       "      <th>price</th>\n",
       "      <th>gold</th>\n",
       "      <th>weight</th>\n",
       "      <th>gems</th>\n",
       "      <th>url</th>\n",
       "    </tr>\n",
       "  </thead>\n",
       "  <tbody>\n",
       "    <tr>\n",
       "      <th>0</th>\n",
       "      <td>0</td>\n",
       "      <td>Кольцо c бриллиантом R01-SOL74-025-G2</td>\n",
       "      <td>[&lt;span itemprop=\"name\"&gt;Артикул R01-SOL74-025-G...</td>\n",
       "      <td>57745.0</td>\n",
       "      <td>Золото 585</td>\n",
       "      <td>1.25</td>\n",
       "      <td>1  Бриллиант огранки \"Круглая\" граней - 57, ти...</td>\n",
       "      <td>https://miuz.ru/catalog/rings/R01-SOL74-025-G2/</td>\n",
       "    </tr>\n",
       "    <tr>\n",
       "      <th>1</th>\n",
       "      <td>1</td>\n",
       "      <td>Кольцо c бриллиантом R01-WED-00147-RW</td>\n",
       "      <td>[&lt;span itemprop=\"name\"&gt;Артикул R01-WED-00147-R...</td>\n",
       "      <td>33594.0</td>\n",
       "      <td>Золото 585</td>\n",
       "      <td>1.89</td>\n",
       "      <td>1  Бриллиант огранки \"Круглая\" граней - 57, ти...</td>\n",
       "      <td>https://miuz.ru/catalog/rings/R01-WED-00147-RW/</td>\n",
       "    </tr>\n",
       "    <tr>\n",
       "      <th>2</th>\n",
       "      <td>2</td>\n",
       "      <td>Кольцо c бриллиантом R01-PL-34397-R</td>\n",
       "      <td>[&lt;span itemprop=\"name\"&gt;Артикул R01-PL-34397-R&lt;...</td>\n",
       "      <td>38094.0</td>\n",
       "      <td>Золото 585</td>\n",
       "      <td>2.59</td>\n",
       "      <td>1  Бриллиант огранки \"Круглая\" граней - 57, ти...</td>\n",
       "      <td>https://miuz.ru/catalog/rings/R01-PL-34397-R/</td>\n",
       "    </tr>\n",
       "    <tr>\n",
       "      <th>3</th>\n",
       "      <td>3</td>\n",
       "      <td>Кольцо c бриллиантами R01-WED-00032-R</td>\n",
       "      <td>[&lt;span itemprop=\"name\"&gt;Артикул R01-WED-00032-R...</td>\n",
       "      <td>65940.0</td>\n",
       "      <td>Золото 585</td>\n",
       "      <td>3.64</td>\n",
       "      <td>2  Бриллианта огранки \"Круглая\" граней - 57, т...</td>\n",
       "      <td>https://miuz.ru/catalog/rings/R01-WED-00032-R/</td>\n",
       "    </tr>\n",
       "    <tr>\n",
       "      <th>4</th>\n",
       "      <td>4</td>\n",
       "      <td>Кольцо c бриллиантами R01-35499-W</td>\n",
       "      <td>[&lt;span itemprop=\"name\"&gt;Артикул R01-35499-W&lt;/sp...</td>\n",
       "      <td>194994.0</td>\n",
       "      <td>Золото 585</td>\n",
       "      <td>3.98</td>\n",
       "      <td>9  Бриллиантов огранки \"Круглая\" граней - 57, ...</td>\n",
       "      <td>https://miuz.ru/catalog/rings/R01-35499-W/</td>\n",
       "    </tr>\n",
       "    <tr>\n",
       "      <th>...</th>\n",
       "      <td>...</td>\n",
       "      <td>...</td>\n",
       "      <td>...</td>\n",
       "      <td>...</td>\n",
       "      <td>...</td>\n",
       "      <td>...</td>\n",
       "      <td>...</td>\n",
       "      <td>...</td>\n",
       "    </tr>\n",
       "    <tr>\n",
       "      <th>297</th>\n",
       "      <td>297</td>\n",
       "      <td>Кольцо c бриллиантами R2011-1851355AD</td>\n",
       "      <td>[&lt;span itemprop=\"name\"&gt;Артикул R2011-1851355AD...</td>\n",
       "      <td>131940.0</td>\n",
       "      <td>Золото 585</td>\n",
       "      <td>3.91</td>\n",
       "      <td>6  Бриллиантов огранки \"Круглая\" граней - 17, ...</td>\n",
       "      <td>https://miuz.ru/catalog/rings/R2011-1851355AD/</td>\n",
       "    </tr>\n",
       "    <tr>\n",
       "      <th>298</th>\n",
       "      <td>298</td>\n",
       "      <td>Кольцо c бриллиантами и изумрудами R2017-R3045...</td>\n",
       "      <td>[&lt;span itemprop=\"name\"&gt;Артикул R2017-R304551EM...</td>\n",
       "      <td>30597.0</td>\n",
       "      <td>Золото 585</td>\n",
       "      <td>2.70</td>\n",
       "      <td>42  Бриллианта огранки \"Круглая\" граней - 17, ...</td>\n",
       "      <td>https://miuz.ru/catalog/rings/R2017-R304551EMP...</td>\n",
       "    </tr>\n",
       "    <tr>\n",
       "      <th>299</th>\n",
       "      <td>299</td>\n",
       "      <td>Кольцо c бриллиантами и гранатом R2017-R305306...</td>\n",
       "      <td>[&lt;span itemprop=\"name\"&gt;Артикул R2017-R305306GA...</td>\n",
       "      <td>34196.0</td>\n",
       "      <td>Золото 585</td>\n",
       "      <td>3.24</td>\n",
       "      <td>36  Бриллиантов огранки \"Круглая\" граней - 17,...</td>\n",
       "      <td>https://miuz.ru/catalog/rings/R2017-R305306GAN...</td>\n",
       "    </tr>\n",
       "    <tr>\n",
       "      <th>300</th>\n",
       "      <td>300</td>\n",
       "      <td>Кольцо c бриллиантами и сапфиром R2017-BODD127...</td>\n",
       "      <td>[&lt;span itemprop=\"name\"&gt;Артикул R2017-BODD1270A...</td>\n",
       "      <td>22996.0</td>\n",
       "      <td>Золото 585</td>\n",
       "      <td>1.82</td>\n",
       "      <td>26  Бриллиантов огранки \"Круглая\" граней - 17,...</td>\n",
       "      <td>https://miuz.ru/catalog/rings/R2017-BODD1270A-...</td>\n",
       "    </tr>\n",
       "    <tr>\n",
       "      <th>301</th>\n",
       "      <td>301</td>\n",
       "      <td>Кольцо c топазом и бриллиантами R2017-R304362BKT</td>\n",
       "      <td>[&lt;span itemprop=\"name\"&gt;Артикул R2017-R304362BK...</td>\n",
       "      <td>18396.0</td>\n",
       "      <td>Золото 585</td>\n",
       "      <td>2.06</td>\n",
       "      <td>1  Топаз, 2.424 карат;10  Бриллиантов огранки ...</td>\n",
       "      <td>https://miuz.ru/catalog/rings/R2017-R304362BKT/</td>\n",
       "    </tr>\n",
       "  </tbody>\n",
       "</table>\n",
       "<p>302 rows × 8 columns</p>\n",
       "</div>"
      ],
      "text/plain": [
       "     Unnamed: 0                                                 h1  \\\n",
       "0             0              Кольцо c бриллиантом R01-SOL74-025-G2   \n",
       "1             1              Кольцо c бриллиантом R01-WED-00147-RW   \n",
       "2             2                Кольцо c бриллиантом R01-PL-34397-R   \n",
       "3             3              Кольцо c бриллиантами R01-WED-00032-R   \n",
       "4             4                  Кольцо c бриллиантами R01-35499-W   \n",
       "..          ...                                                ...   \n",
       "297         297              Кольцо c бриллиантами R2011-1851355AD   \n",
       "298         298  Кольцо c бриллиантами и изумрудами R2017-R3045...   \n",
       "299         299  Кольцо c бриллиантами и гранатом R2017-R305306...   \n",
       "300         300  Кольцо c бриллиантами и сапфиром R2017-BODD127...   \n",
       "301         301   Кольцо c топазом и бриллиантами R2017-R304362BKT   \n",
       "\n",
       "                                                   art     price        gold  \\\n",
       "0    [<span itemprop=\"name\">Артикул R01-SOL74-025-G...   57745.0  Золото 585   \n",
       "1    [<span itemprop=\"name\">Артикул R01-WED-00147-R...   33594.0  Золото 585   \n",
       "2    [<span itemprop=\"name\">Артикул R01-PL-34397-R<...   38094.0  Золото 585   \n",
       "3    [<span itemprop=\"name\">Артикул R01-WED-00032-R...   65940.0  Золото 585   \n",
       "4    [<span itemprop=\"name\">Артикул R01-35499-W</sp...  194994.0  Золото 585   \n",
       "..                                                 ...       ...         ...   \n",
       "297  [<span itemprop=\"name\">Артикул R2011-1851355AD...  131940.0  Золото 585   \n",
       "298  [<span itemprop=\"name\">Артикул R2017-R304551EM...   30597.0  Золото 585   \n",
       "299  [<span itemprop=\"name\">Артикул R2017-R305306GA...   34196.0  Золото 585   \n",
       "300  [<span itemprop=\"name\">Артикул R2017-BODD1270A...   22996.0  Золото 585   \n",
       "301  [<span itemprop=\"name\">Артикул R2017-R304362BK...   18396.0  Золото 585   \n",
       "\n",
       "     weight                                               gems  \\\n",
       "0      1.25  1  Бриллиант огранки \"Круглая\" граней - 57, ти...   \n",
       "1      1.89  1  Бриллиант огранки \"Круглая\" граней - 57, ти...   \n",
       "2      2.59  1  Бриллиант огранки \"Круглая\" граней - 57, ти...   \n",
       "3      3.64  2  Бриллианта огранки \"Круглая\" граней - 57, т...   \n",
       "4      3.98  9  Бриллиантов огранки \"Круглая\" граней - 57, ...   \n",
       "..      ...                                                ...   \n",
       "297    3.91  6  Бриллиантов огранки \"Круглая\" граней - 17, ...   \n",
       "298    2.70  42  Бриллианта огранки \"Круглая\" граней - 17, ...   \n",
       "299    3.24  36  Бриллиантов огранки \"Круглая\" граней - 17,...   \n",
       "300    1.82  26  Бриллиантов огранки \"Круглая\" граней - 17,...   \n",
       "301    2.06  1  Топаз, 2.424 карат;10  Бриллиантов огранки ...   \n",
       "\n",
       "                                                   url  \n",
       "0      https://miuz.ru/catalog/rings/R01-SOL74-025-G2/  \n",
       "1      https://miuz.ru/catalog/rings/R01-WED-00147-RW/  \n",
       "2        https://miuz.ru/catalog/rings/R01-PL-34397-R/  \n",
       "3       https://miuz.ru/catalog/rings/R01-WED-00032-R/  \n",
       "4           https://miuz.ru/catalog/rings/R01-35499-W/  \n",
       "..                                                 ...  \n",
       "297     https://miuz.ru/catalog/rings/R2011-1851355AD/  \n",
       "298  https://miuz.ru/catalog/rings/R2017-R304551EMP...  \n",
       "299  https://miuz.ru/catalog/rings/R2017-R305306GAN...  \n",
       "300  https://miuz.ru/catalog/rings/R2017-BODD1270A-...  \n",
       "301    https://miuz.ru/catalog/rings/R2017-R304362BKT/  \n",
       "\n",
       "[302 rows x 8 columns]"
      ]
     },
     "execution_count": 15,
     "metadata": {},
     "output_type": "execute_result"
    }
   ],
   "source": [
    "raw"
   ]
  },
  {
   "cell_type": "code",
   "execution_count": 16,
   "metadata": {},
   "outputs": [],
   "source": [
    "#for all\n",
    "jewellery = raw"
   ]
  },
  {
   "cell_type": "code",
   "execution_count": 17,
   "metadata": {},
   "outputs": [],
   "source": [
    "jewellery['checklog'] = ''\n",
    "#jewellery['filname'] = filename"
   ]
  },
  {
   "cell_type": "code",
   "execution_count": 20,
   "metadata": {
    "scrolled": true
   },
   "outputs": [],
   "source": [
    "jewellery.loc[jewellery.gems.isna()].to_excel(sourcepath+'_failed_from'+filenamep+'.xlsx')"
   ]
  },
  {
   "cell_type": "code",
   "execution_count": 28,
   "metadata": {},
   "outputs": [],
   "source": [
    "jewellery = jewellery.loc[~jewellery.gems.isna()].copy()"
   ]
  },
  {
   "cell_type": "markdown",
   "metadata": {},
   "source": [
    "# Выделение наполнение vstavki "
   ]
  },
  {
   "cell_type": "code",
   "execution_count": 31,
   "metadata": {},
   "outputs": [],
   "source": [
    "pd.options.display.max_colwidth = 200"
   ]
  },
  {
   "cell_type": "code",
   "execution_count": 33,
   "metadata": {},
   "outputs": [],
   "source": [
    "jewellery['gems_list'] = jewellery.gems.apply(lambda x: re.split(r\";\", x))"
   ]
  },
  {
   "cell_type": "code",
   "execution_count": 37,
   "metadata": {},
   "outputs": [
    {
     "data": {
      "text/plain": [
       "['1  Бриллиант огранки \"Круглая\" граней - 57, тип огранки A, цвет 3, чистота 6, 0.06 карат',\n",
       " '']"
      ]
     },
     "execution_count": 37,
     "metadata": {},
     "output_type": "execute_result"
    }
   ],
   "source": [
    "jewellery.loc[1,'gems_list']"
   ]
  },
  {
   "cell_type": "code",
   "execution_count": 38,
   "metadata": {},
   "outputs": [],
   "source": [
    "#TODO how to drop the [''] in re.split?"
   ]
  },
  {
   "cell_type": "code",
   "execution_count": 39,
   "metadata": {},
   "outputs": [],
   "source": [
    "vstavki = jewellery.copy()"
   ]
  },
  {
   "cell_type": "code",
   "execution_count": 40,
   "metadata": {},
   "outputs": [
    {
     "name": "stdout",
     "output_type": "stream",
     "text": [
      "<class 'pandas.core.frame.DataFrame'>\n",
      "Int64Index: 236 entries, 0 to 301\n",
      "Data columns (total 10 columns):\n",
      " #   Column      Non-Null Count  Dtype  \n",
      "---  ------      --------------  -----  \n",
      " 0   Unnamed: 0  236 non-null    int64  \n",
      " 1   h1          236 non-null    object \n",
      " 2   art         236 non-null    object \n",
      " 3   price       236 non-null    float64\n",
      " 4   gold        236 non-null    object \n",
      " 5   weight      236 non-null    float64\n",
      " 6   gems        236 non-null    object \n",
      " 7   url         236 non-null    object \n",
      " 8   checklog    236 non-null    object \n",
      " 9   gems_list   236 non-null    object \n",
      "dtypes: float64(2), int64(1), object(7)\n",
      "memory usage: 30.3+ KB\n"
     ]
    }
   ],
   "source": [
    "vstavki.info()"
   ]
  },
  {
   "cell_type": "code",
   "execution_count": 44,
   "metadata": {},
   "outputs": [],
   "source": [
    "vstavki = vstavki.explode('gems_list')#.dropna(subset = ['gems_list'])"
   ]
  },
  {
   "cell_type": "code",
   "execution_count": 51,
   "metadata": {},
   "outputs": [],
   "source": [
    "vstavki = vstavki.loc[~(vstavki.gems_list == '')]"
   ]
  },
  {
   "cell_type": "code",
   "execution_count": 54,
   "metadata": {},
   "outputs": [
    {
     "data": {
      "text/plain": [
       "9              6  Изумрудов огранки \"Круглая\", цвет 3, чистота 3, 0.352 карат\n",
       "12              10  Рубинов огранки \"Квадрат\", цвет 3, чистота 3, 1.288 карат\n",
       "17      1  Сапфир огранки \"Груша\" граней - 56, цвет 3, чистота 3, 0.284 карат\n",
       "17     2  Сапфира огранки \"Груша\" граней - 56, цвет 3, чистота 3, 1.047 карат\n",
       "18                                    1  Аквамарин огранки \"Овал\", 0.65 карат\n",
       "                                        ...                                  \n",
       "298               1  Изумруд огранки \"Маркиз\", цвет 3, чистота 3, 0.221 карат\n",
       "298                 1  Изумруд огранки \"Овал\", цвет 3, чистота 3, 0.436 карат\n",
       "299                                                    1  Гранат, 1.733 карат\n",
       "300                      1  Сапфир огранки \"Маркиз\", цвет Черный, 0.476 карат\n",
       "301                                                     1  Топаз, 2.424 карат\n",
       "Name: gems_list, Length: 166, dtype: object"
      ]
     },
     "execution_count": 54,
     "metadata": {},
     "output_type": "execute_result"
    }
   ],
   "source": [
    "vstavki.gems_list.loc[~vstavki.gems_list.str.contains('Бриллиант')]"
   ]
  },
  {
   "cell_type": "code",
   "execution_count": 55,
   "metadata": {},
   "outputs": [
    {
     "data": {
      "text/plain": [
       "0          1  Бриллиант огранки \"Круглая\" граней - 57, тип огранки A, цвет 3, чистота 7, 0.24 карат\n",
       "1          1  Бриллиант огранки \"Круглая\" граней - 57, тип огранки A, цвет 3, чистота 6, 0.06 карат\n",
       "2          1  Бриллиант огранки \"Круглая\" граней - 57, тип огранки A, цвет 3, чистота 6, 0.03 карат\n",
       "3         2  Бриллианта огранки \"Круглая\" граней - 57, тип огранки A, цвет 3, чистота 6, 0.04 карат\n",
       "3         4  Бриллианта огранки \"Круглая\" граней - 57, тип огранки A, цвет 3, чистота 6, 0.12 карат\n",
       "                                                   ...                                             \n",
       "297        1  Бриллиант огранки \"Круглая\" граней - 57, тип огранки A, цвет 3, чистота 6, 0.15 карат\n",
       "298     42  Бриллианта огранки \"Круглая\" граней - 17, тип огранки A, цвет 3, чистота 4, 0.085 карат\n",
       "299    36  Бриллиантов огранки \"Круглая\" граней - 17, тип огранки A, цвет 3, чистота 4, 0.079 карат\n",
       "300    26  Бриллиантов огранки \"Круглая\" граней - 17, тип огранки A, цвет 3, чистота 4, 0.053 карат\n",
       "301    10  Бриллиантов огранки \"Круглая\" граней - 17, тип огранки A, цвет 3, чистота 4, 0.032 карат\n",
       "Name: gems_list, Length: 359, dtype: object"
      ]
     },
     "execution_count": 55,
     "metadata": {},
     "output_type": "execute_result"
    }
   ],
   "source": [
    "vstavki.gems_list.loc[vstavki.gems_list.str.contains('Бриллиант')]"
   ]
  },
  {
   "cell_type": "code",
   "execution_count": 58,
   "metadata": {},
   "outputs": [],
   "source": [
    "lt = '1 Бриллиант огранки \"Круглая\" граней - 57, тип огранки A, цвет 3, чистота 7, 0.24 карат'.split(',')"
   ]
  },
  {
   "cell_type": "code",
   "execution_count": null,
   "metadata": {},
   "outputs": [],
   "source": [
    "  1  Аквамарин огранки \"Овал\", 0.65 карат"
   ]
  },
  {
   "cell_type": "code",
   "execution_count": 71,
   "metadata": {},
   "outputs": [],
   "source": [
    "pattern_miuz1 = r\"\"\"(?ix)(?P<n>\\d{1,4})\\s+(?P<gem>Бриллиант\\w*)\\s+огранки\\s+\"\n",
    "                    (?P<form>[\\W\\w]+)\"[\\s\\w-\\d]+(?P<gran>\\d+)\"\"\""
   ]
  },
  {
   "cell_type": "code",
   "execution_count": 59,
   "metadata": {},
   "outputs": [
    {
     "data": {
      "text/plain": [
       "'1 Бриллиант огранки \"Круглая\" граней - 57'"
      ]
     },
     "execution_count": 59,
     "metadata": {},
     "output_type": "execute_result"
    }
   ],
   "source": [
    "lt[0]"
   ]
  },
  {
   "cell_type": "code",
   "execution_count": 72,
   "metadata": {},
   "outputs": [
    {
     "ename": "error",
     "evalue": "bad character range \\w-^ at position 99 (line 2, column 42)",
     "output_type": "error",
     "traceback": [
      "\u001b[0;31m---------------------------------------------------------------------------\u001b[0m",
      "\u001b[0;31mVerbose\u001b[0m                                   Traceback (most recent call last)",
      "\u001b[0;32m~/anaconda3/lib/python3.6/sre_parse.py\u001b[0m in \u001b[0;36mparse\u001b[0;34m(str, flags, pattern)\u001b[0m\n\u001b[1;32m    854\u001b[0m     \u001b[0;32mtry\u001b[0m\u001b[0;34m:\u001b[0m\u001b[0;34m\u001b[0m\u001b[0m\n\u001b[0;32m--> 855\u001b[0;31m         \u001b[0mp\u001b[0m \u001b[0;34m=\u001b[0m \u001b[0m_parse_sub\u001b[0m\u001b[0;34m(\u001b[0m\u001b[0msource\u001b[0m\u001b[0;34m,\u001b[0m \u001b[0mpattern\u001b[0m\u001b[0;34m,\u001b[0m \u001b[0mflags\u001b[0m \u001b[0;34m&\u001b[0m \u001b[0mSRE_FLAG_VERBOSE\u001b[0m\u001b[0;34m,\u001b[0m \u001b[0;36m0\u001b[0m\u001b[0;34m)\u001b[0m\u001b[0;34m\u001b[0m\u001b[0m\n\u001b[0m\u001b[1;32m    856\u001b[0m     \u001b[0;32mexcept\u001b[0m \u001b[0mVerbose\u001b[0m\u001b[0;34m:\u001b[0m\u001b[0;34m\u001b[0m\u001b[0m\n",
      "\u001b[0;32m~/anaconda3/lib/python3.6/sre_parse.py\u001b[0m in \u001b[0;36m_parse_sub\u001b[0;34m(source, state, verbose, nested)\u001b[0m\n\u001b[1;32m    415\u001b[0m         itemsappend(_parse(source, state, verbose, nested + 1,\n\u001b[0;32m--> 416\u001b[0;31m                            not nested and not items))\n\u001b[0m\u001b[1;32m    417\u001b[0m         \u001b[0;32mif\u001b[0m \u001b[0;32mnot\u001b[0m \u001b[0msourcematch\u001b[0m\u001b[0;34m(\u001b[0m\u001b[0;34m\"|\"\u001b[0m\u001b[0;34m)\u001b[0m\u001b[0;34m:\u001b[0m\u001b[0;34m\u001b[0m\u001b[0m\n",
      "\u001b[0;32m~/anaconda3/lib/python3.6/sre_parse.py\u001b[0m in \u001b[0;36m_parse\u001b[0;34m(source, state, verbose, nested, first)\u001b[0m\n\u001b[1;32m    745\u001b[0m                         \u001b[0;32mif\u001b[0m \u001b[0;34m(\u001b[0m\u001b[0mstate\u001b[0m\u001b[0;34m.\u001b[0m\u001b[0mflags\u001b[0m \u001b[0;34m&\u001b[0m \u001b[0mSRE_FLAG_VERBOSE\u001b[0m\u001b[0;34m)\u001b[0m \u001b[0;32mand\u001b[0m \u001b[0;32mnot\u001b[0m \u001b[0mverbose\u001b[0m\u001b[0;34m:\u001b[0m\u001b[0;34m\u001b[0m\u001b[0m\n\u001b[0;32m--> 746\u001b[0;31m                             \u001b[0;32mraise\u001b[0m \u001b[0mVerbose\u001b[0m\u001b[0;34m\u001b[0m\u001b[0m\n\u001b[0m\u001b[1;32m    747\u001b[0m                         \u001b[0;32mcontinue\u001b[0m\u001b[0;34m\u001b[0m\u001b[0m\n",
      "\u001b[0;31mVerbose\u001b[0m: ",
      "\nDuring handling of the above exception, another exception occurred:\n",
      "\u001b[0;31merror\u001b[0m                                     Traceback (most recent call last)",
      "\u001b[0;32m<ipython-input-72-6266a1da74c3>\u001b[0m in \u001b[0;36m<module>\u001b[0;34m()\u001b[0m\n\u001b[0;32m----> 1\u001b[0;31m \u001b[0mre\u001b[0m\u001b[0;34m.\u001b[0m\u001b[0mfindall\u001b[0m\u001b[0;34m(\u001b[0m\u001b[0mpattern_miuz1\u001b[0m\u001b[0;34m,\u001b[0m\u001b[0mlt\u001b[0m\u001b[0;34m[\u001b[0m\u001b[0;36m0\u001b[0m\u001b[0;34m]\u001b[0m\u001b[0;34m)\u001b[0m\u001b[0;34m\u001b[0m\u001b[0m\n\u001b[0m",
      "\u001b[0;32m~/anaconda3/lib/python3.6/re.py\u001b[0m in \u001b[0;36mfindall\u001b[0;34m(pattern, string, flags)\u001b[0m\n\u001b[1;32m    220\u001b[0m \u001b[0;34m\u001b[0m\u001b[0m\n\u001b[1;32m    221\u001b[0m     Empty matches are included in the result.\"\"\"\n\u001b[0;32m--> 222\u001b[0;31m     \u001b[0;32mreturn\u001b[0m \u001b[0m_compile\u001b[0m\u001b[0;34m(\u001b[0m\u001b[0mpattern\u001b[0m\u001b[0;34m,\u001b[0m \u001b[0mflags\u001b[0m\u001b[0;34m)\u001b[0m\u001b[0;34m.\u001b[0m\u001b[0mfindall\u001b[0m\u001b[0;34m(\u001b[0m\u001b[0mstring\u001b[0m\u001b[0;34m)\u001b[0m\u001b[0;34m\u001b[0m\u001b[0m\n\u001b[0m\u001b[1;32m    223\u001b[0m \u001b[0;34m\u001b[0m\u001b[0m\n\u001b[1;32m    224\u001b[0m \u001b[0;32mdef\u001b[0m \u001b[0mfinditer\u001b[0m\u001b[0;34m(\u001b[0m\u001b[0mpattern\u001b[0m\u001b[0;34m,\u001b[0m \u001b[0mstring\u001b[0m\u001b[0;34m,\u001b[0m \u001b[0mflags\u001b[0m\u001b[0;34m=\u001b[0m\u001b[0;36m0\u001b[0m\u001b[0;34m)\u001b[0m\u001b[0;34m:\u001b[0m\u001b[0;34m\u001b[0m\u001b[0m\n",
      "\u001b[0;32m~/anaconda3/lib/python3.6/re.py\u001b[0m in \u001b[0;36m_compile\u001b[0;34m(pattern, flags)\u001b[0m\n\u001b[1;32m    299\u001b[0m     \u001b[0;32mif\u001b[0m \u001b[0;32mnot\u001b[0m \u001b[0msre_compile\u001b[0m\u001b[0;34m.\u001b[0m\u001b[0misstring\u001b[0m\u001b[0;34m(\u001b[0m\u001b[0mpattern\u001b[0m\u001b[0;34m)\u001b[0m\u001b[0;34m:\u001b[0m\u001b[0;34m\u001b[0m\u001b[0m\n\u001b[1;32m    300\u001b[0m         \u001b[0;32mraise\u001b[0m \u001b[0mTypeError\u001b[0m\u001b[0;34m(\u001b[0m\u001b[0;34m\"first argument must be string or compiled pattern\"\u001b[0m\u001b[0;34m)\u001b[0m\u001b[0;34m\u001b[0m\u001b[0m\n\u001b[0;32m--> 301\u001b[0;31m     \u001b[0mp\u001b[0m \u001b[0;34m=\u001b[0m \u001b[0msre_compile\u001b[0m\u001b[0;34m.\u001b[0m\u001b[0mcompile\u001b[0m\u001b[0;34m(\u001b[0m\u001b[0mpattern\u001b[0m\u001b[0;34m,\u001b[0m \u001b[0mflags\u001b[0m\u001b[0;34m)\u001b[0m\u001b[0;34m\u001b[0m\u001b[0m\n\u001b[0m\u001b[1;32m    302\u001b[0m     \u001b[0;32mif\u001b[0m \u001b[0;32mnot\u001b[0m \u001b[0;34m(\u001b[0m\u001b[0mflags\u001b[0m \u001b[0;34m&\u001b[0m \u001b[0mDEBUG\u001b[0m\u001b[0;34m)\u001b[0m\u001b[0;34m:\u001b[0m\u001b[0;34m\u001b[0m\u001b[0m\n\u001b[1;32m    303\u001b[0m         \u001b[0;32mif\u001b[0m \u001b[0mlen\u001b[0m\u001b[0;34m(\u001b[0m\u001b[0m_cache\u001b[0m\u001b[0;34m)\u001b[0m \u001b[0;34m>=\u001b[0m \u001b[0m_MAXCACHE\u001b[0m\u001b[0;34m:\u001b[0m\u001b[0;34m\u001b[0m\u001b[0m\n",
      "\u001b[0;32m~/anaconda3/lib/python3.6/sre_compile.py\u001b[0m in \u001b[0;36mcompile\u001b[0;34m(p, flags)\u001b[0m\n\u001b[1;32m    560\u001b[0m     \u001b[0;32mif\u001b[0m \u001b[0misstring\u001b[0m\u001b[0;34m(\u001b[0m\u001b[0mp\u001b[0m\u001b[0;34m)\u001b[0m\u001b[0;34m:\u001b[0m\u001b[0;34m\u001b[0m\u001b[0m\n\u001b[1;32m    561\u001b[0m         \u001b[0mpattern\u001b[0m \u001b[0;34m=\u001b[0m \u001b[0mp\u001b[0m\u001b[0;34m\u001b[0m\u001b[0m\n\u001b[0;32m--> 562\u001b[0;31m         \u001b[0mp\u001b[0m \u001b[0;34m=\u001b[0m \u001b[0msre_parse\u001b[0m\u001b[0;34m.\u001b[0m\u001b[0mparse\u001b[0m\u001b[0;34m(\u001b[0m\u001b[0mp\u001b[0m\u001b[0;34m,\u001b[0m \u001b[0mflags\u001b[0m\u001b[0;34m)\u001b[0m\u001b[0;34m\u001b[0m\u001b[0m\n\u001b[0m\u001b[1;32m    563\u001b[0m     \u001b[0;32melse\u001b[0m\u001b[0;34m:\u001b[0m\u001b[0;34m\u001b[0m\u001b[0m\n\u001b[1;32m    564\u001b[0m         \u001b[0mpattern\u001b[0m \u001b[0;34m=\u001b[0m \u001b[0;32mNone\u001b[0m\u001b[0;34m\u001b[0m\u001b[0m\n",
      "\u001b[0;32m~/anaconda3/lib/python3.6/sre_parse.py\u001b[0m in \u001b[0;36mparse\u001b[0;34m(str, flags, pattern)\u001b[0m\n\u001b[1;32m    861\u001b[0m         \u001b[0mpattern\u001b[0m\u001b[0;34m.\u001b[0m\u001b[0mstr\u001b[0m \u001b[0;34m=\u001b[0m \u001b[0mstr\u001b[0m\u001b[0;34m\u001b[0m\u001b[0m\n\u001b[1;32m    862\u001b[0m         \u001b[0msource\u001b[0m\u001b[0;34m.\u001b[0m\u001b[0mseek\u001b[0m\u001b[0;34m(\u001b[0m\u001b[0;36m0\u001b[0m\u001b[0;34m)\u001b[0m\u001b[0;34m\u001b[0m\u001b[0m\n\u001b[0;32m--> 863\u001b[0;31m         \u001b[0mp\u001b[0m \u001b[0;34m=\u001b[0m \u001b[0m_parse_sub\u001b[0m\u001b[0;34m(\u001b[0m\u001b[0msource\u001b[0m\u001b[0;34m,\u001b[0m \u001b[0mpattern\u001b[0m\u001b[0;34m,\u001b[0m \u001b[0;32mTrue\u001b[0m\u001b[0;34m,\u001b[0m \u001b[0;36m0\u001b[0m\u001b[0;34m)\u001b[0m\u001b[0;34m\u001b[0m\u001b[0m\n\u001b[0m\u001b[1;32m    864\u001b[0m \u001b[0;34m\u001b[0m\u001b[0m\n\u001b[1;32m    865\u001b[0m     \u001b[0mp\u001b[0m\u001b[0;34m.\u001b[0m\u001b[0mpattern\u001b[0m\u001b[0;34m.\u001b[0m\u001b[0mflags\u001b[0m \u001b[0;34m=\u001b[0m \u001b[0mfix_flags\u001b[0m\u001b[0;34m(\u001b[0m\u001b[0mstr\u001b[0m\u001b[0;34m,\u001b[0m \u001b[0mp\u001b[0m\u001b[0;34m.\u001b[0m\u001b[0mpattern\u001b[0m\u001b[0;34m.\u001b[0m\u001b[0mflags\u001b[0m\u001b[0;34m)\u001b[0m\u001b[0;34m\u001b[0m\u001b[0m\n",
      "\u001b[0;32m~/anaconda3/lib/python3.6/sre_parse.py\u001b[0m in \u001b[0;36m_parse_sub\u001b[0;34m(source, state, verbose, nested)\u001b[0m\n\u001b[1;32m    414\u001b[0m     \u001b[0;32mwhile\u001b[0m \u001b[0;32mTrue\u001b[0m\u001b[0;34m:\u001b[0m\u001b[0;34m\u001b[0m\u001b[0m\n\u001b[1;32m    415\u001b[0m         itemsappend(_parse(source, state, verbose, nested + 1,\n\u001b[0;32m--> 416\u001b[0;31m                            not nested and not items))\n\u001b[0m\u001b[1;32m    417\u001b[0m         \u001b[0;32mif\u001b[0m \u001b[0;32mnot\u001b[0m \u001b[0msourcematch\u001b[0m\u001b[0;34m(\u001b[0m\u001b[0;34m\"|\"\u001b[0m\u001b[0;34m)\u001b[0m\u001b[0;34m:\u001b[0m\u001b[0;34m\u001b[0m\u001b[0m\n\u001b[1;32m    418\u001b[0m             \u001b[0;32mbreak\u001b[0m\u001b[0;34m\u001b[0m\u001b[0m\n",
      "\u001b[0;32m~/anaconda3/lib/python3.6/sre_parse.py\u001b[0m in \u001b[0;36m_parse\u001b[0;34m(source, state, verbose, nested, first)\u001b[0m\n\u001b[1;32m    546\u001b[0m                     \u001b[0;32mif\u001b[0m \u001b[0mcode1\u001b[0m\u001b[0;34m[\u001b[0m\u001b[0;36m0\u001b[0m\u001b[0;34m]\u001b[0m \u001b[0;34m!=\u001b[0m \u001b[0mLITERAL\u001b[0m \u001b[0;32mor\u001b[0m \u001b[0mcode2\u001b[0m\u001b[0;34m[\u001b[0m\u001b[0;36m0\u001b[0m\u001b[0;34m]\u001b[0m \u001b[0;34m!=\u001b[0m \u001b[0mLITERAL\u001b[0m\u001b[0;34m:\u001b[0m\u001b[0;34m\u001b[0m\u001b[0m\n\u001b[1;32m    547\u001b[0m                         \u001b[0mmsg\u001b[0m \u001b[0;34m=\u001b[0m \u001b[0;34m\"bad character range %s-%s\"\u001b[0m \u001b[0;34m%\u001b[0m \u001b[0;34m(\u001b[0m\u001b[0mthis\u001b[0m\u001b[0;34m,\u001b[0m \u001b[0mthat\u001b[0m\u001b[0;34m)\u001b[0m\u001b[0;34m\u001b[0m\u001b[0m\n\u001b[0;32m--> 548\u001b[0;31m                         \u001b[0;32mraise\u001b[0m \u001b[0msource\u001b[0m\u001b[0;34m.\u001b[0m\u001b[0merror\u001b[0m\u001b[0;34m(\u001b[0m\u001b[0mmsg\u001b[0m\u001b[0;34m,\u001b[0m \u001b[0mlen\u001b[0m\u001b[0;34m(\u001b[0m\u001b[0mthis\u001b[0m\u001b[0;34m)\u001b[0m \u001b[0;34m+\u001b[0m \u001b[0;36m1\u001b[0m \u001b[0;34m+\u001b[0m \u001b[0mlen\u001b[0m\u001b[0;34m(\u001b[0m\u001b[0mthat\u001b[0m\u001b[0;34m)\u001b[0m\u001b[0;34m)\u001b[0m\u001b[0;34m\u001b[0m\u001b[0m\n\u001b[0m\u001b[1;32m    549\u001b[0m                     \u001b[0mlo\u001b[0m \u001b[0;34m=\u001b[0m \u001b[0mcode1\u001b[0m\u001b[0;34m[\u001b[0m\u001b[0;36m1\u001b[0m\u001b[0;34m]\u001b[0m\u001b[0;34m\u001b[0m\u001b[0m\n\u001b[1;32m    550\u001b[0m                     \u001b[0mhi\u001b[0m \u001b[0;34m=\u001b[0m \u001b[0mcode2\u001b[0m\u001b[0;34m[\u001b[0m\u001b[0;36m1\u001b[0m\u001b[0;34m]\u001b[0m\u001b[0;34m\u001b[0m\u001b[0m\n",
      "\u001b[0;31merror\u001b[0m: bad character range \\w-^ at position 99 (line 2, column 42)"
     ]
    }
   ],
   "source": [
    "re.findall(pattern_miuz1,lt[0])"
   ]
  },
  {
   "cell_type": "code",
   "execution_count": 18,
   "metadata": {},
   "outputs": [],
   "source": [
    "patternD = r\"\"\"(?ix)(?P<N>\\d*)[-_\\s]*(?P<Form>[A-яA-z]+[-\\s]?\\d*)[\\s-]+    # штуки огранка\n",
    "               (?P<Carat>\\d\\d?[.,]?\\d*)[\\s-]+                                 # карат\n",
    "               (?P<ColQ>\\d+[.-]?\\d?[ /]+(?:7[aAаА]|\\d\\d?))[\\s-]*           # ц/д\n",
    "               (?P<PO>[aAаАбБвВгГbB]+)                                     # по\"\"\""
   ]
  },
  {
   "cell_type": "code",
   "execution_count": 19,
   "metadata": {},
   "outputs": [],
   "source": [
    "patternG3 = r'''(?ix)(\\d*[-_\\s]*[A-яA-z]{3,15}[\\s-]+\\d[.,]?\\d*[\\s-]+ \\d\\d?[ /]+\\d\\d?\n",
    "                      | \\d*[-_\\s]*[A-яA-z]{3,15}[\\s-]+\\d{0,2}[.,]?\\d{0,3}[\\s-]+ [\\d\\w]{0,4}[ /]+[\\d\\w]{0,4}\\s\n",
    "                      |  \\d{0,2}[-_\\s]{0,2}[A-яA-z]{3,15}[\\s-]?(?:\\d{1,2}[.,]+\\d{1,3})?)'''"
   ]
  },
  {
   "cell_type": "code",
   "execution_count": null,
   "metadata": {},
   "outputs": [],
   "source": []
  },
  {
   "cell_type": "code",
   "execution_count": 20,
   "metadata": {},
   "outputs": [],
   "source": [
    "patternG = r'''(?ix)(?P<Gem>[A-яA-z]{3,15})'''"
   ]
  },
  {
   "cell_type": "code",
   "execution_count": null,
   "metadata": {},
   "outputs": [],
   "source": [
    "#checkfile = pd.DataFrame(columns=['v','gem','d'])\n",
    "#for v in vstavki.vstavki.dropna().unique():\n",
    "#    print(v, '--', re.findall(patternG3,v), '--', re.findall(patternD,v),end = '\\n\\n')\n",
    "#    checkfile.loc[len(checkfile)] = [v, re.findall(patternG3,v), re.findall(patternD,v) ]"
   ]
  },
  {
   "cell_type": "code",
   "execution_count": null,
   "metadata": {},
   "outputs": [],
   "source": [
    "#checkfile.to_excel('res/check'+filenamep+'5.xlsx')"
   ]
  },
  {
   "cell_type": "markdown",
   "metadata": {},
   "source": [
    "### Распознавание"
   ]
  },
  {
   "cell_type": "code",
   "execution_count": 21,
   "metadata": {},
   "outputs": [],
   "source": [
    "pd.options.display.max_colwidth = 200"
   ]
  },
  {
   "cell_type": "code",
   "execution_count": 22,
   "metadata": {},
   "outputs": [],
   "source": [
    "vstavki['vs_dict'] = vstavki.vstavki.apply(lambda x: re.findall(patternD, x) if not pd.isna(x) else '')"
   ]
  },
  {
   "cell_type": "code",
   "execution_count": 23,
   "metadata": {},
   "outputs": [],
   "source": [
    "vstavki['gem'] = vstavki.vstavki.apply(lambda x: re.findall(patternG3, x) if not pd.isna(x) else '')"
   ]
  },
  {
   "cell_type": "code",
   "execution_count": 24,
   "metadata": {},
   "outputs": [
    {
     "data": {
      "text/plain": [
       "27521"
      ]
     },
     "execution_count": 24,
     "metadata": {},
     "output_type": "execute_result"
    }
   ],
   "source": [
    "len(vstavki)"
   ]
  },
  {
   "cell_type": "code",
   "execution_count": 25,
   "metadata": {},
   "outputs": [
    {
     "data": {
      "text/plain": [
       "27521"
      ]
     },
     "execution_count": 25,
     "metadata": {},
     "output_type": "execute_result"
    }
   ],
   "source": [
    "len(jewellery)"
   ]
  },
  {
   "cell_type": "code",
   "execution_count": 26,
   "metadata": {},
   "outputs": [],
   "source": [
    "jewellery['vs_dict'] = vstavki['vs_dict']\n",
    "jewellery['gem'] = vstavki['gem']"
   ]
  },
  {
   "cell_type": "code",
   "execution_count": null,
   "metadata": {},
   "outputs": [],
   "source": [
    "#temp замена значения так работает\n",
    "#vstavki.loc[vstavki.vstavki == '1Кр57-0,080-5/5А 2Кр57-0,0304/3А','vstavki'] = '1Кр57-0,080-5/5А 2Кр57-0,03 4/3А'"
   ]
  },
  {
   "cell_type": "code",
   "execution_count": null,
   "metadata": {
    "scrolled": true
   },
   "outputs": [],
   "source": [
    "#vstavki[['vstavki','vs_dict','gem']]#'lendict','lenperone','lensourse']]"
   ]
  },
  {
   "cell_type": "code",
   "execution_count": null,
   "metadata": {},
   "outputs": [],
   "source": [
    "#vstavki.loc[~pd.isnull(vstavki.vstavki),:]"
   ]
  },
  {
   "cell_type": "code",
   "execution_count": null,
   "metadata": {},
   "outputs": [],
   "source": [
    "#vstavki.loc[:,'vs_dict']!= []\n",
    "#vstavki.loc[(vstavki.vstavki!=[]),:]"
   ]
  },
  {
   "cell_type": "markdown",
   "metadata": {},
   "source": [
    "### CHECK!!! DROP ALL WHEN no vst"
   ]
  },
  {
   "cell_type": "code",
   "execution_count": 27,
   "metadata": {},
   "outputs": [],
   "source": [
    "vstavki = vstavki.dropna(subset = ['vstavki']).copy()\n",
    "#vstavki[~(vstavki.vs_dict == '')].dropna(subset = ['vstavki'])#.copy()\n",
    "#(vstavki.vs_dict!='')|"
   ]
  },
  {
   "cell_type": "markdown",
   "metadata": {},
   "source": [
    "### Проверка 0  по длине строки вставки и количества распознанных строк + пропуск брилл"
   ]
  },
  {
   "cell_type": "code",
   "execution_count": 28,
   "metadata": {},
   "outputs": [],
   "source": [
    "vstavki['lensourse'] = vstavki.vstavki.apply(lambda x: len(x))\n",
    "vstavki['lendictgem'] = vstavki.gem.apply(lambda x: sum([len(y) for y in x]))"
   ]
  },
  {
   "cell_type": "code",
   "execution_count": 29,
   "metadata": {},
   "outputs": [],
   "source": [
    "vstavki['lendict'] = vstavki.vs_dict.apply(lambda x: len(x))"
   ]
  },
  {
   "cell_type": "code",
   "execution_count": 30,
   "metadata": {},
   "outputs": [
    {
     "data": {
      "text/html": [
       "<div>\n",
       "<style scoped>\n",
       "    .dataframe tbody tr th:only-of-type {\n",
       "        vertical-align: middle;\n",
       "    }\n",
       "\n",
       "    .dataframe tbody tr th {\n",
       "        vertical-align: top;\n",
       "    }\n",
       "\n",
       "    .dataframe thead th {\n",
       "        text-align: right;\n",
       "    }\n",
       "</style>\n",
       "<table border=\"1\" class=\"dataframe\">\n",
       "  <thead>\n",
       "    <tr style=\"text-align: right;\">\n",
       "      <th></th>\n",
       "      <th>gem</th>\n",
       "      <th>lendictgem</th>\n",
       "    </tr>\n",
       "  </thead>\n",
       "  <tbody>\n",
       "    <tr>\n",
       "      <th>0</th>\n",
       "      <td>[]</td>\n",
       "      <td>0</td>\n",
       "    </tr>\n",
       "    <tr>\n",
       "      <th>1</th>\n",
       "      <td>[]</td>\n",
       "      <td>0</td>\n",
       "    </tr>\n",
       "    <tr>\n",
       "      <th>2</th>\n",
       "      <td>[]</td>\n",
       "      <td>0</td>\n",
       "    </tr>\n",
       "    <tr>\n",
       "      <th>3</th>\n",
       "      <td>[]</td>\n",
       "      <td>0</td>\n",
       "    </tr>\n",
       "    <tr>\n",
       "      <th>4</th>\n",
       "      <td>[]</td>\n",
       "      <td>0</td>\n",
       "    </tr>\n",
       "    <tr>\n",
       "      <th>...</th>\n",
       "      <td>...</td>\n",
       "      <td>...</td>\n",
       "    </tr>\n",
       "    <tr>\n",
       "      <th>27516</th>\n",
       "      <td>[Чароит , Аметист]</td>\n",
       "      <td>14</td>\n",
       "    </tr>\n",
       "    <tr>\n",
       "      <th>27517</th>\n",
       "      <td>[Чароит , Аметист]</td>\n",
       "      <td>14</td>\n",
       "    </tr>\n",
       "    <tr>\n",
       "      <th>27518</th>\n",
       "      <td>[Гранат , Фианит]</td>\n",
       "      <td>13</td>\n",
       "    </tr>\n",
       "    <tr>\n",
       "      <th>27519</th>\n",
       "      <td>[Танзанит]</td>\n",
       "      <td>8</td>\n",
       "    </tr>\n",
       "    <tr>\n",
       "      <th>27520</th>\n",
       "      <td>[Танзанит]</td>\n",
       "      <td>8</td>\n",
       "    </tr>\n",
       "  </tbody>\n",
       "</table>\n",
       "<p>22480 rows × 2 columns</p>\n",
       "</div>"
      ],
      "text/plain": [
       "                      gem  lendictgem\n",
       "0                      []           0\n",
       "1                      []           0\n",
       "2                      []           0\n",
       "3                      []           0\n",
       "4                      []           0\n",
       "...                   ...         ...\n",
       "27516  [Чароит , Аметист]          14\n",
       "27517  [Чароит , Аметист]          14\n",
       "27518   [Гранат , Фианит]          13\n",
       "27519          [Танзанит]           8\n",
       "27520          [Танзанит]           8\n",
       "\n",
       "[22480 rows x 2 columns]"
      ]
     },
     "execution_count": 30,
     "metadata": {},
     "output_type": "execute_result"
    }
   ],
   "source": [
    "vstavki[['gem','lendictgem']]"
   ]
  },
  {
   "cell_type": "code",
   "execution_count": 31,
   "metadata": {},
   "outputs": [
    {
     "data": {
      "text/plain": [
       "array(['Рубин', 'Фианит', 'Гранат', 'ТопазГ Фианит', 'ТопазГ', 'ЖемчугЧ',\n",
       "       'Гранат Фианит', 'Хризолит Фианит', 'Цитрин Фианит',\n",
       "       'Шпинель Фианит', 'Раухтопаз Фианит', 'Аметист Фианит',\n",
       "       'ЖемчугЧ Фианит', 'ЖемчугБ Фианит', 'Гранат ТопазГ Фианит',\n",
       "       'ЖемчугБ', 'Хризолит', 'Шпинель', 'Аметист', 'Топаз Фианит',\n",
       "       'Эмаль Фианит', 'ТопазГ Цитрин Хризолит Фианит', 'Рубин Фианит',\n",
       "       'Хромдиопсид Фианит', '2Сапфир-0,050-2/2',\n",
       "       'Гранат Аметист ТопазГ Хризолит Цитрин Фианит', 'Сапфир',\n",
       "       'Цитрин Хризолит Фианит', 'Раухтопаз', 'ИзумрудВ Фианит',\n",
       "       'Хромдиопсид', 'Фианит ', 'Цитрин', 'Б/мамонт Фианит', 'Сапфир ',\n",
       "       'ИзумрудВ', 'ЖемчугБ ЖемчугБ Фианит',\n",
       "       'Аметист Цитрин ТопазГ Фианит', 'ЖемчугБ ', 'Корунд',\n",
       "       'Гранат Хризолит', 'Гранат Корунд', 'Сапфир Фианит',\n",
       "       'Сапфир-0,36-3/3', 'Сапфир-0,36-3/4', 'Сапфир-0,36-3/5',\n",
       "       'Сапфир-0,36-3/6', 'Сапфир-0,36-3/7', 'Сапфир-0,36-3/8',\n",
       "       'Сапфир-0,36-3/9', 'Хризолит ТопазГ Гранат Цитрин',\n",
       "       'Хризолит Цитрин', 'Цитрин Хризолит', 'Цитрин Раухтопаз Фианит',\n",
       "       '7Сапфир-0,300-2/2 6Сапфир-0,430-2/2',\n",
       "       '7Сапфир-0,210-3/2 6Рубин-0,540-2/2',\n",
       "       '6Сапфир-0,360-3/2 7Рубин-0,280-3/2',\n",
       "       '6Сапфир-0,420-3/2 7Рубин-0,280-3/3', 'Хризолит Цитрин Фианит',\n",
       "       'Аметист Рубин Фианит', 'Аметист Цитрин Фианит',\n",
       "       'ТопазГ Аметист Родолит Фианит', 'ТопазГ Аметист Цитрин Фианит',\n",
       "       'ТопазГ Цитрин Фианит', 'ТопазГ Аметист Изумруд Фианит',\n",
       "       'Аметист ТопазГ ИзумрудВ Фианит', 'Гранат Цитрин Фианит',\n",
       "       'ТопазГ Шпинель Фианит', '6Рубин-0,190-2/2', 'Сапфир-0,180-2/2',\n",
       "       'Сапфир-0,190', 'Сапфир-0,200', 'ИзумрудВ Рубин',\n",
       "       'ИзумрудВ Гранат Фианит', 'Сапфир ТопазГ Фианит',\n",
       "       'Раухтопаз Цитрин', 'ТопазГ Хризолит Фианит', 'Топаз',\n",
       "       'Изумруд Фианит', 'Хромдиопсид Цитрин Фианит',\n",
       "       'Родолит Цитрин Фианит', 'Гранат Цитрин', 'ЖемчугБ ТопазГ',\n",
       "       'Корунд Фианит', 'ТопазГ Аметист Фианит', 'ЖемчугБ ЖемчугЧ Фианит',\n",
       "       'Изумруд', 'Шпинель Цитрин', 'Изумруд Корунд', 'Родолит',\n",
       "       'Хромдиопсид Гранат Аметист Цитрин ТопазГ',\n",
       "       'Хромдиопсид Аметист Цитрин ', 'Хромдиопсид Гранат',\n",
       "       'Гранат ТопазГ Хризолит Аметист Цитрин Фианит',\n",
       "       '1Сапфир-0,210-2/2', '1Сапфир-0,220-3/2', '1Рубин-0,160-3/2',\n",
       "       '4Сапфир-0,360-3/3', 'Аметист Цитрин Хризолит', 'ЖемчугБ Гранат',\n",
       "       'Б/мамонта Фианит', 'ЖемчугБ Хризолит', 'Раухтопаз Цитрин Фианит',\n",
       "       'ИзумрудВ Хризолит Фианит', 'ТопазГ Аметмст Фианит',\n",
       "       'ИзумрудВ Цитрин', 'ЖемчугБ Раухтопаз', 'ЖемчугЧ ',\n",
       "       'РаухтопазГ Цитрин Фианит',\n",
       "       'ТопазГ Хризолит Аметист Цитрин Гранат Фианит', '2Рубин-0,260-3/2',\n",
       "       '2Сапфир-0,050-2/3', '2Сапфир-0,050-2/4', '2Сапфир-0,050-2/5',\n",
       "       'ТопазГ ', 'ТопазГ Хризолит Аметист Фианит',\n",
       "       'Хризолит ТопазГ Гранат Аметист', 'Малахит', 'Алпанит Фианит',\n",
       "       'Бирюза', 'Нефрит', 'Хризопраз', 'Гранат ЖемчугБ',\n",
       "       'Хромдиопсид Аметист Цитрин', 'Раухтопаз ',\n",
       "       'ЖемчугЧ ЖемчугБ Фианит', 'Аметист Хризолит',\n",
       "       'Хромдиопсид Аметист Цитрин Гранат', 'Цитрин Аметист Фианит',\n",
       "       'Сапфир-0,590-2/2 Фианит', 'Хризолит ЖемчугБ', 'Цитрин ЖемчугБ',\n",
       "       'Цитрин ТопазГ Фианит', 'Топаз ЖемчугЧ',\n",
       "       'Хризолит Цитрин Раухтопаз ИзумрудВ', '2Сапфир-0,05-2/2',\n",
       "       '2Сапфир-0,100-2/2', 'Гранат ', 'Аметист ', 'Аметист Гранат',\n",
       "       'Гранат Аметист Цитрин Фианит', 'ТопазГ ЖемчугБ', '4Сапфир-0,112',\n",
       "       '1Сапфир-0,590-2/2', '14Сапфир-1,064-3/2', 'К.Циркония',\n",
       "       '1Рубин-1,306 Фианит', '1Рубин-1,307 Фианит',\n",
       "       '2Рубин-2,613 Фианит', '2Рубин-2,614 Фианит', 'Самородок',\n",
       "       'ИзумрудВ ', '6Сапфир-0,42-3/2 7Рубин-0,28-3/2', 'Гранат ИзумрудВ',\n",
       "       '1Сапфир-0,59-2/2 Фианит', 'Аметист ТопазГ Хризолит Гранат Цитрин',\n",
       "       'Раухтопаз Хризолит Фианит', 'Аметист ТопазГ Хризолит',\n",
       "       'ИзумрудН-0,714-3/2 Фианит', '2ИзумрудН-1,429-3/2 Фианит',\n",
       "       '2Рубин Фианит', 'ТопазГ Гранат', 'Самородок ЖемчугБ',\n",
       "       'Хромдиопмид Хризолит Фианит', 'Розовый Кварц Фианит',\n",
       "       'Родолит Хромдиопсид Фианит', 'Турмалин Хромдиопсид',\n",
       "       'Хромдиопсид Хризолит', 'Хромдиопсид Родолит',\n",
       "       'Хромдиопсид Лабродолит', 'Хромдиопмид Турмалин Фианит',\n",
       "       'Хромдиопмид Цитрин Фианит', 'Турмалин Фианит',\n",
       "       'Агат синт. Фианит', 'Сапфир облаг. Фианит', 'Эмаль',\n",
       "       'Фианит Эмаль', 'Авантюрин Фианит', 'КварцР Фианит',\n",
       "       'Изумруд облаг.', 'КварцМ', 'Топаз Лондон Фианит', 'Топаз Лондон',\n",
       "       'Турмалин', 'Родолит Фианит', 'Сапфир облаг. ',\n",
       "       'Сапфир облаг. ТопазГ Хризолит', 'Гранат Аметист', 'КварцМ Фианит',\n",
       "       'Гранат Хризолит ТопазГ', 'Раухтопаз Топазг Фианит',\n",
       "       'Топаз Лондон ', 'Рубин облаг.', 'Гранат ТопазГ Хризолит',\n",
       "       'Изумруд облаг. Фианит', 'Гранат Хризолит Топаз Цитрин',\n",
       "       'Кварц Фианит', 'ТопазГ Хризолит Аметист', 'Родолит ',\n",
       "       'ТопазГ Хризолит Цитрин', 'Сапфир облаг. ТопазГ Хризолит Гранат',\n",
       "       'ТопазГ Гранат Аметист', 'Аметист ТопазГ Гранат Хризолит Цитрин',\n",
       "       'Хризолит Аметист Цитрин Гранат',\n",
       "       'Раухтопаз Гранат Родолит ТопазГ Хризолит',\n",
       "       'Хризолит ТопазГ Гранат', 'Кварц', 'Турмалин Алпанит Фианит',\n",
       "       'Жедеит Фианит', 'Турмалин Алпанит', 'РубинИ Фианит', 'Жадеит',\n",
       "       'Агат', 'Турмалин Алпанит Перидот', 'Танзанит Фианит',\n",
       "       'Аквамарин Фианит', 'Аквамарин ', 'Аметист Турмалин Алпанит',\n",
       "       'Жадеит Гранат', 'Агат Фианит', 'Жадеит Аметист',\n",
       "       'Турмалин Алпанит Гранат Фианит',\n",
       "       'Турмалин Алпанит Фианит Хромдиопсид', 'Чароит Аметист',\n",
       "       'Танзанит'], dtype=object)"
      ]
     },
     "execution_count": 31,
     "metadata": {},
     "output_type": "execute_result"
    }
   ],
   "source": [
    "#vstavki[~pd.isnull(vstavki.vs_dict)]\n",
    "vstavki[vstavki.lendict == 0].vstavki.unique()"
   ]
  },
  {
   "cell_type": "code",
   "execution_count": null,
   "metadata": {},
   "outputs": [],
   "source": [
    "'1Кр57-0,080-4/А' '1Кр57-0,110-5/Б'"
   ]
  },
  {
   "cell_type": "code",
   "execution_count": null,
   "metadata": {},
   "outputs": [],
   "source": [
    "vstavki.loc[(vstavki.vstavki == '1Кр57-0,080-4/А')  | (vstavki.vstavki =='1Кр57-0,110-5/Б')]#, 'vstavki']"
   ]
  },
  {
   "cell_type": "code",
   "execution_count": null,
   "metadata": {},
   "outputs": [],
   "source": [
    "markerr()"
   ]
  },
  {
   "cell_type": "code",
   "execution_count": null,
   "metadata": {},
   "outputs": [],
   "source": [
    "saveerrlog(jewellery)"
   ]
  },
  {
   "cell_type": "code",
   "execution_count": null,
   "metadata": {},
   "outputs": [],
   "source": [
    "array(['Раухтопаз', 'Бивень мамонта Фианит', 'Фианит', 'ЖемчугЧ Фианит ',\n",
    "       'ТопазГ', 'ЖемчугЧ ', 'ЖемчугБ Фианит', 'Шпинель',\n",
    "       'Бивень мамонта', '1Кр57-0,110-5/Б', 'Изумруд-0,150-5/1',\n",
    "       'Сапфир-0,230-1/2', 'Изумруд-0,180-4/1', 'Изумруд-0,160-4/2',\n",
    "       'Демантоид', 'Рубин', '1Кр57-0,080-4/А', 'Аметист',\n",
    "       'Бивень мамонта ', 'Корунд', 'Шпинель Фианит',\n",
    "       'Аметист Куб.Циркония',\n",
    "       '202-Алмаз фантазийно ограненный окр.черный-19,380',\n",
    "       '97Кр57-14,450-4/6А'], dtype=object)"
   ]
  },
  {
   "cell_type": "code",
   "execution_count": 32,
   "metadata": {},
   "outputs": [],
   "source": [
    "vstavki['lenperone'] = 0\n",
    "vstavki.loc[vstavki.lendict != 0,'lenperone'] = (vstavki.lensourse-vstavki.lendictgem)/vstavki.lendict"
   ]
  },
  {
   "cell_type": "code",
   "execution_count": 33,
   "metadata": {},
   "outputs": [],
   "source": [
    "#vstavki.loc[vstavki.lendict != 0,['vstavki','vs_dict','gem','lendict','lenperone','lensourse']]"
   ]
  },
  {
   "cell_type": "code",
   "execution_count": 34,
   "metadata": {},
   "outputs": [
    {
     "data": {
      "text/plain": [
       "array([ 0.        , 15.        , 16.        , 16.33333333, 16.5       ,\n",
       "       16.66666667, 16.71428571, 16.75      , 16.8       , 16.83333333,\n",
       "       16.875     , 17.        , 17.14285714, 17.2       , 17.25      ,\n",
       "       17.33333333, 17.5       , 17.66666667, 17.71428571, 18.        ,\n",
       "       18.33333333, 18.5       , 19.        , 19.5       ])"
      ]
     },
     "execution_count": 34,
     "metadata": {},
     "output_type": "execute_result"
    }
   ],
   "source": [
    "vstavki.lenperone.sort_values().unique()"
   ]
  },
  {
   "cell_type": "code",
   "execution_count": null,
   "metadata": {},
   "outputs": [],
   "source": [
    "vstavki.loc[:,['vstavki','vs_dict','gem','lendict','lenperone','lendictgem','lensourse']]"
   ]
  },
  {
   "cell_type": "code",
   "execution_count": null,
   "metadata": {},
   "outputs": [],
   "source": [
    "pd.options.display.max_colwidth = 300"
   ]
  },
  {
   "cell_type": "code",
   "execution_count": 35,
   "metadata": {},
   "outputs": [
    {
     "data": {
      "text/html": [
       "<div>\n",
       "<style scoped>\n",
       "    .dataframe tbody tr th:only-of-type {\n",
       "        vertical-align: middle;\n",
       "    }\n",
       "\n",
       "    .dataframe tbody tr th {\n",
       "        vertical-align: top;\n",
       "    }\n",
       "\n",
       "    .dataframe thead th {\n",
       "        text-align: right;\n",
       "    }\n",
       "</style>\n",
       "<table border=\"1\" class=\"dataframe\">\n",
       "  <thead>\n",
       "    <tr style=\"text-align: right;\">\n",
       "      <th></th>\n",
       "      <th>vstavki</th>\n",
       "      <th>vs_dict</th>\n",
       "      <th>gem</th>\n",
       "      <th>lendict</th>\n",
       "      <th>lenperone</th>\n",
       "      <th>lensourse</th>\n",
       "    </tr>\n",
       "  </thead>\n",
       "  <tbody>\n",
       "    <tr>\n",
       "      <th>19387</th>\n",
       "      <td>1Кр57-0,240-5/6А 1Кр57-0,220-4/3А 2Кр57-0,450-4/5А 4Кр57-0,920-5/6Б 1Кр57-0,020-4/5А 28Кр57-0,550-4/6Б 35Кр57-0,690-5/7Б</td>\n",
       "      <td>[(1, Кр57, 0,240, 5/6, А), (1, Кр57, 0,220, 4/3, А), (2, Кр57, 0,450, 4/5, А), (4, Кр57, 0,920, 5/6, Б), (1, Кр57, 0,020, 4/5, А), (28, Кр57, 0,550, 4/6, Б), (35, Кр57, 0,690, 5/7, Б)]</td>\n",
       "      <td>[]</td>\n",
       "      <td>7</td>\n",
       "      <td>17.142857</td>\n",
       "      <td>120</td>\n",
       "    </tr>\n",
       "    <tr>\n",
       "      <th>15548</th>\n",
       "      <td>1Кр57-1,410-8-1/8Б 6Кр57-0,182-4/5А 4Кр57-0,055-4/5А 2Кр57-0,020-4/5А 2Кр57-0,016-4/5А</td>\n",
       "      <td>[(1, Кр57, 1,410, 8-1/8, Б), (6, Кр57, 0,182, 4/5, А), (4, Кр57, 0,055, 4/5, А), (2, Кр57, 0,020, 4/5, А), (2, Кр57, 0,016, 4/5, А)]</td>\n",
       "      <td>[]</td>\n",
       "      <td>5</td>\n",
       "      <td>17.200000</td>\n",
       "      <td>86</td>\n",
       "    </tr>\n",
       "    <tr>\n",
       "      <th>26601</th>\n",
       "      <td>1Кр57-0,520-8-2/9А 1Кр57-0,015-4/5Б 2Кр57-0,026-4/5А 7Кр57-0,093-4/6А</td>\n",
       "      <td>[(1, Кр57, 0,520, 8-2/9, А), (1, Кр57, 0,015, 4/5, Б), (2, Кр57, 0,026, 4/5, А), (7, Кр57, 0,093, 4/6, А)]</td>\n",
       "      <td>[]</td>\n",
       "      <td>4</td>\n",
       "      <td>17.250000</td>\n",
       "      <td>69</td>\n",
       "    </tr>\n",
       "    <tr>\n",
       "      <th>80</th>\n",
       "      <td>1Г56-0,510-5/6А 4Кр57-0,520-2/2А 55Кр57-2,200-2/2А 148Кр57-2,960-2/2А</td>\n",
       "      <td>[(1, Г56, 0,510, 5/6, А), (4, Кр57, 0,520, 2/2, А), (55, Кр57, 2,200, 2/2, А), (148, Кр57, 2,960, 2/2, А)]</td>\n",
       "      <td>[]</td>\n",
       "      <td>4</td>\n",
       "      <td>17.250000</td>\n",
       "      <td>69</td>\n",
       "    </tr>\n",
       "    <tr>\n",
       "      <th>15584</th>\n",
       "      <td>ТопазГ 24Кр57-0,330-4/5А 17Кр57-0,100-6/5А 3Кр57-0,017-6/5А</td>\n",
       "      <td>[(24, Кр57, 0,330, 4/5, А), (17, Кр57, 0,100, 6/5, А), (3, Кр57, 0,017, 6/5, А)]</td>\n",
       "      <td>[ТопазГ ]</td>\n",
       "      <td>3</td>\n",
       "      <td>17.333333</td>\n",
       "      <td>59</td>\n",
       "    </tr>\n",
       "    <tr>\n",
       "      <th>...</th>\n",
       "      <td>...</td>\n",
       "      <td>...</td>\n",
       "      <td>...</td>\n",
       "      <td>...</td>\n",
       "      <td>...</td>\n",
       "      <td>...</td>\n",
       "    </tr>\n",
       "    <tr>\n",
       "      <th>20701</th>\n",
       "      <td>1Кр57-0,400-8-3/8А 1Кр57-0,450-8-3/8Б 14Кр57-0,080-4/5А</td>\n",
       "      <td>[(1, Кр57, 0,400, 8-3/8, А), (1, Кр57, 0,450, 8-3/8, Б), (14, Кр57, 0,080, 4/5, А)]</td>\n",
       "      <td>[]</td>\n",
       "      <td>3</td>\n",
       "      <td>18.333333</td>\n",
       "      <td>55</td>\n",
       "    </tr>\n",
       "    <tr>\n",
       "      <th>19534</th>\n",
       "      <td>1Кр57-0,400-6-1/3А 1Кр57-0,410-6-1/4А</td>\n",
       "      <td>[(1, Кр57, 0,400, 6-1/3, А), (1, Кр57, 0,410, 6-1/4, А)]</td>\n",
       "      <td>[]</td>\n",
       "      <td>2</td>\n",
       "      <td>18.500000</td>\n",
       "      <td>37</td>\n",
       "    </tr>\n",
       "    <tr>\n",
       "      <th>25687</th>\n",
       "      <td>1Кр57-0,390-8-2/7А 1Кр57-0,310-8-2/7Б</td>\n",
       "      <td>[(1, Кр57, 0,390, 8-2/7, А), (1, Кр57, 0,310, 8-2/7, Б)]</td>\n",
       "      <td>[]</td>\n",
       "      <td>2</td>\n",
       "      <td>18.500000</td>\n",
       "      <td>37</td>\n",
       "    </tr>\n",
       "    <tr>\n",
       "      <th>23867</th>\n",
       "      <td>1Кр57-0,520-8-3/5Б 1Кр57-0,540-8-3/6Б 1Кр57-0,430-6-1/7аА 1Кр57-0,420-8-1/8А 1Кр57-0,430-8-2/7А 1Кр57-0,460-9-4/4А</td>\n",
       "      <td>[(1, Кр57, 0,520, 8-3/5, Б), (1, Кр57, 0,540, 8-3/6, Б), (1, Кр57, 0,430, 6-1/7а, А), (1, Кр57, 0,420, 8-1/8, А), (1, Кр57, 0,430, 8-2/7, А), (1, Кр57, 0,460, 9-4/4, А)]</td>\n",
       "      <td>[]</td>\n",
       "      <td>6</td>\n",
       "      <td>19.000000</td>\n",
       "      <td>114</td>\n",
       "    </tr>\n",
       "    <tr>\n",
       "      <th>19535</th>\n",
       "      <td>1Кр57-0,340-9-1/10А 1Кр57-0,350-9-1/10А</td>\n",
       "      <td>[(1, Кр57, 0,340, 9-1/10, А), (1, Кр57, 0,350, 9-1/10, А)]</td>\n",
       "      <td>[]</td>\n",
       "      <td>2</td>\n",
       "      <td>19.500000</td>\n",
       "      <td>39</td>\n",
       "    </tr>\n",
       "  </tbody>\n",
       "</table>\n",
       "<p>94 rows × 6 columns</p>\n",
       "</div>"
      ],
      "text/plain": [
       "                                                                                                                        vstavki  \\\n",
       "19387  1Кр57-0,240-5/6А 1Кр57-0,220-4/3А 2Кр57-0,450-4/5А 4Кр57-0,920-5/6Б 1Кр57-0,020-4/5А 28Кр57-0,550-4/6Б 35Кр57-0,690-5/7Б   \n",
       "15548                                    1Кр57-1,410-8-1/8Б 6Кр57-0,182-4/5А 4Кр57-0,055-4/5А 2Кр57-0,020-4/5А 2Кр57-0,016-4/5А   \n",
       "26601                                                     1Кр57-0,520-8-2/9А 1Кр57-0,015-4/5Б 2Кр57-0,026-4/5А 7Кр57-0,093-4/6А   \n",
       "80                                                        1Г56-0,510-5/6А 4Кр57-0,520-2/2А 55Кр57-2,200-2/2А 148Кр57-2,960-2/2А   \n",
       "15584                                                               ТопазГ 24Кр57-0,330-4/5А 17Кр57-0,100-6/5А 3Кр57-0,017-6/5А   \n",
       "...                                                                                                                         ...   \n",
       "20701                                                                   1Кр57-0,400-8-3/8А 1Кр57-0,450-8-3/8Б 14Кр57-0,080-4/5А   \n",
       "19534                                                                                     1Кр57-0,400-6-1/3А 1Кр57-0,410-6-1/4А   \n",
       "25687                                                                                     1Кр57-0,390-8-2/7А 1Кр57-0,310-8-2/7Б   \n",
       "23867        1Кр57-0,520-8-3/5Б 1Кр57-0,540-8-3/6Б 1Кр57-0,430-6-1/7аА 1Кр57-0,420-8-1/8А 1Кр57-0,430-8-2/7А 1Кр57-0,460-9-4/4А   \n",
       "19535                                                                                   1Кр57-0,340-9-1/10А 1Кр57-0,350-9-1/10А   \n",
       "\n",
       "                                                                                                                                                                                        vs_dict  \\\n",
       "19387  [(1, Кр57, 0,240, 5/6, А), (1, Кр57, 0,220, 4/3, А), (2, Кр57, 0,450, 4/5, А), (4, Кр57, 0,920, 5/6, Б), (1, Кр57, 0,020, 4/5, А), (28, Кр57, 0,550, 4/6, Б), (35, Кр57, 0,690, 5/7, Б)]   \n",
       "15548                                                      [(1, Кр57, 1,410, 8-1/8, Б), (6, Кр57, 0,182, 4/5, А), (4, Кр57, 0,055, 4/5, А), (2, Кр57, 0,020, 4/5, А), (2, Кр57, 0,016, 4/5, А)]   \n",
       "26601                                                                                [(1, Кр57, 0,520, 8-2/9, А), (1, Кр57, 0,015, 4/5, Б), (2, Кр57, 0,026, 4/5, А), (7, Кр57, 0,093, 4/6, А)]   \n",
       "80                                                                                   [(1, Г56, 0,510, 5/6, А), (4, Кр57, 0,520, 2/2, А), (55, Кр57, 2,200, 2/2, А), (148, Кр57, 2,960, 2/2, А)]   \n",
       "15584                                                                                                          [(24, Кр57, 0,330, 4/5, А), (17, Кр57, 0,100, 6/5, А), (3, Кр57, 0,017, 6/5, А)]   \n",
       "...                                                                                                                                                                                         ...   \n",
       "20701                                                                                                       [(1, Кр57, 0,400, 8-3/8, А), (1, Кр57, 0,450, 8-3/8, Б), (14, Кр57, 0,080, 4/5, А)]   \n",
       "19534                                                                                                                                  [(1, Кр57, 0,400, 6-1/3, А), (1, Кр57, 0,410, 6-1/4, А)]   \n",
       "25687                                                                                                                                  [(1, Кр57, 0,390, 8-2/7, А), (1, Кр57, 0,310, 8-2/7, Б)]   \n",
       "23867                 [(1, Кр57, 0,520, 8-3/5, Б), (1, Кр57, 0,540, 8-3/6, Б), (1, Кр57, 0,430, 6-1/7а, А), (1, Кр57, 0,420, 8-1/8, А), (1, Кр57, 0,430, 8-2/7, А), (1, Кр57, 0,460, 9-4/4, А)]   \n",
       "19535                                                                                                                                [(1, Кр57, 0,340, 9-1/10, А), (1, Кр57, 0,350, 9-1/10, А)]   \n",
       "\n",
       "             gem  lendict  lenperone  lensourse  \n",
       "19387         []        7  17.142857        120  \n",
       "15548         []        5  17.200000         86  \n",
       "26601         []        4  17.250000         69  \n",
       "80            []        4  17.250000         69  \n",
       "15584  [ТопазГ ]        3  17.333333         59  \n",
       "...          ...      ...        ...        ...  \n",
       "20701         []        3  18.333333         55  \n",
       "19534         []        2  18.500000         37  \n",
       "25687         []        2  18.500000         37  \n",
       "23867         []        6  19.000000        114  \n",
       "19535         []        2  19.500000         39  \n",
       "\n",
       "[94 rows x 6 columns]"
      ]
     },
     "execution_count": 35,
     "metadata": {},
     "output_type": "execute_result"
    }
   ],
   "source": [
    "vstavki.loc[vstavki.lenperone  >17,['vstavki','vs_dict','gem','lendict','lenperone','lensourse']].sort_values(by='lenperone')"
   ]
  },
  {
   "cell_type": "code",
   "execution_count": null,
   "metadata": {
    "scrolled": true
   },
   "outputs": [],
   "source": [
    "errindex = int(input('index'))\n",
    "print (jewellery.loc[errindex, ['Вставки','checklog']])\n",
    "message = input('message')\n",
    "if message!='':\n",
    "    jewellery.loc[errindex, 'checklog'] = message"
   ]
  },
  {
   "cell_type": "code",
   "execution_count": 36,
   "metadata": {
    "scrolled": true
   },
   "outputs": [
    {
     "data": {
      "text/html": [
       "<div>\n",
       "<style scoped>\n",
       "    .dataframe tbody tr th:only-of-type {\n",
       "        vertical-align: middle;\n",
       "    }\n",
       "\n",
       "    .dataframe tbody tr th {\n",
       "        vertical-align: top;\n",
       "    }\n",
       "\n",
       "    .dataframe thead th {\n",
       "        text-align: right;\n",
       "    }\n",
       "</style>\n",
       "<table border=\"1\" class=\"dataframe\">\n",
       "  <thead>\n",
       "    <tr style=\"text-align: right;\">\n",
       "      <th></th>\n",
       "      <th>Unnamed: 0</th>\n",
       "      <th>пп</th>\n",
       "      <th>id7c</th>\n",
       "      <th>Изделие</th>\n",
       "      <th>Артикул</th>\n",
       "      <th>Unnamed: 5</th>\n",
       "      <th>НоменГр</th>\n",
       "      <th>Проба</th>\n",
       "      <th>Цвет металла</th>\n",
       "      <th>Кол</th>\n",
       "      <th>...</th>\n",
       "      <th>ЧистотаЦК</th>\n",
       "      <th>Дизайн</th>\n",
       "      <th>Поставщик</th>\n",
       "      <th>Договор</th>\n",
       "      <th>ТН</th>\n",
       "      <th>Unnamed: 22</th>\n",
       "      <th>filname</th>\n",
       "      <th>checklog</th>\n",
       "      <th>vs_dict</th>\n",
       "      <th>gem</th>\n",
       "    </tr>\n",
       "  </thead>\n",
       "  <tbody>\n",
       "  </tbody>\n",
       "</table>\n",
       "<p>0 rows × 27 columns</p>\n",
       "</div>"
      ],
      "text/plain": [
       "Empty DataFrame\n",
       "Columns: [Unnamed: 0, пп, id7c, Изделие, Артикул, Unnamed: 5, НоменГр, Проба, Цвет металла, Кол, Вес, Закуп, Розн, Вставки, Размер, РазмернаяГруппаЦК, ЦветЦК, ЧистотаЦК, Дизайн, Поставщик, Договор, ТН, Unnamed: 22, filname, checklog, vs_dict, gem]\n",
       "Index: []\n",
       "\n",
       "[0 rows x 27 columns]"
      ]
     },
     "execution_count": 36,
     "metadata": {},
     "output_type": "execute_result"
    }
   ],
   "source": [
    "jewellery.loc[~(jewellery.checklog=='')]"
   ]
  },
  {
   "cell_type": "code",
   "execution_count": null,
   "metadata": {},
   "outputs": [],
   "source": [
    "#def saveerrlog():#(vstavki_d,'ПО',''): \n",
    "#    import datetime\n",
    "#    date = datetime.datetime.now().strftime('%Y-%m-%d')\n",
    "#    with open(\"res/logerr\" +filenamep+'.txt', \"a\",encoding=\"utf-8\") as file:\n",
    "#        file.write(jewellery.loc[~(jewellery.checklog==''),['filname','пп','Изделие','Вес', 'Закуп', 'Вставки', 'checklog']].to_string())\n",
    "        "
   ]
  },
  {
   "cell_type": "code",
   "execution_count": null,
   "metadata": {},
   "outputs": [],
   "source": [
    "def markerr():\n",
    "    errindex = int(input('index'))\n",
    "    print (jewellery.loc[errindex, ['Вставки','checklog']])\n",
    "    message = input('message')\n",
    "    if message!='':\n",
    "        jewellery.loc[errindex, 'checklog'] = message\n",
    "    "
   ]
  },
  {
   "cell_type": "code",
   "execution_count": null,
   "metadata": {},
   "outputs": [],
   "source": [
    "def saveerrlog(jewell):\n",
    "    import datetime\n",
    "    \n",
    "    \n",
    "    df = jewell.loc[~(jewell.checklog==''),['filname','пп', 'Изделие', 'Кол', 'Вес', 'Закуп', 'Вставки', 'checklog']].copy()\n",
    "    df['sourcepath'] = sourcepath\n",
    "    df['data'] = datetime.datetime.now().strftime('%Y-%m-%d')\n",
    "    datestr = datetime.datetime.now().strftime('%Y-%m-%d-%H-%M')\n",
    "    print(df)\n",
    "    df.to_excel(\"res/logerr\" +filenamep+datestr+'.xlsx')\n",
    "    #jewell.loc[~(jewell.checklog==''),'checklog'] = 'printed '+ datestr"
   ]
  },
  {
   "cell_type": "code",
   "execution_count": null,
   "metadata": {},
   "outputs": [],
   "source": [
    "saveerrlog(jewellery)"
   ]
  },
  {
   "cell_type": "markdown",
   "metadata": {},
   "source": [
    "### exploding"
   ]
  },
  {
   "cell_type": "code",
   "execution_count": 37,
   "metadata": {},
   "outputs": [],
   "source": [
    "vstavki_exp = vstavki.explode('vs_dict')"
   ]
  },
  {
   "cell_type": "code",
   "execution_count": 38,
   "metadata": {},
   "outputs": [
    {
     "data": {
      "text/html": [
       "<div>\n",
       "<style scoped>\n",
       "    .dataframe tbody tr th:only-of-type {\n",
       "        vertical-align: middle;\n",
       "    }\n",
       "\n",
       "    .dataframe tbody tr th {\n",
       "        vertical-align: top;\n",
       "    }\n",
       "\n",
       "    .dataframe thead th {\n",
       "        text-align: right;\n",
       "    }\n",
       "</style>\n",
       "<table border=\"1\" class=\"dataframe\">\n",
       "  <thead>\n",
       "    <tr style=\"text-align: right;\">\n",
       "      <th></th>\n",
       "      <th>пп</th>\n",
       "      <th>id7c</th>\n",
       "      <th>vstavki</th>\n",
       "      <th>vs_dict</th>\n",
       "      <th>gem</th>\n",
       "      <th>lendict</th>\n",
       "      <th>lenperone</th>\n",
       "      <th>lensourse</th>\n",
       "    </tr>\n",
       "  </thead>\n",
       "  <tbody>\n",
       "    <tr>\n",
       "      <th>0</th>\n",
       "      <td>1</td>\n",
       "      <td>93280</td>\n",
       "      <td>1Кр57 0,180   4/5А</td>\n",
       "      <td>(1, Кр57, 0,180, 4/5, А)</td>\n",
       "      <td>[]</td>\n",
       "      <td>1</td>\n",
       "      <td>18.0</td>\n",
       "      <td>18</td>\n",
       "    </tr>\n",
       "    <tr>\n",
       "      <th>1</th>\n",
       "      <td>2</td>\n",
       "      <td>93282</td>\n",
       "      <td>1Кр57-0,080-5/2А 2Кр57-0,036-2/4А</td>\n",
       "      <td>(1, Кр57, 0,080, 5/2, А)</td>\n",
       "      <td>[]</td>\n",
       "      <td>2</td>\n",
       "      <td>16.5</td>\n",
       "      <td>33</td>\n",
       "    </tr>\n",
       "    <tr>\n",
       "      <th>1</th>\n",
       "      <td>2</td>\n",
       "      <td>93282</td>\n",
       "      <td>1Кр57-0,080-5/2А 2Кр57-0,036-2/4А</td>\n",
       "      <td>(2, Кр57, 0,036, 2/4, А)</td>\n",
       "      <td>[]</td>\n",
       "      <td>2</td>\n",
       "      <td>16.5</td>\n",
       "      <td>33</td>\n",
       "    </tr>\n",
       "    <tr>\n",
       "      <th>2</th>\n",
       "      <td>3</td>\n",
       "      <td>93286</td>\n",
       "      <td>1Кр57-0,080-5/5А 2Кр57-0,030-4/3А</td>\n",
       "      <td>(1, Кр57, 0,080, 5/5, А)</td>\n",
       "      <td>[]</td>\n",
       "      <td>2</td>\n",
       "      <td>16.5</td>\n",
       "      <td>33</td>\n",
       "    </tr>\n",
       "    <tr>\n",
       "      <th>2</th>\n",
       "      <td>3</td>\n",
       "      <td>93286</td>\n",
       "      <td>1Кр57-0,080-5/5А 2Кр57-0,030-4/3А</td>\n",
       "      <td>(2, Кр57, 0,030, 4/3, А)</td>\n",
       "      <td>[]</td>\n",
       "      <td>2</td>\n",
       "      <td>16.5</td>\n",
       "      <td>33</td>\n",
       "    </tr>\n",
       "    <tr>\n",
       "      <th>...</th>\n",
       "      <td>...</td>\n",
       "      <td>...</td>\n",
       "      <td>...</td>\n",
       "      <td>...</td>\n",
       "      <td>...</td>\n",
       "      <td>...</td>\n",
       "      <td>...</td>\n",
       "      <td>...</td>\n",
       "    </tr>\n",
       "    <tr>\n",
       "      <th>27516</th>\n",
       "      <td>495</td>\n",
       "      <td>МС00023705</td>\n",
       "      <td>Чароит Аметист</td>\n",
       "      <td>NaN</td>\n",
       "      <td>[Чароит , Аметист]</td>\n",
       "      <td>0</td>\n",
       "      <td>0.0</td>\n",
       "      <td>14</td>\n",
       "    </tr>\n",
       "    <tr>\n",
       "      <th>27517</th>\n",
       "      <td>495</td>\n",
       "      <td>МС00023705</td>\n",
       "      <td>Чароит Аметист</td>\n",
       "      <td>NaN</td>\n",
       "      <td>[Чароит , Аметист]</td>\n",
       "      <td>0</td>\n",
       "      <td>0.0</td>\n",
       "      <td>14</td>\n",
       "    </tr>\n",
       "    <tr>\n",
       "      <th>27518</th>\n",
       "      <td>496</td>\n",
       "      <td>МС00023708</td>\n",
       "      <td>Гранат Фианит</td>\n",
       "      <td>NaN</td>\n",
       "      <td>[Гранат , Фианит]</td>\n",
       "      <td>0</td>\n",
       "      <td>0.0</td>\n",
       "      <td>13</td>\n",
       "    </tr>\n",
       "    <tr>\n",
       "      <th>27519</th>\n",
       "      <td>497</td>\n",
       "      <td>МС00023710</td>\n",
       "      <td>Танзанит</td>\n",
       "      <td>NaN</td>\n",
       "      <td>[Танзанит]</td>\n",
       "      <td>0</td>\n",
       "      <td>0.0</td>\n",
       "      <td>8</td>\n",
       "    </tr>\n",
       "    <tr>\n",
       "      <th>27520</th>\n",
       "      <td>497</td>\n",
       "      <td>МС00023710</td>\n",
       "      <td>Танзанит</td>\n",
       "      <td>NaN</td>\n",
       "      <td>[Танзанит]</td>\n",
       "      <td>0</td>\n",
       "      <td>0.0</td>\n",
       "      <td>8</td>\n",
       "    </tr>\n",
       "  </tbody>\n",
       "</table>\n",
       "<p>23526 rows × 8 columns</p>\n",
       "</div>"
      ],
      "text/plain": [
       "        пп        id7c                            vstavki  \\\n",
       "0        1       93280                 1Кр57 0,180   4/5А   \n",
       "1        2       93282  1Кр57-0,080-5/2А 2Кр57-0,036-2/4А   \n",
       "1        2       93282  1Кр57-0,080-5/2А 2Кр57-0,036-2/4А   \n",
       "2        3       93286  1Кр57-0,080-5/5А 2Кр57-0,030-4/3А   \n",
       "2        3       93286  1Кр57-0,080-5/5А 2Кр57-0,030-4/3А   \n",
       "...    ...         ...                                ...   \n",
       "27516  495  МС00023705                     Чароит Аметист   \n",
       "27517  495  МС00023705                     Чароит Аметист   \n",
       "27518  496  МС00023708                      Гранат Фианит   \n",
       "27519  497  МС00023710                           Танзанит   \n",
       "27520  497  МС00023710                           Танзанит   \n",
       "\n",
       "                        vs_dict                 gem  lendict  lenperone  \\\n",
       "0      (1, Кр57, 0,180, 4/5, А)                  []        1       18.0   \n",
       "1      (1, Кр57, 0,080, 5/2, А)                  []        2       16.5   \n",
       "1      (2, Кр57, 0,036, 2/4, А)                  []        2       16.5   \n",
       "2      (1, Кр57, 0,080, 5/5, А)                  []        2       16.5   \n",
       "2      (2, Кр57, 0,030, 4/3, А)                  []        2       16.5   \n",
       "...                         ...                 ...      ...        ...   \n",
       "27516                       NaN  [Чароит , Аметист]        0        0.0   \n",
       "27517                       NaN  [Чароит , Аметист]        0        0.0   \n",
       "27518                       NaN   [Гранат , Фианит]        0        0.0   \n",
       "27519                       NaN          [Танзанит]        0        0.0   \n",
       "27520                       NaN          [Танзанит]        0        0.0   \n",
       "\n",
       "       lensourse  \n",
       "0             18  \n",
       "1             33  \n",
       "1             33  \n",
       "2             33  \n",
       "2             33  \n",
       "...          ...  \n",
       "27516         14  \n",
       "27517         14  \n",
       "27518         13  \n",
       "27519          8  \n",
       "27520          8  \n",
       "\n",
       "[23526 rows x 8 columns]"
      ]
     },
     "execution_count": 38,
     "metadata": {},
     "output_type": "execute_result"
    }
   ],
   "source": [
    "vstavki_exp[['пп','id7c','vstavki','vs_dict','gem','lendict','lenperone','lensourse']]"
   ]
  },
  {
   "cell_type": "markdown",
   "metadata": {},
   "source": [
    "### CHECK!!! DROP ALL WHEN no vst"
   ]
  },
  {
   "cell_type": "code",
   "execution_count": 39,
   "metadata": {},
   "outputs": [],
   "source": [
    "#CHECK\n",
    "vstavki_d = vstavki_exp[~pd.isnull(vstavki_exp.vs_dict)].copy()#.vs_dict.apply(lambda x: x[1])"
   ]
  },
  {
   "cell_type": "code",
   "execution_count": null,
   "metadata": {},
   "outputs": [],
   "source": [
    "#vstavki_d#[pd.isnull(vstavki_exp.vs_dict)]"
   ]
  },
  {
   "cell_type": "code",
   "execution_count": 40,
   "metadata": {},
   "outputs": [],
   "source": [
    "cols = [\"ШТУК\",\"ОГРАНКА\",\"КАРАТ\", \"ЦД\", \"ПО\"]\n",
    "for c in range(len(cols)):\n",
    "    vstavki_d[cols[c]] = vstavki_d.vs_dict.apply(lambda x: x[c].strip())"
   ]
  },
  {
   "cell_type": "code",
   "execution_count": 41,
   "metadata": {},
   "outputs": [],
   "source": [
    "vstavki_d['Ц'] = vstavki_d.ЦД.apply(lambda x: x.split('/')[0].strip())"
   ]
  },
  {
   "cell_type": "code",
   "execution_count": 42,
   "metadata": {},
   "outputs": [],
   "source": [
    "vstavki_d['Д'] = vstavki_d.ЦД.apply(lambda x: x.split('/')[1].strip())"
   ]
  },
  {
   "cell_type": "code",
   "execution_count": 43,
   "metadata": {},
   "outputs": [
    {
     "data": {
      "text/html": [
       "<div>\n",
       "<style scoped>\n",
       "    .dataframe tbody tr th:only-of-type {\n",
       "        vertical-align: middle;\n",
       "    }\n",
       "\n",
       "    .dataframe tbody tr th {\n",
       "        vertical-align: top;\n",
       "    }\n",
       "\n",
       "    .dataframe thead th {\n",
       "        text-align: right;\n",
       "    }\n",
       "</style>\n",
       "<table border=\"1\" class=\"dataframe\">\n",
       "  <thead>\n",
       "    <tr style=\"text-align: right;\">\n",
       "      <th></th>\n",
       "      <th>пп</th>\n",
       "      <th>id7c</th>\n",
       "      <th>vstavki</th>\n",
       "      <th>vs_dict</th>\n",
       "      <th>gem</th>\n",
       "      <th>ШТУК</th>\n",
       "      <th>ОГРАНКА</th>\n",
       "      <th>КАРАТ</th>\n",
       "      <th>ЦД</th>\n",
       "      <th>ПО</th>\n",
       "      <th>Ц</th>\n",
       "      <th>Д</th>\n",
       "    </tr>\n",
       "  </thead>\n",
       "  <tbody>\n",
       "    <tr>\n",
       "      <th>0</th>\n",
       "      <td>1</td>\n",
       "      <td>93280</td>\n",
       "      <td>1Кр57 0,180   4/5А</td>\n",
       "      <td>(1, Кр57, 0,180, 4/5, А)</td>\n",
       "      <td>[]</td>\n",
       "      <td>1</td>\n",
       "      <td>Кр57</td>\n",
       "      <td>0,180</td>\n",
       "      <td>4/5</td>\n",
       "      <td>А</td>\n",
       "      <td>4</td>\n",
       "      <td>5</td>\n",
       "    </tr>\n",
       "    <tr>\n",
       "      <th>1</th>\n",
       "      <td>2</td>\n",
       "      <td>93282</td>\n",
       "      <td>1Кр57-0,080-5/2А 2Кр57-0,036-2/4А</td>\n",
       "      <td>(1, Кр57, 0,080, 5/2, А)</td>\n",
       "      <td>[]</td>\n",
       "      <td>1</td>\n",
       "      <td>Кр57</td>\n",
       "      <td>0,080</td>\n",
       "      <td>5/2</td>\n",
       "      <td>А</td>\n",
       "      <td>5</td>\n",
       "      <td>2</td>\n",
       "    </tr>\n",
       "    <tr>\n",
       "      <th>1</th>\n",
       "      <td>2</td>\n",
       "      <td>93282</td>\n",
       "      <td>1Кр57-0,080-5/2А 2Кр57-0,036-2/4А</td>\n",
       "      <td>(2, Кр57, 0,036, 2/4, А)</td>\n",
       "      <td>[]</td>\n",
       "      <td>2</td>\n",
       "      <td>Кр57</td>\n",
       "      <td>0,036</td>\n",
       "      <td>2/4</td>\n",
       "      <td>А</td>\n",
       "      <td>2</td>\n",
       "      <td>4</td>\n",
       "    </tr>\n",
       "    <tr>\n",
       "      <th>2</th>\n",
       "      <td>3</td>\n",
       "      <td>93286</td>\n",
       "      <td>1Кр57-0,080-5/5А 2Кр57-0,030-4/3А</td>\n",
       "      <td>(1, Кр57, 0,080, 5/5, А)</td>\n",
       "      <td>[]</td>\n",
       "      <td>1</td>\n",
       "      <td>Кр57</td>\n",
       "      <td>0,080</td>\n",
       "      <td>5/5</td>\n",
       "      <td>А</td>\n",
       "      <td>5</td>\n",
       "      <td>5</td>\n",
       "    </tr>\n",
       "    <tr>\n",
       "      <th>2</th>\n",
       "      <td>3</td>\n",
       "      <td>93286</td>\n",
       "      <td>1Кр57-0,080-5/5А 2Кр57-0,030-4/3А</td>\n",
       "      <td>(2, Кр57, 0,030, 4/3, А)</td>\n",
       "      <td>[]</td>\n",
       "      <td>2</td>\n",
       "      <td>Кр57</td>\n",
       "      <td>0,030</td>\n",
       "      <td>4/3</td>\n",
       "      <td>А</td>\n",
       "      <td>4</td>\n",
       "      <td>3</td>\n",
       "    </tr>\n",
       "    <tr>\n",
       "      <th>...</th>\n",
       "      <td>...</td>\n",
       "      <td>...</td>\n",
       "      <td>...</td>\n",
       "      <td>...</td>\n",
       "      <td>...</td>\n",
       "      <td>...</td>\n",
       "      <td>...</td>\n",
       "      <td>...</td>\n",
       "      <td>...</td>\n",
       "      <td>...</td>\n",
       "      <td>...</td>\n",
       "      <td>...</td>\n",
       "    </tr>\n",
       "    <tr>\n",
       "      <th>26632</th>\n",
       "      <td>21</td>\n",
       "      <td>МС00127939</td>\n",
       "      <td>1Кр57-0,158-3/5А 4Кр57-0,630-3/6А 3Кр57-0,450-4/3А 2Кр57-0,320-3/6Б</td>\n",
       "      <td>(3, Кр57, 0,450, 4/3, А)</td>\n",
       "      <td>[]</td>\n",
       "      <td>3</td>\n",
       "      <td>Кр57</td>\n",
       "      <td>0,450</td>\n",
       "      <td>4/3</td>\n",
       "      <td>А</td>\n",
       "      <td>4</td>\n",
       "      <td>3</td>\n",
       "    </tr>\n",
       "    <tr>\n",
       "      <th>26632</th>\n",
       "      <td>21</td>\n",
       "      <td>МС00127939</td>\n",
       "      <td>1Кр57-0,158-3/5А 4Кр57-0,630-3/6А 3Кр57-0,450-4/3А 2Кр57-0,320-3/6Б</td>\n",
       "      <td>(2, Кр57, 0,320, 3/6, Б)</td>\n",
       "      <td>[]</td>\n",
       "      <td>2</td>\n",
       "      <td>Кр57</td>\n",
       "      <td>0,320</td>\n",
       "      <td>3/6</td>\n",
       "      <td>Б</td>\n",
       "      <td>3</td>\n",
       "      <td>6</td>\n",
       "    </tr>\n",
       "    <tr>\n",
       "      <th>26633</th>\n",
       "      <td>22</td>\n",
       "      <td>МС00127941</td>\n",
       "      <td>2Кр57-0,300-4/3А 1Кр57-0,158-4/4А 7Кр57-1,111-4/5А</td>\n",
       "      <td>(2, Кр57, 0,300, 4/3, А)</td>\n",
       "      <td>[]</td>\n",
       "      <td>2</td>\n",
       "      <td>Кр57</td>\n",
       "      <td>0,300</td>\n",
       "      <td>4/3</td>\n",
       "      <td>А</td>\n",
       "      <td>4</td>\n",
       "      <td>3</td>\n",
       "    </tr>\n",
       "    <tr>\n",
       "      <th>26633</th>\n",
       "      <td>22</td>\n",
       "      <td>МС00127941</td>\n",
       "      <td>2Кр57-0,300-4/3А 1Кр57-0,158-4/4А 7Кр57-1,111-4/5А</td>\n",
       "      <td>(1, Кр57, 0,158, 4/4, А)</td>\n",
       "      <td>[]</td>\n",
       "      <td>1</td>\n",
       "      <td>Кр57</td>\n",
       "      <td>0,158</td>\n",
       "      <td>4/4</td>\n",
       "      <td>А</td>\n",
       "      <td>4</td>\n",
       "      <td>4</td>\n",
       "    </tr>\n",
       "    <tr>\n",
       "      <th>26633</th>\n",
       "      <td>22</td>\n",
       "      <td>МС00127941</td>\n",
       "      <td>2Кр57-0,300-4/3А 1Кр57-0,158-4/4А 7Кр57-1,111-4/5А</td>\n",
       "      <td>(7, Кр57, 1,111, 4/5, А)</td>\n",
       "      <td>[]</td>\n",
       "      <td>7</td>\n",
       "      <td>Кр57</td>\n",
       "      <td>1,111</td>\n",
       "      <td>4/5</td>\n",
       "      <td>А</td>\n",
       "      <td>4</td>\n",
       "      <td>5</td>\n",
       "    </tr>\n",
       "  </tbody>\n",
       "</table>\n",
       "<p>4131 rows × 12 columns</p>\n",
       "</div>"
      ],
      "text/plain": [
       "       пп        id7c  \\\n",
       "0       1       93280   \n",
       "1       2       93282   \n",
       "1       2       93282   \n",
       "2       3       93286   \n",
       "2       3       93286   \n",
       "...    ..         ...   \n",
       "26632  21  МС00127939   \n",
       "26632  21  МС00127939   \n",
       "26633  22  МС00127941   \n",
       "26633  22  МС00127941   \n",
       "26633  22  МС00127941   \n",
       "\n",
       "                                                                   vstavki  \\\n",
       "0                                                       1Кр57 0,180   4/5А   \n",
       "1                                        1Кр57-0,080-5/2А 2Кр57-0,036-2/4А   \n",
       "1                                        1Кр57-0,080-5/2А 2Кр57-0,036-2/4А   \n",
       "2                                        1Кр57-0,080-5/5А 2Кр57-0,030-4/3А   \n",
       "2                                        1Кр57-0,080-5/5А 2Кр57-0,030-4/3А   \n",
       "...                                                                    ...   \n",
       "26632  1Кр57-0,158-3/5А 4Кр57-0,630-3/6А 3Кр57-0,450-4/3А 2Кр57-0,320-3/6Б   \n",
       "26632  1Кр57-0,158-3/5А 4Кр57-0,630-3/6А 3Кр57-0,450-4/3А 2Кр57-0,320-3/6Б   \n",
       "26633                   2Кр57-0,300-4/3А 1Кр57-0,158-4/4А 7Кр57-1,111-4/5А   \n",
       "26633                   2Кр57-0,300-4/3А 1Кр57-0,158-4/4А 7Кр57-1,111-4/5А   \n",
       "26633                   2Кр57-0,300-4/3А 1Кр57-0,158-4/4А 7Кр57-1,111-4/5А   \n",
       "\n",
       "                        vs_dict gem ШТУК ОГРАНКА  КАРАТ   ЦД ПО  Ц  Д  \n",
       "0      (1, Кр57, 0,180, 4/5, А)  []    1    Кр57  0,180  4/5  А  4  5  \n",
       "1      (1, Кр57, 0,080, 5/2, А)  []    1    Кр57  0,080  5/2  А  5  2  \n",
       "1      (2, Кр57, 0,036, 2/4, А)  []    2    Кр57  0,036  2/4  А  2  4  \n",
       "2      (1, Кр57, 0,080, 5/5, А)  []    1    Кр57  0,080  5/5  А  5  5  \n",
       "2      (2, Кр57, 0,030, 4/3, А)  []    2    Кр57  0,030  4/3  А  4  3  \n",
       "...                         ...  ..  ...     ...    ...  ... .. .. ..  \n",
       "26632  (3, Кр57, 0,450, 4/3, А)  []    3    Кр57  0,450  4/3  А  4  3  \n",
       "26632  (2, Кр57, 0,320, 3/6, Б)  []    2    Кр57  0,320  3/6  Б  3  6  \n",
       "26633  (2, Кр57, 0,300, 4/3, А)  []    2    Кр57  0,300  4/3  А  4  3  \n",
       "26633  (1, Кр57, 0,158, 4/4, А)  []    1    Кр57  0,158  4/4  А  4  4  \n",
       "26633  (7, Кр57, 1,111, 4/5, А)  []    7    Кр57  1,111  4/5  А  4  5  \n",
       "\n",
       "[4131 rows x 12 columns]"
      ]
     },
     "execution_count": 43,
     "metadata": {},
     "output_type": "execute_result"
    }
   ],
   "source": [
    "vstavki_d[['пп','id7c','vstavki','vs_dict','gem','ШТУК','ОГРАНКА','КАРАТ','ЦД','ПО','Ц','Д']]"
   ]
  },
  {
   "cell_type": "code",
   "execution_count": 44,
   "metadata": {},
   "outputs": [
    {
     "name": "stdout",
     "output_type": "stream",
     "text": [
      "<class 'pandas.core.frame.DataFrame'>\n",
      "Int64Index: 4131 entries, 0 to 26633\n",
      "Data columns (total 38 columns):\n",
      " #   Column             Non-Null Count  Dtype  \n",
      "---  ------             --------------  -----  \n",
      " 0   Unnamed: 0         4131 non-null   int64  \n",
      " 1   пп                 4131 non-null   int64  \n",
      " 2   id7c               4131 non-null   object \n",
      " 3   Изделие            4131 non-null   object \n",
      " 4   Артикул            4131 non-null   object \n",
      " 5   Unnamed: 5         4131 non-null   object \n",
      " 6   НоменГр            4131 non-null   object \n",
      " 7   Проба              4131 non-null   object \n",
      " 8   Цвет металла       4131 non-null   object \n",
      " 9   Кол                4131 non-null   int32  \n",
      " 10  Вес                4131 non-null   float64\n",
      " 11  Закуп              4131 non-null   float64\n",
      " 12  Розн               4131 non-null   float64\n",
      " 13  vstavki            4131 non-null   object \n",
      " 14  Размер             4121 non-null   object \n",
      " 15  РазмернаяГруппаЦК  0 non-null      object \n",
      " 16  ЦветЦК             0 non-null      object \n",
      " 17  ЧистотаЦК          0 non-null      object \n",
      " 18  Дизайн             4125 non-null   object \n",
      " 19  Поставщик          4131 non-null   object \n",
      " 20  Договор            4131 non-null   object \n",
      " 21  ТН                 4131 non-null   object \n",
      " 22  Unnamed: 22        4131 non-null   object \n",
      " 23  filname            4131 non-null   object \n",
      " 24  checklog           4131 non-null   object \n",
      " 25  vs_dict            4131 non-null   object \n",
      " 26  gem                4131 non-null   object \n",
      " 27  lensourse          4131 non-null   int64  \n",
      " 28  lendictgem         4131 non-null   int64  \n",
      " 29  lendict            4131 non-null   int64  \n",
      " 30  lenperone          4131 non-null   float64\n",
      " 31  ШТУК               4131 non-null   object \n",
      " 32  ОГРАНКА            4131 non-null   object \n",
      " 33  КАРАТ              4131 non-null   object \n",
      " 34  ЦД                 4131 non-null   object \n",
      " 35  ПО                 4131 non-null   object \n",
      " 36  Ц                  4131 non-null   object \n",
      " 37  Д                  4131 non-null   object \n",
      "dtypes: float64(4), int32(1), int64(5), object(28)\n",
      "memory usage: 1.2+ MB\n"
     ]
    }
   ],
   "source": [
    "vstavki_d.info()"
   ]
  },
  {
   "cell_type": "code",
   "execution_count": 45,
   "metadata": {},
   "outputs": [
    {
     "data": {
      "text/html": [
       "<div>\n",
       "<style scoped>\n",
       "    .dataframe tbody tr th:only-of-type {\n",
       "        vertical-align: middle;\n",
       "    }\n",
       "\n",
       "    .dataframe tbody tr th {\n",
       "        vertical-align: top;\n",
       "    }\n",
       "\n",
       "    .dataframe thead th {\n",
       "        text-align: right;\n",
       "    }\n",
       "</style>\n",
       "<table border=\"1\" class=\"dataframe\">\n",
       "  <thead>\n",
       "    <tr style=\"text-align: right;\">\n",
       "      <th></th>\n",
       "      <th>пп</th>\n",
       "      <th>id7c</th>\n",
       "      <th>vstavki</th>\n",
       "      <th>vs_dict</th>\n",
       "      <th>gem</th>\n",
       "      <th>ШТУК</th>\n",
       "      <th>ОГРАНКА</th>\n",
       "      <th>КАРАТ</th>\n",
       "      <th>ЦД</th>\n",
       "      <th>ПО</th>\n",
       "      <th>Ц</th>\n",
       "      <th>Д</th>\n",
       "    </tr>\n",
       "  </thead>\n",
       "  <tbody>\n",
       "  </tbody>\n",
       "</table>\n",
       "</div>"
      ],
      "text/plain": [
       "Empty DataFrame\n",
       "Columns: [пп, id7c, vstavki, vs_dict, gem, ШТУК, ОГРАНКА, КАРАТ, ЦД, ПО, Ц, Д]\n",
       "Index: []"
      ]
     },
     "execution_count": 45,
     "metadata": {},
     "output_type": "execute_result"
    }
   ],
   "source": [
    "vstavki_d[['пп','id7c','vstavki','vs_dict','gem','ШТУК','ОГРАНКА','КАРАТ','ЦД','ПО','Ц','Д']][vstavki_d.ШТУК == '']"
   ]
  },
  {
   "cell_type": "code",
   "execution_count": null,
   "metadata": {},
   "outputs": [],
   "source": [
    "#vstavki_d.loc[vstavki_d.ШТУК == '','ШТУК'] = 1"
   ]
  },
  {
   "cell_type": "code",
   "execution_count": 46,
   "metadata": {},
   "outputs": [],
   "source": [
    "vstavki_d.ШТУК = vstavki_d.ШТУК.astype('int')"
   ]
  },
  {
   "cell_type": "code",
   "execution_count": 47,
   "metadata": {},
   "outputs": [],
   "source": [
    "vstavki_d.КАРАТ = vstavki_d.КАРАТ.str.replace(',','.').astype('float')\n",
    "vstavki_d.КАРАТ = vstavki_d.КАРАТ.astype('float')"
   ]
  },
  {
   "cell_type": "markdown",
   "metadata": {},
   "source": [
    "### Проверки 1"
   ]
  },
  {
   "cell_type": "code",
   "execution_count": 48,
   "metadata": {},
   "outputs": [
    {
     "data": {
      "text/plain": [
       "array([  1,   2,   3,   4,   5,   6,   7,   8,   9,  10,  11,  12,  13,\n",
       "        14,  15,  16,  17,  18,  19,  20,  21,  22,  23,  24,  25,  26,\n",
       "        28,  29,  30,  31,  32,  34,  35,  36,  37,  38,  42,  47,  48,\n",
       "        50,  55,  64,  71,  83,  90, 100, 130, 148, 201, 216])"
      ]
     },
     "execution_count": 48,
     "metadata": {},
     "output_type": "execute_result"
    }
   ],
   "source": [
    "vstavki_d.ШТУК.sort_values().unique()"
   ]
  },
  {
   "cell_type": "code",
   "execution_count": 49,
   "metadata": {},
   "outputs": [],
   "source": [
    "pd.options.display.max_colwidth = 200"
   ]
  },
  {
   "cell_type": "code",
   "execution_count": 50,
   "metadata": {},
   "outputs": [
    {
     "data": {
      "text/html": [
       "<div>\n",
       "<style scoped>\n",
       "    .dataframe tbody tr th:only-of-type {\n",
       "        vertical-align: middle;\n",
       "    }\n",
       "\n",
       "    .dataframe tbody tr th {\n",
       "        vertical-align: top;\n",
       "    }\n",
       "\n",
       "    .dataframe thead th {\n",
       "        text-align: right;\n",
       "    }\n",
       "</style>\n",
       "<table border=\"1\" class=\"dataframe\">\n",
       "  <thead>\n",
       "    <tr style=\"text-align: right;\">\n",
       "      <th></th>\n",
       "      <th>пп</th>\n",
       "      <th>id7c</th>\n",
       "      <th>vstavki</th>\n",
       "      <th>vs_dict</th>\n",
       "      <th>gem</th>\n",
       "      <th>ШТУК</th>\n",
       "      <th>ОГРАНКА</th>\n",
       "      <th>КАРАТ</th>\n",
       "      <th>ЦД</th>\n",
       "      <th>ПО</th>\n",
       "      <th>Ц</th>\n",
       "      <th>Д</th>\n",
       "    </tr>\n",
       "  </thead>\n",
       "  <tbody>\n",
       "    <tr>\n",
       "      <th>79</th>\n",
       "      <td>80</td>\n",
       "      <td>94914</td>\n",
       "      <td>ЖемчугС 201Кр57-4,140-1/2А 100Кр57-4,940-2/2А 3Кр57-0,080-1/4А 31Кр57-0,640-3/3А 20Кр57-0,940-4/2А 1Кр57-0,070-4/5А 2Кр57-0,170-5/6А</td>\n",
       "      <td>(100, Кр57, 4,940, 2/2, А)</td>\n",
       "      <td>[ЖемчугС ]</td>\n",
       "      <td>100</td>\n",
       "      <td>Кр57</td>\n",
       "      <td>4.940</td>\n",
       "      <td>2/2</td>\n",
       "      <td>А</td>\n",
       "      <td>2</td>\n",
       "      <td>2</td>\n",
       "    </tr>\n",
       "    <tr>\n",
       "      <th>15546</th>\n",
       "      <td>1827</td>\n",
       "      <td>МС00175299</td>\n",
       "      <td>Кварц 130Кр57-2,053-4/5А</td>\n",
       "      <td>(130, Кр57, 2,053, 4/5, А)</td>\n",
       "      <td>[Кварц ]</td>\n",
       "      <td>130</td>\n",
       "      <td>Кр57</td>\n",
       "      <td>2.053</td>\n",
       "      <td>4/5</td>\n",
       "      <td>А</td>\n",
       "      <td>4</td>\n",
       "      <td>5</td>\n",
       "    </tr>\n",
       "    <tr>\n",
       "      <th>80</th>\n",
       "      <td>81</td>\n",
       "      <td>94915</td>\n",
       "      <td>1Г56-0,510-5/6А 4Кр57-0,520-2/2А 55Кр57-2,200-2/2А 148Кр57-2,960-2/2А</td>\n",
       "      <td>(148, Кр57, 2,960, 2/2, А)</td>\n",
       "      <td>[]</td>\n",
       "      <td>148</td>\n",
       "      <td>Кр57</td>\n",
       "      <td>2.960</td>\n",
       "      <td>2/2</td>\n",
       "      <td>А</td>\n",
       "      <td>2</td>\n",
       "      <td>2</td>\n",
       "    </tr>\n",
       "    <tr>\n",
       "      <th>79</th>\n",
       "      <td>80</td>\n",
       "      <td>94914</td>\n",
       "      <td>ЖемчугС 201Кр57-4,140-1/2А 100Кр57-4,940-2/2А 3Кр57-0,080-1/4А 31Кр57-0,640-3/3А 20Кр57-0,940-4/2А 1Кр57-0,070-4/5А 2Кр57-0,170-5/6А</td>\n",
       "      <td>(201, Кр57, 4,140, 1/2, А)</td>\n",
       "      <td>[ЖемчугС ]</td>\n",
       "      <td>201</td>\n",
       "      <td>Кр57</td>\n",
       "      <td>4.140</td>\n",
       "      <td>1/2</td>\n",
       "      <td>А</td>\n",
       "      <td>1</td>\n",
       "      <td>2</td>\n",
       "    </tr>\n",
       "    <tr>\n",
       "      <th>15547</th>\n",
       "      <td>1828</td>\n",
       "      <td>МС00175300</td>\n",
       "      <td>1Кр57-1,130-7/5А 216Кр57-2,136-4/5А</td>\n",
       "      <td>(216, Кр57, 2,136, 4/5, А)</td>\n",
       "      <td>[]</td>\n",
       "      <td>216</td>\n",
       "      <td>Кр57</td>\n",
       "      <td>2.136</td>\n",
       "      <td>4/5</td>\n",
       "      <td>А</td>\n",
       "      <td>4</td>\n",
       "      <td>5</td>\n",
       "    </tr>\n",
       "  </tbody>\n",
       "</table>\n",
       "</div>"
      ],
      "text/plain": [
       "         пп        id7c  \\\n",
       "79       80       94914   \n",
       "15546  1827  МС00175299   \n",
       "80       81       94915   \n",
       "79       80       94914   \n",
       "15547  1828  МС00175300   \n",
       "\n",
       "                                                                                                                                    vstavki  \\\n",
       "79     ЖемчугС 201Кр57-4,140-1/2А 100Кр57-4,940-2/2А 3Кр57-0,080-1/4А 31Кр57-0,640-3/3А 20Кр57-0,940-4/2А 1Кр57-0,070-4/5А 2Кр57-0,170-5/6А   \n",
       "15546                                                                                                              Кварц 130Кр57-2,053-4/5А   \n",
       "80                                                                    1Г56-0,510-5/6А 4Кр57-0,520-2/2А 55Кр57-2,200-2/2А 148Кр57-2,960-2/2А   \n",
       "79     ЖемчугС 201Кр57-4,140-1/2А 100Кр57-4,940-2/2А 3Кр57-0,080-1/4А 31Кр57-0,640-3/3А 20Кр57-0,940-4/2А 1Кр57-0,070-4/5А 2Кр57-0,170-5/6А   \n",
       "15547                                                                                                   1Кр57-1,130-7/5А 216Кр57-2,136-4/5А   \n",
       "\n",
       "                          vs_dict         gem  ШТУК ОГРАНКА  КАРАТ   ЦД ПО  Ц  \\\n",
       "79     (100, Кр57, 4,940, 2/2, А)  [ЖемчугС ]   100    Кр57  4.940  2/2  А  2   \n",
       "15546  (130, Кр57, 2,053, 4/5, А)    [Кварц ]   130    Кр57  2.053  4/5  А  4   \n",
       "80     (148, Кр57, 2,960, 2/2, А)          []   148    Кр57  2.960  2/2  А  2   \n",
       "79     (201, Кр57, 4,140, 1/2, А)  [ЖемчугС ]   201    Кр57  4.140  1/2  А  1   \n",
       "15547  (216, Кр57, 2,136, 4/5, А)          []   216    Кр57  2.136  4/5  А  4   \n",
       "\n",
       "       Д  \n",
       "79     2  \n",
       "15546  5  \n",
       "80     2  \n",
       "79     2  \n",
       "15547  5  "
      ]
     },
     "execution_count": 50,
     "metadata": {},
     "output_type": "execute_result"
    }
   ],
   "source": [
    "vstavki_d[vstavki_d.ШТУК >= 100][['пп','id7c','vstavki','vs_dict','gem','ШТУК','ОГРАНКА','КАРАТ','ЦД','ПО','Ц','Д']].sort_values(by=\"ШТУК\")"
   ]
  },
  {
   "cell_type": "code",
   "execution_count": null,
   "metadata": {},
   "outputs": [],
   "source": [
    "markerr()"
   ]
  },
  {
   "cell_type": "code",
   "execution_count": 51,
   "metadata": {},
   "outputs": [
    {
     "data": {
      "text/plain": [
       "array(['А', 'Б', 'В'], dtype=object)"
      ]
     },
     "execution_count": 51,
     "metadata": {},
     "output_type": "execute_result"
    }
   ],
   "source": [
    "vstavki_d.ПО.unique()"
   ]
  },
  {
   "cell_type": "code",
   "execution_count": 52,
   "metadata": {},
   "outputs": [
    {
     "data": {
      "text/html": [
       "<div>\n",
       "<style scoped>\n",
       "    .dataframe tbody tr th:only-of-type {\n",
       "        vertical-align: middle;\n",
       "    }\n",
       "\n",
       "    .dataframe tbody tr th {\n",
       "        vertical-align: top;\n",
       "    }\n",
       "\n",
       "    .dataframe thead th {\n",
       "        text-align: right;\n",
       "    }\n",
       "</style>\n",
       "<table border=\"1\" class=\"dataframe\">\n",
       "  <thead>\n",
       "    <tr style=\"text-align: right;\">\n",
       "      <th></th>\n",
       "      <th>пп</th>\n",
       "      <th>id7c</th>\n",
       "      <th>vstavki</th>\n",
       "      <th>vs_dict</th>\n",
       "      <th>gem</th>\n",
       "      <th>ШТУК</th>\n",
       "      <th>ОГРАНКА</th>\n",
       "      <th>КАРАТ</th>\n",
       "      <th>ЦД</th>\n",
       "      <th>ПО</th>\n",
       "      <th>Ц</th>\n",
       "      <th>Д</th>\n",
       "    </tr>\n",
       "  </thead>\n",
       "  <tbody>\n",
       "  </tbody>\n",
       "</table>\n",
       "</div>"
      ],
      "text/plain": [
       "Empty DataFrame\n",
       "Columns: [пп, id7c, vstavki, vs_dict, gem, ШТУК, ОГРАНКА, КАРАТ, ЦД, ПО, Ц, Д]\n",
       "Index: []"
      ]
     },
     "execution_count": 52,
     "metadata": {},
     "output_type": "execute_result"
    }
   ],
   "source": [
    "vstavki_d.loc[vstavki_d.ПО == 'а', ['пп','id7c','vstavki','vs_dict','gem','ШТУК','ОГРАНКА','КАРАТ','ЦД','ПО','Ц','Д']]\n"
   ]
  },
  {
   "cell_type": "code",
   "execution_count": null,
   "metadata": {},
   "outputs": [],
   "source": [
    "#saveerrlog(vstavki_d,'ПО', 'а')"
   ]
  },
  {
   "cell_type": "code",
   "execution_count": 53,
   "metadata": {},
   "outputs": [
    {
     "data": {
      "text/plain": [
       "array(['Кр57', 'Кр17', 'Г56', 'И57', 'КР57', 'Кр33', 'кр57'], dtype=object)"
      ]
     },
     "execution_count": 53,
     "metadata": {},
     "output_type": "execute_result"
    }
   ],
   "source": [
    "vstavki_d.ОГРАНКА.unique()"
   ]
  },
  {
   "cell_type": "code",
   "execution_count": null,
   "metadata": {
    "scrolled": true
   },
   "outputs": [],
   "source": [
    "errindex = vstavki_d[vstavki_d.ОГРАНКА == 'К57'].index\n",
    "vstavki_d.loc[errindex,['пп','id7c','vstavki','vs_dict','gem','ШТУК','ОГРАНКА','КАРАТ','ЦД','ПО','Ц','Д']]"
   ]
  },
  {
   "cell_type": "code",
   "execution_count": null,
   "metadata": {},
   "outputs": [],
   "source": [
    "jewellery.loc[errindex,'checklog'] = 'К57'"
   ]
  },
  {
   "cell_type": "code",
   "execution_count": null,
   "metadata": {},
   "outputs": [],
   "source": [
    "jewellery[~(jewellery.checklog=='')]"
   ]
  },
  {
   "cell_type": "code",
   "execution_count": null,
   "metadata": {},
   "outputs": [],
   "source": [
    "saveerrlog(jewellery)"
   ]
  },
  {
   "cell_type": "code",
   "execution_count": null,
   "metadata": {},
   "outputs": [],
   "source": [
    "#doesnt work - saveerrlogall(vstavki_d,'ОГРАНКА','р57' )\n",
    "#saveerrlog(vstavki_d,'ОГРАНКА','р57' )\n",
    "#vstavki_d.loc[1498]"
   ]
  },
  {
   "cell_type": "code",
   "execution_count": null,
   "metadata": {},
   "outputs": [],
   "source": [
    "vstavki_d.info()"
   ]
  },
  {
   "cell_type": "code",
   "execution_count": 54,
   "metadata": {},
   "outputs": [
    {
     "data": {
      "text/plain": [
       "array([3.000e-03, 4.000e-03, 5.000e-03, 6.000e-03, 7.000e-03, 8.000e-03,\n",
       "       9.000e-03, 1.000e-02, 1.100e-02, 1.200e-02, 1.300e-02, 1.400e-02,\n",
       "       1.500e-02, 1.600e-02, 1.700e-02, 1.800e-02, 1.900e-02, 1.920e-02,\n",
       "       2.000e-02, 2.100e-02, 2.200e-02, 2.300e-02, 2.400e-02, 2.500e-02,\n",
       "       2.600e-02, 2.700e-02, 2.800e-02, 2.900e-02, 3.000e-02, 3.100e-02,\n",
       "       3.200e-02, 3.300e-02, 3.400e-02, 3.500e-02, 3.600e-02, 3.700e-02,\n",
       "       3.800e-02, 3.900e-02, 4.000e-02, 4.100e-02, 4.200e-02, 4.300e-02,\n",
       "       4.400e-02, 4.500e-02, 4.600e-02, 4.700e-02, 4.800e-02, 4.900e-02,\n",
       "       5.000e-02, 5.200e-02, 5.300e-02, 5.400e-02, 5.500e-02, 5.600e-02,\n",
       "       5.700e-02, 5.800e-02, 5.900e-02, 6.000e-02, 6.100e-02, 6.200e-02,\n",
       "       6.300e-02, 6.400e-02, 6.500e-02, 6.600e-02, 6.700e-02, 6.800e-02,\n",
       "       6.900e-02, 7.000e-02, 7.100e-02, 7.200e-02, 7.300e-02, 7.400e-02,\n",
       "       7.500e-02, 7.600e-02, 7.700e-02, 7.800e-02, 7.900e-02, 8.000e-02,\n",
       "       8.100e-02, 8.200e-02, 8.300e-02, 8.400e-02, 8.500e-02, 8.700e-02,\n",
       "       8.800e-02, 8.900e-02, 9.000e-02, 9.100e-02, 9.300e-02, 9.400e-02,\n",
       "       9.500e-02, 9.600e-02, 9.700e-02, 9.900e-02, 1.000e-01, 1.010e-01,\n",
       "       1.030e-01, 1.050e-01, 1.060e-01, 1.070e-01, 1.090e-01, 1.100e-01,\n",
       "       1.110e-01, 1.120e-01, 1.130e-01, 1.140e-01, 1.150e-01, 1.160e-01,\n",
       "       1.170e-01, 1.180e-01, 1.190e-01, 1.200e-01, 1.210e-01, 1.220e-01,\n",
       "       1.230e-01, 1.240e-01, 1.250e-01, 1.260e-01, 1.270e-01, 1.280e-01,\n",
       "       1.290e-01, 1.300e-01, 1.310e-01, 1.320e-01, 1.330e-01, 1.340e-01,\n",
       "       1.350e-01, 1.370e-01, 1.380e-01, 1.390e-01, 1.400e-01, 1.410e-01,\n",
       "       1.420e-01, 1.440e-01, 1.450e-01, 1.460e-01, 1.470e-01, 1.500e-01,\n",
       "       1.510e-01, 1.520e-01, 1.530e-01, 1.560e-01, 1.570e-01, 1.580e-01,\n",
       "       1.590e-01, 1.600e-01, 1.610e-01, 1.620e-01, 1.640e-01, 1.650e-01,\n",
       "       1.660e-01, 1.670e-01, 1.680e-01, 1.690e-01, 1.700e-01, 1.710e-01,\n",
       "       1.730e-01, 1.740e-01, 1.750e-01, 1.790e-01, 1.800e-01, 1.810e-01,\n",
       "       1.820e-01, 1.830e-01, 1.840e-01, 1.850e-01, 1.860e-01, 1.890e-01,\n",
       "       1.900e-01, 1.920e-01, 1.930e-01, 1.940e-01, 1.990e-01, 2.000e-01,\n",
       "       2.030e-01, 2.040e-01, 2.050e-01, 2.070e-01, 2.100e-01, 2.120e-01,\n",
       "       2.130e-01, 2.140e-01, 2.150e-01, 2.160e-01, 2.170e-01, 2.180e-01,\n",
       "       2.200e-01, 2.240e-01, 2.270e-01, 2.300e-01, 2.310e-01, 2.370e-01,\n",
       "       2.380e-01, 2.400e-01, 2.410e-01, 2.420e-01, 2.440e-01, 2.450e-01,\n",
       "       2.460e-01, 2.470e-01, 2.480e-01, 2.490e-01, 2.500e-01, 2.510e-01,\n",
       "       2.520e-01, 2.530e-01, 2.550e-01, 2.570e-01, 2.600e-01, 2.620e-01,\n",
       "       2.630e-01, 2.670e-01, 2.690e-01, 2.700e-01, 2.720e-01, 2.740e-01,\n",
       "       2.760e-01, 2.770e-01, 2.780e-01, 2.790e-01, 2.800e-01, 2.810e-01,\n",
       "       2.830e-01, 2.850e-01, 2.880e-01, 2.900e-01, 2.920e-01, 2.940e-01,\n",
       "       2.950e-01, 2.980e-01, 2.990e-01, 3.000e-01, 3.020e-01, 3.030e-01,\n",
       "       3.040e-01, 3.050e-01, 3.080e-01, 3.100e-01, 3.130e-01, 3.140e-01,\n",
       "       3.160e-01, 3.170e-01, 3.200e-01, 3.210e-01, 3.220e-01, 3.230e-01,\n",
       "       3.260e-01, 3.270e-01, 3.290e-01, 3.300e-01, 3.320e-01, 3.330e-01,\n",
       "       3.340e-01, 3.350e-01, 3.360e-01, 3.370e-01, 3.400e-01, 3.410e-01,\n",
       "       3.430e-01, 3.450e-01, 3.470e-01, 3.480e-01, 3.500e-01, 3.510e-01,\n",
       "       3.530e-01, 3.550e-01, 3.560e-01, 3.570e-01, 3.600e-01, 3.630e-01,\n",
       "       3.660e-01, 3.670e-01, 3.680e-01, 3.700e-01, 3.800e-01, 3.870e-01,\n",
       "       3.900e-01, 3.910e-01, 4.000e-01, 4.040e-01, 4.100e-01, 4.120e-01,\n",
       "       4.130e-01, 4.140e-01, 4.150e-01, 4.160e-01, 4.170e-01, 4.200e-01,\n",
       "       4.280e-01, 4.300e-01, 4.310e-01, 4.320e-01, 4.330e-01, 4.340e-01,\n",
       "       4.350e-01, 4.360e-01, 4.380e-01, 4.390e-01, 4.400e-01, 4.430e-01,\n",
       "       4.440e-01, 4.490e-01, 4.500e-01, 4.600e-01, 4.700e-01, 4.710e-01,\n",
       "       4.750e-01, 4.900e-01, 4.930e-01, 5.000e-01, 5.050e-01, 5.100e-01,\n",
       "       5.200e-01, 5.230e-01, 5.260e-01, 5.270e-01, 5.300e-01, 5.340e-01,\n",
       "       5.400e-01, 5.420e-01, 5.500e-01, 5.520e-01, 5.530e-01, 5.600e-01,\n",
       "       5.700e-01, 5.740e-01, 5.760e-01, 5.900e-01, 5.910e-01, 6.000e-01,\n",
       "       6.100e-01, 6.200e-01, 6.300e-01, 6.330e-01, 6.400e-01, 6.480e-01,\n",
       "       6.500e-01, 6.570e-01, 6.590e-01, 6.600e-01, 6.700e-01, 6.800e-01,\n",
       "       6.840e-01, 6.900e-01, 6.970e-01, 7.000e-01, 7.100e-01, 7.140e-01,\n",
       "       7.200e-01, 7.300e-01, 7.320e-01, 7.400e-01, 7.600e-01, 7.900e-01,\n",
       "       8.200e-01, 8.380e-01, 8.400e-01, 8.420e-01, 8.450e-01, 8.470e-01,\n",
       "       8.500e-01, 8.560e-01, 8.640e-01, 8.700e-01, 8.780e-01, 9.200e-01,\n",
       "       9.400e-01, 9.620e-01, 9.790e-01, 1.010e+00, 1.020e+00, 1.050e+00,\n",
       "       1.060e+00, 1.080e+00, 1.100e+00, 1.105e+00, 1.110e+00, 1.111e+00,\n",
       "       1.116e+00, 1.130e+00, 1.140e+00, 1.170e+00, 1.280e+00, 1.290e+00,\n",
       "       1.340e+00, 1.410e+00, 1.424e+00, 1.602e+00, 1.668e+00, 1.711e+00,\n",
       "       1.725e+00, 2.000e+00, 2.053e+00, 2.136e+00, 2.200e+00, 2.960e+00,\n",
       "       4.140e+00, 4.940e+00])"
      ]
     },
     "execution_count": 54,
     "metadata": {},
     "output_type": "execute_result"
    }
   ],
   "source": [
    "vstavki_d.loc[vstavki_d.КАРАТ > -10000,'КАРАТ'].sort_values().unique()"
   ]
  },
  {
   "cell_type": "code",
   "execution_count": 55,
   "metadata": {},
   "outputs": [
    {
     "data": {
      "text/html": [
       "<div>\n",
       "<style scoped>\n",
       "    .dataframe tbody tr th:only-of-type {\n",
       "        vertical-align: middle;\n",
       "    }\n",
       "\n",
       "    .dataframe tbody tr th {\n",
       "        vertical-align: top;\n",
       "    }\n",
       "\n",
       "    .dataframe thead th {\n",
       "        text-align: right;\n",
       "    }\n",
       "</style>\n",
       "<table border=\"1\" class=\"dataframe\">\n",
       "  <thead>\n",
       "    <tr style=\"text-align: right;\">\n",
       "      <th></th>\n",
       "      <th>пп</th>\n",
       "      <th>id7c</th>\n",
       "      <th>vstavki</th>\n",
       "      <th>vs_dict</th>\n",
       "      <th>gem</th>\n",
       "      <th>ШТУК</th>\n",
       "      <th>ОГРАНКА</th>\n",
       "      <th>КАРАТ</th>\n",
       "      <th>ЦД</th>\n",
       "      <th>ПО</th>\n",
       "      <th>Ц</th>\n",
       "      <th>Д</th>\n",
       "    </tr>\n",
       "  </thead>\n",
       "  <tbody>\n",
       "    <tr>\n",
       "      <th>79</th>\n",
       "      <td>80</td>\n",
       "      <td>94914</td>\n",
       "      <td>ЖемчугС 201Кр57-4,140-1/2А 100Кр57-4,940-2/2А 3Кр57-0,080-1/4А 31Кр57-0,640-3/3А 20Кр57-0,940-4/2А 1Кр57-0,070-4/5А 2Кр57-0,170-5/6А</td>\n",
       "      <td>(201, Кр57, 4,140, 1/2, А)</td>\n",
       "      <td>[ЖемчугС ]</td>\n",
       "      <td>201</td>\n",
       "      <td>Кр57</td>\n",
       "      <td>4.140</td>\n",
       "      <td>1/2</td>\n",
       "      <td>А</td>\n",
       "      <td>1</td>\n",
       "      <td>2</td>\n",
       "    </tr>\n",
       "    <tr>\n",
       "      <th>79</th>\n",
       "      <td>80</td>\n",
       "      <td>94914</td>\n",
       "      <td>ЖемчугС 201Кр57-4,140-1/2А 100Кр57-4,940-2/2А 3Кр57-0,080-1/4А 31Кр57-0,640-3/3А 20Кр57-0,940-4/2А 1Кр57-0,070-4/5А 2Кр57-0,170-5/6А</td>\n",
       "      <td>(100, Кр57, 4,940, 2/2, А)</td>\n",
       "      <td>[ЖемчугС ]</td>\n",
       "      <td>100</td>\n",
       "      <td>Кр57</td>\n",
       "      <td>4.940</td>\n",
       "      <td>2/2</td>\n",
       "      <td>А</td>\n",
       "      <td>2</td>\n",
       "      <td>2</td>\n",
       "    </tr>\n",
       "    <tr>\n",
       "      <th>80</th>\n",
       "      <td>81</td>\n",
       "      <td>94915</td>\n",
       "      <td>1Г56-0,510-5/6А 4Кр57-0,520-2/2А 55Кр57-2,200-2/2А 148Кр57-2,960-2/2А</td>\n",
       "      <td>(55, Кр57, 2,200, 2/2, А)</td>\n",
       "      <td>[]</td>\n",
       "      <td>55</td>\n",
       "      <td>Кр57</td>\n",
       "      <td>2.200</td>\n",
       "      <td>2/2</td>\n",
       "      <td>А</td>\n",
       "      <td>2</td>\n",
       "      <td>2</td>\n",
       "    </tr>\n",
       "    <tr>\n",
       "      <th>80</th>\n",
       "      <td>81</td>\n",
       "      <td>94915</td>\n",
       "      <td>1Г56-0,510-5/6А 4Кр57-0,520-2/2А 55Кр57-2,200-2/2А 148Кр57-2,960-2/2А</td>\n",
       "      <td>(148, Кр57, 2,960, 2/2, А)</td>\n",
       "      <td>[]</td>\n",
       "      <td>148</td>\n",
       "      <td>Кр57</td>\n",
       "      <td>2.960</td>\n",
       "      <td>2/2</td>\n",
       "      <td>А</td>\n",
       "      <td>2</td>\n",
       "      <td>2</td>\n",
       "    </tr>\n",
       "    <tr>\n",
       "      <th>15546</th>\n",
       "      <td>1827</td>\n",
       "      <td>МС00175299</td>\n",
       "      <td>Кварц 130Кр57-2,053-4/5А</td>\n",
       "      <td>(130, Кр57, 2,053, 4/5, А)</td>\n",
       "      <td>[Кварц ]</td>\n",
       "      <td>130</td>\n",
       "      <td>Кр57</td>\n",
       "      <td>2.053</td>\n",
       "      <td>4/5</td>\n",
       "      <td>А</td>\n",
       "      <td>4</td>\n",
       "      <td>5</td>\n",
       "    </tr>\n",
       "    <tr>\n",
       "      <th>15547</th>\n",
       "      <td>1828</td>\n",
       "      <td>МС00175300</td>\n",
       "      <td>1Кр57-1,130-7/5А 216Кр57-2,136-4/5А</td>\n",
       "      <td>(216, Кр57, 2,136, 4/5, А)</td>\n",
       "      <td>[]</td>\n",
       "      <td>216</td>\n",
       "      <td>Кр57</td>\n",
       "      <td>2.136</td>\n",
       "      <td>4/5</td>\n",
       "      <td>А</td>\n",
       "      <td>4</td>\n",
       "      <td>5</td>\n",
       "    </tr>\n",
       "  </tbody>\n",
       "</table>\n",
       "</div>"
      ],
      "text/plain": [
       "         пп        id7c  \\\n",
       "79       80       94914   \n",
       "79       80       94914   \n",
       "80       81       94915   \n",
       "80       81       94915   \n",
       "15546  1827  МС00175299   \n",
       "15547  1828  МС00175300   \n",
       "\n",
       "                                                                                                                                    vstavki  \\\n",
       "79     ЖемчугС 201Кр57-4,140-1/2А 100Кр57-4,940-2/2А 3Кр57-0,080-1/4А 31Кр57-0,640-3/3А 20Кр57-0,940-4/2А 1Кр57-0,070-4/5А 2Кр57-0,170-5/6А   \n",
       "79     ЖемчугС 201Кр57-4,140-1/2А 100Кр57-4,940-2/2А 3Кр57-0,080-1/4А 31Кр57-0,640-3/3А 20Кр57-0,940-4/2А 1Кр57-0,070-4/5А 2Кр57-0,170-5/6А   \n",
       "80                                                                    1Г56-0,510-5/6А 4Кр57-0,520-2/2А 55Кр57-2,200-2/2А 148Кр57-2,960-2/2А   \n",
       "80                                                                    1Г56-0,510-5/6А 4Кр57-0,520-2/2А 55Кр57-2,200-2/2А 148Кр57-2,960-2/2А   \n",
       "15546                                                                                                              Кварц 130Кр57-2,053-4/5А   \n",
       "15547                                                                                                   1Кр57-1,130-7/5А 216Кр57-2,136-4/5А   \n",
       "\n",
       "                          vs_dict         gem  ШТУК ОГРАНКА  КАРАТ   ЦД ПО  Ц  \\\n",
       "79     (201, Кр57, 4,140, 1/2, А)  [ЖемчугС ]   201    Кр57  4.140  1/2  А  1   \n",
       "79     (100, Кр57, 4,940, 2/2, А)  [ЖемчугС ]   100    Кр57  4.940  2/2  А  2   \n",
       "80      (55, Кр57, 2,200, 2/2, А)          []    55    Кр57  2.200  2/2  А  2   \n",
       "80     (148, Кр57, 2,960, 2/2, А)          []   148    Кр57  2.960  2/2  А  2   \n",
       "15546  (130, Кр57, 2,053, 4/5, А)    [Кварц ]   130    Кр57  2.053  4/5  А  4   \n",
       "15547  (216, Кр57, 2,136, 4/5, А)          []   216    Кр57  2.136  4/5  А  4   \n",
       "\n",
       "       Д  \n",
       "79     2  \n",
       "79     2  \n",
       "80     2  \n",
       "80     2  \n",
       "15546  5  \n",
       "15547  5  "
      ]
     },
     "execution_count": 55,
     "metadata": {},
     "output_type": "execute_result"
    }
   ],
   "source": [
    "vstavki_d.loc[vstavki_d.КАРАТ > 2,['пп','id7c','vstavki','vs_dict','gem','ШТУК','ОГРАНКА','КАРАТ','ЦД','ПО','Ц','Д']]"
   ]
  },
  {
   "cell_type": "code",
   "execution_count": null,
   "metadata": {},
   "outputs": [],
   "source": [
    "errindex = vstavki_d.loc[vstavki_d.КАРАТ > 20,['пп','id7c','vstavki','vs_dict','gem','ШТУК','ОГРАНКА','КАРАТ','ЦД','ПО','Ц','Д']]"
   ]
  },
  {
   "cell_type": "code",
   "execution_count": null,
   "metadata": {
    "scrolled": true
   },
   "outputs": [],
   "source": [
    "#New mark error\n",
    "errindex = vstavki_d[vstavki_d.КАРАТ > 20].index\n",
    "vstavki_d.loc[errindex,['пп','id7c','vstavki','vs_dict','gem','ШТУК','ОГРАНКА','КАРАТ','ЦД','ПО','Ц','Д']]"
   ]
  },
  {
   "cell_type": "code",
   "execution_count": null,
   "metadata": {},
   "outputs": [],
   "source": [
    "#New mark error\n",
    "jewellery.loc[errindex,'checklog'] = '2Кр57-030-это сколько?'"
   ]
  },
  {
   "cell_type": "code",
   "execution_count": null,
   "metadata": {},
   "outputs": [],
   "source": [
    "saveerrlog(jewellery)"
   ]
  },
  {
   "cell_type": "code",
   "execution_count": null,
   "metadata": {},
   "outputs": [],
   "source": [
    "vstavki_d.loc[vstavki_d.КАРАТ > 20,['пп','id7c','vstavki','vs_dict','gem','ШТУК','ОГРАНКА','КАРАТ','ЦД','ПО','Ц','Д']]"
   ]
  },
  {
   "cell_type": "code",
   "execution_count": null,
   "metadata": {},
   "outputs": [],
   "source": [
    "#saveerrlog(vstavki_d,'КАРАТ',190)"
   ]
  },
  {
   "cell_type": "code",
   "execution_count": null,
   "metadata": {},
   "outputs": [],
   "source": [
    "#temp ИСПРАВЛЕНИЕ замена значения так работает\n",
    "#vstavki.loc[vstavki.vstavki == '1Кр57-0,180-6/3А 1Кр57-190-6/3А','vstavki'] = '1Кр57-0,180-6/3А 1Кр57-0,190-6/3А'\n"
   ]
  },
  {
   "cell_type": "code",
   "execution_count": null,
   "metadata": {},
   "outputs": [],
   "source": [
    "#vstavki_d.loc[vstavki_d.vstavki == '8Кр57-159-6/6А','vstavki'] = '8Кр57-1.59-6/6А'"
   ]
  },
  {
   "cell_type": "code",
   "execution_count": null,
   "metadata": {},
   "outputs": [],
   "source": [
    "#vstavki_d.loc[116,'КАРАТ'] =1.59"
   ]
  },
  {
   "cell_type": "code",
   "execution_count": 56,
   "metadata": {},
   "outputs": [
    {
     "data": {
      "text/plain": [
       "array(['4/5', '5/2', '2/4', '5/5', '4/3', '6/2', '5/4', '4/6', '7/5',\n",
       "       '6/6', '3/3', '2/5', '2/3', '1/3', '3/2', '3/6', '2/2', '4/2',\n",
       "       '3/4', '2/1', '7/9', '3/1', '4/4', '7/3', '5/6', '6/7', '5/3',\n",
       "       '6/3', '3/7', '1/8', '1/2', '1/4', '2/7', '2/6', '7/2', '3/5',\n",
       "       '3/8', '2/8', '4/8', '5/9', '6/4', '4/9', '7/8', '7/4', '4/7',\n",
       "       '6/5', '7/7', '6/9', '5/10', '5/7', '6/8', '3/9', '1/6', '7/6',\n",
       "       '1/5', '5/8', '8-3/8', '8-1/8', '6-1/3', '6-1/4', '9-1/10', '4/7а',\n",
       "       '3/7а', '6-1/9', '8-2/6', '8-2/5', '8-1/2', '8-3/5', '8-3/6',\n",
       "       '6-1/7а', '8-2/7', '9-4/4', '8-3/3', '5/7а', '6/7а', '6-1/8',\n",
       "       '7/7а', '8-1/3', '8-1/4', '8-1/6', '8-2/3', '8-2/4', '3/10',\n",
       "       '4/10', '8-3/4', '8-2/2', '8-1/5', '2/7а', '8-3/2', '8-2/9'],\n",
       "      dtype=object)"
      ]
     },
     "execution_count": 56,
     "metadata": {},
     "output_type": "execute_result"
    }
   ],
   "source": [
    "vstavki_d.ЦД.unique()"
   ]
  },
  {
   "cell_type": "code",
   "execution_count": null,
   "metadata": {},
   "outputs": [],
   "source": [
    "#vstavki_d.loc[vstavki_d.ЦД =='2/1',['пп','id7c','vstavki','vs_dict']]"
   ]
  },
  {
   "cell_type": "code",
   "execution_count": 57,
   "metadata": {},
   "outputs": [
    {
     "data": {
      "text/plain": [
       "array([ True])"
      ]
     },
     "execution_count": 57,
     "metadata": {},
     "output_type": "execute_result"
    }
   ],
   "source": [
    "vstavki_d.Ц.apply(lambda x: x in dcol_dia).unique()\n"
   ]
  },
  {
   "cell_type": "code",
   "execution_count": 58,
   "metadata": {},
   "outputs": [
    {
     "data": {
      "text/plain": [
       "array([ True])"
      ]
     },
     "execution_count": 58,
     "metadata": {},
     "output_type": "execute_result"
    }
   ],
   "source": [
    "vstavki_d.Д.apply(lambda x: x in dcla_dia).unique()"
   ]
  },
  {
   "cell_type": "code",
   "execution_count": 59,
   "metadata": {},
   "outputs": [
    {
     "data": {
      "text/html": [
       "<div>\n",
       "<style scoped>\n",
       "    .dataframe tbody tr th:only-of-type {\n",
       "        vertical-align: middle;\n",
       "    }\n",
       "\n",
       "    .dataframe tbody tr th {\n",
       "        vertical-align: top;\n",
       "    }\n",
       "\n",
       "    .dataframe thead th {\n",
       "        text-align: right;\n",
       "    }\n",
       "</style>\n",
       "<table border=\"1\" class=\"dataframe\">\n",
       "  <thead>\n",
       "    <tr style=\"text-align: right;\">\n",
       "      <th></th>\n",
       "      <th>пп</th>\n",
       "      <th>id7c</th>\n",
       "      <th>vstavki</th>\n",
       "      <th>vs_dict</th>\n",
       "      <th>gem</th>\n",
       "      <th>ШТУК</th>\n",
       "      <th>ОГРАНКА</th>\n",
       "      <th>КАРАТ</th>\n",
       "      <th>ЦД</th>\n",
       "      <th>ПО</th>\n",
       "      <th>Ц</th>\n",
       "      <th>Д</th>\n",
       "    </tr>\n",
       "  </thead>\n",
       "  <tbody>\n",
       "  </tbody>\n",
       "</table>\n",
       "</div>"
      ],
      "text/plain": [
       "Empty DataFrame\n",
       "Columns: [пп, id7c, vstavki, vs_dict, gem, ШТУК, ОГРАНКА, КАРАТ, ЦД, ПО, Ц, Д]\n",
       "Index: []"
      ]
     },
     "execution_count": 59,
     "metadata": {},
     "output_type": "execute_result"
    }
   ],
   "source": [
    "#vstavki_d.Д.apply(lambda x: x in dcla_dia)\n",
    "vstavki_d.loc[~vstavki_d.Д.apply(lambda x: x in dcla_dia), ['пп','id7c','vstavki','vs_dict','gem','ШТУК','ОГРАНКА','КАРАТ','ЦД','ПО','Ц','Д']]"
   ]
  },
  {
   "cell_type": "code",
   "execution_count": null,
   "metadata": {},
   "outputs": [],
   "source": []
  },
  {
   "cell_type": "code",
   "execution_count": null,
   "metadata": {
    "scrolled": true
   },
   "outputs": [],
   "source": [
    "#New mark error\n",
    "errindex = vstavki_d[~vstavki_d.Д.apply(lambda x: x in dcla_dia)].index\n",
    "vstavki_d.loc[errindex,['пп','id7c','vstavki','vs_dict','gem','ШТУК','ОГРАНКА','КАРАТ','ЦД','ПО','Ц','Д']]"
   ]
  },
  {
   "cell_type": "code",
   "execution_count": null,
   "metadata": {},
   "outputs": [],
   "source": [
    "#New mark error\n",
    "jewellery.loc[errindex,'checklog'] = '36'"
   ]
  },
  {
   "cell_type": "code",
   "execution_count": null,
   "metadata": {},
   "outputs": [],
   "source": [
    "#vstavki_d.loc[~vstavki_d.Д.apply(lambda x: x in dcla_dia),'Д']='6'"
   ]
  },
  {
   "cell_type": "code",
   "execution_count": 60,
   "metadata": {},
   "outputs": [
    {
     "data": {
      "text/plain": [
       "array([ True])"
      ]
     },
     "execution_count": 60,
     "metadata": {},
     "output_type": "execute_result"
    }
   ],
   "source": [
    "vstavki_d.ПО.apply(lambda x: x in dpo_dia).unique()"
   ]
  },
  {
   "cell_type": "code",
   "execution_count": 61,
   "metadata": {},
   "outputs": [
    {
     "data": {
      "text/plain": [
       "array([ True])"
      ]
     },
     "execution_count": 61,
     "metadata": {},
     "output_type": "execute_result"
    }
   ],
   "source": [
    "vstavki_d.ОГРАНКА.apply(lambda x: x in dogr_dia_discount).unique()"
   ]
  },
  {
   "cell_type": "code",
   "execution_count": 62,
   "metadata": {},
   "outputs": [
    {
     "data": {
      "text/plain": [
       "array([], dtype=object)"
      ]
     },
     "execution_count": 62,
     "metadata": {},
     "output_type": "execute_result"
    }
   ],
   "source": [
    "#vstavki_d[~vstavki_d.ПО.apply(lambda x: x in dpo_dia)]\n",
    "vstavki_d[~vstavki_d.ОГРАНКА.apply(lambda x: x in dogr_dia_discount)].ОГРАНКА.unique()"
   ]
  },
  {
   "cell_type": "code",
   "execution_count": null,
   "metadata": {},
   "outputs": [],
   "source": [
    "#vstavki_d.loc[vstavki_d.ОГРАНКА == 'р57','ОГРАНКА'] = \"Кр-57\""
   ]
  },
  {
   "cell_type": "markdown",
   "metadata": {},
   "source": [
    "### Проверки 2"
   ]
  },
  {
   "cell_type": "code",
   "execution_count": 63,
   "metadata": {},
   "outputs": [],
   "source": [
    "vstavki_d['СРКАРАТ'] = vstavki_d.КАРАТ/vstavki_d.ШТУК"
   ]
  },
  {
   "cell_type": "code",
   "execution_count": 64,
   "metadata": {},
   "outputs": [],
   "source": [
    "#vstavki_d.loc[vstavki_d.СРКАРАТ > 0.3000,'СРКАРАТ'].sort_values().unique()"
   ]
  },
  {
   "cell_type": "code",
   "execution_count": 65,
   "metadata": {},
   "outputs": [
    {
     "data": {
      "text/plain": [
       "array([1.33333333e-03, 2.00000000e-03, 2.50000000e-03, 2.62500000e-03,\n",
       "       2.75000000e-03, 2.75000000e-03, 2.83333333e-03, 2.91666667e-03,\n",
       "       3.00000000e-03, 3.00000000e-03, 3.15000000e-03, 3.18181818e-03,\n",
       "       3.20000000e-03, 3.33333333e-03, 3.60000000e-03, 3.64705882e-03,\n",
       "       3.66666667e-03, 3.73684211e-03, 3.75000000e-03, 3.81250000e-03,\n",
       "       3.87500000e-03, 3.93750000e-03, 4.00000000e-03, 4.08333333e-03,\n",
       "       4.12500000e-03, 4.16666667e-03, 4.20000000e-03, 4.25000000e-03,\n",
       "       4.33333333e-03, 4.38888889e-03, 4.40000000e-03, 4.40909091e-03,\n",
       "       4.42105263e-03, 4.43243243e-03, 4.44117647e-03, 4.50000000e-03,\n",
       "       4.66666667e-03, 4.75000000e-03, 4.81250000e-03, 5.00000000e-03,\n",
       "       5.28571429e-03, 5.33333333e-03, 5.35000000e-03, 5.50000000e-03,\n",
       "       5.55555556e-03, 5.66265060e-03, 5.66666667e-03, 5.71428571e-03,\n",
       "       5.78571429e-03, 5.80000000e-03, 5.81250000e-03, 5.81818182e-03,\n",
       "       5.85000000e-03, 5.86363636e-03, 5.88235294e-03, 5.90000000e-03,\n",
       "       5.90476190e-03, 5.92857143e-03, 6.00000000e-03, 6.20000000e-03,\n",
       "       6.25000000e-03, 6.30000000e-03, 6.33333333e-03, 6.41666667e-03,\n",
       "       6.48437500e-03, 6.50000000e-03, 6.60000000e-03, 6.66666667e-03,\n",
       "       6.70000000e-03, 6.75000000e-03, 6.80000000e-03, 7.00000000e-03,\n",
       "       7.33333333e-03, 7.50000000e-03, 7.50000000e-03, 7.56250000e-03,\n",
       "       7.58333333e-03, 7.60000000e-03, 7.65625000e-03, 7.66666667e-03,\n",
       "       7.83333333e-03, 8.00000000e-03, 8.05555556e-03, 8.08000000e-03,\n",
       "       8.08333333e-03, 8.16666667e-03, 8.18181818e-03, 8.25000000e-03,\n",
       "       8.33333333e-03, 8.50000000e-03, 8.72727273e-03, 8.75000000e-03,\n",
       "       8.88888889e-03, 9.00000000e-03, 9.12500000e-03, 9.16666667e-03,\n",
       "       9.25000000e-03, 9.42857143e-03, 9.44444444e-03, 9.50000000e-03,\n",
       "       9.55263158e-03, 9.60000000e-03, 9.62068966e-03, 9.66666667e-03,\n",
       "       9.68750000e-03, 9.75000000e-03, 9.77777778e-03, 9.80000000e-03,\n",
       "       9.81690141e-03, 9.83333333e-03, 9.85714286e-03, 9.87500000e-03,\n",
       "       9.88000000e-03, 9.88888889e-03, 1.00000000e-02, 1.00312500e-02,\n",
       "       1.01666667e-02, 1.02500000e-02, 1.03333333e-02, 1.04375000e-02,\n",
       "       1.04545455e-02, 1.04687500e-02, 1.05000000e-02, 1.07333333e-02,\n",
       "       1.07500000e-02, 1.08000000e-02, 1.08095238e-02, 1.08181818e-02,\n",
       "       1.08333333e-02, 1.10000000e-02, 1.10833333e-02, 1.11111111e-02,\n",
       "       1.11914894e-02, 1.13000000e-02, 1.14615385e-02, 1.14687500e-02,\n",
       "       1.15000000e-02, 1.15000000e-02, 1.16250000e-02, 1.16666667e-02,\n",
       "       1.18750000e-02, 1.19090909e-02, 1.19545455e-02, 1.20000000e-02,\n",
       "       1.20000000e-02, 1.20833333e-02, 1.21250000e-02, 1.21666667e-02,\n",
       "       1.22500000e-02, 1.23333333e-02, 1.25000000e-02, 1.25000000e-02,\n",
       "       1.26000000e-02, 1.26250000e-02, 1.26666667e-02, 1.28000000e-02,\n",
       "       1.29285714e-02, 1.30000000e-02, 1.30000000e-02, 1.30555556e-02,\n",
       "       1.31000000e-02, 1.32000000e-02, 1.32857143e-02, 1.33000000e-02,\n",
       "       1.33333333e-02, 1.33636364e-02, 1.34000000e-02, 1.35000000e-02,\n",
       "       1.35000000e-02, 1.36363636e-02, 1.36666667e-02, 1.37000000e-02,\n",
       "       1.37333333e-02, 1.37500000e-02, 1.37666667e-02, 1.38000000e-02,\n",
       "       1.38333333e-02, 1.38888889e-02, 1.39000000e-02, 1.39166667e-02,\n",
       "       1.40000000e-02, 1.40000000e-02, 1.40714286e-02, 1.44000000e-02,\n",
       "       1.45000000e-02, 1.45000000e-02, 1.45454545e-02, 1.45833333e-02,\n",
       "       1.46666667e-02, 1.47083333e-02, 1.47500000e-02, 1.49166667e-02,\n",
       "       1.50000000e-02, 1.51666667e-02, 1.53333333e-02, 1.55000000e-02,\n",
       "       1.57500000e-02, 1.57692308e-02, 1.57727273e-02, 1.57923077e-02,\n",
       "       1.58181818e-02, 1.58222222e-02, 1.60000000e-02, 1.65000000e-02,\n",
       "       1.66000000e-02, 1.66666667e-02, 1.67500000e-02, 1.70000000e-02,\n",
       "       1.70000000e-02, 1.70833333e-02, 1.71666667e-02, 1.72500000e-02,\n",
       "       1.73333333e-02, 1.75000000e-02, 1.75000000e-02, 1.76000000e-02,\n",
       "       1.80000000e-02, 1.83333333e-02, 1.85000000e-02, 1.86000000e-02,\n",
       "       1.86875000e-02, 1.87222222e-02, 1.87500000e-02, 1.88333333e-02,\n",
       "       1.90000000e-02, 1.92000000e-02, 1.92500000e-02, 1.93000000e-02,\n",
       "       1.93333333e-02, 1.94000000e-02, 1.95000000e-02, 1.96250000e-02,\n",
       "       1.96428571e-02, 1.96666667e-02, 1.97142857e-02, 1.97500000e-02,\n",
       "       1.98125000e-02, 1.98571429e-02, 1.98620690e-02, 1.98750000e-02,\n",
       "       2.00000000e-02, 2.00416667e-02, 2.00714286e-02, 2.00833333e-02,\n",
       "       2.01428571e-02, 2.01666667e-02, 2.02500000e-02, 2.03333333e-02,\n",
       "       2.05000000e-02, 2.05416667e-02, 2.05970149e-02, 2.06451613e-02,\n",
       "       2.07500000e-02, 2.08333333e-02, 2.08750000e-02, 2.10000000e-02,\n",
       "       2.11250000e-02, 2.11666667e-02, 2.12500000e-02, 2.15000000e-02,\n",
       "       2.15714286e-02, 2.16666667e-02, 2.20000000e-02, 2.20000000e-02,\n",
       "       2.22222222e-02, 2.25000000e-02, 2.30000000e-02, 2.30000000e-02,\n",
       "       2.33333333e-02, 2.35000000e-02, 2.40000000e-02, 2.46875000e-02,\n",
       "       2.50000000e-02, 2.53333333e-02, 2.57272727e-02, 2.57500000e-02,\n",
       "       2.60000000e-02, 2.62500000e-02, 2.66666667e-02, 2.70000000e-02,\n",
       "       2.70000000e-02, 2.75000000e-02, 2.76875000e-02, 2.80000000e-02,\n",
       "       2.80000000e-02, 2.83333333e-02, 2.87500000e-02, 2.88333333e-02,\n",
       "       2.90000000e-02, 2.91666667e-02, 2.96666667e-02, 3.00000000e-02,\n",
       "       3.01666667e-02, 3.03333333e-02, 3.07222222e-02, 3.08571429e-02,\n",
       "       3.10000000e-02, 3.11428571e-02, 3.13333333e-02, 3.13809524e-02,\n",
       "       3.15000000e-02, 3.16000000e-02, 3.16666667e-02, 3.20000000e-02,\n",
       "       3.22500000e-02, 3.23333333e-02, 3.25000000e-02, 3.30000000e-02,\n",
       "       3.31666667e-02, 3.33333333e-02, 3.35000000e-02, 3.36428571e-02,\n",
       "       3.40000000e-02, 3.41000000e-02, 3.41666667e-02, 3.43333333e-02,\n",
       "       3.44166667e-02, 3.45000000e-02, 3.45000000e-02, 3.46666667e-02,\n",
       "       3.47500000e-02, 3.50000000e-02, 3.50000000e-02, 3.53333333e-02,\n",
       "       3.55000000e-02, 3.60000000e-02, 3.65000000e-02, 3.70000000e-02,\n",
       "       3.75000000e-02, 3.80000000e-02, 3.83333333e-02, 3.86363636e-02,\n",
       "       4.00000000e-02, 4.07916667e-02, 4.10000000e-02, 4.12500000e-02,\n",
       "       4.16666667e-02, 4.20000000e-02, 4.20000000e-02, 4.25000000e-02,\n",
       "       4.28571429e-02, 4.30000000e-02, 4.30000000e-02, 4.31428571e-02,\n",
       "       4.32857143e-02, 4.33000000e-02, 4.33333333e-02, 4.34000000e-02,\n",
       "       4.35000000e-02, 4.35714286e-02, 4.36000000e-02, 4.36666667e-02,\n",
       "       4.38000000e-02, 4.39000000e-02, 4.40000000e-02, 4.40000000e-02,\n",
       "       4.42857143e-02, 4.44736842e-02, 4.47142857e-02, 4.50000000e-02,\n",
       "       4.50000000e-02, 4.52500000e-02, 4.57500000e-02, 4.65000000e-02,\n",
       "       4.65000000e-02, 4.70000000e-02, 4.75714286e-02, 4.85000000e-02,\n",
       "       4.90000000e-02, 4.90000000e-02, 4.94000000e-02, 5.00000000e-02,\n",
       "       5.05000000e-02, 5.06666667e-02, 5.10000000e-02, 5.30000000e-02,\n",
       "       5.33333333e-02, 5.40000000e-02, 5.40000000e-02, 5.45000000e-02,\n",
       "       5.46666667e-02, 5.50000000e-02, 5.54000000e-02, 5.55555556e-02,\n",
       "       5.57142857e-02, 5.60000000e-02, 5.62500000e-02, 5.66666667e-02,\n",
       "       5.68333333e-02, 5.70000000e-02, 5.71428571e-02, 5.75000000e-02,\n",
       "       5.75000000e-02, 5.80000000e-02, 5.80000000e-02, 5.83333333e-02,\n",
       "       5.84000000e-02, 5.85000000e-02, 5.85000000e-02, 5.85555556e-02,\n",
       "       5.90000000e-02, 5.91666667e-02, 5.93333333e-02, 5.95000000e-02,\n",
       "       6.00000000e-02, 6.10000000e-02, 6.14285714e-02, 6.25000000e-02,\n",
       "       6.30000000e-02, 6.42000000e-02, 6.44000000e-02, 6.50000000e-02,\n",
       "       6.65454545e-02, 6.75000000e-02, 7.00000000e-02, 7.25000000e-02,\n",
       "       7.30000000e-02, 7.35000000e-02, 7.40000000e-02, 7.50000000e-02,\n",
       "       7.60000000e-02, 7.80000000e-02, 7.88235294e-02, 7.90000000e-02,\n",
       "       8.00000000e-02, 8.10000000e-02, 8.16666667e-02, 8.20000000e-02,\n",
       "       8.25000000e-02, 8.30000000e-02, 8.33333333e-02, 8.35000000e-02,\n",
       "       8.38000000e-02, 8.40000000e-02, 8.42000000e-02, 8.47000000e-02,\n",
       "       8.50000000e-02, 8.55000000e-02, 8.56666667e-02, 8.65000000e-02,\n",
       "       8.70000000e-02, 8.80000000e-02, 9.00000000e-02, 9.25000000e-02,\n",
       "       9.50000000e-02, 1.00000000e-01, 1.05000000e-01, 1.06000000e-01,\n",
       "       1.10000000e-01, 1.12000000e-01, 1.13000000e-01, 1.13500000e-01,\n",
       "       1.14000000e-01, 1.14333333e-01, 1.15000000e-01, 1.16000000e-01,\n",
       "       1.17000000e-01, 1.17500000e-01, 1.18000000e-01, 1.18750000e-01,\n",
       "       1.19000000e-01, 1.19142857e-01, 1.20000000e-01, 1.20500000e-01,\n",
       "       1.21000000e-01, 1.22000000e-01, 1.22214286e-01, 1.22285714e-01,\n",
       "       1.22500000e-01, 1.23000000e-01, 1.23214286e-01, 1.23230769e-01,\n",
       "       1.23333333e-01, 1.23428571e-01, 1.23500000e-01, 1.24000000e-01,\n",
       "       1.25000000e-01, 1.25428571e-01, 1.25500000e-01, 1.26000000e-01,\n",
       "       1.26500000e-01, 1.30000000e-01, 1.32000000e-01, 1.40000000e-01,\n",
       "       1.46000000e-01, 1.50000000e-01, 1.51000000e-01, 1.52000000e-01,\n",
       "       1.55000000e-01, 1.56000000e-01, 1.57500000e-01, 1.58000000e-01,\n",
       "       1.58500000e-01, 1.58714286e-01, 1.60000000e-01, 1.60500000e-01,\n",
       "       1.65000000e-01, 1.70000000e-01, 1.75000000e-01, 1.80000000e-01,\n",
       "       1.83000000e-01, 1.83500000e-01, 1.85000000e-01, 1.90000000e-01,\n",
       "       1.93500000e-01, 1.95500000e-01, 2.00000000e-01, 2.03000000e-01,\n",
       "       2.05000000e-01, 2.10000000e-01, 2.13000000e-01, 2.14000000e-01,\n",
       "       2.15000000e-01, 2.15500000e-01, 2.16000000e-01, 2.16500000e-01,\n",
       "       2.17000000e-01, 2.20000000e-01, 2.21500000e-01, 2.22000000e-01,\n",
       "       2.24000000e-01, 2.24500000e-01, 2.25000000e-01, 2.27000000e-01,\n",
       "       2.30000000e-01, 2.35000000e-01, 2.37000000e-01, 2.40000000e-01,\n",
       "       2.50000000e-01, 2.55000000e-01, 2.60000000e-01, 2.65000000e-01,\n",
       "       2.67000000e-01, 2.69000000e-01, 2.70000000e-01, 2.71000000e-01,\n",
       "       2.74000000e-01, 2.75000000e-01, 2.76000000e-01, 2.77000000e-01,\n",
       "       2.78000000e-01, 2.80000000e-01, 2.85000000e-01, 2.90000000e-01,\n",
       "       3.00000000e-01, 3.05000000e-01, 3.10000000e-01, 3.13000000e-01,\n",
       "       3.14000000e-01, 3.15000000e-01, 3.16500000e-01, 3.20000000e-01,\n",
       "       3.22000000e-01, 3.23000000e-01, 3.25000000e-01, 3.26000000e-01,\n",
       "       3.27000000e-01, 3.28500000e-01, 3.29000000e-01, 3.30000000e-01,\n",
       "       3.32000000e-01, 3.35000000e-01, 3.40000000e-01, 3.45000000e-01,\n",
       "       3.50000000e-01, 3.55000000e-01, 3.60000000e-01, 3.65000000e-01,\n",
       "       3.70000000e-01, 3.80000000e-01, 3.90000000e-01, 4.00000000e-01,\n",
       "       4.10000000e-01, 4.20000000e-01, 4.25000000e-01, 4.30000000e-01,\n",
       "       4.35000000e-01, 4.40000000e-01, 4.50000000e-01, 4.60000000e-01,\n",
       "       4.70000000e-01, 5.00000000e-01, 5.05000000e-01, 5.10000000e-01,\n",
       "       5.20000000e-01, 5.23000000e-01, 5.25000000e-01, 5.30000000e-01,\n",
       "       5.40000000e-01, 5.50000000e-01, 5.52500000e-01, 5.55000000e-01,\n",
       "       5.90000000e-01, 6.00000000e-01, 6.20000000e-01, 7.00000000e-01,\n",
       "       1.01000000e+00, 1.02000000e+00, 1.08000000e+00, 1.13000000e+00,\n",
       "       1.14000000e+00, 1.17000000e+00, 1.28000000e+00, 1.29000000e+00,\n",
       "       1.41000000e+00, 2.00000000e+00])"
      ]
     },
     "execution_count": 65,
     "metadata": {},
     "output_type": "execute_result"
    }
   ],
   "source": [
    "vstavki_d.СРКАРАТ.sort_values().unique()"
   ]
  },
  {
   "cell_type": "code",
   "execution_count": 66,
   "metadata": {},
   "outputs": [
    {
     "data": {
      "text/html": [
       "<div>\n",
       "<style scoped>\n",
       "    .dataframe tbody tr th:only-of-type {\n",
       "        vertical-align: middle;\n",
       "    }\n",
       "\n",
       "    .dataframe tbody tr th {\n",
       "        vertical-align: top;\n",
       "    }\n",
       "\n",
       "    .dataframe thead th {\n",
       "        text-align: right;\n",
       "    }\n",
       "</style>\n",
       "<table border=\"1\" class=\"dataframe\">\n",
       "  <thead>\n",
       "    <tr style=\"text-align: right;\">\n",
       "      <th></th>\n",
       "      <th>пп</th>\n",
       "      <th>id7c</th>\n",
       "      <th>vstavki</th>\n",
       "      <th>vs_dict</th>\n",
       "      <th>gem</th>\n",
       "      <th>ШТУК</th>\n",
       "      <th>ОГРАНКА</th>\n",
       "      <th>КАРАТ</th>\n",
       "      <th>ЦД</th>\n",
       "      <th>ПО</th>\n",
       "      <th>Ц</th>\n",
       "      <th>Д</th>\n",
       "    </tr>\n",
       "  </thead>\n",
       "  <tbody>\n",
       "    <tr>\n",
       "      <th>11515</th>\n",
       "      <td>259</td>\n",
       "      <td>МС00148955</td>\n",
       "      <td>1Кр57-1,020-5/9А</td>\n",
       "      <td>(1, Кр57, 1,020, 5/9, А)</td>\n",
       "      <td>[]</td>\n",
       "      <td>1</td>\n",
       "      <td>Кр57</td>\n",
       "      <td>1.02</td>\n",
       "      <td>5/9</td>\n",
       "      <td>А</td>\n",
       "      <td>5</td>\n",
       "      <td>9</td>\n",
       "    </tr>\n",
       "    <tr>\n",
       "      <th>11516</th>\n",
       "      <td>260</td>\n",
       "      <td>МС00148956</td>\n",
       "      <td>1Кр57-1,080-5/10А</td>\n",
       "      <td>(1, Кр57, 1,080, 5/10, А)</td>\n",
       "      <td>[]</td>\n",
       "      <td>1</td>\n",
       "      <td>Кр57</td>\n",
       "      <td>1.08</td>\n",
       "      <td>5/10</td>\n",
       "      <td>А</td>\n",
       "      <td>5</td>\n",
       "      <td>10</td>\n",
       "    </tr>\n",
       "    <tr>\n",
       "      <th>11517</th>\n",
       "      <td>261</td>\n",
       "      <td>МС00148957</td>\n",
       "      <td>1Кр57-1,080-6/4А</td>\n",
       "      <td>(1, Кр57, 1,080, 6/4, А)</td>\n",
       "      <td>[]</td>\n",
       "      <td>1</td>\n",
       "      <td>Кр57</td>\n",
       "      <td>1.08</td>\n",
       "      <td>6/4</td>\n",
       "      <td>А</td>\n",
       "      <td>6</td>\n",
       "      <td>4</td>\n",
       "    </tr>\n",
       "    <tr>\n",
       "      <th>11518</th>\n",
       "      <td>262</td>\n",
       "      <td>МС00148958</td>\n",
       "      <td>1Кр57-1,140-6/7А</td>\n",
       "      <td>(1, Кр57, 1,140, 6/7, А)</td>\n",
       "      <td>[]</td>\n",
       "      <td>1</td>\n",
       "      <td>Кр57</td>\n",
       "      <td>1.14</td>\n",
       "      <td>6/7</td>\n",
       "      <td>А</td>\n",
       "      <td>6</td>\n",
       "      <td>7</td>\n",
       "    </tr>\n",
       "    <tr>\n",
       "      <th>11519</th>\n",
       "      <td>263</td>\n",
       "      <td>МС00148959</td>\n",
       "      <td>1Кр57-1,020-6/9А</td>\n",
       "      <td>(1, Кр57, 1,020, 6/9, А)</td>\n",
       "      <td>[]</td>\n",
       "      <td>1</td>\n",
       "      <td>Кр57</td>\n",
       "      <td>1.02</td>\n",
       "      <td>6/9</td>\n",
       "      <td>А</td>\n",
       "      <td>6</td>\n",
       "      <td>9</td>\n",
       "    </tr>\n",
       "    <tr>\n",
       "      <th>12063</th>\n",
       "      <td>807</td>\n",
       "      <td>МС00149082</td>\n",
       "      <td>1Кр57-1,010-4/8А</td>\n",
       "      <td>(1, Кр57, 1,010, 4/8, А)</td>\n",
       "      <td>[]</td>\n",
       "      <td>1</td>\n",
       "      <td>Кр57</td>\n",
       "      <td>1.01</td>\n",
       "      <td>4/8</td>\n",
       "      <td>А</td>\n",
       "      <td>4</td>\n",
       "      <td>8</td>\n",
       "    </tr>\n",
       "    <tr>\n",
       "      <th>12064</th>\n",
       "      <td>808</td>\n",
       "      <td>МС00149083</td>\n",
       "      <td>1Кр57-1,170-5/7А</td>\n",
       "      <td>(1, Кр57, 1,170, 5/7, А)</td>\n",
       "      <td>[]</td>\n",
       "      <td>1</td>\n",
       "      <td>Кр57</td>\n",
       "      <td>1.17</td>\n",
       "      <td>5/7</td>\n",
       "      <td>А</td>\n",
       "      <td>5</td>\n",
       "      <td>7</td>\n",
       "    </tr>\n",
       "    <tr>\n",
       "      <th>15537</th>\n",
       "      <td>1818</td>\n",
       "      <td>МС00175277</td>\n",
       "      <td>1Кр57-1,010-6/9Б 32Кр57-0,242-4/5А</td>\n",
       "      <td>(1, Кр57, 1,010, 6/9, Б)</td>\n",
       "      <td>[]</td>\n",
       "      <td>1</td>\n",
       "      <td>Кр57</td>\n",
       "      <td>1.01</td>\n",
       "      <td>6/9</td>\n",
       "      <td>Б</td>\n",
       "      <td>6</td>\n",
       "      <td>9</td>\n",
       "    </tr>\n",
       "    <tr>\n",
       "      <th>15539</th>\n",
       "      <td>1820</td>\n",
       "      <td>МС00175279</td>\n",
       "      <td>1Кр57-1,280-8-3/8А 2Кр57-0,620-4/8А 18Кр57-0,553-4/5А</td>\n",
       "      <td>(1, Кр57, 1,280, 8-3/8, А)</td>\n",
       "      <td>[]</td>\n",
       "      <td>1</td>\n",
       "      <td>Кр57</td>\n",
       "      <td>1.28</td>\n",
       "      <td>8-3/8</td>\n",
       "      <td>А</td>\n",
       "      <td>8-3</td>\n",
       "      <td>8</td>\n",
       "    </tr>\n",
       "    <tr>\n",
       "      <th>15547</th>\n",
       "      <td>1828</td>\n",
       "      <td>МС00175300</td>\n",
       "      <td>1Кр57-1,130-7/5А 216Кр57-2,136-4/5А</td>\n",
       "      <td>(1, Кр57, 1,130, 7/5, А)</td>\n",
       "      <td>[]</td>\n",
       "      <td>1</td>\n",
       "      <td>Кр57</td>\n",
       "      <td>1.13</td>\n",
       "      <td>7/5</td>\n",
       "      <td>А</td>\n",
       "      <td>7</td>\n",
       "      <td>5</td>\n",
       "    </tr>\n",
       "    <tr>\n",
       "      <th>15548</th>\n",
       "      <td>1829</td>\n",
       "      <td>МС00175301</td>\n",
       "      <td>1Кр57-1,410-8-1/8Б 6Кр57-0,182-4/5А 4Кр57-0,055-4/5А 2Кр57-0,020-4/5А 2Кр57-0,016-4/5А</td>\n",
       "      <td>(1, Кр57, 1,410, 8-1/8, Б)</td>\n",
       "      <td>[]</td>\n",
       "      <td>1</td>\n",
       "      <td>Кр57</td>\n",
       "      <td>1.41</td>\n",
       "      <td>8-1/8</td>\n",
       "      <td>Б</td>\n",
       "      <td>8-1</td>\n",
       "      <td>8</td>\n",
       "    </tr>\n",
       "    <tr>\n",
       "      <th>15549</th>\n",
       "      <td>1830</td>\n",
       "      <td>МС00175302</td>\n",
       "      <td>1Кр57-1,290-6/5А 10Кр57-0,058-6/5А</td>\n",
       "      <td>(1, Кр57, 1,290, 6/5, А)</td>\n",
       "      <td>[]</td>\n",
       "      <td>1</td>\n",
       "      <td>Кр57</td>\n",
       "      <td>1.29</td>\n",
       "      <td>6/5</td>\n",
       "      <td>А</td>\n",
       "      <td>6</td>\n",
       "      <td>5</td>\n",
       "    </tr>\n",
       "    <tr>\n",
       "      <th>23810</th>\n",
       "      <td>569</td>\n",
       "      <td>МС00003535</td>\n",
       "      <td>1Кр57-2,000-8-1/2Б 6Кр57-0,055-3/5Б</td>\n",
       "      <td>(1, Кр57, 2,000, 8-1/2, Б)</td>\n",
       "      <td>[]</td>\n",
       "      <td>1</td>\n",
       "      <td>Кр57</td>\n",
       "      <td>2.00</td>\n",
       "      <td>8-1/2</td>\n",
       "      <td>Б</td>\n",
       "      <td>8-1</td>\n",
       "      <td>2</td>\n",
       "    </tr>\n",
       "  </tbody>\n",
       "</table>\n",
       "</div>"
      ],
      "text/plain": [
       "         пп        id7c  \\\n",
       "11515   259  МС00148955   \n",
       "11516   260  МС00148956   \n",
       "11517   261  МС00148957   \n",
       "11518   262  МС00148958   \n",
       "11519   263  МС00148959   \n",
       "12063   807  МС00149082   \n",
       "12064   808  МС00149083   \n",
       "15537  1818  МС00175277   \n",
       "15539  1820  МС00175279   \n",
       "15547  1828  МС00175300   \n",
       "15548  1829  МС00175301   \n",
       "15549  1830  МС00175302   \n",
       "23810   569  МС00003535   \n",
       "\n",
       "                                                                                      vstavki  \\\n",
       "11515                                                                        1Кр57-1,020-5/9А   \n",
       "11516                                                                       1Кр57-1,080-5/10А   \n",
       "11517                                                                        1Кр57-1,080-6/4А   \n",
       "11518                                                                        1Кр57-1,140-6/7А   \n",
       "11519                                                                        1Кр57-1,020-6/9А   \n",
       "12063                                                                        1Кр57-1,010-4/8А   \n",
       "12064                                                                        1Кр57-1,170-5/7А   \n",
       "15537                                                      1Кр57-1,010-6/9Б 32Кр57-0,242-4/5А   \n",
       "15539                                   1Кр57-1,280-8-3/8А 2Кр57-0,620-4/8А 18Кр57-0,553-4/5А   \n",
       "15547                                                     1Кр57-1,130-7/5А 216Кр57-2,136-4/5А   \n",
       "15548  1Кр57-1,410-8-1/8Б 6Кр57-0,182-4/5А 4Кр57-0,055-4/5А 2Кр57-0,020-4/5А 2Кр57-0,016-4/5А   \n",
       "15549                                                      1Кр57-1,290-6/5А 10Кр57-0,058-6/5А   \n",
       "23810                                                     1Кр57-2,000-8-1/2Б 6Кр57-0,055-3/5Б   \n",
       "\n",
       "                          vs_dict gem  ШТУК ОГРАНКА  КАРАТ     ЦД ПО    Ц   Д  \n",
       "11515    (1, Кр57, 1,020, 5/9, А)  []     1    Кр57   1.02    5/9  А    5   9  \n",
       "11516   (1, Кр57, 1,080, 5/10, А)  []     1    Кр57   1.08   5/10  А    5  10  \n",
       "11517    (1, Кр57, 1,080, 6/4, А)  []     1    Кр57   1.08    6/4  А    6   4  \n",
       "11518    (1, Кр57, 1,140, 6/7, А)  []     1    Кр57   1.14    6/7  А    6   7  \n",
       "11519    (1, Кр57, 1,020, 6/9, А)  []     1    Кр57   1.02    6/9  А    6   9  \n",
       "12063    (1, Кр57, 1,010, 4/8, А)  []     1    Кр57   1.01    4/8  А    4   8  \n",
       "12064    (1, Кр57, 1,170, 5/7, А)  []     1    Кр57   1.17    5/7  А    5   7  \n",
       "15537    (1, Кр57, 1,010, 6/9, Б)  []     1    Кр57   1.01    6/9  Б    6   9  \n",
       "15539  (1, Кр57, 1,280, 8-3/8, А)  []     1    Кр57   1.28  8-3/8  А  8-3   8  \n",
       "15547    (1, Кр57, 1,130, 7/5, А)  []     1    Кр57   1.13    7/5  А    7   5  \n",
       "15548  (1, Кр57, 1,410, 8-1/8, Б)  []     1    Кр57   1.41  8-1/8  Б  8-1   8  \n",
       "15549    (1, Кр57, 1,290, 6/5, А)  []     1    Кр57   1.29    6/5  А    6   5  \n",
       "23810  (1, Кр57, 2,000, 8-1/2, Б)  []     1    Кр57   2.00  8-1/2  Б  8-1   2  "
      ]
     },
     "execution_count": 66,
     "metadata": {},
     "output_type": "execute_result"
    }
   ],
   "source": [
    "vstavki_d.loc[vstavki_d.СРКАРАТ > 0.9,['пп','id7c','vstavki','vs_dict','gem','ШТУК','ОГРАНКА','КАРАТ','ЦД','ПО','Ц','Д']]"
   ]
  },
  {
   "cell_type": "markdown",
   "metadata": {},
   "source": [
    "### Сохранение"
   ]
  },
  {
   "cell_type": "code",
   "execution_count": null,
   "metadata": {},
   "outputs": [],
   "source": [
    "#stavki_d.loc[12396,'Д'] = 4"
   ]
  },
  {
   "cell_type": "code",
   "execution_count": null,
   "metadata": {},
   "outputs": [],
   "source": [
    "#vstavki_d.to_excel('res/vs'+filenamep + '.xlsx')"
   ]
  },
  {
   "cell_type": "markdown",
   "metadata": {},
   "source": [
    "### Прейскурант"
   ]
  },
  {
   "cell_type": "code",
   "execution_count": 67,
   "metadata": {},
   "outputs": [
    {
     "name": "stdout",
     "output_type": "stream",
     "text": [
      "[]\n",
      "[]\n",
      "[]\n",
      "[]\n",
      "0.0013333333333333333  - 2.0\n",
      "не сработал прейскурант на этих строках:\n",
      "   Empty DataFrame\n",
      "Columns: [ШТУК, ОГРАНКА, КАРАТ, ПО, Ц, Д, СРКАРАТ, Col, Cla, Po, ogrdisc, Grp, discont_po, ogrbasic, Pr2019, ogrdiscount, prpr, prcost]\n",
      "Index: []\n"
     ]
    }
   ],
   "source": [
    "diamonds = func_rpdiamonds.rpdiamonds(vstavki_d)"
   ]
  },
  {
   "cell_type": "code",
   "execution_count": null,
   "metadata": {},
   "outputs": [],
   "source": [
    "errindex = int(input('index'))\n",
    "print (jewellery.loc[errindex, ['Вставки','checklog']])\n",
    "message = input('message')\n",
    "if message!='':\n",
    "    jewellery.loc[errindex, 'checklog'] = message"
   ]
  },
  {
   "cell_type": "code",
   "execution_count": null,
   "metadata": {},
   "outputs": [],
   "source": [
    "diamonds.loc[959]"
   ]
  },
  {
   "cell_type": "code",
   "execution_count": null,
   "metadata": {},
   "outputs": [],
   "source": []
  },
  {
   "cell_type": "code",
   "execution_count": null,
   "metadata": {},
   "outputs": [],
   "source": []
  },
  {
   "cell_type": "code",
   "execution_count": 68,
   "metadata": {},
   "outputs": [],
   "source": [
    "res = diamonds"
   ]
  },
  {
   "cell_type": "markdown",
   "metadata": {},
   "source": [
    "## Проверка сработки прейскуранта"
   ]
  },
  {
   "cell_type": "code",
   "execution_count": 69,
   "metadata": {},
   "outputs": [
    {
     "data": {
      "text/html": [
       "<div>\n",
       "<style scoped>\n",
       "    .dataframe tbody tr th:only-of-type {\n",
       "        vertical-align: middle;\n",
       "    }\n",
       "\n",
       "    .dataframe tbody tr th {\n",
       "        vertical-align: top;\n",
       "    }\n",
       "\n",
       "    .dataframe thead th {\n",
       "        text-align: right;\n",
       "    }\n",
       "</style>\n",
       "<table border=\"1\" class=\"dataframe\">\n",
       "  <thead>\n",
       "    <tr style=\"text-align: right;\">\n",
       "      <th></th>\n",
       "      <th>vstavki</th>\n",
       "      <th>filname</th>\n",
       "      <th>vs_dict</th>\n",
       "      <th>gem</th>\n",
       "      <th>ШТУК</th>\n",
       "      <th>ОГРАНКА</th>\n",
       "      <th>КАРАТ</th>\n",
       "      <th>ЦД</th>\n",
       "      <th>ПО</th>\n",
       "      <th>Ц</th>\n",
       "      <th>...</th>\n",
       "      <th>Cla</th>\n",
       "      <th>Po</th>\n",
       "      <th>ogrdisc</th>\n",
       "      <th>Grp</th>\n",
       "      <th>discont_po</th>\n",
       "      <th>ogrbasic</th>\n",
       "      <th>Pr2019</th>\n",
       "      <th>ogrdiscount</th>\n",
       "      <th>prpr</th>\n",
       "      <th>prcost</th>\n",
       "    </tr>\n",
       "  </thead>\n",
       "  <tbody>\n",
       "  </tbody>\n",
       "</table>\n",
       "<p>0 rows × 24 columns</p>\n",
       "</div>"
      ],
      "text/plain": [
       "Empty DataFrame\n",
       "Columns: [vstavki, filname, vs_dict, gem, ШТУК, ОГРАНКА, КАРАТ, ЦД, ПО, Ц, Д, checklog, СРКАРАТ, Col, Cla, Po, ogrdisc, Grp, discont_po, ogrbasic, Pr2019, ogrdiscount, prpr, prcost]\n",
       "Index: []\n",
       "\n",
       "[0 rows x 24 columns]"
      ]
     },
     "execution_count": 69,
     "metadata": {},
     "output_type": "execute_result"
    }
   ],
   "source": [
    "res.loc[pd.isna(res.prpr),[ 'vstavki', 'filname',\n",
    "       'vs_dict', 'gem', 'ШТУК',\n",
    "       'ОГРАНКА', 'КАРАТ', 'ЦД', 'ПО', 'Ц', 'Д', 'checklog', 'СРКАРАТ', 'Col',\n",
    "       'Cla', 'Po', 'ogrdisc', 'Grp', 'discont_po', 'ogrbasic', 'Pr2019',\n",
    "       'ogrdiscount', 'prpr', 'prcost']]"
   ]
  },
  {
   "cell_type": "code",
   "execution_count": null,
   "metadata": {},
   "outputs": [],
   "source": [
    "#saveerrlog(res,'id7c','МС00148933' )"
   ]
  },
  {
   "cell_type": "code",
   "execution_count": null,
   "metadata": {},
   "outputs": [],
   "source": [
    "res#.drop(index = res.index, inplace = True)"
   ]
  },
  {
   "cell_type": "code",
   "execution_count": 70,
   "metadata": {},
   "outputs": [],
   "source": [
    "res.to_excel(sourcepath +'_брилл_в_строку_'+ filenamep+'.xlsx')\n"
   ]
  },
  {
   "cell_type": "code",
   "execution_count": 71,
   "metadata": {},
   "outputs": [
    {
     "data": {
      "text/html": [
       "<div>\n",
       "<style scoped>\n",
       "    .dataframe tbody tr th:only-of-type {\n",
       "        vertical-align: middle;\n",
       "    }\n",
       "\n",
       "    .dataframe tbody tr th {\n",
       "        vertical-align: top;\n",
       "    }\n",
       "\n",
       "    .dataframe thead th {\n",
       "        text-align: right;\n",
       "    }\n",
       "</style>\n",
       "<table border=\"1\" class=\"dataframe\">\n",
       "  <thead>\n",
       "    <tr style=\"text-align: right;\">\n",
       "      <th></th>\n",
       "      <th>id7c</th>\n",
       "      <th>пп</th>\n",
       "      <th>Кол</th>\n",
       "      <th>Вес</th>\n",
       "      <th>Закуп</th>\n",
       "      <th>Розн</th>\n",
       "      <th>vs_dict</th>\n",
       "      <th>ШТУК</th>\n",
       "      <th>КАРАТ</th>\n",
       "      <th>prcost</th>\n",
       "    </tr>\n",
       "  </thead>\n",
       "  <tbody>\n",
       "    <tr>\n",
       "      <th>0</th>\n",
       "      <td>27671</td>\n",
       "      <td>3</td>\n",
       "      <td>1</td>\n",
       "      <td>1.84</td>\n",
       "      <td>986.57</td>\n",
       "      <td>3826.0</td>\n",
       "      <td>(1, Кр57, 0,130, 4/4, А)</td>\n",
       "      <td>1</td>\n",
       "      <td>0.130</td>\n",
       "      <td>74.10</td>\n",
       "    </tr>\n",
       "    <tr>\n",
       "      <th>1</th>\n",
       "      <td>63698</td>\n",
       "      <td>1</td>\n",
       "      <td>1</td>\n",
       "      <td>4.75</td>\n",
       "      <td>10865.40</td>\n",
       "      <td>42259.0</td>\n",
       "      <td>(1, Кр57, 0,270, 5/3, А, 1, Кр57, 0,040, 5/4, А, 1, Кр57, 0,050, 5/3, А, 2, Кр57, 0,070, 5/3, А)</td>\n",
       "      <td>5</td>\n",
       "      <td>0.430</td>\n",
       "      <td>258.65</td>\n",
       "    </tr>\n",
       "    <tr>\n",
       "      <th>2</th>\n",
       "      <td>63699</td>\n",
       "      <td>2</td>\n",
       "      <td>1</td>\n",
       "      <td>4.88</td>\n",
       "      <td>10822.35</td>\n",
       "      <td>59186.0</td>\n",
       "      <td>(1, Кр57, 0,270, 5/3, А, 2, Кр57, 0,090, 5/4, А, 2, Кр57, 0,060, 5/3, А)</td>\n",
       "      <td>5</td>\n",
       "      <td>0.420</td>\n",
       "      <td>253.50</td>\n",
       "    </tr>\n",
       "    <tr>\n",
       "      <th>3</th>\n",
       "      <td>63701</td>\n",
       "      <td>3</td>\n",
       "      <td>1</td>\n",
       "      <td>4.64</td>\n",
       "      <td>10324.65</td>\n",
       "      <td>19493.0</td>\n",
       "      <td>(1, Кр57, 0,270, 5/4, А, 2, Кр57, 0,090, 4/5, А, 2, Кр57, 0,060, 5/4, А)</td>\n",
       "      <td>5</td>\n",
       "      <td>0.420</td>\n",
       "      <td>241.95</td>\n",
       "    </tr>\n",
       "    <tr>\n",
       "      <th>4</th>\n",
       "      <td>63702</td>\n",
       "      <td>4</td>\n",
       "      <td>1</td>\n",
       "      <td>4.94</td>\n",
       "      <td>10157.70</td>\n",
       "      <td>19178.0</td>\n",
       "      <td>(1, Кр57, 0,270, 5/4, А, 1, Кр57, 0,040, 4/5, А, 1, Кр57, 0,040, 4/5, А, 1, Кр57, 0,030, 5/5, А, 1, Кр57, 0,020, 5/5, А)</td>\n",
       "      <td>5</td>\n",
       "      <td>0.400</td>\n",
       "      <td>234.50</td>\n",
       "    </tr>\n",
       "    <tr>\n",
       "      <th>...</th>\n",
       "      <td>...</td>\n",
       "      <td>...</td>\n",
       "      <td>...</td>\n",
       "      <td>...</td>\n",
       "      <td>...</td>\n",
       "      <td>...</td>\n",
       "      <td>...</td>\n",
       "      <td>...</td>\n",
       "      <td>...</td>\n",
       "      <td>...</td>\n",
       "    </tr>\n",
       "    <tr>\n",
       "      <th>3080</th>\n",
       "      <td>МС00193632</td>\n",
       "      <td>1982</td>\n",
       "      <td>1</td>\n",
       "      <td>2.72</td>\n",
       "      <td>44542.30</td>\n",
       "      <td>133627.0</td>\n",
       "      <td>(1, Кр57, 0,400, 8-2/6, А)</td>\n",
       "      <td>1</td>\n",
       "      <td>0.400</td>\n",
       "      <td>348.00</td>\n",
       "    </tr>\n",
       "    <tr>\n",
       "      <th>3081</th>\n",
       "      <td>МС00193654</td>\n",
       "      <td>1995</td>\n",
       "      <td>1</td>\n",
       "      <td>3.37</td>\n",
       "      <td>31621.04</td>\n",
       "      <td>94864.0</td>\n",
       "      <td>(2, Кр57, 0,540, 5/6, А)</td>\n",
       "      <td>2</td>\n",
       "      <td>0.540</td>\n",
       "      <td>221.40</td>\n",
       "    </tr>\n",
       "    <tr>\n",
       "      <th>3082</th>\n",
       "      <td>МС00193665</td>\n",
       "      <td>1983</td>\n",
       "      <td>1</td>\n",
       "      <td>2.60</td>\n",
       "      <td>19129.67</td>\n",
       "      <td>57390.0</td>\n",
       "      <td>(1, Кр57, 0,224, 5/5, А)</td>\n",
       "      <td>1</td>\n",
       "      <td>0.224</td>\n",
       "      <td>123.20</td>\n",
       "    </tr>\n",
       "    <tr>\n",
       "      <th>3083</th>\n",
       "      <td>МС00193687</td>\n",
       "      <td>1984</td>\n",
       "      <td>1</td>\n",
       "      <td>2.64</td>\n",
       "      <td>80245.74</td>\n",
       "      <td>240738.0</td>\n",
       "      <td>(1, Кр57, 0,510, 8-2/4, А)</td>\n",
       "      <td>1</td>\n",
       "      <td>0.510</td>\n",
       "      <td>668.10</td>\n",
       "    </tr>\n",
       "    <tr>\n",
       "      <th>3084</th>\n",
       "      <td>МС00193731</td>\n",
       "      <td>1985</td>\n",
       "      <td>1</td>\n",
       "      <td>4.22</td>\n",
       "      <td>21701.05</td>\n",
       "      <td>65104.0</td>\n",
       "      <td>(1, Кр57, 0,020, 4/7, А, 2, Кр57, 0,040, 2/3, Б, 1, Кр57, 0,20, 3/5, Б, 1, Кр57, 0,020, 3/5, Б, 1, Кр57, 0,020, 4/8, Б, 1, Кр57, 0,020, 4/7, В, 9, Кр57, 0,200, 4/5, А)</td>\n",
       "      <td>16</td>\n",
       "      <td>0.520</td>\n",
       "      <td>248.50</td>\n",
       "    </tr>\n",
       "  </tbody>\n",
       "</table>\n",
       "<p>3085 rows × 10 columns</p>\n",
       "</div>"
      ],
      "text/plain": [
       "            id7c    пп  Кол   Вес     Закуп      Розн  \\\n",
       "0          27671     3    1  1.84    986.57    3826.0   \n",
       "1          63698     1    1  4.75  10865.40   42259.0   \n",
       "2          63699     2    1  4.88  10822.35   59186.0   \n",
       "3          63701     3    1  4.64  10324.65   19493.0   \n",
       "4          63702     4    1  4.94  10157.70   19178.0   \n",
       "...          ...   ...  ...   ...       ...       ...   \n",
       "3080  МС00193632  1982    1  2.72  44542.30  133627.0   \n",
       "3081  МС00193654  1995    1  3.37  31621.04   94864.0   \n",
       "3082  МС00193665  1983    1  2.60  19129.67   57390.0   \n",
       "3083  МС00193687  1984    1  2.64  80245.74  240738.0   \n",
       "3084  МС00193731  1985    1  4.22  21701.05   65104.0   \n",
       "\n",
       "                                                                                                                                                                      vs_dict  \\\n",
       "0                                                                                                                                                    (1, Кр57, 0,130, 4/4, А)   \n",
       "1                                                                            (1, Кр57, 0,270, 5/3, А, 1, Кр57, 0,040, 5/4, А, 1, Кр57, 0,050, 5/3, А, 2, Кр57, 0,070, 5/3, А)   \n",
       "2                                                                                                    (1, Кр57, 0,270, 5/3, А, 2, Кр57, 0,090, 5/4, А, 2, Кр57, 0,060, 5/3, А)   \n",
       "3                                                                                                    (1, Кр57, 0,270, 5/4, А, 2, Кр57, 0,090, 4/5, А, 2, Кр57, 0,060, 5/4, А)   \n",
       "4                                                    (1, Кр57, 0,270, 5/4, А, 1, Кр57, 0,040, 4/5, А, 1, Кр57, 0,040, 4/5, А, 1, Кр57, 0,030, 5/5, А, 1, Кр57, 0,020, 5/5, А)   \n",
       "...                                                                                                                                                                       ...   \n",
       "3080                                                                                                                                               (1, Кр57, 0,400, 8-2/6, А)   \n",
       "3081                                                                                                                                                 (2, Кр57, 0,540, 5/6, А)   \n",
       "3082                                                                                                                                                 (1, Кр57, 0,224, 5/5, А)   \n",
       "3083                                                                                                                                               (1, Кр57, 0,510, 8-2/4, А)   \n",
       "3084  (1, Кр57, 0,020, 4/7, А, 2, Кр57, 0,040, 2/3, Б, 1, Кр57, 0,20, 3/5, Б, 1, Кр57, 0,020, 3/5, Б, 1, Кр57, 0,020, 4/8, Б, 1, Кр57, 0,020, 4/7, В, 9, Кр57, 0,200, 4/5, А)   \n",
       "\n",
       "      ШТУК  КАРАТ  prcost  \n",
       "0        1  0.130   74.10  \n",
       "1        5  0.430  258.65  \n",
       "2        5  0.420  253.50  \n",
       "3        5  0.420  241.95  \n",
       "4        5  0.400  234.50  \n",
       "...    ...    ...     ...  \n",
       "3080     1  0.400  348.00  \n",
       "3081     2  0.540  221.40  \n",
       "3082     1  0.224  123.20  \n",
       "3083     1  0.510  668.10  \n",
       "3084    16  0.520  248.50  \n",
       "\n",
       "[3085 rows x 10 columns]"
      ]
     },
     "execution_count": 71,
     "metadata": {},
     "output_type": "execute_result"
    }
   ],
   "source": [
    "res[['id7c','пп', 'Кол','Вес', 'Закуп', 'Розн','vs_dict','ШТУК', 'КАРАТ','prpr',\n",
    "       'prcost']].groupby(['id7c']).agg({'пп':'first','Кол':'first','Вес':'first', 'Закуп':'first', 'Розн':'first',\n",
    "       'vs_dict':\"sum\",'ШТУК':\"sum\",'КАРАТ':\"sum\",'prcost':\"sum\",}).reset_index()\n",
    "#res.columns "
   ]
  },
  {
   "cell_type": "code",
   "execution_count": 72,
   "metadata": {},
   "outputs": [],
   "source": [
    "resfinsh = res[['id7c','пп', 'Кол','Вес', 'Закуп', 'Розн','vs_dict','ШТУК', 'КАРАТ','prpr',\n",
    "       'prcost']].groupby(['id7c']).agg({'пп':'first','Кол':'first','Вес':'first', 'Закуп':'first', 'Розн':'first',\n",
    "       'vs_dict':\"sum\",'ШТУК':\"sum\",'КАРАТ':\"sum\",'prcost':\"sum\",}).reset_index()\n"
   ]
  },
  {
   "cell_type": "code",
   "execution_count": 73,
   "metadata": {},
   "outputs": [
    {
     "data": {
      "text/plain": [
       "ШТУК       17058.0000\n",
       "КАРАТ        779.7872\n",
       "prcost    558367.0300\n",
       "dtype: float64"
      ]
     },
     "execution_count": 73,
     "metadata": {},
     "output_type": "execute_result"
    }
   ],
   "source": [
    "resfinsh[['ШТУК', 'КАРАТ','prcost']].sum()"
   ]
  },
  {
   "cell_type": "code",
   "execution_count": 74,
   "metadata": {},
   "outputs": [],
   "source": [
    "jewelleryfinish = pd.merge(jewellery,resfinsh[['id7c','ШТУК', 'КАРАТ','prcost']],how='left',right_on='id7c',left_on='id7c')"
   ]
  },
  {
   "cell_type": "code",
   "execution_count": 75,
   "metadata": {},
   "outputs": [],
   "source": [
    "#jewelleryfinish.to_excel('res/jewdpr_'+filenamep+'.xlsx')\n",
    "jewelleryfinish.to_excel(sourcepath + '_брилл_суммированы_'+filenamep+'.xlsx')"
   ]
  },
  {
   "cell_type": "code",
   "execution_count": 76,
   "metadata": {},
   "outputs": [
    {
     "data": {
      "text/html": [
       "<div>\n",
       "<style scoped>\n",
       "    .dataframe tbody tr th:only-of-type {\n",
       "        vertical-align: middle;\n",
       "    }\n",
       "\n",
       "    .dataframe tbody tr th {\n",
       "        vertical-align: top;\n",
       "    }\n",
       "\n",
       "    .dataframe thead th {\n",
       "        text-align: right;\n",
       "    }\n",
       "</style>\n",
       "<table border=\"1\" class=\"dataframe\">\n",
       "  <thead>\n",
       "    <tr style=\"text-align: right;\">\n",
       "      <th></th>\n",
       "      <th>Unnamed: 0</th>\n",
       "      <th>пп</th>\n",
       "      <th>id7c</th>\n",
       "      <th>Изделие</th>\n",
       "      <th>Артикул</th>\n",
       "      <th>Unnamed: 5</th>\n",
       "      <th>НоменГр</th>\n",
       "      <th>Проба</th>\n",
       "      <th>Цвет металла</th>\n",
       "      <th>Кол</th>\n",
       "      <th>...</th>\n",
       "      <th>Договор</th>\n",
       "      <th>ТН</th>\n",
       "      <th>Unnamed: 22</th>\n",
       "      <th>filname</th>\n",
       "      <th>checklog</th>\n",
       "      <th>vs_dict</th>\n",
       "      <th>gem</th>\n",
       "      <th>ШТУК</th>\n",
       "      <th>КАРАТ</th>\n",
       "      <th>prcost</th>\n",
       "    </tr>\n",
       "  </thead>\n",
       "  <tbody>\n",
       "    <tr>\n",
       "      <th>0</th>\n",
       "      <td>0</td>\n",
       "      <td>1</td>\n",
       "      <td>93280</td>\n",
       "      <td>Кольцо</td>\n",
       "      <td>06/511042</td>\n",
       "      <td>12387</td>\n",
       "      <td>Т ДМ Юи с ДК</td>\n",
       "      <td>585</td>\n",
       "      <td>красное</td>\n",
       "      <td>1</td>\n",
       "      <td>...</td>\n",
       "      <td>№03/10-203 от 26.09.07 (купля)</td>\n",
       "      <td>Рнк №114 от 26.09.07 (ДК)</td>\n",
       "      <td></td>\n",
       "      <td>03-10-203.xls</td>\n",
       "      <td></td>\n",
       "      <td>[(1, Кр57, 0,180, 4/5, А)]</td>\n",
       "      <td>[]</td>\n",
       "      <td>1.0</td>\n",
       "      <td>0.180</td>\n",
       "      <td>116.10</td>\n",
       "    </tr>\n",
       "    <tr>\n",
       "      <th>1</th>\n",
       "      <td>1</td>\n",
       "      <td>2</td>\n",
       "      <td>93282</td>\n",
       "      <td>Кольцо</td>\n",
       "      <td>511100</td>\n",
       "      <td>7350</td>\n",
       "      <td>Т ДМ Юи с ДК</td>\n",
       "      <td>585</td>\n",
       "      <td>комбинированное</td>\n",
       "      <td>1</td>\n",
       "      <td>...</td>\n",
       "      <td>№03/10-203 от 26.09.07 (купля)</td>\n",
       "      <td>Рнк №114 от 26.09.07 (ДК)</td>\n",
       "      <td></td>\n",
       "      <td>03-10-203.xls</td>\n",
       "      <td></td>\n",
       "      <td>[(1, Кр57, 0,080, 5/2, А), (2, Кр57, 0,036, 2/4, А)]</td>\n",
       "      <td>[]</td>\n",
       "      <td>3.0</td>\n",
       "      <td>0.116</td>\n",
       "      <td>52.16</td>\n",
       "    </tr>\n",
       "    <tr>\n",
       "      <th>2</th>\n",
       "      <td>2</td>\n",
       "      <td>3</td>\n",
       "      <td>93286</td>\n",
       "      <td>Кольцо</td>\n",
       "      <td>511100</td>\n",
       "      <td>10035</td>\n",
       "      <td>Т ДМ Юи с ДК</td>\n",
       "      <td>585</td>\n",
       "      <td>комбинированное</td>\n",
       "      <td>1</td>\n",
       "      <td>...</td>\n",
       "      <td>№03/10-203 от 26.09.07 (купля)</td>\n",
       "      <td>Рнк №114 от 26.09.07 (ДК)</td>\n",
       "      <td></td>\n",
       "      <td>03-10-203.xls</td>\n",
       "      <td></td>\n",
       "      <td>[(1, Кр57, 0,080, 5/5, А), (2, Кр57, 0,030, 4/3, А)]</td>\n",
       "      <td>[]</td>\n",
       "      <td>3.0</td>\n",
       "      <td>0.110</td>\n",
       "      <td>41.10</td>\n",
       "    </tr>\n",
       "    <tr>\n",
       "      <th>3</th>\n",
       "      <td>3</td>\n",
       "      <td>4</td>\n",
       "      <td>93288</td>\n",
       "      <td>Кольцо</td>\n",
       "      <td>511100</td>\n",
       "      <td>10048</td>\n",
       "      <td>Т ДМ Юи с ДК</td>\n",
       "      <td>585</td>\n",
       "      <td>комбинированное</td>\n",
       "      <td>1</td>\n",
       "      <td>...</td>\n",
       "      <td>№03/10-203 от 26.09.07 (купля)</td>\n",
       "      <td>Рнк №114 от 26.09.07 (ДК)</td>\n",
       "      <td></td>\n",
       "      <td>03-10-203.xls</td>\n",
       "      <td></td>\n",
       "      <td>[(1, Кр57, 0,080, 5/5, А), (2, Кр57, 0,040, 4/3, А)]</td>\n",
       "      <td>[]</td>\n",
       "      <td>3.0</td>\n",
       "      <td>0.120</td>\n",
       "      <td>45.20</td>\n",
       "    </tr>\n",
       "    <tr>\n",
       "      <th>4</th>\n",
       "      <td>4</td>\n",
       "      <td>5</td>\n",
       "      <td>93289</td>\n",
       "      <td>Кольцо</td>\n",
       "      <td>511100</td>\n",
       "      <td>10046</td>\n",
       "      <td>Т ДМ Юи с ДК</td>\n",
       "      <td>585</td>\n",
       "      <td>комбинированное</td>\n",
       "      <td>1</td>\n",
       "      <td>...</td>\n",
       "      <td>№03/10-203 от 26.09.07 (купля)</td>\n",
       "      <td>Рнк №114 от 26.09.07 (ДК)</td>\n",
       "      <td></td>\n",
       "      <td>03-10-203.xls</td>\n",
       "      <td></td>\n",
       "      <td>[(1, Кр57, 0,080, 6/2, А), (2, Кр57, 0,040, 4/3, А)]</td>\n",
       "      <td>[]</td>\n",
       "      <td>3.0</td>\n",
       "      <td>0.120</td>\n",
       "      <td>46.80</td>\n",
       "    </tr>\n",
       "    <tr>\n",
       "      <th>...</th>\n",
       "      <td>...</td>\n",
       "      <td>...</td>\n",
       "      <td>...</td>\n",
       "      <td>...</td>\n",
       "      <td>...</td>\n",
       "      <td>...</td>\n",
       "      <td>...</td>\n",
       "      <td>...</td>\n",
       "      <td>...</td>\n",
       "      <td>...</td>\n",
       "      <td>...</td>\n",
       "      <td>...</td>\n",
       "      <td>...</td>\n",
       "      <td>...</td>\n",
       "      <td>...</td>\n",
       "      <td>...</td>\n",
       "      <td>...</td>\n",
       "      <td>...</td>\n",
       "      <td>...</td>\n",
       "      <td>...</td>\n",
       "      <td>...</td>\n",
       "    </tr>\n",
       "    <tr>\n",
       "      <th>27516</th>\n",
       "      <td>27516</td>\n",
       "      <td>495</td>\n",
       "      <td>МС00023705</td>\n",
       "      <td>Серьги</td>\n",
       "      <td>SE864</td>\n",
       "      <td>179</td>\n",
       "      <td>Т ДМ Юи сер. с ПДК</td>\n",
       "      <td>925</td>\n",
       "      <td>родированное</td>\n",
       "      <td>1</td>\n",
       "      <td>...</td>\n",
       "      <td>Доп.1</td>\n",
       "      <td>с2д1 турм</td>\n",
       "      <td></td>\n",
       "      <td>серебро Гонконг.xls</td>\n",
       "      <td></td>\n",
       "      <td>[]</td>\n",
       "      <td>[Чароит , Аметист]</td>\n",
       "      <td>NaN</td>\n",
       "      <td>NaN</td>\n",
       "      <td>NaN</td>\n",
       "    </tr>\n",
       "    <tr>\n",
       "      <th>27517</th>\n",
       "      <td>27517</td>\n",
       "      <td>495</td>\n",
       "      <td>МС00023705</td>\n",
       "      <td>Серьги</td>\n",
       "      <td>SE864</td>\n",
       "      <td>179</td>\n",
       "      <td>Т ДМ Юи сер. с ПДК</td>\n",
       "      <td>925</td>\n",
       "      <td>родированное</td>\n",
       "      <td>1</td>\n",
       "      <td>...</td>\n",
       "      <td>Доп.1</td>\n",
       "      <td>с2д1 турм</td>\n",
       "      <td>NaN</td>\n",
       "      <td>серебро Гонконг.xls</td>\n",
       "      <td></td>\n",
       "      <td>[]</td>\n",
       "      <td>[Чароит , Аметист]</td>\n",
       "      <td>NaN</td>\n",
       "      <td>NaN</td>\n",
       "      <td>NaN</td>\n",
       "    </tr>\n",
       "    <tr>\n",
       "      <th>27518</th>\n",
       "      <td>27518</td>\n",
       "      <td>496</td>\n",
       "      <td>МС00023708</td>\n",
       "      <td>Серьги</td>\n",
       "      <td>USE1358</td>\n",
       "      <td>182</td>\n",
       "      <td>Т ДМ Юи сер. с ПДК</td>\n",
       "      <td>925</td>\n",
       "      <td>родированное</td>\n",
       "      <td>1</td>\n",
       "      <td>...</td>\n",
       "      <td>Доп.1</td>\n",
       "      <td>с2д1 турм</td>\n",
       "      <td>NaN</td>\n",
       "      <td>серебро Гонконг.xls</td>\n",
       "      <td></td>\n",
       "      <td>[]</td>\n",
       "      <td>[Гранат , Фианит]</td>\n",
       "      <td>NaN</td>\n",
       "      <td>NaN</td>\n",
       "      <td>NaN</td>\n",
       "    </tr>\n",
       "    <tr>\n",
       "      <th>27519</th>\n",
       "      <td>27519</td>\n",
       "      <td>497</td>\n",
       "      <td>МС00023710</td>\n",
       "      <td>Серьги</td>\n",
       "      <td>USE1133</td>\n",
       "      <td>184</td>\n",
       "      <td>Т ДМ Юи сер. с ПДК</td>\n",
       "      <td>925</td>\n",
       "      <td>родированное</td>\n",
       "      <td>1</td>\n",
       "      <td>...</td>\n",
       "      <td>Доп.1</td>\n",
       "      <td>с2д1 турм</td>\n",
       "      <td></td>\n",
       "      <td>серебро Гонконг.xls</td>\n",
       "      <td></td>\n",
       "      <td>[]</td>\n",
       "      <td>[Танзанит]</td>\n",
       "      <td>NaN</td>\n",
       "      <td>NaN</td>\n",
       "      <td>NaN</td>\n",
       "    </tr>\n",
       "    <tr>\n",
       "      <th>27520</th>\n",
       "      <td>27520</td>\n",
       "      <td>497</td>\n",
       "      <td>МС00023710</td>\n",
       "      <td>Серьги</td>\n",
       "      <td>USE1133</td>\n",
       "      <td>184</td>\n",
       "      <td>Т ДМ Юи сер. с ПДК</td>\n",
       "      <td>925</td>\n",
       "      <td>родированное</td>\n",
       "      <td>1</td>\n",
       "      <td>...</td>\n",
       "      <td>Доп.1</td>\n",
       "      <td>с2д1 турм</td>\n",
       "      <td>NaN</td>\n",
       "      <td>серебро Гонконг.xls</td>\n",
       "      <td></td>\n",
       "      <td>[]</td>\n",
       "      <td>[Танзанит]</td>\n",
       "      <td>NaN</td>\n",
       "      <td>NaN</td>\n",
       "      <td>NaN</td>\n",
       "    </tr>\n",
       "  </tbody>\n",
       "</table>\n",
       "<p>27521 rows × 30 columns</p>\n",
       "</div>"
      ],
      "text/plain": [
       "       Unnamed: 0   пп        id7c Изделие    Артикул Unnamed: 5  \\\n",
       "0               0    1       93280  Кольцо  06/511042      12387   \n",
       "1               1    2       93282  Кольцо     511100       7350   \n",
       "2               2    3       93286  Кольцо     511100      10035   \n",
       "3               3    4       93288  Кольцо     511100      10048   \n",
       "4               4    5       93289  Кольцо     511100      10046   \n",
       "...           ...  ...         ...     ...        ...        ...   \n",
       "27516       27516  495  МС00023705  Серьги      SE864        179   \n",
       "27517       27517  495  МС00023705  Серьги      SE864        179   \n",
       "27518       27518  496  МС00023708  Серьги    USE1358        182   \n",
       "27519       27519  497  МС00023710  Серьги    USE1133        184   \n",
       "27520       27520  497  МС00023710  Серьги    USE1133        184   \n",
       "\n",
       "                  НоменГр Проба     Цвет металла  Кол  ...  \\\n",
       "0            Т ДМ Юи с ДК   585          красное    1  ...   \n",
       "1            Т ДМ Юи с ДК   585  комбинированное    1  ...   \n",
       "2            Т ДМ Юи с ДК   585  комбинированное    1  ...   \n",
       "3            Т ДМ Юи с ДК   585  комбинированное    1  ...   \n",
       "4            Т ДМ Юи с ДК   585  комбинированное    1  ...   \n",
       "...                   ...   ...              ...  ...  ...   \n",
       "27516  Т ДМ Юи сер. с ПДК   925     родированное    1  ...   \n",
       "27517  Т ДМ Юи сер. с ПДК   925     родированное    1  ...   \n",
       "27518  Т ДМ Юи сер. с ПДК   925     родированное    1  ...   \n",
       "27519  Т ДМ Юи сер. с ПДК   925     родированное    1  ...   \n",
       "27520  Т ДМ Юи сер. с ПДК   925     родированное    1  ...   \n",
       "\n",
       "                              Договор                         ТН  Unnamed: 22  \\\n",
       "0      №03/10-203 от 26.09.07 (купля)  Рнк №114 от 26.09.07 (ДК)                \n",
       "1      №03/10-203 от 26.09.07 (купля)  Рнк №114 от 26.09.07 (ДК)                \n",
       "2      №03/10-203 от 26.09.07 (купля)  Рнк №114 от 26.09.07 (ДК)                \n",
       "3      №03/10-203 от 26.09.07 (купля)  Рнк №114 от 26.09.07 (ДК)                \n",
       "4      №03/10-203 от 26.09.07 (купля)  Рнк №114 от 26.09.07 (ДК)                \n",
       "...                               ...                        ...          ...   \n",
       "27516                           Доп.1                  с2д1 турм                \n",
       "27517                           Доп.1                  с2д1 турм          NaN   \n",
       "27518                           Доп.1                  с2д1 турм          NaN   \n",
       "27519                           Доп.1                  с2д1 турм                \n",
       "27520                           Доп.1                  с2д1 турм          NaN   \n",
       "\n",
       "                   filname checklog  \\\n",
       "0            03-10-203.xls            \n",
       "1            03-10-203.xls            \n",
       "2            03-10-203.xls            \n",
       "3            03-10-203.xls            \n",
       "4            03-10-203.xls            \n",
       "...                    ...      ...   \n",
       "27516  серебро Гонконг.xls            \n",
       "27517  серебро Гонконг.xls            \n",
       "27518  серебро Гонконг.xls            \n",
       "27519  серебро Гонконг.xls            \n",
       "27520  серебро Гонконг.xls            \n",
       "\n",
       "                                                    vs_dict  \\\n",
       "0                                [(1, Кр57, 0,180, 4/5, А)]   \n",
       "1      [(1, Кр57, 0,080, 5/2, А), (2, Кр57, 0,036, 2/4, А)]   \n",
       "2      [(1, Кр57, 0,080, 5/5, А), (2, Кр57, 0,030, 4/3, А)]   \n",
       "3      [(1, Кр57, 0,080, 5/5, А), (2, Кр57, 0,040, 4/3, А)]   \n",
       "4      [(1, Кр57, 0,080, 6/2, А), (2, Кр57, 0,040, 4/3, А)]   \n",
       "...                                                     ...   \n",
       "27516                                                    []   \n",
       "27517                                                    []   \n",
       "27518                                                    []   \n",
       "27519                                                    []   \n",
       "27520                                                    []   \n",
       "\n",
       "                      gem ШТУК  КАРАТ  prcost  \n",
       "0                      []  1.0  0.180  116.10  \n",
       "1                      []  3.0  0.116   52.16  \n",
       "2                      []  3.0  0.110   41.10  \n",
       "3                      []  3.0  0.120   45.20  \n",
       "4                      []  3.0  0.120   46.80  \n",
       "...                   ...  ...    ...     ...  \n",
       "27516  [Чароит , Аметист]  NaN    NaN     NaN  \n",
       "27517  [Чароит , Аметист]  NaN    NaN     NaN  \n",
       "27518   [Гранат , Фианит]  NaN    NaN     NaN  \n",
       "27519          [Танзанит]  NaN    NaN     NaN  \n",
       "27520          [Танзанит]  NaN    NaN     NaN  \n",
       "\n",
       "[27521 rows x 30 columns]"
      ]
     },
     "execution_count": 76,
     "metadata": {},
     "output_type": "execute_result"
    }
   ],
   "source": [
    "pd.merge(jewellery,resfinsh[['id7c','ШТУК', 'КАРАТ','prcost']],how='left',right_on='id7c',left_on='id7c')#.to_excel('res/jewdpr_'+filenamep+'.xlsx')"
   ]
  },
  {
   "cell_type": "code",
   "execution_count": 77,
   "metadata": {},
   "outputs": [],
   "source": [
    "summallres = jewelleryfinish[['filname', 'Кол', \"Вес\", \"Закуп\", \"Розн\",'ШТУК', 'КАРАТ','prcost']].groupby(by = 'filname').sum().reset_index()"
   ]
  },
  {
   "cell_type": "code",
   "execution_count": 78,
   "metadata": {},
   "outputs": [],
   "source": [
    "summallres['партия'] = sourcepath"
   ]
  },
  {
   "cell_type": "code",
   "execution_count": null,
   "metadata": {},
   "outputs": [],
   "source": [
    "summallres"
   ]
  },
  {
   "cell_type": "code",
   "execution_count": 79,
   "metadata": {},
   "outputs": [],
   "source": [
    "summallres.to_excel(sourcepath + '_свод_после_прейскуранта_'+filenamep+'.xlsx')"
   ]
  },
  {
   "cell_type": "code",
   "execution_count": 80,
   "metadata": {},
   "outputs": [
    {
     "data": {
      "text/html": [
       "<div>\n",
       "<style scoped>\n",
       "    .dataframe tbody tr th:only-of-type {\n",
       "        vertical-align: middle;\n",
       "    }\n",
       "\n",
       "    .dataframe tbody tr th {\n",
       "        vertical-align: top;\n",
       "    }\n",
       "\n",
       "    .dataframe thead th {\n",
       "        text-align: right;\n",
       "    }\n",
       "</style>\n",
       "<table border=\"1\" class=\"dataframe\">\n",
       "  <thead>\n",
       "    <tr style=\"text-align: right;\">\n",
       "      <th></th>\n",
       "      <th>filname</th>\n",
       "      <th>Кол</th>\n",
       "      <th>Вес</th>\n",
       "      <th>Закуп</th>\n",
       "      <th>Розн</th>\n",
       "      <th>ШТУК</th>\n",
       "      <th>КАРАТ</th>\n",
       "      <th>prcost</th>\n",
       "      <th>партия</th>\n",
       "    </tr>\n",
       "  </thead>\n",
       "  <tbody>\n",
       "    <tr>\n",
       "      <th>0</th>\n",
       "      <td>03-10-203.xls</td>\n",
       "      <td>81</td>\n",
       "      <td>493.09</td>\n",
       "      <td>2.155987e+06</td>\n",
       "      <td>5.757284e+06</td>\n",
       "      <td>877.0</td>\n",
       "      <td>28.8260</td>\n",
       "      <td>14518.77</td>\n",
       "      <td>jewels/antipina/</td>\n",
       "    </tr>\n",
       "    <tr>\n",
       "      <th>1</th>\n",
       "      <td>03-10-206а.xls</td>\n",
       "      <td>9</td>\n",
       "      <td>39.30</td>\n",
       "      <td>6.129243e+04</td>\n",
       "      <td>1.012560e+05</td>\n",
       "      <td>18.0</td>\n",
       "      <td>0.5700</td>\n",
       "      <td>248.85</td>\n",
       "      <td>jewels/antipina/</td>\n",
       "    </tr>\n",
       "    <tr>\n",
       "      <th>2</th>\n",
       "      <td>03-10-256а.xls</td>\n",
       "      <td>23</td>\n",
       "      <td>93.19</td>\n",
       "      <td>1.902824e+05</td>\n",
       "      <td>9.039540e+05</td>\n",
       "      <td>95.0</td>\n",
       "      <td>5.5100</td>\n",
       "      <td>3591.03</td>\n",
       "      <td>jewels/antipina/</td>\n",
       "    </tr>\n",
       "    <tr>\n",
       "      <th>3</th>\n",
       "      <td>06-341-3.xls</td>\n",
       "      <td>4793</td>\n",
       "      <td>27591.66</td>\n",
       "      <td>1.389394e+07</td>\n",
       "      <td>3.278970e+07</td>\n",
       "      <td>792.0</td>\n",
       "      <td>17.1032</td>\n",
       "      <td>9539.41</td>\n",
       "      <td>jewels/antipina/</td>\n",
       "    </tr>\n",
       "    <tr>\n",
       "      <th>4</th>\n",
       "      <td>06-341-4.xls</td>\n",
       "      <td>154</td>\n",
       "      <td>1071.46</td>\n",
       "      <td>3.092022e+06</td>\n",
       "      <td>7.297174e+06</td>\n",
       "      <td>753.0</td>\n",
       "      <td>9.0550</td>\n",
       "      <td>3321.25</td>\n",
       "      <td>jewels/antipina/</td>\n",
       "    </tr>\n",
       "    <tr>\n",
       "      <th>5</th>\n",
       "      <td>06-343-1.xls</td>\n",
       "      <td>6197</td>\n",
       "      <td>24205.58</td>\n",
       "      <td>5.083172e+07</td>\n",
       "      <td>1.199629e+08</td>\n",
       "      <td>0.0</td>\n",
       "      <td>0.0000</td>\n",
       "      <td>0.00</td>\n",
       "      <td>jewels/antipina/</td>\n",
       "    </tr>\n",
       "    <tr>\n",
       "      <th>6</th>\n",
       "      <td>193-1-03-2018 от 12.11.18г.xls</td>\n",
       "      <td>880</td>\n",
       "      <td>2494.49</td>\n",
       "      <td>1.456665e+07</td>\n",
       "      <td>3.437728e+07</td>\n",
       "      <td>1816.0</td>\n",
       "      <td>47.5130</td>\n",
       "      <td>42964.94</td>\n",
       "      <td>jewels/antipina/</td>\n",
       "    </tr>\n",
       "    <tr>\n",
       "      <th>7</th>\n",
       "      <td>209-1.xls</td>\n",
       "      <td>80</td>\n",
       "      <td>253.05</td>\n",
       "      <td>1.450895e+05</td>\n",
       "      <td>3.165500e+05</td>\n",
       "      <td>102.0</td>\n",
       "      <td>5.6760</td>\n",
       "      <td>3272.16</td>\n",
       "      <td>jewels/antipina/</td>\n",
       "    </tr>\n",
       "    <tr>\n",
       "      <th>8</th>\n",
       "      <td>31 дог.xls</td>\n",
       "      <td>1503</td>\n",
       "      <td>4758.07</td>\n",
       "      <td>4.043204e+06</td>\n",
       "      <td>1.003958e+07</td>\n",
       "      <td>2276.0</td>\n",
       "      <td>75.6170</td>\n",
       "      <td>38925.65</td>\n",
       "      <td>jewels/antipina/</td>\n",
       "    </tr>\n",
       "    <tr>\n",
       "      <th>9</th>\n",
       "      <td>48-03-2019 от 26.09.19г..xls</td>\n",
       "      <td>5456</td>\n",
       "      <td>16305.36</td>\n",
       "      <td>4.101424e+07</td>\n",
       "      <td>9.843417e+07</td>\n",
       "      <td>1944.0</td>\n",
       "      <td>46.5630</td>\n",
       "      <td>35222.66</td>\n",
       "      <td>jewels/antipina/</td>\n",
       "    </tr>\n",
       "    <tr>\n",
       "      <th>10</th>\n",
       "      <td>ДЯ 141.xls</td>\n",
       "      <td>1485</td>\n",
       "      <td>13630.58</td>\n",
       "      <td>6.075717e+06</td>\n",
       "      <td>1.366723e+07</td>\n",
       "      <td>1366.0</td>\n",
       "      <td>46.8580</td>\n",
       "      <td>36157.29</td>\n",
       "      <td>jewels/antipina/</td>\n",
       "    </tr>\n",
       "    <tr>\n",
       "      <th>11</th>\n",
       "      <td>ДЯ 329-2 (кроме серебра, задания №6).xls</td>\n",
       "      <td>543</td>\n",
       "      <td>1240.26</td>\n",
       "      <td>6.471632e+06</td>\n",
       "      <td>1.548000e+07</td>\n",
       "      <td>809.0</td>\n",
       "      <td>70.5600</td>\n",
       "      <td>46527.14</td>\n",
       "      <td>jewels/antipina/</td>\n",
       "    </tr>\n",
       "    <tr>\n",
       "      <th>12</th>\n",
       "      <td>ИП Алексеев ВМ.xls</td>\n",
       "      <td>1362</td>\n",
       "      <td>4895.78</td>\n",
       "      <td>1.880549e+07</td>\n",
       "      <td>5.573792e+07</td>\n",
       "      <td>3618.0</td>\n",
       "      <td>228.5440</td>\n",
       "      <td>156694.15</td>\n",
       "      <td>jewels/antipina/</td>\n",
       "    </tr>\n",
       "    <tr>\n",
       "      <th>13</th>\n",
       "      <td>КДМ-Нюрба.xls</td>\n",
       "      <td>2</td>\n",
       "      <td>3.89</td>\n",
       "      <td>7.014993e+03</td>\n",
       "      <td>1.158831e+04</td>\n",
       "      <td>0.0</td>\n",
       "      <td>0.0000</td>\n",
       "      <td>0.00</td>\n",
       "      <td>jewels/antipina/</td>\n",
       "    </tr>\n",
       "    <tr>\n",
       "      <th>14</th>\n",
       "      <td>КДМ-Хандыга.xls</td>\n",
       "      <td>71</td>\n",
       "      <td>569.81</td>\n",
       "      <td>1.851142e+05</td>\n",
       "      <td>1.197246e+06</td>\n",
       "      <td>23.0</td>\n",
       "      <td>2.8300</td>\n",
       "      <td>1199.36</td>\n",
       "      <td>jewels/antipina/</td>\n",
       "    </tr>\n",
       "    <tr>\n",
       "      <th>15</th>\n",
       "      <td>Кристалл.xls</td>\n",
       "      <td>1867</td>\n",
       "      <td>8701.49</td>\n",
       "      <td>6.229371e+06</td>\n",
       "      <td>2.813536e+07</td>\n",
       "      <td>1477.0</td>\n",
       "      <td>158.7680</td>\n",
       "      <td>140439.20</td>\n",
       "      <td>jewels/antipina/</td>\n",
       "    </tr>\n",
       "    <tr>\n",
       "      <th>16</th>\n",
       "      <td>Регионопторг.xls</td>\n",
       "      <td>22</td>\n",
       "      <td>91.00</td>\n",
       "      <td>1.228678e+06</td>\n",
       "      <td>3.624611e+06</td>\n",
       "      <td>209.0</td>\n",
       "      <td>12.4580</td>\n",
       "      <td>14790.91</td>\n",
       "      <td>jewels/antipina/</td>\n",
       "    </tr>\n",
       "    <tr>\n",
       "      <th>17</th>\n",
       "      <td>Сахаювелир ДВ.xls</td>\n",
       "      <td>22</td>\n",
       "      <td>81.02</td>\n",
       "      <td>9.367629e+05</td>\n",
       "      <td>2.763461e+06</td>\n",
       "      <td>104.0</td>\n",
       "      <td>11.0630</td>\n",
       "      <td>7667.12</td>\n",
       "      <td>jewels/antipina/</td>\n",
       "    </tr>\n",
       "    <tr>\n",
       "      <th>18</th>\n",
       "      <td>дя06-199-2.xls</td>\n",
       "      <td>2084</td>\n",
       "      <td>10511.43</td>\n",
       "      <td>8.658418e+06</td>\n",
       "      <td>2.043763e+07</td>\n",
       "      <td>779.0</td>\n",
       "      <td>12.2730</td>\n",
       "      <td>3287.14</td>\n",
       "      <td>jewels/antipina/</td>\n",
       "    </tr>\n",
       "    <tr>\n",
       "      <th>19</th>\n",
       "      <td>серебро Гонконг.xls</td>\n",
       "      <td>887</td>\n",
       "      <td>4027.70</td>\n",
       "      <td>9.052715e+05</td>\n",
       "      <td>2.392137e+06</td>\n",
       "      <td>0.0</td>\n",
       "      <td>0.0000</td>\n",
       "      <td>0.00</td>\n",
       "      <td>jewels/antipina/</td>\n",
       "    </tr>\n",
       "  </tbody>\n",
       "</table>\n",
       "</div>"
      ],
      "text/plain": [
       "                                     filname   Кол       Вес         Закуп  \\\n",
       "0                              03-10-203.xls    81    493.09  2.155987e+06   \n",
       "1                             03-10-206а.xls     9     39.30  6.129243e+04   \n",
       "2                             03-10-256а.xls    23     93.19  1.902824e+05   \n",
       "3                               06-341-3.xls  4793  27591.66  1.389394e+07   \n",
       "4                               06-341-4.xls   154   1071.46  3.092022e+06   \n",
       "5                               06-343-1.xls  6197  24205.58  5.083172e+07   \n",
       "6             193-1-03-2018 от 12.11.18г.xls   880   2494.49  1.456665e+07   \n",
       "7                                  209-1.xls    80    253.05  1.450895e+05   \n",
       "8                                 31 дог.xls  1503   4758.07  4.043204e+06   \n",
       "9               48-03-2019 от 26.09.19г..xls  5456  16305.36  4.101424e+07   \n",
       "10                                ДЯ 141.xls  1485  13630.58  6.075717e+06   \n",
       "11  ДЯ 329-2 (кроме серебра, задания №6).xls   543   1240.26  6.471632e+06   \n",
       "12                        ИП Алексеев ВМ.xls  1362   4895.78  1.880549e+07   \n",
       "13                             КДМ-Нюрба.xls     2      3.89  7.014993e+03   \n",
       "14                           КДМ-Хандыга.xls    71    569.81  1.851142e+05   \n",
       "15                              Кристалл.xls  1867   8701.49  6.229371e+06   \n",
       "16                          Регионопторг.xls    22     91.00  1.228678e+06   \n",
       "17                         Сахаювелир ДВ.xls    22     81.02  9.367629e+05   \n",
       "18                            дя06-199-2.xls  2084  10511.43  8.658418e+06   \n",
       "19                       серебро Гонконг.xls   887   4027.70  9.052715e+05   \n",
       "\n",
       "            Розн    ШТУК     КАРАТ     prcost            партия  \n",
       "0   5.757284e+06   877.0   28.8260   14518.77  jewels/antipina/  \n",
       "1   1.012560e+05    18.0    0.5700     248.85  jewels/antipina/  \n",
       "2   9.039540e+05    95.0    5.5100    3591.03  jewels/antipina/  \n",
       "3   3.278970e+07   792.0   17.1032    9539.41  jewels/antipina/  \n",
       "4   7.297174e+06   753.0    9.0550    3321.25  jewels/antipina/  \n",
       "5   1.199629e+08     0.0    0.0000       0.00  jewels/antipina/  \n",
       "6   3.437728e+07  1816.0   47.5130   42964.94  jewels/antipina/  \n",
       "7   3.165500e+05   102.0    5.6760    3272.16  jewels/antipina/  \n",
       "8   1.003958e+07  2276.0   75.6170   38925.65  jewels/antipina/  \n",
       "9   9.843417e+07  1944.0   46.5630   35222.66  jewels/antipina/  \n",
       "10  1.366723e+07  1366.0   46.8580   36157.29  jewels/antipina/  \n",
       "11  1.548000e+07   809.0   70.5600   46527.14  jewels/antipina/  \n",
       "12  5.573792e+07  3618.0  228.5440  156694.15  jewels/antipina/  \n",
       "13  1.158831e+04     0.0    0.0000       0.00  jewels/antipina/  \n",
       "14  1.197246e+06    23.0    2.8300    1199.36  jewels/antipina/  \n",
       "15  2.813536e+07  1477.0  158.7680  140439.20  jewels/antipina/  \n",
       "16  3.624611e+06   209.0   12.4580   14790.91  jewels/antipina/  \n",
       "17  2.763461e+06   104.0   11.0630    7667.12  jewels/antipina/  \n",
       "18  2.043763e+07   779.0   12.2730    3287.14  jewels/antipina/  \n",
       "19  2.392137e+06     0.0    0.0000       0.00  jewels/antipina/  "
      ]
     },
     "execution_count": 80,
     "metadata": {},
     "output_type": "execute_result"
    }
   ],
   "source": [
    "summallres"
   ]
  },
  {
   "cell_type": "markdown",
   "metadata": {},
   "source": [
    "filname    03-10-203.xls03-10-206а.xls03-10-256а.xls06-34...\n",
    "Кол                                                    27521\n",
    "Вес                                                121058.21\n",
    "Закуп                                           179497903.46\n",
    "Розн                                            453427001.68\n",
    "dtype: object"
   ]
  },
  {
   "cell_type": "code",
   "execution_count": null,
   "metadata": {},
   "outputs": [],
   "source": [
    "pd.options.display.float_format = '{:.2f}'.format\n",
    "pd.options.display.max_colwidth = 100"
   ]
  },
  {
   "cell_type": "code",
   "execution_count": null,
   "metadata": {},
   "outputs": [],
   "source": []
  },
  {
   "cell_type": "code",
   "execution_count": null,
   "metadata": {},
   "outputs": [],
   "source": [
    "pd.DataFrame.explode?"
   ]
  }
 ],
 "metadata": {
  "kernelspec": {
   "display_name": "Python 3",
   "language": "python",
   "name": "python3"
  },
  "language_info": {
   "codemirror_mode": {
    "name": "ipython",
    "version": 3
   },
   "file_extension": ".py",
   "mimetype": "text/x-python",
   "name": "python",
   "nbconvert_exporter": "python",
   "pygments_lexer": "ipython3",
   "version": "3.6.4"
  }
 },
 "nbformat": 4,
 "nbformat_minor": 5
}
