{
 "cells": [
  {
   "cell_type": "code",
   "execution_count": 1,
   "metadata": {},
   "outputs": [],
   "source": [
    "#16-06-2022 Для Алексея Руб-Из-Сап\n",
    "#24-05-2022 Запуск парсинга result is 'mius240522_0-4154.xlsx'"
   ]
  },
  {
   "cell_type": "code",
   "execution_count": 2,
   "metadata": {},
   "outputs": [],
   "source": [
    "from bs4 import BeautifulSoup\n",
    "import requests\n",
    "from requests import Request, Session\n",
    "import pandas as pd"
   ]
  },
  {
   "cell_type": "code",
   "execution_count": 3,
   "metadata": {},
   "outputs": [],
   "source": [
    "import re"
   ]
  },
  {
   "cell_type": "code",
   "execution_count": 4,
   "metadata": {},
   "outputs": [],
   "source": [
    "def mysoup(urls):\n",
    "    response = requests.get(urls)\n",
    "    return BeautifulSoup(response.text, 'lxml')\n",
    "   "
   ]
  },
  {
   "cell_type": "code",
   "execution_count": 5,
   "metadata": {},
   "outputs": [],
   "source": [
    "def getlinks(urls):\n",
    "    quotes = mysoup(urls).find_all('div', class_=\"product\")\n",
    "    res = [q.find(\"a\").get(\"href\") for q in quotes]\n",
    "    print(len(res), 'links is ready ' , res[0], '...', res[-1])\n",
    "    return res\n",
    "    "
   ]
  },
  {
   "cell_type": "code",
   "execution_count": 6,
   "metadata": {},
   "outputs": [],
   "source": [
    "def get_info_from_card(urls):\n",
    "    card = mysoup(urls)\n",
    "    return card.select('body > div.grid > div > div > div.detail__item.detail__item--new > div.detail__item-col._3.position-relative > form > div:nth-child(8)')\n",
    "    "
   ]
  },
  {
   "cell_type": "code",
   "execution_count": 7,
   "metadata": {},
   "outputs": [
    {
     "data": {
      "text/plain": [
       "'page=2/'"
      ]
     },
     "execution_count": 7,
     "metadata": {},
     "output_type": "execute_result"
    }
   ],
   "source": [
    "i=2\n",
    "f'page={i}/'"
   ]
  },
  {
   "cell_type": "markdown",
   "metadata": {},
   "source": [
    "## Добываем линки на карточки "
   ]
  },
  {
   "cell_type": "code",
   "execution_count": 8,
   "metadata": {},
   "outputs": [],
   "source": [
    "links = []"
   ]
  },
  {
   "cell_type": "code",
   "execution_count": 9,
   "metadata": {},
   "outputs": [
    {
     "name": "stdout",
     "output_type": "stream",
     "text": [
      "50 links is ready  /catalog/rings/R01-35815EM/ ... /catalog/necklace/N4041-SNK01668-001/\n",
      "50 links is ready  /catalog/necklace/N2022-SA2577NSA/ ... /catalog/rings/R755-46031R175/\n",
      "50 links is ready  /catalog/rings/R108-FST-0014/ ... /catalog/crosses/J01-BS-0122-SA/\n",
      "50 links is ready  /catalog/crosses/J01-46524-EM/ ... /catalog/rings/R01-33950-ES/\n",
      "50 links is ready  /catalog/rings/R01-33950-SS/ ... /catalog/earrings/E01-34396-EM/\n",
      "50 links is ready  /catalog/earrings/E01-34091-RO/ ... /catalog/rings/R01-BS-004-EM/\n",
      "50 links is ready  /catalog/earrings/E2024-E072229SA/ ... /catalog/rings/R4150-D-1982501AS/\n",
      "49 links is ready  /catalog/rings/R4150-D-LRP35494E/ ... /catalog/earrings/E77-E58900-SA/\n",
      "50 links is ready  /catalog/earrings/E4150-D-52247E01SA/ ... /catalog/rings/R4150-C-078S-CIN/\n",
      "50 links is ready  /catalog/rings/R4150-C-035S-CIN/ ... /catalog/rings/R01-L-35585-SC/\n",
      "50 links is ready  /catalog/rings/R2017-R313274SAP-R17/ ... /catalog/earrings/E2017-E305596SAP/\n",
      "50 links is ready  /catalog/earrings/E2017-E312816EMR/ ... /catalog/earrings/E01-34486-SA/\n",
      "50 links is ready  /catalog/earrings/E01-34407-SA/ ... /catalog/earrings/E4150-C-ER2317S/\n",
      "50 links is ready  /catalog/rings/R4150-D-SR3504DIGEM0/ ... /catalog/earrings/E755-70656E002-R17/\n",
      "50 links is ready  /catalog/earrings/E755-70648E002-R17/ ... /catalog/brooches/H2018-HR120007ASA/\n",
      "50 links is ready  /catalog/rings/R01-34893-RO/ ... /catalog/rings/R4150-C-46123S/\n",
      "50 links is ready  /catalog/rings/R4150-C-49068S/ ... /catalog/earrings/E4150-C-ERP30309E/\n",
      "50 links is ready  /catalog/rings/R4150-C-1333408S/ ... /catalog/rings/R2022-GEM-READY-07/\n",
      "50 links is ready  /catalog/rings/R2018-RR190001ASA/ ... /catalog/earrings/E2018-ER030046-RU/\n",
      "50 links is ready  /catalog/earrings/E2018-ER030043-SA/ ... /catalog/earrings/E01-34217-SA/\n",
      "50 links is ready  /catalog/bracelets/B157-MOSB009/ ... /catalog/rings/R108-1982639AE-R17/\n",
      "50 links is ready  /catalog/rings/R779-AFI92/ ... /catalog/rings/R4150-D-LRL351697S/\n",
      "50 links is ready  /catalog/rings/R4150-D-LRL351695S/ ... /catalog/rings/R2017-R307801SAP-R17/\n",
      "50 links is ready  /catalog/rings/R2017-R312783SAP/ ... /catalog/rings/R77-R46989-EM-R17/\n",
      "49 links is ready  /catalog/rings/R01-33607-SA/ ... /catalog/rings/R4150-C-LRTA100189S/\n",
      "50 links is ready  /catalog/rings/R4150-C-041S-CIN/ ... /catalog/earrings/E01-34636-SS/\n",
      "50 links is ready  /catalog/pendants/P01-Y-34502-SA/ ... /catalog/earrings/E2017-E312783SAP/\n",
      "50 links is ready  /catalog/earrings/E2017-E304551SAP-R17/ ... /catalog/rings/R4150-C-LR1749E-CIN/\n",
      "50 links is ready  /catalog/rings/R4150-C-LR2326E-CIN/ ... /catalog/rings/R01-35874SA/\n",
      "50 links is ready  /catalog/rings/R01-34601-SS-1/ ... /catalog/earrings/E01-34583-SS-1/\n",
      "50 links is ready  /catalog/earrings/E01-34580-SS/ ... /catalog/rings/R4150-D-1981707ER17/\n",
      "50 links is ready  /catalog/rings/R4150-S-LR00104S/ ... /catalog/rings/R4150-D-LRL167008E/\n",
      "50 links is ready  /catalog/rings/R4150-C-LR792S/ ... /catalog/rings/R01-34402-EM/\n",
      "50 links is ready  /catalog/pendants/P4150-C-3455MIX/ ... /catalog/rings/R01-FIT-25-35803ES/\n",
      "50 links is ready  /catalog/earrings/E01-SS-35675-MIX/ ... /catalog/pendants/P2018-PRU1073ASA-R17/\n",
      "50 links is ready  /catalog/earrings/E77-E45200-SA/ ... /catalog/bracelets/B157-TGB035-A-EM/\n",
      "50 links is ready  /catalog/rings/R4150-D-LRP25663E/ ... /catalog/rings/R4150-D-LRP43546SA/\n",
      "50 links is ready  /catalog/rings/R2018-RRU1080AEM-R17/ ... /catalog/pendants/P01-34031-RU/\n",
      "50 links is ready  /catalog/earrings/E77-E47233-SA/ ... /catalog/earrings/E01-33834-1-SA/\n",
      "50 links is ready  /catalog/rings/R97-CR2979-KB-SA/ ... /catalog/earrings/E01-34402-EM/\n",
      "50 links is ready  /catalog/pendants/P01-W-34500-SA/ ... /catalog/earrings/E888-636-D-SEA01225/\n",
      "50 links is ready  /catalog/rings/R97-MR19026-SA/ ... /catalog/earrings/E01-34153-SA/\n",
      "50 links is ready  /catalog/rings/R01-FIT-30-35791ES/ ... /catalog/earrings/E01-35730-SA/\n",
      "50 links is ready  /catalog/rings/R4211-RG4714WEM1/ ... /catalog/earrings/E01-34499-SA/\n",
      "50 links is ready  /catalog/earrings/E01-W-34431-SA/ ... /catalog/rings/R01-33643-EM/\n",
      "50 links is ready  /catalog/rings/R01-BS-0157-SA/ ... /catalog/rings/R131-R2360-SA/\n",
      "50 links is ready  /catalog/rings/R131-R4192-SA/ ... /catalog/earrings/E4150-D-ERGM11085S/\n",
      "50 links is ready  /catalog/earrings/E4150-D-ERP33105E/ ... /catalog/rings/R4150-D-R4477EM/\n",
      "50 links is ready  /catalog/rings/R4150-D-R46708-SA-R1/ ... /catalog/earrings/E753-EG003259-R17/\n",
      "50 links is ready  /catalog/earrings/E2018-ERU1076ASA-R17/ ... /catalog/rings/R4150-D-1981685ER17/\n",
      "50 links is ready  /catalog/rings/R4150-D-1981697SR17/ ... /catalog/rings/R4150-D-LR3861ER17/\n",
      "50 links is ready  /catalog/rings/R4150-D-52013R02EM/ ... /catalog/rings/R4150-D-46118S/\n",
      "50 links is ready  /catalog/rings/R4150-D-4202E/ ... /catalog/rings/R4150-D-LRP34573E/\n",
      "50 links is ready  /catalog/rings/R4150-D-3453SR17/ ... /catalog/rings/R4150-D-1981751SR17/\n",
      "50 links is ready  /catalog/rings/R4150-D-1982812SAR17/ ... /catalog/rings/R4150-D-47900S/\n",
      "50 links is ready  /catalog/rings/R4150-D-441307SR17/ ... /catalog/rings/R4150-C-LRG09138E/\n",
      "50 links is ready  /catalog/pendants/P4150-C-BPG14994MIX/ ... /catalog/earrings/E2018-EL040008ADI/\n",
      "50 links is ready  /catalog/rings/R4150-C-1332379S/ ... /catalog/earrings/E2017-BODD1269B-R17/\n",
      "50 links is ready  /catalog/rings/R4150-D-LRB0549S/ ... /catalog/rings/R131-R4459-SA/\n",
      "45 links is ready  /catalog/rings/R4150-D-48458EM/ ... /catalog/earrings/E2018-EL040053ADI/\n",
      "50 links is ready  /catalog/rings/R4150-C-1333412R/ ... /catalog/earrings/E4150-C-1332371S/\n",
      "50 links is ready  /catalog/rings/R4150-C-1333412R/ ... /catalog/earrings/E4150-C-1332371S/\n",
      "50 links is ready  /catalog/rings/R4150-C-1333412R/ ... /catalog/earrings/E4150-C-1332371S/\n",
      "50 links is ready  /catalog/rings/R4150-C-1333412R/ ... /catalog/earrings/E4150-C-1332371S/\n",
      "50 links is ready  /catalog/rings/R4150-C-1333412R/ ... /catalog/earrings/E4150-C-1332371S/\n",
      "50 links is ready  /catalog/rings/R4150-C-1333412R/ ... /catalog/earrings/E4150-C-1332371S/\n",
      "50 links is ready  /catalog/rings/R4150-C-1333412R/ ... /catalog/earrings/E4150-C-1332371S/\n",
      "50 links is ready  /catalog/rings/R4150-C-1333412R/ ... /catalog/earrings/E4150-C-1332371S/\n",
      "50 links is ready  /catalog/rings/R4150-C-1333412R/ ... /catalog/earrings/E4150-C-1332371S/\n",
      "50 links is ready  /catalog/rings/R4150-C-1333412R/ ... /catalog/earrings/E4150-C-1332371S/\n",
      "50 links is ready  /catalog/rings/R4150-C-1333412R/ ... /catalog/earrings/E4150-C-1332371S/\n",
      "50 links is ready  /catalog/rings/R4150-C-1333412R/ ... /catalog/earrings/E4150-C-1332371S/\n",
      "50 links is ready  /catalog/rings/R4150-C-1333412R/ ... /catalog/earrings/E4150-C-1332371S/\n",
      "50 links is ready  /catalog/rings/R4150-C-1333412R/ ... /catalog/earrings/E4150-C-1332371S/\n",
      "50 links is ready  /catalog/rings/R4150-C-1333412R/ ... /catalog/earrings/E4150-C-1332371S/\n",
      "50 links is ready  /catalog/rings/R4150-C-1333412R/ ... /catalog/earrings/E4150-C-1332371S/\n",
      "50 links is ready  /catalog/rings/R4150-C-1333412R/ ... /catalog/earrings/E4150-C-1332371S/\n",
      "50 links is ready  /catalog/rings/R4150-C-1333412R/ ... /catalog/earrings/E4150-C-1332371S/\n",
      "50 links is ready  /catalog/rings/R4150-C-1333412R/ ... /catalog/earrings/E4150-C-1332371S/\n",
      "50 links is ready  /catalog/rings/R4150-C-1333412R/ ... /catalog/earrings/E4150-C-1332371S/\n",
      "50 links is ready  /catalog/rings/R4150-C-1333412R/ ... /catalog/earrings/E4150-C-1332371S/\n",
      "50 links is ready  /catalog/rings/R4150-C-1333412R/ ... /catalog/earrings/E4150-C-1332371S/\n"
     ]
    },
    {
     "ename": "KeyboardInterrupt",
     "evalue": "",
     "output_type": "error",
     "traceback": [
      "\u001b[1;31m---------------------------------------------------------------------------\u001b[0m",
      "\u001b[1;31mKeyboardInterrupt\u001b[0m                         Traceback (most recent call last)",
      "\u001b[1;32m<ipython-input-9-8c19dbcb3d78>\u001b[0m in \u001b[0;36m<module>\u001b[1;34m\u001b[0m\n\u001b[0;32m      5\u001b[0m \u001b[1;32mfor\u001b[0m \u001b[0mi\u001b[0m \u001b[1;32min\u001b[0m \u001b[0mrange\u001b[0m\u001b[1;33m(\u001b[0m\u001b[1;36m1\u001b[0m\u001b[1;33m,\u001b[0m\u001b[1;36m85\u001b[0m\u001b[1;33m)\u001b[0m\u001b[1;33m:\u001b[0m\u001b[1;33m\u001b[0m\u001b[1;33m\u001b[0m\u001b[0m\n\u001b[0;32m      6\u001b[0m     \u001b[0mpages\u001b[0m \u001b[1;33m=\u001b[0m \u001b[1;34mf'page={i}/'\u001b[0m\u001b[1;33m\u001b[0m\u001b[1;33m\u001b[0m\u001b[0m\n\u001b[1;32m----> 7\u001b[1;33m     \u001b[0mlinks\u001b[0m \u001b[1;33m+=\u001b[0m \u001b[0mgetlinks\u001b[0m\u001b[1;33m(\u001b[0m\u001b[0murls\u001b[0m\u001b[1;33m+\u001b[0m\u001b[0mpages\u001b[0m\u001b[1;33m)\u001b[0m\u001b[1;33m\u001b[0m\u001b[1;33m\u001b[0m\u001b[0m\n\u001b[0m\u001b[0;32m      8\u001b[0m \u001b[1;33m\u001b[0m\u001b[0m\n",
      "\u001b[1;32m<ipython-input-5-c962f812728c>\u001b[0m in \u001b[0;36mgetlinks\u001b[1;34m(urls)\u001b[0m\n\u001b[0;32m      1\u001b[0m \u001b[1;32mdef\u001b[0m \u001b[0mgetlinks\u001b[0m\u001b[1;33m(\u001b[0m\u001b[0murls\u001b[0m\u001b[1;33m)\u001b[0m\u001b[1;33m:\u001b[0m\u001b[1;33m\u001b[0m\u001b[1;33m\u001b[0m\u001b[0m\n\u001b[1;32m----> 2\u001b[1;33m     \u001b[0mquotes\u001b[0m \u001b[1;33m=\u001b[0m \u001b[0mmysoup\u001b[0m\u001b[1;33m(\u001b[0m\u001b[0murls\u001b[0m\u001b[1;33m)\u001b[0m\u001b[1;33m.\u001b[0m\u001b[0mfind_all\u001b[0m\u001b[1;33m(\u001b[0m\u001b[1;34m'div'\u001b[0m\u001b[1;33m,\u001b[0m \u001b[0mclass_\u001b[0m\u001b[1;33m=\u001b[0m\u001b[1;34m\"product\"\u001b[0m\u001b[1;33m)\u001b[0m\u001b[1;33m\u001b[0m\u001b[1;33m\u001b[0m\u001b[0m\n\u001b[0m\u001b[0;32m      3\u001b[0m     \u001b[0mres\u001b[0m \u001b[1;33m=\u001b[0m \u001b[1;33m[\u001b[0m\u001b[0mq\u001b[0m\u001b[1;33m.\u001b[0m\u001b[0mfind\u001b[0m\u001b[1;33m(\u001b[0m\u001b[1;34m\"a\"\u001b[0m\u001b[1;33m)\u001b[0m\u001b[1;33m.\u001b[0m\u001b[0mget\u001b[0m\u001b[1;33m(\u001b[0m\u001b[1;34m\"href\"\u001b[0m\u001b[1;33m)\u001b[0m \u001b[1;32mfor\u001b[0m \u001b[0mq\u001b[0m \u001b[1;32min\u001b[0m \u001b[0mquotes\u001b[0m\u001b[1;33m]\u001b[0m\u001b[1;33m\u001b[0m\u001b[1;33m\u001b[0m\u001b[0m\n\u001b[0;32m      4\u001b[0m     \u001b[0mprint\u001b[0m\u001b[1;33m(\u001b[0m\u001b[0mlen\u001b[0m\u001b[1;33m(\u001b[0m\u001b[0mres\u001b[0m\u001b[1;33m)\u001b[0m\u001b[1;33m,\u001b[0m \u001b[1;34m'links is ready '\u001b[0m \u001b[1;33m,\u001b[0m \u001b[0mres\u001b[0m\u001b[1;33m[\u001b[0m\u001b[1;36m0\u001b[0m\u001b[1;33m]\u001b[0m\u001b[1;33m,\u001b[0m \u001b[1;34m'...'\u001b[0m\u001b[1;33m,\u001b[0m \u001b[0mres\u001b[0m\u001b[1;33m[\u001b[0m\u001b[1;33m-\u001b[0m\u001b[1;36m1\u001b[0m\u001b[1;33m]\u001b[0m\u001b[1;33m)\u001b[0m\u001b[1;33m\u001b[0m\u001b[1;33m\u001b[0m\u001b[0m\n\u001b[0;32m      5\u001b[0m     \u001b[1;32mreturn\u001b[0m \u001b[0mres\u001b[0m\u001b[1;33m\u001b[0m\u001b[1;33m\u001b[0m\u001b[0m\n",
      "\u001b[1;32m<ipython-input-4-457c2edd76e4>\u001b[0m in \u001b[0;36mmysoup\u001b[1;34m(urls)\u001b[0m\n\u001b[0;32m      1\u001b[0m \u001b[1;32mdef\u001b[0m \u001b[0mmysoup\u001b[0m\u001b[1;33m(\u001b[0m\u001b[0murls\u001b[0m\u001b[1;33m)\u001b[0m\u001b[1;33m:\u001b[0m\u001b[1;33m\u001b[0m\u001b[1;33m\u001b[0m\u001b[0m\n\u001b[1;32m----> 2\u001b[1;33m     \u001b[0mresponse\u001b[0m \u001b[1;33m=\u001b[0m \u001b[0mrequests\u001b[0m\u001b[1;33m.\u001b[0m\u001b[0mget\u001b[0m\u001b[1;33m(\u001b[0m\u001b[0murls\u001b[0m\u001b[1;33m)\u001b[0m\u001b[1;33m\u001b[0m\u001b[1;33m\u001b[0m\u001b[0m\n\u001b[0m\u001b[0;32m      3\u001b[0m     \u001b[1;32mreturn\u001b[0m \u001b[0mBeautifulSoup\u001b[0m\u001b[1;33m(\u001b[0m\u001b[0mresponse\u001b[0m\u001b[1;33m.\u001b[0m\u001b[0mtext\u001b[0m\u001b[1;33m,\u001b[0m \u001b[1;34m'lxml'\u001b[0m\u001b[1;33m)\u001b[0m\u001b[1;33m\u001b[0m\u001b[1;33m\u001b[0m\u001b[0m\n\u001b[0;32m      4\u001b[0m \u001b[1;33m\u001b[0m\u001b[0m\n",
      "\u001b[1;32mC:\\anaconda3\\lib\\site-packages\\requests\\api.py\u001b[0m in \u001b[0;36mget\u001b[1;34m(url, params, **kwargs)\u001b[0m\n\u001b[0;32m     74\u001b[0m \u001b[1;33m\u001b[0m\u001b[0m\n\u001b[0;32m     75\u001b[0m     \u001b[0mkwargs\u001b[0m\u001b[1;33m.\u001b[0m\u001b[0msetdefault\u001b[0m\u001b[1;33m(\u001b[0m\u001b[1;34m'allow_redirects'\u001b[0m\u001b[1;33m,\u001b[0m \u001b[1;32mTrue\u001b[0m\u001b[1;33m)\u001b[0m\u001b[1;33m\u001b[0m\u001b[1;33m\u001b[0m\u001b[0m\n\u001b[1;32m---> 76\u001b[1;33m     \u001b[1;32mreturn\u001b[0m \u001b[0mrequest\u001b[0m\u001b[1;33m(\u001b[0m\u001b[1;34m'get'\u001b[0m\u001b[1;33m,\u001b[0m \u001b[0murl\u001b[0m\u001b[1;33m,\u001b[0m \u001b[0mparams\u001b[0m\u001b[1;33m=\u001b[0m\u001b[0mparams\u001b[0m\u001b[1;33m,\u001b[0m \u001b[1;33m**\u001b[0m\u001b[0mkwargs\u001b[0m\u001b[1;33m)\u001b[0m\u001b[1;33m\u001b[0m\u001b[1;33m\u001b[0m\u001b[0m\n\u001b[0m\u001b[0;32m     77\u001b[0m \u001b[1;33m\u001b[0m\u001b[0m\n\u001b[0;32m     78\u001b[0m \u001b[1;33m\u001b[0m\u001b[0m\n",
      "\u001b[1;32mC:\\anaconda3\\lib\\site-packages\\requests\\api.py\u001b[0m in \u001b[0;36mrequest\u001b[1;34m(method, url, **kwargs)\u001b[0m\n\u001b[0;32m     59\u001b[0m     \u001b[1;31m# cases, and look like a memory leak in others.\u001b[0m\u001b[1;33m\u001b[0m\u001b[1;33m\u001b[0m\u001b[1;33m\u001b[0m\u001b[0m\n\u001b[0;32m     60\u001b[0m     \u001b[1;32mwith\u001b[0m \u001b[0msessions\u001b[0m\u001b[1;33m.\u001b[0m\u001b[0mSession\u001b[0m\u001b[1;33m(\u001b[0m\u001b[1;33m)\u001b[0m \u001b[1;32mas\u001b[0m \u001b[0msession\u001b[0m\u001b[1;33m:\u001b[0m\u001b[1;33m\u001b[0m\u001b[1;33m\u001b[0m\u001b[0m\n\u001b[1;32m---> 61\u001b[1;33m         \u001b[1;32mreturn\u001b[0m \u001b[0msession\u001b[0m\u001b[1;33m.\u001b[0m\u001b[0mrequest\u001b[0m\u001b[1;33m(\u001b[0m\u001b[0mmethod\u001b[0m\u001b[1;33m=\u001b[0m\u001b[0mmethod\u001b[0m\u001b[1;33m,\u001b[0m \u001b[0murl\u001b[0m\u001b[1;33m=\u001b[0m\u001b[0murl\u001b[0m\u001b[1;33m,\u001b[0m \u001b[1;33m**\u001b[0m\u001b[0mkwargs\u001b[0m\u001b[1;33m)\u001b[0m\u001b[1;33m\u001b[0m\u001b[1;33m\u001b[0m\u001b[0m\n\u001b[0m\u001b[0;32m     62\u001b[0m \u001b[1;33m\u001b[0m\u001b[0m\n\u001b[0;32m     63\u001b[0m \u001b[1;33m\u001b[0m\u001b[0m\n",
      "\u001b[1;32mC:\\anaconda3\\lib\\site-packages\\requests\\sessions.py\u001b[0m in \u001b[0;36mrequest\u001b[1;34m(self, method, url, params, data, headers, cookies, files, auth, timeout, allow_redirects, proxies, hooks, stream, verify, cert, json)\u001b[0m\n\u001b[0;32m    540\u001b[0m         }\n\u001b[0;32m    541\u001b[0m         \u001b[0msend_kwargs\u001b[0m\u001b[1;33m.\u001b[0m\u001b[0mupdate\u001b[0m\u001b[1;33m(\u001b[0m\u001b[0msettings\u001b[0m\u001b[1;33m)\u001b[0m\u001b[1;33m\u001b[0m\u001b[1;33m\u001b[0m\u001b[0m\n\u001b[1;32m--> 542\u001b[1;33m         \u001b[0mresp\u001b[0m \u001b[1;33m=\u001b[0m \u001b[0mself\u001b[0m\u001b[1;33m.\u001b[0m\u001b[0msend\u001b[0m\u001b[1;33m(\u001b[0m\u001b[0mprep\u001b[0m\u001b[1;33m,\u001b[0m \u001b[1;33m**\u001b[0m\u001b[0msend_kwargs\u001b[0m\u001b[1;33m)\u001b[0m\u001b[1;33m\u001b[0m\u001b[1;33m\u001b[0m\u001b[0m\n\u001b[0m\u001b[0;32m    543\u001b[0m \u001b[1;33m\u001b[0m\u001b[0m\n\u001b[0;32m    544\u001b[0m         \u001b[1;32mreturn\u001b[0m \u001b[0mresp\u001b[0m\u001b[1;33m\u001b[0m\u001b[1;33m\u001b[0m\u001b[0m\n",
      "\u001b[1;32mC:\\anaconda3\\lib\\site-packages\\requests\\sessions.py\u001b[0m in \u001b[0;36msend\u001b[1;34m(self, request, **kwargs)\u001b[0m\n\u001b[0;32m    675\u001b[0m             \u001b[1;31m# Redirect resolving generator.\u001b[0m\u001b[1;33m\u001b[0m\u001b[1;33m\u001b[0m\u001b[1;33m\u001b[0m\u001b[0m\n\u001b[0;32m    676\u001b[0m             \u001b[0mgen\u001b[0m \u001b[1;33m=\u001b[0m \u001b[0mself\u001b[0m\u001b[1;33m.\u001b[0m\u001b[0mresolve_redirects\u001b[0m\u001b[1;33m(\u001b[0m\u001b[0mr\u001b[0m\u001b[1;33m,\u001b[0m \u001b[0mrequest\u001b[0m\u001b[1;33m,\u001b[0m \u001b[1;33m**\u001b[0m\u001b[0mkwargs\u001b[0m\u001b[1;33m)\u001b[0m\u001b[1;33m\u001b[0m\u001b[1;33m\u001b[0m\u001b[0m\n\u001b[1;32m--> 677\u001b[1;33m             \u001b[0mhistory\u001b[0m \u001b[1;33m=\u001b[0m \u001b[1;33m[\u001b[0m\u001b[0mresp\u001b[0m \u001b[1;32mfor\u001b[0m \u001b[0mresp\u001b[0m \u001b[1;32min\u001b[0m \u001b[0mgen\u001b[0m\u001b[1;33m]\u001b[0m\u001b[1;33m\u001b[0m\u001b[1;33m\u001b[0m\u001b[0m\n\u001b[0m\u001b[0;32m    678\u001b[0m         \u001b[1;32melse\u001b[0m\u001b[1;33m:\u001b[0m\u001b[1;33m\u001b[0m\u001b[1;33m\u001b[0m\u001b[0m\n\u001b[0;32m    679\u001b[0m             \u001b[0mhistory\u001b[0m \u001b[1;33m=\u001b[0m \u001b[1;33m[\u001b[0m\u001b[1;33m]\u001b[0m\u001b[1;33m\u001b[0m\u001b[1;33m\u001b[0m\u001b[0m\n",
      "\u001b[1;32mC:\\anaconda3\\lib\\site-packages\\requests\\sessions.py\u001b[0m in \u001b[0;36m<listcomp>\u001b[1;34m(.0)\u001b[0m\n\u001b[0;32m    675\u001b[0m             \u001b[1;31m# Redirect resolving generator.\u001b[0m\u001b[1;33m\u001b[0m\u001b[1;33m\u001b[0m\u001b[1;33m\u001b[0m\u001b[0m\n\u001b[0;32m    676\u001b[0m             \u001b[0mgen\u001b[0m \u001b[1;33m=\u001b[0m \u001b[0mself\u001b[0m\u001b[1;33m.\u001b[0m\u001b[0mresolve_redirects\u001b[0m\u001b[1;33m(\u001b[0m\u001b[0mr\u001b[0m\u001b[1;33m,\u001b[0m \u001b[0mrequest\u001b[0m\u001b[1;33m,\u001b[0m \u001b[1;33m**\u001b[0m\u001b[0mkwargs\u001b[0m\u001b[1;33m)\u001b[0m\u001b[1;33m\u001b[0m\u001b[1;33m\u001b[0m\u001b[0m\n\u001b[1;32m--> 677\u001b[1;33m             \u001b[0mhistory\u001b[0m \u001b[1;33m=\u001b[0m \u001b[1;33m[\u001b[0m\u001b[0mresp\u001b[0m \u001b[1;32mfor\u001b[0m \u001b[0mresp\u001b[0m \u001b[1;32min\u001b[0m \u001b[0mgen\u001b[0m\u001b[1;33m]\u001b[0m\u001b[1;33m\u001b[0m\u001b[1;33m\u001b[0m\u001b[0m\n\u001b[0m\u001b[0;32m    678\u001b[0m         \u001b[1;32melse\u001b[0m\u001b[1;33m:\u001b[0m\u001b[1;33m\u001b[0m\u001b[1;33m\u001b[0m\u001b[0m\n\u001b[0;32m    679\u001b[0m             \u001b[0mhistory\u001b[0m \u001b[1;33m=\u001b[0m \u001b[1;33m[\u001b[0m\u001b[1;33m]\u001b[0m\u001b[1;33m\u001b[0m\u001b[1;33m\u001b[0m\u001b[0m\n",
      "\u001b[1;32mC:\\anaconda3\\lib\\site-packages\\requests\\sessions.py\u001b[0m in \u001b[0;36mresolve_redirects\u001b[1;34m(self, resp, req, stream, timeout, verify, cert, proxies, yield_requests, **adapter_kwargs)\u001b[0m\n\u001b[0;32m    235\u001b[0m             \u001b[1;32melse\u001b[0m\u001b[1;33m:\u001b[0m\u001b[1;33m\u001b[0m\u001b[1;33m\u001b[0m\u001b[0m\n\u001b[0;32m    236\u001b[0m \u001b[1;33m\u001b[0m\u001b[0m\n\u001b[1;32m--> 237\u001b[1;33m                 resp = self.send(\n\u001b[0m\u001b[0;32m    238\u001b[0m                     \u001b[0mreq\u001b[0m\u001b[1;33m,\u001b[0m\u001b[1;33m\u001b[0m\u001b[1;33m\u001b[0m\u001b[0m\n\u001b[0;32m    239\u001b[0m                     \u001b[0mstream\u001b[0m\u001b[1;33m=\u001b[0m\u001b[0mstream\u001b[0m\u001b[1;33m,\u001b[0m\u001b[1;33m\u001b[0m\u001b[1;33m\u001b[0m\u001b[0m\n",
      "\u001b[1;32mC:\\anaconda3\\lib\\site-packages\\requests\\sessions.py\u001b[0m in \u001b[0;36msend\u001b[1;34m(self, request, **kwargs)\u001b[0m\n\u001b[0;32m    653\u001b[0m \u001b[1;33m\u001b[0m\u001b[0m\n\u001b[0;32m    654\u001b[0m         \u001b[1;31m# Send the request\u001b[0m\u001b[1;33m\u001b[0m\u001b[1;33m\u001b[0m\u001b[1;33m\u001b[0m\u001b[0m\n\u001b[1;32m--> 655\u001b[1;33m         \u001b[0mr\u001b[0m \u001b[1;33m=\u001b[0m \u001b[0madapter\u001b[0m\u001b[1;33m.\u001b[0m\u001b[0msend\u001b[0m\u001b[1;33m(\u001b[0m\u001b[0mrequest\u001b[0m\u001b[1;33m,\u001b[0m \u001b[1;33m**\u001b[0m\u001b[0mkwargs\u001b[0m\u001b[1;33m)\u001b[0m\u001b[1;33m\u001b[0m\u001b[1;33m\u001b[0m\u001b[0m\n\u001b[0m\u001b[0;32m    656\u001b[0m \u001b[1;33m\u001b[0m\u001b[0m\n\u001b[0;32m    657\u001b[0m         \u001b[1;31m# Total elapsed time of the request (approximately)\u001b[0m\u001b[1;33m\u001b[0m\u001b[1;33m\u001b[0m\u001b[1;33m\u001b[0m\u001b[0m\n",
      "\u001b[1;32mC:\\anaconda3\\lib\\site-packages\\requests\\adapters.py\u001b[0m in \u001b[0;36msend\u001b[1;34m(self, request, stream, timeout, verify, cert, proxies)\u001b[0m\n\u001b[0;32m    437\u001b[0m         \u001b[1;32mtry\u001b[0m\u001b[1;33m:\u001b[0m\u001b[1;33m\u001b[0m\u001b[1;33m\u001b[0m\u001b[0m\n\u001b[0;32m    438\u001b[0m             \u001b[1;32mif\u001b[0m \u001b[1;32mnot\u001b[0m \u001b[0mchunked\u001b[0m\u001b[1;33m:\u001b[0m\u001b[1;33m\u001b[0m\u001b[1;33m\u001b[0m\u001b[0m\n\u001b[1;32m--> 439\u001b[1;33m                 resp = conn.urlopen(\n\u001b[0m\u001b[0;32m    440\u001b[0m                     \u001b[0mmethod\u001b[0m\u001b[1;33m=\u001b[0m\u001b[0mrequest\u001b[0m\u001b[1;33m.\u001b[0m\u001b[0mmethod\u001b[0m\u001b[1;33m,\u001b[0m\u001b[1;33m\u001b[0m\u001b[1;33m\u001b[0m\u001b[0m\n\u001b[0;32m    441\u001b[0m                     \u001b[0murl\u001b[0m\u001b[1;33m=\u001b[0m\u001b[0murl\u001b[0m\u001b[1;33m,\u001b[0m\u001b[1;33m\u001b[0m\u001b[1;33m\u001b[0m\u001b[0m\n",
      "\u001b[1;32mC:\\anaconda3\\lib\\site-packages\\urllib3\\connectionpool.py\u001b[0m in \u001b[0;36murlopen\u001b[1;34m(self, method, url, body, headers, retries, redirect, assert_same_host, timeout, pool_timeout, release_conn, chunked, body_pos, **response_kw)\u001b[0m\n\u001b[0;32m    697\u001b[0m \u001b[1;33m\u001b[0m\u001b[0m\n\u001b[0;32m    698\u001b[0m             \u001b[1;31m# Make the request on the httplib connection object.\u001b[0m\u001b[1;33m\u001b[0m\u001b[1;33m\u001b[0m\u001b[1;33m\u001b[0m\u001b[0m\n\u001b[1;32m--> 699\u001b[1;33m             httplib_response = self._make_request(\n\u001b[0m\u001b[0;32m    700\u001b[0m                 \u001b[0mconn\u001b[0m\u001b[1;33m,\u001b[0m\u001b[1;33m\u001b[0m\u001b[1;33m\u001b[0m\u001b[0m\n\u001b[0;32m    701\u001b[0m                 \u001b[0mmethod\u001b[0m\u001b[1;33m,\u001b[0m\u001b[1;33m\u001b[0m\u001b[1;33m\u001b[0m\u001b[0m\n",
      "\u001b[1;32mC:\\anaconda3\\lib\\site-packages\\urllib3\\connectionpool.py\u001b[0m in \u001b[0;36m_make_request\u001b[1;34m(self, conn, method, url, timeout, chunked, **httplib_request_kw)\u001b[0m\n\u001b[0;32m    443\u001b[0m                     \u001b[1;31m# Python 3 (including for exceptions like SystemExit).\u001b[0m\u001b[1;33m\u001b[0m\u001b[1;33m\u001b[0m\u001b[1;33m\u001b[0m\u001b[0m\n\u001b[0;32m    444\u001b[0m                     \u001b[1;31m# Otherwise it looks like a bug in the code.\u001b[0m\u001b[1;33m\u001b[0m\u001b[1;33m\u001b[0m\u001b[1;33m\u001b[0m\u001b[0m\n\u001b[1;32m--> 445\u001b[1;33m                     \u001b[0msix\u001b[0m\u001b[1;33m.\u001b[0m\u001b[0mraise_from\u001b[0m\u001b[1;33m(\u001b[0m\u001b[0me\u001b[0m\u001b[1;33m,\u001b[0m \u001b[1;32mNone\u001b[0m\u001b[1;33m)\u001b[0m\u001b[1;33m\u001b[0m\u001b[1;33m\u001b[0m\u001b[0m\n\u001b[0m\u001b[0;32m    446\u001b[0m         \u001b[1;32mexcept\u001b[0m \u001b[1;33m(\u001b[0m\u001b[0mSocketTimeout\u001b[0m\u001b[1;33m,\u001b[0m \u001b[0mBaseSSLError\u001b[0m\u001b[1;33m,\u001b[0m \u001b[0mSocketError\u001b[0m\u001b[1;33m)\u001b[0m \u001b[1;32mas\u001b[0m \u001b[0me\u001b[0m\u001b[1;33m:\u001b[0m\u001b[1;33m\u001b[0m\u001b[1;33m\u001b[0m\u001b[0m\n\u001b[0;32m    447\u001b[0m             \u001b[0mself\u001b[0m\u001b[1;33m.\u001b[0m\u001b[0m_raise_timeout\u001b[0m\u001b[1;33m(\u001b[0m\u001b[0merr\u001b[0m\u001b[1;33m=\u001b[0m\u001b[0me\u001b[0m\u001b[1;33m,\u001b[0m \u001b[0murl\u001b[0m\u001b[1;33m=\u001b[0m\u001b[0murl\u001b[0m\u001b[1;33m,\u001b[0m \u001b[0mtimeout_value\u001b[0m\u001b[1;33m=\u001b[0m\u001b[0mread_timeout\u001b[0m\u001b[1;33m)\u001b[0m\u001b[1;33m\u001b[0m\u001b[1;33m\u001b[0m\u001b[0m\n",
      "\u001b[1;32mC:\\anaconda3\\lib\\site-packages\\urllib3\\packages\\six.py\u001b[0m in \u001b[0;36mraise_from\u001b[1;34m(value, from_value)\u001b[0m\n",
      "\u001b[1;32mC:\\anaconda3\\lib\\site-packages\\urllib3\\connectionpool.py\u001b[0m in \u001b[0;36m_make_request\u001b[1;34m(self, conn, method, url, timeout, chunked, **httplib_request_kw)\u001b[0m\n\u001b[0;32m    438\u001b[0m                 \u001b[1;31m# Python 3\u001b[0m\u001b[1;33m\u001b[0m\u001b[1;33m\u001b[0m\u001b[1;33m\u001b[0m\u001b[0m\n\u001b[0;32m    439\u001b[0m                 \u001b[1;32mtry\u001b[0m\u001b[1;33m:\u001b[0m\u001b[1;33m\u001b[0m\u001b[1;33m\u001b[0m\u001b[0m\n\u001b[1;32m--> 440\u001b[1;33m                     \u001b[0mhttplib_response\u001b[0m \u001b[1;33m=\u001b[0m \u001b[0mconn\u001b[0m\u001b[1;33m.\u001b[0m\u001b[0mgetresponse\u001b[0m\u001b[1;33m(\u001b[0m\u001b[1;33m)\u001b[0m\u001b[1;33m\u001b[0m\u001b[1;33m\u001b[0m\u001b[0m\n\u001b[0m\u001b[0;32m    441\u001b[0m                 \u001b[1;32mexcept\u001b[0m \u001b[0mBaseException\u001b[0m \u001b[1;32mas\u001b[0m \u001b[0me\u001b[0m\u001b[1;33m:\u001b[0m\u001b[1;33m\u001b[0m\u001b[1;33m\u001b[0m\u001b[0m\n\u001b[0;32m    442\u001b[0m                     \u001b[1;31m# Remove the TypeError from the exception chain in\u001b[0m\u001b[1;33m\u001b[0m\u001b[1;33m\u001b[0m\u001b[1;33m\u001b[0m\u001b[0m\n",
      "\u001b[1;32mC:\\anaconda3\\lib\\http\\client.py\u001b[0m in \u001b[0;36mgetresponse\u001b[1;34m(self)\u001b[0m\n\u001b[0;32m   1345\u001b[0m         \u001b[1;32mtry\u001b[0m\u001b[1;33m:\u001b[0m\u001b[1;33m\u001b[0m\u001b[1;33m\u001b[0m\u001b[0m\n\u001b[0;32m   1346\u001b[0m             \u001b[1;32mtry\u001b[0m\u001b[1;33m:\u001b[0m\u001b[1;33m\u001b[0m\u001b[1;33m\u001b[0m\u001b[0m\n\u001b[1;32m-> 1347\u001b[1;33m                 \u001b[0mresponse\u001b[0m\u001b[1;33m.\u001b[0m\u001b[0mbegin\u001b[0m\u001b[1;33m(\u001b[0m\u001b[1;33m)\u001b[0m\u001b[1;33m\u001b[0m\u001b[1;33m\u001b[0m\u001b[0m\n\u001b[0m\u001b[0;32m   1348\u001b[0m             \u001b[1;32mexcept\u001b[0m \u001b[0mConnectionError\u001b[0m\u001b[1;33m:\u001b[0m\u001b[1;33m\u001b[0m\u001b[1;33m\u001b[0m\u001b[0m\n\u001b[0;32m   1349\u001b[0m                 \u001b[0mself\u001b[0m\u001b[1;33m.\u001b[0m\u001b[0mclose\u001b[0m\u001b[1;33m(\u001b[0m\u001b[1;33m)\u001b[0m\u001b[1;33m\u001b[0m\u001b[1;33m\u001b[0m\u001b[0m\n",
      "\u001b[1;32mC:\\anaconda3\\lib\\http\\client.py\u001b[0m in \u001b[0;36mbegin\u001b[1;34m(self)\u001b[0m\n\u001b[0;32m    305\u001b[0m         \u001b[1;31m# read until we get a non-100 response\u001b[0m\u001b[1;33m\u001b[0m\u001b[1;33m\u001b[0m\u001b[1;33m\u001b[0m\u001b[0m\n\u001b[0;32m    306\u001b[0m         \u001b[1;32mwhile\u001b[0m \u001b[1;32mTrue\u001b[0m\u001b[1;33m:\u001b[0m\u001b[1;33m\u001b[0m\u001b[1;33m\u001b[0m\u001b[0m\n\u001b[1;32m--> 307\u001b[1;33m             \u001b[0mversion\u001b[0m\u001b[1;33m,\u001b[0m \u001b[0mstatus\u001b[0m\u001b[1;33m,\u001b[0m \u001b[0mreason\u001b[0m \u001b[1;33m=\u001b[0m \u001b[0mself\u001b[0m\u001b[1;33m.\u001b[0m\u001b[0m_read_status\u001b[0m\u001b[1;33m(\u001b[0m\u001b[1;33m)\u001b[0m\u001b[1;33m\u001b[0m\u001b[1;33m\u001b[0m\u001b[0m\n\u001b[0m\u001b[0;32m    308\u001b[0m             \u001b[1;32mif\u001b[0m \u001b[0mstatus\u001b[0m \u001b[1;33m!=\u001b[0m \u001b[0mCONTINUE\u001b[0m\u001b[1;33m:\u001b[0m\u001b[1;33m\u001b[0m\u001b[1;33m\u001b[0m\u001b[0m\n\u001b[0;32m    309\u001b[0m                 \u001b[1;32mbreak\u001b[0m\u001b[1;33m\u001b[0m\u001b[1;33m\u001b[0m\u001b[0m\n",
      "\u001b[1;32mC:\\anaconda3\\lib\\http\\client.py\u001b[0m in \u001b[0;36m_read_status\u001b[1;34m(self)\u001b[0m\n\u001b[0;32m    266\u001b[0m \u001b[1;33m\u001b[0m\u001b[0m\n\u001b[0;32m    267\u001b[0m     \u001b[1;32mdef\u001b[0m \u001b[0m_read_status\u001b[0m\u001b[1;33m(\u001b[0m\u001b[0mself\u001b[0m\u001b[1;33m)\u001b[0m\u001b[1;33m:\u001b[0m\u001b[1;33m\u001b[0m\u001b[1;33m\u001b[0m\u001b[0m\n\u001b[1;32m--> 268\u001b[1;33m         \u001b[0mline\u001b[0m \u001b[1;33m=\u001b[0m \u001b[0mstr\u001b[0m\u001b[1;33m(\u001b[0m\u001b[0mself\u001b[0m\u001b[1;33m.\u001b[0m\u001b[0mfp\u001b[0m\u001b[1;33m.\u001b[0m\u001b[0mreadline\u001b[0m\u001b[1;33m(\u001b[0m\u001b[0m_MAXLINE\u001b[0m \u001b[1;33m+\u001b[0m \u001b[1;36m1\u001b[0m\u001b[1;33m)\u001b[0m\u001b[1;33m,\u001b[0m \u001b[1;34m\"iso-8859-1\"\u001b[0m\u001b[1;33m)\u001b[0m\u001b[1;33m\u001b[0m\u001b[1;33m\u001b[0m\u001b[0m\n\u001b[0m\u001b[0;32m    269\u001b[0m         \u001b[1;32mif\u001b[0m \u001b[0mlen\u001b[0m\u001b[1;33m(\u001b[0m\u001b[0mline\u001b[0m\u001b[1;33m)\u001b[0m \u001b[1;33m>\u001b[0m \u001b[0m_MAXLINE\u001b[0m\u001b[1;33m:\u001b[0m\u001b[1;33m\u001b[0m\u001b[1;33m\u001b[0m\u001b[0m\n\u001b[0;32m    270\u001b[0m             \u001b[1;32mraise\u001b[0m \u001b[0mLineTooLong\u001b[0m\u001b[1;33m(\u001b[0m\u001b[1;34m\"status line\"\u001b[0m\u001b[1;33m)\u001b[0m\u001b[1;33m\u001b[0m\u001b[1;33m\u001b[0m\u001b[0m\n",
      "\u001b[1;32mC:\\anaconda3\\lib\\socket.py\u001b[0m in \u001b[0;36mreadinto\u001b[1;34m(self, b)\u001b[0m\n\u001b[0;32m    667\u001b[0m         \u001b[1;32mwhile\u001b[0m \u001b[1;32mTrue\u001b[0m\u001b[1;33m:\u001b[0m\u001b[1;33m\u001b[0m\u001b[1;33m\u001b[0m\u001b[0m\n\u001b[0;32m    668\u001b[0m             \u001b[1;32mtry\u001b[0m\u001b[1;33m:\u001b[0m\u001b[1;33m\u001b[0m\u001b[1;33m\u001b[0m\u001b[0m\n\u001b[1;32m--> 669\u001b[1;33m                 \u001b[1;32mreturn\u001b[0m \u001b[0mself\u001b[0m\u001b[1;33m.\u001b[0m\u001b[0m_sock\u001b[0m\u001b[1;33m.\u001b[0m\u001b[0mrecv_into\u001b[0m\u001b[1;33m(\u001b[0m\u001b[0mb\u001b[0m\u001b[1;33m)\u001b[0m\u001b[1;33m\u001b[0m\u001b[1;33m\u001b[0m\u001b[0m\n\u001b[0m\u001b[0;32m    670\u001b[0m             \u001b[1;32mexcept\u001b[0m \u001b[0mtimeout\u001b[0m\u001b[1;33m:\u001b[0m\u001b[1;33m\u001b[0m\u001b[1;33m\u001b[0m\u001b[0m\n\u001b[0;32m    671\u001b[0m                 \u001b[0mself\u001b[0m\u001b[1;33m.\u001b[0m\u001b[0m_timeout_occurred\u001b[0m \u001b[1;33m=\u001b[0m \u001b[1;32mTrue\u001b[0m\u001b[1;33m\u001b[0m\u001b[1;33m\u001b[0m\u001b[0m\n",
      "\u001b[1;32mC:\\anaconda3\\lib\\ssl.py\u001b[0m in \u001b[0;36mrecv_into\u001b[1;34m(self, buffer, nbytes, flags)\u001b[0m\n\u001b[0;32m   1239\u001b[0m                   \u001b[1;34m\"non-zero flags not allowed in calls to recv_into() on %s\"\u001b[0m \u001b[1;33m%\u001b[0m\u001b[1;33m\u001b[0m\u001b[1;33m\u001b[0m\u001b[0m\n\u001b[0;32m   1240\u001b[0m                   self.__class__)\n\u001b[1;32m-> 1241\u001b[1;33m             \u001b[1;32mreturn\u001b[0m \u001b[0mself\u001b[0m\u001b[1;33m.\u001b[0m\u001b[0mread\u001b[0m\u001b[1;33m(\u001b[0m\u001b[0mnbytes\u001b[0m\u001b[1;33m,\u001b[0m \u001b[0mbuffer\u001b[0m\u001b[1;33m)\u001b[0m\u001b[1;33m\u001b[0m\u001b[1;33m\u001b[0m\u001b[0m\n\u001b[0m\u001b[0;32m   1242\u001b[0m         \u001b[1;32melse\u001b[0m\u001b[1;33m:\u001b[0m\u001b[1;33m\u001b[0m\u001b[1;33m\u001b[0m\u001b[0m\n\u001b[0;32m   1243\u001b[0m             \u001b[1;32mreturn\u001b[0m \u001b[0msuper\u001b[0m\u001b[1;33m(\u001b[0m\u001b[1;33m)\u001b[0m\u001b[1;33m.\u001b[0m\u001b[0mrecv_into\u001b[0m\u001b[1;33m(\u001b[0m\u001b[0mbuffer\u001b[0m\u001b[1;33m,\u001b[0m \u001b[0mnbytes\u001b[0m\u001b[1;33m,\u001b[0m \u001b[0mflags\u001b[0m\u001b[1;33m)\u001b[0m\u001b[1;33m\u001b[0m\u001b[1;33m\u001b[0m\u001b[0m\n",
      "\u001b[1;32mC:\\anaconda3\\lib\\ssl.py\u001b[0m in \u001b[0;36mread\u001b[1;34m(self, len, buffer)\u001b[0m\n\u001b[0;32m   1097\u001b[0m         \u001b[1;32mtry\u001b[0m\u001b[1;33m:\u001b[0m\u001b[1;33m\u001b[0m\u001b[1;33m\u001b[0m\u001b[0m\n\u001b[0;32m   1098\u001b[0m             \u001b[1;32mif\u001b[0m \u001b[0mbuffer\u001b[0m \u001b[1;32mis\u001b[0m \u001b[1;32mnot\u001b[0m \u001b[1;32mNone\u001b[0m\u001b[1;33m:\u001b[0m\u001b[1;33m\u001b[0m\u001b[1;33m\u001b[0m\u001b[0m\n\u001b[1;32m-> 1099\u001b[1;33m                 \u001b[1;32mreturn\u001b[0m \u001b[0mself\u001b[0m\u001b[1;33m.\u001b[0m\u001b[0m_sslobj\u001b[0m\u001b[1;33m.\u001b[0m\u001b[0mread\u001b[0m\u001b[1;33m(\u001b[0m\u001b[0mlen\u001b[0m\u001b[1;33m,\u001b[0m \u001b[0mbuffer\u001b[0m\u001b[1;33m)\u001b[0m\u001b[1;33m\u001b[0m\u001b[1;33m\u001b[0m\u001b[0m\n\u001b[0m\u001b[0;32m   1100\u001b[0m             \u001b[1;32melse\u001b[0m\u001b[1;33m:\u001b[0m\u001b[1;33m\u001b[0m\u001b[1;33m\u001b[0m\u001b[0m\n\u001b[0;32m   1101\u001b[0m                 \u001b[1;32mreturn\u001b[0m \u001b[0mself\u001b[0m\u001b[1;33m.\u001b[0m\u001b[0m_sslobj\u001b[0m\u001b[1;33m.\u001b[0m\u001b[0mread\u001b[0m\u001b[1;33m(\u001b[0m\u001b[0mlen\u001b[0m\u001b[1;33m)\u001b[0m\u001b[1;33m\u001b[0m\u001b[1;33m\u001b[0m\u001b[0m\n",
      "\u001b[1;31mKeyboardInterrupt\u001b[0m: "
     ]
    }
   ],
   "source": [
    "#def main():\n",
    "\n",
    "urls = f'https://miuz.ru/catalog/filter/stones_main-is-izumrud-or-rubin-or-sapfir/'\n",
    "domain = f'https://miuz.ru'\n",
    "for i in range(1,85):\n",
    "    pages = f'page={i}/'\n",
    "    links += getlinks(urls+pages)\n",
    "    "
   ]
  },
  {
   "cell_type": "code",
   "execution_count": 1,
   "metadata": {},
   "outputs": [],
   "source": []
  },
  {
   "cell_type": "code",
   "execution_count": 10,
   "metadata": {},
   "outputs": [
    {
     "data": {
      "text/plain": [
       "4093"
      ]
     },
     "execution_count": 10,
     "metadata": {},
     "output_type": "execute_result"
    }
   ],
   "source": [
    "len(links)"
   ]
  },
  {
   "cell_type": "code",
   "execution_count": 10,
   "metadata": {},
   "outputs": [],
   "source": [
    "#drop duplicates subset keep\n",
    "links = list(set(links))"
   ]
  },
  {
   "cell_type": "code",
   "execution_count": 11,
   "metadata": {},
   "outputs": [
    {
     "data": {
      "text/plain": [
       "['/catalog/rings/R01-35815EM/',\n",
       " '/catalog/rings/R01-EX-52694-EM/',\n",
       " '/catalog/pendants/P01-33599-SA/',\n",
       " '/catalog/earrings/E01-SS-35483-EM/',\n",
       " '/catalog/rings/R01-34095-SA/',\n",
       " '/catalog/rings/R01-L-35098-RO/',\n",
       " '/catalog/pendants/P01-L-35041-RO/',\n",
       " '/catalog/rings/R108-135248AQQ65SR/',\n",
       " '/catalog/earrings/E01-34419-SA/',\n",
       " '/catalog/earrings/E01-34511-SA/',\n",
       " '/catalog/earrings/E2017-E312786SAP/',\n",
       " '/catalog/earrings/E01-34579-EM/',\n",
       " '/catalog/necklace/N108-FST-0012/',\n",
       " '/catalog/rings/R108-FST-0023/',\n",
       " '/catalog/earrings/E755-69005E002-R17/',\n",
       " '/catalog/rings/R108-FST-0010/',\n",
       " '/catalog/earrings/E01-34449-EM/',\n",
       " '/catalog/rings/R01-34447-SA/',\n",
       " '/catalog/rings/R01-34384-EM/',\n",
       " '/catalog/rings/R01-33860-EM/',\n",
       " '/catalog/rings/R01-34968-EM/',\n",
       " '/catalog/bracelets/B01-59002-Z/',\n",
       " '/catalog/brooches/H2018-HRU1048ALS-R17/',\n",
       " '/catalog/brooches/H01-SS-35433-EM/',\n",
       " '/catalog/rings/R01-49013-EM/',\n",
       " '/catalog/earrings/E01-33617-EM/',\n",
       " '/catalog/earrings/E01-BS-0202-EM/',\n",
       " '/catalog/earrings/E01-34483-MIX/',\n",
       " '/catalog/earrings/E01-34408-SA/',\n",
       " '/catalog/pendants/P01-34757-EM-W/',\n",
       " '/catalog/earrings/E01-34757-EM/',\n",
       " '/catalog/earrings/E01-34056-EM/',\n",
       " '/catalog/crosses/J01-SS-35493-EM/',\n",
       " '/catalog/earrings/E2017-E301401SAP/',\n",
       " '/catalog/earrings/E01-BS-0052-EM/',\n",
       " '/catalog/earrings/E01-SS-35454-EM/',\n",
       " '/catalog/earrings/E01-35858SA/',\n",
       " '/catalog/earrings/E01-34168-SA/',\n",
       " '/catalog/rings/R97-MR20173-SA/',\n",
       " '/catalog/brooches/H77-H61136-BKSA/',\n",
       " '/catalog/rings/R108-BS-0207-R17/',\n",
       " '/catalog/rings/R77-R61144-EM/',\n",
       " '/catalog/necklace/N97-MN2429-EM/',\n",
       " '/catalog/necklace/N77-N59857-CPSA/',\n",
       " '/catalog/necklace/N77-N59856-CPEM/',\n",
       " '/catalog/necklace/N77-N49333-SA-R17/',\n",
       " '/catalog/necklace/N77-N49336-SA-R17/',\n",
       " '/catalog/necklace/N755-04182N031/',\n",
       " '/catalog/necklace/N4206-NK0707WSA1/',\n",
       " '/catalog/necklace/N4041-SNK01668-001/',\n",
       " '/catalog/necklace/N2022-SA2577NSA/',\n",
       " '/catalog/necklace/N2022-SA2109-N/',\n",
       " '/catalog/necklace/N2022-SA2042N/',\n",
       " '/catalog/necklace/N2022-SA2577NEM/',\n",
       " '/catalog/necklace/N2022-SA2382N/',\n",
       " '/catalog/necklace/N2018-PC010038ASA/',\n",
       " '/catalog/necklace/N2018-NRU1056ALS/',\n",
       " '/catalog/necklace/N2018-PC010032ASA/',\n",
       " '/catalog/necklace/N2018-NR040007AEM/',\n",
       " '/catalog/necklace/N2018-NL040128AEM/',\n",
       " '/catalog/necklace/N2018-NL040073AVE/',\n",
       " '/catalog/necklace/N2018-NL040061ASA/',\n",
       " '/catalog/necklace/N2018-NC010033ASA/',\n",
       " '/catalog/necklace/N2018-NC010027AEM/',\n",
       " '/catalog/necklace/N2018-NC010027ASA/',\n",
       " '/catalog/necklace/N2018-NC010029ASA/',\n",
       " '/catalog/necklace/N2018-NC010028AEM/',\n",
       " '/catalog/necklace/N2018-NC010028ASA/',\n",
       " '/catalog/necklace/N2018-351706D1FQQUSN/',\n",
       " '/catalog/necklace/N2017-N312857SAP-R17/',\n",
       " '/catalog/necklace/N157-TGN052/',\n",
       " '/catalog/necklace/N157-TGN002/',\n",
       " '/catalog/necklace/N157-TGN001/',\n",
       " '/catalog/necklace/N157-MOSN012-2/',\n",
       " '/catalog/necklace/N157-MOSN009/',\n",
       " '/catalog/necklace/N157-MOSN007-2/',\n",
       " '/catalog/necklace/N157-MOSN005-2/',\n",
       " '/catalog/necklace/N157-MOSN006-1/',\n",
       " '/catalog/necklace/N157-MOSN010-2/',\n",
       " '/catalog/necklace/N157-MOSN005-1/',\n",
       " '/catalog/necklace/N157-MOSN002-1/',\n",
       " '/catalog/necklace/N157-MOSN003/',\n",
       " '/catalog/necklace/N157-MOSN004-2/',\n",
       " '/catalog/necklace/N157-MOSN001-1-EM/',\n",
       " '/catalog/necklace/N157-MOSN001-1/',\n",
       " '/catalog/necklace/N108-FST-0019/',\n",
       " '/catalog/necklace/N108-FST-0024/',\n",
       " '/catalog/necklace/N108-FST-0001/',\n",
       " '/catalog/necklace/N108-351703D1FQQBSN/',\n",
       " '/catalog/necklace/N108-351704D1FQQUSN/',\n",
       " '/catalog/necklace/N108-FST-0009/',\n",
       " '/catalog/necklace/N108-101020140S-R17/',\n",
       " '/catalog/necklace/N01-L-35223-EM/',\n",
       " '/catalog/necklace/N01-57507-SA/',\n",
       " '/catalog/necklace/N01-35811SA/',\n",
       " '/catalog/necklace/N01-35534-SA/',\n",
       " '/catalog/necklace/N01-34420-EM/',\n",
       " '/catalog/necklace/N01-34619-SA/',\n",
       " '/catalog/earrings/E01-33811-SS/',\n",
       " '/catalog/rings/R755-46031R175/',\n",
       " '/catalog/rings/R108-FST-0014/',\n",
       " '/catalog/pendants/P01-Y-34498-EM/',\n",
       " '/catalog/earrings/E108-FST-0020/',\n",
       " '/catalog/rings/R01-34095-EM/',\n",
       " '/catalog/earrings/E01-34447-SA/',\n",
       " '/catalog/rings/R01-35715-EM/',\n",
       " '/catalog/earrings/E01-35715-EM/',\n",
       " '/catalog/brooches/H2018-HRU1050ALS-R17/',\n",
       " '/catalog/rings/R108-FST-0018/',\n",
       " '/catalog/rings/R01-L-34866-RU/',\n",
       " '/catalog/rings/R01-34396-RO/',\n",
       " '/catalog/earrings/E01-34867-EM/',\n",
       " '/catalog/rings/R2018-RR03036AEM-R17/',\n",
       " '/catalog/rings/R01-L-35016-RO/',\n",
       " '/catalog/earrings/E2017-BRN-313920-R17/',\n",
       " '/catalog/earrings/E01-L-PL-35309-SA/',\n",
       " '/catalog/rings/R755-66788R002-R17/',\n",
       " '/catalog/rings/R755-66784R002-R17/',\n",
       " '/catalog/rings/R01-L-35419-SA/',\n",
       " '/catalog/rings/R01-34115-SA/',\n",
       " '/catalog/earrings/E01-SS-35787-EM/',\n",
       " '/catalog/earrings/E2018-ER030158-R17/',\n",
       " '/catalog/pendants/P01-SS-35787-EM/',\n",
       " '/catalog/earrings/E2017-E312816SAP/',\n",
       " '/catalog/rings/R01-9-33954-SY/',\n",
       " '/catalog/earrings/E108-FST-0002/',\n",
       " '/catalog/pendants/P01-34368-EM/',\n",
       " '/catalog/rings/R01-34596-SS/',\n",
       " '/catalog/earrings/E01-34672-ES/',\n",
       " '/catalog/earrings/E01-34265-SA/',\n",
       " '/catalog/crosses/J01-46524-SA/',\n",
       " '/catalog/rings/R4150-C-35052E-CIN/',\n",
       " '/catalog/brooches/H01-35004-SA/',\n",
       " '/catalog/earrings/E2017-E304113SAP-R17/',\n",
       " '/catalog/earrings/E01-46361-SA/',\n",
       " '/catalog/earrings/E01-R-34431-SA/',\n",
       " '/catalog/earrings/E755-E46029-SA/',\n",
       " '/catalog/pendants/P01-R-34501-EM/',\n",
       " '/catalog/rings/R4172-48457-EM/',\n",
       " '/catalog/earrings/E01-18375-EM/',\n",
       " '/catalog/rings/R97-MR17431-SA/',\n",
       " '/catalog/earrings/E131-E4383-EM/',\n",
       " '/catalog/rings/R396-LRGM13274S/',\n",
       " '/catalog/crosses/J108-198795DS-R17/',\n",
       " '/catalog/crosses/J01-SS-35495-EM/',\n",
       " '/catalog/crosses/J01-SS-35450-EM/',\n",
       " '/catalog/crosses/J01-SS-35453-EM/',\n",
       " '/catalog/crosses/J01-SS-35494-EM/',\n",
       " '/catalog/crosses/J01-SS-35496-EM/',\n",
       " '/catalog/crosses/J01-BS-0122-SA/',\n",
       " '/catalog/crosses/J01-46524-EM/',\n",
       " '/catalog/crosses/J01-33589-EM/',\n",
       " '/catalog/rings/R01-L-34846-EM/',\n",
       " '/catalog/rings/R97-MR18101-SA/',\n",
       " '/catalog/rings/R77-R58878-SA/',\n",
       " '/catalog/rings/R755-63883R014/',\n",
       " '/catalog/rings/R4150-C-LRT23845S/',\n",
       " '/catalog/rings/R4145-56579SA/',\n",
       " '/catalog/rings/R4150-C-LR789E-CIN/',\n",
       " '/catalog/rings/R4150-C-LR727S/',\n",
       " '/catalog/rings/R2022-SA2477RRU/',\n",
       " '/catalog/rings/R2018-RRU1082AEM-R17/',\n",
       " '/catalog/rings/R2018-RRU1070ASA-R17/',\n",
       " '/catalog/rings/R2017-R300860EMR-R17/',\n",
       " '/catalog/rings/R131-R4383-SA/',\n",
       " '/catalog/rings/R108-351680ASE-R17/',\n",
       " '/catalog/rings/R01-SS-35436-EM/',\n",
       " '/catalog/rings/R01-SS-35505-EM/',\n",
       " '/catalog/rings/R01-L-35068-MIX/',\n",
       " '/catalog/rings/R01-L-35022-MIX/',\n",
       " '/catalog/rings/R01-L-34846-SA/',\n",
       " '/catalog/rings/R01-L-34591-ES-1/',\n",
       " '/catalog/rings/R01-EX-52840-RO/',\n",
       " '/catalog/rings/R01-FIT-30-35913SS/',\n",
       " '/catalog/rings/R01-52551-SA/',\n",
       " '/catalog/rings/R01-35815RO/',\n",
       " '/catalog/rings/R01-35670-SA/',\n",
       " '/catalog/rings/R01-35323-RO/',\n",
       " '/catalog/rings/R01-34968-SA/',\n",
       " '/catalog/rings/R01-34877-SA/',\n",
       " '/catalog/rings/R01-34877-RO/',\n",
       " '/catalog/rings/R01-34693-SS/',\n",
       " '/catalog/rings/R01-34693-RO/',\n",
       " '/catalog/rings/R01-34690-SS/',\n",
       " '/catalog/rings/R01-34587-ES/',\n",
       " '/catalog/rings/R01-34583-SS/',\n",
       " '/catalog/rings/R01-34575-SS/',\n",
       " '/catalog/rings/R01-34515-SS/',\n",
       " '/catalog/rings/R01-34485-SS/',\n",
       " '/catalog/rings/R01-34486-SS/',\n",
       " '/catalog/rings/R01-34471-SS/',\n",
       " '/catalog/rings/R01-34437-SS/',\n",
       " '/catalog/rings/R01-34396-EM/',\n",
       " '/catalog/rings/R01-34368-EM/',\n",
       " '/catalog/rings/R01-34326-SA/',\n",
       " '/catalog/rings/R01-34220-RO/',\n",
       " '/catalog/rings/R01-34035-EM/',\n",
       " '/catalog/rings/R01-34094-EM-Y/',\n",
       " '/catalog/rings/R01-33997-SA/',\n",
       " '/catalog/rings/R01-33950-ES/',\n",
       " '/catalog/rings/R01-33950-SS/',\n",
       " '/catalog/rings/R01-33952-ES/',\n",
       " '/catalog/rings/R01-33770-SA/',\n",
       " '/catalog/rings/R01-33701-SA/',\n",
       " '/catalog/rings/R01-33690-SA/',\n",
       " '/catalog/rings/R01-33603-SA/',\n",
       " '/catalog/pendants/P01-L-35315-SA/',\n",
       " '/catalog/pendants/P01-L-34866-SA/',\n",
       " '/catalog/pendants/P01-BS-002/',\n",
       " '/catalog/pendants/P01-34757-SA/',\n",
       " '/catalog/pendants/P01-34419-EM/',\n",
       " '/catalog/pendants/P01-34265-SA/',\n",
       " '/catalog/pendants/P01-34168-SA/',\n",
       " '/catalog/pendants/P01-34168-EM/',\n",
       " '/catalog/pendants/P01-33634-EM/',\n",
       " '/catalog/pendants/P01-33634-SA/',\n",
       " '/catalog/pendants/P01-33621-SA/',\n",
       " '/catalog/pendants/P01-18500-EM/',\n",
       " '/catalog/brooches/H2018-HR03054AEM-R17/',\n",
       " '/catalog/brooches/H2018-HRU1107AEM-R17/',\n",
       " '/catalog/earrings/E755-63884E013/',\n",
       " '/catalog/earrings/E755-63883E-007/',\n",
       " '/catalog/earrings/E755-46030E007-R17/',\n",
       " '/catalog/earrings/E4150-C-ER0653S/',\n",
       " '/catalog/earrings/E4150-C-ER361E-CIN/',\n",
       " '/catalog/earrings/E2024-E072230SA/',\n",
       " '/catalog/earrings/E2017-E312780SAP/',\n",
       " '/catalog/earrings/E2017-E306164SAP/',\n",
       " '/catalog/earrings/E131-E4537-SA/',\n",
       " '/catalog/earrings/E108-FST-0026/',\n",
       " '/catalog/earrings/E108-1982130CS/',\n",
       " '/catalog/earrings/E01-SS-35434-EM/',\n",
       " '/catalog/earrings/E01-SS-35489-EM/',\n",
       " '/catalog/earrings/E01-L-35423-RO/',\n",
       " '/catalog/earrings/E01-L-35315-SA/',\n",
       " '/catalog/earrings/E01-L-35016-RO/',\n",
       " '/catalog/earrings/E01-L-33815-SS/',\n",
       " '/catalog/earrings/E01-L-34279-EM/',\n",
       " '/catalog/earrings/E01-L-34866-SA/',\n",
       " '/catalog/earrings/E01-59453-Z/',\n",
       " '/catalog/earrings/E01-46351-SA/',\n",
       " '/catalog/earrings/E01-59391-Z/',\n",
       " '/catalog/earrings/E01-35815RO/',\n",
       " '/catalog/earrings/E01-34894-EM/',\n",
       " '/catalog/earrings/E01-34757-SA/',\n",
       " '/catalog/earrings/E01-34693-RO/',\n",
       " '/catalog/earrings/E01-34508-EM/',\n",
       " '/catalog/earrings/E01-34419-EM/',\n",
       " '/catalog/earrings/E01-34422-EM/',\n",
       " '/catalog/earrings/E01-34396-EM/',\n",
       " '/catalog/earrings/E01-34091-RO/',\n",
       " '/catalog/earrings/E01-34007-SA/',\n",
       " '/catalog/earrings/E01-34005-SA/',\n",
       " '/catalog/earrings/E01-33865-SA/',\n",
       " '/catalog/earrings/E01-33850-EM/',\n",
       " '/catalog/earrings/E01-33852-ES/',\n",
       " '/catalog/earrings/E01-33896-EM/',\n",
       " '/catalog/earrings/E01-33820-SA/',\n",
       " '/catalog/earrings/E01-33785-EM/',\n",
       " '/catalog/earrings/E01-33722-SA/',\n",
       " '/catalog/earrings/E01-33820-ES/',\n",
       " '/catalog/earrings/E01-33679-SA/',\n",
       " '/catalog/earrings/E01-33644-SA/',\n",
       " '/catalog/earrings/E01-33679-EM/',\n",
       " '/catalog/earrings/E01-33628-SA/',\n",
       " '/catalog/earrings/E01-33607-EM/',\n",
       " '/catalog/earrings/E01-12303-SA/',\n",
       " '/catalog/earrings/E01-12308-SA/',\n",
       " '/catalog/earrings/E01-18306-EM/',\n",
       " '/catalog/bracelets/B01-59001-Z/',\n",
       " '/catalog/rings/R01-34197-MIX/',\n",
       " '/catalog/rings/R01-34143-MIX/',\n",
       " '/catalog/rings/R01-33691-SA/',\n",
       " '/catalog/pendants/P01-SH010-SA/',\n",
       " '/catalog/earrings/E108-1983083BS-R17/',\n",
       " '/catalog/earrings/E01-L-35321-SA-1/',\n",
       " '/catalog/earrings/E01-57506-SA/',\n",
       " '/catalog/earrings/E01-18312-EM/',\n",
       " '/catalog/rings/R4150-D-LRCJ3855R/',\n",
       " '/catalog/earrings/E108-1982671CS-R17/',\n",
       " '/catalog/earrings/E2018-ERU1079AEM-R17/',\n",
       " '/catalog/earrings/E01-SS-35483-SA/',\n",
       " '/catalog/earrings/E97-MR17285E-RUSAEM/',\n",
       " '/catalog/rings/R01-34690-EM/',\n",
       " '/catalog/earrings/E01-35323-RO/',\n",
       " '/catalog/earrings/E131-E4400-SA/',\n",
       " '/catalog/rings/R01-L-35045-RO/',\n",
       " '/catalog/earrings/E2022-SA2471EEM/',\n",
       " '/catalog/pendants/P01-W-34489-EM/',\n",
       " '/catalog/pendants/P01-SH004-EM/',\n",
       " '/catalog/earrings/E01-L-34833-EM/',\n",
       " '/catalog/earrings/E2017-E312575EMR-R17/',\n",
       " '/catalog/rings/R4045-SRN02159-002/',\n",
       " '/catalog/brooches/H01-35157-SA/',\n",
       " '/catalog/earrings/E2018-ERU1083AEM-R17/',\n",
       " '/catalog/earrings/E01-35670-SA2/',\n",
       " '/catalog/earrings/E01-34775-EM/',\n",
       " '/catalog/pendants/P01-W-34491-SA/',\n",
       " '/catalog/earrings/E01-R-34497-EM/',\n",
       " '/catalog/rings/R01-BS-004-EM/',\n",
       " '/catalog/earrings/E2024-E072229SA/',\n",
       " '/catalog/earrings/E01-R-34431-EM/',\n",
       " '/catalog/earrings/E2018-ERU1087AEM-R17/',\n",
       " '/catalog/rings/R4150-D-19800420R/',\n",
       " '/catalog/earrings/E01-34402-SA/',\n",
       " '/catalog/pendants/P01-35670-SA/',\n",
       " '/catalog/rings/R755-9-55472R003-R17/',\n",
       " '/catalog/rings/R01-35401-SA/',\n",
       " '/catalog/rings/R01-34368-SA/',\n",
       " '/catalog/earrings/E2018-ER26026ASA-R17/',\n",
       " '/catalog/earrings/E01-34035-EM/',\n",
       " '/catalog/earrings/E01-L-34846-EM/',\n",
       " '/catalog/earrings/E2017-E312798EMR/',\n",
       " '/catalog/earrings/E01-34115-EM/',\n",
       " '/catalog/pendants/P184-SP19894-OS/',\n",
       " '/catalog/earrings/E108-198794CS-R17/',\n",
       " '/catalog/earrings/E01-L-35336-EM/',\n",
       " '/catalog/earrings/E01-33502-SA/',\n",
       " '/catalog/rings/R01-BS-0054-SA/',\n",
       " '/catalog/rings/R2017-R306177EMP-R17/',\n",
       " '/catalog/rings/R01-34239-EM/',\n",
       " '/catalog/bracelets/B157-MOSB008/',\n",
       " '/catalog/rings/R01-34020-SA/',\n",
       " '/catalog/earrings/E01-33748-EM/',\n",
       " '/catalog/earrings/E01-18317-EM/',\n",
       " '/catalog/earrings/E108-FST-0025/',\n",
       " '/catalog/earrings/E01-34115-SA/',\n",
       " '/catalog/earrings/E2017-E304842EMR-R17/',\n",
       " '/catalog/earrings/E01-34867ES/',\n",
       " '/catalog/earrings/E01-33520-SA/',\n",
       " '/catalog/earrings/E2017-E306398SAR-R17/',\n",
       " '/catalog/earrings/E77-E59150-SA/',\n",
       " '/catalog/earrings/E2018-ER030134ASA/',\n",
       " '/catalog/rings/R01-35715-SA/',\n",
       " '/catalog/rings/R108-93062AS/',\n",
       " '/catalog/rings/R108-FST-0003/',\n",
       " '/catalog/rings/R01-SS-35689-RO/',\n",
       " '/catalog/rings/R01-12152-SA-46/',\n",
       " '/catalog/rings/R2017-R306121EMR-R17/',\n",
       " '/catalog/earrings/E01-W-34489-SA/',\n",
       " '/catalog/rings/R4150-C-LR25572S/',\n",
       " '/catalog/earrings/E01-34094-EM-Y/',\n",
       " '/catalog/rings/R2018-RR030046-EM/',\n",
       " '/catalog/pendants/P01-R-34497-EM/',\n",
       " '/catalog/rings/R77-R46120-EM-R17/',\n",
       " '/catalog/rings/R4172-45195-SA/',\n",
       " '/catalog/rings/R4150-D-1981684SR17/',\n",
       " '/catalog/rings/R4150-D-R4497SA/',\n",
       " '/catalog/rings/R4150-D-LRP29897S/',\n",
       " '/catalog/rings/R4150-D-1982501AS/',\n",
       " '/catalog/rings/R4150-D-LRP35494E/',\n",
       " '/catalog/rings/R4150-D-LRAB2765E/',\n",
       " '/catalog/rings/R4150-C-LR4277E/',\n",
       " '/catalog/rings/R4150-C-6102E-CIN/',\n",
       " '/catalog/rings/R4150-C-LR377E-CIN/',\n",
       " '/catalog/rings/R4150-C-LR0083E-CIN/',\n",
       " '/catalog/rings/R4150-C-LRP34782SCP/',\n",
       " '/catalog/rings/R4150-C-LR773S/',\n",
       " '/catalog/rings/R4132-02-LRF02E/',\n",
       " '/catalog/rings/R4150-C-29887S-CIN/',\n",
       " '/catalog/rings/R2018-RR040028ADI/',\n",
       " '/catalog/rings/R169-TRG150028ASA/',\n",
       " '/catalog/rings/R17-SRM14611-SA/',\n",
       " '/catalog/rings/R169-TRG070221HSA/',\n",
       " '/catalog/rings/R108-135227AQQ65SR/',\n",
       " '/catalog/rings/R01-L-35423-EM/',\n",
       " '/catalog/rings/R01-FIT-3.75-35913ES/',\n",
       " '/catalog/rings/R01-FIT-40-35831RS/',\n",
       " '/catalog/rings/R01-FIT-3.75-35913RS/',\n",
       " '/catalog/rings/R01-FIT-40-35831SS/',\n",
       " '/catalog/rings/R01-FIT-30-35925ES/',\n",
       " '/catalog/rings/R01-FIT-3.75-35830RS/',\n",
       " '/catalog/rings/R01-EX-52840-SA/',\n",
       " '/catalog/rings/R01-EX-52698-EM/',\n",
       " '/catalog/rings/R01-46040-SA/',\n",
       " '/catalog/rings/R01-46079-SA/',\n",
       " '/catalog/rings/R01-46137-SA/',\n",
       " '/catalog/rings/R01-35812MIX/',\n",
       " '/catalog/rings/R01-35721-RO/',\n",
       " '/catalog/rings/R01-35752-RO/',\n",
       " '/catalog/rings/R01-35167-RO/',\n",
       " '/catalog/rings/R01-34596-ES/',\n",
       " '/catalog/rings/R01-34402-SA/',\n",
       " '/catalog/rings/R01-34265-SA/',\n",
       " '/catalog/rings/R01-34229-SA/',\n",
       " '/catalog/rings/R01-34031-EM/',\n",
       " '/catalog/rings/R01-33859-EM/',\n",
       " '/catalog/rings/R01-33684-SA/',\n",
       " '/catalog/rings/R01-33236-EM/',\n",
       " '/catalog/rings/R01-18152-EM/',\n",
       " '/catalog/pendants/P2020-393107-SS/',\n",
       " '/catalog/pendants/P01-34895-SA/',\n",
       " '/catalog/pendants/P01-12500-SA/',\n",
       " '/catalog/brooches/H2031-740235-MIX/',\n",
       " '/catalog/brooches/H2031-740248-MIX/',\n",
       " '/catalog/brooches/H2018-HR17004ASG-R17/',\n",
       " '/catalog/brooches/H108-1982023BRB-R17/',\n",
       " '/catalog/earrings/E97-CR3111E-EM/',\n",
       " '/catalog/earrings/E77-E58900-SA/',\n",
       " '/catalog/earrings/E4150-D-52247E01SA/',\n",
       " '/catalog/earrings/E4150-C-ERAB3756S/',\n",
       " '/catalog/earrings/E4150-D-25274S-1/',\n",
       " '/catalog/earrings/E4150-C-ER359E/',\n",
       " '/catalog/earrings/E2022-SA2485ERU/',\n",
       " '/catalog/earrings/E2018-ERU1083ASA-R17/',\n",
       " '/catalog/earrings/E2018-EL040010ADI/',\n",
       " '/catalog/earrings/E2018-351423CS-R17/',\n",
       " '/catalog/earrings/E2017-E312810EMR/',\n",
       " '/catalog/earrings/E108-135419C65R/',\n",
       " '/catalog/earrings/E01-SS-35435-EM/',\n",
       " '/catalog/earrings/E01-34809-SA/',\n",
       " '/catalog/earrings/E01-34622-EM/',\n",
       " '/catalog/earrings/E01-34574-SA/',\n",
       " '/catalog/earrings/E01-34596-SS/',\n",
       " '/catalog/earrings/E01-34600-SA/',\n",
       " '/catalog/earrings/E01-34368-SA/',\n",
       " '/catalog/earrings/E01-34222-MIX/',\n",
       " '/catalog/earrings/E01-33748-SA/',\n",
       " '/catalog/earrings/E01-33601-SA/',\n",
       " '/catalog/bracelets/B157-MOSB002/',\n",
       " '/catalog/bracelets/B157-MOSB004/',\n",
       " '/catalog/bracelets/B01-33002-SA/',\n",
       " '/catalog/earrings/E77-E58883-SA/',\n",
       " '/catalog/rings/R2017-R306173EMP-R17/',\n",
       " '/catalog/earrings/E77-E59470-SACP/',\n",
       " '/catalog/rings/R779-AFI73/',\n",
       " '/catalog/rings/R755-46030R075/',\n",
       " '/catalog/rings/R755-46021R244/',\n",
       " '/catalog/rings/R755-46021R242/',\n",
       " '/catalog/rings/R755-39980R042/',\n",
       " '/catalog/rings/R755-37085R015/',\n",
       " '/catalog/rings/R755-39980R045/',\n",
       " '/catalog/rings/R65-R28643D0/',\n",
       " '/catalog/rings/R4150-D-LRP25662S/',\n",
       " '/catalog/rings/R4150-D-1982811SAR17/',\n",
       " '/catalog/rings/R4150-D-1981691SR17/',\n",
       " '/catalog/rings/R4150-D-6107E/',\n",
       " '/catalog/rings/R4150-D-1981755SR17/',\n",
       " '/catalog/rings/R4150-C-LR802E/',\n",
       " '/catalog/rings/R4150-C-LR794E-CIN/',\n",
       " '/catalog/rings/R4150-C-LR861E-CIN/',\n",
       " '/catalog/rings/R4150-C-LR776E-CIN/',\n",
       " '/catalog/rings/R4150-C-LR504E/',\n",
       " '/catalog/rings/R4150-C-LR776S/',\n",
       " '/catalog/rings/R4150-C-LR1717E-CIN/',\n",
       " '/catalog/rings/R4150-C-LR269S/',\n",
       " '/catalog/rings/R4150-C-LR4455S/',\n",
       " '/catalog/rings/R4150-C-6101S/',\n",
       " '/catalog/rings/R4150-C-078S-CIN/',\n",
       " '/catalog/rings/R4150-C-035S-CIN/',\n",
       " '/catalog/rings/R2018-RRU1087AEM-R17/',\n",
       " '/catalog/rings/R2017-R312809SAP/',\n",
       " '/catalog/rings/R2017-R310196SAP/',\n",
       " '/catalog/rings/R2017-R312781SAP/',\n",
       " '/catalog/rings/R2017-R304551SAP-R17/',\n",
       " '/catalog/rings/R2017-R306173SAP-R17/',\n",
       " '/catalog/rings/R07-R1211/',\n",
       " '/catalog/rings/R01-SS-35665-MIX2/',\n",
       " '/catalog/rings/R01-L-35423-RO/',\n",
       " '/catalog/rings/R01-EX-52840-EM/',\n",
       " '/catalog/rings/R01-35752-EM/',\n",
       " '/catalog/rings/R108-93259AR/',\n",
       " '/catalog/rings/R01-34426-SA/',\n",
       " '/catalog/rings/R01-34383-EM/',\n",
       " '/catalog/rings/R01-34115-RO/',\n",
       " '/catalog/pendants/P01-SILVER-006-EM/',\n",
       " '/catalog/pendants/P01-SILVER-006-SA/',\n",
       " '/catalog/pendants/P01-46522-SA/',\n",
       " '/catalog/pendants/P01-34368-SA/',\n",
       " '/catalog/pendants/P01-33592-RU/',\n",
       " '/catalog/brooches/H2031-740216-MIX/',\n",
       " '/catalog/brooches/H2031-740246-MIX/',\n",
       " '/catalog/earrings/E755-59623E-003/',\n",
       " '/catalog/earrings/E4155-C-022-0498SA/',\n",
       " '/catalog/earrings/E4150-C-ER288E-CIN/',\n",
       " '/catalog/earrings/E4150-C-49353S-CIN/',\n",
       " '/catalog/earrings/E4150-C-49313S-CIN/',\n",
       " '/catalog/earrings/E2018-ERU1012ASA-R17/',\n",
       " '/catalog/earrings/E2017-E312798SAP/',\n",
       " '/catalog/earrings/E2017-E304551EMP-R17/',\n",
       " '/catalog/earrings/E2017-E306407EMR-R17/',\n",
       " '/catalog/earrings/E2017-BL-E304689BDS/',\n",
       " '/catalog/earrings/E108-1981341CSS-R17/',\n",
       " '/catalog/earrings/E01-59742-P-Z/',\n",
       " '/catalog/earrings/E01-34693-SS/',\n",
       " '/catalog/earrings/E01-34601-SS-1/',\n",
       " '/catalog/earrings/E01-34356-SA/',\n",
       " '/catalog/pendants/P01-EX-52862-EM/',\n",
       " '/catalog/pendants/P01-0056SA/',\n",
       " '/catalog/earrings/E2018-ER030007AEM/',\n",
       " '/catalog/earrings/E2018-EG02047ASW-R17/',\n",
       " '/catalog/earrings/E2017-E312795SAP/',\n",
       " '/catalog/earrings/E01-35873SA/',\n",
       " '/catalog/earrings/E01-35815EM/',\n",
       " '/catalog/earrings/E01-35858EM/',\n",
       " '/catalog/earrings/E01-34349-SA/',\n",
       " '/catalog/earrings/E01-34785-SA/',\n",
       " '/catalog/earrings/E77-E58877-SA-R17/',\n",
       " '/catalog/rings/R01-L-35585-SC/',\n",
       " '/catalog/rings/R2017-R313274SAP-R17/',\n",
       " '/catalog/earrings/E2017-E313269SAP-R17/',\n",
       " '/catalog/rings/R01-L-34341-EM/',\n",
       " '/catalog/earrings/E2017-E312635EMR/',\n",
       " '/catalog/rings/R01-34455-EM/',\n",
       " '/catalog/brooches/H01-35251-MIX-2/',\n",
       " '/catalog/pendants/P4150-D-BPL167008S/',\n",
       " '/catalog/pendants/P4150-D-5606OS/',\n",
       " '/catalog/pendants/P4150-C-BP31S/',\n",
       " '/catalog/pendants/P4150-C-BP785E/',\n",
       " '/catalog/pendants/P2018-PR030039-SA/',\n",
       " '/catalog/pendants/P2018-PR03036AEM-R17/',\n",
       " '/catalog/pendants/P79-PX91104SA4/',\n",
       " '/catalog/pendants/P108-135403D65SS-R17/',\n",
       " '/catalog/pendants/P01-W-34490-EM/',\n",
       " '/catalog/pendants/P01-34579-SA/',\n",
       " '/catalog/rings/R108-1983094AS-R17/',\n",
       " '/catalog/earrings/E01-59391-Z-Y/',\n",
       " '/catalog/brooches/H2018-HR17005ASG-R17/',\n",
       " '/catalog/brooches/H2018-HR120007AWS/',\n",
       " '/catalog/brooches/H2018-HR120006ARU/',\n",
       " '/catalog/earrings/E4150-S-ERP34571E/',\n",
       " '/catalog/earrings/E4150-S-ERP35184E/',\n",
       " '/catalog/earrings/E4150-S-ERP34550E/',\n",
       " '/catalog/earrings/E4150-S-ERCJ1793S/',\n",
       " '/catalog/rings/R2017-R312141EMR-R17/',\n",
       " '/catalog/earrings/E82-BSER5336W-B-A/',\n",
       " '/catalog/rings/R01-34569-SA/',\n",
       " '/catalog/earrings/E755-46021E016/',\n",
       " '/catalog/earrings/E01-18303-EM/',\n",
       " '/catalog/earrings/E755-68991E001-R17/',\n",
       " '/catalog/earrings/E2022-CE714-RU/',\n",
       " '/catalog/rings/R2018-RR03035ASA-R17/',\n",
       " '/catalog/rings/R2017-R312756SAP/',\n",
       " '/catalog/rings/R4211-RG4715WSA1/',\n",
       " '/catalog/pendants/P4211-PN1481WSA1/',\n",
       " '/catalog/earrings/E4150-D-48451SA/',\n",
       " '/catalog/earrings/E4150-D-ERGM12916S/',\n",
       " '/catalog/earrings/E4150-D-ERAB3085E/',\n",
       " '/catalog/earrings/E4211-ER2647WSA1/',\n",
       " '/catalog/rings/R2017-R306170SAP/',\n",
       " '/catalog/rings/R4150-C-GR00080S/',\n",
       " '/catalog/rings/R2018-RR030048-EM/',\n",
       " '/catalog/earrings/E77-E59465-SACP/',\n",
       " '/catalog/rings/R4178-R49118A0S110/',\n",
       " '/catalog/earrings/E2017-E312756SAP/',\n",
       " '/catalog/rings/R4150-C-1333408R/',\n",
       " '/catalog/rings/R97-CR3408-KBSA-R17/',\n",
       " '/catalog/rings/R01-EX-52694-SA/',\n",
       " '/catalog/earrings/E2017-E305596SAP/',\n",
       " '/catalog/earrings/E2017-E312816EMR/',\n",
       " '/catalog/rings/R2017-R307804SAP-R17/',\n",
       " '/catalog/rings/R01-EX-52694-RO/',\n",
       " '/catalog/earrings/E82-WSER7000W-B-A/',\n",
       " '/catalog/earrings/E01-34497-SA/',\n",
       " '/catalog/rings/R01-34382-SA/',\n",
       " '/catalog/rings/R97-CR2865-SA/',\n",
       " '/catalog/rings/R152-GR3954-EMM-Y4/',\n",
       " '/catalog/rings/R4150-D-LRL351699S/',\n",
       " '/catalog/rings/R4150-D-1981755RR17/',\n",
       " '/catalog/rings/R175-R29460/',\n",
       " '/catalog/rings/R01-33239-SA/',\n",
       " '/catalog/earrings/E4150-C-GE00080S/',\n",
       " '/catalog/earrings/E4150-D-45123E/',\n",
       " '/catalog/earrings/E4150-D-ERJ46332S/',\n",
       " '/catalog/rings/R97-MR17146-SA/',\n",
       " '/catalog/pendants/P4150-S-BPCJ1886SR17/',\n",
       " '/catalog/earrings/E4150-S-ERP34766SR17/',\n",
       " '/catalog/earrings/E4150-S-ERCJ1773SR17/',\n",
       " '/catalog/earrings/E4150-D-25083S/',\n",
       " '/catalog/rings/R01-EX-52687-SA/',\n",
       " '/catalog/rings/R4150-S-LRP34571S/',\n",
       " '/catalog/rings/R4150-S-LRP34564E/',\n",
       " '/catalog/rings/R4150-S-LRP34550E/',\n",
       " '/catalog/rings/R4150-S-LRP34546E/',\n",
       " '/catalog/rings/R4150-C-LRP34677S/',\n",
       " '/catalog/rings/R4150-S-LRP35500S/',\n",
       " '/catalog/rings/R4150-S-LRP35163E/',\n",
       " '/catalog/rings/R4150-S-LRP34766SR17/',\n",
       " '/catalog/rings/R4150-S-LRCJ3319SR17/',\n",
       " '/catalog/rings/R4150-S-LRCJ3308SR17/',\n",
       " '/catalog/earrings/E2018-EL040048AYD/',\n",
       " '/catalog/rings/R01-34135-SA/',\n",
       " '/catalog/pendants/P4150-D-BPEJ7660MIX-/',\n",
       " '/catalog/pendants/P4150-D-46846EPR/',\n",
       " '/catalog/earrings/E4150-S-ERP34574E/',\n",
       " '/catalog/rings/R4150-D-14167S/',\n",
       " '/catalog/rings/R4150-D-LR30081-1S/',\n",
       " '/catalog/rings/R4150-D-LRTA090324S/',\n",
       " '/catalog/rings/R01-34052-SA/',\n",
       " '/catalog/brooches/H2018-HL040138AXX/',\n",
       " '/catalog/earrings/E01-34496-SA/',\n",
       " '/catalog/earrings/E4150-D-ERCJ2103S/',\n",
       " '/catalog/rings/R2022-SA2473RRU/',\n",
       " '/catalog/earrings/E4124-2240342022/',\n",
       " '/catalog/rings/R4150-S-LRCJ3290S/',\n",
       " '/catalog/earrings/E4150-D-ERAB1602S/',\n",
       " '/catalog/rings/R175-R27837-EM/',\n",
       " '/catalog/earrings/E01-34721-SA/',\n",
       " '/catalog/earrings/E01-34486-SA/',\n",
       " '/catalog/earrings/E01-34407-SA/',\n",
       " '/catalog/earrings/E01-34416-SA/',\n",
       " '/catalog/earrings/E01-34230-SA/',\n",
       " '/catalog/rings/R97-MR11996-SA/',\n",
       " '/catalog/rings/R4150-D-1981674RR17/',\n",
       " '/catalog/pendants/P01-34597-SA/',\n",
       " '/catalog/brooches/H01-EX-52892-RU/',\n",
       " '/catalog/rings/R2017-R305596SAP-R17/',\n",
       " '/catalog/rings/R4150-S-LRP35184E/',\n",
       " '/catalog/rings/R4150-S-LRP34571E/',\n",
       " '/catalog/rings/R4150-S-LRP34574S/',\n",
       " '/catalog/rings/R4150-S-LRG82022S/',\n",
       " '/catalog/rings/R4150-S-LRCJ3317SR17/',\n",
       " '/catalog/rings/R4150-S-LRCJ3315SR17/',\n",
       " '/catalog/rings/R4150-S-LR19324S/',\n",
       " '/catalog/pendants/P4150-D-BP2094S/',\n",
       " '/catalog/earrings/E4150-D-455-24290SR1/',\n",
       " '/catalog/bracelets/B4150-S-GB0123-BSA/',\n",
       " '/catalog/rings/R4150-S-LRP30314E/',\n",
       " '/catalog/earrings/E4150-D-ERAB3603E/',\n",
       " '/catalog/earrings/E4150-C-ER794S/',\n",
       " '/catalog/pendants/P4150-S-BPCJ1893SR17/',\n",
       " '/catalog/pendants/P4150-S-BPCJ1900SR17/',\n",
       " '/catalog/rings/R77-R46988-SA-R17/',\n",
       " '/catalog/rings/R4211-RG1715WSA1/',\n",
       " '/catalog/rings/R108-1982518AS-R17/',\n",
       " '/catalog/rings/R77-R47907-SA-R17/',\n",
       " '/catalog/earrings/E755-52578E001/',\n",
       " '/catalog/rings/R2017-R312717EMR-R17/',\n",
       " '/catalog/rings/R779-AFI81/',\n",
       " '/catalog/pendants/P4150-D-3166MIX/',\n",
       " '/catalog/earrings/E4124-2237592022/',\n",
       " '/catalog/rings/R4150-D-46512S/',\n",
       " '/catalog/rings/R4150-D-LRGM10885S/',\n",
       " '/catalog/rings/R4150-C-27392S-CIN/',\n",
       " '/catalog/rings/R131-R4544-SA/',\n",
       " '/catalog/rings/R131-R4346-SA/',\n",
       " '/catalog/earrings/E4150-C-ER792S/',\n",
       " '/catalog/earrings/E2022-TER170016SABL/',\n",
       " '/catalog/rings/R4150-D-15802ER17/',\n",
       " '/catalog/rings/R4150-C-36066S-CIN/',\n",
       " '/catalog/rings/R108-1982634AS-R17/',\n",
       " '/catalog/rings/R755-69008R002-R17/',\n",
       " '/catalog/rings/R755-68994R002-R17/',\n",
       " '/catalog/rings/R4150-C-1332456S/',\n",
       " '/catalog/rings/R4150-C-LRL180111YS/',\n",
       " '/catalog/rings/R01-L-34833-SA/',\n",
       " '/catalog/rings/R01-L-34296-SA/',\n",
       " '/catalog/earrings/E4150-D-53811SA/',\n",
       " '/catalog/earrings/E4150-C-ER2317S/',\n",
       " '/catalog/rings/R4150-D-SR3504DIGEM0/',\n",
       " '/catalog/rings/R4150-D-LR4278RU/',\n",
       " '/catalog/rings/R4150-D-46524S/',\n",
       " '/catalog/rings/R4150-D-R27835/',\n",
       " '/catalog/earrings/E4150-C-ER860S/',\n",
       " '/catalog/rings/R4150-C-193S-CIN/',\n",
       " '/catalog/rings/R4150-D-4267E/',\n",
       " '/catalog/earrings/E4150-D-ERP43551SA/',\n",
       " '/catalog/earrings/E4150-D-ERAB3519S/',\n",
       " '/catalog/rings/R4150-D-19800420S/',\n",
       " '/catalog/brooches/H2018-HL040123ASA/',\n",
       " '/catalog/rings/R755-70648R002-R17/',\n",
       " '/catalog/rings/R4013-BSRG12088R-B-A/',\n",
       " '/catalog/rings/R4036-2519372970/',\n",
       " '/catalog/rings/R755-69000R002-R17/',\n",
       " '/catalog/rings/R2017-R312816SAP/',\n",
       " '/catalog/rings/R4150-D-LRB0355S/',\n",
       " '/catalog/earrings/E2018-EG02041ASW-R17/',\n",
       " '/catalog/earrings/E01-33896-B/',\n",
       " '/catalog/brooches/H77-H61140-BKSA/',\n",
       " '/catalog/earrings/E4150-D-47031S/',\n",
       " '/catalog/rings/R755-70645R002-R17/',\n",
       " '/catalog/rings/R108-1983097AS-R17/',\n",
       " '/catalog/rings/R755-43223R003-R17/',\n",
       " '/catalog/earrings/E767-E07024S/',\n",
       " '/catalog/pendants/P2017-P312864PSA-R17/',\n",
       " '/catalog/pendants/P01-L-35022-MIX/',\n",
       " '/catalog/pendants/P01-L-34846-EM/',\n",
       " '/catalog/pendants/P01-34433-EM/',\n",
       " '/catalog/pendants/P01-34432-SA/',\n",
       " '/catalog/brooches/H77-H61139-BKSA/',\n",
       " '/catalog/brooches/H2018-HR03056BRU-R17/',\n",
       " '/catalog/rings/R755-69005R002-R17/',\n",
       " '/catalog/rings/R2017-R312576EMR-R17/',\n",
       " '/catalog/earrings/E755-68998E002-R17/',\n",
       " '/catalog/earrings/E01-33773-SA/',\n",
       " '/catalog/earrings/E77-E59118-SA/',\n",
       " '/catalog/earrings/E77-E58878-SA/',\n",
       " '/catalog/rings/R755-69003R001-R17/',\n",
       " '/catalog/rings/R01-34455-SA/',\n",
       " '/catalog/earrings/E01-L-34522-ES/',\n",
       " '/catalog/rings/R755-69001R002-R17/',\n",
       " '/catalog/earrings/E2017-E312873PSA-R17/',\n",
       " '/catalog/rings/R4132-02-LR791E/',\n",
       " '/catalog/pendants/P4195-SMP-6470-EM/',\n",
       " '/catalog/earrings/E4195-SME-6469-EM/',\n",
       " '/catalog/earrings/E77-E60535-BKSA/',\n",
       " '/catalog/earrings/E77-E61167/',\n",
       " '/catalog/earrings/E755-70661E002-R17/',\n",
       " '/catalog/earrings/E755-70656E002-R17/',\n",
       " '/catalog/earrings/E755-70648E002-R17/',\n",
       " '/catalog/earrings/E755-69000E002-R17/',\n",
       " '/catalog/earrings/E755-68993E002-R17/',\n",
       " '/catalog/earrings/E755-68994E002-R17/',\n",
       " '/catalog/earrings/E755-68990E002-R17/',\n",
       " '/catalog/earrings/E755-68992E002-R17/',\n",
       " '/catalog/earrings/E2017-E312671EMR-R17/',\n",
       " '/catalog/earrings/E2017-E307804SAP/',\n",
       " '/catalog/earrings/E2017-E304552SAP/',\n",
       " '/catalog/earrings/E108-1983093BS/',\n",
       " '/catalog/earrings/E108-1983082CS-R17/',\n",
       " '/catalog/earrings/E01-L-34287-RU/',\n",
       " '/catalog/earrings/E01-34364-RU/',\n",
       " '/catalog/rings/R77-R59459-SACP/',\n",
       " '/catalog/rings/R2017-R313273SAP-R17/',\n",
       " '/catalog/rings/R2017-R313269SAP-R17/',\n",
       " '/catalog/rings/R2017-R312747EMR/',\n",
       " '/catalog/rings/R2017-R304113SAP-R17/',\n",
       " '/catalog/rings/R108-1983106AS-R17/',\n",
       " '/catalog/pendants/P2017-P312669EMR-R17/',\n",
       " '/catalog/brooches/H2018-HRU1107ASA-R17/',\n",
       " '/catalog/earrings/E77-E59368-SA/',\n",
       " '/catalog/earrings/E755-69003E003-R17/',\n",
       " '/catalog/earrings/E2017-E313274SAP-R17/',\n",
       " '/catalog/earrings/E2017-E312864PSA-R17/',\n",
       " '/catalog/rings/R01-L-34522-SS/',\n",
       " '/catalog/rings/R2017-R312812SAP/',\n",
       " '/catalog/rings/R01-35322-SA/',\n",
       " '/catalog/rings/R2022-GEM-READY-04/',\n",
       " '/catalog/rings/R4211-RG1515WRU1/',\n",
       " '/catalog/earrings/E4211-ER1325WRU1/',\n",
       " '/catalog/rings/R01-35268-150-SA/',\n",
       " '/catalog/bracelets/B4206-BR0570WSA1/',\n",
       " '/catalog/rings/R01-L-34445-SA/',\n",
       " '/catalog/rings/R01-35265-150-SA/',\n",
       " '/catalog/earrings/E77-E59365-SA/',\n",
       " '/catalog/earrings/E4150-C-49358S/',\n",
       " '/catalog/earrings/E2017-E304676SAP/',\n",
       " '/catalog/pendants/P4211-PN1480WSA1/',\n",
       " '/catalog/earrings/E4211-ER1720WRU1/',\n",
       " '/catalog/rings/R2022-SA2493RSA/',\n",
       " '/catalog/earrings/E2022-SA497U0100SA/',\n",
       " '/catalog/rings/R2022-SA2491RSA/',\n",
       " '/catalog/rings/R2022-SA2473RSABL/',\n",
       " '/catalog/rings/R2017-R308188EMS-R17/',\n",
       " '/catalog/rings/R01-34416-SA/',\n",
       " '/catalog/earrings/E77-E46120-SA-R17/',\n",
       " '/catalog/earrings/E2022-SA2491ERU/',\n",
       " '/catalog/earrings/E2022-SA2494ESABL/',\n",
       " '/catalog/brooches/H2018-HR120007ASA/',\n",
       " '/catalog/rings/R01-34893-RO/',\n",
       " '/catalog/rings/R4150-D-LR29912-1S/',\n",
       " '/catalog/earrings/E01-ROYAL151-YW-EM/',\n",
       " '/catalog/rings/R2017-R312574EMR-R17/',\n",
       " '/catalog/rings/R2017-R304552SAP/',\n",
       " '/catalog/rings/R175-R29258SAP/',\n",
       " '/catalog/earrings/E2017-E306398EMR/',\n",
       " '/catalog/rings/R4150-C-198948S/',\n",
       " '/catalog/rings/R4150-C-GR00080R/',\n",
       " '/catalog/rings/R4150-C-1332372S/',\n",
       " '/catalog/earrings/E4150-C-525002E-CIN/',\n",
       " '/catalog/earrings/E4150-C-ER285E-CIN/',\n",
       " '/catalog/earrings/E4150-C-1332373S/',\n",
       " '/catalog/rings/R4150-D-LRB0063S/',\n",
       " '/catalog/earrings/E2017-LQDD1687B-R17/',\n",
       " '/catalog/earrings/E131-E4383-SA/',\n",
       " '/catalog/earrings/E2017-E312779EMR/',\n",
       " '/catalog/rings/R4150-D-LR3822RR17/',\n",
       " '/catalog/rings/R4150-D-LRB1529S/',\n",
       " '/catalog/rings/R4150-C-LRG14283S/',\n",
       " '/catalog/brooches/H01-35155-SA/',\n",
       " '/catalog/earrings/E4150-D-ERAB3603S/',\n",
       " '/catalog/earrings/E01-WS-35128/',\n",
       " '/catalog/rings/R4150-D-26147S/',\n",
       " '/catalog/rings/R4150-C-LR0097E/',\n",
       " '/catalog/earrings/E2017-E304551SAP/',\n",
       " '/catalog/rings/R4150-D-47015R/',\n",
       " '/catalog/rings/R4150-D-3404MIX2/',\n",
       " '/catalog/earrings/E01-WSPL-35063-30/',\n",
       " '/catalog/bracelets/B01-EX-52795-SA/',\n",
       " '/catalog/earrings/E4180-ENF1636/',\n",
       " '/catalog/rings/R4180-RNF1636S/',\n",
       " '/catalog/rings/R4150-D-1981033YDS/',\n",
       " '/catalog/rings/R4150-C-LR1399R/',\n",
       " '/catalog/bracelets/B01-35039-RU/',\n",
       " '/catalog/earrings/E4150-C-ER791S/',\n",
       " '/catalog/rings/R4150-C-LR914S/',\n",
       " '/catalog/earrings/E77-E59421-EM/',\n",
       " '/catalog/earrings/E4150-C-ERAB3117S/',\n",
       " '/catalog/rings/R97-MR17460-SAPSGG/',\n",
       " '/catalog/earrings/E2018-EL040060ADI/',\n",
       " '/catalog/rings/R77-R59422-SA/',\n",
       " '/catalog/rings/R4150-D-LRAB3605E/',\n",
       " '/catalog/rings/R4150-D-44211S/',\n",
       " '/catalog/rings/R4150-C-LRP30309E/',\n",
       " '/catalog/rings/R4150-D-1981482SR17/',\n",
       " '/catalog/rings/R4150-C-LR04227S/',\n",
       " '/catalog/rings/R4150-C-LR2321E/',\n",
       " '/catalog/rings/R4150-C-LR04151S/',\n",
       " '/catalog/rings/R4150-C-46123S/',\n",
       " '/catalog/rings/R4150-C-49068S/',\n",
       " '/catalog/rings/R4150-C-0044S/',\n",
       " '/catalog/rings/R108-1981498AS-R17/',\n",
       " '/catalog/earrings/E4150-D-47021E/',\n",
       " '/catalog/earrings/E4150-D-0813ER17/',\n",
       " '/catalog/earrings/E4150-C-46409S/',\n",
       " '/catalog/earrings/E4150-C-29887S/',\n",
       " '/catalog/earrings/E2018-EL120009AEM/',\n",
       " '/catalog/earrings/E2018-EL120007ASA/',\n",
       " '/catalog/earrings/E2018-EL110003ASA/',\n",
       " '/catalog/earrings/E01-34403-EM/',\n",
       " '/catalog/rings/R4150-C-LR277S/',\n",
       " '/catalog/rings/R4150-C-1332378E/',\n",
       " '/catalog/rings/R131-R4320-SA/',\n",
       " '/catalog/rings/R01-36089/',\n",
       " '/catalog/bracelets/B01-34955-SA/',\n",
       " '/catalog/earrings/E97-MR17390E-SA/',\n",
       " '/catalog/rings/R4150-C-1333405S/',\n",
       " '/catalog/rings/R4150-D-GR00016S/',\n",
       " '/catalog/pendants/P79-PF15851MOR4/',\n",
       " '/catalog/earrings/E2018-ERU1056ALS/',\n",
       " '/catalog/rings/R4150-D-GR00007-DISA/',\n",
       " '/catalog/rings/R4150-C-LR359S/',\n",
       " '/catalog/rings/R4132-02-LR792E/',\n",
       " '/catalog/pendants/P2018-PR02007ALS-R17/',\n",
       " '/catalog/rings/R65-R46578A0SSA/',\n",
       " '/catalog/earrings/E4132-02-49353E/',\n",
       " '/catalog/rings/R4150-C-LRF01S/',\n",
       " '/catalog/rings/R2017-R306164SAP/',\n",
       " '/catalog/rings/R2017-R308343SAP/',\n",
       " '/catalog/rings/R2017-R306124SAP-R17/',\n",
       " '/catalog/rings/R2017-R312794EMR/',\n",
       " '/catalog/earrings/E4150-C-ER901R/',\n",
       " '/catalog/earrings/E4150-C-ER741E/',\n",
       " '/catalog/earrings/E2017-E312820SAP/',\n",
       " '/catalog/rings/R4172-48459-SA/',\n",
       " '/catalog/pendants/P4150-D-1982512S/',\n",
       " '/catalog/earrings/E4150-C-ER1399S/',\n",
       " '/catalog/earrings/E4150-C-ER343S/',\n",
       " '/catalog/earrings/E4150-C-49333S/',\n",
       " '/catalog/earrings/E131-E4416-SA/',\n",
       " '/catalog/rings/R4150-D-LRP29831MIX/',\n",
       " '/catalog/rings/R4150-D-44073E/',\n",
       " '/catalog/rings/R4150-C-LRG82037S/',\n",
       " '/catalog/rings/R4150-C-1333407S/',\n",
       " '/catalog/rings/R4150-C-1332375E/',\n",
       " '/catalog/earrings/E01-34843-RU/',\n",
       " '/catalog/rings/R4150-D-LRP29853S/',\n",
       " '/catalog/rings/R4150-D-LRAB4097S/',\n",
       " '/catalog/earrings/E4150-C-ERP30309E/',\n",
       " '/catalog/rings/R4150-C-1333408S/',\n",
       " '/catalog/earrings/E4150-D-ER4278E/',\n",
       " '/catalog/earrings/E108-1981950CS/',\n",
       " '/catalog/rings/R4150-D-46670E/',\n",
       " '/catalog/pendants/P01-W-34490-SA/',\n",
       " '/catalog/earrings/E4150-D-40013S/',\n",
       " '/catalog/rings/R4150-C-1332379E/',\n",
       " '/catalog/earrings/E4150-D-ER2094E/',\n",
       " '/catalog/rings/R4150-D-GR00015E/',\n",
       " '/catalog/earrings/E2018-EL040041ADI/',\n",
       " '/catalog/rings/R4150-D-LRAB3603E/',\n",
       " '/catalog/rings/R4150-D-LRAB2787E/',\n",
       " '/catalog/rings/R4150-D-LR3848ER17/',\n",
       " '/catalog/rings/R4150-D-LR101260E/',\n",
       " '/catalog/rings/R4150-D-6118E/',\n",
       " '/catalog/rings/R4150-C-LR792E/',\n",
       " '/catalog/rings/R4150-C-LR0653S/',\n",
       " '/catalog/rings/R4150-C-LR2268E/',\n",
       " '/catalog/rings/R4150-C-6108E/',\n",
       " '/catalog/rings/R131-R4471-EM/',\n",
       " '/catalog/rings/R131-R4309-EM/',\n",
       " '/catalog/earrings/E4150-C-ER794E/',\n",
       " '/catalog/earrings/E01-33655-EM/',\n",
       " '/catalog/rings/R4150-C-LR1717S/',\n",
       " '/catalog/rings/R77-R47731-SA/',\n",
       " '/catalog/rings/R755-46031R169/',\n",
       " '/catalog/rings/R4150-D-LRG14524SR17/',\n",
       " '/catalog/rings/R4150-D-1981707RR17/',\n",
       " '/catalog/rings/R4150-C-LR267S/',\n",
       " '/catalog/rings/R4150-C-LRF02R/',\n",
       " '/catalog/rings/R4150-C-LR04241E/',\n",
       " '/catalog/rings/R4150-C-6103S/',\n",
       " '/catalog/earrings/E4150-D-ER3572E/',\n",
       " '/catalog/earrings/E4150-D-ER4291E/',\n",
       " '/catalog/earrings/E4150-C-ER288E/',\n",
       " '/catalog/earrings/E4150-C-ER791E/',\n",
       " '/catalog/earrings/E175-E29124R/',\n",
       " '/catalog/rings/R97-MR17588-SA/',\n",
       " '/catalog/rings/R97-MR17285-SA/',\n",
       " '/catalog/rings/R4150-C-1332375S/',\n",
       " '/catalog/earrings/E77-E46989-SA-R17/',\n",
       " '/catalog/earrings/E4150-C-ER1748E/',\n",
       " '/catalog/earrings/E01-34849-SA/',\n",
       " '/catalog/earrings/E01-33643-SA/',\n",
       " '/catalog/rings/R4150-D-LRAB2360E/',\n",
       " '/catalog/rings/R77-R59487-CPSA/',\n",
       " '/catalog/rings/R77-R59316-SA/',\n",
       " '/catalog/rings/R2022-R072878/',\n",
       " '/catalog/rings/R2022-LLD-READY-13/',\n",
       " '/catalog/rings/R2022-GEM-READY-07/',\n",
       " '/catalog/rings/R2018-RR190001ASA/',\n",
       " '/catalog/earrings/E2018-EL040051ADI/',\n",
       " '/catalog/rings/R97-CR2509-SA/',\n",
       " '/catalog/rings/R97-CR2970-SA/',\n",
       " '/catalog/rings/R77-R58880-SABSA-R17/',\n",
       " '/catalog/rings/R4082-GR3559-SAWS-W8/',\n",
       " '/catalog/rings/R131-R4335-EM/',\n",
       " '/catalog/rings/R131-R4315-SA/',\n",
       " '/catalog/earrings/E755-52575E001-R17/',\n",
       " '/catalog/earrings/E2018-EL040011ADI/',\n",
       " '/catalog/earrings/E4150-D-ERGM11320S/',\n",
       " '/catalog/rings/R77-R46988-EM-R17/',\n",
       " '/catalog/pendants/P01-34904-SA/',\n",
       " '/catalog/rings/R4150-D-LRAB2356E/',\n",
       " '/catalog/rings/R97-MR17285-SA-EM/',\n",
       " '/catalog/rings/R4150-D-28725SA/',\n",
       " '/catalog/rings/R4150-D-28725EM/',\n",
       " '/catalog/rings/R131-R4285-SA/',\n",
       " '/catalog/rings/R108-1982116AS-R17/',\n",
       " '/catalog/earrings/E755-63884E011/',\n",
       " '/catalog/earrings/E755-46031E-038-R17/',\n",
       " '/catalog/rings/R4150-D-1982824EMR17/',\n",
       " '/catalog/rings/R2018-RR230039ASA/',\n",
       " '/catalog/rings/R131-R4249-SA/',\n",
       " '/catalog/rings/R131-R4402-EM/',\n",
       " '/catalog/rings/R4150-D-46516E/',\n",
       " '/catalog/rings/R4150-D-19800429R/',\n",
       " '/catalog/earrings/E2018-EL040026ADI/',\n",
       " '/catalog/earrings/E01-34153-MIX2/',\n",
       " '/catalog/rings/R755-57618R003-R17/',\n",
       " '/catalog/rings/R4150-D-6118S/',\n",
       " '/catalog/rings/R4150-D-1982825EMR17/',\n",
       " '/catalog/rings/R01-33858-SS/',\n",
       " '/catalog/rings/R01-33814-SS/',\n",
       " '/catalog/earrings/E97-MR17285E-SA/',\n",
       " '/catalog/earrings/E4150-D-1982828SAR17/',\n",
       " '/catalog/earrings/E4150-C-ER285S/',\n",
       " '/catalog/rings/R131-R4198-SA/',\n",
       " '/catalog/earrings/E4150-C-1981488S/',\n",
       " '/catalog/bracelets/B157-TGB019-SA/',\n",
       " '/catalog/rings/R175-R27835/',\n",
       " '/catalog/rings/R01-33218-EM/',\n",
       " '/catalog/rings/R77-R48693-SEM-R17/',\n",
       " '/catalog/rings/R4132-02-LR896E/',\n",
       " '/catalog/rings/R4132-02-LR2268E/',\n",
       " '/catalog/rings/R97-MR16483-SA/',\n",
       " '/catalog/rings/R777-625-RG021475W/',\n",
       " '/catalog/rings/R01-CL047-SA/',\n",
       " '/catalog/earrings/E2018-ER030046-SA/',\n",
       " '/catalog/earrings/E2018-ER030046-RU/',\n",
       " '/catalog/earrings/E2018-ER030043-SA/',\n",
       " '/catalog/earrings/E2017-E312712EMR-R17/',\n",
       " '/catalog/earrings/E2017-E306206EMR-R17/',\n",
       " '/catalog/earrings/E01-34610-EM/',\n",
       " '/catalog/rings/R888-405-D-LRB1056S/',\n",
       " '/catalog/rings/R175-R27616/',\n",
       " '/catalog/rings/R175-R27838/',\n",
       " '/catalog/earrings/E01-34610-SA-1/',\n",
       " '/catalog/earrings/E77-E59414-SA/',\n",
       " '/catalog/earrings/E169-TER170013SA/',\n",
       " '/catalog/earrings/E2018-ER030038-EM/',\n",
       " '/catalog/earrings/E01-34627-SA/',\n",
       " '/catalog/rings/R175-R28725/',\n",
       " '/catalog/rings/R01-34517-EM/',\n",
       " '/catalog/earrings/E2017-E312718EMR-R17/',\n",
       " '/catalog/earrings/E2017-E312715RUY-R17/',\n",
       " '/catalog/earrings/E01-34644-SA/',\n",
       " '/catalog/earrings/E01-34579-SA/',\n",
       " '/catalog/rings/R01-34572-EM/',\n",
       " '/catalog/earrings/E01-34612-SA/',\n",
       " '/catalog/earrings/E01-34443-SA/',\n",
       " '/catalog/rings/R2017-R800010SAD/',\n",
       " '/catalog/rings/R2017-R306116SAP-R17/',\n",
       " '/catalog/bracelets/B764-BL118083-SA/',\n",
       " '/catalog/earrings/E01-34580-SA/',\n",
       " '/catalog/rings/R97-BRN-MR20350-EMDC/',\n",
       " '/catalog/earrings/E2018-ERU1071AEM-R17/',\n",
       " '/catalog/rings/R2017-R304261SAP-R17/',\n",
       " '/catalog/earrings/E01-34485-EM/',\n",
       " '/catalog/rings/R2017-R312712RUY-R17/',\n",
       " '/catalog/rings/R2017-R312713SAP-R17/',\n",
       " '/catalog/earrings/E2017-E312707SAP/',\n",
       " '/catalog/rings/R97-MR6453-SA/',\n",
       " '/catalog/rings/R01-46185/',\n",
       " '/catalog/earrings/E2018-135247CQQ65SE/',\n",
       " '/catalog/earrings/E01-34484-SA/',\n",
       " '/catalog/rings/R388-K0546R-S/',\n",
       " '/catalog/rings/R17-SRM14689-RU/',\n",
       " '/catalog/earrings/E2017-E312709RUY-R17/',\n",
       " '/catalog/earrings/E2017-E312713EMR-R17/',\n",
       " '/catalog/rings/R01-34422-EM/',\n",
       " '/catalog/rings/R01-34144-SA/',\n",
       " '/catalog/earrings/E2017-E312717EMR-R17/',\n",
       " '/catalog/rings/R2018-RRU1078AEM-R17/',\n",
       " '/catalog/rings/R17-SRM15805-SA/',\n",
       " '/catalog/rings/R2018-RRU1080ARU-R17/',\n",
       " '/catalog/earrings/E01-34278-SA/',\n",
       " '/catalog/earrings/E01-34413-SA/',\n",
       " '/catalog/pendants/P01-34033-SA/',\n",
       " '/catalog/earrings/E01-34217-SA/',\n",
       " '/catalog/bracelets/B157-MOSB009/',\n",
       " ...]"
      ]
     },
     "execution_count": 11,
     "metadata": {},
     "output_type": "execute_result"
    }
   ],
   "source": [
    "links"
   ]
  },
  {
   "cell_type": "markdown",
   "metadata": {},
   "source": [
    "## Разработка парсера по карточкам"
   ]
  },
  {
   "cell_type": "code",
   "execution_count": null,
   "metadata": {},
   "outputs": [],
   "source": [
    "#del after"
   ]
  },
  {
   "cell_type": "code",
   "execution_count": 20,
   "metadata": {},
   "outputs": [],
   "source": [
    "jlook = mysoup('https://miuz.ru/catalog/rings/R2022-MSR501/')"
   ]
  },
  {
   "cell_type": "code",
   "execution_count": 21,
   "metadata": {},
   "outputs": [],
   "source": [
    "jgems = jlook.select('body > div.grid > div > div > div.detail__item.detail__item--new > div.detail__item-col._3.position-relative > form > div:nth-child(8)')"
   ]
  },
  {
   "cell_type": "code",
   "execution_count": 22,
   "metadata": {},
   "outputs": [
    {
     "data": {
      "text/plain": [
       "bs4.element.ResultSet"
      ]
     },
     "execution_count": 22,
     "metadata": {},
     "output_type": "execute_result"
    }
   ],
   "source": [
    "type(jgems)"
   ]
  },
  {
   "cell_type": "code",
   "execution_count": 115,
   "metadata": {},
   "outputs": [],
   "source": [
    "#jlook.find_all('div','detail__item-option')[0].text\n"
   ]
  },
  {
   "cell_type": "code",
   "execution_count": null,
   "metadata": {},
   "outputs": [],
   "source": [
    "<div class=\"detail__item-option\"><span>Камни:</span>\n",
    "                    28  Бриллиантов огранки \"Круглая\" граней - 57, <span class=\"href\" onclick=\"event.preventDefault(); window.open('/guide/stones/dragotsennye-kamni/brilliant/cutForm/'); event.stopPropagation();\">тип огранки</span> A, <span class=\"href\" onclick=\"event.preventDefault(); window.open('/guide/stones/dragotsennye-kamni/brilliant/razmer-tsvet-ves/'); event.stopPropagation();\">цвет</span> 3, <span class=\"href\" onclick=\"event.preventDefault(); window.open('/guide/quality/chistota-brillianta/'); event.stopPropagation();\">чистота</span> 6, 0.21 карат;<br>4  Бриллианта огранки \"Круглая\" граней - 57, <span class=\"href\" onclick=\"event.preventDefault(); window.open('/guide/stones/dragotsennye-kamni/brilliant/cutForm/'); event.stopPropagation();\">тип огранки</span> A, <span class=\"href\" onclick=\"event.preventDefault(); window.open('/guide/stones/dragotsennye-kamni/brilliant/razmer-tsvet-ves/'); event.stopPropagation();\">цвет</span> 3, <span class=\"href\" onclick=\"event.preventDefault(); window.open('/guide/quality/chistota-brillianta/'); event.stopPropagation();\">чистота</span> 6, 0.023 карат;<br>12  Бриллиантов огранки \"Круглая\" граней - 57, <span class=\"href\" onclick=\"event.preventDefault(); window.open('/guide/stones/dragotsennye-kamni/brilliant/cutForm/'); event.stopPropagation();\">тип огранки</span> A, <span class=\"href\" onclick=\"event.preventDefault(); window.open('/guide/stones/dragotsennye-kamni/brilliant/razmer-tsvet-ves/'); event.stopPropagation();\">цвет</span> 3, <span class=\"href\" onclick=\"event.preventDefault(); window.open('/guide/quality/chistota-brillianta/'); event.stopPropagation();\">чистота</span> 6, 0.105 карат;<br>12  Бриллиантов огранки \"Круглая\" граней - 57, <span class=\"href\" onclick=\"event.preventDefault(); window.open('/guide/stones/dragotsennye-kamni/brilliant/cutForm/'); event.stopPropagation();\">тип огранки</span> A, <span class=\"href\" onclick=\"event.preventDefault(); window.open('/guide/stones/dragotsennye-kamni/brilliant/razmer-tsvet-ves/'); event.stopPropagation();\">цвет</span> 3, <span class=\"href\" onclick=\"event.preventDefault(); window.open('/guide/quality/chistota-brillianta/'); event.stopPropagation();\">чистота</span> 6, 0.114 карат;<br>4  Бриллианта огранки \"Круглая\" граней - 57, <span class=\"href\" onclick=\"event.preventDefault(); window.open('/guide/stones/dragotsennye-kamni/brilliant/cutForm/'); event.stopPropagation();\">тип огранки</span> A, <span class=\"href\" onclick=\"event.preventDefault(); window.open('/guide/stones/dragotsennye-kamni/brilliant/razmer-tsvet-ves/'); event.stopPropagation();\">цвет</span> 3, <span class=\"href\" onclick=\"event.preventDefault(); window.open('/guide/quality/chistota-brillianta/'); event.stopPropagation();\">чистота</span> 6, 0.084 карат;<br>2  Бриллианта огранки \"Багет\" граней - 25, <span class=\"href\" onclick=\"event.preventDefault(); window.open('/guide/stones/dragotsennye-kamni/brilliant/cutForm/'); event.stopPropagation();\">тип огранки</span> A, <span class=\"href\" onclick=\"event.preventDefault(); window.open('/guide/stones/dragotsennye-kamni/brilliant/razmer-tsvet-ves/'); event.stopPropagation();\">цвет</span> 3, <span class=\"href\" onclick=\"event.preventDefault(); window.open('/guide/quality/chistota-brillianta/'); event.stopPropagation();\">чистота</span> 5, 0.068 карат;<br>2  Бриллианта огранки \"Багет\" граней - 25, <span class=\"href\" onclick=\"event.preventDefault(); window.open('/guide/stones/dragotsennye-kamni/brilliant/cutForm/'); event.stopPropagation();\">тип огранки</span> A, <span class=\"href\" onclick=\"event.preventDefault(); window.open('/guide/stones/dragotsennye-kamni/brilliant/razmer-tsvet-ves/'); event.stopPropagation();\">цвет</span> 3, <span class=\"href\" onclick=\"event.preventDefault(); window.open('/guide/quality/chistota-brillianta/'); event.stopPropagation();\">чистота</span> 5, 0.067 карат;<br>3  Бриллианта огранки \"Багет\" граней - 25, <span class=\"href\" onclick=\"event.preventDefault(); window.open('/guide/stones/dragotsennye-kamni/brilliant/cutForm/'); event.stopPropagation();\">тип огранки</span> A, <span class=\"href\" onclick=\"event.preventDefault(); window.open('/guide/stones/dragotsennye-kamni/brilliant/razmer-tsvet-ves/'); event.stopPropagation();\">цвет</span> 3, <span class=\"href\" onclick=\"event.preventDefault(); window.open('/guide/quality/chistota-brillianta/'); event.stopPropagation();\">чистота</span> 5, 0.325 карат;<br>                </div>"
   ]
  },
  {
   "cell_type": "code",
   "execution_count": null,
   "metadata": {},
   "outputs": [],
   "source": []
  },
  {
   "cell_type": "code",
   "execution_count": 114,
   "metadata": {
    "scrolled": true
   },
   "outputs": [],
   "source": [
    "#re.findall(r'<div class=\"detail__item-option\"><span>Камни:</span>[\\w\\W]+?\\s*</div>',str(jlook))[0]"
   ]
  },
  {
   "cell_type": "code",
   "execution_count": null,
   "metadata": {},
   "outputs": [],
   "source": [
    "re.search(r'Камни:\\s+([\\w\\W]+)', str(div_gems[0].text.strip()))[1]"
   ]
  },
  {
   "cell_type": "code",
   "execution_count": 113,
   "metadata": {},
   "outputs": [],
   "source": [
    "#jgems[0].text"
   ]
  },
  {
   "cell_type": "code",
   "execution_count": 31,
   "metadata": {},
   "outputs": [],
   "source": [
    "data = pd.DataFrame(columns=['h1','art','price','gold','weight','gems','url'])"
   ]
  },
  {
   "cell_type": "code",
   "execution_count": 32,
   "metadata": {},
   "outputs": [],
   "source": [
    " pd.options.display.max_colwidth = 200"
   ]
  },
  {
   "cell_type": "code",
   "execution_count": 26,
   "metadata": {},
   "outputs": [
    {
     "data": {
      "text/plain": [
       "'https://miuz.ru/catalog/rings/R01-34893-EM/'"
      ]
     },
     "execution_count": 26,
     "metadata": {},
     "output_type": "execute_result"
    }
   ],
   "source": [
    "urlcard = domain +links[0]\n",
    "urlcard"
   ]
  },
  {
   "cell_type": "code",
   "execution_count": 112,
   "metadata": {},
   "outputs": [],
   "source": [
    "#data"
   ]
  },
  {
   "cell_type": "code",
   "execution_count": null,
   "metadata": {},
   "outputs": [],
   "source": [
    "#отладка ручной прогон"
   ]
  },
  {
   "cell_type": "code",
   "execution_count": 89,
   "metadata": {},
   "outputs": [],
   "source": [
    "#urlcard = 'https://miuz.ru/catalog/rings/R01-ALR52-090-G1/'"
   ]
  },
  {
   "cell_type": "code",
   "execution_count": 27,
   "metadata": {},
   "outputs": [],
   "source": [
    "card = mysoup(urlcard)"
   ]
  },
  {
   "cell_type": "code",
   "execution_count": 111,
   "metadata": {},
   "outputs": [],
   "source": [
    "#card"
   ]
  },
  {
   "cell_type": "code",
   "execution_count": 116,
   "metadata": {},
   "outputs": [],
   "source": [
    "#re.findall(r'<div class=\"detail__item-option\"><span>Камни:</span>([\\w\\W]+?)\\s*</div>',str(card))"
   ]
  },
  {
   "cell_type": "code",
   "execution_count": 35,
   "metadata": {},
   "outputs": [],
   "source": [
    "row = len(data)"
   ]
  },
  {
   "cell_type": "code",
   "execution_count": 36,
   "metadata": {},
   "outputs": [],
   "source": [
    "data.loc[row,'url'] = urlcard"
   ]
  },
  {
   "cell_type": "code",
   "execution_count": 37,
   "metadata": {},
   "outputs": [],
   "source": [
    "data.loc[row,'h1'] = card.find(\"h1\").text.strip()"
   ]
  },
  {
   "cell_type": "code",
   "execution_count": 38,
   "metadata": {},
   "outputs": [],
   "source": [
    "data.loc[row,'art'] = card.select('body > div.grid > div > div > div.shops__breadcrumbs.catalog_breadcrumbs > div > div:nth-child(4) > span > span')\n"
   ]
  },
  {
   "cell_type": "code",
   "execution_count": 103,
   "metadata": {},
   "outputs": [
    {
     "data": {
      "text/plain": [
       "[<span itemprop=\"name\">Артикул R01-WED-00039-W</span>]"
      ]
     },
     "execution_count": 103,
     "metadata": {},
     "output_type": "execute_result"
    }
   ],
   "source": [
    "card.select('body > div.grid > div > div > div.shops__breadcrumbs.catalog_breadcrumbs > div > div:nth-child(4) > span > span')"
   ]
  },
  {
   "cell_type": "code",
   "execution_count": 39,
   "metadata": {},
   "outputs": [],
   "source": [
    "data.loc[row,'price'] = float(''.join(re.findall(r'\\d+', card.find('div',\"detail__item-price-new\").text)))"
   ]
  },
  {
   "cell_type": "code",
   "execution_count": 40,
   "metadata": {},
   "outputs": [],
   "source": [
    "data.loc[row,'gold'] = re.findall(r\"(Золото\\s+\\d+)\",str(card))[0]"
   ]
  },
  {
   "cell_type": "code",
   "execution_count": 41,
   "metadata": {},
   "outputs": [],
   "source": [
    "div_gems = card.select('body > div.grid > div > div > div.detail__item.detail__item--new > div.detail__item-col._3.position-relative > form > div:nth-child(8)')"
   ]
  },
  {
   "cell_type": "code",
   "execution_count": 42,
   "metadata": {},
   "outputs": [],
   "source": [
    "div_gems = card.find_all('div','detail__item-option')[3]"
   ]
  },
  {
   "cell_type": "code",
   "execution_count": 59,
   "metadata": {},
   "outputs": [
    {
     "data": {
      "text/plain": [
       "'\\nВес:\\n                    2.72 г.                '"
      ]
     },
     "execution_count": 59,
     "metadata": {},
     "output_type": "execute_result"
    }
   ],
   "source": [
    "card.find_all('div','detail__item-option')[1].text\n"
   ]
  },
  {
   "cell_type": "code",
   "execution_count": 44,
   "metadata": {},
   "outputs": [
    {
     "data": {
      "text/plain": [
       "4"
      ]
     },
     "execution_count": 44,
     "metadata": {},
     "output_type": "execute_result"
    }
   ],
   "source": [
    "len(card.find_all('div','detail__item-option'))"
   ]
  },
  {
   "cell_type": "code",
   "execution_count": 45,
   "metadata": {},
   "outputs": [
    {
     "data": {
      "text/plain": [
       "0"
      ]
     },
     "execution_count": 45,
     "metadata": {},
     "output_type": "execute_result"
    }
   ],
   "source": [
    "len(jlook.find_all('div','detail__item-option'))"
   ]
  },
  {
   "cell_type": "code",
   "execution_count": 117,
   "metadata": {},
   "outputs": [],
   "source": [
    "#jlook.find_all('div','detail__item-option')[].text"
   ]
  },
  {
   "cell_type": "code",
   "execution_count": 108,
   "metadata": {},
   "outputs": [],
   "source": [
    "#str(card)"
   ]
  },
  {
   "cell_type": "code",
   "execution_count": 109,
   "metadata": {},
   "outputs": [],
   "source": [
    "#re.search(r'Камни:\\s+([\\w\\W]+)', str(div_gems.text.strip()))"
   ]
  },
  {
   "cell_type": "code",
   "execution_count": 118,
   "metadata": {},
   "outputs": [],
   "source": [
    " #str(div_gems.text.strip())"
   ]
  },
  {
   "cell_type": "code",
   "execution_count": 110,
   "metadata": {},
   "outputs": [],
   "source": [
    "#data.loc[row,'gems'] = re.search(r'Камни:\\s+([\\w\\W]+)', str(div_gems.text.strip()))[1]"
   ]
  },
  {
   "cell_type": "code",
   "execution_count": 67,
   "metadata": {},
   "outputs": [],
   "source": [
    "data.loc[row,'weight'] = float(re.findall(r\"(?:Вес:\\n)\\s+(\\d+.\\d+)\",\n",
    "                                          card.find_all('div','detail__item-option')[1].text)[0])"
   ]
  },
  {
   "cell_type": "code",
   "execution_count": 65,
   "metadata": {},
   "outputs": [
    {
     "data": {
      "text/plain": [
       "'\\nВес:\\n                    2.72 г.                '"
      ]
     },
     "execution_count": 65,
     "metadata": {},
     "output_type": "execute_result"
    }
   ],
   "source": [
    "card.find_all('div','detail__item-option')[1].text"
   ]
  },
  {
   "cell_type": "code",
   "execution_count": 86,
   "metadata": {},
   "outputs": [
    {
     "data": {
      "text/plain": [
       "'2.72'"
      ]
     },
     "execution_count": 86,
     "metadata": {},
     "output_type": "execute_result"
    }
   ],
   "source": [
    "re.findall(r\"(?:Вес:\\n)\\s+(\\d+.\\d+)\",card.find_all('div','detail__item-option')[1].text)[0]"
   ]
  },
  {
   "cell_type": "code",
   "execution_count": 76,
   "metadata": {},
   "outputs": [],
   "source": [
    "div_gems = card.select('body > div.grid > div > div > div.detail__item.detail__item--new > div.detail__item-col._3.position-relative > form > div:nth-child(8)')"
   ]
  },
  {
   "cell_type": "code",
   "execution_count": 83,
   "metadata": {},
   "outputs": [
    {
     "data": {
      "text/plain": [
       "'8  Бриллиантов огранки \"Круглая\" граней - 57, тип огранки A, цвет 3, чистота 6, 0.22 карат;8  Бриллиантов огранки \"Круглая\" граней - 57, тип огранки A, цвет 3, чистота 6, 0.05 карат;1  Изумруд огранки \"Овал\", цвет 3, чистота 3, 0.65 карат;'"
      ]
     },
     "execution_count": 83,
     "metadata": {},
     "output_type": "execute_result"
    }
   ],
   "source": [
    "re.findall(r'Камни:\\s+([\\w\\W]+)',div_gems[0].text.strip())[0]"
   ]
  },
  {
   "cell_type": "markdown",
   "metadata": {},
   "source": [
    "### Работающая строка (18-04-2022)"
   ]
  },
  {
   "cell_type": "code",
   "execution_count": 87,
   "metadata": {},
   "outputs": [],
   "source": [
    " \n",
    "data.loc[row,'gold'] = re.findall(r\"(Золото\\s+\\d+)\",str(card))[0]\n",
    "data.loc[row,'weight'] = float(re.findall(r\"(?:Вес:\\n)\\s+(\\d+.\\d+)\",\n",
    "                                          card.find_all('div','detail__item-option')[1].text)[0])\n",
    "#data.loc[row,'weight'] = float(re.findall(r\"(?:Вес:\\n)\\s+(\\d+.\\d+)\",str(card))[1])\n",
    "div_gems = card.select('body > div.grid > div > div > div.detail__item.detail__item--new > div.detail__item-col._3.position-relative > form > div:nth-child(8)')\n",
    "#data.loc[row,'gems'] = re.search(r'Камни:\\s+([\\w\\W]+)', str(div_gems[0].text.strip()))[1]\n",
    "data.loc[row,'gems'] = re.findall(r'Камни:\\s+([\\w\\W]+)',div_gems[0].text.strip())[0]"
   ]
  },
  {
   "cell_type": "code",
   "execution_count": null,
   "metadata": {},
   "outputs": [],
   "source": []
  },
  {
   "cell_type": "code",
   "execution_count": null,
   "metadata": {},
   "outputs": [],
   "source": []
  },
  {
   "cell_type": "code",
   "execution_count": 21,
   "metadata": {},
   "outputs": [],
   "source": [
    "#change 151121\n",
    "data.loc[row,'art'] = card.select('body > div.grid > div > div > div.detail__item.detail__item--new > div.detail__item-col._3.position-relative > div.title-line > meta:nth-child(1)')"
   ]
  },
  {
   "cell_type": "code",
   "execution_count": 22,
   "metadata": {},
   "outputs": [],
   "source": [
    "data.loc[row,'price'] = float(''.join(re.findall(r'\\d+', card.find('div',\"detail__item-price-new\").text)))"
   ]
  },
  {
   "cell_type": "code",
   "execution_count": 25,
   "metadata": {},
   "outputs": [],
   "source": [
    "data.loc[row,'gold'] = re.findall(r\"(Золото\\s+\\d+)\",str(card))[0]"
   ]
  },
  {
   "cell_type": "code",
   "execution_count": 27,
   "metadata": {},
   "outputs": [],
   "source": [
    "data.loc[row,'weight'] = float(re.findall(r\"(?:Вес:</span>\\n)\\s+(\\d+.\\d+)\",str(card))[0])"
   ]
  },
  {
   "cell_type": "code",
   "execution_count": 62,
   "metadata": {},
   "outputs": [],
   "source": [
    "#div_gems = card.select('body > div.grid > div > div > div.detail__item.detail__item--new > div.detail__item-col._3.position-relative > form > div:nth-child(8)')\n",
    "#data.loc[row,'gems'] = re.search(r'Камни:\\s+([\\w\\W]+)', str(div_gems[0].text.strip()))[1]\n",
    "div_gems = re.findall(r'<div class=\"detail__item-option\"><span>Камни:</span>([\\w\\W]+?)\\s*</div>',str(card))\n",
    "\n",
    "data.loc[row,'gems'] = div_gems[0]"
   ]
  },
  {
   "cell_type": "markdown",
   "metadata": {},
   "source": [
    "## Собранная функция парсера по карточкам"
   ]
  },
  {
   "cell_type": "markdown",
   "metadata": {},
   "source": [
    "### Старая версия"
   ]
  },
  {
   "cell_type": "markdown",
   "metadata": {},
   "source": [
    "### Пошаговый разбор 24-05-2022"
   ]
  },
  {
   "cell_type": "code",
   "execution_count": 20,
   "metadata": {},
   "outputs": [],
   "source": [
    "urlcard = domain +links[1]"
   ]
  },
  {
   "cell_type": "code",
   "execution_count": 91,
   "metadata": {},
   "outputs": [],
   "source": [
    "card = mysoup('https://miuz.ru/catalog/rings/R2018-RR010203ADI/')"
   ]
  },
  {
   "cell_type": "code",
   "execution_count": 21,
   "metadata": {},
   "outputs": [],
   "source": [
    "#card = mysoup(urlcard)"
   ]
  },
  {
   "cell_type": "code",
   "execution_count": 92,
   "metadata": {},
   "outputs": [
    {
     "data": {
      "text/plain": [
       "'Кольцо c бриллиантом R2018-RR010203ADI'"
      ]
     },
     "execution_count": 92,
     "metadata": {},
     "output_type": "execute_result"
    }
   ],
   "source": [
    "card.find(\"h1\").text.strip()"
   ]
  },
  {
   "cell_type": "code",
   "execution_count": 93,
   "metadata": {},
   "outputs": [
    {
     "data": {
      "text/plain": [
       "'Артикул R2018-RR010203ADI'"
      ]
     },
     "execution_count": 93,
     "metadata": {},
     "output_type": "execute_result"
    }
   ],
   "source": [
    "card.select('body > div.grid > div > div > div.shops__breadcrumbs.catalog_breadcrumbs > div > div:nth-child(4) > span > span')[0].text"
   ]
  },
  {
   "cell_type": "code",
   "execution_count": 94,
   "metadata": {},
   "outputs": [
    {
     "data": {
      "text/plain": [
       "27245.0"
      ]
     },
     "execution_count": 94,
     "metadata": {},
     "output_type": "execute_result"
    }
   ],
   "source": [
    "float(''.join(re.findall(r'\\d+', card.find(\n",
    "    \"div\",\"places-cont__price b-price\").find(\"div\", 'new').text)))"
   ]
  },
  {
   "cell_type": "code",
   "execution_count": null,
   "metadata": {},
   "outputs": [],
   "source": []
  },
  {
   "cell_type": "code",
   "execution_count": null,
   "metadata": {},
   "outputs": [],
   "source": []
  },
  {
   "cell_type": "markdown",
   "metadata": {},
   "source": [
    "### Версия 14-04-2022"
   ]
  },
  {
   "cell_type": "code",
   "execution_count": 12,
   "metadata": {},
   "outputs": [],
   "source": [
    "data = pd.DataFrame(columns=['h1','art','price','gold','weight','gems','url'])"
   ]
  },
  {
   "cell_type": "code",
   "execution_count": null,
   "metadata": {},
   "outputs": [
    {
     "name": "stdout",
     "output_type": "stream",
     "text": [
      "0 https://miuz.ru/catalog/rings/R01-35815EM/\n",
      "1 https://miuz.ru/catalog/rings/R01-EX-52694-EM/\n",
      "2 https://miuz.ru/catalog/pendants/P01-33599-SA/\n",
      "3 https://miuz.ru/catalog/earrings/E01-SS-35483-EM/\n",
      "4 https://miuz.ru/catalog/rings/R01-34095-SA/\n",
      "5 https://miuz.ru/catalog/rings/R01-L-35098-RO/\n",
      "6 https://miuz.ru/catalog/pendants/P01-L-35041-RO/\n",
      "7 https://miuz.ru/catalog/rings/R108-135248AQQ65SR/\n",
      "8 https://miuz.ru/catalog/earrings/E01-34419-SA/\n",
      "9 https://miuz.ru/catalog/earrings/E01-34511-SA/\n",
      "10 https://miuz.ru/catalog/earrings/E2017-E312786SAP/\n",
      "11 https://miuz.ru/catalog/earrings/E01-34579-EM/\n",
      "12 https://miuz.ru/catalog/necklace/N108-FST-0012/\n",
      "13 https://miuz.ru/catalog/rings/R108-FST-0023/\n",
      "14 https://miuz.ru/catalog/earrings/E755-69005E002-R17/\n",
      "15 https://miuz.ru/catalog/rings/R108-FST-0010/\n",
      "16 https://miuz.ru/catalog/earrings/E01-34449-EM/\n",
      "17 https://miuz.ru/catalog/rings/R01-34447-SA/\n",
      "18 https://miuz.ru/catalog/rings/R01-34384-EM/\n",
      "19 https://miuz.ru/catalog/rings/R01-33860-EM/\n",
      "20 https://miuz.ru/catalog/rings/R01-34968-EM/\n",
      "21 https://miuz.ru/catalog/bracelets/B01-59002-Z/\n",
      "22 https://miuz.ru/catalog/brooches/H2018-HRU1048ALS-R17/\n",
      "23 https://miuz.ru/catalog/brooches/H01-SS-35433-EM/\n",
      "24 https://miuz.ru/catalog/rings/R01-49013-EM/\n",
      "25 https://miuz.ru/catalog/earrings/E01-33617-EM/\n",
      "26 https://miuz.ru/catalog/earrings/E01-BS-0202-EM/\n",
      "27 https://miuz.ru/catalog/earrings/E01-34483-MIX/\n",
      "28 https://miuz.ru/catalog/earrings/E01-34408-SA/\n",
      "indexerror len of =  0\n",
      "29 https://miuz.ru/catalog/pendants/P01-34757-EM-W/\n",
      "30 https://miuz.ru/catalog/earrings/E01-34757-EM/\n",
      "31 https://miuz.ru/catalog/earrings/E01-34056-EM/\n",
      "32 https://miuz.ru/catalog/crosses/J01-SS-35493-EM/\n",
      "33 https://miuz.ru/catalog/earrings/E2017-E301401SAP/\n",
      "34 https://miuz.ru/catalog/earrings/E01-BS-0052-EM/\n",
      "35 https://miuz.ru/catalog/earrings/E01-SS-35454-EM/\n",
      "36 https://miuz.ru/catalog/earrings/E01-35858SA/\n",
      "37 https://miuz.ru/catalog/earrings/E01-34168-SA/\n",
      "38 https://miuz.ru/catalog/rings/R97-MR20173-SA/\n",
      "39 https://miuz.ru/catalog/brooches/H77-H61136-BKSA/\n",
      "40 https://miuz.ru/catalog/rings/R108-BS-0207-R17/\n",
      "41 https://miuz.ru/catalog/rings/R77-R61144-EM/\n",
      "42 https://miuz.ru/catalog/necklace/N97-MN2429-EM/\n",
      "43 https://miuz.ru/catalog/necklace/N77-N59857-CPSA/\n",
      "44 https://miuz.ru/catalog/necklace/N77-N59856-CPEM/\n",
      "45 https://miuz.ru/catalog/necklace/N77-N49333-SA-R17/\n",
      "46 https://miuz.ru/catalog/necklace/N77-N49336-SA-R17/\n",
      "47 https://miuz.ru/catalog/necklace/N755-04182N031/\n",
      "indexerror len of =  5\n",
      "48 https://miuz.ru/catalog/necklace/N4206-NK0707WSA1/\n",
      "indexerror len of =  4\n",
      "49 https://miuz.ru/catalog/necklace/N4041-SNK01668-001/\n",
      "indexerror len of =  5\n",
      "50 https://miuz.ru/catalog/necklace/N2022-SA2577NSA/\n",
      "indexerror len of =  5\n",
      "51 https://miuz.ru/catalog/necklace/N2022-SA2109-N/\n",
      "indexerror len of =  5\n",
      "52 https://miuz.ru/catalog/necklace/N2022-SA2042N/\n",
      "indexerror len of =  5\n",
      "53 https://miuz.ru/catalog/necklace/N2022-SA2577NEM/\n",
      "indexerror len of =  5\n",
      "54 https://miuz.ru/catalog/necklace/N2022-SA2382N/\n",
      "indexerror len of =  6\n",
      "55 https://miuz.ru/catalog/necklace/N2018-PC010038ASA/\n",
      "56 https://miuz.ru/catalog/necklace/N2018-NRU1056ALS/\n",
      "57 https://miuz.ru/catalog/necklace/N2018-PC010032ASA/\n",
      "indexerror len of =  5\n",
      "58 https://miuz.ru/catalog/necklace/N2018-NR040007AEM/\n",
      "indexerror len of =  5\n",
      "59 https://miuz.ru/catalog/necklace/N2018-NL040128AEM/\n",
      "indexerror len of =  5\n",
      "60 https://miuz.ru/catalog/necklace/N2018-NL040073AVE/\n",
      "indexerror len of =  5\n",
      "61 https://miuz.ru/catalog/necklace/N2018-NL040061ASA/\n",
      "62 https://miuz.ru/catalog/necklace/N2018-NC010033ASA/\n",
      "63 https://miuz.ru/catalog/necklace/N2018-NC010027AEM/\n",
      "64 https://miuz.ru/catalog/necklace/N2018-NC010027ASA/\n",
      "65 https://miuz.ru/catalog/necklace/N2018-NC010029ASA/\n",
      "66 https://miuz.ru/catalog/necklace/N2018-NC010028AEM/\n",
      "67 https://miuz.ru/catalog/necklace/N2018-NC010028ASA/\n",
      "68 https://miuz.ru/catalog/necklace/N2018-351706D1FQQUSN/\n",
      "69 https://miuz.ru/catalog/necklace/N2017-N312857SAP-R17/\n",
      "70 https://miuz.ru/catalog/necklace/N157-TGN052/\n",
      "71 https://miuz.ru/catalog/necklace/N157-TGN002/\n",
      "72 https://miuz.ru/catalog/necklace/N157-TGN001/\n",
      "73 https://miuz.ru/catalog/necklace/N157-MOSN012-2/\n",
      "74 https://miuz.ru/catalog/necklace/N157-MOSN009/\n",
      "75 https://miuz.ru/catalog/necklace/N157-MOSN007-2/\n",
      "76 https://miuz.ru/catalog/necklace/N157-MOSN005-2/\n",
      "77 https://miuz.ru/catalog/necklace/N157-MOSN006-1/\n",
      "78 https://miuz.ru/catalog/necklace/N157-MOSN010-2/\n",
      "79 https://miuz.ru/catalog/necklace/N157-MOSN005-1/\n",
      "80 https://miuz.ru/catalog/necklace/N157-MOSN002-1/\n",
      "81 https://miuz.ru/catalog/necklace/N157-MOSN003/\n",
      "82 https://miuz.ru/catalog/necklace/N157-MOSN004-2/\n",
      "83 https://miuz.ru/catalog/necklace/N157-MOSN001-1-EM/\n",
      "84 https://miuz.ru/catalog/necklace/N157-MOSN001-1/\n",
      "85 https://miuz.ru/catalog/necklace/N108-FST-0019/\n",
      "86 https://miuz.ru/catalog/necklace/N108-FST-0024/\n",
      "87 https://miuz.ru/catalog/necklace/N108-FST-0001/\n",
      "88 https://miuz.ru/catalog/necklace/N108-351703D1FQQBSN/\n",
      "89 https://miuz.ru/catalog/necklace/N108-351704D1FQQUSN/\n",
      "90 https://miuz.ru/catalog/necklace/N108-FST-0009/\n",
      "91 https://miuz.ru/catalog/necklace/N108-101020140S-R17/\n",
      "92 https://miuz.ru/catalog/necklace/N01-L-35223-EM/\n",
      "93 https://miuz.ru/catalog/necklace/N01-57507-SA/\n",
      "94 https://miuz.ru/catalog/necklace/N01-35811SA/\n",
      "95 https://miuz.ru/catalog/necklace/N01-35534-SA/\n",
      "indexerror len of =  0\n",
      "96 https://miuz.ru/catalog/necklace/N01-34420-EM/\n",
      "97 https://miuz.ru/catalog/necklace/N01-34619-SA/\n",
      "98 https://miuz.ru/catalog/earrings/E01-33811-SS/\n",
      "99 https://miuz.ru/catalog/rings/R755-46031R175/\n",
      "indexerror len of =  0\n",
      "100 https://miuz.ru/catalog/rings/R108-FST-0014/\n",
      "101 https://miuz.ru/catalog/pendants/P01-Y-34498-EM/\n",
      "102 https://miuz.ru/catalog/earrings/E108-FST-0020/\n",
      "103 https://miuz.ru/catalog/rings/R01-34095-EM/\n",
      "104 https://miuz.ru/catalog/earrings/E01-34447-SA/\n",
      "105 https://miuz.ru/catalog/rings/R01-35715-EM/\n",
      "106 https://miuz.ru/catalog/earrings/E01-35715-EM/\n",
      "107 https://miuz.ru/catalog/brooches/H2018-HRU1050ALS-R17/\n",
      "108 https://miuz.ru/catalog/rings/R108-FST-0018/\n",
      "109 https://miuz.ru/catalog/rings/R01-L-34866-RU/\n",
      "110 https://miuz.ru/catalog/rings/R01-34396-RO/\n",
      "111 https://miuz.ru/catalog/earrings/E01-34867-EM/\n",
      "112 https://miuz.ru/catalog/rings/R2018-RR03036AEM-R17/\n",
      "113 https://miuz.ru/catalog/rings/R01-L-35016-RO/\n",
      "114 https://miuz.ru/catalog/earrings/E2017-BRN-313920-R17/\n",
      "115 https://miuz.ru/catalog/earrings/E01-L-PL-35309-SA/\n",
      "116 https://miuz.ru/catalog/rings/R755-66788R002-R17/\n",
      "117 https://miuz.ru/catalog/rings/R755-66784R002-R17/\n",
      "118 https://miuz.ru/catalog/rings/R01-L-35419-SA/\n",
      "119 https://miuz.ru/catalog/rings/R01-34115-SA/\n",
      "120 https://miuz.ru/catalog/earrings/E01-SS-35787-EM/\n",
      "121 https://miuz.ru/catalog/earrings/E2018-ER030158-R17/\n",
      "122 https://miuz.ru/catalog/pendants/P01-SS-35787-EM/\n",
      "123 https://miuz.ru/catalog/earrings/E2017-E312816SAP/\n",
      "124 https://miuz.ru/catalog/rings/R01-9-33954-SY/\n",
      "125 https://miuz.ru/catalog/earrings/E108-FST-0002/\n",
      "126 https://miuz.ru/catalog/pendants/P01-34368-EM/\n",
      "127 https://miuz.ru/catalog/rings/R01-34596-SS/\n",
      "128 https://miuz.ru/catalog/earrings/E01-34672-ES/\n",
      "129 https://miuz.ru/catalog/earrings/E01-34265-SA/\n",
      "130 https://miuz.ru/catalog/crosses/J01-46524-SA/\n",
      "131 https://miuz.ru/catalog/rings/R4150-C-35052E-CIN/\n",
      "132 https://miuz.ru/catalog/brooches/H01-35004-SA/\n",
      "133 https://miuz.ru/catalog/earrings/E2017-E304113SAP-R17/\n",
      "134 https://miuz.ru/catalog/earrings/E01-46361-SA/\n",
      "135 https://miuz.ru/catalog/earrings/E01-R-34431-SA/\n",
      "136 https://miuz.ru/catalog/earrings/E755-E46029-SA/\n",
      "137 https://miuz.ru/catalog/pendants/P01-R-34501-EM/\n",
      "138 https://miuz.ru/catalog/rings/R4172-48457-EM/\n",
      "139 https://miuz.ru/catalog/earrings/E01-18375-EM/\n",
      "140 https://miuz.ru/catalog/rings/R97-MR17431-SA/\n",
      "141 https://miuz.ru/catalog/earrings/E131-E4383-EM/\n",
      "142 https://miuz.ru/catalog/rings/R396-LRGM13274S/\n",
      "143 https://miuz.ru/catalog/crosses/J108-198795DS-R17/\n",
      "144 https://miuz.ru/catalog/crosses/J01-SS-35495-EM/\n",
      "145 https://miuz.ru/catalog/crosses/J01-SS-35450-EM/\n",
      "indexerror len of =  0\n",
      "146 https://miuz.ru/catalog/crosses/J01-SS-35453-EM/\n",
      "147 https://miuz.ru/catalog/crosses/J01-SS-35494-EM/\n",
      "148 https://miuz.ru/catalog/crosses/J01-SS-35496-EM/\n",
      "149 https://miuz.ru/catalog/crosses/J01-BS-0122-SA/\n",
      "150 https://miuz.ru/catalog/crosses/J01-46524-EM/\n"
     ]
    },
    {
     "name": "stdout",
     "output_type": "stream",
     "text": [
      "151 https://miuz.ru/catalog/crosses/J01-33589-EM/\n",
      "152 https://miuz.ru/catalog/rings/R01-L-34846-EM/\n",
      "153 https://miuz.ru/catalog/rings/R97-MR18101-SA/\n",
      "154 https://miuz.ru/catalog/rings/R77-R58878-SA/\n",
      "155 https://miuz.ru/catalog/rings/R755-63883R014/\n",
      "156 https://miuz.ru/catalog/rings/R4150-C-LRT23845S/\n",
      "157 https://miuz.ru/catalog/rings/R4145-56579SA/\n",
      "error 'NoneType' object is not subscriptable\n",
      "158 https://miuz.ru/catalog/rings/R4150-C-LR789E-CIN/\n",
      "159 https://miuz.ru/catalog/rings/R4150-C-LR727S/\n",
      "indexerror len of =  0\n",
      "160 https://miuz.ru/catalog/rings/R2022-SA2477RRU/\n",
      "161 https://miuz.ru/catalog/rings/R2018-RRU1082AEM-R17/\n",
      "162 https://miuz.ru/catalog/rings/R2018-RRU1070ASA-R17/\n",
      "163 https://miuz.ru/catalog/rings/R2017-R300860EMR-R17/\n",
      "164 https://miuz.ru/catalog/rings/R131-R4383-SA/\n",
      "165 https://miuz.ru/catalog/rings/R108-351680ASE-R17/\n",
      "166 https://miuz.ru/catalog/rings/R01-SS-35436-EM/\n",
      "167 https://miuz.ru/catalog/rings/R01-SS-35505-EM/\n",
      "168 https://miuz.ru/catalog/rings/R01-L-35068-MIX/\n",
      "169 https://miuz.ru/catalog/rings/R01-L-35022-MIX/\n",
      "170 https://miuz.ru/catalog/rings/R01-L-34846-SA/\n",
      "171 https://miuz.ru/catalog/rings/R01-L-34591-ES-1/\n",
      "172 https://miuz.ru/catalog/rings/R01-EX-52840-RO/\n",
      "173 https://miuz.ru/catalog/rings/R01-FIT-30-35913SS/\n",
      "174 https://miuz.ru/catalog/rings/R01-52551-SA/\n",
      "175 https://miuz.ru/catalog/rings/R01-35815RO/\n",
      "176 https://miuz.ru/catalog/rings/R01-35670-SA/\n",
      "177 https://miuz.ru/catalog/rings/R01-35323-RO/\n",
      "178 https://miuz.ru/catalog/rings/R01-34968-SA/\n",
      "179 https://miuz.ru/catalog/rings/R01-34877-SA/\n",
      "180 https://miuz.ru/catalog/rings/R01-34877-RO/\n",
      "181 https://miuz.ru/catalog/rings/R01-34693-SS/\n",
      "182 https://miuz.ru/catalog/rings/R01-34693-RO/\n",
      "183 https://miuz.ru/catalog/rings/R01-34690-SS/\n",
      "184 https://miuz.ru/catalog/rings/R01-34587-ES/\n",
      "185 https://miuz.ru/catalog/rings/R01-34583-SS/\n",
      "186 https://miuz.ru/catalog/rings/R01-34575-SS/\n",
      "187 https://miuz.ru/catalog/rings/R01-34515-SS/\n",
      "188 https://miuz.ru/catalog/rings/R01-34485-SS/\n",
      "189 https://miuz.ru/catalog/rings/R01-34486-SS/\n",
      "190 https://miuz.ru/catalog/rings/R01-34471-SS/\n",
      "191 https://miuz.ru/catalog/rings/R01-34437-SS/\n",
      "192 https://miuz.ru/catalog/rings/R01-34396-EM/\n",
      "193 https://miuz.ru/catalog/rings/R01-34368-EM/\n",
      "194 https://miuz.ru/catalog/rings/R01-34326-SA/\n",
      "195 https://miuz.ru/catalog/rings/R01-34220-RO/\n"
     ]
    }
   ],
   "source": [
    "#16-06-2022 Для Алексея Сапфир Изумруд Рубин\n",
    "#24-05-2022\n",
    "#14-04-2022\n",
    "\n",
    "for i in range(len(links)):\n",
    "    try:\n",
    "        urlcard = domain +links[i]\n",
    "        card = mysoup(urlcard)\n",
    "        row = len(data)\n",
    "        data.loc[row,'url'] = urlcard\n",
    "        data.loc[row,'h1'] = card.find(\"h1\").text.strip()\n",
    "        data.loc[row,'art'] = card.select(\n",
    "            'body > div.grid > div > div > div.shops__breadcrumbs.catalog_breadcrumbs > div > div:nth-child(4) > span > span')[0].text\n",
    "        data.loc[row,'price'] = float(''.join(re.findall(r'\\d+', card.find(\n",
    "            \"div\",\"places-cont__price b-price\").find(\"div\", 'new').text)))\n",
    "        \n",
    "        #data.loc[row,'price'] = float(''.join(re.findall(r'\\d+', card.find('div',\"detail__item-price-new\").text)))\n",
    "        data.loc[row,'gold'] = re.findall(r\"(Золото\\s+\\d+)\",str(card))[0]\n",
    "        data.loc[row,'weight'] = float(re.findall(r\"(?:Вес:</span>\\n)\\s+(\\d+.\\d+)\",str(card))[0])\n",
    "        div_gems = card.select('body > div.grid > div > div > div.detail__item.detail__item--new > div.detail__item-col._3.position-relative > form > div:nth-child(8)')\n",
    "        data.loc[row,'gems'] = re.search(r'Камни:\\s+([\\w\\W]+)', str(div_gems[0].text.strip()))[1]\n",
    "    except (AttributeError,TypeError) as e:\n",
    "        print('error',e)\n",
    "    except IndexError:\n",
    "        print('indexerror len of = ' , len(card.find_all('div','detail__item-option')) )\n",
    "    print(i, urlcard)\n"
   ]
  },
  {
   "cell_type": "code",
   "execution_count": 15,
   "metadata": {
    "scrolled": true
   },
   "outputs": [
    {
     "data": {
      "text/html": [
       "<div>\n",
       "<style scoped>\n",
       "    .dataframe tbody tr th:only-of-type {\n",
       "        vertical-align: middle;\n",
       "    }\n",
       "\n",
       "    .dataframe tbody tr th {\n",
       "        vertical-align: top;\n",
       "    }\n",
       "\n",
       "    .dataframe thead th {\n",
       "        text-align: right;\n",
       "    }\n",
       "</style>\n",
       "<table border=\"1\" class=\"dataframe\">\n",
       "  <thead>\n",
       "    <tr style=\"text-align: right;\">\n",
       "      <th></th>\n",
       "      <th>h1</th>\n",
       "      <th>art</th>\n",
       "      <th>price</th>\n",
       "      <th>gold</th>\n",
       "      <th>weight</th>\n",
       "      <th>gems</th>\n",
       "      <th>url</th>\n",
       "    </tr>\n",
       "  </thead>\n",
       "  <tbody>\n",
       "    <tr>\n",
       "      <th>0</th>\n",
       "      <td>Кольцо c бриллиантами и изумрудом R01-35815EM</td>\n",
       "      <td>Артикул R01-35815EM</td>\n",
       "      <td>186219.0</td>\n",
       "      <td>Золото 585</td>\n",
       "      <td>3.16</td>\n",
       "      <td>36  Бриллиантов огранки \"Круглая\" граней - 57,...</td>\n",
       "      <td>https://miuz.ru/catalog/rings/R01-35815EM/</td>\n",
       "    </tr>\n",
       "    <tr>\n",
       "      <th>1</th>\n",
       "      <td>Кольцо c бриллиантами и изумрудами R01-EX-5269...</td>\n",
       "      <td>Артикул R01-EX-52694-EM</td>\n",
       "      <td>279819.0</td>\n",
       "      <td>Золото 585</td>\n",
       "      <td>4.64</td>\n",
       "      <td>6  Бриллиантов огранки \"Круглая\" граней - 57, ...</td>\n",
       "      <td>https://miuz.ru/catalog/rings/R01-EX-52694-EM/</td>\n",
       "    </tr>\n",
       "    <tr>\n",
       "      <th>2</th>\n",
       "      <td>Подвеска c бриллиантами и сапфиром P01-33599-SA</td>\n",
       "      <td>Артикул P01-33599-SA</td>\n",
       "      <td>151745.0</td>\n",
       "      <td>Золото 585</td>\n",
       "      <td>2.28</td>\n",
       "      <td>31  Бриллиант огранки \"Круглая\" граней - 57, т...</td>\n",
       "      <td>https://miuz.ru/catalog/pendants/P01-33599-SA/</td>\n",
       "    </tr>\n",
       "    <tr>\n",
       "      <th>3</th>\n",
       "      <td>Серьги c бриллиантами и изумрудами E01-SS-3548...</td>\n",
       "      <td>Артикул E01-SS-35483-EM</td>\n",
       "      <td>60995.0</td>\n",
       "      <td>Золото 585</td>\n",
       "      <td>2.53</td>\n",
       "      <td>2  Изумруда огранки \"Овал\", цвет 3, чистота 3,...</td>\n",
       "      <td>https://miuz.ru/catalog/earrings/E01-SS-35483-EM/</td>\n",
       "    </tr>\n",
       "    <tr>\n",
       "      <th>4</th>\n",
       "      <td>Кольцо c бриллиантами и сапфирами R01-34095-SA</td>\n",
       "      <td>Артикул R01-34095-SA</td>\n",
       "      <td>75394.0</td>\n",
       "      <td>Золото 585</td>\n",
       "      <td>3.13</td>\n",
       "      <td>7  Сапфиров огранки \"Овал\", цвет 3, чистота 3,...</td>\n",
       "      <td>https://miuz.ru/catalog/rings/R01-34095-SA/</td>\n",
       "    </tr>\n",
       "    <tr>\n",
       "      <th>5</th>\n",
       "      <td>Кольцо c бриллиантами и облагороженным рубином...</td>\n",
       "      <td>Артикул R01-L-35098-RO</td>\n",
       "      <td>24995.0</td>\n",
       "      <td>Золото 585</td>\n",
       "      <td>2.06</td>\n",
       "      <td>1  Облагороженный рубин огранки \"Овал\", тип ог...</td>\n",
       "      <td>https://miuz.ru/catalog/rings/R01-L-35098-RO/</td>\n",
       "    </tr>\n",
       "    <tr>\n",
       "      <th>6</th>\n",
       "      <td>Подвеска c бриллиантом и облагороженным рубино...</td>\n",
       "      <td>Артикул P01-L-35041-RO</td>\n",
       "      <td>13644.0</td>\n",
       "      <td>Золото 585</td>\n",
       "      <td>0.74</td>\n",
       "      <td>1  Бриллиант, Круглая огранка, тип огранки A, ...</td>\n",
       "      <td>https://miuz.ru/catalog/pendants/P01-L-35041-RO/</td>\n",
       "    </tr>\n",
       "    <tr>\n",
       "      <th>7</th>\n",
       "      <td>Кольцо c бриллиантами и сапфиром R108-135248AQ...</td>\n",
       "      <td>Артикул R108-135248AQQ65SR</td>\n",
       "      <td>113745.0</td>\n",
       "      <td>Золото 585</td>\n",
       "      <td>2.74</td>\n",
       "      <td>14  Бриллиантов огранки \"Круглая\" граней - 57,...</td>\n",
       "      <td>https://miuz.ru/catalog/rings/R108-135248AQQ65SR/</td>\n",
       "    </tr>\n",
       "    <tr>\n",
       "      <th>8</th>\n",
       "      <td>Серьги c бриллиантами и сапфирами E01-34419-SA</td>\n",
       "      <td>Артикул E01-34419-SA</td>\n",
       "      <td>230995.0</td>\n",
       "      <td>Золото 585</td>\n",
       "      <td>4.91</td>\n",
       "      <td>2  Сапфира огранки \"Груша\" граней - 56, цвет 3...</td>\n",
       "      <td>https://miuz.ru/catalog/earrings/E01-34419-SA/</td>\n",
       "    </tr>\n",
       "    <tr>\n",
       "      <th>9</th>\n",
       "      <td>Серьги c бриллиантами и сапфирами E01-34511-SA</td>\n",
       "      <td>Артикул E01-34511-SA</td>\n",
       "      <td>48745.0</td>\n",
       "      <td>Золото 585</td>\n",
       "      <td>3.48</td>\n",
       "      <td>4  Бриллианта огранки \"Круглая\" граней - 57, т...</td>\n",
       "      <td>https://miuz.ru/catalog/earrings/E01-34511-SA/</td>\n",
       "    </tr>\n",
       "  </tbody>\n",
       "</table>\n",
       "</div>"
      ],
      "text/plain": [
       "                                                  h1  \\\n",
       "0      Кольцо c бриллиантами и изумрудом R01-35815EM   \n",
       "1  Кольцо c бриллиантами и изумрудами R01-EX-5269...   \n",
       "2    Подвеска c бриллиантами и сапфиром P01-33599-SA   \n",
       "3  Серьги c бриллиантами и изумрудами E01-SS-3548...   \n",
       "4     Кольцо c бриллиантами и сапфирами R01-34095-SA   \n",
       "5  Кольцо c бриллиантами и облагороженным рубином...   \n",
       "6  Подвеска c бриллиантом и облагороженным рубино...   \n",
       "7  Кольцо c бриллиантами и сапфиром R108-135248AQ...   \n",
       "8     Серьги c бриллиантами и сапфирами E01-34419-SA   \n",
       "9     Серьги c бриллиантами и сапфирами E01-34511-SA   \n",
       "\n",
       "                          art     price        gold weight  \\\n",
       "0         Артикул R01-35815EM  186219.0  Золото 585   3.16   \n",
       "1     Артикул R01-EX-52694-EM  279819.0  Золото 585   4.64   \n",
       "2        Артикул P01-33599-SA  151745.0  Золото 585   2.28   \n",
       "3     Артикул E01-SS-35483-EM   60995.0  Золото 585   2.53   \n",
       "4        Артикул R01-34095-SA   75394.0  Золото 585   3.13   \n",
       "5      Артикул R01-L-35098-RO   24995.0  Золото 585   2.06   \n",
       "6      Артикул P01-L-35041-RO   13644.0  Золото 585   0.74   \n",
       "7  Артикул R108-135248AQQ65SR  113745.0  Золото 585   2.74   \n",
       "8        Артикул E01-34419-SA  230995.0  Золото 585   4.91   \n",
       "9        Артикул E01-34511-SA   48745.0  Золото 585   3.48   \n",
       "\n",
       "                                                gems  \\\n",
       "0  36  Бриллиантов огранки \"Круглая\" граней - 57,...   \n",
       "1  6  Бриллиантов огранки \"Круглая\" граней - 57, ...   \n",
       "2  31  Бриллиант огранки \"Круглая\" граней - 57, т...   \n",
       "3  2  Изумруда огранки \"Овал\", цвет 3, чистота 3,...   \n",
       "4  7  Сапфиров огранки \"Овал\", цвет 3, чистота 3,...   \n",
       "5  1  Облагороженный рубин огранки \"Овал\", тип ог...   \n",
       "6  1  Бриллиант, Круглая огранка, тип огранки A, ...   \n",
       "7  14  Бриллиантов огранки \"Круглая\" граней - 57,...   \n",
       "8  2  Сапфира огранки \"Груша\" граней - 56, цвет 3...   \n",
       "9  4  Бриллианта огранки \"Круглая\" граней - 57, т...   \n",
       "\n",
       "                                                 url  \n",
       "0         https://miuz.ru/catalog/rings/R01-35815EM/  \n",
       "1     https://miuz.ru/catalog/rings/R01-EX-52694-EM/  \n",
       "2     https://miuz.ru/catalog/pendants/P01-33599-SA/  \n",
       "3  https://miuz.ru/catalog/earrings/E01-SS-35483-EM/  \n",
       "4        https://miuz.ru/catalog/rings/R01-34095-SA/  \n",
       "5      https://miuz.ru/catalog/rings/R01-L-35098-RO/  \n",
       "6   https://miuz.ru/catalog/pendants/P01-L-35041-RO/  \n",
       "7  https://miuz.ru/catalog/rings/R108-135248AQQ65SR/  \n",
       "8     https://miuz.ru/catalog/earrings/E01-34419-SA/  \n",
       "9     https://miuz.ru/catalog/earrings/E01-34511-SA/  "
      ]
     },
     "execution_count": 15,
     "metadata": {},
     "output_type": "execute_result"
    }
   ],
   "source": [
    "data#.to_excel('temp10.xlsx')"
   ]
  },
  {
   "cell_type": "markdown",
   "metadata": {},
   "source": [
    "## save res"
   ]
  },
  {
   "cell_type": "code",
   "execution_count": 121,
   "metadata": {},
   "outputs": [],
   "source": [
    "import os"
   ]
  },
  {
   "cell_type": "code",
   "execution_count": 122,
   "metadata": {},
   "outputs": [
    {
     "data": {
      "text/plain": [
       "[(0, '.DS_Store'),\n",
       " (1, '.git'),\n",
       " (2, '.idea'),\n",
       " (3, '.ipynb_checkpoints'),\n",
       " (4, 'AnaliticRep031221.ipynb'),\n",
       " (5, 'AnaliticRep061221-KDM1C8.ipynb'),\n",
       " (6, 'AnaliticRep140422MUIZ_Кольца_с_брилл.ipynb'),\n",
       " (7, 'AnaliticRep220422EGELGE_брилл.ipynb'),\n",
       " (8, 'AnaliticRep240522MUIZ_Кольца_с_брилл.ipynb'),\n",
       " (9, 'Egelge_1after_parsing.ipynb'),\n",
       " (10, 'env'),\n",
       " (11, 'for_parsing_func.ipynb'),\n",
       " (12, 'jewels'),\n",
       " (13, 'MUIZ_justcode.ipynb'),\n",
       " (14, 'Parsing.html'),\n",
       " (15, 'ParsingEgelge.ipynb'),\n",
       " (16, 'ParsingKierge.ipynb'),\n",
       " (17, 'ParsingMiuz.ipynb'),\n",
       " (18, 'ParsingNKObyAita.ipynb'),\n",
       " (19, 'README.md'),\n",
       " (20, 'requiremnts.txt'),\n",
       " (21, 'results'),\n",
       " (22, 'rusprice'),\n",
       " (23, 'temp10.xlsx'),\n",
       " (24, 'Untitled.ipynb'),\n",
       " (25, 'Untitled1-Copy1.ipynb'),\n",
       " (26, 'Untitled1.ipynb'),\n",
       " (27, 'visio_matplotlib.ipynb')]"
      ]
     },
     "execution_count": 122,
     "metadata": {},
     "output_type": "execute_result"
    }
   ],
   "source": [
    "folders = os.listdir()\n",
    "[q for q in (enumerate(folders))]"
   ]
  },
  {
   "cell_type": "code",
   "execution_count": 123,
   "metadata": {},
   "outputs": [],
   "source": [
    "resfolder = folders[21]"
   ]
  },
  {
   "cell_type": "code",
   "execution_count": 124,
   "metadata": {},
   "outputs": [
    {
     "data": {
      "text/plain": [
       "'results'"
      ]
     },
     "execution_count": 124,
     "metadata": {},
     "output_type": "execute_result"
    }
   ],
   "source": [
    "resfolder"
   ]
  },
  {
   "cell_type": "code",
   "execution_count": null,
   "metadata": {},
   "outputs": [],
   "source": []
  },
  {
   "cell_type": "code",
   "execution_count": 125,
   "metadata": {},
   "outputs": [],
   "source": [
    "data.to_excel(resfolder+'/'+'mius240522_0-4154.xlsx')\n"
   ]
  },
  {
   "cell_type": "code",
   "execution_count": 126,
   "metadata": {},
   "outputs": [],
   "source": [
    "linkspd = pd.DataFrame(links)"
   ]
  },
  {
   "cell_type": "code",
   "execution_count": 127,
   "metadata": {},
   "outputs": [],
   "source": [
    "linkspd.rename(columns={0:'short'}, inplace=True)"
   ]
  },
  {
   "cell_type": "code",
   "execution_count": 128,
   "metadata": {},
   "outputs": [],
   "source": [
    "linkspd['path'] = domain +linkspd['short']"
   ]
  },
  {
   "cell_type": "code",
   "execution_count": 131,
   "metadata": {},
   "outputs": [],
   "source": [
    "linkspd.to_excel(resfolder+'/'+'links4154_2410522.xlsx')"
   ]
  },
  {
   "cell_type": "code",
   "execution_count": 318,
   "metadata": {},
   "outputs": [
    {
     "data": {
      "text/plain": [
       "[]"
      ]
     },
     "execution_count": 318,
     "metadata": {},
     "output_type": "execute_result"
    }
   ],
   "source": [
    "re.findall(r\"(?:Вес:</span>\\n)\\s+(\\d+.\\d+)\",str(card))"
   ]
  },
  {
   "cell_type": "code",
   "execution_count": null,
   "metadata": {},
   "outputs": [],
   "source": [
    "card = mysoup(urlcard)\n",
    "row = len(data)\n",
    "data.loc[row,'h1'] = card.find(\"h1\").text.strip()\n",
    "data.loc[row,'art'] = card.select('body > div.grid > div > div > div.shops__breadcrumbs.catalog_breadcrumbs > div > div:nth-child(4) > span > span')\n",
    "\n",
    "data.loc[row,'price'] = float(''.join(re.findall(r'\\d+', card.find('div',\"detail__item-price-new\").text)))\n",
    "              \n",
    "\n",
    "#quotes_inner = card.find_all('div', \"detail__item-option\")\n",
    "#quotes_inner\n",
    "\n",
    "data.loc[row,'gold'] = re.findall(r\"(Золото\\s+\\d+)\",str(quotes_inner[0]))[0]\n",
    "\n",
    "data.loc[row,'weight'] = float(re.findall(r\"(?:Вес:</span>\\n)\\s+(\\d+.\\d+)\",str(card))[0])\n",
    "\n",
    "div_gems = card.select('body > div.grid > div > div > div.detail__item.detail__item--new > div.detail__item-col._3.position-relative > form > div:nth-child(8)')\n",
    "\n",
    "data.loc[row,'gems'] = re.search(r'Камни:\\s+([\\w\\W]+)', str(div_gems[0].text.strip()))[1]\n"
   ]
  },
  {
   "cell_type": "code",
   "execution_count": null,
   "metadata": {},
   "outputs": [],
   "source": []
  },
  {
   "cell_type": "code",
   "execution_count": null,
   "metadata": {},
   "outputs": [],
   "source": []
  }
 ],
 "metadata": {
  "kernelspec": {
   "display_name": "Python 3",
   "language": "python",
   "name": "python3"
  },
  "language_info": {
   "codemirror_mode": {
    "name": "ipython",
    "version": 3
   },
   "file_extension": ".py",
   "mimetype": "text/x-python",
   "name": "python",
   "nbconvert_exporter": "python",
   "pygments_lexer": "ipython3",
   "version": "3.8.8"
  },
  "toc": {
   "base_numbering": 1,
   "nav_menu": {},
   "number_sections": true,
   "sideBar": true,
   "skip_h1_title": false,
   "title_cell": "Table of Contents",
   "title_sidebar": "Contents",
   "toc_cell": false,
   "toc_position": {},
   "toc_section_display": true,
   "toc_window_display": true
  }
 },
 "nbformat": 4,
 "nbformat_minor": 2
}
