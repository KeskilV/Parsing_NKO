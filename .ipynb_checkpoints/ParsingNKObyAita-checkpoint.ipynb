{
 "cells": [
  {
   "cell_type": "code",
   "execution_count": 1,
   "metadata": {},
   "outputs": [],
   "source": [
    "from bs4 import BeautifulSoup\n",
    "import requests\n",
    "from requests import Request, Session\n",
    "import pandas as pd"
   ]
  },
  {
   "cell_type": "code",
   "execution_count": 37,
   "metadata": {},
   "outputs": [],
   "source": [
    "po = 'Рак'\n",
    "#poisk = po\n",
    "#po = po.replace(' ', '+')\n",
    "urls0 = f'https://dobro.mail.ru/funds/search/?query={po}&recipient=all&city=any'"
   ]
  },
  {
   "cell_type": "code",
   "execution_count": 11,
   "metadata": {},
   "outputs": [],
   "source": [
    "urls = f'https://miuz.ru/catalog/rings/'"
   ]
  },
  {
   "cell_type": "code",
   "execution_count": 12,
   "metadata": {},
   "outputs": [],
   "source": [
    "response = requests.get(urls)"
   ]
  },
  {
   "cell_type": "code",
   "execution_count": 38,
   "metadata": {},
   "outputs": [],
   "source": [
    "response0 = requests.get(urls0)"
   ]
  },
  {
   "cell_type": "code",
   "execution_count": 14,
   "metadata": {},
   "outputs": [
    {
     "name": "stdout",
     "output_type": "stream",
     "text": [
      "===========================https://dobro.mail.ru/funds===========================\n"
     ]
    }
   ],
   "source": [
    "soup = BeautifulSoup(response.text, 'lxml')\n",
    "quotes = soup.find_all('div', class_=\"product\")\n",
    "print('===========================https://dobro.mail.ru/funds===========================')"
   ]
  },
  {
   "cell_type": "code",
   "execution_count": 42,
   "metadata": {},
   "outputs": [],
   "source": [
    "soup0 = BeautifulSoup(response0.text, 'lxml')\n",
    "quotes0 = soup0.find_all('div', class_='cols__column cols__column_small_percent-100 cols__column_medium_percent-50 cols__column_large_percent-50')"
   ]
  },
  {
   "cell_type": "code",
   "execution_count": 31,
   "metadata": {},
   "outputs": [
    {
     "data": {
      "text/plain": [
       "'<div class=\"product\">\\n <a data-href=\"/catalog/rings/R01-33896-SA/\" href=\"/catalog/rings/R01-33896-SA/\" onclick=\"\" title=\"Кольцо c бриллиантами и сапфиром\">\\n </a>\\n <div class=\"product__inner\">\\n  <div class=\"product__img js-lazyload\" data-src=\"/upload/resize_cache/iblock/2e1/242_254_2a1fde8d5e7dcaa11be442336c9d37f5e/R01_33896_SA.jpg\" data-time=\"1000\">\\n  </div>\\n  <div class=\"product__price\">\\n   <sup>\\n    от\\n   </sup>\\n   <span class=\"product__price-val\">\\n    191 490\\n   </span>\\n   <span class=\"rub\">\\n   </span>\\n   <div class=\"product__sizes product__sizes_cart\">\\n    <div class=\"product__sizes-price product__sizes-price_credit\" data-target=\"credit_item\">\\n     <span class=\"href href-additionally\">\\n      в кредит от\\n     </span>\\n     <span class=\"product__price-new\">\\n      19 149\\n      <span class=\"rub\">\\n      </span>\\n     </span>\\n    </div>\\n   </div>\\n  </div>\\n </div>\\n <div class=\"product__overlay\">\\n  <div class=\"product__info\">\\n   <div class=\"product__name_catalog_list\">\\n    Кольцо c бриллиантами и сапфиром\\n   </div>\\n   <span>\\n    Цвет металла:\\n   </span>\\n   <span class=\"product__colors\">\\n    <span class=\"href\" onclick=\"event.preventDefault();window.location.href=\\'/catalog/rings/R01-33896-SA/?PROPERTY_METALL_COLOR=1458749192_26\\';BX &amp;&amp; BX.rtb ? BX.rtb(\\'unknown\\').sizeProduct(\\'Белый\\') : \\'\\'\">\\n     <span class=\"ico\" style=\"background-color: #ffffff; border-color:#ccc;;\">\\n     </span>\\n    </span>\\n   </span>\\n   <span>\\n    Размеры в наличии:\\n   </span>\\n   <span class=\"product__sizes\">\\n    <span class=\"href\" onclick=\"event.preventDefault();window.location.href=\\'/catalog/rings/R01-33896-SA/?PROPERTY_ITEM_SIZE=1470930096_11\\'; BX &amp;&amp; BX.rtb ? BX.rtb(\\'unknown\\').sizeProduct(\\'15\\') : \\'\\'\">\\n     15\\n    </span>\\n    <span class=\"href\" onclick=\"event.preventDefault();window.location.href=\\'/catalog/rings/R01-33896-SA/?PROPERTY_ITEM_SIZE=1470930096_8\\'; BX &amp;&amp; BX.rtb ? BX.rtb(\\'unknown\\').sizeProduct(\\'15.5\\') : \\'\\'\">\\n     15.5\\n    </span>\\n    <span class=\"href\" onclick=\"event.preventDefault();window.location.href=\\'/catalog/rings/R01-33896-SA/?PROPERTY_ITEM_SIZE=1470930096_7\\'; BX &amp;&amp; BX.rtb ? BX.rtb(\\'unknown\\').sizeProduct(\\'16\\') : \\'\\'\">\\n     16\\n    </span>\\n    <span class=\"href\" onclick=\"event.preventDefault();window.location.href=\\'/catalog/rings/R01-33896-SA/?PROPERTY_ITEM_SIZE=1470930096_5\\'; BX &amp;&amp; BX.rtb ? BX.rtb(\\'unknown\\').sizeProduct(\\'16.5\\') : \\'\\'\">\\n     16.5\\n    </span>\\n    <span class=\"href\" onclick=\"event.preventDefault();window.location.href=\\'/catalog/rings/R01-33896-SA/?PROPERTY_ITEM_SIZE=1470930096_1\\'; BX &amp;&amp; BX.rtb ? BX.rtb(\\'unknown\\').sizeProduct(\\'17\\') : \\'\\'\">\\n     17\\n    </span>\\n    <span class=\"href\" onclick=\"event.preventDefault();window.location.href=\\'/catalog/rings/R01-33896-SA/?PROPERTY_ITEM_SIZE=1470930096_4\\'; BX &amp;&amp; BX.rtb ? BX.rtb(\\'unknown\\').sizeProduct(\\'17.5\\') : \\'\\'\">\\n     17.5\\n    </span>\\n    <span class=\"href\" onclick=\"event.preventDefault();window.location.href=\\'/catalog/rings/R01-33896-SA/?PROPERTY_ITEM_SIZE=1470930096_3\\'; BX &amp;&amp; BX.rtb ? BX.rtb(\\'unknown\\').sizeProduct(\\'18\\') : \\'\\'\">\\n     18\\n    </span>\\n    <span class=\"href\" onclick=\"event.preventDefault();window.location.href=\\'/catalog/rings/R01-33896-SA/?PROPERTY_ITEM_SIZE=1470930096_2\\'; BX &amp;&amp; BX.rtb ? BX.rtb(\\'unknown\\').sizeProduct(\\'18.5\\') : \\'\\'\">\\n     18.5\\n    </span>\\n    <span class=\"href\" onclick=\"event.preventDefault();window.location.href=\\'/catalog/rings/R01-33896-SA/?PROPERTY_ITEM_SIZE=1470930096_9\\'; BX &amp;&amp; BX.rtb ? BX.rtb(\\'unknown\\').sizeProduct(\\'19\\') : \\'\\'\">\\n     19\\n    </span>\\n   </span>\\n   <br/>\\n   <div class=\"product__sizes\">\\n    <div class=\"product__sizes-icon\">\\n    </div>\\n    <div class=\"product__sizes-price\" data-target=\"credit_listing\">\\n     <span class=\"href\" onclick=\"event.preventDefault();window.location.href=\\'/credit/\\';\">\\n      в кредит от\\n     </span>\\n     <span class=\"product__price-new\">\\n      17 429\\n      <span class=\"rub\">\\n      </span>\\n     </span>\\n    </div>\\n   </div>\\n  </div>\\n </div>\\n</div>\\n'"
      ]
     },
     "execution_count": 31,
     "metadata": {},
     "output_type": "execute_result"
    }
   ],
   "source": [
    "quotes[2].prettify()"
   ]
  },
  {
   "cell_type": "code",
   "execution_count": 53,
   "metadata": {},
   "outputs": [
    {
     "data": {
      "text/plain": [
       "'Кольцо c бриллиантами и сапфиром'"
      ]
     },
     "execution_count": 53,
     "metadata": {},
     "output_type": "execute_result"
    }
   ],
   "source": [
    "name = str(quotes[2].find('div',\"product__name_catalog_list\"))\n",
    "name = name.replace('<div class=\"product__name_catalog_list\">\\n','').replace('</div>','').strip()\n",
    "name"
   ]
  },
  {
   "cell_type": "code",
   "execution_count": 58,
   "metadata": {},
   "outputs": [
    {
     "data": {
      "text/plain": [
       "'19 149'"
      ]
     },
     "execution_count": 58,
     "metadata": {},
     "output_type": "execute_result"
    }
   ],
   "source": [
    "pricenew = str(quotes[2].find('span',\"product__price-new\"))\n",
    "pricenew.replace('<span class=\"product__price-new\">','').replace( '<span class=\"rub\"></span>\\n</span>','').strip()"
   ]
  },
  {
   "cell_type": "code",
   "execution_count": 48,
   "metadata": {},
   "outputs": [
    {
     "data": {
      "text/plain": [
       "<span class=\"link__text\">Фонд медицинских решений \"Не напрасно\"</span>"
      ]
     },
     "execution_count": 48,
     "metadata": {},
     "output_type": "execute_result"
    }
   ],
   "source": [
    "quotes0[3].find('span', 'link__text')"
   ]
  },
  {
   "cell_type": "code",
   "execution_count": 64,
   "metadata": {},
   "outputs": [
    {
     "data": {
      "text/plain": [
       "<span class=\"href href-additionally\">в кредит от</span>"
      ]
     },
     "execution_count": 64,
     "metadata": {},
     "output_type": "execute_result"
    }
   ],
   "source": [
    "quotes[1].find('span',\"href\")"
   ]
  },
  {
   "cell_type": "code",
   "execution_count": 63,
   "metadata": {},
   "outputs": [
    {
     "data": {
      "text/plain": [
       "<div class=\"product\">\n",
       "<a data-href=\"/catalog/rings/R01-WED-00084-MIX/\" href=\"/catalog/rings/R01-WED-00084-MIX/\" onclick=\"\" title=\"Кольцо\"></a>\n",
       "<div class=\"product__inner\">\n",
       "<div class=\"product__img js-lazyload\" data-src=\"/upload/resize_cache/iblock/4c3/242_254_2a1fde8d5e7dcaa11be442336c9d37f5e/R01_WED_00084_MIX.jpg\" data-time=\"1000\"></div>\n",
       "<div class=\"product__price\">\n",
       "<div class=\"product__price-discount\">30%</div>\n",
       "<div class=\"product__price-old\">20 077</div>\n",
       "<div class=\"product__price-new\">\n",
       "<sup>от</sup><span class=\"product__price-val\">14 054</span><span class=\"rub\"></span>\n",
       "</div>\n",
       "<div class=\"product__sizes product__sizes_cart\">\n",
       "<div class=\"product__sizes-price product__sizes-price_credit\" data-target=\"credit_item\">\n",
       "<span class=\"href href-additionally\">в кредит от</span>\n",
       "<span class=\"product__price-new\">1 405                                        <span class=\"rub\"></span>\n",
       "</span>\n",
       "</div>\n",
       "</div>\n",
       "</div>\n",
       "</div>\n",
       "<div class=\"product__overlay\">\n",
       "<div class=\"product__info\">\n",
       "<div class=\"product__name_catalog_list\">\n",
       "                            Кольцо                        </div>\n",
       "<span>Цвет металла:</span>\n",
       "<span class=\"product__colors\">\n",
       "<span class=\"href\" onclick=\"event.preventDefault();window.location.href='/catalog/rings/R01-WED-00084-MIX/?PROPERTY_METALL_COLOR=1458749192_3';BX &amp;&amp; BX.rtb ? BX.rtb('unknown').sizeProduct('Микс') : ''\">\n",
       "<span class=\"ico-mix\" style=\"background-image: url('/upload/uf/8be/8bed98e53a9eb8a5f45c1dd80d141014.png');\"></span>\n",
       "</span>\n",
       "</span>\n",
       "<span>Размеры в наличии:</span>\n",
       "<span class=\"product__sizes\">\n",
       "<span class=\"href\" onclick=\"event.preventDefault();window.location.href='/catalog/rings/R01-WED-00084-MIX/?PROPERTY_ITEM_SIZE=1470930096_8'; BX &amp;&amp; BX.rtb ? BX.rtb('unknown').sizeProduct('15.5') : ''\">15.5</span>\n",
       "<span class=\"href\" onclick=\"event.preventDefault();window.location.href='/catalog/rings/R01-WED-00084-MIX/?PROPERTY_ITEM_SIZE=1470930096_7'; BX &amp;&amp; BX.rtb ? BX.rtb('unknown').sizeProduct('16') : ''\">16</span>\n",
       "<span class=\"href\" onclick=\"event.preventDefault();window.location.href='/catalog/rings/R01-WED-00084-MIX/?PROPERTY_ITEM_SIZE=1470930096_5'; BX &amp;&amp; BX.rtb ? BX.rtb('unknown').sizeProduct('16.5') : ''\">16.5</span>\n",
       "<span class=\"href\" onclick=\"event.preventDefault();window.location.href='/catalog/rings/R01-WED-00084-MIX/?PROPERTY_ITEM_SIZE=1470930096_1'; BX &amp;&amp; BX.rtb ? BX.rtb('unknown').sizeProduct('17') : ''\">17</span>\n",
       "<span class=\"href\" onclick=\"event.preventDefault();window.location.href='/catalog/rings/R01-WED-00084-MIX/?PROPERTY_ITEM_SIZE=1470930096_4'; BX &amp;&amp; BX.rtb ? BX.rtb('unknown').sizeProduct('17.5') : ''\">17.5</span>\n",
       "<span class=\"href\" onclick=\"event.preventDefault();window.location.href='/catalog/rings/R01-WED-00084-MIX/?PROPERTY_ITEM_SIZE=1470930096_3'; BX &amp;&amp; BX.rtb ? BX.rtb('unknown').sizeProduct('18') : ''\">18</span>\n",
       "<span class=\"href\" onclick=\"event.preventDefault();window.location.href='/catalog/rings/R01-WED-00084-MIX/?PROPERTY_ITEM_SIZE=1470930096_2'; BX &amp;&amp; BX.rtb ? BX.rtb('unknown').sizeProduct('18.5') : ''\">18.5</span>\n",
       "<span class=\"href\" onclick=\"event.preventDefault();window.location.href='/catalog/rings/R01-WED-00084-MIX/?PROPERTY_ITEM_SIZE=1470930096_9'; BX &amp;&amp; BX.rtb ? BX.rtb('unknown').sizeProduct('19') : ''\">19</span>\n",
       "<span class=\"href\" onclick=\"event.preventDefault();window.location.href='/catalog/rings/R01-WED-00084-MIX/?PROPERTY_ITEM_SIZE=1470930096_10'; BX &amp;&amp; BX.rtb ? BX.rtb('unknown').sizeProduct('19.5') : ''\">19.5</span>\n",
       "<span class=\"href\" onclick=\"event.preventDefault();window.location.href='/catalog/rings/R01-WED-00084-MIX/?PROPERTY_ITEM_SIZE=1470929229_12'; BX &amp;&amp; BX.rtb ? BX.rtb('unknown').sizeProduct('20') : ''\">20</span>\n",
       "<span class=\"href\" onclick=\"event.preventDefault();window.location.href='/catalog/rings/R01-WED-00084-MIX/?PROPERTY_ITEM_SIZE=1470930096_6'; BX &amp;&amp; BX.rtb ? BX.rtb('unknown').sizeProduct('20.5') : ''\">20.5</span>\n",
       "<span class=\"href\" onclick=\"event.preventDefault();window.location.href='/catalog/rings/R01-WED-00084-MIX/?PROPERTY_ITEM_SIZE=1470930096_18'; BX &amp;&amp; BX.rtb ? BX.rtb('unknown').sizeProduct('21') : ''\">21</span>\n",
       "</span>\n",
       "<br/>\n",
       "<div class=\"product__sizes\">\n",
       "<div class=\"product__sizes-icon\"></div>\n",
       "<div class=\"product__sizes-price\" data-target=\"credit_listing\">\n",
       "<span class=\"href\" onclick=\"event.preventDefault();window.location.href='/credit/';\">в кредит от</span>\n",
       "<span class=\"product__price-new\">1 429                                        <span class=\"rub\"></span>\n",
       "</span>\n",
       "</div>\n",
       "</div>\n",
       "</div>\n",
       "</div>\n",
       "</div>"
      ]
     },
     "execution_count": 63,
     "metadata": {},
     "output_type": "execute_result"
    }
   ],
   "source": [
    "quotes[1]"
   ]
  },
  {
   "cell_type": "code",
   "execution_count": 19,
   "metadata": {},
   "outputs": [
    {
     "name": "stdout",
     "output_type": "stream",
     "text": [
      "---\n",
      " 0 <class 'bs4.element.Tag'>\n",
      "---\n",
      " 1 <class 'bs4.element.Tag'>\n",
      "---\n",
      " 2 <class 'bs4.element.Tag'>\n",
      "---\n",
      " 3 <class 'bs4.element.Tag'>\n",
      "---\n",
      " 4 <class 'bs4.element.Tag'>\n",
      "---\n",
      " 5 <class 'bs4.element.Tag'>\n",
      "---\n",
      " 6 <class 'bs4.element.Tag'>\n",
      "---\n",
      " 7 <class 'bs4.element.Tag'>\n",
      "---\n",
      " 8 <class 'bs4.element.Tag'>\n",
      "---\n",
      " 9 <class 'bs4.element.Tag'>\n",
      "---\n",
      " 10 <class 'bs4.element.Tag'>\n",
      "---\n",
      " 11 <class 'bs4.element.Tag'>\n",
      "---\n",
      " 12 <class 'bs4.element.Tag'>\n",
      "---\n",
      " 13 <class 'bs4.element.Tag'>\n",
      "---\n",
      " 14 <class 'bs4.element.Tag'>\n",
      "---\n",
      " 15 <class 'bs4.element.Tag'>\n",
      "---\n",
      " 16 <class 'bs4.element.Tag'>\n",
      "---\n",
      " 17 <class 'bs4.element.Tag'>\n",
      "---\n",
      " 18 <class 'bs4.element.Tag'>\n",
      "---\n",
      " 19 <class 'bs4.element.Tag'>\n",
      "---\n",
      " 20 <class 'bs4.element.Tag'>\n",
      "---\n",
      " 21 <class 'bs4.element.Tag'>\n",
      "---\n",
      " 22 <class 'bs4.element.Tag'>\n",
      "---\n",
      " 23 <class 'bs4.element.Tag'>\n",
      "---\n",
      " 24 <class 'bs4.element.Tag'>\n",
      "---\n",
      " 25 <class 'bs4.element.Tag'>\n",
      "---\n",
      " 26 <class 'bs4.element.Tag'>\n",
      "---\n",
      " 27 <class 'bs4.element.Tag'>\n",
      "---\n",
      " 28 <class 'bs4.element.Tag'>\n",
      "---\n",
      " 29 <class 'bs4.element.Tag'>\n",
      "---\n",
      " 30 <class 'bs4.element.Tag'>\n",
      "---\n",
      " 31 <class 'bs4.element.Tag'>\n",
      "---\n",
      " 32 <class 'bs4.element.Tag'>\n",
      "---\n",
      " 33 <class 'bs4.element.Tag'>\n",
      "---\n",
      " 34 <class 'bs4.element.Tag'>\n",
      "---\n",
      " 35 <class 'bs4.element.Tag'>\n",
      "---\n",
      " 36 <class 'bs4.element.Tag'>\n",
      "---\n",
      " 37 <class 'bs4.element.Tag'>\n",
      "---\n",
      " 38 <class 'bs4.element.Tag'>\n",
      "---\n",
      " 39 <class 'bs4.element.Tag'>\n",
      "---\n",
      " 40 <class 'bs4.element.Tag'>\n",
      "---\n",
      " 41 <class 'bs4.element.Tag'>\n",
      "---\n",
      " 42 <class 'bs4.element.Tag'>\n",
      "---\n",
      " 43 <class 'bs4.element.Tag'>\n",
      "---\n",
      " 44 <class 'bs4.element.Tag'>\n",
      "---\n",
      " 45 <class 'bs4.element.Tag'>\n",
      "---\n",
      " 46 <class 'bs4.element.Tag'>\n",
      "---\n",
      " 47 <class 'bs4.element.Tag'>\n",
      "---\n",
      " 48 <class 'bs4.element.Tag'>\n",
      "---\n",
      " 49 <class 'bs4.element.Tag'>\n"
     ]
    }
   ],
   "source": [
    "for i in range(len(quotes)):\n",
    "    print('---\\n', i, quotes[i].find()) )"
   ]
  },
  {
   "cell_type": "code",
   "execution_count": 61,
   "metadata": {},
   "outputs": [
    {
     "data": {
      "text/plain": [
       "<div class=\"cols__column cols__column_small_percent-100 cols__column_medium_percent-50 cols__column_large_percent-50\"><div class=\"cols__inner\"><div class=\"p-fund margin_bottom_40 margin_right_20\"><div class=\"tbl tbl_width_full\"><span class=\"cell cell_left padding_right_20\"><div class=\"p-fund__image\"><span class=\"photo photo_full\"><div class=\"photo__inner\"><span class=\"photo__pic\" style=\"background-image:url(/media/images/thumbnails/bWMZOGuojhn2nfiGl_6pa53aN8pk4Ewri42QU-ZC_n9q0OGz0_RfBFBE5pxCtJubUa0PPEXausWuCxxfyCtsdbINIlTt8SQXL3kbMjjpaGb732CgK2Q914XtwkzdU8foSE5bL0mWxgUfV1U9u4Hs3ZHBkrx7WYtZwiLwBS3cPvH9i3ncmFe0gmmtkZdUjPd_DjE6pzpiYLvT8qDEB1L-_cjSKfPIMVCMIUh9dsPVwk4KXpTJcFTyPY7W0zcWnRXPybrLhofa_MuleCws5K8GymQrTXW_IMtdE-Jg17IIKXI314d74U0ftyIO4AC0LgFFN-NIE83ym7qKuVT2JnetBw==.png)\"></span></div></span></div></span><span class=\"cell\"><div class=\"p-fund__city margin_bottom_5\">Москва</div><a class=\"link link_font_large margin_bottom_10 link-holder\" href=\"/funds/fond-podderzhki-nauchnyih-issledovanij-v-onkologii-rakfond/\" name=\"clb27912367\"><span class=\"link__text\">РакФонд</span></a><div class=\"cols\"><div class=\"cols__wrapper\"></div></div></span></div></div></div></div>"
      ]
     },
     "execution_count": 61,
     "metadata": {},
     "output_type": "execute_result"
    }
   ],
   "source": [
    "quotes0[1]"
   ]
  },
  {
   "cell_type": "code",
   "execution_count": 5,
   "metadata": {},
   "outputs": [
    {
     "name": "stdout",
     "output_type": "stream",
     "text": [
      "БРОО «Святое Белогорье против детского рака»\n",
      "Белгород\n",
      "https://dobro.mail.ru/funds/broo-svyatoe-belogore-protiv-detskogo-raka/\n",
      "http://www.zhiznplus.ru/\n",
      "\n",
      "РакФонд\n",
      "Москва\n",
      "https://dobro.mail.ru/funds/fond-podderzhki-nauchnyih-issledovanij-v-onkologii-rakfond/\n",
      "https://www.rakfond.org/\n",
      "\n",
      "Благотворительный фонд «Жизнь»\n",
      "Москва\n",
      "https://dobro.mail.ru/funds/blagotvoritelnyij-fond-zhizn/\n",
      "http://www.deti-life.ru/\n",
      "\n",
      "Фонд медицинских решений \"Не напрасно\"\n",
      "Санкт-Петербург\n",
      "https://dobro.mail.ru/funds/fond-profilaktiki-raka/\n",
      "https://nenaprasno.ru/\n",
      "\n",
      "Челябинское региональное благотворительное движение помощи онкобольным детям «Искорка Фонд»\n",
      "Челябинск\n",
      "https://dobro.mail.ru/funds/chelyabinskoe-regionalnoe-blagotvoritelnoe-dvizhenie-iskorka-fond/\n",
      "https://onco74.ru/\n",
      "\n",
      "Благотворительный фонд помощи детям с неизлечимыми заболеваниями имени Ани Чижовой\n",
      "Чебоксары\n",
      "https://dobro.mail.ru/funds/blagotvoritelnyij-fond-pomoschi-detyam-s-neizlechimyimi-zabolevaniyami-imeni-ani-chizhovoj/\n",
      "https://fondani.ru\n",
      "\n",
      "РОО «Экологическая вахта Сахалина»\n",
      "Южно-Сахалинск\n",
      "https://dobro.mail.ru/funds/fond-ekovakhta/\n",
      "https://ecosakh.ru/\n",
      "\n",
      "Благотворительный фонд помощи женщинам с онкологическими заболеваниями «Дальше»\n",
      "Москва\n",
      "https://dobro.mail.ru/funds/blagotvoritelnyij-fond-pomoschi-zhenschinam-s-onkologicheskimi-zabolevaniyami-dalshe/\n",
      "https://dalshefond.ru/\n",
      "\n",
      "Фонд социальных программ и поддержки женщин «Александра»\n",
      "Москва\n",
      "https://dobro.mail.ru/funds/fond-sotsialnyih-programm-i-podderzhki-zhenschin-aleksandra/\n",
      "http://fondaleksandra.ru/\n",
      "\n",
      "Благотворительный фонд «Предание»\n",
      "Москва\n",
      "https://dobro.mail.ru/funds/blagotvoritelnyij-fond-predanie/\n",
      "https://fond.predanie.ru\n",
      "\n",
      "Благотворительный фонд помощи хосписам «Вера»\n",
      "Москва\n",
      "https://dobro.mail.ru/funds/blagotvoritelnyij-fond-pomoschi-hospisam-vera/\n",
      "http://www.hospicefund.ru/\n",
      "\n",
      "Благотворительный фонд «Бюро Добрых Дел»\n",
      "Астрахань, Кострома, Нижний Новгород, Саратов, Уфа\n",
      "https://dobro.mail.ru/funds/blagotvoritelnyij-fond-byuro-dobryih-del/\n",
      "http://www.burodd.ru/\n",
      "\n",
      "Фонд борьбы с инсультом ОРБИ\n",
      "Москва\n",
      "https://dobro.mail.ru/funds/mezhregionalnyj-fond-pomoshi-rodstvennikam-bolnyh-s-insultom-orbi/\n",
      "http://www.orbifond.ru/\n",
      "\n",
      "Благотворительный фонд помощи тяжелобольным детям «Потерь нет»\n",
      "Уфа\n",
      "https://dobro.mail.ru/funds/blagotvoritelnyij-fond-pomoschi-tyazhelobolnyim-detyam-poter-net-3/\n",
      "http://poter-net.ru/\n",
      "\n"
     ]
    }
   ],
   "source": [
    "if len(quotes) != 0:\n",
    "    for i in range(len(quotes)):\n",
    "        name = str(quotes[i].find('span', 'link__text'))\n",
    "        name = name.replace('<span class=\"link__text\">', '')\n",
    "        name = name.replace('</span>', '')\n",
    "        \n",
    "        url = str(quotes[i].find('a', 'link link_font_large margin_bottom_10 link-holder'))\n",
    "        url = url.replace('<a class=\"link link_font_large margin_bottom_10 link-holder\" href=\"', 'https://dobro.mail.ru')\n",
    "        url = url.split('\"')[0]\n",
    "        \n",
    "        city = str(quotes[i].find('div', 'p-fund__city margin_bottom_5'))\n",
    "        city = city.replace('<div class=\"p-fund__city margin_bottom_5\">', '')\n",
    "        city = city.replace('</div>', '')\n",
    "        \n",
    "        responses = requests.get(url)\n",
    "        soups = BeautifulSoup(responses.text, 'lxml')\n",
    "        \n",
    "        site = soups.find_all('div', class_='p-fund-detail__info-row')\n",
    "        if str(site[0].find('a', 'link')) == None:\n",
    "            site = str(site[0].find('a', 'link'))\n",
    "            site = site.replace('<span class=\"link__text\">', '')\n",
    "            site = site.replace('</span>', '')\n",
    "        else:\n",
    "            site = str(site[1].find('a', 'link'))\n",
    "            site = site.replace('<span class=\"link__text\">', '')\n",
    "            site = site.split('\"')[3]\n",
    "        \n",
    "        print(name + '\\n' + city + '\\n' + url + '\\n' + site + '\\n')\n",
    "else:\n",
    "    print('Нет')\n",
    "    "
   ]
  },
  {
   "cell_type": "code",
   "execution_count": null,
   "metadata": {},
   "outputs": [],
   "source": []
  }
 ],
 "metadata": {
  "kernelspec": {
   "display_name": "Python 3",
   "language": "python",
   "name": "python3"
  },
  "language_info": {
   "codemirror_mode": {
    "name": "ipython",
    "version": 3
   },
   "file_extension": ".py",
   "mimetype": "text/x-python",
   "name": "python",
   "nbconvert_exporter": "python",
   "pygments_lexer": "ipython3",
   "version": "3.8.8"
  }
 },
 "nbformat": 4,
 "nbformat_minor": 2
}
