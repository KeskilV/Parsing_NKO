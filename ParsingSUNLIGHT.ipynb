{
 "cells": [
  {
   "cell_type": "code",
   "execution_count": 1,
   "metadata": {},
   "outputs": [],
   "source": [
    "#02-09-2022 разработка классов\n",
    "#01-09-2022 PHC 8000 import importlib \n",
    "#25-08-2022 Создна копия для SUNLIGHT\n",
    "#25-08-2022 Для цек БК и ПДК\n",
    "#07-07-2022 0 обработка нефти \n",
    "#06-07-2022 серебро https://miuz.ru/catalog/filter/offers_metall-is-serebro/page=2/\n",
    "#16-06-2022 Для Алексея Руб-Из-Сап\n",
    "#24-05-2022 Запуск парсинга result is 'mius240522_0-4154.xlsx'"
   ]
  },
  {
   "cell_type": "markdown",
   "metadata": {},
   "source": [
    "## Код для перезапуска модулей и классов"
   ]
  },
  {
   "cell_type": "code",
   "execution_count": 15,
   "metadata": {},
   "outputs": [],
   "source": [
    "import importlib "
   ]
  },
  {
   "cell_type": "code",
   "execution_count": 45,
   "metadata": {},
   "outputs": [],
   "source": [
    "import classes_parsing #https://stackoverflow.com/questions/6946376/how-to-reload-a-class-in-python-shell"
   ]
  },
  {
   "cell_type": "code",
   "execution_count": 64,
   "metadata": {
    "scrolled": true
   },
   "outputs": [
    {
     "data": {
      "text/plain": [
       "<module 'classes_parsing' from 'C:\\\\Users\\\\специалист ао\\\\mypandas\\\\work\\\\CDO2030\\\\Parsing_NKO\\\\classes_parsing.py'>"
      ]
     },
     "execution_count": 64,
     "metadata": {},
     "output_type": "execute_result"
    }
   ],
   "source": [
    "importlib.reload(classes_parsing)"
   ]
  },
  {
   "cell_type": "code",
   "execution_count": 33,
   "metadata": {},
   "outputs": [],
   "source": [
    "from classes_parsing import Dlinks"
   ]
  },
  {
   "cell_type": "code",
   "execution_count": null,
   "metadata": {},
   "outputs": [],
   "source": [
    "classes_parsing.Dlinks.__doc__"
   ]
  },
  {
   "cell_type": "code",
   "execution_count": null,
   "metadata": {},
   "outputs": [],
   "source": [
    "from classes_parsing import Task"
   ]
  },
  {
   "cell_type": "code",
   "execution_count": null,
   "metadata": {},
   "outputs": [],
   "source": [
    "Task.__doc__"
   ]
  },
  {
   "cell_type": "code",
   "execution_count": 65,
   "metadata": {},
   "outputs": [],
   "source": [
    "from classes_parsing import Dtask,Dlinks1,Dicts"
   ]
  },
  {
   "cell_type": "code",
   "execution_count": null,
   "metadata": {},
   "outputs": [],
   "source": []
  },
  {
   "cell_type": "code",
   "execution_count": null,
   "metadata": {},
   "outputs": [],
   "source": [
    "dtask = {'name':'SL_diamonds',\n",
    "         'links':[],\n",
    "         'urls':'https://sunlight.net/catalog/diamonds-all.html',\n",
    "         'domain': 'https://sunlight.net/',\n",
    "         'taskdescr':''}\n",
    "         "
   ]
  },
  {
   "cell_type": "code",
   "execution_count": 66,
   "metadata": {},
   "outputs": [
    {
     "name": "stdout",
     "output_type": "stream",
     "text": [
      "атрибуты для линков :                taskname, links, urls, domain, taskdescr, datestr=None, datestr0 - АВТОМАТОМ                 \n",
      " папка для сохранений задач links/\n"
     ]
    }
   ],
   "source": [
    "c = Dlinks1()"
   ]
  },
  {
   "cell_type": "code",
   "execution_count": 67,
   "metadata": {},
   "outputs": [
    {
     "name": "stdout",
     "output_type": "stream",
     "text": [
      "[(0, 'dlinks_SL_всеЮИ_2022-09-01-15-28.json'), (1, 'dlinks_SL_всеЮИ_2022-09-01-16-11.json'), (2, 'dlinks_SL_всеЮИ_2022-09-01-16-15.json'), (3, 'dlinks_sunlight2022-08-30-11-18.json'), (4, 'dlinks_testDlink_2022-09-01-11-04.json'), (5, 'dlinks_testDlink_2022-09-01-11-12.json'), (6, 'dlinks_testDlink_2022-09-01-11-18.json'), (7, 'dlinks_бескаменка3008222022-08-30-11-18.json'), (8, 'dlinks_бескаменкаSL_2022-08-30-11-18.json'), (9, 'd_SL_всеЮИ_2022-09-01-16-15.json')]\n",
      "введите номер файла: 0\n",
      "dict загружен :links/dlinks_SL_всеЮИ_2022-09-01-15-28.json,\n",
      " всего        \n",
      " загружены атрибуты dict_keys(['taskname', 'links', 'datestr', 'urls', 'domain', 'taskdescr'])         \n",
      "надо определить имя, из какого атрибута взять? \n",
      "        [(0, 'taskname'), (1, 'links'), (2, 'datestr'), (3, 'urls'), (4, 'domain'), (5, 'taskdescr')]\n",
      "номер: 0\n",
      "выбрано - SL_всеЮИ\n"
     ]
    }
   ],
   "source": [
    "c.load()"
   ]
  },
  {
   "cell_type": "code",
   "execution_count": 68,
   "metadata": {},
   "outputs": [
    {
     "name": "stdout",
     "output_type": "stream",
     "text": [
      "dict записан:  links/d_SL_всеЮИ_2022-09-01-15-28.json\n"
     ]
    }
   ],
   "source": [
    "c.save()"
   ]
  },
  {
   "cell_type": "code",
   "execution_count": 56,
   "metadata": {},
   "outputs": [],
   "source": [
    "self = c"
   ]
  },
  {
   "cell_type": "code",
   "execution_count": 58,
   "metadata": {},
   "outputs": [
    {
     "data": {
      "text/plain": [
       "'links/d_SL_всеЮИ_2022-09-01-16-15.json'"
      ]
     },
     "execution_count": 58,
     "metadata": {},
     "output_type": "execute_result"
    }
   ],
   "source": [
    "c.folderlog + 'd_' + self.name + '_' + self.dct['datestr'] + '.json'"
   ]
  },
  {
   "cell_type": "code",
   "execution_count": 54,
   "metadata": {},
   "outputs": [
    {
     "data": {
      "text/plain": [
       "'SL_всеЮИ'"
      ]
     },
     "execution_count": 54,
     "metadata": {},
     "output_type": "execute_result"
    }
   ],
   "source": [
    "c.name"
   ]
  },
  {
   "cell_type": "code",
   "execution_count": 55,
   "metadata": {},
   "outputs": [
    {
     "data": {
      "text/plain": [
       "'2022-09-01-16-15'"
      ]
     },
     "execution_count": 55,
     "metadata": {},
     "output_type": "execute_result"
    }
   ],
   "source": [
    "c.dct['datestr']"
   ]
  },
  {
   "cell_type": "code",
   "execution_count": null,
   "metadata": {},
   "outputs": [],
   "source": [
    "c.dct['taskname']"
   ]
  },
  {
   "cell_type": "code",
   "execution_count": 36,
   "metadata": {},
   "outputs": [
    {
     "data": {
      "text/plain": [
       "'noname'"
      ]
     },
     "execution_count": 36,
     "metadata": {},
     "output_type": "execute_result"
    }
   ],
   "source": [
    "c.name"
   ]
  },
  {
   "cell_type": "code",
   "execution_count": 29,
   "metadata": {},
   "outputs": [
    {
     "data": {
      "text/plain": [
       "['dct',\n",
       " 'name',\n",
       " '__module__',\n",
       " '__doc__',\n",
       " 'folderlog',\n",
       " '__init__',\n",
       " 'check',\n",
       " 'save',\n",
       " 'load',\n",
       " '__dict__',\n",
       " '__weakref__',\n",
       " '__repr__',\n",
       " '__hash__',\n",
       " '__str__',\n",
       " '__getattribute__',\n",
       " '__setattr__',\n",
       " '__delattr__',\n",
       " '__lt__',\n",
       " '__le__',\n",
       " '__eq__',\n",
       " '__ne__',\n",
       " '__gt__',\n",
       " '__ge__',\n",
       " '__new__',\n",
       " '__reduce_ex__',\n",
       " '__reduce__',\n",
       " '__subclasshook__',\n",
       " '__init_subclass__',\n",
       " '__format__',\n",
       " '__sizeof__',\n",
       " '__dir__',\n",
       " '__class__']"
      ]
     },
     "execution_count": 29,
     "metadata": {},
     "output_type": "execute_result"
    }
   ],
   "source": [
    "c.__dir__()"
   ]
  },
  {
   "cell_type": "code",
   "execution_count": 8,
   "metadata": {},
   "outputs": [],
   "source": [
    "d = {1:22,3:33,4:44}"
   ]
  },
  {
   "cell_type": "code",
   "execution_count": 14,
   "metadata": {},
   "outputs": [
    {
     "data": {
      "text/plain": [
       "3"
      ]
     },
     "execution_count": 14,
     "metadata": {},
     "output_type": "execute_result"
    }
   ],
   "source": [
    "list(d.keys())[1]"
   ]
  },
  {
   "cell_type": "code",
   "execution_count": null,
   "metadata": {},
   "outputs": [],
   "source": []
  },
  {
   "cell_type": "code",
   "execution_count": null,
   "metadata": {},
   "outputs": [],
   "source": [
    "c.save()"
   ]
  },
  {
   "cell_type": "markdown",
   "metadata": {},
   "source": [
    "## Модули"
   ]
  },
  {
   "cell_type": "code",
   "execution_count": 5,
   "metadata": {},
   "outputs": [],
   "source": [
    "from bs4 import BeautifulSoup\n",
    "import requests\n",
    "from requests import Request, Session\n",
    "import pandas as pd\n",
    "import re\n",
    "\n",
    "def mysoup(urls):\n",
    "    response = requests.get(urls)\n",
    "    return BeautifulSoup(response.text, 'lxml')\n",
    "   \n",
    "\n",
    "def getlinks_muiz(urls):\n",
    "    quotes = mysoup(urls).find_all('div', class_=\"product\")\n",
    "    res = [q.find(\"a\").get(\"href\") for q in quotes]\n",
    "    print(len(res), 'links is ready ' , res[0], '...', res[-1])\n",
    "    return res\n",
    "    \n",
    "\n",
    "def getlinks_sunl(urls):\n",
    "    quotes = mysoup(urls).find_all('a', class_=\"cl-item-link js-cl-item-link js-cl-item-root-link\")\n",
    "    res = [q.get(\"href\") for q in quotes]\n",
    "    print(len(res), 'links is ready ' , res[0], '...', res[-1])\n",
    "    return res\n",
    "    \n",
    "\n",
    "def get_info_from_card(urls):\n",
    "    card = mysoup(urls)\n",
    "    return card.select('body > div.grid > div > div > div.detail__item.detail__item--new > div.detail__item-col._3.position-relative > form > div:nth-child(8)')\n",
    "    "
   ]
  },
  {
   "cell_type": "markdown",
   "metadata": {},
   "source": [
    "## Добываем линки на карточки SUNLIGHT "
   ]
  },
  {
   "cell_type": "code",
   "execution_count": null,
   "metadata": {},
   "outputs": [],
   "source": [
    "taskname = 'SL_всеЮИ'\n",
    "taskdescr = '579 стр с фильтром https://sunlight.net/catalog/?material=326,327,328,329,3603,632&product_type=317,319,365,366,373,4,414,478,493,494,5,541,745,8,890'\n",
    "urls = 'https://sunlight.net/catalog/?material=326,327,328,329,3603,632&product_type=317,319,365,366,373,4,414,478,493,494,5,541,745,8,890'\n",
    "domain = f'https://sunlight.net'"
   ]
  },
  {
   "cell_type": "code",
   "execution_count": null,
   "metadata": {},
   "outputs": [],
   "source": []
  },
  {
   "cell_type": "code",
   "execution_count": null,
   "metadata": {},
   "outputs": [],
   "source": [
    "#links = []"
   ]
  },
  {
   "cell_type": "code",
   "execution_count": null,
   "metadata": {},
   "outputs": [],
   "source": [
    "\n",
    "links += getlinks_sunl(urls)\n",
    "for i in range(512,598):\n",
    "    #pages = f'page-{i}/'#все \n",
    "    pages = f'&page={i}'#без вставки\n",
    "\n",
    "    print(i, urls+pages)\n",
    "    links += getlinks_sunl(urls+pages)\n",
    "    "
   ]
  },
  {
   "cell_type": "code",
   "execution_count": null,
   "metadata": {},
   "outputs": [],
   "source": [
    "len(links)"
   ]
  },
  {
   "cell_type": "code",
   "execution_count": null,
   "metadata": {},
   "outputs": [],
   "source": [
    "links = list(set(links))"
   ]
  },
  {
   "cell_type": "code",
   "execution_count": null,
   "metadata": {},
   "outputs": [],
   "source": [
    "d2 = Dlinks()"
   ]
  },
  {
   "cell_type": "code",
   "execution_count": null,
   "metadata": {},
   "outputs": [],
   "source": [
    "d2.__doc__"
   ]
  },
  {
   "cell_type": "code",
   "execution_count": null,
   "metadata": {},
   "outputs": [],
   "source": [
    "taskname,  urls, domain, taskdescr"
   ]
  },
  {
   "cell_type": "code",
   "execution_count": null,
   "metadata": {},
   "outputs": [],
   "source": [
    "d2.save(taskname, links, urls, domain, taskdescr)"
   ]
  },
  {
   "cell_type": "code",
   "execution_count": null,
   "metadata": {},
   "outputs": [],
   "source": [
    "links = []"
   ]
  },
  {
   "cell_type": "code",
   "execution_count": null,
   "metadata": {},
   "outputs": [],
   "source": [
    "#def main():\n",
    "\n",
    "#urls = f'https://sunlight.net/catalog/'#все\n",
    "\n",
    "urls = f\"https://sunlight.net/catalog/?stone=1\" #без вставки\n",
    "domain = f'https://sunlight.net'\n",
    "links += getlinks_sunl(urls)\n",
    "for i in range(2,148):\n",
    "    #pages = f'page-{i}/'#все \n",
    "    pages = f'&page={i}'#без вставки\n",
    "\n",
    "    print(i, urls+pages)\n",
    "    links += getlinks_sunl(urls+pages)\n",
    "    "
   ]
  },
  {
   "cell_type": "code",
   "execution_count": null,
   "metadata": {},
   "outputs": [],
   "source": [
    "len(links)"
   ]
  },
  {
   "cell_type": "code",
   "execution_count": null,
   "metadata": {},
   "outputs": [],
   "source": [
    "#drop duplicates subset keep\n",
    "links = list(set(links))"
   ]
  },
  {
   "cell_type": "code",
   "execution_count": null,
   "metadata": {},
   "outputs": [],
   "source": [
    "domain+links[0]"
   ]
  },
  {
   "cell_type": "markdown",
   "metadata": {},
   "source": [
    "## Словарь линков (save-load)"
   ]
  },
  {
   "cell_type": "code",
   "execution_count": null,
   "metadata": {},
   "outputs": [],
   "source": [
    "import json"
   ]
  },
  {
   "cell_type": "code",
   "execution_count": null,
   "metadata": {},
   "outputs": [],
   "source": [
    "import datetime\n",
    "datestr = datetime.datetime.now().strftime('%Y-%m-%d-%H-%M')\n",
    "datestr"
   ]
  },
  {
   "cell_type": "code",
   "execution_count": null,
   "metadata": {},
   "outputs": [],
   "source": [
    "datestr"
   ]
  },
  {
   "cell_type": "code",
   "execution_count": null,
   "metadata": {},
   "outputs": [],
   "source": [
    "#Параметры задачи\n",
    "taskname, taskdescr =  'бескаменка300822', 'все БК  8810'"
   ]
  },
  {
   "cell_type": "code",
   "execution_count": null,
   "metadata": {},
   "outputs": [],
   "source": [
    "#Параметры линка\n",
    "datestr, domain, links"
   ]
  },
  {
   "cell_type": "code",
   "execution_count": null,
   "metadata": {},
   "outputs": [],
   "source": [
    "#словарь для сохранения\n",
    "dlinks = {'taskname':taskname, \n",
    "           'links': links,\n",
    "           'datestr':datestr,\n",
    "           'urls':urls,\n",
    "           'domain':domain,\n",
    "           'taskdescr':taskdescr}"
   ]
  },
  {
   "cell_type": "code",
   "execution_count": null,
   "metadata": {},
   "outputs": [],
   "source": [
    "with open(folderlink+'dlinks_sunlight'+datestr+'.json', 'w') as writefile:\n",
    "    json.dump(dlinks, writefile)"
   ]
  },
  {
   "cell_type": "code",
   "execution_count": null,
   "metadata": {},
   "outputs": [],
   "source": [
    "dlinks.keys()"
   ]
  },
  {
   "cell_type": "code",
   "execution_count": null,
   "metadata": {},
   "outputs": [],
   "source": [
    "folderlinks = 'links/'\n",
    "files = os.listdir(folderlink)\n",
    "print([e for e in enumerate(files)])"
   ]
  },
  {
   "cell_type": "code",
   "execution_count": null,
   "metadata": {},
   "outputs": [],
   "source": [
    "with open(folderlinks+files[0], 'r') as writefile:\n",
    "    dlinks = json.load(writefile)"
   ]
  },
  {
   "cell_type": "code",
   "execution_count": null,
   "metadata": {},
   "outputs": [],
   "source": [
    "dlinks"
   ]
  },
  {
   "cell_type": "code",
   "execution_count": null,
   "metadata": {},
   "outputs": [],
   "source": [
    "links = dlinks[taskname][0]\n",
    "len(links)"
   ]
  },
  {
   "cell_type": "code",
   "execution_count": null,
   "metadata": {},
   "outputs": [],
   "source": [
    "dlinks['domain']+dlinks['links'][1]"
   ]
  },
  {
   "cell_type": "code",
   "execution_count": null,
   "metadata": {},
   "outputs": [],
   "source": [
    "folderlink"
   ]
  },
  {
   "cell_type": "markdown",
   "metadata": {},
   "source": [
    "### Сборка функции или объекта"
   ]
  },
  {
   "cell_type": "code",
   "execution_count": null,
   "metadata": {},
   "outputs": [],
   "source": [
    "class Dlinks():\n",
    "    '''taskname, links, urls, domain, taskdescr, datestr=None'''\n",
    "    #import datetime\n",
    "    import json\n",
    "    import os\n",
    "    folderlinks = 'links/'\n",
    "    \n",
    "    def save(self, taskname, links, urls, domain, taskdescr, datestr=None):\n",
    "        self.taskname = taskname\n",
    "        self.links = links\n",
    "        self.urls = urls\n",
    "        self.domain = domain\n",
    "        self.taskdescr = taskdescr\n",
    "        if datestr:\n",
    "            self.datestr = datetime.datetime.now().strftime('%Y-%m-%d-%H-%M')\n",
    "        else:\n",
    "            self.datestr = datestr\n",
    "        dlinks = {'taskname':taskname, \n",
    "           'links': links,\n",
    "           'datestr':datestr,\n",
    "           'urls':urls,\n",
    "           'domain':domain,\n",
    "           'taskdescr':taskdescr}\n",
    "        \n",
    "        with open(self.folderlinks+'dlinks_'+self.taskname+'_'+datestr+'.json', 'w') as writefile:\n",
    "                   json.dump(dlinks, writefile)\n",
    "        print('линки записаны: ', self.folderlinks+'dlinks_'+self.taskname+'_'+datestr+'.json')\n",
    "        \n",
    "        \n",
    "    \n",
    "    def load(self):\n",
    "        files = os.listdir(self.folderlinks)\n",
    "        print([e for e in enumerate(files)])\n",
    "        i = int(input('введите номер файла: '))\n",
    "        with open(self.folderlinks + files[i], 'r') as writefile:\n",
    "            dlinks = json.load(writefile)\n",
    "        self.taskname = dlinks['taskname']\n",
    "        self.links = dlinks['links']\n",
    "        self.urls = dlinks['urls']\n",
    "        self.domain = dlinks['domain']\n",
    "        self.taskdescr = dlinks['taskdescr']\n",
    "        self.datestr = dlinks['datestr']\n",
    "        print(f'линки загружены с :{self.folderlinks + files[i]},\\n всего\\\n",
    "        {len(self.links)} линков,\\n загружены атрибуты {dlinks.keys()} \\\n",
    "        {self.taskname, self.urls, self.domain, self.taskdescr, self.datestr}')\n",
    "        return self.links    \n",
    "        "
   ]
  },
  {
   "cell_type": "code",
   "execution_count": null,
   "metadata": {},
   "outputs": [],
   "source": [
    "taskname, urls, domain, taskdescr, datestr = ('бескаменкаSL',\n",
    " 'https://sunlight.net/catalog/?stone=1',\n",
    " 'https://sunlight.net',\n",
    " 'все БК  8810',\n",
    " '2022-08-30-11-18')"
   ]
  },
  {
   "cell_type": "code",
   "execution_count": null,
   "metadata": {},
   "outputs": [],
   "source": [
    "taskname, urls, domain, taskdescr, datestr"
   ]
  },
  {
   "cell_type": "code",
   "execution_count": null,
   "metadata": {},
   "outputs": [],
   "source": [
    "olinks = Dlinks()"
   ]
  },
  {
   "cell_type": "code",
   "execution_count": null,
   "metadata": {},
   "outputs": [],
   "source": [
    "olinks?"
   ]
  },
  {
   "cell_type": "code",
   "execution_count": null,
   "metadata": {},
   "outputs": [],
   "source": [
    "olinks.save(taskname, links, urls, domain, taskdescr, datestr )"
   ]
  },
  {
   "cell_type": "code",
   "execution_count": null,
   "metadata": {},
   "outputs": [],
   "source": [
    "links = olinks.load()"
   ]
  },
  {
   "cell_type": "code",
   "execution_count": null,
   "metadata": {},
   "outputs": [],
   "source": [
    "links"
   ]
  },
  {
   "cell_type": "code",
   "execution_count": null,
   "metadata": {},
   "outputs": [],
   "source": [
    "olinks.domain"
   ]
  },
  {
   "cell_type": "code",
   "execution_count": null,
   "metadata": {},
   "outputs": [],
   "source": [
    "olinks.datestr"
   ]
  },
  {
   "cell_type": "code",
   "execution_count": null,
   "metadata": {},
   "outputs": [],
   "source": []
  },
  {
   "cell_type": "markdown",
   "metadata": {},
   "source": [
    "## Разработка парсера по карточкам"
   ]
  },
  {
   "cell_type": "code",
   "execution_count": null,
   "metadata": {},
   "outputs": [],
   "source": [
    "#urls = 'https://sunlight.net/catalog/page-3/'"
   ]
  },
  {
   "cell_type": "code",
   "execution_count": null,
   "metadata": {
    "scrolled": false
   },
   "outputs": [],
   "source": [
    "mysoup(urls)"
   ]
  },
  {
   "cell_type": "code",
   "execution_count": null,
   "metadata": {},
   "outputs": [],
   "source": [
    "#def getlinks(urls):\n",
    "quotes = mysoup(urls).find_all('a', class_=\"cl-item-link js-cl-item-link js-cl-item-root-link\")"
   ]
  },
  {
   "cell_type": "code",
   "execution_count": null,
   "metadata": {},
   "outputs": [],
   "source": [
    "len(quotes)"
   ]
  },
  {
   "cell_type": "code",
   "execution_count": null,
   "metadata": {},
   "outputs": [],
   "source": [
    "quotes[1].get(\"href\")"
   ]
  },
  {
   "cell_type": "code",
   "execution_count": null,
   "metadata": {},
   "outputs": [],
   "source": [
    "res = [q.get(\"href\") for q in quotes]\n",
    "#    print(len(res), 'links is ready ' , res[0], '...', res[-1])\n",
    "#    return res\n",
    "    "
   ]
  },
  {
   "cell_type": "code",
   "execution_count": null,
   "metadata": {},
   "outputs": [],
   "source": [
    "res"
   ]
  },
  {
   "cell_type": "code",
   "execution_count": null,
   "metadata": {},
   "outputs": [],
   "source": [
    "<a href=\"/catalog/pendants_90939.html\" class=\"cl-item-link js-cl-item-link js-cl-item-root-link\" itemprop=\"url\">\n",
    "                    <span itemprop=\"name\">Подвеска, вставка: фианит; наносапфир; Серебро 925 пробы.</span>\n",
    "                </a>\n"
   ]
  },
  {
   "cell_type": "code",
   "execution_count": null,
   "metadata": {},
   "outputs": [],
   "source": [
    "<a href=\"/catalog/ring_47781.html\" class=\"cl-item-link js-cl-item-link js-cl-item-root-link\" itemprop=\"url\">\n",
    "                    <span itemprop=\"name\">Кольцо, вставка: фианит; Серебро 925 пробы.</span>\n",
    "                </a>"
   ]
  },
  {
   "cell_type": "markdown",
   "metadata": {},
   "source": [
    "## Собранная функция парсера по карточкам"
   ]
  },
  {
   "cell_type": "markdown",
   "metadata": {},
   "source": [
    "### Версия 29-08-2022 SUNLIGHT"
   ]
  },
  {
   "cell_type": "code",
   "execution_count": null,
   "metadata": {},
   "outputs": [],
   "source": [
    "\n",
    "def parcing(links): \n",
    "\n",
    "    for i in range(3000):#links)):\n",
    "        try:\n",
    "            row = len(data)\n",
    "            urlcard = domain +links[i]\n",
    "            card = mysoup(urlcard)\n",
    "            data.loc[row,'url'] = urlcard\n",
    "            data.loc[row,'h1'] = card.find(\"h1\").text.strip()\n",
    "            data.loc[row,'art'] = card.find('div', class_=\"supreme-product-card__product-article-text\").text.strip()\n",
    "            data.loc[row,'price'] = card.find('div', class_=\"supreme-product-card__price-discount-price\").text.strip().replace('\\u202f', '').replace('\\xa0', '')\n",
    "            data.loc[row,'price2'] = card.find('div', class_=\"supreme-product-card__price-old\").text.strip().replace('\\u202f', '').replace('\\xa0', '')\n",
    "            a = card.find_all('p', class_=\"supreme-product-card__description supreme-product-card__description_default\")\n",
    "            data.loc[row,'gold'] = ';'.join([x.text for x in a])\n",
    "            data.loc[row,'d1'] = \"&\".join([t.text for t in card.find_all('span', class_=\"supreme-product-card-description__item-text\")])\n",
    "            data.loc[row,'d0'] = \"&\".join([t.text for t in card.find_all('a', class_=\"supreme-product-card-description__item-text\")])\n",
    "            #print(i, urlcard)\n",
    "        except (AttributeError,TypeError) as e:\n",
    "            print('error',e)\n",
    "        except IndexError:\n",
    "            print('indexerror len of = ' , len(card.find_all('div','detail__item-option')) )\n",
    "        print(i, urlcard)\n",
    "    \n",
    "def byrepost():\n",
    "\n",
    "    def gold(t,patt):\n",
    "        f = re.search(patt,t)\n",
    "        return f.group() if f else 're не найдено'\n",
    "    \n",
    "    pattern_gold = r'[Сс]ереб\\w+|[Зз]олот\\w*|[Сс]таль'\n",
    "    pattern_diam = r'[Бб]риллиант\\w*'\n",
    "    pattern_probe = r'[\\d]{,3}(?=\\s*проб)'\n",
    "    pattern_gramm = r'[\\d.\\d]{,5}(?=г;)'\n",
    "    pattern_vst = r'вставк\\w*'#r'вставк\\w*'\n",
    "    pattern_type = r'(?<=;)\\w+\\s?\\w*'        \n",
    "        \n",
    "    \n",
    "    data['diam'] = data.gold.apply(lambda x: gold(x, pattern_diam))\n",
    "    data['goldsilv'] = data.h1.apply(lambda x: gold(x, pattern_gold))\n",
    "    data['probe'] = data.gold.apply(lambda x: gold(x, pattern_probe))\n",
    "    data['gramm'] = data.gold.apply(lambda x: gold(x, pattern_gramm))\n",
    "    data['vst'] = data.gold.apply(lambda x: gold(x, pattern_vst))\n",
    "    data['type'] = data.gold.apply(lambda x: gold(x, pattern_type))"
   ]
  },
  {
   "cell_type": "code",
   "execution_count": null,
   "metadata": {},
   "outputs": [],
   "source": [
    "data = pd.DataFrame(columns=['h1','art','price','price2','gold','gold2','weight','gems','gems2','url'])\n"
   ]
  },
  {
   "cell_type": "code",
   "execution_count": null,
   "metadata": {},
   "outputs": [],
   "source": [
    "parcing(links)"
   ]
  },
  {
   "cell_type": "code",
   "execution_count": null,
   "metadata": {},
   "outputs": [],
   "source": [
    "byrepost()"
   ]
  },
  {
   "cell_type": "code",
   "execution_count": null,
   "metadata": {},
   "outputs": [],
   "source": [
    "data"
   ]
  },
  {
   "cell_type": "code",
   "execution_count": null,
   "metadata": {},
   "outputs": [],
   "source": [
    "#data = pd.DataFrame(columns=['h1','art','price','price2','gold','gold2','weight','gems','gems2','url'])"
   ]
  },
  {
   "cell_type": "code",
   "execution_count": null,
   "metadata": {},
   "outputs": [],
   "source": [
    "#29-08-2022 for sunlight 6000\n",
    "#25-08-2022 all\n",
    "#06-07-2022 серебро\n",
    "#16-06-2022 Для Алексея Сапфир Изумруд Рубин\n",
    "#24-05-2022\n",
    "#14-04-2022\n",
    "\n",
    "for i in range(len(links)):\n",
    "    try:\n",
    "        row = len(data)\n",
    "        urlcard = domain +links[i]\n",
    "        card = mysoup(urlcard)\n",
    "        data.loc[row,'url'] = urlcard\n",
    "        data.loc[row,'h1'] = card.find(\"h1\").text.strip()\n",
    "        data.loc[row,'art'] = card.find('div', class_=\"supreme-product-card__product-article-text\").text.strip()\n",
    "        data.loc[row,'price'] = card.find('div', class_=\"supreme-product-card__price-discount-price\").text.strip().replace('\\u202f', '').replace('\\xa0', '')\n",
    "        data.loc[row,'price2'] = card.find('div', class_=\"supreme-product-card__price-old\").text.strip().replace('\\u202f', '').replace('\\xa0', '')\n",
    "        a = card.find_all('p', class_=\"supreme-product-card__description supreme-product-card__description_default\")\n",
    "        data.loc[row,'gold'] = ';'.join([x.text for x in a])\n",
    "        data.loc[row,'d1'] = \"&\".join([t.text for t in card.find_all('span', class_=\"supreme-product-card-description__item-text\")])\n",
    "        data.loc[row,'d0'] = \"&\".join([t.text for t in card.find_all('a', class_=\"supreme-product-card-description__item-text\")])\n",
    "        #print(i, urlcard)\n",
    "    except (AttributeError,TypeError) as e:\n",
    "        print('error',e)\n",
    "    except IndexError:\n",
    "        print('indexerror len of = ' , len(card.find_all('div','detail__item-option')) )\n",
    "    print(i, urlcard)\n"
   ]
  },
  {
   "cell_type": "code",
   "execution_count": null,
   "metadata": {},
   "outputs": [],
   "source": []
  },
  {
   "cell_type": "code",
   "execution_count": null,
   "metadata": {},
   "outputs": [],
   "source": [
    "### Поиск ошибки\n",
    "for i in range(4216, 4217):\n",
    "    try:\n",
    "        row = len(data)\n",
    "        urlcard = domain +links[i]\n",
    "        card = mysoup(urlcard)\n",
    "        data.loc[row,'url'] = urlcard\n",
    "        data.loc[row,'h1'] = card.find(\"h1\").text.strip()\n",
    "        data.loc[row,'art'] = card.find('div', class_=\"supreme-product-card__product-article-text\").text.strip()\n",
    "        data.loc[row,'price'] = card.find('div', class_=\"supreme-product-card__price-discount-price\").text.strip().replace('\\u202f', '').replace('\\xa0', '')\n",
    "        data.loc[row,'price2'] = card.find('div', class_=\"supreme-product-card__price-old\").text.strip().replace('\\u202f', '').replace('\\xa0', '')\n",
    "        a = card.find_all('p', class_=\"supreme-product-card__description supreme-product-card__description_default\")\n",
    "        data.loc[row,'gold'] = ';'.join([x.text for x in a])\n",
    "        data.loc[row,'d1'] = \"&\".join([t.text for t in card.find_all('span', class_=\"supreme-product-card-description__item-text\")])\n",
    "        data.loc[row,'d0'] = \"&\".join([t.text for t in card.find_all('a', class_=\"supreme-product-card-description__item-text\")])\n",
    "        #print(i, urlcard)\n",
    "    except (AttributeError,TypeError) as e:\n",
    "        print('error',e)\n",
    "    except IndexError:\n",
    "        print('indexerror len of = ' , len(card.find_all('div','detail__item-option')) )\n",
    "    print(i, urlcard)"
   ]
  },
  {
   "cell_type": "code",
   "execution_count": null,
   "metadata": {},
   "outputs": [],
   "source": []
  },
  {
   "cell_type": "code",
   "execution_count": null,
   "metadata": {},
   "outputs": [],
   "source": []
  },
  {
   "cell_type": "code",
   "execution_count": null,
   "metadata": {},
   "outputs": [],
   "source": []
  },
  {
   "cell_type": "code",
   "execution_count": null,
   "metadata": {},
   "outputs": [],
   "source": []
  },
  {
   "cell_type": "code",
   "execution_count": null,
   "metadata": {},
   "outputs": [],
   "source": []
  },
  {
   "cell_type": "code",
   "execution_count": null,
   "metadata": {},
   "outputs": [],
   "source": []
  },
  {
   "cell_type": "code",
   "execution_count": null,
   "metadata": {},
   "outputs": [],
   "source": []
  },
  {
   "cell_type": "code",
   "execution_count": null,
   "metadata": {},
   "outputs": [],
   "source": [
    "len(data)"
   ]
  },
  {
   "cell_type": "code",
   "execution_count": null,
   "metadata": {},
   "outputs": [],
   "source": [
    "data"
   ]
  },
  {
   "cell_type": "code",
   "execution_count": null,
   "metadata": {},
   "outputs": [],
   "source": []
  },
  {
   "cell_type": "code",
   "execution_count": null,
   "metadata": {},
   "outputs": [],
   "source": []
  },
  {
   "cell_type": "code",
   "execution_count": null,
   "metadata": {},
   "outputs": [],
   "source": [
    "domain+links[0]"
   ]
  },
  {
   "cell_type": "code",
   "execution_count": null,
   "metadata": {},
   "outputs": [],
   "source": [
    "urlcard = domain +links[100]\n",
    "card = mysoup(urlcard)\n"
   ]
  },
  {
   "cell_type": "code",
   "execution_count": null,
   "metadata": {},
   "outputs": [],
   "source": [
    "#collect 29-08-22\n",
    "row = len(data)\n",
    "data.loc[row,'url'] = urlcard\n",
    "data.loc[row,'h1'] = card.find(\"h1\").text.strip()\n",
    "data.loc[row,'art'] = card.find('div', class_=\"supreme-product-card__product-article-text\").text.strip()\n",
    "data.loc[row,'price'] = card.find('div', class_=\"supreme-product-card__price-discount-price\").text.strip().replace('\\u202f', '').replace('\\xa0', '')\n",
    "data.loc[row,'price2'] = card.find('div', class_=\"supreme-product-card__price-old\").text.strip().replace('\\u202f', '').replace('\\xa0', '')\n",
    "a = card.find_all('p', class_=\"supreme-product-card__description supreme-product-card__description_default\")\n",
    "data.loc[row,'gold'] = ';'.join([x.text for x in a])\n",
    "data.loc[row,'d1'] = \"&\".join([t.text for t in card.find_all('span', class_=\"supreme-product-card-description__item-text\")])\n",
    "data.loc[row,'d0'] = \"&\".join([t.text for t in card.find_all('a', class_=\"supreme-product-card-description__item-text\")])"
   ]
  },
  {
   "cell_type": "code",
   "execution_count": null,
   "metadata": {},
   "outputs": [],
   "source": []
  },
  {
   "cell_type": "code",
   "execution_count": null,
   "metadata": {},
   "outputs": [],
   "source": []
  },
  {
   "cell_type": "code",
   "execution_count": null,
   "metadata": {},
   "outputs": [],
   "source": [
    "data"
   ]
  },
  {
   "cell_type": "code",
   "execution_count": null,
   "metadata": {},
   "outputs": [],
   "source": [
    "data.gold.loc[10]"
   ]
  },
  {
   "cell_type": "markdown",
   "metadata": {},
   "source": [
    "## Разработка rе"
   ]
  },
  {
   "cell_type": "code",
   "execution_count": null,
   "metadata": {},
   "outputs": [],
   "source": [
    "pattern_gold = r'[Сс]ереб\\w+|[Зз]олот\\w*|[Сс]таль'\n",
    "pattern_diam = r'[Бб]риллиант\\w*'\n",
    "pattern_probe = r'[\\d]{,3}(?=\\s*проб)'\n",
    "pattern_gramm = r'[\\d.\\d]{,5}(?=г;)'\n",
    "pattern_vst = r'вставк\\w*'#r'вставк\\w*'\n",
    "pattern_type = r'(?<=;)\\w+\\s?\\w*'\n",
    "def gold(t,patt):\n",
    "    f = re.search(patt,t)\n",
    "    return f.group() if f else 're не найдено'"
   ]
  },
  {
   "cell_type": "code",
   "execution_count": null,
   "metadata": {},
   "outputs": [],
   "source": [
    "t = 'Артикул: 114165;Кольцо    \\nБелое золото 585 пробы.;Вес изделия: 3.04г;Кольцо    \\nБелое золото 585 пробы.'\n",
    "re.search(pattern_type,t)"
   ]
  },
  {
   "cell_type": "code",
   "execution_count": null,
   "metadata": {},
   "outputs": [],
   "source": [
    "patt = pattern_type\n",
    "#patt = pattern_diam"
   ]
  },
  {
   "cell_type": "code",
   "execution_count": null,
   "metadata": {},
   "outputs": [],
   "source": [
    "patt"
   ]
  },
  {
   "cell_type": "code",
   "execution_count": null,
   "metadata": {},
   "outputs": [],
   "source": [
    "i = 1\n",
    "gold(data.gold.loc[i],patt), data.gold.loc[i]"
   ]
  },
  {
   "cell_type": "code",
   "execution_count": null,
   "metadata": {},
   "outputs": [],
   "source": [
    "data.gold.apply(lambda x: gold(x, patt)).unique()"
   ]
  },
  {
   "cell_type": "code",
   "execution_count": null,
   "metadata": {},
   "outputs": [],
   "source": [
    "data.gold.apply(lambda x: gold(x, patt)).value_counts()"
   ]
  },
  {
   "cell_type": "code",
   "execution_count": null,
   "metadata": {},
   "outputs": [],
   "source": []
  },
  {
   "cell_type": "code",
   "execution_count": null,
   "metadata": {
    "scrolled": true
   },
   "outputs": [],
   "source": [
    "data[data.gold.apply(lambda x: gold(x, patt))=='Ножной']"
   ]
  },
  {
   "cell_type": "markdown",
   "metadata": {},
   "source": [
    "## Результат первичной обработки "
   ]
  },
  {
   "cell_type": "code",
   "execution_count": null,
   "metadata": {},
   "outputs": [],
   "source": [
    "#PCH01-09-2022\n",
    "def byrepost(data):\n",
    "    def gold(t, patt):\n",
    "        f = re.search(patt, t)\n",
    "        return f.group() if f else 're не найдено'\n",
    "\n",
    "    pattern_gold = r'[Сс]ереб\\w+|[Зз]олот\\w*|[Сс]таль'\n",
    "    pattern_diam = r'[Бб]риллиант\\w*'\n",
    "    pattern_probe = r'[\\d]{,3}(?=\\s*проб)'\n",
    "    pattern_gramm = r'[\\d.\\d]{,5}(?=г;)'\n",
    "    pattern_vst = r'вставк\\w*'  # r'вставк\\w*'\n",
    "    pattern_type = r'(?<=;)\\w+\\s?\\w*'\n",
    "\n",
    "    data['diam'] = data.gold.apply(lambda x: gold(x, pattern_diam))\n",
    "    data['goldsilv'] = data.h1.apply(lambda x: gold(x, pattern_gold))\n",
    "    data['probe'] = data.gold.apply(lambda x: gold(x, pattern_probe))\n",
    "    data['gramm'] = data.gold.apply(lambda x: gold(x, pattern_gramm))\n",
    "    data['vst'] = data.gold.apply(lambda x: gold(x, pattern_vst))\n",
    "    data['type'] = data.gold.apply(lambda x: gold(x, pattern_type))"
   ]
  },
  {
   "cell_type": "code",
   "execution_count": null,
   "metadata": {},
   "outputs": [],
   "source": [
    "data = pd.concat([data,data3000_8000], ignore_index=True)"
   ]
  },
  {
   "cell_type": "code",
   "execution_count": null,
   "metadata": {},
   "outputs": [],
   "source": [
    "#res\n",
    "\n",
    "    data['diam'] = data.gold.apply(lambda x: gold(x, pattern_diam))\n",
    "\n",
    "    data['goldsilv'] = data.h1.apply(lambda x: gold(x, pattern_gold))\n",
    "\n",
    "    data['probe'] = data.gold.apply(lambda x: gold(x, pattern_probe))\n",
    "\n",
    "    data['gramm'] = data.gold.apply(lambda x: gold(x, pattern_gramm))\n",
    "\n",
    "    data['vst'] = data.gold.apply(lambda x: gold(x, pattern_vst))\n",
    "\n",
    "    data['type'] = data.gold.apply(lambda x: gold(x, pattern_type))"
   ]
  },
  {
   "cell_type": "code",
   "execution_count": null,
   "metadata": {},
   "outputs": [],
   "source": [
    "#разработка"
   ]
  },
  {
   "cell_type": "code",
   "execution_count": null,
   "metadata": {},
   "outputs": [],
   "source": [
    "<div class=\"supreme-product-card-description__item-title\">\n",
    "    Бренд\n",
    "  </div>"
   ]
  },
  {
   "cell_type": "code",
   "execution_count": null,
   "metadata": {},
   "outputs": [],
   "source": [
    "card.find_all('span', class_=\"supreme-product-card-description__item-text\")[4].text"
   ]
  },
  {
   "cell_type": "code",
   "execution_count": null,
   "metadata": {},
   "outputs": [],
   "source": [
    "<a href=\"https://sunlight.net/catalog/sergey-gribnyakov.html\" class=\"supreme-product-card-description__item-text\">SERGEY GRIBNYAKOV</a>"
   ]
  },
  {
   "cell_type": "code",
   "execution_count": null,
   "metadata": {},
   "outputs": [],
   "source": []
  },
  {
   "cell_type": "code",
   "execution_count": null,
   "metadata": {},
   "outputs": [],
   "source": [
    "card.find_all('a', class_=\"supreme-product-card-description__item-text\")"
   ]
  },
  {
   "cell_type": "code",
   "execution_count": null,
   "metadata": {},
   "outputs": [],
   "source": [
    "<div class=\"supreme-product-card__product-article-text\">\n",
    "      Артикул: 165495\n",
    "    </div>"
   ]
  },
  {
   "cell_type": "code",
   "execution_count": null,
   "metadata": {},
   "outputs": [],
   "source": [
    "card.find('div', class_=\"supreme-product-card__product-article-text\").text.strip()"
   ]
  },
  {
   "cell_type": "code",
   "execution_count": null,
   "metadata": {},
   "outputs": [],
   "source": [
    "<div class=\"supreme-product-card__price-discount-price\">\n",
    "  5 395&nbsp;₽\n",
    "</div>"
   ]
  },
  {
   "cell_type": "code",
   "execution_count": null,
   "metadata": {},
   "outputs": [],
   "source": [
    "card.find('div', class_=\"supreme-product-card__price-old\").text.strip().replace('\\u202f', '').replace('\\xa0', '')"
   ]
  },
  {
   "cell_type": "code",
   "execution_count": null,
   "metadata": {},
   "outputs": [],
   "source": [
    "card.find('div', class_=\"supreme-product-card__price-discount-price\")"
   ]
  },
  {
   "cell_type": "code",
   "execution_count": null,
   "metadata": {},
   "outputs": [],
   "source": [
    "<div class=\"supreme-product-card__price-old\">\n",
    "  26 975&nbsp;₽\n",
    "</div>"
   ]
  },
  {
   "cell_type": "code",
   "execution_count": null,
   "metadata": {},
   "outputs": [],
   "source": [
    "<p class=\"supreme-product-card__description supreme-product-card__description_default\">Кольцо «Бриллианты Якутии» с 21 бриллиантом, огранка круг 17 граней, 0.04 карат, цвет 2, чистота 2, тип огранки Б; \n",
    "Розовое золото 585 пробы</p>"
   ]
  },
  {
   "cell_type": "code",
   "execution_count": null,
   "metadata": {},
   "outputs": [],
   "source": [
    "a = card.find_all('p', class_=\"supreme-product-card__description supreme-product-card__description_default\")"
   ]
  },
  {
   "cell_type": "code",
   "execution_count": null,
   "metadata": {},
   "outputs": [],
   "source": [
    "a = card.find_all('p', class_=\"supreme-product-card__description supreme-product-card__description_default\")\n",
    "';'.join([x.text for x in a])"
   ]
  },
  {
   "cell_type": "markdown",
   "metadata": {},
   "source": [
    "## Визуализация"
   ]
  },
  {
   "cell_type": "code",
   "execution_count": null,
   "metadata": {},
   "outputs": [],
   "source": []
  },
  {
   "cell_type": "code",
   "execution_count": null,
   "metadata": {},
   "outputs": [],
   "source": []
  },
  {
   "cell_type": "code",
   "execution_count": null,
   "metadata": {},
   "outputs": [],
   "source": [
    " urlcard = domain +links[i]\n",
    "        card = mysoup(urlcard)\n",
    "        row = len(data)\n",
    "        data.loc[row,'url'] = urlcard\n",
    "        data.loc[row,'h1'] = card.find(\"h1\").text.strip()\n",
    "        data.loc[row,'art'] = card.select(\n",
    "            'body > div.grid > div > div > div.shops__breadcrumbs.catalog_breadcrumbs > div > div:nth-child(4) > span > span')[0].text\n",
    "        data.loc[row,'price'] = float(''.join(re.findall(r'\\d+', card.find(\n",
    "            \"div\",\"places-cont__price b-price\").find(\"div\", 'new').text)))\n",
    "        \n",
    "        data.loc[row,'price2'] = float(''.join(re.findall(r'\\d+', card.find('div',\"detail__item-price-new\").text)))\n",
    "        data.loc[row,'gold'] = card.find_all('span','href')[2].text.strip()\n",
    "        data.loc[row,'gold2'] = re.findall(r\"(Золото\\s+\\d+)\",str(card))[0]\n",
    "        data.loc[row,'weight'] = float(re.findall(r\"(?:Вес:</span>\\n)\\s+(\\d+.\\d+)\",str(card))[0])\n",
    "        div_gems = card.select('body > div.grid > div > div > div.detail__item.detail__item--new > div.detail__item-col._3.position-relative > form > div:nth-child(8)')\n",
    "        data.loc[row,'gems'] = re.findall(r'Камни:\\s+([\\w\\W]+)', div_gems[0].text)\n",
    "        div_gems = card.select('body > div.grid > div > div > div.detail__item.detail__item--new > div.detail__item-col._3.position-relative > form > div:nth-child(8)')\n",
    "        data.loc[row,'gems2'] = re.search(r'Камни:\\s+([\\w\\W]+)', str(div_gems[0].text.strip()))[1]"
   ]
  },
  {
   "cell_type": "code",
   "execution_count": null,
   "metadata": {},
   "outputs": [],
   "source": []
  },
  {
   "cell_type": "code",
   "execution_count": null,
   "metadata": {},
   "outputs": [],
   "source": []
  },
  {
   "cell_type": "code",
   "execution_count": null,
   "metadata": {},
   "outputs": [],
   "source": []
  },
  {
   "cell_type": "code",
   "execution_count": null,
   "metadata": {},
   "outputs": [],
   "source": []
  },
  {
   "cell_type": "code",
   "execution_count": null,
   "metadata": {},
   "outputs": [],
   "source": []
  },
  {
   "cell_type": "code",
   "execution_count": null,
   "metadata": {},
   "outputs": [],
   "source": [
    "card.find_all('span','href')[2].text.strip()"
   ]
  },
  {
   "cell_type": "code",
   "execution_count": null,
   "metadata": {},
   "outputs": [],
   "source": [
    "div_gems = card.select('body > div.grid > div > div > div.detail__item.detail__item--new > div.detail__item-col._3.position-relative > form > div:nth-child(8)')\n",
    "#data.loc[row,'gems'] = \n",
    "re.findall(r'Камни:\\s+([\\w\\W]+)', div_gems[0].text)"
   ]
  },
  {
   "cell_type": "code",
   "execution_count": null,
   "metadata": {},
   "outputs": [],
   "source": [
    "#25-08-2022 all\n",
    "#06-07-2022 серебро\n",
    "#16-06-2022 Для Алексея Сапфир Изумруд Рубин\n",
    "#24-05-2022\n",
    "#14-04-2022\n",
    "\n",
    "for i in range(len(links)):\n",
    "    try:\n",
    "        urlcard = domain +links[i]\n",
    "        card = mysoup(urlcard)\n",
    "        row = len(data)\n",
    "        data.loc[row,'url'] = urlcard\n",
    "        data.loc[row,'h1'] = card.find(\"h1\").text.strip()\n",
    "        data.loc[row,'art'] = card.select(\n",
    "            'body > div.grid > div > div > div.shops__breadcrumbs.catalog_breadcrumbs > div > div:nth-child(4) > span > span')[0].text\n",
    "        data.loc[row,'price'] = float(''.join(re.findall(r'\\d+', card.find(\n",
    "            \"div\",\"places-cont__price b-price\").find(\"div\", 'new').text)))\n",
    "        \n",
    "        data.loc[row,'price2'] = float(''.join(re.findall(r'\\d+', card.find('div',\"detail__item-price-new\").text)))\n",
    "        data.loc[row,'gold'] = card.find_all('span','href')[2].text.strip()\n",
    "        data.loc[row,'gold2'] = re.findall(r\"(Золото\\s+\\d+)\",str(card))[0]\n",
    "        data.loc[row,'weight'] = float(re.findall(r\"(?:Вес:</span>\\n)\\s+(\\d+.\\d+)\",str(card))[0])\n",
    "        div_gems = card.select('body > div.grid > div > div > div.detail__item.detail__item--new > div.detail__item-col._3.position-relative > form > div:nth-child(8)')\n",
    "        data.loc[row,'gems'] = re.findall(r'Камни:\\s+([\\w\\W]+)', div_gems[0].text)\n",
    "        div_gems = card.select('body > div.grid > div > div > div.detail__item.detail__item--new > div.detail__item-col._3.position-relative > form > div:nth-child(8)')\n",
    "        data.loc[row,'gems2'] = re.search(r'Камни:\\s+([\\w\\W]+)', str(div_gems[0].text.strip()))[1]\n",
    "        \n",
    "    except (AttributeError,TypeError) as e:\n",
    "        print('error',e)\n",
    "    except IndexError:\n",
    "        print('indexerror len of = ' , len(card.find_all('div','detail__item-option')) )\n",
    "    print(i, urlcard)\n"
   ]
  },
  {
   "cell_type": "code",
   "execution_count": null,
   "metadata": {
    "scrolled": true
   },
   "outputs": [],
   "source": [
    "data"
   ]
  },
  {
   "cell_type": "code",
   "execution_count": null,
   "metadata": {},
   "outputs": [],
   "source": []
  },
  {
   "cell_type": "code",
   "execution_count": null,
   "metadata": {
    "scrolled": true
   },
   "outputs": [],
   "source": [
    "data.to_excel('pars_16-06-2022_muiz_RSE.xlsx')"
   ]
  },
  {
   "cell_type": "code",
   "execution_count": null,
   "metadata": {},
   "outputs": [],
   "source": []
  },
  {
   "cell_type": "markdown",
   "metadata": {},
   "source": [
    "### Версия 14-04-2022"
   ]
  },
  {
   "cell_type": "code",
   "execution_count": null,
   "metadata": {},
   "outputs": [],
   "source": [
    "data = pd.DataFrame(columns=['h1','art','price','gold','weight','gems','url'])"
   ]
  },
  {
   "cell_type": "code",
   "execution_count": null,
   "metadata": {},
   "outputs": [],
   "source": [
    "#16-06-2022 Для Алексея Сапфир Изумруд Рубин\n",
    "#24-05-2022\n",
    "#14-04-2022\n",
    "\n",
    "for i in range(len(links)):\n",
    "    try:\n",
    "        urlcard = domain +links[i]\n",
    "        card = mysoup(urlcard)\n",
    "        row = len(data)\n",
    "        data.loc[row,'url'] = urlcard\n",
    "        data.loc[row,'h1'] = card.find(\"h1\").text.strip()\n",
    "        data.loc[row,'art'] = card.select(\n",
    "            'body > div.grid > div > div > div.shops__breadcrumbs.catalog_breadcrumbs > div > div:nth-child(4) > span > span')[0].text\n",
    "        data.loc[row,'price'] = float(''.join(re.findall(r'\\d+', card.find(\n",
    "            \"div\",\"places-cont__price b-price\").find(\"div\", 'new').text)))\n",
    "        \n",
    "        #data.loc[row,'price'] = float(''.join(re.findall(r'\\d+', card.find('div',\"detail__item-price-new\").text)))\n",
    "        data.loc[row,'gold'] = re.findall(r\"(Золото\\s+\\d+)\",str(card))[0]\n",
    "        data.loc[row,'weight'] = float(re.findall(r\"(?:Вес:</span>\\n)\\s+(\\d+.\\d+)\",str(card))[0])\n",
    "        div_gems = card.select('body > div.grid > div > div > div.detail__item.detail__item--new > div.detail__item-col._3.position-relative > form > div:nth-child(8)')\n",
    "        data.loc[row,'gems'] = re.search(r'Камни:\\s+([\\w\\W]+)', str(div_gems[0].text.strip()))[1]\n",
    "    except (AttributeError,TypeError) as e:\n",
    "        print('error',e)\n",
    "    except IndexError:\n",
    "        print('indexerror len of = ' , len(card.find_all('div','detail__item-option')) )\n",
    "    print(i, urlcard)\n"
   ]
  },
  {
   "cell_type": "markdown",
   "metadata": {},
   "source": [
    "## save res"
   ]
  },
  {
   "cell_type": "code",
   "execution_count": null,
   "metadata": {},
   "outputs": [],
   "source": [
    "import os"
   ]
  },
  {
   "cell_type": "code",
   "execution_count": null,
   "metadata": {},
   "outputs": [],
   "source": [
    "folders = os.listdir()\n",
    "[q for q in (enumerate(folders))]"
   ]
  },
  {
   "cell_type": "code",
   "execution_count": null,
   "metadata": {},
   "outputs": [],
   "source": [
    "resfolder = folders[26]\n"
   ]
  },
  {
   "cell_type": "code",
   "execution_count": null,
   "metadata": {},
   "outputs": [],
   "source": [
    "resfolder"
   ]
  },
  {
   "cell_type": "code",
   "execution_count": null,
   "metadata": {},
   "outputs": [],
   "source": [
    "data.to_excel(resfolder+'/'+'sunlight_test01092022.xlsx')\n"
   ]
  },
  {
   "cell_type": "code",
   "execution_count": null,
   "metadata": {},
   "outputs": [],
   "source": [
    "files = os.listdir('results/')\n",
    "[f for f in enumerate(files)]"
   ]
  },
  {
   "cell_type": "code",
   "execution_count": null,
   "metadata": {},
   "outputs": [],
   "source": [
    "data = pd.read_csv('results/'+files[9])"
   ]
  },
  {
   "cell_type": "code",
   "execution_count": null,
   "metadata": {},
   "outputs": [],
   "source": [
    "data.loc[1200,'h1']= 1111"
   ]
  },
  {
   "cell_type": "code",
   "execution_count": null,
   "metadata": {},
   "outputs": [],
   "source": [
    "data"
   ]
  },
  {
   "cell_type": "code",
   "execution_count": null,
   "metadata": {},
   "outputs": [],
   "source": [
    "#06-07-2022 серебро\n",
    "#16-06-2022 Для Алексея Сапфир Изумруд Рубин\n",
    "#24-05-2022\n",
    "#14-04-2022\n",
    "\n",
    "for i in range(0,5):# len(links)):\n",
    "    try:\n",
    "        urlcard = domain +links[i]\n",
    "        card = mysoup(urlcard)\n",
    "        row = len(data)\n",
    "        data.loc[row,'url'] = urlcard\n",
    "        data.loc[row,'h1'] = card.find(\"h1\").text.strip()\n",
    "        data.loc[row,'art'] = card.select(\n",
    "            'body > div.grid > div > div > div.shops__breadcrumbs.catalog_breadcrumbs > div > div:nth-child(4) > span > span')[0].text\n",
    "        data.loc[row,'price'] = float(''.join(re.findall(r'\\d+', card.find(\n",
    "            \"div\",\"places-cont__price b-price\").find(\"div\", 'new').text)))\n",
    "        \n",
    "        #data.loc[row,'price'] = float(''.join(re.findall(r'\\d+', card.find('div',\"detail__item-price-new\").text)))\n",
    "        data.loc[row,'gold'] = card.find_all('span','href')[2].text.strip()\n",
    "        #data.loc[row,'gold'] = re.findall(r\"(Золото\\s+\\d+)\",str(card))[0]\n",
    "        data.loc[row,'weight'] = float(re.findall(r\"(?:Вес:</span>\\n)\\s+(\\d+.\\d+)\",str(card))[0])\n",
    "        #div_gems = card.select('body > div.grid > div > div > div.detail__item.detail__item--new > div.detail__item-col._3.position-relative > form > div:nth-child(8)')\n",
    "        #data.loc[row,'gems'] = re.search(r'Камни:\\s+([\\w\\W]+)', str(div_gems[0].text.strip()))[1]\n",
    "        div_gems = card.select('body > div.grid > div > div > div.detail__item.detail__item--new > div.detail__item-col._3.position-relative > form > div:nth-child(8)')\n",
    "        data.loc[row,'gems'] = re.findall(r'Камни:\\s+([\\w\\W]+)', div_gems[0].text)\n",
    "        \n",
    "    except (AttributeError,TypeError) as e:\n",
    "        print('error',e)\n",
    "    except IndexError:\n",
    "        print('indexerror len of = ' , len(card.find_all('div','detail__item-option')) )\n",
    "    print(i, urlcard)"
   ]
  },
  {
   "cell_type": "code",
   "execution_count": null,
   "metadata": {},
   "outputs": [],
   "source": []
  },
  {
   "cell_type": "code",
   "execution_count": null,
   "metadata": {},
   "outputs": [],
   "source": [
    "import os"
   ]
  },
  {
   "cell_type": "code",
   "execution_count": null,
   "metadata": {},
   "outputs": [],
   "source": [
    "def fold(sourcepath):\n",
    "    folders = os.listdir(sourcepath)\n",
    "    print(*[nf for nf in enumerate(folders)] )\n",
    "    case = input (sourcepath)\n",
    "    if case.isdigit():\n",
    "        sourcepath += folders[int(case)]+\"/\"\n",
    "        sourcepath = fold(sourcepath)\n",
    "        return sourcepath\n",
    "    else: \n",
    "        print(sourcepath)\n",
    "        return sourcepath\n"
   ]
  },
  {
   "cell_type": "code",
   "execution_count": null,
   "metadata": {},
   "outputs": [],
   "source": [
    "def source():\n",
    "    \n",
    "    p0 = input('path UR-JVV/Users/DAS/Desktop/GM TMP/A Переоценка/ y or enter')\n",
    "    sourcepath = fold(r'//UR-JVV/Users/DAS/Desktop/GM TMP/A Переоценка/' if p0 == 'y' else p0)\n",
    "    #'for_site2-1922-1.xlsx'\n",
    "    files =os.listdir(sourcepath)\n",
    "    \n",
    "    filename = files[int(input([n for n in enumerate(files)]))]\n",
    "    print('filename',filename)\n",
    "    if not input(\"y?\")=='y':\n",
    "        print('aborded')\n",
    "        return False\n",
    "    #df, file_in = load_df(sourcepath+filename)\n",
    "    print('test columns in ', (sourcepath+filename))\n",
    "    return sourcepath, filename\n",
    "#E:/OM2022/PEREOZENKA/ГИИС"
   ]
  },
  {
   "cell_type": "code",
   "execution_count": null,
   "metadata": {},
   "outputs": [],
   "source": [
    "sourcepath, filename = source()\n"
   ]
  },
  {
   "cell_type": "code",
   "execution_count": null,
   "metadata": {},
   "outputs": [],
   "source": [
    "\n",
    "sourcepath, filename"
   ]
  },
  {
   "cell_type": "code",
   "execution_count": null,
   "metadata": {},
   "outputs": [],
   "source": [
    "df = pd.read_csv(sourcepath+filename)#.drop(columns='Unnamed: 0')"
   ]
  },
  {
   "cell_type": "code",
   "execution_count": null,
   "metadata": {},
   "outputs": [],
   "source": [
    "df"
   ]
  },
  {
   "cell_type": "markdown",
   "metadata": {},
   "source": [
    "## Загрузка обработка"
   ]
  },
  {
   "cell_type": "code",
   "execution_count": null,
   "metadata": {},
   "outputs": [],
   "source": [
    "df = pd.read_excel('results/mius_серебро790_06072022.xlsx').drop(columns='Unnamed: 0')"
   ]
  },
  {
   "cell_type": "code",
   "execution_count": null,
   "metadata": {},
   "outputs": [],
   "source": [
    "df.columns"
   ]
  },
  {
   "cell_type": "code",
   "execution_count": null,
   "metadata": {},
   "outputs": [],
   "source": [
    "df.dropna(subset=['weight'], inplace = True)"
   ]
  },
  {
   "cell_type": "code",
   "execution_count": null,
   "metadata": {},
   "outputs": [],
   "source": []
  },
  {
   "cell_type": "code",
   "execution_count": null,
   "metadata": {},
   "outputs": [],
   "source": [
    "#t = 'Серьги c фианитами E2029-1210015246-Z'\n",
    "#t = 'Кольцо c фианитами R4150-S-LR19653'\n",
    "t2 = 'Кольцо c жемчугом, сапфирами и фианитами R4150-S-LRP34769S'\n",
    "t = 'Кольцо fdfd'"
   ]
  },
  {
   "cell_type": "code",
   "execution_count": null,
   "metadata": {},
   "outputs": [],
   "source": [
    "patt_h1_0 = r'([\\w\\W]+)(?= [A-Z]\\d)+?'"
   ]
  },
  {
   "cell_type": "code",
   "execution_count": null,
   "metadata": {},
   "outputs": [],
   "source": [
    " r'([\\w\\W]+)(?= [A-Z]\\d)+?'"
   ]
  },
  {
   "cell_type": "code",
   "execution_count": null,
   "metadata": {},
   "outputs": [],
   "source": [
    "re.search(patt_h1_0, t2)[1].strip()"
   ]
  },
  {
   "cell_type": "code",
   "execution_count": null,
   "metadata": {},
   "outputs": [],
   "source": [
    "re.search( r'([\\w\\W]+)', t)[1].strip()"
   ]
  },
  {
   "cell_type": "code",
   "execution_count": null,
   "metadata": {},
   "outputs": [],
   "source": [
    "df['h1_0'] = df.h1.apply(lambda x: re.search(patt, x)[1] if re.search(patt, x) else x)"
   ]
  },
  {
   "cell_type": "code",
   "execution_count": null,
   "metadata": {},
   "outputs": [],
   "source": [
    "patt = patt_h1_0\n",
    "for n,x in enumerate(df.h1):\n",
    "    print(n, x,' -- ', (lambda x: re.search(patt, x)[1] if re.search(patt, x) else x)(x))#.strip())"
   ]
  },
  {
   "cell_type": "code",
   "execution_count": null,
   "metadata": {},
   "outputs": [],
   "source": []
  },
  {
   "cell_type": "code",
   "execution_count": null,
   "metadata": {},
   "outputs": [],
   "source": [
    "str(patt_h1_0)"
   ]
  },
  {
   "cell_type": "code",
   "execution_count": null,
   "metadata": {},
   "outputs": [],
   "source": []
  },
  {
   "cell_type": "code",
   "execution_count": null,
   "metadata": {
    "scrolled": true
   },
   "outputs": [],
   "source": [
    "df.loc[:]"
   ]
  },
  {
   "cell_type": "code",
   "execution_count": null,
   "metadata": {},
   "outputs": [],
   "source": [
    "df['gemsstr'] = df['gems'].str.replace('\\[|\\]','').str.strip(\"'\")\n",
    "\n",
    "df['gemslist'] = df.gemsstr.str.split(';')"
   ]
  },
  {
   "cell_type": "code",
   "execution_count": null,
   "metadata": {},
   "outputs": [],
   "source": [
    "df['gemslist'].map(len).unique()"
   ]
  },
  {
   "cell_type": "code",
   "execution_count": null,
   "metadata": {},
   "outputs": [],
   "source": [
    "df['lengem'] = df['gemslist'].map(len)"
   ]
  },
  {
   "cell_type": "code",
   "execution_count": null,
   "metadata": {},
   "outputs": [],
   "source": [
    "df.loc[df['gemslist'].map(len) <= 2, ['gems','gemslist','lengem']]"
   ]
  },
  {
   "cell_type": "code",
   "execution_count": null,
   "metadata": {},
   "outputs": [],
   "source": [
    "sum(df['gemslist'].map(len) > 2)"
   ]
  },
  {
   "cell_type": "code",
   "execution_count": null,
   "metadata": {},
   "outputs": [],
   "source": [
    "df['gem01'] = df['gemslist'].apply(lambda x: x[0])"
   ]
  },
  {
   "cell_type": "code",
   "execution_count": null,
   "metadata": {},
   "outputs": [],
   "source": []
  },
  {
   "cell_type": "code",
   "execution_count": null,
   "metadata": {},
   "outputs": [],
   "source": [
    "df.columns"
   ]
  },
  {
   "cell_type": "code",
   "execution_count": null,
   "metadata": {},
   "outputs": [],
   "source": [
    "df01 = df.loc[df['gemslist'].map(len) <= 2, ['h1_0','h1','gems', 'price', 'gold', 'weight','gem01', 'url','lengem']]"
   ]
  },
  {
   "cell_type": "code",
   "execution_count": null,
   "metadata": {},
   "outputs": [],
   "source": [
    "df01"
   ]
  },
  {
   "cell_type": "code",
   "execution_count": null,
   "metadata": {},
   "outputs": [],
   "source": [
    "t = '38 Фианитов огранки \"Круглая\", 0.34 карат'"
   ]
  },
  {
   "cell_type": "code",
   "execution_count": null,
   "metadata": {},
   "outputs": [],
   "source": [
    "dic={}"
   ]
  },
  {
   "cell_type": "code",
   "execution_count": null,
   "metadata": {},
   "outputs": [],
   "source": [
    "re.match(r'\\d+',t)[0] \n",
    "dic['шт_вст'] = r'\\d+'"
   ]
  },
  {
   "cell_type": "code",
   "execution_count": null,
   "metadata": {},
   "outputs": [],
   "source": [
    "\n",
    "dic['карат_вст'] = r'[\\d.\\d]+(?= карат)'\n",
    "re.search(dic['карат_вст'],t)[0]"
   ]
  },
  {
   "cell_type": "code",
   "execution_count": null,
   "metadata": {},
   "outputs": [],
   "source": [
    "dic['описание_вст'] = r'(?!\\d+).+(?=,)'\n",
    "re.search(dic['описание_вст'],t)[0]"
   ]
  },
  {
   "cell_type": "code",
   "execution_count": null,
   "metadata": {},
   "outputs": [],
   "source": [
    "for c in dic.items():\n",
    "    print(c)\n",
    "    df01[c[0]] = df01.gem01.apply(lambda x: re.search(c[1],x)[0] if re.search(c[1],x) else '')"
   ]
  },
  {
   "cell_type": "code",
   "execution_count": null,
   "metadata": {},
   "outputs": [],
   "source": [
    "for n, x in enumerate(df01.gem01):\n",
    "    print(n,x,'---> ', re.search(r'[\\d.\\d]+(?= карат)',x)[0] if re.search(r'[\\d.\\d]+(?= карат)',x) else '')"
   ]
  },
  {
   "cell_type": "code",
   "execution_count": null,
   "metadata": {
    "scrolled": true
   },
   "outputs": [],
   "source": [
    "df01"
   ]
  },
  {
   "cell_type": "code",
   "execution_count": null,
   "metadata": {},
   "outputs": [],
   "source": []
  },
  {
   "cell_type": "code",
   "execution_count": null,
   "metadata": {},
   "outputs": [],
   "source": [
    "resfolder"
   ]
  },
  {
   "cell_type": "code",
   "execution_count": null,
   "metadata": {},
   "outputs": [],
   "source": [
    "df01.to_excel(resfolder+'/'+'нефть1сорт_серебро_мюз_604_06-07-2022.xlsx')"
   ]
  },
  {
   "cell_type": "code",
   "execution_count": null,
   "metadata": {},
   "outputs": [],
   "source": []
  },
  {
   "cell_type": "code",
   "execution_count": null,
   "metadata": {},
   "outputs": [],
   "source": []
  },
  {
   "cell_type": "code",
   "execution_count": null,
   "metadata": {},
   "outputs": [],
   "source": []
  },
  {
   "cell_type": "code",
   "execution_count": null,
   "metadata": {},
   "outputs": [],
   "source": []
  },
  {
   "cell_type": "code",
   "execution_count": null,
   "metadata": {},
   "outputs": [],
   "source": []
  },
  {
   "cell_type": "code",
   "execution_count": null,
   "metadata": {},
   "outputs": [],
   "source": []
  },
  {
   "cell_type": "code",
   "execution_count": null,
   "metadata": {},
   "outputs": [],
   "source": []
  },
  {
   "cell_type": "code",
   "execution_count": null,
   "metadata": {},
   "outputs": [],
   "source": []
  },
  {
   "cell_type": "code",
   "execution_count": null,
   "metadata": {},
   "outputs": [],
   "source": [
    "df['IDizd'] = df.index"
   ]
  },
  {
   "cell_type": "code",
   "execution_count": null,
   "metadata": {},
   "outputs": [],
   "source": [
    "df.columns"
   ]
  },
  {
   "cell_type": "code",
   "execution_count": null,
   "metadata": {},
   "outputs": [],
   "source": [
    "df.explode(\"gemslist\")  #[[\"IDizd\",\"gemslist\"]]"
   ]
  },
  {
   "cell_type": "code",
   "execution_count": null,
   "metadata": {},
   "outputs": [],
   "source": []
  },
  {
   "cell_type": "markdown",
   "metadata": {},
   "source": [
    "### Тест работы from classes_parsing import Dlinks"
   ]
  },
  {
   "cell_type": "code",
   "execution_count": null,
   "metadata": {},
   "outputs": [],
   "source": [
    "from classes_parsing import Dlinks"
   ]
  },
  {
   "cell_type": "code",
   "execution_count": null,
   "metadata": {},
   "outputs": [],
   "source": [
    "dir(Dlinks)# Dlinks.__dir__(Dlinks)"
   ]
  },
  {
   "cell_type": "code",
   "execution_count": null,
   "metadata": {},
   "outputs": [],
   "source": [
    "Dlinks.__doc__"
   ]
  },
  {
   "cell_type": "code",
   "execution_count": null,
   "metadata": {},
   "outputs": [],
   "source": [
    "taskname, urls, domain, taskdescr, datestr"
   ]
  },
  {
   "cell_type": "code",
   "execution_count": null,
   "metadata": {},
   "outputs": [],
   "source": [
    "d = Dlinks()"
   ]
  },
  {
   "cell_type": "code",
   "execution_count": null,
   "metadata": {},
   "outputs": [],
   "source": [
    "d.folderlinks"
   ]
  },
  {
   "cell_type": "code",
   "execution_count": null,
   "metadata": {},
   "outputs": [],
   "source": [
    "z = print()"
   ]
  },
  {
   "cell_type": "code",
   "execution_count": null,
   "metadata": {},
   "outputs": [],
   "source": [
    "z == None"
   ]
  },
  {
   "cell_type": "code",
   "execution_count": null,
   "metadata": {},
   "outputs": [],
   "source": [
    "if not z:\n",
    "    #self.datestr = \n",
    "    print(datetime.datetime.now().strftime('%Y-%m-%d-%H-%M'))\n",
    "else:\n",
    "    print(z)"
   ]
  },
  {
   "cell_type": "code",
   "execution_count": null,
   "metadata": {},
   "outputs": [],
   "source": []
  },
  {
   "cell_type": "code",
   "execution_count": null,
   "metadata": {},
   "outputs": [],
   "source": [
    "d.save('testDlink', links[:10], urls, domain, 'проверка')"
   ]
  },
  {
   "cell_type": "code",
   "execution_count": null,
   "metadata": {},
   "outputs": [],
   "source": [
    "d.taskdescr, d.taskname, d.datestr"
   ]
  },
  {
   "cell_type": "code",
   "execution_count": null,
   "metadata": {},
   "outputs": [],
   "source": [
    "self = d"
   ]
  },
  {
   "cell_type": "code",
   "execution_count": null,
   "metadata": {},
   "outputs": [],
   "source": [
    "self.folderlinks + 'dlinks_' + self.taskname + '_' + datestr + '.json'"
   ]
  },
  {
   "cell_type": "markdown",
   "metadata": {},
   "source": [
    "### Отступление, о том как это превратилось в текст и когда, и как я обратно в лист"
   ]
  },
  {
   "cell_type": "code",
   "execution_count": null,
   "metadata": {},
   "outputs": [],
   "source": [
    "from bs4 import BeautifulSoup\n",
    "import requests\n",
    "from requests import Request, Session\n",
    "import pandas as pd"
   ]
  },
  {
   "cell_type": "code",
   "execution_count": null,
   "metadata": {},
   "outputs": [],
   "source": [
    "import re"
   ]
  },
  {
   "cell_type": "code",
   "execution_count": null,
   "metadata": {},
   "outputs": [],
   "source": [
    "def mysoup(urls):\n",
    "    response = requests.get(urls)\n",
    "    return BeautifulSoup(response.text, 'lxml')   "
   ]
  },
  {
   "cell_type": "code",
   "execution_count": null,
   "metadata": {},
   "outputs": [],
   "source": [
    "card = mysoup('https://miuz.ru/catalog/rings/R4150-S-LRP34775CP/')"
   ]
  },
  {
   "cell_type": "code",
   "execution_count": null,
   "metadata": {},
   "outputs": [],
   "source": [
    "div_gems = card.select('body > div.grid > div > \\\n",
    "div > div.detail__item.detail__item--new > \\\n",
    "div.detail__item-col._3.position-relative >\\\n",
    "form > div:nth-child(8)')\n",
    "a = re.findall(r'Камни:\\s+([\\w\\W]+)', div_gems[0].text)\n",
    "a, type(a)"
   ]
  },
  {
   "cell_type": "code",
   "execution_count": null,
   "metadata": {},
   "outputs": [],
   "source": [
    "data = pd.DataFrame(columns=['h1','art','price','gold','weight','gems','url'])\n",
    "data.loc[len(data),'gems'] = a"
   ]
  },
  {
   "cell_type": "code",
   "execution_count": null,
   "metadata": {},
   "outputs": [],
   "source": [
    "data['gems']"
   ]
  },
  {
   "cell_type": "code",
   "execution_count": null,
   "metadata": {},
   "outputs": [],
   "source": [
    "data.loc[0,'gems'], type(data.loc[0,'gems'])"
   ]
  },
  {
   "cell_type": "code",
   "execution_count": null,
   "metadata": {},
   "outputs": [],
   "source": [
    "data.to_excel('data.xlsx', index=None)"
   ]
  },
  {
   "cell_type": "code",
   "execution_count": null,
   "metadata": {},
   "outputs": [],
   "source": [
    "data_e = pd.read_excel('data.xlsx')"
   ]
  },
  {
   "cell_type": "code",
   "execution_count": null,
   "metadata": {},
   "outputs": [],
   "source": [
    "data_e['gems']"
   ]
  },
  {
   "cell_type": "code",
   "execution_count": null,
   "metadata": {},
   "outputs": [],
   "source": [
    "data_e.loc[0,'gems'] , type(df.loc[0,'gems'])"
   ]
  },
  {
   "cell_type": "code",
   "execution_count": null,
   "metadata": {
    "scrolled": true
   },
   "outputs": [],
   "source": [
    "data_e['gems_list'] = data_e['gems'].str.replace('\\[|\\]','').str.strip(\"'\").str.split(';')"
   ]
  },
  {
   "cell_type": "code",
   "execution_count": null,
   "metadata": {},
   "outputs": [],
   "source": [
    "pd.options.display.max_colwidth = 200"
   ]
  },
  {
   "cell_type": "code",
   "execution_count": null,
   "metadata": {},
   "outputs": [],
   "source": [
    "data_e[['gems','gems_list']]"
   ]
  },
  {
   "cell_type": "code",
   "execution_count": null,
   "metadata": {
    "scrolled": true
   },
   "outputs": [],
   "source": [
    "data_e.loc[0,'gems_list'] , type(data_e.loc[0,'gems_list'])"
   ]
  },
  {
   "cell_type": "code",
   "execution_count": null,
   "metadata": {},
   "outputs": [],
   "source": [
    "### Отступление, о том как это превратилось в текст и когда, и как я обратно в лист\n",
    "\n",
    "from bs4 import BeautifulSoup\n",
    "import requests\n",
    "from requests import Request, Session\n",
    "import pandas as pd\n",
    "\n",
    "import re\n",
    "\n",
    "def mysoup(urls):\n",
    "    response = requests.get(urls)\n",
    "    return BeautifulSoup(response.text, 'lxml')   \n",
    "\n",
    "card = mysoup('https://miuz.ru/catalog/rings/R4150-S-LRP34775CP/')\n",
    "\n",
    "div_gems = card.select('body > div.grid > div > \\\n",
    "div > div.detail__item.detail__item--new > \\\n",
    "div.detail__item-col._3.position-relative >\\\n",
    "form > div:nth-child(8)')\n",
    "a = re.findall(r'Камни:\\s+([\\w\\W]+)', div_gems[0].text)\n",
    "a, type(a)\n",
    "\n",
    "data = pd.DataFrame(columns=['h1','art','price','gold','weight','gems','url'])\n",
    "data.loc[len(data),'gems'] = a\n",
    "\n",
    "data['gems']\n",
    "\n",
    "data.loc[0,'gems'], type(data.loc[0,'gems'])\n",
    "\n",
    "data.to_excel('data.xlsx', index=None)\n",
    "\n",
    "data_e = pd.read_excel('data.xlsx')\n",
    "\n",
    "data_e['gems']\n",
    "\n",
    "data_e.loc[0,'gems'] , type(data_e.loc[0,'gems'])\n",
    "\n",
    "data_e['gems_list'] = data_e['gems'].str.replace('\\[|\\]','').str.strip(\"'\").str.split(';')\n",
    "\n",
    "pd.options.display.max_colwidth = 200\n",
    "\n",
    "data_e[['gems','gems_list']]\n",
    "\n",
    "data_e.loc[0,'gems_list'] , type(data_e.loc[0,'gems_list'])"
   ]
  },
  {
   "cell_type": "code",
   "execution_count": null,
   "metadata": {},
   "outputs": [],
   "source": []
  },
  {
   "cell_type": "code",
   "execution_count": null,
   "metadata": {},
   "outputs": [],
   "source": []
  },
  {
   "cell_type": "code",
   "execution_count": null,
   "metadata": {},
   "outputs": [],
   "source": []
  },
  {
   "cell_type": "code",
   "execution_count": null,
   "metadata": {},
   "outputs": [],
   "source": []
  },
  {
   "cell_type": "code",
   "execution_count": null,
   "metadata": {},
   "outputs": [],
   "source": [
    "df"
   ]
  },
  {
   "cell_type": "code",
   "execution_count": null,
   "metadata": {},
   "outputs": [],
   "source": [
    "df.drop(columns='gemsl', inplace=True)"
   ]
  },
  {
   "cell_type": "code",
   "execution_count": null,
   "metadata": {},
   "outputs": [],
   "source": []
  },
  {
   "cell_type": "code",
   "execution_count": null,
   "metadata": {},
   "outputs": [],
   "source": [
    "s = \"one [two] three [1] [2]\"\n",
    "print(re.sub('\\[|\\]', '', s))"
   ]
  },
  {
   "cell_type": "code",
   "execution_count": null,
   "metadata": {},
   "outputs": [],
   "source": []
  },
  {
   "cell_type": "code",
   "execution_count": null,
   "metadata": {},
   "outputs": [],
   "source": []
  },
  {
   "cell_type": "code",
   "execution_count": null,
   "metadata": {},
   "outputs": [],
   "source": []
  },
  {
   "cell_type": "code",
   "execution_count": null,
   "metadata": {},
   "outputs": [],
   "source": []
  },
  {
   "cell_type": "markdown",
   "metadata": {},
   "source": [
    "# NOTE"
   ]
  },
  {
   "cell_type": "code",
   "execution_count": null,
   "metadata": {},
   "outputs": [],
   "source": [
    "#Нужная - перезапуск модулей и классов\n",
    "import importlib \n",
    "\n",
    "import classes_parsing #https://stackoverflow.com/questions/6946376/how-to-reload-a-class-in-python-shell\n",
    "\n",
    "importlib.reload(classes_parsing)\n",
    "\n",
    "from classes_parsing import Dlinks\n",
    "\n",
    "classes_parsing.Dlinks.__doc__\n",
    "\n",
    "Dlinks.__doc__"
   ]
  },
  {
   "cell_type": "code",
   "execution_count": null,
   "metadata": {},
   "outputs": [],
   "source": []
  },
  {
   "cell_type": "code",
   "execution_count": null,
   "metadata": {},
   "outputs": [],
   "source": [
    "for i in range(6505):\n",
    "    if i/500 in range(100):\n",
    "        print(i)"
   ]
  },
  {
   "cell_type": "code",
   "execution_count": null,
   "metadata": {},
   "outputs": [],
   "source": []
  },
  {
   "cell_type": "code",
   "execution_count": null,
   "metadata": {},
   "outputs": [],
   "source": []
  },
  {
   "cell_type": "code",
   "execution_count": null,
   "metadata": {},
   "outputs": [],
   "source": [
    "linkspd = pd.DataFrame(links)"
   ]
  },
  {
   "cell_type": "code",
   "execution_count": null,
   "metadata": {},
   "outputs": [],
   "source": [
    "linkspd.rename(columns={0:'short'}, inplace=True)"
   ]
  },
  {
   "cell_type": "code",
   "execution_count": null,
   "metadata": {},
   "outputs": [],
   "source": [
    "linkspd['path'] = domain +linkspd['short']"
   ]
  },
  {
   "cell_type": "code",
   "execution_count": null,
   "metadata": {},
   "outputs": [],
   "source": [
    "linkspd.to_excel(resfolder+'/'+'links4154_2410522.xlsx')"
   ]
  },
  {
   "cell_type": "code",
   "execution_count": null,
   "metadata": {},
   "outputs": [],
   "source": [
    "re.findall(r\"(?:Вес:</span>\\n)\\s+(\\d+.\\d+)\",str(card))"
   ]
  },
  {
   "cell_type": "code",
   "execution_count": null,
   "metadata": {},
   "outputs": [],
   "source": [
    "card = mysoup(urlcard)\n",
    "row = len(data)\n",
    "data.loc[row,'h1'] = card.find(\"h1\").text.strip()\n",
    "data.loc[row,'art'] = card.select('body > div.grid > div > div > div.shops__breadcrumbs.catalog_breadcrumbs > div > div:nth-child(4) > span > span')\n",
    "\n",
    "data.loc[row,'price'] = float(''.join(re.findall(r'\\d+', card.find('div',\"detail__item-price-new\").text)))\n",
    "              \n",
    "\n",
    "#quotes_inner = card.find_all('div', \"detail__item-option\")\n",
    "#quotes_inner\n",
    "\n",
    "data.loc[row,'gold'] = re.findall(r\"(Золото\\s+\\d+)\",str(quotes_inner[0]))[0]\n",
    "\n",
    "data.loc[row,'weight'] = float(re.findall(r\"(?:Вес:</span>\\n)\\s+(\\d+.\\d+)\",str(card))[0])\n",
    "\n",
    "div_gems = card.select('body > div.grid > div > div > div.detail__item.detail__item--new > div.detail__item-col._3.position-relative > form > div:nth-child(8)')\n",
    "\n",
    "data.loc[row,'gems'] = re.search(r'Камни:\\s+([\\w\\W]+)', str(div_gems[0].text.strip()))[1]\n"
   ]
  },
  {
   "cell_type": "code",
   "execution_count": null,
   "metadata": {},
   "outputs": [],
   "source": []
  },
  {
   "cell_type": "code",
   "execution_count": null,
   "metadata": {},
   "outputs": [],
   "source": []
  }
 ],
 "metadata": {
  "kernelspec": {
   "display_name": "Python 3",
   "language": "python",
   "name": "python3"
  },
  "language_info": {
   "codemirror_mode": {
    "name": "ipython",
    "version": 3
   },
   "file_extension": ".py",
   "mimetype": "text/x-python",
   "name": "python",
   "nbconvert_exporter": "python",
   "pygments_lexer": "ipython3",
   "version": "3.8.8"
  },
  "toc": {
   "base_numbering": 1,
   "nav_menu": {},
   "number_sections": true,
   "sideBar": true,
   "skip_h1_title": false,
   "title_cell": "Table of Contents",
   "title_sidebar": "Contents",
   "toc_cell": false,
   "toc_position": {
    "height": "calc(100% - 180px)",
    "left": "10px",
    "top": "150px",
    "width": "384px"
   },
   "toc_section_display": true,
   "toc_window_display": true
  }
 },
 "nbformat": 4,
 "nbformat_minor": 2
}
