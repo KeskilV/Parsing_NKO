{
 "cells": [
  {
   "cell_type": "code",
   "execution_count": 1,
   "metadata": {},
   "outputs": [],
   "source": [
    "#07-09-2022 \n",
    "#06-09-2022 parcing\n",
    "#05-09-2022 dct -> dict, optim\n",
    "#04-09-2022 \n",
    "#02-09-2022 разработка классов\n",
    "#01-09-2022 PHC 8000 import importlib \n",
    "#25-08-2022 Создна копия для SUNLIGHT\n",
    "#25-08-2022 Для цек БК и ПДК\n",
    "#07-07-2022 0 обработка нефти \n",
    "#06-07-2022 серебро https://miuz.ru/catalog/filter/offers_metall-is-serebro/page=2/\n",
    "#16-06-2022 Для Алексея Руб-Из-Сап\n",
    "#24-05-2022 Запуск парсинга result is 'mius240522_0-4154.xlsx'"
   ]
  },
  {
   "cell_type": "markdown",
   "metadata": {},
   "source": [
    "## Код для перезапуска модулей и классов"
   ]
  },
  {
   "cell_type": "code",
   "execution_count": 21,
   "metadata": {},
   "outputs": [],
   "source": [
    "import importlib "
   ]
  },
  {
   "cell_type": "code",
   "execution_count": 34,
   "metadata": {},
   "outputs": [],
   "source": [
    "import classes_parsing, classes_site #https://stackoverflow.com/questions/6946376/how-to-reload-a-class-in-python-shell"
   ]
  },
  {
   "cell_type": "code",
   "execution_count": 35,
   "metadata": {
    "scrolled": true
   },
   "outputs": [
    {
     "data": {
      "text/plain": [
       "<module 'classes_parsing' from 'C:\\\\Users\\\\специалист ао\\\\mypandas\\\\work\\\\CDO2030\\\\Parsing_NKO\\\\classes_parsing.py'>"
      ]
     },
     "execution_count": 35,
     "metadata": {},
     "output_type": "execute_result"
    }
   ],
   "source": [
    "importlib.reload(classes_parsing)"
   ]
  },
  {
   "cell_type": "code",
   "execution_count": 36,
   "metadata": {},
   "outputs": [
    {
     "data": {
      "text/plain": [
       "<module 'classes_site' from 'C:\\\\Users\\\\специалист ао\\\\mypandas\\\\work\\\\CDO2030\\\\Parsing_NKO\\\\classes_site.py'>"
      ]
     },
     "execution_count": 36,
     "metadata": {},
     "output_type": "execute_result"
    }
   ],
   "source": [
    "importlib.reload(classes_site)"
   ]
  },
  {
   "cell_type": "code",
   "execution_count": 37,
   "metadata": {},
   "outputs": [],
   "source": [
    "from classes_parsing import Dtask,Dicts"
   ]
  },
  {
   "cell_type": "code",
   "execution_count": 38,
   "metadata": {},
   "outputs": [],
   "source": [
    "from classes_site import Site"
   ]
  },
  {
   "cell_type": "code",
   "execution_count": null,
   "metadata": {},
   "outputs": [],
   "source": []
  },
  {
   "cell_type": "markdown",
   "metadata": {},
   "source": [
    "## Модули"
   ]
  },
  {
   "cell_type": "code",
   "execution_count": 2,
   "metadata": {},
   "outputs": [],
   "source": [
    "import datetime\n",
    "import json\n",
    "import os\n",
    "import re\n",
    "import requests\n",
    "from requests import Request, Session\n",
    "from bs4 import BeautifulSoup\n",
    "import pandas as pd\n",
    "\n",
    "from classes_parsing import Dtask,Dicts\n",
    "from classes_site import Site"
   ]
  },
  {
   "cell_type": "markdown",
   "metadata": {},
   "source": [
    "# Разработка класса Site"
   ]
  },
  {
   "cell_type": "code",
   "execution_count": 45,
   "metadata": {},
   "outputs": [],
   "source": [
    "class Site():\n",
    "    '''v0003'''\n",
    "    folderres = 'results/'\n",
    "    \n",
    "    def __init__(self):\n",
    "        '''parametr: '''\n",
    "        #self.dict = dct\n",
    "        print ('create')#self.dict['domain'])\n",
    "     \n",
    "    def mysoup(self,urls):\n",
    "        response = requests.get(urls)\n",
    "        return BeautifulSoup(response.text, 'lxml')  \n",
    "  \n",
    "    def getlinks_sunl(self,urls):\n",
    "        quotes = self.mysoup(urls).find_all('a', class_=\"cl-item-link js-cl-item-link js-cl-item-root-link\")\n",
    "        res = [q.get(\"href\") for q in quotes]\n",
    "        print(len(res), 'links is ready ' , res[0], '...', res[-1])\n",
    "        return res\n",
    "        \n",
    "        \n",
    "    def genlinks_sunl(self, task):\n",
    "        '''task: classes_parsing.Dtask'''\n",
    "        yield task.dict['urls0']\n",
    "       # 'urlslast':'https://sunlight.net/catalog/diamonds-all/page-104/'\n",
    "        text = task.dict['urlslast'].strip().split('/')[-2]\n",
    "        n = int(re.search(r'\\d+',text)[0])\n",
    "        ch = text[re.search(r'\\d+',text).span()[0]-1]\n",
    "        urls = '/'.join(task.dict['urlslast'].strip().split('/')[0:-2])\n",
    "        for i in range(2,n):\n",
    "            pages = f'/page{ch}{i}/'\n",
    "            #pages = f'&page={i}'#без вставки\n",
    "            yield urls+pages\n",
    "                  \n",
    "        \n",
    "    def getlinks(self, task)->None:#\n",
    "        '''create list links and modify object task'''\n",
    "        genlink = self.genlinks_sunl(task)\n",
    "        links = []\n",
    "        i = 0\n",
    "        for l in genlink:\n",
    "            print(i, l)\n",
    "            links += self.getlinks_sunl(l)\n",
    "            i+=1\n",
    "        task.dict['links'] = links\n",
    "        \n",
    "        \n",
    "        \n",
    "    def parcing(self, task):\n",
    "        def savereserve_csv(data):\n",
    "            datestr = datetime.datetime.now().strftime('%Y-%m-%d-%H-%M')\n",
    "            filename = self.folderres + '/_reserve_' + task.dict['name'] + datestr + '.csv'\n",
    "            data.to_csv(filename)\n",
    "            return filename\n",
    "        \n",
    "            \n",
    "        data = pd.DataFrame(columns=['h1','art','price','price2','gold','gold2','weight','gems','gems2','url'])\n",
    "        domain = task.dict['domain']\n",
    "        links = task.dict['links']               \n",
    "        print('парсинг  ', len(links))\n",
    "        for i in range(0,len(links)):\n",
    "            try:\n",
    "                row = i\n",
    "                urlcard = domain + links[i]\n",
    "                response = requests.get(urlcard)\n",
    "                card = BeautifulSoup(response.text, 'lxml')\n",
    "                #card = mysoup(urlcard)\n",
    "                data.loc[row, 'url'] = urlcard\n",
    "                data.loc[row, 'h1'] = card.find(\"h1\").text.strip()\n",
    "                data.loc[row, 'art'] = card.find('div', class_=\"supreme-product-card__product-article-text\").text.strip()\n",
    "                data.loc[row, 'price'] = card.find('div',\n",
    "                                                   class_=\"supreme-product-card__price-discount-price\").text.strip().replace(\n",
    "                    '\\u202f', '').replace('\\xa0', '')\n",
    "                data.loc[row, 'price2'] = card.find('div', class_=\"supreme-product-card__price-old\").text.strip().replace(\n",
    "                    '\\u202f', '').replace('\\xa0', '')\n",
    "                a = card.find_all('p', class_=\"supreme-product-card__description supreme-product-card__description_default\")\n",
    "                data.loc[row, 'gold'] = ';'.join([x.text for x in a])\n",
    "                data.loc[row, 'd1'] = \"&\".join(\n",
    "                    [t.text for t in card.find_all('span', class_=\"supreme-product-card-description__item-text\")])\n",
    "                data.loc[row, 'd0'] = \"&\".join(\n",
    "                    [t.text for t in card.find_all('a', class_=\"supreme-product-card-description__item-text\")])\n",
    "                # print(i, urlcard)\n",
    "            except (AttributeError, TypeError) as e:\n",
    "                print('error', e)\n",
    "            except IndexError:\n",
    "                print('IndexError')\n",
    "            except Exception as e:\n",
    "                print('ошибка:', e)\n",
    "                input('жду')\n",
    "            print(i, urlcard)\n",
    "            if i%100 == 0:\n",
    "                print('saved', i, savereserve_csv(data))\n",
    "            \n",
    "        lastfile = savereserve_csv(data)\n",
    "        print('saved last', i, lastfile)\n",
    "        task.dict['datestr'] = datetime.datetime.now().strftime('%Y-%m-%d-%H-%M')\n",
    "        task.dict['parcing'] = lastfile\n",
    "        return data\n",
    "\n",
    "\n",
    "\n",
    "      "
   ]
  },
  {
   "cell_type": "markdown",
   "metadata": {},
   "source": [
    "## Тесты модуля разработки"
   ]
  },
  {
   "cell_type": "code",
   "execution_count": 39,
   "metadata": {},
   "outputs": [],
   "source": [
    "dtask = {'name':'SL_diamonds',\n",
    "         'domain': 'https://sunlight.net/',\n",
    "         #'links':[],\n",
    "         'urls0':'https://sunlight.net/catalog/diamonds-all.html',\n",
    "         'urlslast':'https://sunlight.net/catalog/diamonds-all/page-4/',\n",
    "         'descr':''}\n",
    "        "
   ]
  },
  {
   "cell_type": "code",
   "execution_count": 40,
   "metadata": {},
   "outputs": [
    {
     "name": "stdout",
     "output_type": "stream",
     "text": [
      "установка : SL_diamonds2022-09-07-17-29\n"
     ]
    }
   ],
   "source": [
    "task = Dtask(dtask)"
   ]
  },
  {
   "cell_type": "code",
   "execution_count": 41,
   "metadata": {},
   "outputs": [],
   "source": [
    "#task = Dtask({'name':'SL_diamonds2'})"
   ]
  },
  {
   "cell_type": "code",
   "execution_count": 42,
   "metadata": {},
   "outputs": [],
   "source": [
    "#task.load()"
   ]
  },
  {
   "cell_type": "code",
   "execution_count": 48,
   "metadata": {},
   "outputs": [
    {
     "name": "stdout",
     "output_type": "stream",
     "text": [
      "task name: SL_diamonds2022-09-07-17-29\n",
      "links len =  180 \n",
      "\n",
      "{'name': 'SL_diamonds2022-09-07-17-29',\n",
      "'domain': 'https://sunlight.net/',\n",
      "'urls0': 'https://sunlight.net/catalog/diamonds-all.html',\n",
      "'urlslast': 'https://sunlight.net/catalog/diamonds-all/page-3/',\n",
      "'descr': '',\n",
      "'datestr0': '2022-09-07-17-29',\n",
      "'datestr': None,\n",
      "}\n"
     ]
    }
   ],
   "source": [
    "task.print()"
   ]
  },
  {
   "cell_type": "code",
   "execution_count": 47,
   "metadata": {},
   "outputs": [],
   "source": [
    "#task.dict['urlslast']= 'https://sunlight.net/catalog/diamonds-all/page-3/'"
   ]
  },
  {
   "cell_type": "code",
   "execution_count": 288,
   "metadata": {},
   "outputs": [
    {
     "name": "stdout",
     "output_type": "stream",
     "text": [
      "не правильный словарь\n",
      "dict записан:  d_SL_diamonds2022-09-07-08-24_2022-09-07-08-25.json\n"
     ]
    }
   ],
   "source": [
    "#task.save()"
   ]
  },
  {
   "cell_type": "code",
   "execution_count": 8,
   "metadata": {},
   "outputs": [],
   "source": [
    "#task.load()"
   ]
  },
  {
   "cell_type": "code",
   "execution_count": 44,
   "metadata": {},
   "outputs": [
    {
     "name": "stdout",
     "output_type": "stream",
     "text": [
      "create\n"
     ]
    }
   ],
   "source": [
    "site = Site()"
   ]
  },
  {
   "cell_type": "code",
   "execution_count": 49,
   "metadata": {},
   "outputs": [
    {
     "name": "stdout",
     "output_type": "stream",
     "text": [
      "0 https://sunlight.net/catalog/diamonds-all.html\n",
      "60 links is ready  /catalog/ring_165495.html ... /catalog/earring_146527.html\n",
      "1 https://sunlight.net/catalog/diamonds-all/page-2/\n",
      "60 links is ready  /catalog/pendants_58553.html ... /catalog/earring_313143.html\n"
     ]
    }
   ],
   "source": [
    "site.getlinks(task)"
   ]
  },
  {
   "cell_type": "code",
   "execution_count": 50,
   "metadata": {},
   "outputs": [
    {
     "name": "stdout",
     "output_type": "stream",
     "text": [
      "task name: SL_diamonds2022-09-07-17-29\n",
      "links len =  120 \n",
      "\n",
      "{'name': 'SL_diamonds2022-09-07-17-29',\n",
      "'domain': 'https://sunlight.net/',\n",
      "'urls0': 'https://sunlight.net/catalog/diamonds-all.html',\n",
      "'urlslast': 'https://sunlight.net/catalog/diamonds-all/page-3/',\n",
      "'descr': '',\n",
      "'datestr0': '2022-09-07-17-29',\n",
      "'datestr': None,\n",
      "}\n"
     ]
    }
   ],
   "source": [
    "task.print()"
   ]
  },
  {
   "cell_type": "code",
   "execution_count": 51,
   "metadata": {},
   "outputs": [
    {
     "name": "stdout",
     "output_type": "stream",
     "text": [
      "парсинг   120\n",
      "0 https://sunlight.net//catalog/ring_165495.html\n",
      "saved 0 results//_reserve_SL_diamonds2022-09-07-17-292022-09-07-17-31.csv\n",
      "1 https://sunlight.net//catalog/ring_146537.html\n",
      "2 https://sunlight.net//catalog/ring_57830.html\n",
      "3 https://sunlight.net//catalog/ring_47720.html\n",
      "4 https://sunlight.net//catalog/ring_108790.html\n",
      "5 https://sunlight.net//catalog/ring_109474.html\n",
      "6 https://sunlight.net//catalog/ring_108796.html\n",
      "7 https://sunlight.net//catalog/ring_152015.html\n",
      "8 https://sunlight.net//catalog/ring_56703.html\n",
      "9 https://sunlight.net//catalog/ring_48271.html\n",
      "10 https://sunlight.net//catalog/earring_108798.html\n",
      "11 https://sunlight.net//catalog/ring_238293.html\n",
      "12 https://sunlight.net//catalog/ring_283369.html\n",
      "13 https://sunlight.net//catalog/ring_69240.html\n",
      "14 https://sunlight.net//catalog/ring_56676.html\n",
      "15 https://sunlight.net//catalog/earring_48270.html\n",
      "16 https://sunlight.net//catalog/earring_47719.html\n",
      "17 https://sunlight.net//catalog/ring_100269.html\n",
      "18 https://sunlight.net//catalog/ring_234085.html\n",
      "19 https://sunlight.net//catalog/earring_146521.html\n",
      "20 https://sunlight.net//catalog/earring_56677.html\n",
      "21 https://sunlight.net//catalog/earring_146538.html\n",
      "22 https://sunlight.net//catalog/ring_61080.html\n",
      "23 https://sunlight.net//catalog/pendants_78054.html\n",
      "24 https://sunlight.net//catalog/ring_75616.html\n",
      "25 https://sunlight.net//catalog/ring_57753.html\n",
      "26 https://sunlight.net//catalog/pendants_290415.html\n",
      "27 https://sunlight.net//catalog/earring_285237.html\n",
      "28 https://sunlight.net//catalog/ring_108063.html\n",
      "29 https://sunlight.net//catalog/ring_69239.html\n",
      "30 https://sunlight.net//catalog/earring_58796.html\n",
      "31 https://sunlight.net//catalog/earring_108791.html\n",
      "32 https://sunlight.net//catalog/ring_58795.html\n",
      "33 https://sunlight.net//catalog/ring_93264.html\n",
      "34 https://sunlight.net//catalog/pendants_78052.html\n",
      "35 https://sunlight.net//catalog/earring_69242.html\n",
      "36 https://sunlight.net//catalog/earring_75617.html\n",
      "37 https://sunlight.net//catalog/ring_276995.html\n",
      "38 https://sunlight.net//catalog/pendants_45211.html\n",
      "39 https://sunlight.net//catalog/earring_100270.html\n",
      "40 https://sunlight.net//catalog/earring_286758.html\n",
      "41 https://sunlight.net//catalog/earring_69241.html\n",
      "42 https://sunlight.net//catalog/pendants_63494.html\n",
      "43 https://sunlight.net//catalog/earring_81222.html\n",
      "44 https://sunlight.net//catalog/earring_276996.html\n",
      "45 https://sunlight.net//catalog/earring_93288.html\n",
      "46 https://sunlight.net//catalog/earring_108064.html\n",
      "47 https://sunlight.net//catalog/earring_58181.html\n",
      "48 https://sunlight.net//catalog/earring389.html\n",
      "49 https://sunlight.net//catalog/pendants_312887.html\n",
      "50 https://sunlight.net//catalog/ring_92006.html\n",
      "51 https://sunlight.net//catalog/ring_76218.html\n",
      "52 https://sunlight.net//catalog/earring_76219.html\n",
      "53 https://sunlight.net//catalog/pendants_279448.html\n",
      "54 https://sunlight.net//catalog/ring_277113.html\n",
      "55 https://sunlight.net//catalog/earring_81220.html\n",
      "56 https://sunlight.net//catalog/ring_83601.html\n",
      "57 https://sunlight.net//catalog/earring_81221.html\n",
      "58 https://sunlight.net//catalog/earring_92680.html\n",
      "59 https://sunlight.net//catalog/earring_146527.html\n",
      "60 https://sunlight.net//catalog/pendants_58553.html\n",
      "61 https://sunlight.net//catalog/ring_146526.html\n",
      "62 https://sunlight.net//catalog/ring_273388.html\n",
      "63 https://sunlight.net//catalog/ring_51292.html\n",
      "64 https://sunlight.net//catalog/ring_280238.html\n",
      "65 https://sunlight.net//catalog/pendants_50906.html\n",
      "66 https://sunlight.net//catalog/earring_275421.html\n",
      "67 https://sunlight.net//catalog/ring_125960.html\n",
      "68 https://sunlight.net//catalog/pendants_57784.html\n",
      "69 https://sunlight.net//catalog/ring_313658.html\n",
      "70 https://sunlight.net//catalog/pendants_58552.html\n",
      "71 https://sunlight.net//catalog/earring_51456.html\n",
      "72 https://sunlight.net//catalog/earring_66871.html\n",
      "73 https://sunlight.net//catalog/ring_66502.html\n",
      "74 https://sunlight.net//catalog/ring_307734.html\n",
      "75 https://sunlight.net//catalog/ring_275418.html\n",
      "76 https://sunlight.net//catalog/earring_123837.html\n",
      "77 https://sunlight.net//catalog/earring_56508.html\n",
      "78 https://sunlight.net//catalog/ring_157318.html\n",
      "79 https://sunlight.net//catalog/ring_99436.html\n",
      "80 https://sunlight.net//catalog/ring_58133.html\n",
      "81 https://sunlight.net//catalog/pendants_66503.html\n",
      "82 https://sunlight.net//catalog/earring_55920.html\n",
      "83 https://sunlight.net//catalog/ring_76111.html\n",
      "84 https://sunlight.net//catalog/earring_272173.html\n",
      "85 https://sunlight.net//catalog/ring_108792.html\n",
      "86 https://sunlight.net//catalog/ring_58184.html\n",
      "87 https://sunlight.net//catalog/ring_112488.html\n",
      "88 https://sunlight.net//catalog/ring_99435.html\n",
      "89 https://sunlight.net//catalog/pendants_51455.html\n",
      "90 https://sunlight.net//catalog/ring206665.html\n",
      "91 https://sunlight.net//catalog/ring_157335.html\n",
      "92 https://sunlight.net//catalog/ring_71585.html\n",
      "93 https://sunlight.net//catalog/ring_53651.html\n",
      "94 https://sunlight.net//catalog/ring_272086.html\n",
      "95 https://sunlight.net//catalog/ring_56869.html\n",
      "96 https://sunlight.net//catalog/ring_157565.html\n",
      "97 https://sunlight.net//catalog/earring_70808.html\n",
      "98 https://sunlight.net//catalog/ring_57970.html\n",
      "99 https://sunlight.net//catalog/ring_123836.html\n",
      "100 https://sunlight.net//catalog/ring_51515.html\n",
      "saved 100 results//_reserve_SL_diamonds2022-09-07-17-292022-09-07-17-34.csv\n",
      "101 https://sunlight.net//catalog/ring_63348.html\n",
      "102 https://sunlight.net//catalog/ring_157306.html\n",
      "103 https://sunlight.net//catalog/earring_157324.html\n",
      "104 https://sunlight.net//catalog/ring_276698.html\n",
      "105 https://sunlight.net//catalog/ring_69296.html\n",
      "106 https://sunlight.net//catalog/earring_56870.html\n",
      "107 https://sunlight.net//catalog/ring_68426.html\n",
      "108 https://sunlight.net//catalog/earring_279559.html\n",
      "109 https://sunlight.net//catalog/earring_157307.html\n",
      "110 https://sunlight.net//catalog/ring_3932.html\n",
      "111 https://sunlight.net//catalog/ring_126486.html\n",
      "112 https://sunlight.net//catalog/ring_69894.html\n",
      "113 https://sunlight.net//catalog/ring_261761.html\n",
      "114 https://sunlight.net//catalog/ring_80948.html\n",
      "115 https://sunlight.net//catalog/earring_54694.html\n",
      "116 https://sunlight.net//catalog/earring_69297.html\n",
      "117 https://sunlight.net//catalog/pendants_108794.html\n",
      "118 https://sunlight.net//catalog/earring_71405.html\n",
      "119 https://sunlight.net//catalog/earring_313143.html\n",
      "saved last 119 results//_reserve_SL_diamonds2022-09-07-17-292022-09-07-17-34.csv\n"
     ]
    },
    {
     "data": {
      "text/html": [
       "<div>\n",
       "<style scoped>\n",
       "    .dataframe tbody tr th:only-of-type {\n",
       "        vertical-align: middle;\n",
       "    }\n",
       "\n",
       "    .dataframe tbody tr th {\n",
       "        vertical-align: top;\n",
       "    }\n",
       "\n",
       "    .dataframe thead th {\n",
       "        text-align: right;\n",
       "    }\n",
       "</style>\n",
       "<table border=\"1\" class=\"dataframe\">\n",
       "  <thead>\n",
       "    <tr style=\"text-align: right;\">\n",
       "      <th></th>\n",
       "      <th>h1</th>\n",
       "      <th>art</th>\n",
       "      <th>price</th>\n",
       "      <th>price2</th>\n",
       "      <th>gold</th>\n",
       "      <th>gold2</th>\n",
       "      <th>weight</th>\n",
       "      <th>gems</th>\n",
       "      <th>gems2</th>\n",
       "      <th>url</th>\n",
       "      <th>d1</th>\n",
       "      <th>d0</th>\n",
       "    </tr>\n",
       "  </thead>\n",
       "  <tbody>\n",
       "    <tr>\n",
       "      <th>0</th>\n",
       "      <td>Золотое кольцо «Бриллианты Якутии»</td>\n",
       "      <td>Артикул: 165495</td>\n",
       "      <td>4990₽</td>\n",
       "      <td>24950₽</td>\n",
       "      <td>Артикул: 165495;Кольцо «Бриллианты Якутии» с 2...</td>\n",
       "      <td>NaN</td>\n",
       "      <td>NaN</td>\n",
       "      <td>NaN</td>\n",
       "      <td>NaN</td>\n",
       "      <td>https://sunlight.net//catalog/ring_165495.html</td>\n",
       "      <td>3101-K5R-04&amp;РОССИЯ&amp;Розовое золото&amp;Бриллиант&amp;0....</td>\n",
       "      <td>Бриллианты Якутии&amp;Бриллианты Якутии</td>\n",
       "    </tr>\n",
       "    <tr>\n",
       "      <th>1</th>\n",
       "      <td>Золотое кольцо «Бриллианты Якутии»</td>\n",
       "      <td>Артикул: 146537</td>\n",
       "      <td>11990₽</td>\n",
       "      <td>39967₽</td>\n",
       "      <td>Артикул: 146537;Кольцо «Бриллианты Якутии» с 1...</td>\n",
       "      <td>NaN</td>\n",
       "      <td>NaN</td>\n",
       "      <td>NaN</td>\n",
       "      <td>NaN</td>\n",
       "      <td>https://sunlight.net//catalog/ring_146537.html</td>\n",
       "      <td>70669-K5R-01&amp;РОССИЯ&amp;Розовое золото&amp;Бриллиант&amp;1...</td>\n",
       "      <td>Бриллианты Якутии&amp;Бриллианты Якутии</td>\n",
       "    </tr>\n",
       "    <tr>\n",
       "      <th>2</th>\n",
       "      <td>Золотое кольцо «Бриллианты Якутии»</td>\n",
       "      <td>Артикул: 57830</td>\n",
       "      <td>19990₽</td>\n",
       "      <td>66633₽</td>\n",
       "      <td>Артикул: 57830;Кольцо «Бриллианты Якутии» с 1 ...</td>\n",
       "      <td>NaN</td>\n",
       "      <td>NaN</td>\n",
       "      <td>NaN</td>\n",
       "      <td>NaN</td>\n",
       "      <td>https://sunlight.net//catalog/ring_57830.html</td>\n",
       "      <td>0490-K5R-02&amp;РОССИЯ&amp;Розовое золото&amp;Бриллиант&amp;1....</td>\n",
       "      <td>Бриллианты Якутии&amp;Бриллианты Якутии</td>\n",
       "    </tr>\n",
       "    <tr>\n",
       "      <th>3</th>\n",
       "      <td>Золотое кольцо «Бриллианты Якутии»</td>\n",
       "      <td>Артикул: 47720</td>\n",
       "      <td>10990₽</td>\n",
       "      <td>36633₽</td>\n",
       "      <td>Артикул: 47720;Кольцо «Бриллианты Якутии» с 1 ...</td>\n",
       "      <td>NaN</td>\n",
       "      <td>NaN</td>\n",
       "      <td>NaN</td>\n",
       "      <td>NaN</td>\n",
       "      <td>https://sunlight.net//catalog/ring_47720.html</td>\n",
       "      <td>0496-K5R-01&amp;РОССИЯ&amp;Розовое золото&amp;Бриллиант&amp;1,...</td>\n",
       "      <td>Бриллианты Якутии&amp;Бриллианты Якутии</td>\n",
       "    </tr>\n",
       "    <tr>\n",
       "      <th>4</th>\n",
       "      <td>Золотое кольцо с бриллиантами</td>\n",
       "      <td>Артикул: 108790</td>\n",
       "      <td>9990₽</td>\n",
       "      <td>33300₽</td>\n",
       "      <td>Артикул: 108790;Кольцо с 55 бриллиантами, огра...</td>\n",
       "      <td>NaN</td>\n",
       "      <td>NaN</td>\n",
       "      <td>NaN</td>\n",
       "      <td>NaN</td>\n",
       "      <td>https://sunlight.net//catalog/ring_108790.html</td>\n",
       "      <td>70521-K5R-01&amp;РОССИЯ&amp;Розовое золото&amp;Бриллиант&amp;1...</td>\n",
       "      <td>Бриллианты Якутии&amp;Бриллианты. Классика</td>\n",
       "    </tr>\n",
       "    <tr>\n",
       "      <th>...</th>\n",
       "      <td>...</td>\n",
       "      <td>...</td>\n",
       "      <td>...</td>\n",
       "      <td>...</td>\n",
       "      <td>...</td>\n",
       "      <td>...</td>\n",
       "      <td>...</td>\n",
       "      <td>...</td>\n",
       "      <td>...</td>\n",
       "      <td>...</td>\n",
       "      <td>...</td>\n",
       "      <td>...</td>\n",
       "    </tr>\n",
       "    <tr>\n",
       "      <th>115</th>\n",
       "      <td>Золотые серьги с топазами и бриллиантами</td>\n",
       "      <td>Артикул: 54694</td>\n",
       "      <td>24990₽</td>\n",
       "      <td>49980₽</td>\n",
       "      <td>Артикул: 54694;Серьги с 20 бриллиантами, огран...</td>\n",
       "      <td>NaN</td>\n",
       "      <td>NaN</td>\n",
       "      <td>NaN</td>\n",
       "      <td>NaN</td>\n",
       "      <td>https://sunlight.net//catalog/earring_54694.html</td>\n",
       "      <td>9347-C5R-08&amp;РОССИЯ&amp;Розовое золото&amp;Бриллиант; Т...</td>\n",
       "      <td>SERGEY GRIBNYAKOV&amp;ЗОЛОТО. ТОПАЗЫ</td>\n",
       "    </tr>\n",
       "    <tr>\n",
       "      <th>116</th>\n",
       "      <td>Золотые серьги с изумрудами и бриллиантами</td>\n",
       "      <td>Артикул: 69297</td>\n",
       "      <td>33990₽</td>\n",
       "      <td>67980₽</td>\n",
       "      <td>Артикул: 69297;Серьги с 26 бриллиантами, огран...</td>\n",
       "      <td>NaN</td>\n",
       "      <td>NaN</td>\n",
       "      <td>NaN</td>\n",
       "      <td>NaN</td>\n",
       "      <td>https://sunlight.net//catalog/earring_69297.html</td>\n",
       "      <td>9945-C5R-05&amp;РОССИЯ&amp;Розовое золото&amp;Бриллиант; И...</td>\n",
       "      <td>SERGEY GRIBNYAKOV&amp;Золото. Изумруды</td>\n",
       "    </tr>\n",
       "    <tr>\n",
       "      <th>117</th>\n",
       "      <td>Золотая подвеска «Бриллианты Якутии»</td>\n",
       "      <td>Артикул: 108794</td>\n",
       "      <td>3990₽</td>\n",
       "      <td>39900₽</td>\n",
       "      <td>Артикул: 108794;Подвеска «Бриллианты Якутии» с...</td>\n",
       "      <td>NaN</td>\n",
       "      <td>NaN</td>\n",
       "      <td>NaN</td>\n",
       "      <td>NaN</td>\n",
       "      <td>https://sunlight.net//catalog/pendants_108794....</td>\n",
       "      <td>70530-P5R-01&amp;РОССИЯ&amp;Розовое золото&amp;Бриллиант&amp;0...</td>\n",
       "      <td>Бриллианты Якутии&amp;Бриллианты Якутии</td>\n",
       "    </tr>\n",
       "    <tr>\n",
       "      <th>118</th>\n",
       "      <td>Золотые серьги «Бриллианты Якутии»</td>\n",
       "      <td>Артикул: 71405</td>\n",
       "      <td>71990₽</td>\n",
       "      <td>143980₽</td>\n",
       "      <td>Артикул: 71405;Серьги «Бриллианты Якутии» с 2 ...</td>\n",
       "      <td>NaN</td>\n",
       "      <td>NaN</td>\n",
       "      <td>NaN</td>\n",
       "      <td>NaN</td>\n",
       "      <td>https://sunlight.net//catalog/earring_71405.html</td>\n",
       "      <td>3598-C5R-01&amp;РОССИЯ&amp;Розовое золото&amp;Бриллиант&amp;2....</td>\n",
       "      <td>Бриллианты Якутии&amp;Бриллианты Якутии</td>\n",
       "    </tr>\n",
       "    <tr>\n",
       "      <th>119</th>\n",
       "      <td>Золотые серьги с жемчугом и бриллиантами</td>\n",
       "      <td>Артикул: 313143</td>\n",
       "      <td>20990₽</td>\n",
       "      <td>41980₽</td>\n",
       "      <td>Артикул: 313143;Серьги с 16 бриллиантами, огра...</td>\n",
       "      <td>NaN</td>\n",
       "      <td>NaN</td>\n",
       "      <td>NaN</td>\n",
       "      <td>NaN</td>\n",
       "      <td>https://sunlight.net//catalog/earring_313143.html</td>\n",
       "      <td>71249-С5R-02&amp;РОССИЯ&amp;Бриллиант; Жемчуг&amp;3.3 г</td>\n",
       "      <td>SERGEY GRIBNYAKOV&amp;Золото. Жемчуг</td>\n",
       "    </tr>\n",
       "  </tbody>\n",
       "</table>\n",
       "<p>120 rows × 12 columns</p>\n",
       "</div>"
      ],
      "text/plain": [
       "                                             h1              art   price  \\\n",
       "0            Золотое кольцо «Бриллианты Якутии»  Артикул: 165495   4990₽   \n",
       "1            Золотое кольцо «Бриллианты Якутии»  Артикул: 146537  11990₽   \n",
       "2            Золотое кольцо «Бриллианты Якутии»   Артикул: 57830  19990₽   \n",
       "3            Золотое кольцо «Бриллианты Якутии»   Артикул: 47720  10990₽   \n",
       "4                 Золотое кольцо с бриллиантами  Артикул: 108790   9990₽   \n",
       "..                                          ...              ...     ...   \n",
       "115    Золотые серьги с топазами и бриллиантами   Артикул: 54694  24990₽   \n",
       "116  Золотые серьги с изумрудами и бриллиантами   Артикул: 69297  33990₽   \n",
       "117        Золотая подвеска «Бриллианты Якутии»  Артикул: 108794   3990₽   \n",
       "118          Золотые серьги «Бриллианты Якутии»   Артикул: 71405  71990₽   \n",
       "119    Золотые серьги с жемчугом и бриллиантами  Артикул: 313143  20990₽   \n",
       "\n",
       "      price2                                               gold gold2 weight  \\\n",
       "0     24950₽  Артикул: 165495;Кольцо «Бриллианты Якутии» с 2...   NaN    NaN   \n",
       "1     39967₽  Артикул: 146537;Кольцо «Бриллианты Якутии» с 1...   NaN    NaN   \n",
       "2     66633₽  Артикул: 57830;Кольцо «Бриллианты Якутии» с 1 ...   NaN    NaN   \n",
       "3     36633₽  Артикул: 47720;Кольцо «Бриллианты Якутии» с 1 ...   NaN    NaN   \n",
       "4     33300₽  Артикул: 108790;Кольцо с 55 бриллиантами, огра...   NaN    NaN   \n",
       "..       ...                                                ...   ...    ...   \n",
       "115   49980₽  Артикул: 54694;Серьги с 20 бриллиантами, огран...   NaN    NaN   \n",
       "116   67980₽  Артикул: 69297;Серьги с 26 бриллиантами, огран...   NaN    NaN   \n",
       "117   39900₽  Артикул: 108794;Подвеска «Бриллианты Якутии» с...   NaN    NaN   \n",
       "118  143980₽  Артикул: 71405;Серьги «Бриллианты Якутии» с 2 ...   NaN    NaN   \n",
       "119   41980₽  Артикул: 313143;Серьги с 16 бриллиантами, огра...   NaN    NaN   \n",
       "\n",
       "    gems gems2                                                url  \\\n",
       "0    NaN   NaN     https://sunlight.net//catalog/ring_165495.html   \n",
       "1    NaN   NaN     https://sunlight.net//catalog/ring_146537.html   \n",
       "2    NaN   NaN      https://sunlight.net//catalog/ring_57830.html   \n",
       "3    NaN   NaN      https://sunlight.net//catalog/ring_47720.html   \n",
       "4    NaN   NaN     https://sunlight.net//catalog/ring_108790.html   \n",
       "..   ...   ...                                                ...   \n",
       "115  NaN   NaN   https://sunlight.net//catalog/earring_54694.html   \n",
       "116  NaN   NaN   https://sunlight.net//catalog/earring_69297.html   \n",
       "117  NaN   NaN  https://sunlight.net//catalog/pendants_108794....   \n",
       "118  NaN   NaN   https://sunlight.net//catalog/earring_71405.html   \n",
       "119  NaN   NaN  https://sunlight.net//catalog/earring_313143.html   \n",
       "\n",
       "                                                    d1  \\\n",
       "0    3101-K5R-04&РОССИЯ&Розовое золото&Бриллиант&0....   \n",
       "1    70669-K5R-01&РОССИЯ&Розовое золото&Бриллиант&1...   \n",
       "2    0490-K5R-02&РОССИЯ&Розовое золото&Бриллиант&1....   \n",
       "3    0496-K5R-01&РОССИЯ&Розовое золото&Бриллиант&1,...   \n",
       "4    70521-K5R-01&РОССИЯ&Розовое золото&Бриллиант&1...   \n",
       "..                                                 ...   \n",
       "115  9347-C5R-08&РОССИЯ&Розовое золото&Бриллиант; Т...   \n",
       "116  9945-C5R-05&РОССИЯ&Розовое золото&Бриллиант; И...   \n",
       "117  70530-P5R-01&РОССИЯ&Розовое золото&Бриллиант&0...   \n",
       "118  3598-C5R-01&РОССИЯ&Розовое золото&Бриллиант&2....   \n",
       "119        71249-С5R-02&РОССИЯ&Бриллиант; Жемчуг&3.3 г   \n",
       "\n",
       "                                         d0  \n",
       "0       Бриллианты Якутии&Бриллианты Якутии  \n",
       "1       Бриллианты Якутии&Бриллианты Якутии  \n",
       "2       Бриллианты Якутии&Бриллианты Якутии  \n",
       "3       Бриллианты Якутии&Бриллианты Якутии  \n",
       "4    Бриллианты Якутии&Бриллианты. Классика  \n",
       "..                                      ...  \n",
       "115        SERGEY GRIBNYAKOV&ЗОЛОТО. ТОПАЗЫ  \n",
       "116      SERGEY GRIBNYAKOV&Золото. Изумруды  \n",
       "117     Бриллианты Якутии&Бриллианты Якутии  \n",
       "118     Бриллианты Якутии&Бриллианты Якутии  \n",
       "119        SERGEY GRIBNYAKOV&Золото. Жемчуг  \n",
       "\n",
       "[120 rows x 12 columns]"
      ]
     },
     "execution_count": 51,
     "metadata": {},
     "output_type": "execute_result"
    }
   ],
   "source": [
    "site.parcing(task)"
   ]
  },
  {
   "cell_type": "code",
   "execution_count": 52,
   "metadata": {},
   "outputs": [
    {
     "name": "stdout",
     "output_type": "stream",
     "text": [
      "task name: SL_diamonds2022-09-07-17-29\n",
      "links len =  120 \n",
      "\n",
      "{'name': 'SL_diamonds2022-09-07-17-29',\n",
      "'domain': 'https://sunlight.net/',\n",
      "'urls0': 'https://sunlight.net/catalog/diamonds-all.html',\n",
      "'urlslast': 'https://sunlight.net/catalog/diamonds-all/page-3/',\n",
      "'descr': '',\n",
      "'datestr0': '2022-09-07-17-29',\n",
      "'datestr': '2022-09-07-17-34',\n",
      "'parcing': 'results//_reserve_SL_diamonds2022-09-07-17-292022-09-07-17-34.csv',\n",
      "}\n"
     ]
    }
   ],
   "source": [
    "task.print()"
   ]
  },
  {
   "cell_type": "code",
   "execution_count": 271,
   "metadata": {},
   "outputs": [],
   "source": [
    "#task.dict['parcing']='results//_reserve_SL_diamonds2022-09-07-08-07.csv'"
   ]
  },
  {
   "cell_type": "code",
   "execution_count": 53,
   "metadata": {
    "scrolled": true
   },
   "outputs": [
    {
     "name": "stdout",
     "output_type": "stream",
     "text": [
      "не правильный словарь\n",
      "dict записан:  d_SL_diamonds2022-09-07-17-29_2022-09-07-17-34.json\n"
     ]
    }
   ],
   "source": [
    "task.save()"
   ]
  },
  {
   "cell_type": "code",
   "execution_count": 75,
   "metadata": {},
   "outputs": [
    {
     "name": "stdout",
     "output_type": "stream",
     "text": [
      "установка : name2022-09-07-12-52\n"
     ]
    }
   ],
   "source": [
    "t=Dtask({})"
   ]
  },
  {
   "cell_type": "code",
   "execution_count": 76,
   "metadata": {},
   "outputs": [
    {
     "name": "stdout",
     "output_type": "stream",
     "text": [
      "[(0, 'd_SL_diamonds2022-09-06-22-58_2022-09-06-23-02.json'), (1, 'd_SL_diamonds2022-09-07-06-31_2022-09-07-06-34.json'), (2, 'd_SL_diamonds2022-09-07-08-24_2022-09-07-08-25.json'), (3, 'd_SL_diamonds2022-09-07-12-41_2022-09-07-12-51.json'), (4, 'd_SL_diamonds_2022-09-07-08-07.json')]\n",
      "введите номер файла: 3\n",
      "dict загружен :tasklogs/d_SL_diamonds2022-09-07-12-41_2022-09-07-12-51.json,\n",
      " всего        \n",
      " загружены атрибуты dict_keys(['name', 'domain', 'urls0', 'urlslast', 'descr', 'datestr0', 'datestr', 'links', 'parcing'])         \n",
      "надо определить имя, из какого атрибута взять? \n",
      "        [(0, 'name'), (1, 'domain'), (2, 'urls0'), (3, 'urlslast'), (4, 'descr'), (5, 'datestr0'), (6, 'datestr'), (7, 'links'), (8, 'parcing')]\n",
      "номер: 0\n",
      "выбрано - SL_diamonds2022-09-07-12-41\n"
     ]
    }
   ],
   "source": [
    "t.load()"
   ]
  },
  {
   "cell_type": "code",
   "execution_count": 77,
   "metadata": {},
   "outputs": [
    {
     "name": "stdout",
     "output_type": "stream",
     "text": [
      "task name: SL_diamonds2022-09-07-12-41\n",
      "links len =  120 \n",
      "\n",
      "{'name': 'SL_diamonds2022-09-07-12-41',\n",
      "'domain': 'https://sunlight.net/',\n",
      "'urls0': 'https://sunlight.net/catalog/diamonds-all.html',\n",
      "'urlslast': 'https://sunlight.net/catalog/diamonds-all/page-3/',\n",
      "'descr': '',\n",
      "'datestr0': '2022-09-07-12-41',\n",
      "'datestr': '2022-09-07-12-51',\n",
      "'parcing': 'results//_reserve_SL_diamonds2022-09-07-12-412022-09-07-12-51.csv',\n",
      "}\n"
     ]
    }
   ],
   "source": [
    "t.print()"
   ]
  },
  {
   "cell_type": "code",
   "execution_count": null,
   "metadata": {},
   "outputs": [],
   "source": []
  },
  {
   "cell_type": "code",
   "execution_count": null,
   "metadata": {},
   "outputs": [],
   "source": []
  },
  {
   "cell_type": "code",
   "execution_count": null,
   "metadata": {},
   "outputs": [],
   "source": []
  },
  {
   "cell_type": "code",
   "execution_count": null,
   "metadata": {},
   "outputs": [],
   "source": []
  },
  {
   "cell_type": "code",
   "execution_count": null,
   "metadata": {},
   "outputs": [],
   "source": []
  },
  {
   "cell_type": "code",
   "execution_count": null,
   "metadata": {},
   "outputs": [],
   "source": []
  },
  {
   "cell_type": "markdown",
   "metadata": {},
   "source": [
    "## Добываем линки на карточки SUNLIGHT "
   ]
  },
  {
   "cell_type": "code",
   "execution_count": null,
   "metadata": {},
   "outputs": [],
   "source": [
    "#taskname = 'SL_всеЮИ'\n",
    "#taskdescr = '579 стр с фильтром https://sunlight.net/catalog/?material=326,327,328,329,3603,632&product_type=317,319,365,366,373,4,414,478,493,494,5,541,745,8,890'\n",
    "#urls = 'https://sunlight.net/catalog/?material=326,327,328,329,3603,632&product_type=317,319,365,366,373,4,414,478,493,494,5,541,745,8,890'\n",
    "#domain = f'https://sunlight.net'"
   ]
  },
  {
   "cell_type": "code",
   "execution_count": null,
   "metadata": {},
   "outputs": [],
   "source": [
    "#links = []"
   ]
  },
  {
   "cell_type": "code",
   "execution_count": null,
   "metadata": {},
   "outputs": [],
   "source": [
    "\n",
    "links += getlinks_sunl(urls)\n",
    "for i in range(512,598):\n",
    "    #pages = f'page-{i}/'#все \n",
    "    pages = f'&page={i}'#без вставки\n",
    "\n",
    "    print(i, urls+pages)\n",
    "    links += getlinks_sunl(urls+pages)\n",
    "    "
   ]
  },
  {
   "cell_type": "code",
   "execution_count": null,
   "metadata": {},
   "outputs": [],
   "source": [
    "len(links)"
   ]
  },
  {
   "cell_type": "code",
   "execution_count": null,
   "metadata": {},
   "outputs": [],
   "source": [
    "links = list(set(links))"
   ]
  },
  {
   "cell_type": "code",
   "execution_count": null,
   "metadata": {},
   "outputs": [],
   "source": [
    "d2 = Dlinks()"
   ]
  },
  {
   "cell_type": "code",
   "execution_count": null,
   "metadata": {},
   "outputs": [],
   "source": [
    "d2.__doc__"
   ]
  },
  {
   "cell_type": "code",
   "execution_count": null,
   "metadata": {},
   "outputs": [],
   "source": [
    "taskname,  urls, domain, taskdescr"
   ]
  },
  {
   "cell_type": "code",
   "execution_count": null,
   "metadata": {},
   "outputs": [],
   "source": [
    "d2.save(taskname, links, urls, domain, taskdescr)"
   ]
  },
  {
   "cell_type": "code",
   "execution_count": null,
   "metadata": {},
   "outputs": [],
   "source": [
    "links = []"
   ]
  },
  {
   "cell_type": "code",
   "execution_count": null,
   "metadata": {},
   "outputs": [],
   "source": [
    "#def main():\n",
    "\n",
    "#urls = f'https://sunlight.net/catalog/'#все\n",
    "\n",
    "urls = f\"https://sunlight.net/catalog/?stone=1\" #без вставки\n",
    "domain = f'https://sunlight.net'\n",
    "links += getlinks_sunl(urls)\n",
    "for i in range(2,148):\n",
    "    #pages = f'page-{i}/'#все \n",
    "    pages = f'&page={i}'#без вставки\n",
    "\n",
    "    print(i, urls+pages)\n",
    "    links += getlinks_sunl(urls+pages)\n",
    "    "
   ]
  },
  {
   "cell_type": "code",
   "execution_count": null,
   "metadata": {},
   "outputs": [],
   "source": [
    "len(links)"
   ]
  },
  {
   "cell_type": "code",
   "execution_count": null,
   "metadata": {},
   "outputs": [],
   "source": [
    "#drop duplicates subset keep\n",
    "links = list(set(links))"
   ]
  },
  {
   "cell_type": "code",
   "execution_count": null,
   "metadata": {},
   "outputs": [],
   "source": [
    "domain+links[0]"
   ]
  },
  {
   "cell_type": "markdown",
   "metadata": {},
   "source": [
    "## Словарь линков (save-load)"
   ]
  },
  {
   "cell_type": "code",
   "execution_count": null,
   "metadata": {},
   "outputs": [],
   "source": [
    "import json"
   ]
  },
  {
   "cell_type": "code",
   "execution_count": null,
   "metadata": {},
   "outputs": [],
   "source": [
    "import datetime\n",
    "datestr = datetime.datetime.now().strftime('%Y-%m-%d-%H-%M')\n",
    "datestr"
   ]
  },
  {
   "cell_type": "code",
   "execution_count": null,
   "metadata": {},
   "outputs": [],
   "source": [
    "datestr"
   ]
  },
  {
   "cell_type": "code",
   "execution_count": null,
   "metadata": {},
   "outputs": [],
   "source": [
    "#Параметры задачи\n",
    "taskname, taskdescr =  'бескаменка300822', 'все БК  8810'"
   ]
  },
  {
   "cell_type": "code",
   "execution_count": null,
   "metadata": {},
   "outputs": [],
   "source": [
    "#Параметры линка\n",
    "datestr, domain, links"
   ]
  },
  {
   "cell_type": "code",
   "execution_count": null,
   "metadata": {},
   "outputs": [],
   "source": [
    "#словарь для сохранения\n",
    "dlinks = {'taskname':taskname, \n",
    "           'links': links,\n",
    "           'datestr':datestr,\n",
    "           'urls':urls,\n",
    "           'domain':domain,\n",
    "           'taskdescr':taskdescr}"
   ]
  },
  {
   "cell_type": "code",
   "execution_count": null,
   "metadata": {},
   "outputs": [],
   "source": [
    "with open(folderlink+'dlinks_sunlight'+datestr+'.json', 'w') as writefile:\n",
    "    json.dump(dlinks, writefile)"
   ]
  },
  {
   "cell_type": "code",
   "execution_count": null,
   "metadata": {},
   "outputs": [],
   "source": [
    "dlinks.keys()"
   ]
  },
  {
   "cell_type": "code",
   "execution_count": null,
   "metadata": {},
   "outputs": [],
   "source": [
    "folderlinks = 'links/'\n",
    "files = os.listdir(folderlink)\n",
    "print([e for e in enumerate(files)])"
   ]
  },
  {
   "cell_type": "code",
   "execution_count": null,
   "metadata": {},
   "outputs": [],
   "source": [
    "with open(folderlinks+files[0], 'r') as writefile:\n",
    "    dlinks = json.load(writefile)"
   ]
  },
  {
   "cell_type": "code",
   "execution_count": null,
   "metadata": {},
   "outputs": [],
   "source": [
    "dlinks"
   ]
  },
  {
   "cell_type": "code",
   "execution_count": null,
   "metadata": {},
   "outputs": [],
   "source": [
    "links = dlinks[taskname][0]\n",
    "len(links)"
   ]
  },
  {
   "cell_type": "code",
   "execution_count": null,
   "metadata": {},
   "outputs": [],
   "source": [
    "dlinks['domain']+dlinks['links'][1]"
   ]
  },
  {
   "cell_type": "code",
   "execution_count": null,
   "metadata": {},
   "outputs": [],
   "source": [
    "folderlink"
   ]
  },
  {
   "cell_type": "markdown",
   "metadata": {},
   "source": [
    "### Сборка функции или объекта"
   ]
  },
  {
   "cell_type": "code",
   "execution_count": null,
   "metadata": {},
   "outputs": [],
   "source": [
    "class Dlinks():\n",
    "    '''taskname, links, urls, domain, taskdescr, datestr=None'''\n",
    "    #import datetime\n",
    "    import json\n",
    "    import os\n",
    "    folderlinks = 'links/'\n",
    "    \n",
    "    def save(self, taskname, links, urls, domain, taskdescr, datestr=None):\n",
    "        self.taskname = taskname\n",
    "        self.links = links\n",
    "        self.urls = urls\n",
    "        self.domain = domain\n",
    "        self.taskdescr = taskdescr\n",
    "        if datestr:\n",
    "            self.datestr = datetime.datetime.now().strftime('%Y-%m-%d-%H-%M')\n",
    "        else:\n",
    "            self.datestr = datestr\n",
    "        dlinks = {'taskname':taskname, \n",
    "           'links': links,\n",
    "           'datestr':datestr,\n",
    "           'urls':urls,\n",
    "           'domain':domain,\n",
    "           'taskdescr':taskdescr}\n",
    "        \n",
    "        with open(self.folderlinks+'dlinks_'+self.taskname+'_'+datestr+'.json', 'w') as writefile:\n",
    "                   json.dump(dlinks, writefile)\n",
    "        print('линки записаны: ', self.folderlinks+'dlinks_'+self.taskname+'_'+datestr+'.json')\n",
    "        \n",
    "        \n",
    "    \n",
    "    def load(self):\n",
    "        files = os.listdir(self.folderlinks)\n",
    "        print([e for e in enumerate(files)])\n",
    "        i = int(input('введите номер файла: '))\n",
    "        with open(self.folderlinks + files[i], 'r') as writefile:\n",
    "            dlinks = json.load(writefile)\n",
    "        self.taskname = dlinks['taskname']\n",
    "        self.links = dlinks['links']\n",
    "        self.urls = dlinks['urls']\n",
    "        self.domain = dlinks['domain']\n",
    "        self.taskdescr = dlinks['taskdescr']\n",
    "        self.datestr = dlinks['datestr']\n",
    "        print(f'линки загружены с :{self.folderlinks + files[i]},\\n всего\\\n",
    "        {len(self.links)} линков,\\n загружены атрибуты {dlinks.keys()} \\\n",
    "        {self.taskname, self.urls, self.domain, self.taskdescr, self.datestr}')\n",
    "        return self.links    \n",
    "        "
   ]
  },
  {
   "cell_type": "code",
   "execution_count": null,
   "metadata": {},
   "outputs": [],
   "source": [
    "taskname, urls, domain, taskdescr, datestr = ('бескаменкаSL',\n",
    " 'https://sunlight.net/catalog/?stone=1',\n",
    " 'https://sunlight.net',\n",
    " 'все БК  8810',\n",
    " '2022-08-30-11-18')"
   ]
  },
  {
   "cell_type": "code",
   "execution_count": null,
   "metadata": {},
   "outputs": [],
   "source": [
    "taskname, urls, domain, taskdescr, datestr"
   ]
  },
  {
   "cell_type": "code",
   "execution_count": null,
   "metadata": {},
   "outputs": [],
   "source": [
    "olinks = Dlinks()"
   ]
  },
  {
   "cell_type": "code",
   "execution_count": null,
   "metadata": {},
   "outputs": [],
   "source": [
    "olinks?"
   ]
  },
  {
   "cell_type": "code",
   "execution_count": null,
   "metadata": {},
   "outputs": [],
   "source": [
    "olinks.save(taskname, links, urls, domain, taskdescr, datestr )"
   ]
  },
  {
   "cell_type": "code",
   "execution_count": null,
   "metadata": {},
   "outputs": [],
   "source": [
    "links = olinks.load()"
   ]
  },
  {
   "cell_type": "code",
   "execution_count": null,
   "metadata": {},
   "outputs": [],
   "source": [
    "links"
   ]
  },
  {
   "cell_type": "code",
   "execution_count": null,
   "metadata": {},
   "outputs": [],
   "source": [
    "olinks.domain"
   ]
  },
  {
   "cell_type": "code",
   "execution_count": null,
   "metadata": {},
   "outputs": [],
   "source": [
    "olinks.datestr"
   ]
  },
  {
   "cell_type": "code",
   "execution_count": null,
   "metadata": {},
   "outputs": [],
   "source": []
  },
  {
   "cell_type": "markdown",
   "metadata": {},
   "source": [
    "## Разработка парсера по карточкам"
   ]
  },
  {
   "cell_type": "code",
   "execution_count": null,
   "metadata": {},
   "outputs": [],
   "source": [
    "#urls = 'https://sunlight.net/catalog/page-3/'"
   ]
  },
  {
   "cell_type": "code",
   "execution_count": null,
   "metadata": {
    "scrolled": false
   },
   "outputs": [],
   "source": [
    "mysoup(urls)"
   ]
  },
  {
   "cell_type": "code",
   "execution_count": null,
   "metadata": {},
   "outputs": [],
   "source": [
    "#def getlinks(urls):\n",
    "quotes = mysoup(urls).find_all('a', class_=\"cl-item-link js-cl-item-link js-cl-item-root-link\")"
   ]
  },
  {
   "cell_type": "code",
   "execution_count": null,
   "metadata": {},
   "outputs": [],
   "source": [
    "len(quotes)"
   ]
  },
  {
   "cell_type": "code",
   "execution_count": null,
   "metadata": {},
   "outputs": [],
   "source": [
    "quotes[1].get(\"href\")"
   ]
  },
  {
   "cell_type": "code",
   "execution_count": null,
   "metadata": {},
   "outputs": [],
   "source": [
    "res = [q.get(\"href\") for q in quotes]\n",
    "#    print(len(res), 'links is ready ' , res[0], '...', res[-1])\n",
    "#    return res\n",
    "    "
   ]
  },
  {
   "cell_type": "code",
   "execution_count": null,
   "metadata": {},
   "outputs": [],
   "source": [
    "res"
   ]
  },
  {
   "cell_type": "code",
   "execution_count": null,
   "metadata": {},
   "outputs": [],
   "source": [
    "<a href=\"/catalog/pendants_90939.html\" class=\"cl-item-link js-cl-item-link js-cl-item-root-link\" itemprop=\"url\">\n",
    "                    <span itemprop=\"name\">Подвеска, вставка: фианит; наносапфир; Серебро 925 пробы.</span>\n",
    "                </a>\n"
   ]
  },
  {
   "cell_type": "code",
   "execution_count": null,
   "metadata": {},
   "outputs": [],
   "source": [
    "<a href=\"/catalog/ring_47781.html\" class=\"cl-item-link js-cl-item-link js-cl-item-root-link\" itemprop=\"url\">\n",
    "                    <span itemprop=\"name\">Кольцо, вставка: фианит; Серебро 925 пробы.</span>\n",
    "                </a>"
   ]
  },
  {
   "cell_type": "markdown",
   "metadata": {},
   "source": [
    "## Собранная функция парсера по карточкам"
   ]
  },
  {
   "cell_type": "markdown",
   "metadata": {},
   "source": [
    "### Версия 29-08-2022 SUNLIGHT"
   ]
  },
  {
   "cell_type": "code",
   "execution_count": null,
   "metadata": {},
   "outputs": [],
   "source": [
    "data = pd.DataFrame(columns=['h1','art','price','price2','gold','gold2','weight','gems','gems2','url'])\n"
   ]
  },
  {
   "cell_type": "code",
   "execution_count": null,
   "metadata": {},
   "outputs": [],
   "source": [
    "\n",
    "def parcing(links): \n",
    "\n",
    "    for i in range(3000):#links)):\n",
    "        try:\n",
    "            row = len(data)\n",
    "            urlcard = domain +links[i]\n",
    "            card = mysoup(urlcard)\n",
    "            data.loc[row,'url'] = urlcard\n",
    "            data.loc[row,'h1'] = card.find(\"h1\").text.strip()\n",
    "            data.loc[row,'art'] = card.find('div', class_=\"supreme-product-card__product-article-text\").text.strip()\n",
    "            data.loc[row,'price'] = card.find('div', class_=\"supreme-product-card__price-discount-price\").text.strip().replace('\\u202f', '').replace('\\xa0', '')\n",
    "            data.loc[row,'price2'] = card.find('div', class_=\"supreme-product-card__price-old\").text.strip().replace('\\u202f', '').replace('\\xa0', '')\n",
    "            a = card.find_all('p', class_=\"supreme-product-card__description supreme-product-card__description_default\")\n",
    "            data.loc[row,'gold'] = ';'.join([x.text for x in a])\n",
    "            data.loc[row,'d1'] = \"&\".join([t.text for t in card.find_all('span', class_=\"supreme-product-card-description__item-text\")])\n",
    "            data.loc[row,'d0'] = \"&\".join([t.text for t in card.find_all('a', class_=\"supreme-product-card-description__item-text\")])\n",
    "            #print(i, urlcard)\n",
    "        except (AttributeError,TypeError) as e:\n",
    "            print('error',e)\n",
    "        except IndexError:\n",
    "            print('indexerror len of = ' , len(card.find_all('div','detail__item-option')) )\n",
    "        print(i, urlcard)\n",
    "    \n",
    "def byrepost():\n",
    "\n",
    "    def gold(t,patt):\n",
    "        f = re.search(patt,t)\n",
    "        return f.group() if f else 're не найдено'\n",
    "    \n",
    "    pattern_gold = r'[Сс]ереб\\w+|[Зз]олот\\w*|[Сс]таль'\n",
    "    pattern_diam = r'[Бб]риллиант\\w*'\n",
    "    pattern_probe = r'[\\d]{,3}(?=\\s*проб)'\n",
    "    pattern_gramm = r'[\\d.\\d]{,5}(?=г;)'\n",
    "    pattern_vst = r'вставк\\w*'#r'вставк\\w*'\n",
    "    pattern_type = r'(?<=;)\\w+\\s?\\w*'        \n",
    "        \n",
    "    \n",
    "    data['diam'] = data.gold.apply(lambda x: gold(x, pattern_diam))\n",
    "    data['goldsilv'] = data.h1.apply(lambda x: gold(x, pattern_gold))\n",
    "    data['probe'] = data.gold.apply(lambda x: gold(x, pattern_probe))\n",
    "    data['gramm'] = data.gold.apply(lambda x: gold(x, pattern_gramm))\n",
    "    data['vst'] = data.gold.apply(lambda x: gold(x, pattern_vst))\n",
    "    data['type'] = data.gold.apply(lambda x: gold(x, pattern_type))"
   ]
  },
  {
   "cell_type": "code",
   "execution_count": null,
   "metadata": {},
   "outputs": [],
   "source": [
    "parcing(links)"
   ]
  },
  {
   "cell_type": "code",
   "execution_count": null,
   "metadata": {},
   "outputs": [],
   "source": [
    "byrepost()"
   ]
  },
  {
   "cell_type": "code",
   "execution_count": null,
   "metadata": {},
   "outputs": [],
   "source": [
    "data"
   ]
  },
  {
   "cell_type": "code",
   "execution_count": null,
   "metadata": {},
   "outputs": [],
   "source": [
    "#data = pd.DataFrame(columns=['h1','art','price','price2','gold','gold2','weight','gems','gems2','url'])"
   ]
  },
  {
   "cell_type": "code",
   "execution_count": null,
   "metadata": {},
   "outputs": [],
   "source": [
    "#29-08-2022 for sunlight 6000\n",
    "#25-08-2022 all\n",
    "#06-07-2022 серебро\n",
    "#16-06-2022 Для Алексея Сапфир Изумруд Рубин\n",
    "#24-05-2022\n",
    "#14-04-2022\n",
    "\n",
    "for i in range(len(links)):\n",
    "    try:\n",
    "        row = len(data)\n",
    "        urlcard = domain +links[i]\n",
    "        card = mysoup(urlcard)\n",
    "        data.loc[row,'url'] = urlcard\n",
    "        data.loc[row,'h1'] = card.find(\"h1\").text.strip()\n",
    "        data.loc[row,'art'] = card.find('div', class_=\"supreme-product-card__product-article-text\").text.strip()\n",
    "        data.loc[row,'price'] = card.find('div', class_=\"supreme-product-card__price-discount-price\").text.strip().replace('\\u202f', '').replace('\\xa0', '')\n",
    "        data.loc[row,'price2'] = card.find('div', class_=\"supreme-product-card__price-old\").text.strip().replace('\\u202f', '').replace('\\xa0', '')\n",
    "        a = card.find_all('p', class_=\"supreme-product-card__description supreme-product-card__description_default\")\n",
    "        data.loc[row,'gold'] = ';'.join([x.text for x in a])\n",
    "        data.loc[row,'d1'] = \"&\".join([t.text for t in card.find_all('span', class_=\"supreme-product-card-description__item-text\")])\n",
    "        data.loc[row,'d0'] = \"&\".join([t.text for t in card.find_all('a', class_=\"supreme-product-card-description__item-text\")])\n",
    "        #print(i, urlcard)\n",
    "    except (AttributeError,TypeError) as e:\n",
    "        print('error',e)\n",
    "    except IndexError:\n",
    "        print('indexerror len of = ' , len(card.find_all('div','detail__item-option')) )\n",
    "    print(i, urlcard)\n"
   ]
  },
  {
   "cell_type": "code",
   "execution_count": null,
   "metadata": {},
   "outputs": [],
   "source": []
  },
  {
   "cell_type": "code",
   "execution_count": null,
   "metadata": {},
   "outputs": [],
   "source": [
    "### Поиск ошибки\n",
    "for i in range(4216, 4217):\n",
    "    try:\n",
    "        row = len(data)\n",
    "        urlcard = domain +links[i]\n",
    "        card = mysoup(urlcard)\n",
    "        data.loc[row,'url'] = urlcard\n",
    "        data.loc[row,'h1'] = card.find(\"h1\").text.strip()\n",
    "        data.loc[row,'art'] = card.find('div', class_=\"supreme-product-card__product-article-text\").text.strip()\n",
    "        data.loc[row,'price'] = card.find('div', class_=\"supreme-product-card__price-discount-price\").text.strip().replace('\\u202f', '').replace('\\xa0', '')\n",
    "        data.loc[row,'price2'] = card.find('div', class_=\"supreme-product-card__price-old\").text.strip().replace('\\u202f', '').replace('\\xa0', '')\n",
    "        a = card.find_all('p', class_=\"supreme-product-card__description supreme-product-card__description_default\")\n",
    "        data.loc[row,'gold'] = ';'.join([x.text for x in a])\n",
    "        data.loc[row,'d1'] = \"&\".join([t.text for t in card.find_all('span', class_=\"supreme-product-card-description__item-text\")])\n",
    "        data.loc[row,'d0'] = \"&\".join([t.text for t in card.find_all('a', class_=\"supreme-product-card-description__item-text\")])\n",
    "        #print(i, urlcard)\n",
    "    except (AttributeError,TypeError) as e:\n",
    "        print('error',e)\n",
    "    except IndexError:\n",
    "        print('indexerror len of = ' , len(card.find_all('div','detail__item-option')) )\n",
    "    print(i, urlcard)"
   ]
  },
  {
   "cell_type": "code",
   "execution_count": null,
   "metadata": {},
   "outputs": [],
   "source": []
  },
  {
   "cell_type": "code",
   "execution_count": null,
   "metadata": {},
   "outputs": [],
   "source": []
  },
  {
   "cell_type": "code",
   "execution_count": null,
   "metadata": {},
   "outputs": [],
   "source": []
  },
  {
   "cell_type": "code",
   "execution_count": null,
   "metadata": {},
   "outputs": [],
   "source": []
  },
  {
   "cell_type": "code",
   "execution_count": null,
   "metadata": {},
   "outputs": [],
   "source": []
  },
  {
   "cell_type": "code",
   "execution_count": null,
   "metadata": {},
   "outputs": [],
   "source": []
  },
  {
   "cell_type": "code",
   "execution_count": null,
   "metadata": {},
   "outputs": [],
   "source": []
  },
  {
   "cell_type": "code",
   "execution_count": null,
   "metadata": {},
   "outputs": [],
   "source": [
    "len(data)"
   ]
  },
  {
   "cell_type": "code",
   "execution_count": null,
   "metadata": {},
   "outputs": [],
   "source": [
    "data"
   ]
  },
  {
   "cell_type": "code",
   "execution_count": null,
   "metadata": {},
   "outputs": [],
   "source": []
  },
  {
   "cell_type": "code",
   "execution_count": null,
   "metadata": {},
   "outputs": [],
   "source": []
  },
  {
   "cell_type": "code",
   "execution_count": null,
   "metadata": {},
   "outputs": [],
   "source": [
    "domain+links[0]"
   ]
  },
  {
   "cell_type": "code",
   "execution_count": null,
   "metadata": {},
   "outputs": [],
   "source": [
    "urlcard = domain +links[100]\n",
    "card = mysoup(urlcard)\n"
   ]
  },
  {
   "cell_type": "code",
   "execution_count": null,
   "metadata": {},
   "outputs": [],
   "source": [
    "#collect 29-08-22\n",
    "row = len(data)\n",
    "data.loc[row,'url'] = urlcard\n",
    "data.loc[row,'h1'] = card.find(\"h1\").text.strip()\n",
    "data.loc[row,'art'] = card.find('div', class_=\"supreme-product-card__product-article-text\").text.strip()\n",
    "data.loc[row,'price'] = card.find('div', class_=\"supreme-product-card__price-discount-price\").text.strip().replace('\\u202f', '').replace('\\xa0', '')\n",
    "data.loc[row,'price2'] = card.find('div', class_=\"supreme-product-card__price-old\").text.strip().replace('\\u202f', '').replace('\\xa0', '')\n",
    "a = card.find_all('p', class_=\"supreme-product-card__description supreme-product-card__description_default\")\n",
    "data.loc[row,'gold'] = ';'.join([x.text for x in a])\n",
    "data.loc[row,'d1'] = \"&\".join([t.text for t in card.find_all('span', class_=\"supreme-product-card-description__item-text\")])\n",
    "data.loc[row,'d0'] = \"&\".join([t.text for t in card.find_all('a', class_=\"supreme-product-card-description__item-text\")])"
   ]
  },
  {
   "cell_type": "code",
   "execution_count": null,
   "metadata": {},
   "outputs": [],
   "source": []
  },
  {
   "cell_type": "code",
   "execution_count": null,
   "metadata": {},
   "outputs": [],
   "source": []
  },
  {
   "cell_type": "code",
   "execution_count": null,
   "metadata": {},
   "outputs": [],
   "source": [
    "data"
   ]
  },
  {
   "cell_type": "code",
   "execution_count": null,
   "metadata": {},
   "outputs": [],
   "source": [
    "data.gold.loc[10]"
   ]
  },
  {
   "cell_type": "markdown",
   "metadata": {},
   "source": [
    "## Разработка rе"
   ]
  },
  {
   "cell_type": "code",
   "execution_count": null,
   "metadata": {},
   "outputs": [],
   "source": [
    "pattern_gold = r'[Сс]ереб\\w+|[Зз]олот\\w*|[Сс]таль'\n",
    "pattern_diam = r'[Бб]риллиант\\w*'\n",
    "pattern_probe = r'[\\d]{,3}(?=\\s*проб)'\n",
    "pattern_gramm = r'[\\d.\\d]{,5}(?=г;)'\n",
    "pattern_vst = r'вставк\\w*'#r'вставк\\w*'\n",
    "pattern_type = r'(?<=;)\\w+\\s?\\w*'\n",
    "def gold(t,patt):\n",
    "    f = re.search(patt,t)\n",
    "    return f.group() if f else 're не найдено'"
   ]
  },
  {
   "cell_type": "code",
   "execution_count": null,
   "metadata": {},
   "outputs": [],
   "source": [
    "t = 'Артикул: 114165;Кольцо    \\nБелое золото 585 пробы.;Вес изделия: 3.04г;Кольцо    \\nБелое золото 585 пробы.'\n",
    "re.search(pattern_type,t)"
   ]
  },
  {
   "cell_type": "code",
   "execution_count": null,
   "metadata": {},
   "outputs": [],
   "source": [
    "patt = pattern_type\n",
    "#patt = pattern_diam"
   ]
  },
  {
   "cell_type": "code",
   "execution_count": null,
   "metadata": {},
   "outputs": [],
   "source": [
    "patt"
   ]
  },
  {
   "cell_type": "code",
   "execution_count": null,
   "metadata": {},
   "outputs": [],
   "source": [
    "i = 1\n",
    "gold(data.gold.loc[i],patt), data.gold.loc[i]"
   ]
  },
  {
   "cell_type": "code",
   "execution_count": null,
   "metadata": {},
   "outputs": [],
   "source": [
    "data.gold.apply(lambda x: gold(x, patt)).unique()"
   ]
  },
  {
   "cell_type": "code",
   "execution_count": null,
   "metadata": {},
   "outputs": [],
   "source": [
    "data.gold.apply(lambda x: gold(x, patt)).value_counts()"
   ]
  },
  {
   "cell_type": "code",
   "execution_count": null,
   "metadata": {},
   "outputs": [],
   "source": []
  },
  {
   "cell_type": "code",
   "execution_count": null,
   "metadata": {
    "scrolled": true
   },
   "outputs": [],
   "source": [
    "data[data.gold.apply(lambda x: gold(x, patt))=='Ножной']"
   ]
  },
  {
   "cell_type": "markdown",
   "metadata": {},
   "source": [
    "## Результат первичной обработки "
   ]
  },
  {
   "cell_type": "code",
   "execution_count": null,
   "metadata": {},
   "outputs": [],
   "source": [
    "#PCH01-09-2022\n",
    "def byrepost(data):\n",
    "    def gold(t, patt):\n",
    "        f = re.search(patt, t)\n",
    "        return f.group() if f else 're не найдено'\n",
    "\n",
    "    pattern_gold = r'[Сс]ереб\\w+|[Зз]олот\\w*|[Сс]таль'\n",
    "    pattern_diam = r'[Бб]риллиант\\w*'\n",
    "    pattern_probe = r'[\\d]{,3}(?=\\s*проб)'\n",
    "    pattern_gramm = r'[\\d.\\d]{,5}(?=г;)'\n",
    "    pattern_vst = r'вставк\\w*'  # r'вставк\\w*'\n",
    "    pattern_type = r'(?<=;)\\w+\\s?\\w*'\n",
    "\n",
    "    data['diam'] = data.gold.apply(lambda x: gold(x, pattern_diam))\n",
    "    data['goldsilv'] = data.h1.apply(lambda x: gold(x, pattern_gold))\n",
    "    data['probe'] = data.gold.apply(lambda x: gold(x, pattern_probe))\n",
    "    data['gramm'] = data.gold.apply(lambda x: gold(x, pattern_gramm))\n",
    "    data['vst'] = data.gold.apply(lambda x: gold(x, pattern_vst))\n",
    "    data['type'] = data.gold.apply(lambda x: gold(x, pattern_type))"
   ]
  },
  {
   "cell_type": "code",
   "execution_count": null,
   "metadata": {},
   "outputs": [],
   "source": [
    "###"
   ]
  },
  {
   "cell_type": "code",
   "execution_count": null,
   "metadata": {},
   "outputs": [],
   "source": []
  },
  {
   "cell_type": "code",
   "execution_count": null,
   "metadata": {},
   "outputs": [],
   "source": []
  },
  {
   "cell_type": "code",
   "execution_count": null,
   "metadata": {},
   "outputs": [],
   "source": [
    "data = pd.concat([data,data3000_8000], ignore_index=True)"
   ]
  },
  {
   "cell_type": "code",
   "execution_count": null,
   "metadata": {},
   "outputs": [],
   "source": [
    "#res\n",
    "\n",
    "    data['diam'] = data.gold.apply(lambda x: gold(x, pattern_diam))\n",
    "\n",
    "    data['goldsilv'] = data.h1.apply(lambda x: gold(x, pattern_gold))\n",
    "\n",
    "    data['probe'] = data.gold.apply(lambda x: gold(x, pattern_probe))\n",
    "\n",
    "    data['gramm'] = data.gold.apply(lambda x: gold(x, pattern_gramm))\n",
    "\n",
    "    data['vst'] = data.gold.apply(lambda x: gold(x, pattern_vst))\n",
    "\n",
    "    data['type'] = data.gold.apply(lambda x: gold(x, pattern_type))"
   ]
  },
  {
   "cell_type": "code",
   "execution_count": null,
   "metadata": {},
   "outputs": [],
   "source": [
    "#разработка"
   ]
  },
  {
   "cell_type": "code",
   "execution_count": null,
   "metadata": {},
   "outputs": [],
   "source": [
    "<div class=\"supreme-product-card-description__item-title\">\n",
    "    Бренд\n",
    "  </div>"
   ]
  },
  {
   "cell_type": "code",
   "execution_count": null,
   "metadata": {},
   "outputs": [],
   "source": [
    "card.find_all('span', class_=\"supreme-product-card-description__item-text\")[4].text"
   ]
  },
  {
   "cell_type": "code",
   "execution_count": null,
   "metadata": {},
   "outputs": [],
   "source": [
    "<a href=\"https://sunlight.net/catalog/sergey-gribnyakov.html\" class=\"supreme-product-card-description__item-text\">SERGEY GRIBNYAKOV</a>"
   ]
  },
  {
   "cell_type": "code",
   "execution_count": null,
   "metadata": {},
   "outputs": [],
   "source": []
  },
  {
   "cell_type": "code",
   "execution_count": null,
   "metadata": {},
   "outputs": [],
   "source": [
    "card.find_all('a', class_=\"supreme-product-card-description__item-text\")"
   ]
  },
  {
   "cell_type": "code",
   "execution_count": null,
   "metadata": {},
   "outputs": [],
   "source": [
    "<div class=\"supreme-product-card__product-article-text\">\n",
    "      Артикул: 165495\n",
    "    </div>"
   ]
  },
  {
   "cell_type": "code",
   "execution_count": null,
   "metadata": {},
   "outputs": [],
   "source": [
    "card.find('div', class_=\"supreme-product-card__product-article-text\").text.strip()"
   ]
  },
  {
   "cell_type": "code",
   "execution_count": null,
   "metadata": {},
   "outputs": [],
   "source": [
    "<div class=\"supreme-product-card__price-discount-price\">\n",
    "  5 395&nbsp;₽\n",
    "</div>"
   ]
  },
  {
   "cell_type": "code",
   "execution_count": null,
   "metadata": {},
   "outputs": [],
   "source": [
    "card.find('div', class_=\"supreme-product-card__price-old\").text.strip().replace('\\u202f', '').replace('\\xa0', '')"
   ]
  },
  {
   "cell_type": "code",
   "execution_count": null,
   "metadata": {},
   "outputs": [],
   "source": [
    "card.find('div', class_=\"supreme-product-card__price-discount-price\")"
   ]
  },
  {
   "cell_type": "code",
   "execution_count": null,
   "metadata": {},
   "outputs": [],
   "source": [
    "<div class=\"supreme-product-card__price-old\">\n",
    "  26 975&nbsp;₽\n",
    "</div>"
   ]
  },
  {
   "cell_type": "code",
   "execution_count": null,
   "metadata": {},
   "outputs": [],
   "source": [
    "<p class=\"supreme-product-card__description supreme-product-card__description_default\">Кольцо «Бриллианты Якутии» с 21 бриллиантом, огранка круг 17 граней, 0.04 карат, цвет 2, чистота 2, тип огранки Б; \n",
    "Розовое золото 585 пробы</p>"
   ]
  },
  {
   "cell_type": "code",
   "execution_count": null,
   "metadata": {},
   "outputs": [],
   "source": [
    "a = card.find_all('p', class_=\"supreme-product-card__description supreme-product-card__description_default\")"
   ]
  },
  {
   "cell_type": "code",
   "execution_count": null,
   "metadata": {},
   "outputs": [],
   "source": [
    "a = card.find_all('p', class_=\"supreme-product-card__description supreme-product-card__description_default\")\n",
    "';'.join([x.text for x in a])"
   ]
  },
  {
   "cell_type": "markdown",
   "metadata": {},
   "source": [
    "## Визуализация"
   ]
  },
  {
   "cell_type": "code",
   "execution_count": null,
   "metadata": {},
   "outputs": [],
   "source": []
  },
  {
   "cell_type": "code",
   "execution_count": null,
   "metadata": {},
   "outputs": [],
   "source": []
  },
  {
   "cell_type": "code",
   "execution_count": null,
   "metadata": {},
   "outputs": [],
   "source": [
    " urlcard = domain +links[i]\n",
    "        card = mysoup(urlcard)\n",
    "        row = len(data)\n",
    "        data.loc[row,'url'] = urlcard\n",
    "        data.loc[row,'h1'] = card.find(\"h1\").text.strip()\n",
    "        data.loc[row,'art'] = card.select(\n",
    "            'body > div.grid > div > div > div.shops__breadcrumbs.catalog_breadcrumbs > div > div:nth-child(4) > span > span')[0].text\n",
    "        data.loc[row,'price'] = float(''.join(re.findall(r'\\d+', card.find(\n",
    "            \"div\",\"places-cont__price b-price\").find(\"div\", 'new').text)))\n",
    "        \n",
    "        data.loc[row,'price2'] = float(''.join(re.findall(r'\\d+', card.find('div',\"detail__item-price-new\").text)))\n",
    "        data.loc[row,'gold'] = card.find_all('span','href')[2].text.strip()\n",
    "        data.loc[row,'gold2'] = re.findall(r\"(Золото\\s+\\d+)\",str(card))[0]\n",
    "        data.loc[row,'weight'] = float(re.findall(r\"(?:Вес:</span>\\n)\\s+(\\d+.\\d+)\",str(card))[0])\n",
    "        div_gems = card.select('body > div.grid > div > div > div.detail__item.detail__item--new > div.detail__item-col._3.position-relative > form > div:nth-child(8)')\n",
    "        data.loc[row,'gems'] = re.findall(r'Камни:\\s+([\\w\\W]+)', div_gems[0].text)\n",
    "        div_gems = card.select('body > div.grid > div > div > div.detail__item.detail__item--new > div.detail__item-col._3.position-relative > form > div:nth-child(8)')\n",
    "        data.loc[row,'gems2'] = re.search(r'Камни:\\s+([\\w\\W]+)', str(div_gems[0].text.strip()))[1]"
   ]
  },
  {
   "cell_type": "code",
   "execution_count": null,
   "metadata": {},
   "outputs": [],
   "source": []
  },
  {
   "cell_type": "code",
   "execution_count": null,
   "metadata": {},
   "outputs": [],
   "source": []
  },
  {
   "cell_type": "code",
   "execution_count": null,
   "metadata": {},
   "outputs": [],
   "source": []
  },
  {
   "cell_type": "code",
   "execution_count": null,
   "metadata": {},
   "outputs": [],
   "source": []
  },
  {
   "cell_type": "code",
   "execution_count": null,
   "metadata": {},
   "outputs": [],
   "source": []
  },
  {
   "cell_type": "code",
   "execution_count": null,
   "metadata": {},
   "outputs": [],
   "source": [
    "card.find_all('span','href')[2].text.strip()"
   ]
  },
  {
   "cell_type": "code",
   "execution_count": null,
   "metadata": {},
   "outputs": [],
   "source": [
    "div_gems = card.select('body > div.grid > div > div > div.detail__item.detail__item--new > div.detail__item-col._3.position-relative > form > div:nth-child(8)')\n",
    "#data.loc[row,'gems'] = \n",
    "re.findall(r'Камни:\\s+([\\w\\W]+)', div_gems[0].text)"
   ]
  },
  {
   "cell_type": "code",
   "execution_count": null,
   "metadata": {},
   "outputs": [],
   "source": [
    "#25-08-2022 all\n",
    "#06-07-2022 серебро\n",
    "#16-06-2022 Для Алексея Сапфир Изумруд Рубин\n",
    "#24-05-2022\n",
    "#14-04-2022\n",
    "\n",
    "for i in range(len(links)):\n",
    "    try:\n",
    "        urlcard = domain +links[i]\n",
    "        card = mysoup(urlcard)\n",
    "        row = len(data)\n",
    "        data.loc[row,'url'] = urlcard\n",
    "        data.loc[row,'h1'] = card.find(\"h1\").text.strip()\n",
    "        data.loc[row,'art'] = card.select(\n",
    "            'body > div.grid > div > div > div.shops__breadcrumbs.catalog_breadcrumbs > div > div:nth-child(4) > span > span')[0].text\n",
    "        data.loc[row,'price'] = float(''.join(re.findall(r'\\d+', card.find(\n",
    "            \"div\",\"places-cont__price b-price\").find(\"div\", 'new').text)))\n",
    "        \n",
    "        data.loc[row,'price2'] = float(''.join(re.findall(r'\\d+', card.find('div',\"detail__item-price-new\").text)))\n",
    "        data.loc[row,'gold'] = card.find_all('span','href')[2].text.strip()\n",
    "        data.loc[row,'gold2'] = re.findall(r\"(Золото\\s+\\d+)\",str(card))[0]\n",
    "        data.loc[row,'weight'] = float(re.findall(r\"(?:Вес:</span>\\n)\\s+(\\d+.\\d+)\",str(card))[0])\n",
    "        div_gems = card.select('body > div.grid > div > div > div.detail__item.detail__item--new > div.detail__item-col._3.position-relative > form > div:nth-child(8)')\n",
    "        data.loc[row,'gems'] = re.findall(r'Камни:\\s+([\\w\\W]+)', div_gems[0].text)\n",
    "        div_gems = card.select('body > div.grid > div > div > div.detail__item.detail__item--new > div.detail__item-col._3.position-relative > form > div:nth-child(8)')\n",
    "        data.loc[row,'gems2'] = re.search(r'Камни:\\s+([\\w\\W]+)', str(div_gems[0].text.strip()))[1]\n",
    "        \n",
    "    except (AttributeError,TypeError) as e:\n",
    "        print('error',e)\n",
    "    except IndexError:\n",
    "        print('indexerror len of = ' , len(card.find_all('div','detail__item-option')) )\n",
    "    print(i, urlcard)\n"
   ]
  },
  {
   "cell_type": "code",
   "execution_count": null,
   "metadata": {
    "scrolled": true
   },
   "outputs": [],
   "source": [
    "data"
   ]
  },
  {
   "cell_type": "code",
   "execution_count": null,
   "metadata": {},
   "outputs": [],
   "source": []
  },
  {
   "cell_type": "code",
   "execution_count": null,
   "metadata": {
    "scrolled": true
   },
   "outputs": [],
   "source": [
    "data.to_excel('pars_16-06-2022_muiz_RSE.xlsx')"
   ]
  },
  {
   "cell_type": "code",
   "execution_count": null,
   "metadata": {},
   "outputs": [],
   "source": []
  },
  {
   "cell_type": "markdown",
   "metadata": {},
   "source": [
    "### Версия 14-04-2022"
   ]
  },
  {
   "cell_type": "code",
   "execution_count": null,
   "metadata": {},
   "outputs": [],
   "source": [
    "data = pd.DataFrame(columns=['h1','art','price','gold','weight','gems','url'])"
   ]
  },
  {
   "cell_type": "code",
   "execution_count": null,
   "metadata": {},
   "outputs": [],
   "source": [
    "#16-06-2022 Для Алексея Сапфир Изумруд Рубин\n",
    "#24-05-2022\n",
    "#14-04-2022\n",
    "\n",
    "for i in range(len(links)):\n",
    "    try:\n",
    "        urlcard = domain +links[i]\n",
    "        card = mysoup(urlcard)\n",
    "        row = len(data)\n",
    "        data.loc[row,'url'] = urlcard\n",
    "        data.loc[row,'h1'] = card.find(\"h1\").text.strip()\n",
    "        data.loc[row,'art'] = card.select(\n",
    "            'body > div.grid > div > div > div.shops__breadcrumbs.catalog_breadcrumbs > div > div:nth-child(4) > span > span')[0].text\n",
    "        data.loc[row,'price'] = float(''.join(re.findall(r'\\d+', card.find(\n",
    "            \"div\",\"places-cont__price b-price\").find(\"div\", 'new').text)))\n",
    "        \n",
    "        #data.loc[row,'price'] = float(''.join(re.findall(r'\\d+', card.find('div',\"detail__item-price-new\").text)))\n",
    "        data.loc[row,'gold'] = re.findall(r\"(Золото\\s+\\d+)\",str(card))[0]\n",
    "        data.loc[row,'weight'] = float(re.findall(r\"(?:Вес:</span>\\n)\\s+(\\d+.\\d+)\",str(card))[0])\n",
    "        div_gems = card.select('body > div.grid > div > div > div.detail__item.detail__item--new > div.detail__item-col._3.position-relative > form > div:nth-child(8)')\n",
    "        data.loc[row,'gems'] = re.search(r'Камни:\\s+([\\w\\W]+)', str(div_gems[0].text.strip()))[1]\n",
    "    except (AttributeError,TypeError) as e:\n",
    "        print('error',e)\n",
    "    except IndexError:\n",
    "        print('indexerror len of = ' , len(card.find_all('div','detail__item-option')) )\n",
    "    print(i, urlcard)\n"
   ]
  },
  {
   "cell_type": "markdown",
   "metadata": {},
   "source": [
    "## save res"
   ]
  },
  {
   "cell_type": "code",
   "execution_count": null,
   "metadata": {},
   "outputs": [],
   "source": [
    "import os"
   ]
  },
  {
   "cell_type": "code",
   "execution_count": null,
   "metadata": {},
   "outputs": [],
   "source": [
    "folders = os.listdir()\n",
    "[q for q in (enumerate(folders))]"
   ]
  },
  {
   "cell_type": "code",
   "execution_count": null,
   "metadata": {},
   "outputs": [],
   "source": [
    "resfolder = folders[26]\n"
   ]
  },
  {
   "cell_type": "code",
   "execution_count": null,
   "metadata": {},
   "outputs": [],
   "source": [
    "resfolder"
   ]
  },
  {
   "cell_type": "code",
   "execution_count": null,
   "metadata": {},
   "outputs": [],
   "source": [
    "data.to_excel(resfolder+'/'+'sunlight_test01092022.xlsx')\n"
   ]
  },
  {
   "cell_type": "code",
   "execution_count": null,
   "metadata": {},
   "outputs": [],
   "source": [
    "files = os.listdir('results/')\n",
    "[f for f in enumerate(files)]"
   ]
  },
  {
   "cell_type": "code",
   "execution_count": null,
   "metadata": {},
   "outputs": [],
   "source": [
    "data = pd.read_csv('results/'+files[9])"
   ]
  },
  {
   "cell_type": "code",
   "execution_count": null,
   "metadata": {},
   "outputs": [],
   "source": [
    "data.loc[1200,'h1']= 1111"
   ]
  },
  {
   "cell_type": "code",
   "execution_count": null,
   "metadata": {},
   "outputs": [],
   "source": [
    "data"
   ]
  },
  {
   "cell_type": "code",
   "execution_count": null,
   "metadata": {},
   "outputs": [],
   "source": [
    "#06-07-2022 серебро\n",
    "#16-06-2022 Для Алексея Сапфир Изумруд Рубин\n",
    "#24-05-2022\n",
    "#14-04-2022\n",
    "\n",
    "for i in range(0,5):# len(links)):\n",
    "    try:\n",
    "        urlcard = domain +links[i]\n",
    "        card = mysoup(urlcard)\n",
    "        row = len(data)\n",
    "        data.loc[row,'url'] = urlcard\n",
    "        data.loc[row,'h1'] = card.find(\"h1\").text.strip()\n",
    "        data.loc[row,'art'] = card.select(\n",
    "            'body > div.grid > div > div > div.shops__breadcrumbs.catalog_breadcrumbs > div > div:nth-child(4) > span > span')[0].text\n",
    "        data.loc[row,'price'] = float(''.join(re.findall(r'\\d+', card.find(\n",
    "            \"div\",\"places-cont__price b-price\").find(\"div\", 'new').text)))\n",
    "        \n",
    "        #data.loc[row,'price'] = float(''.join(re.findall(r'\\d+', card.find('div',\"detail__item-price-new\").text)))\n",
    "        data.loc[row,'gold'] = card.find_all('span','href')[2].text.strip()\n",
    "        #data.loc[row,'gold'] = re.findall(r\"(Золото\\s+\\d+)\",str(card))[0]\n",
    "        data.loc[row,'weight'] = float(re.findall(r\"(?:Вес:</span>\\n)\\s+(\\d+.\\d+)\",str(card))[0])\n",
    "        #div_gems = card.select('body > div.grid > div > div > div.detail__item.detail__item--new > div.detail__item-col._3.position-relative > form > div:nth-child(8)')\n",
    "        #data.loc[row,'gems'] = re.search(r'Камни:\\s+([\\w\\W]+)', str(div_gems[0].text.strip()))[1]\n",
    "        div_gems = card.select('body > div.grid > div > div > div.detail__item.detail__item--new > div.detail__item-col._3.position-relative > form > div:nth-child(8)')\n",
    "        data.loc[row,'gems'] = re.findall(r'Камни:\\s+([\\w\\W]+)', div_gems[0].text)\n",
    "        \n",
    "    except (AttributeError,TypeError) as e:\n",
    "        print('error',e)\n",
    "    except IndexError:\n",
    "        print('indexerror len of = ' , len(card.find_all('div','detail__item-option')) )\n",
    "    print(i, urlcard)"
   ]
  },
  {
   "cell_type": "code",
   "execution_count": null,
   "metadata": {},
   "outputs": [],
   "source": []
  },
  {
   "cell_type": "code",
   "execution_count": null,
   "metadata": {},
   "outputs": [],
   "source": [
    "import os"
   ]
  },
  {
   "cell_type": "code",
   "execution_count": null,
   "metadata": {},
   "outputs": [],
   "source": [
    "def fold(sourcepath):\n",
    "    folders = os.listdir(sourcepath)\n",
    "    print(*[nf for nf in enumerate(folders)] )\n",
    "    case = input (sourcepath)\n",
    "    if case.isdigit():\n",
    "        sourcepath += folders[int(case)]+\"/\"\n",
    "        sourcepath = fold(sourcepath)\n",
    "        return sourcepath\n",
    "    else: \n",
    "        print(sourcepath)\n",
    "        return sourcepath\n"
   ]
  },
  {
   "cell_type": "code",
   "execution_count": null,
   "metadata": {},
   "outputs": [],
   "source": [
    "def source():\n",
    "    \n",
    "    p0 = input('path UR-JVV/Users/DAS/Desktop/GM TMP/A Переоценка/ y or enter')\n",
    "    sourcepath = fold(r'//UR-JVV/Users/DAS/Desktop/GM TMP/A Переоценка/' if p0 == 'y' else p0)\n",
    "    #'for_site2-1922-1.xlsx'\n",
    "    files =os.listdir(sourcepath)\n",
    "    \n",
    "    filename = files[int(input([n for n in enumerate(files)]))]\n",
    "    print('filename',filename)\n",
    "    if not input(\"y?\")=='y':\n",
    "        print('aborded')\n",
    "        return False\n",
    "    #df, file_in = load_df(sourcepath+filename)\n",
    "    print('test columns in ', (sourcepath+filename))\n",
    "    return sourcepath, filename\n",
    "#E:/OM2022/PEREOZENKA/ГИИС"
   ]
  },
  {
   "cell_type": "code",
   "execution_count": null,
   "metadata": {},
   "outputs": [],
   "source": [
    "sourcepath, filename = source()\n"
   ]
  },
  {
   "cell_type": "code",
   "execution_count": null,
   "metadata": {},
   "outputs": [],
   "source": [
    "\n",
    "sourcepath, filename"
   ]
  },
  {
   "cell_type": "code",
   "execution_count": null,
   "metadata": {},
   "outputs": [],
   "source": [
    "df = pd.read_csv(sourcepath+filename)#.drop(columns='Unnamed: 0')"
   ]
  },
  {
   "cell_type": "code",
   "execution_count": null,
   "metadata": {},
   "outputs": [],
   "source": [
    "df"
   ]
  },
  {
   "cell_type": "markdown",
   "metadata": {},
   "source": [
    "## Загрузка обработка"
   ]
  },
  {
   "cell_type": "code",
   "execution_count": null,
   "metadata": {},
   "outputs": [],
   "source": [
    "df = pd.read_excel('results/mius_серебро790_06072022.xlsx').drop(columns='Unnamed: 0')"
   ]
  },
  {
   "cell_type": "code",
   "execution_count": null,
   "metadata": {},
   "outputs": [],
   "source": [
    "df.columns"
   ]
  },
  {
   "cell_type": "code",
   "execution_count": null,
   "metadata": {},
   "outputs": [],
   "source": [
    "df.dropna(subset=['weight'], inplace = True)"
   ]
  },
  {
   "cell_type": "code",
   "execution_count": null,
   "metadata": {},
   "outputs": [],
   "source": []
  },
  {
   "cell_type": "code",
   "execution_count": null,
   "metadata": {},
   "outputs": [],
   "source": [
    "#t = 'Серьги c фианитами E2029-1210015246-Z'\n",
    "#t = 'Кольцо c фианитами R4150-S-LR19653'\n",
    "t2 = 'Кольцо c жемчугом, сапфирами и фианитами R4150-S-LRP34769S'\n",
    "t = 'Кольцо fdfd'"
   ]
  },
  {
   "cell_type": "code",
   "execution_count": null,
   "metadata": {},
   "outputs": [],
   "source": [
    "patt_h1_0 = r'([\\w\\W]+)(?= [A-Z]\\d)+?'"
   ]
  },
  {
   "cell_type": "code",
   "execution_count": null,
   "metadata": {},
   "outputs": [],
   "source": [
    " r'([\\w\\W]+)(?= [A-Z]\\d)+?'"
   ]
  },
  {
   "cell_type": "code",
   "execution_count": null,
   "metadata": {},
   "outputs": [],
   "source": [
    "re.search(patt_h1_0, t2)[1].strip()"
   ]
  },
  {
   "cell_type": "code",
   "execution_count": null,
   "metadata": {},
   "outputs": [],
   "source": [
    "re.search( r'([\\w\\W]+)', t)[1].strip()"
   ]
  },
  {
   "cell_type": "code",
   "execution_count": null,
   "metadata": {},
   "outputs": [],
   "source": [
    "df['h1_0'] = df.h1.apply(lambda x: re.search(patt, x)[1] if re.search(patt, x) else x)"
   ]
  },
  {
   "cell_type": "code",
   "execution_count": null,
   "metadata": {},
   "outputs": [],
   "source": [
    "patt = patt_h1_0\n",
    "for n,x in enumerate(df.h1):\n",
    "    print(n, x,' -- ', (lambda x: re.search(patt, x)[1] if re.search(patt, x) else x)(x))#.strip())"
   ]
  },
  {
   "cell_type": "code",
   "execution_count": null,
   "metadata": {},
   "outputs": [],
   "source": []
  },
  {
   "cell_type": "code",
   "execution_count": null,
   "metadata": {},
   "outputs": [],
   "source": [
    "str(patt_h1_0)"
   ]
  },
  {
   "cell_type": "code",
   "execution_count": null,
   "metadata": {},
   "outputs": [],
   "source": []
  },
  {
   "cell_type": "code",
   "execution_count": null,
   "metadata": {
    "scrolled": true
   },
   "outputs": [],
   "source": [
    "df.loc[:]"
   ]
  },
  {
   "cell_type": "code",
   "execution_count": null,
   "metadata": {},
   "outputs": [],
   "source": [
    "df['gemsstr'] = df['gems'].str.replace('\\[|\\]','').str.strip(\"'\")\n",
    "\n",
    "df['gemslist'] = df.gemsstr.str.split(';')"
   ]
  },
  {
   "cell_type": "code",
   "execution_count": null,
   "metadata": {},
   "outputs": [],
   "source": [
    "df['gemslist'].map(len).unique()"
   ]
  },
  {
   "cell_type": "code",
   "execution_count": null,
   "metadata": {},
   "outputs": [],
   "source": [
    "df['lengem'] = df['gemslist'].map(len)"
   ]
  },
  {
   "cell_type": "code",
   "execution_count": null,
   "metadata": {},
   "outputs": [],
   "source": [
    "df.loc[df['gemslist'].map(len) <= 2, ['gems','gemslist','lengem']]"
   ]
  },
  {
   "cell_type": "code",
   "execution_count": null,
   "metadata": {},
   "outputs": [],
   "source": [
    "sum(df['gemslist'].map(len) > 2)"
   ]
  },
  {
   "cell_type": "code",
   "execution_count": null,
   "metadata": {},
   "outputs": [],
   "source": [
    "df['gem01'] = df['gemslist'].apply(lambda x: x[0])"
   ]
  },
  {
   "cell_type": "code",
   "execution_count": null,
   "metadata": {},
   "outputs": [],
   "source": []
  },
  {
   "cell_type": "code",
   "execution_count": null,
   "metadata": {},
   "outputs": [],
   "source": [
    "df.columns"
   ]
  },
  {
   "cell_type": "code",
   "execution_count": null,
   "metadata": {},
   "outputs": [],
   "source": [
    "df01 = df.loc[df['gemslist'].map(len) <= 2, ['h1_0','h1','gems', 'price', 'gold', 'weight','gem01', 'url','lengem']]"
   ]
  },
  {
   "cell_type": "code",
   "execution_count": null,
   "metadata": {},
   "outputs": [],
   "source": [
    "df01"
   ]
  },
  {
   "cell_type": "code",
   "execution_count": null,
   "metadata": {},
   "outputs": [],
   "source": [
    "t = '38 Фианитов огранки \"Круглая\", 0.34 карат'"
   ]
  },
  {
   "cell_type": "code",
   "execution_count": null,
   "metadata": {},
   "outputs": [],
   "source": [
    "dic={}"
   ]
  },
  {
   "cell_type": "code",
   "execution_count": null,
   "metadata": {},
   "outputs": [],
   "source": [
    "re.match(r'\\d+',t)[0] \n",
    "dic['шт_вст'] = r'\\d+'"
   ]
  },
  {
   "cell_type": "code",
   "execution_count": null,
   "metadata": {},
   "outputs": [],
   "source": [
    "\n",
    "dic['карат_вст'] = r'[\\d.\\d]+(?= карат)'\n",
    "re.search(dic['карат_вст'],t)[0]"
   ]
  },
  {
   "cell_type": "code",
   "execution_count": null,
   "metadata": {},
   "outputs": [],
   "source": [
    "dic['описание_вст'] = r'(?!\\d+).+(?=,)'\n",
    "re.search(dic['описание_вст'],t)[0]"
   ]
  },
  {
   "cell_type": "code",
   "execution_count": null,
   "metadata": {},
   "outputs": [],
   "source": [
    "for c in dic.items():\n",
    "    print(c)\n",
    "    df01[c[0]] = df01.gem01.apply(lambda x: re.search(c[1],x)[0] if re.search(c[1],x) else '')"
   ]
  },
  {
   "cell_type": "code",
   "execution_count": null,
   "metadata": {},
   "outputs": [],
   "source": [
    "for n, x in enumerate(df01.gem01):\n",
    "    print(n,x,'---> ', re.search(r'[\\d.\\d]+(?= карат)',x)[0] if re.search(r'[\\d.\\d]+(?= карат)',x) else '')"
   ]
  },
  {
   "cell_type": "code",
   "execution_count": null,
   "metadata": {
    "scrolled": true
   },
   "outputs": [],
   "source": [
    "df01"
   ]
  },
  {
   "cell_type": "code",
   "execution_count": null,
   "metadata": {},
   "outputs": [],
   "source": []
  },
  {
   "cell_type": "code",
   "execution_count": null,
   "metadata": {},
   "outputs": [],
   "source": [
    "resfolder"
   ]
  },
  {
   "cell_type": "code",
   "execution_count": null,
   "metadata": {},
   "outputs": [],
   "source": [
    "df01.to_excel(resfolder+'/'+'нефть1сорт_серебро_мюз_604_06-07-2022.xlsx')"
   ]
  },
  {
   "cell_type": "code",
   "execution_count": null,
   "metadata": {},
   "outputs": [],
   "source": []
  },
  {
   "cell_type": "code",
   "execution_count": null,
   "metadata": {},
   "outputs": [],
   "source": []
  },
  {
   "cell_type": "code",
   "execution_count": null,
   "metadata": {},
   "outputs": [],
   "source": []
  },
  {
   "cell_type": "code",
   "execution_count": null,
   "metadata": {},
   "outputs": [],
   "source": []
  },
  {
   "cell_type": "code",
   "execution_count": null,
   "metadata": {},
   "outputs": [],
   "source": []
  },
  {
   "cell_type": "code",
   "execution_count": null,
   "metadata": {},
   "outputs": [],
   "source": []
  },
  {
   "cell_type": "code",
   "execution_count": null,
   "metadata": {},
   "outputs": [],
   "source": []
  },
  {
   "cell_type": "code",
   "execution_count": null,
   "metadata": {},
   "outputs": [],
   "source": []
  },
  {
   "cell_type": "code",
   "execution_count": null,
   "metadata": {},
   "outputs": [],
   "source": [
    "df['IDizd'] = df.index"
   ]
  },
  {
   "cell_type": "code",
   "execution_count": null,
   "metadata": {},
   "outputs": [],
   "source": [
    "df.columns"
   ]
  },
  {
   "cell_type": "code",
   "execution_count": null,
   "metadata": {},
   "outputs": [],
   "source": [
    "df.explode(\"gemslist\")  #[[\"IDizd\",\"gemslist\"]]"
   ]
  },
  {
   "cell_type": "code",
   "execution_count": null,
   "metadata": {},
   "outputs": [],
   "source": []
  },
  {
   "cell_type": "markdown",
   "metadata": {},
   "source": [
    "### Тест работы from classes_parsing import Dlinks"
   ]
  },
  {
   "cell_type": "code",
   "execution_count": null,
   "metadata": {},
   "outputs": [],
   "source": [
    "from classes_parsing import Dlinks"
   ]
  },
  {
   "cell_type": "code",
   "execution_count": null,
   "metadata": {},
   "outputs": [],
   "source": [
    "dir(Dlinks)# Dlinks.__dir__(Dlinks)"
   ]
  },
  {
   "cell_type": "code",
   "execution_count": null,
   "metadata": {},
   "outputs": [],
   "source": [
    "Dlinks.__doc__"
   ]
  },
  {
   "cell_type": "code",
   "execution_count": null,
   "metadata": {},
   "outputs": [],
   "source": [
    "taskname, urls, domain, taskdescr, datestr"
   ]
  },
  {
   "cell_type": "code",
   "execution_count": null,
   "metadata": {},
   "outputs": [],
   "source": [
    "d = Dlinks()"
   ]
  },
  {
   "cell_type": "code",
   "execution_count": null,
   "metadata": {},
   "outputs": [],
   "source": [
    "d.folderlinks"
   ]
  },
  {
   "cell_type": "code",
   "execution_count": null,
   "metadata": {},
   "outputs": [],
   "source": [
    "z = print()"
   ]
  },
  {
   "cell_type": "code",
   "execution_count": null,
   "metadata": {},
   "outputs": [],
   "source": [
    "z == None"
   ]
  },
  {
   "cell_type": "code",
   "execution_count": null,
   "metadata": {},
   "outputs": [],
   "source": [
    "if not z:\n",
    "    #self.datestr = \n",
    "    print(datetime.datetime.now().strftime('%Y-%m-%d-%H-%M'))\n",
    "else:\n",
    "    print(z)"
   ]
  },
  {
   "cell_type": "code",
   "execution_count": null,
   "metadata": {},
   "outputs": [],
   "source": []
  },
  {
   "cell_type": "code",
   "execution_count": null,
   "metadata": {},
   "outputs": [],
   "source": [
    "d.save('testDlink', links[:10], urls, domain, 'проверка')"
   ]
  },
  {
   "cell_type": "code",
   "execution_count": null,
   "metadata": {},
   "outputs": [],
   "source": [
    "d.taskdescr, d.taskname, d.datestr"
   ]
  },
  {
   "cell_type": "code",
   "execution_count": null,
   "metadata": {},
   "outputs": [],
   "source": [
    "self = d"
   ]
  },
  {
   "cell_type": "code",
   "execution_count": null,
   "metadata": {},
   "outputs": [],
   "source": [
    "self.folderlinks + 'dlinks_' + self.taskname + '_' + datestr + '.json'"
   ]
  },
  {
   "cell_type": "markdown",
   "metadata": {},
   "source": [
    "### Отступление, о том как это превратилось в текст и когда, и как я обратно в лист"
   ]
  },
  {
   "cell_type": "code",
   "execution_count": null,
   "metadata": {},
   "outputs": [],
   "source": [
    "from bs4 import BeautifulSoup\n",
    "import requests\n",
    "from requests import Request, Session\n",
    "import pandas as pd"
   ]
  },
  {
   "cell_type": "code",
   "execution_count": null,
   "metadata": {},
   "outputs": [],
   "source": [
    "import re"
   ]
  },
  {
   "cell_type": "code",
   "execution_count": null,
   "metadata": {},
   "outputs": [],
   "source": [
    "def mysoup(urls):\n",
    "    response = requests.get(urls)\n",
    "    return BeautifulSoup(response.text, 'lxml')   "
   ]
  },
  {
   "cell_type": "code",
   "execution_count": null,
   "metadata": {},
   "outputs": [],
   "source": [
    "card = mysoup('https://miuz.ru/catalog/rings/R4150-S-LRP34775CP/')"
   ]
  },
  {
   "cell_type": "code",
   "execution_count": null,
   "metadata": {},
   "outputs": [],
   "source": [
    "div_gems = card.select('body > div.grid > div > \\\n",
    "div > div.detail__item.detail__item--new > \\\n",
    "div.detail__item-col._3.position-relative >\\\n",
    "form > div:nth-child(8)')\n",
    "a = re.findall(r'Камни:\\s+([\\w\\W]+)', div_gems[0].text)\n",
    "a, type(a)"
   ]
  },
  {
   "cell_type": "code",
   "execution_count": null,
   "metadata": {},
   "outputs": [],
   "source": [
    "data = pd.DataFrame(columns=['h1','art','price','gold','weight','gems','url'])\n",
    "data.loc[len(data),'gems'] = a"
   ]
  },
  {
   "cell_type": "code",
   "execution_count": null,
   "metadata": {},
   "outputs": [],
   "source": [
    "data['gems']"
   ]
  },
  {
   "cell_type": "code",
   "execution_count": null,
   "metadata": {},
   "outputs": [],
   "source": [
    "data.loc[0,'gems'], type(data.loc[0,'gems'])"
   ]
  },
  {
   "cell_type": "code",
   "execution_count": null,
   "metadata": {},
   "outputs": [],
   "source": [
    "data.to_excel('data.xlsx', index=None)"
   ]
  },
  {
   "cell_type": "code",
   "execution_count": null,
   "metadata": {},
   "outputs": [],
   "source": [
    "data_e = pd.read_excel('data.xlsx')"
   ]
  },
  {
   "cell_type": "code",
   "execution_count": null,
   "metadata": {},
   "outputs": [],
   "source": [
    "data_e['gems']"
   ]
  },
  {
   "cell_type": "code",
   "execution_count": null,
   "metadata": {},
   "outputs": [],
   "source": [
    "data_e.loc[0,'gems'] , type(df.loc[0,'gems'])"
   ]
  },
  {
   "cell_type": "code",
   "execution_count": null,
   "metadata": {
    "scrolled": true
   },
   "outputs": [],
   "source": [
    "data_e['gems_list'] = data_e['gems'].str.replace('\\[|\\]','').str.strip(\"'\").str.split(';')"
   ]
  },
  {
   "cell_type": "code",
   "execution_count": null,
   "metadata": {},
   "outputs": [],
   "source": [
    "pd.options.display.max_colwidth = 200"
   ]
  },
  {
   "cell_type": "code",
   "execution_count": null,
   "metadata": {},
   "outputs": [],
   "source": [
    "data_e[['gems','gems_list']]"
   ]
  },
  {
   "cell_type": "code",
   "execution_count": null,
   "metadata": {
    "scrolled": true
   },
   "outputs": [],
   "source": [
    "data_e.loc[0,'gems_list'] , type(data_e.loc[0,'gems_list'])"
   ]
  },
  {
   "cell_type": "code",
   "execution_count": null,
   "metadata": {},
   "outputs": [],
   "source": [
    "### Отступление, о том как это превратилось в текст и когда, и как я обратно в лист\n",
    "\n",
    "from bs4 import BeautifulSoup\n",
    "import requests\n",
    "from requests import Request, Session\n",
    "import pandas as pd\n",
    "\n",
    "import re\n",
    "\n",
    "def mysoup(urls):\n",
    "    response = requests.get(urls)\n",
    "    return BeautifulSoup(response.text, 'lxml')   \n",
    "\n",
    "card = mysoup('https://miuz.ru/catalog/rings/R4150-S-LRP34775CP/')\n",
    "\n",
    "div_gems = card.select('body > div.grid > div > \\\n",
    "div > div.detail__item.detail__item--new > \\\n",
    "div.detail__item-col._3.position-relative >\\\n",
    "form > div:nth-child(8)')\n",
    "a = re.findall(r'Камни:\\s+([\\w\\W]+)', div_gems[0].text)\n",
    "a, type(a)\n",
    "\n",
    "data = pd.DataFrame(columns=['h1','art','price','gold','weight','gems','url'])\n",
    "data.loc[len(data),'gems'] = a\n",
    "\n",
    "data['gems']\n",
    "\n",
    "data.loc[0,'gems'], type(data.loc[0,'gems'])\n",
    "\n",
    "data.to_excel('data.xlsx', index=None)\n",
    "\n",
    "data_e = pd.read_excel('data.xlsx')\n",
    "\n",
    "data_e['gems']\n",
    "\n",
    "data_e.loc[0,'gems'] , type(data_e.loc[0,'gems'])\n",
    "\n",
    "data_e['gems_list'] = data_e['gems'].str.replace('\\[|\\]','').str.strip(\"'\").str.split(';')\n",
    "\n",
    "pd.options.display.max_colwidth = 200\n",
    "\n",
    "data_e[['gems','gems_list']]\n",
    "\n",
    "data_e.loc[0,'gems_list'] , type(data_e.loc[0,'gems_list'])"
   ]
  },
  {
   "cell_type": "code",
   "execution_count": null,
   "metadata": {},
   "outputs": [],
   "source": []
  },
  {
   "cell_type": "code",
   "execution_count": null,
   "metadata": {},
   "outputs": [],
   "source": []
  },
  {
   "cell_type": "code",
   "execution_count": null,
   "metadata": {},
   "outputs": [],
   "source": []
  },
  {
   "cell_type": "code",
   "execution_count": null,
   "metadata": {},
   "outputs": [],
   "source": []
  },
  {
   "cell_type": "code",
   "execution_count": null,
   "metadata": {},
   "outputs": [],
   "source": [
    "df"
   ]
  },
  {
   "cell_type": "code",
   "execution_count": null,
   "metadata": {},
   "outputs": [],
   "source": [
    "df.drop(columns='gemsl', inplace=True)"
   ]
  },
  {
   "cell_type": "code",
   "execution_count": null,
   "metadata": {},
   "outputs": [],
   "source": []
  },
  {
   "cell_type": "code",
   "execution_count": null,
   "metadata": {},
   "outputs": [],
   "source": [
    "s = \"one [two] three [1] [2]\"\n",
    "print(re.sub('\\[|\\]', '', s))"
   ]
  },
  {
   "cell_type": "code",
   "execution_count": null,
   "metadata": {},
   "outputs": [],
   "source": []
  },
  {
   "cell_type": "code",
   "execution_count": null,
   "metadata": {},
   "outputs": [],
   "source": []
  },
  {
   "cell_type": "code",
   "execution_count": null,
   "metadata": {},
   "outputs": [],
   "source": []
  },
  {
   "cell_type": "code",
   "execution_count": null,
   "metadata": {},
   "outputs": [],
   "source": []
  },
  {
   "cell_type": "markdown",
   "metadata": {},
   "source": [
    "# NOTE"
   ]
  },
  {
   "cell_type": "code",
   "execution_count": null,
   "metadata": {},
   "outputs": [],
   "source": [
    "#Нужная - перезапуск модулей и классов\n",
    "import importlib \n",
    "\n",
    "import classes_parsing #https://stackoverflow.com/questions/6946376/how-to-reload-a-class-in-python-shell\n",
    "\n",
    "importlib.reload(classes_parsing)\n",
    "\n",
    "from classes_parsing import Dlinks\n",
    "\n",
    "classes_parsing.Dlinks.__doc__\n",
    "\n",
    "Dlinks.__doc__"
   ]
  },
  {
   "cell_type": "code",
   "execution_count": null,
   "metadata": {},
   "outputs": [],
   "source": []
  },
  {
   "cell_type": "code",
   "execution_count": null,
   "metadata": {},
   "outputs": [],
   "source": [
    "for i in range(6505):\n",
    "    if i/500 in range(100):\n",
    "        print(i)"
   ]
  },
  {
   "cell_type": "code",
   "execution_count": null,
   "metadata": {},
   "outputs": [],
   "source": []
  },
  {
   "cell_type": "code",
   "execution_count": null,
   "metadata": {},
   "outputs": [],
   "source": []
  },
  {
   "cell_type": "code",
   "execution_count": null,
   "metadata": {},
   "outputs": [],
   "source": [
    "linkspd = pd.DataFrame(links)"
   ]
  },
  {
   "cell_type": "code",
   "execution_count": null,
   "metadata": {},
   "outputs": [],
   "source": [
    "linkspd.rename(columns={0:'short'}, inplace=True)"
   ]
  },
  {
   "cell_type": "code",
   "execution_count": null,
   "metadata": {},
   "outputs": [],
   "source": [
    "linkspd['path'] = domain +linkspd['short']"
   ]
  },
  {
   "cell_type": "code",
   "execution_count": null,
   "metadata": {},
   "outputs": [],
   "source": [
    "linkspd.to_excel(resfolder+'/'+'links4154_2410522.xlsx')"
   ]
  },
  {
   "cell_type": "code",
   "execution_count": null,
   "metadata": {},
   "outputs": [],
   "source": [
    "re.findall(r\"(?:Вес:</span>\\n)\\s+(\\d+.\\d+)\",str(card))"
   ]
  },
  {
   "cell_type": "code",
   "execution_count": null,
   "metadata": {},
   "outputs": [],
   "source": [
    "card = mysoup(urlcard)\n",
    "row = len(data)\n",
    "data.loc[row,'h1'] = card.find(\"h1\").text.strip()\n",
    "data.loc[row,'art'] = card.select('body > div.grid > div > div > div.shops__breadcrumbs.catalog_breadcrumbs > div > div:nth-child(4) > span > span')\n",
    "\n",
    "data.loc[row,'price'] = float(''.join(re.findall(r'\\d+', card.find('div',\"detail__item-price-new\").text)))\n",
    "              \n",
    "\n",
    "#quotes_inner = card.find_all('div', \"detail__item-option\")\n",
    "#quotes_inner\n",
    "\n",
    "data.loc[row,'gold'] = re.findall(r\"(Золото\\s+\\d+)\",str(quotes_inner[0]))[0]\n",
    "\n",
    "data.loc[row,'weight'] = float(re.findall(r\"(?:Вес:</span>\\n)\\s+(\\d+.\\d+)\",str(card))[0])\n",
    "\n",
    "div_gems = card.select('body > div.grid > div > div > div.detail__item.detail__item--new > div.detail__item-col._3.position-relative > form > div:nth-child(8)')\n",
    "\n",
    "data.loc[row,'gems'] = re.search(r'Камни:\\s+([\\w\\W]+)', str(div_gems[0].text.strip()))[1]\n"
   ]
  },
  {
   "cell_type": "code",
   "execution_count": null,
   "metadata": {},
   "outputs": [],
   "source": []
  },
  {
   "cell_type": "code",
   "execution_count": null,
   "metadata": {},
   "outputs": [],
   "source": []
  }
 ],
 "metadata": {
  "kernelspec": {
   "display_name": "Python 3",
   "language": "python",
   "name": "python3"
  },
  "language_info": {
   "codemirror_mode": {
    "name": "ipython",
    "version": 3
   },
   "file_extension": ".py",
   "mimetype": "text/x-python",
   "name": "python",
   "nbconvert_exporter": "python",
   "pygments_lexer": "ipython3",
   "version": "3.8.8"
  },
  "toc": {
   "base_numbering": 1,
   "nav_menu": {},
   "number_sections": true,
   "sideBar": true,
   "skip_h1_title": false,
   "title_cell": "Table of Contents",
   "title_sidebar": "Contents",
   "toc_cell": false,
   "toc_position": {
    "height": "calc(100% - 180px)",
    "left": "10px",
    "top": "150px",
    "width": "384px"
   },
   "toc_section_display": true,
   "toc_window_display": true
  }
 },
 "nbformat": 4,
 "nbformat_minor": 2
}
