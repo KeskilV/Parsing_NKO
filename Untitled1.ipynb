{
 "cells": [
  {
   "cell_type": "code",
   "execution_count": 1,
   "metadata": {},
   "outputs": [],
   "source": [
    "from bs4 import BeautifulSoup\n",
    "import requests\n",
    "from requests import Request, Session\n",
    "import pandas as pd"
   ]
  },
  {
   "cell_type": "code",
   "execution_count": 2,
   "metadata": {},
   "outputs": [
    {
     "name": "stdout",
     "output_type": "stream",
     "text": [
      "===========================https://dobro.mail.ru/funds===========================\n"
     ]
    }
   ],
   "source": [
    "po = 'Рак'\n",
    "poisk = po\n",
    "po = po.replace(' ', '+')\n",
    "urls = f'https://dobro.mail.ru/funds/search/?query={po}&recipient=all&city=any'\n",
    "response = requests.get(urls)\n",
    "soup = BeautifulSoup(response.text, 'lxml')\n",
    "quotes = soup.find_all('div', class_='cols__column cols__column_small_percent-100 cols__column_medium_percent-50 cols__column_large_percent-50')\n",
    "print('===========================https://dobro.mail.ru/funds===========================')"
   ]
  },
  {
   "cell_type": "code",
   "execution_count": 6,
   "metadata": {},
   "outputs": [
    {
     "data": {
      "text/plain": [
       "bs4.element.ResultSet"
      ]
     },
     "execution_count": 6,
     "metadata": {},
     "output_type": "execute_result"
    }
   ],
   "source": [
    "type(quotes)"
   ]
  },
  {
   "cell_type": "code",
   "execution_count": 8,
   "metadata": {},
   "outputs": [
    {
     "data": {
      "text/plain": [
       "'Рак'"
      ]
     },
     "execution_count": 8,
     "metadata": {},
     "output_type": "execute_result"
    }
   ],
   "source": [
    "po"
   ]
  },
  {
   "cell_type": "code",
   "execution_count": 7,
   "metadata": {},
   "outputs": [
    {
     "name": "stdout",
     "output_type": "stream",
     "text": [
      "БРОО «Святое Белогорье против детского рака»\n",
      "Белгород\n",
      "https://dobro.mail.ru/funds/broo-svyatoe-belogore-protiv-detskogo-raka/\n",
      "http://www.zhiznplus.ru/\n",
      "\n",
      "РакФонд\n",
      "Москва\n",
      "https://dobro.mail.ru/funds/fond-podderzhki-nauchnyih-issledovanij-v-onkologii-rakfond/\n",
      "https://www.rakfond.org/\n",
      "\n",
      "Благотворительный фонд «Жизнь»\n",
      "Москва\n",
      "https://dobro.mail.ru/funds/blagotvoritelnyij-fond-zhizn/\n",
      "http://www.deti-life.ru/\n",
      "\n",
      "Фонд медицинских решений \"Не напрасно\"\n",
      "Санкт-Петербург\n",
      "https://dobro.mail.ru/funds/fond-profilaktiki-raka/\n",
      "https://nenaprasno.ru/\n",
      "\n",
      "Челябинское региональное благотворительное движение помощи онкобольным детям «Искорка Фонд»\n",
      "Челябинск\n",
      "https://dobro.mail.ru/funds/chelyabinskoe-regionalnoe-blagotvoritelnoe-dvizhenie-iskorka-fond/\n",
      "https://onco74.ru/\n",
      "\n",
      "Благотворительный фонд помощи детям с неизлечимыми заболеваниями имени Ани Чижовой\n",
      "Чебоксары\n",
      "https://dobro.mail.ru/funds/blagotvoritelnyij-fond-pomoschi-detyam-s-neizlechimyimi-zabolevaniyami-imeni-ani-chizhovoj/\n",
      "https://fondani.ru\n",
      "\n",
      "РОО «Экологическая вахта Сахалина»\n",
      "Южно-Сахалинск\n",
      "https://dobro.mail.ru/funds/fond-ekovakhta/\n",
      "https://ecosakh.ru/\n",
      "\n",
      "Благотворительный фонд помощи женщинам с онкологическими заболеваниями «Дальше»\n",
      "Москва\n",
      "https://dobro.mail.ru/funds/blagotvoritelnyij-fond-pomoschi-zhenschinam-s-onkologicheskimi-zabolevaniyami-dalshe/\n",
      "https://dalshefond.ru/\n",
      "\n",
      "Фонд социальных программ и поддержки женщин «Александра»\n",
      "Москва\n",
      "https://dobro.mail.ru/funds/fond-sotsialnyih-programm-i-podderzhki-zhenschin-aleksandra/\n",
      "http://fondaleksandra.ru/\n",
      "\n",
      "Благотворительный фонд «Предание»\n",
      "Москва\n",
      "https://dobro.mail.ru/funds/blagotvoritelnyij-fond-predanie/\n",
      "https://fond.predanie.ru\n",
      "\n",
      "Благотворительный фонд помощи хосписам «Вера»\n",
      "Москва\n",
      "https://dobro.mail.ru/funds/blagotvoritelnyij-fond-pomoschi-hospisam-vera/\n",
      "http://www.hospicefund.ru/\n",
      "\n",
      "Благотворительный фонд «Бюро Добрых Дел»\n",
      "Астрахань, Кострома, Нижний Новгород, Саратов, Уфа\n",
      "https://dobro.mail.ru/funds/blagotvoritelnyij-fond-byuro-dobryih-del/\n",
      "http://www.burodd.ru/\n",
      "\n",
      "Фонд борьбы с инсультом ОРБИ\n",
      "Москва\n",
      "https://dobro.mail.ru/funds/mezhregionalnyj-fond-pomoshi-rodstvennikam-bolnyh-s-insultom-orbi/\n",
      "http://www.orbifond.ru/\n",
      "\n",
      "Благотворительный фонд помощи тяжелобольным детям «Потерь нет»\n",
      "Уфа\n",
      "https://dobro.mail.ru/funds/blagotvoritelnyij-fond-pomoschi-tyazhelobolnyim-detyam-poter-net-3/\n",
      "http://poter-net.ru/\n",
      "\n"
     ]
    }
   ],
   "source": [
    "if len(quotes) != 0:\n",
    "    for i in range(len(quotes)):\n",
    "        name = str(quotes[i].find('span', 'link__text'))\n",
    "        name = name.replace('<span class=\"link__text\">', '')\n",
    "        name = name.replace('</span>', '')\n",
    "        \n",
    "        url = str(quotes[i].find('a', 'link link_font_large margin_bottom_10 link-holder'))\n",
    "        url = url.replace('<a class=\"link link_font_large margin_bottom_10 link-holder\" href=\"', 'https://dobro.mail.ru')\n",
    "        url = url.split('\"')[0]\n",
    "        \n",
    "        city = str(quotes[i].find('div', 'p-fund__city margin_bottom_5'))\n",
    "        city = city.replace('<div class=\"p-fund__city margin_bottom_5\">', '')\n",
    "        city = city.replace('</div>', '')\n",
    "        \n",
    "        responses = requests.get(url)\n",
    "        soups = BeautifulSoup(responses.text, 'lxml')\n",
    "        \n",
    "        site = soups.find_all('div', class_='p-fund-detail__info-row')\n",
    "        if str(site[0].find('a', 'link')) == None:\n",
    "            site = str(site[0].find('a', 'link'))\n",
    "            site = site.replace('<span class=\"link__text\">', '')\n",
    "            site = site.replace('</span>', '')\n",
    "        else:\n",
    "            site = str(site[1].find('a', 'link'))\n",
    "            site = site.replace('<span class=\"link__text\">', '')\n",
    "            site = site.split('\"')[3]\n",
    "        \n",
    "        print(name + '\\n' + city + '\\n' + url + '\\n' + site + '\\n')\n",
    "else:\n",
    "    print('Нет')\n",
    "    "
   ]
  },
  {
   "cell_type": "code",
   "execution_count": null,
   "metadata": {},
   "outputs": [],
   "source": []
  }
 ],
 "metadata": {
  "kernelspec": {
   "display_name": "Python 3",
   "language": "python",
   "name": "python3"
  },
  "language_info": {
   "codemirror_mode": {
    "name": "ipython",
    "version": 3
   },
   "file_extension": ".py",
   "mimetype": "text/x-python",
   "name": "python",
   "nbconvert_exporter": "python",
   "pygments_lexer": "ipython3",
   "version": "3.6.4"
  }
 },
 "nbformat": 4,
 "nbformat_minor": 2
}
