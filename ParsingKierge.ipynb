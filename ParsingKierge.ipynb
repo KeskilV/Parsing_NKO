{
 "cells": [
  {
   "cell_type": "code",
   "execution_count": 1,
   "metadata": {},
   "outputs": [],
   "source": [
    "from bs4 import BeautifulSoup\n",
    "import requests\n",
    "from requests import Request, Session\n",
    "import pandas as pd"
   ]
  },
  {
   "cell_type": "code",
   "execution_count": null,
   "metadata": {},
   "outputs": [],
   "source": [
    "import re"
   ]
  },
  {
   "cell_type": "code",
   "execution_count": null,
   "metadata": {},
   "outputs": [],
   "source": [
    "def mysoup(urls):\n",
    "    response = requests.get(urls)\n",
    "    return BeautifulSoup(response.text, 'lxml')\n",
    "   "
   ]
  },
  {
   "cell_type": "code",
   "execution_count": null,
   "metadata": {},
   "outputs": [],
   "source": [
    "def getlinks(urls):\n",
    "    quotes = mysoup(urls).find_all('div', class_=\"product\")\n",
    "    res = [q.find(\"a\").get(\"href\") for q in quotes]\n",
    "    print(len(res), 'links is ready ' , res[0], '...', res[-1])\n",
    "    return res\n",
    "    "
   ]
  },
  {
   "cell_type": "code",
   "execution_count": null,
   "metadata": {},
   "outputs": [],
   "source": [
    "def get_info_from_card(urls):\n",
    "    card = mysoup(urls)\n",
    "    return card.select('body > div.grid > div > div > div.detail__item.detail__item--new > div.detail__item-col._3.position-relative > form > div:nth-child(8)')\n",
    "    "
   ]
  },
  {
   "cell_type": "code",
   "execution_count": null,
   "metadata": {},
   "outputs": [],
   "source": []
  },
  {
   "cell_type": "code",
   "execution_count": null,
   "metadata": {},
   "outputs": [],
   "source": []
  },
  {
   "cell_type": "code",
   "execution_count": null,
   "metadata": {},
   "outputs": [],
   "source": []
  },
  {
   "cell_type": "markdown",
   "metadata": {},
   "source": [
    "## Сбор ссылок на карточки"
   ]
  },
  {
   "cell_type": "code",
   "execution_count": null,
   "metadata": {},
   "outputs": [],
   "source": [
    "urlslist=[\n",
    "    'https://egelge.com/catalog/ukrasheniya-164/?mat%5B%5D=175&type%5B%5D=%D0%9F%D0%BE%D0%B4%D0%B2%D0%B5%D1%81%D0%BA%D0%B0&order=prices+asc',\n",
    "    'https://egelge.com/catalog/ukrasheniya-164/?do=more&ids=164&p=2&mat[]=175&type[]=Подвеска&order=prices+asc&_=1650424255118',\n",
    "    ]\n"
   ]
  },
  {
   "cell_type": "code",
   "execution_count": null,
   "metadata": {},
   "outputs": [],
   "source": [
    "urlslist0=[\n",
    "    'https://egelge.com/catalog/ukrasheniya-164/?mat%5B%5D=175&type%5B%5D=%D0%9A%D0%BE%D0%BB%D1%8C%D1%86%D0%BE&order=prices+asc',\n",
    "    'https://egelge.com/catalog/ukrasheniya-164/?do=more&ids=164&p=2&mat[]=175&type[]=%D0%9A%D0%BE%D0%BB%D1%8C%D1%86%D0%BE&order=prices+asc&_=1650414778603',\n",
    "    'https://egelge.com/catalog/ukrasheniya-164/?do=more&ids=164&p=3&mat[]=175&type[]=%D0%9A%D0%BE%D0%BB%D1%8C%D1%86%D0%BE&order=prices+asc&_=1650414778604',\n",
    "    'https://egelge.com/catalog/ukrasheniya-164/?do=more&ids=164&p=4&mat[]=175&type[]=%D0%9A%D0%BE%D0%BB%D1%8C%D1%86%D0%BE&order=prices+asc&_=1650414778605']\n"
   ]
  },
  {
   "cell_type": "code",
   "execution_count": null,
   "metadata": {},
   "outputs": [],
   "source": [
    "urlslist1=[\n",
    "    'https://egelge.com/catalog/ukrasheniya-164/?mat%5B%5D=175&type%5B%5D=%D0%A1%D0%B5%D1%80%D1%8C%D0%B3%D0%B8&order=prices+asc',\n",
    "    'https://egelge.com/catalog/ukrasheniya-164/?do=more&ids=164&p=2&mat%5B%5D=175&type%5B%5D=%D0%A1%D0%B5%D1%80%D1%8C%D0%B3%D0%B8&order=prices+asc&_=1650422629990']\n"
   ]
  },
  {
   "cell_type": "code",
   "execution_count": null,
   "metadata": {},
   "outputs": [],
   "source": [
    "links# = []"
   ]
  },
  {
   "cell_type": "code",
   "execution_count": null,
   "metadata": {},
   "outputs": [],
   "source": [
    "#def main():\n",
    "\n",
    "#urls = f'https://egelge.com/catalog/ukrasheniya-164/?mat%5B%5D=175&type%5B%5D=%D0%9A%D0%BE%D0%BB%D1%8C%D1%86%D0%BE&order=prices+asc'\n",
    "domain = f'https://egelge.com'\n",
    "#links = []\n",
    "for urls in urlslist:\n",
    "    response = requests.get(urls)\n",
    "    quotes = BeautifulSoup(response.text, 'lxml').find_all('div', class_=\"dici-thumb-wrapper\")\n",
    "    links.extend([q.find(\"a\").get(\"href\") for q in quotes])\n",
    "\n",
    "[l for l in enumerate(links)]\n"
   ]
  },
  {
   "cell_type": "code",
   "execution_count": null,
   "metadata": {},
   "outputs": [],
   "source": [
    "links = ['/catalog/zolotye-sergi-s-brilliantami-741/',\n",
    " '/catalog/zolotye-sergi-430/',\n",
    " '/catalog/zolotye-sergi-s-brilliantami-745/',\n",
    " '/catalog/zolotye-sergi-s-brilliantami-785/',\n",
    " '/catalog/zolotye-sergi-s-brilliantami-473/',\n",
    " '/catalog/zolotye-sergi-s-brilliantami-706/',\n",
    " '/catalog/zolotye-sergi-chohu-871/',\n",
    " '/catalog/zolotye-sergi-s-brilliantami-865/',\n",
    " '/catalog/zolotye-sergi-s-brilliantami-464/',\n",
    " '/catalog/zolotye-sergi-429/',\n",
    " '/catalog/zolotye-sergi-396/',\n",
    " '/catalog/zolotye-sergi-s-fianitami-878/',\n",
    " '/catalog/zolotye-sergi-chohu-874/',\n",
    " '/catalog/zolotye-sergi-s-brilliantami-462/',\n",
    " '/catalog/zolotye-sergi-s-brilliantami-414/',\n",
    " '/catalog/zolotye-sergi-s-brilliantami-882/',\n",
    " '/catalog/zolotye-sergi-s-brilliantami-834/',\n",
    " '/catalog/zolotye-sergi-s-brilliantami-839/',\n",
    " '/catalog/zolotye-sergi-s-brilliantami-460/',\n",
    " '/catalog/zolotye-sergi-s-brilliantami-787/',\n",
    " '/catalog/zolotye-sergi-s-brilliantami-439/',\n",
    " '/catalog/zolotye-sergi-s-brilliantami-455/',\n",
    " '/catalog/zolotye-sergi-s-chernymi-brilliantami-415/',\n",
    " '/catalog/zolotye-sergi-s-brilliantami-454/',\n",
    " '/catalog/zolotye-sergi-s-brilliantami-811/',\n",
    " '/catalog/zolotye-sergi-s-brilliantami-810/',\n",
    " '/catalog/zolotye-sergi-s-brilliantami-884/',\n",
    " '/catalog/zolotye-sergi-s-brilliantami-881/',\n",
    " '/catalog/zolotye-sergi-s-brilliantami-885/',\n",
    " '/catalog/zolotye-sergi-s-brilliantami-456/',\n",
    " '/catalog/zolotye-sergi-431/',\n",
    " '/catalog/zolotye-sergi-s-brilliantami-806/',\n",
    " '/catalog/zolotye-sergi-432/',\n",
    " '/catalog/zolotye-sergi-s-brilliantami-458/',\n",
    " '/catalog/zolotye-sergi-433/',\n",
    " '/catalog/zolotye-sergi-434/',\n",
    " '/catalog/zolotye-sergi-s-brilliantami-740/',\n",
    " '/catalog/zolotye-sergi-s-brilliantami-463/',\n",
    " '/catalog/zolotye-sergi-s-brilliantami-467/',\n",
    " '/catalog/zolotye-sergi-s-granatami-444/',\n",
    " '/catalog/zolotye-sergi-s-brilliantami-883/',\n",
    " '/catalog/zolotye-sergi-s-brilliantami-738/',\n",
    " '/catalog/zolotye-sergi-s-sultanitom-447/',\n",
    " '/catalog/zolotye-sergi-s-sultanitom-446/']"
   ]
  },
  {
   "cell_type": "code",
   "execution_count": null,
   "metadata": {},
   "outputs": [],
   "source": [
    "[(0, '/catalog/zolotaya-podveska-s-brilliantom-779/'),\n",
    " (1, '/catalog/zolotaya-podveska-s-brilliantom-778/'),\n",
    " (2, '/catalog/zolotaya-podveska-haryshal-400/'),\n",
    " (3, '/catalog/zolotaya-podveska-s-brilliantom-780/'),\n",
    " (4, '/catalog/zolotaya-podveska-s-brilliantom-782/'),\n",
    " (5, '/catalog/zolotaya-podveska-s-brilliantom-555/'),\n",
    " (6, '/catalog/zolotaya-podveska-s-brilliantom-797/'),\n",
    " (7, '/catalog/zolotaya-podveska-s-brilliantom-547/'),\n",
    " (8, '/catalog/zolotaya-podveska-haryshal-398/'),\n",
    " (9, '/catalog/zolotaya-podveska-haryshal-561/'),\n",
    " (10, '/catalog/zolotaya-podveska-s-brilliantom-783/'),\n",
    " (11, '/catalog/zolotaya-podveska-s-brilliantom-556/'),\n",
    " (12, '/catalog/zolotaya-podveska-haryshal-559/'),\n",
    " (13, '/catalog/zolotaya-podveska-haryshal-557/'),\n",
    " (14, '/catalog/zolotaya-podveska-haryshal-558/'),\n",
    " (15, '/catalog/zolotaya-podveska-haryshal-560/'),\n",
    " (16, '/catalog/zolotaya-podveska-haryshal-563/'),\n",
    " (17, '/catalog/zolotaya-podveska-haryshal-564/'),\n",
    " (18, '/catalog/zolotaya-podveska-861/'),\n",
    " (19, '/catalog/zolotaya-podveska-397/'),\n",
    " (20, '/catalog/zolotaya-podveska-haryshal-s-cirkoniem-399/'),\n",
    " (21, '/catalog/zolotaya-podveska-s-brilliantom-546/'),\n",
    " (22, '/catalog/zolotaya-podveska-s-brilliantami-862/'),\n",
    " (23, '/catalog/zolotaya-podveska-s-brilliantami-863/'),\n",
    " (24, '/catalog/zolotaya-podveska-s-fianitami-859/'),\n",
    " (25, '/catalog/zolotaya-podveska-s-brilliantami-860/'),\n",
    " (26, '/catalog/zolotaya-podveska-haryshal-s-brilliantami-452/')]"
   ]
  },
  {
   "cell_type": "code",
   "execution_count": null,
   "metadata": {},
   "outputs": [],
   "source": [
    "[(0, '/catalog/zolotoe-kolco-s-brilliantami-716/'),\n",
    " (1, '/catalog/zolotoe-kolco-s-brilliantom-541/'),\n",
    " (2, '/catalog/zolotoe-kolco-s-brilliantom-773/'),\n",
    " (3, '/catalog/zolotoe-kolco-s-brilliantom-523/'),\n",
    " (4, '/catalog/zolotoe-kolco-s-brilliantom-522/'),\n",
    " (5, '/catalog/zolotoe-kolco-s-brilliantom-764/'),\n",
    " (6, '/catalog/zolotoe-kolco-s-brilliantom-856/'),\n",
    " (7, '/catalog/zolotoe-kolco-s-brilliantom-763/'),\n",
    " (8, '/catalog/zolotoe-kolco-s-brilliantom-765/'),\n",
    " (9, '/catalog/zolotoe-kolco-s-hromdiopsidom-i-granatami-853/'),\n",
    " (10, '/catalog/zolotoe-kolco-s-brilliantom-820/'),\n",
    " (11, '/catalog/zolotoe-kolco-s-hromdiopsidom-i-granatami-403/'),\n",
    " (12, '/catalog/zolotoe-kolco-s-brilliantom-767/'),\n",
    " (13, '/catalog/zolotoe-kolco-s-brilliantami-845/'),\n",
    " (14, '/catalog/zolotoe-kolco-s-brilliantom-864/'),\n",
    " (15, '/catalog/zolotoe-kolco-s-brilliantami-725/'),\n",
    " (16, '/catalog/zolotoe-kolco-218/'),\n",
    " (17, '/catalog/zolotoe-kolco-s-brilliantami-392/'),\n",
    " (18, '/catalog/zolotoe-kolco-s-brilliantom-495/'),\n",
    " (19, '/catalog/zolotoe-kolco-s-brilliantom-750/'),\n",
    " (20, '/catalog/zolotoe-kolco-s-brilliantom-848/'),\n",
    " (21, '/catalog/zolotoe-kolco-s-brilliantom-536/'),\n",
    " (22, '/catalog/zolotoe-kolco-s-brilliantom-422/'),\n",
    " (23, '/catalog/zolotoe-kolco-s-hromdiopsidom-i-brilliantami-791/'),\n",
    " (24, '/catalog/zolotoe-kolco-s-brilliantami-724/'),\n",
    " (25, '/catalog/zolotoe-kolco-s-brilliantami-428/'),\n",
    " (26, '/catalog/zolotoe-kolco-s-granatami-794/'),\n",
    " (27, '/catalog/zolotoe-kolco-s-brilliantami-501/'),\n",
    " (28, '/catalog/zolotoe-kolco-s-brilliantom-756/'),\n",
    " (29, '/catalog/zolotye-sergi-s-brilliantami-427/'),\n",
    " (30, '/catalog/zolotoe-kolco-s-brilliantom-751/'),\n",
    " (31, '/catalog/zolotoe-kolco-s-brilliantom-847/'),\n",
    " (32, '/catalog/zolotoe-kolco-s-brilliantom-423/'),\n",
    " (33, '/catalog/zolotoe-kolco-s-brilliantom-512/'),\n",
    " (34, '/catalog/zolotoe-kolco-s-hromdiopsidom-i-brilliantami-814/'),\n",
    " (35, '/catalog/zolotoe-kolco-s-brilliantom-496/'),\n",
    " (36, '/catalog/zolotoe-kolco-s-brilliantami-719/'),\n",
    " (37, '/catalog/zolotoe-kolco-s-brilliantom-504/'),\n",
    " (38, '/catalog/zolotoe-kolco-s-brilliantom-775/'),\n",
    " (39, '/catalog/zolotoe-kolco-s-brilliantom-521/'),\n",
    " (40, '/catalog/zolotoe-kolco-s-brilliantom-544/'),\n",
    " (41, '/catalog/zolotoe-kolco-s-brilliantom-762/'),\n",
    " (42, '/catalog/zolotoe-kolco-s-brilliantami-395/'),\n",
    " (43, '/catalog/zolotoe-kolco-s-brilliantom-492/'),\n",
    " (44, '/catalog/zolotoe-kolco-s-hromdiopsidom-i-brilliantami-731/'),\n",
    " (45, '/catalog/zolotoe-kolco-s-fianitom-880/'),\n",
    " (46, '/catalog/zolotoe-kolco-s-hromdiopsidom-i-brilliantami-855/'),\n",
    " (47, '/catalog/zolotoe-kolco-s-brilliantami-425/'),\n",
    " (48, '/catalog/zolotoe-kolco-s-hromdiopsidom-i-brilliantami-732/'),\n",
    " (49, '/catalog/zolotoe-kolco-s-hromdiopsidom-i-brilliantami-733/'),\n",
    " (50, '/catalog/zolotaya-podveska-us-kut-212/'),\n",
    " (51, '/catalog/zolotoe-kolco-s-brilliantom-760/'),\n",
    " (52, '/catalog/zolotoe-kolco-s-brilliantom-514/'),\n",
    " (53, '/catalog/zolotoe-kolco-831/'),\n",
    " (54, '/catalog/zolotoe-kolco-s-brilliantami-426/'),\n",
    " (55, '/catalog/zolotoe-kolco-421/'),\n",
    " (56, '/catalog/zolotoe-kolco-s-brilliantami-753/'),\n",
    " (57, '/catalog/zolotoe-kolco-s-brilliantom-498/'),\n",
    " (58, '/catalog/zolotoe-kolco-s-brilliantom-757/'),\n",
    " (59, '/catalog/zolotoe-kolco-s-brilliantami-849/'),\n",
    " (60, '/catalog/zolotoe-kolco-s-brilliantom-758/'),\n",
    " (61, '/catalog/zolotoe-kolco-s-brilliantom-493/'),\n",
    " (62, '/catalog/zolotoe-kolco-s-brilliantom-505/'),\n",
    " (63, '/catalog/zolotoe-kolco-s-hromdiopsidom-406/'),\n",
    " (64, '/catalog/zolotoe-kolco-s-brilliantom-424/'),\n",
    " (65, '/catalog/zolotoe-kolco-s-brilliantom-720/'),\n",
    " (66, '/catalog/zolotoe-kolco-s-brilliantami-759/'),\n",
    " (67, '/catalog/zolotoe-kolco-s-brilliantami-518/'),\n",
    " (68, '/catalog/zolotoe-kolco-s-brilliantom-494/'),\n",
    " (69, '/catalog/zolotoe-kolco-s-brilliantami-507/'),\n",
    " (70, '/catalog/zolotoe-kolco-s-brilliantami-500/'),\n",
    " (71, '/catalog/zolotoe-kolco-s-brilliantom-517/'),\n",
    " (72, '/catalog/zolotoe-kolco-s-brilliantom-516/'),\n",
    " (73, '/catalog/zolotoe-kolco-s-brilliantom-830/')]"
   ]
  },
  {
   "cell_type": "markdown",
   "metadata": {},
   "source": [
    "## Обработка карточки"
   ]
  },
  {
   "cell_type": "markdown",
   "metadata": {},
   "source": [
    "### Пошагово, ручная обработка карточки"
   ]
  },
  {
   "cell_type": "code",
   "execution_count": null,
   "metadata": {},
   "outputs": [],
   "source": [
    "#jlook = mysoup(domain+links[73])\n",
    "\n",
    "response = requests.get('https://kierge.com/zhenskie/tproduct/195388121-518721987481-koltso')\n",
    "jlook = BeautifulSoup(response.text, 'lxml')\n",
    "\n",
    "#https://kierge.com/zhenskie/tproduct/195388121-518721987481-koltso"
   ]
  },
  {
   "cell_type": "code",
   "execution_count": null,
   "metadata": {},
   "outputs": [],
   "source": [
    "jlook"
   ]
  },
  {
   "cell_type": "code",
   "execution_count": null,
   "metadata": {},
   "outputs": [],
   "source": []
  },
  {
   "cell_type": "code",
   "execution_count": 2,
   "metadata": {},
   "outputs": [
    {
     "data": {
      "text/plain": [
       "<Response [403]>"
      ]
     },
     "execution_count": 2,
     "metadata": {},
     "output_type": "execute_result"
    }
   ],
   "source": [
    "response = requests.get('https://kierge.com/zhenskie/tproduct/195388121-518721987481-koltso')\n",
    "response"
   ]
  },
  {
   "cell_type": "code",
   "execution_count": 4,
   "metadata": {},
   "outputs": [
    {
     "data": {
      "text/plain": [
       "<Response [403]>"
      ]
     },
     "execution_count": 4,
     "metadata": {},
     "output_type": "execute_result"
    }
   ],
   "source": [
    "session = requests.Session()\n",
    "response = session.get('https://kierge.com/zhenskie/tproduct/195388121-518721987481-koltso')\n",
    "response"
   ]
  },
  {
   "cell_type": "code",
   "execution_count": 5,
   "metadata": {},
   "outputs": [],
   "source": [
    "session.headers =  {\n",
    "  'accept':'text/html,application/xhtml+xml,application/xml;q=0.9,image/webp,image/apng,*/*;q=0.8,application/signed-exchange;v=b3',\n",
    "  'accept-encoding':'gzip, deflate, br',\n",
    "  'accept-language':'ru-RU,ru;q=0.9,en-US;q=0.8,en;q=0.7',\n",
    "  'cache-control':'no-cache',\n",
    "  'dnt': '1',\n",
    "  'pragma': 'no-cache',\n",
    "  'sec-fetch-mode': 'navigate',\n",
    "  'sec-fetch-site': 'none',\n",
    "  'sec-fetch-user': '?1',\n",
    "  'upgrade-insecure-requests': '1',\n",
    "  'user-agent': 'Mozilla/5.0 (Windows NT 6.1; Win64; x64) AppleWebKit/537.36 (KHTML, like Gecko) Chrome/76.0.3809.100 Safari/537.36'}"
   ]
  },
  {
   "cell_type": "code",
   "execution_count": 6,
   "metadata": {},
   "outputs": [
    {
     "data": {
      "text/plain": [
       "<Response [200]>"
      ]
     },
     "execution_count": 6,
     "metadata": {},
     "output_type": "execute_result"
    }
   ],
   "source": [
    "response = session.get('https://kierge.com/zhenskie/tproduct/195388121-518721987481-koltso')\n",
    "response"
   ]
  },
  {
   "cell_type": "code",
   "execution_count": null,
   "metadata": {},
   "outputs": [],
   "source": []
  },
  {
   "cell_type": "code",
   "execution_count": null,
   "metadata": {},
   "outputs": [],
   "source": [
    "url =  f'https://kierge.com/zhenskie/tproduct/195388121-518721987481-koltso'\n",
    "json_url =  f'https://kierge.com/zhenskie/tproduct/195388121-518721987481-koltso'\n",
    "header = {\n",
    "  'accept':'text/html,application/xhtml+xml,application/xml;q=0.9,image/webp,image/apng,*/*;q=0.8,application/signed-exchange;v=b3',\n",
    "  'accept-encoding':'gzip, deflate, br',\n",
    "  'accept-language':'ru-RU,ru;q=0.9,en-US;q=0.8,en;q=0.7',\n",
    "  'cache-control':'no-cache',\n",
    "  'dnt': '1',\n",
    "  'pragma': 'no-cache',\n",
    "  'sec-fetch-mode': 'navigate',\n",
    "  'sec-fetch-site': 'none',\n",
    "  'sec-fetch-user': '?1',\n",
    "  'upgrade-insecure-requests': '1',\n",
    "  'user-agent': 'Mozilla/5.0 (Windows NT 6.1; Win64; x64) AppleWebKit/537.36 (KHTML, like Gecko) Chrome/76.0.3809.100 Safari/537.36'}\n",
    "\n",
    "session = requests.Session()\n",
    "session.headers = header\n",
    "r = session.get(url)\n",
    "if r.status_code == 200:\n",
    "  json_r = session.get(json_url)\n",
    "  if json_r.status_code == 200:\n",
    "    print(json_r.text)\n",
    "  else:\n",
    "    print(json_r.status_code)"
   ]
  },
  {
   "cell_type": "code",
   "execution_count": null,
   "metadata": {},
   "outputs": [],
   "source": [
    "card = BeautifulSoup(json_r.text, 'lxml')"
   ]
  },
  {
   "cell_type": "code",
   "execution_count": null,
   "metadata": {},
   "outputs": [],
   "source": [
    "card.find_all('div',\"js-store-prod-all-text\")[0].text.strip()"
   ]
  },
  {
   "cell_type": "code",
   "execution_count": null,
   "metadata": {},
   "outputs": [],
   "source": []
  },
  {
   "cell_type": "code",
   "execution_count": 8,
   "metadata": {},
   "outputs": [],
   "source": [
    "file = open(\"jewels/kierge/Женские украшения_21-04-2022_кольца.html\", \"r\")\n"
   ]
  },
  {
   "cell_type": "code",
   "execution_count": 14,
   "metadata": {},
   "outputs": [
    {
     "ename": "TypeError",
     "evalue": "argument should be integer or None, not 'str'",
     "output_type": "error",
     "traceback": [
      "\u001b[1;31m---------------------------------------------------------------------------\u001b[0m",
      "\u001b[1;31mTypeError\u001b[0m                                 Traceback (most recent call last)",
      "\u001b[1;32m<ipython-input-14-f6f6ee1e6d42>\u001b[0m in \u001b[0;36m<module>\u001b[1;34m\u001b[0m\n\u001b[1;32m----> 1\u001b[1;33m \u001b[0mfile\u001b[0m\u001b[1;33m.\u001b[0m\u001b[0mread\u001b[0m\u001b[1;33m(\u001b[0m \u001b[1;34m'lxml'\u001b[0m\u001b[1;33m)\u001b[0m\u001b[1;33m\u001b[0m\u001b[1;33m\u001b[0m\u001b[0m\n\u001b[0m",
      "\u001b[1;31mTypeError\u001b[0m: argument should be integer or None, not 'str'"
     ]
    }
   ],
   "source": [
    "file.\n"
   ]
  },
  {
   "cell_type": "code",
   "execution_count": 15,
   "metadata": {},
   "outputs": [],
   "source": [
    "with open (\"jewels/kierge/Женские украшения_21-04-2022_кольца.html\",'r',encoding='utf-8') as f:\n",
    "    html = BeautifulSoup(f.read(), 'lxml')"
   ]
  },
  {
   "cell_type": "code",
   "execution_count": null,
   "metadata": {},
   "outputs": [],
   "source": [
    "<div class=\"t-store__card__wrap_all \" style=\"background-color:#222222;box-shadow: 0px 0px 3px 0px rgba(0, 0, 0, 0.3);\">    <a href=\"https://kierge.com/zhenskie/tproduct/195388121-486904972136-koltso\">        <div class=\"t-store__card__imgwrapper \" style=\"padding-bottom:83.33333333333333%;\">        <div class=\"js-product-img t-store__card__bgimg t-bgimg loaded\" data-original=\"https://static.tildacdn.com/tild3062-3235-4165-a537-336462306165/27-min.jpg\" style=\"background-image: url(&quot;https://thumb.tildacdn.com/tild3062-3235-4165-a537-336462306165/-/cover/280x233/center/center/-/format/webp/27-min.jpg&quot;);\" bgimgfield=\"st_gallery__486904972136:::0\"></div>    </div>    </a>    <div class=\"t-store__card__wrap_txt-and-btns\" style=\"height: 120px;\">        <div class=\"store__card__wrap_txt-and-opts\">            <a href=\"https://kierge.com/zhenskie/tproduct/195388121-486904972136-koltso\">                        <div class=\"t-store__card__textwrapper\">            <div class=\"js-store-prod-name js-product-name t-store__card__title t-name t-name_md\" style=\"color:#ffffff;font-weight:700;\" field=\"st_title__486904972136\" data-redactor-toolbar=\"no\">Кольцо</div><div class=\"t-store__card__sku t-descr t-descr_xxs\" style=\"display:none;color:#ffffff;\">Артикул: <span class=\"js-store-prod-sku js-product-sku\" field=\"st_sku__486904972136\" data-redactor-toolbar=\"no\">8989000475952</span></div><div class=\"js-store-price-wrapper t-store__card__price-wrapper\">    <div class=\"t-store__card__price t-store__card__price-item t-name t-name_xs\" style=\"color:#ffffff;font-size:20px;font-weight:400;\"><div class=\"js-product-price js-store-prod-price-val t-store__card__price-value notranslate\" translate=\"no\" field=\"st_price__486904972136\" data-redactor-toolbar=\"no\" data-product-price-def=\"27903\" data-product-price-def-str=\"27903\">27 903</div><div class=\"t-store__card__price-currency\">р.</div></div>    <div class=\"t-store__card__price_old t-store__card__price-item t-name t-name_xs\" style=\"display: none;color:#bdbdbd;font-size:20px;font-weight:400;\"><div class=\"js-store-prod-price-old-val t-store__card__price-value notranslate\" translate=\"no\" field=\"st_priceold__486904972136\" data-redactor-toolbar=\"no\"></div><div class=\"t-store__card__price-currency\">р.</div></div>    </div>        </div>            </a>            <div class=\"js-product-controls-wrapper t-store__card__prod-controls-wrapper\" style=\"display:none;\"></div>        </div>            </div></div>"
   ]
  },
  {
   "cell_type": "code",
   "execution_count": 30,
   "metadata": {},
   "outputs": [],
   "source": [
    "response = session.get('https://kierge.com/zhenskie')"
   ]
  },
  {
   "cell_type": "code",
   "execution_count": 34,
   "metadata": {},
   "outputs": [],
   "source": [
    "html = BeautifulSoup(response.text,'lxml')"
   ]
  },
  {
   "cell_type": "code",
   "execution_count": null,
   "metadata": {},
   "outputs": [],
   "source": [
    "#rec195388121 > div.t778 > div > div.js-store-grid-cont.t-store__grid-cont.t-container.t-store__mobile-two-columns.t-store__grid-cont_mobile-grid > div:nth-child(1) > div > a"
   ]
  },
  {
   "cell_type": "code",
   "execution_count": 40,
   "metadata": {},
   "outputs": [
    {
     "data": {
      "text/plain": [
       "[]"
      ]
     },
     "execution_count": 40,
     "metadata": {},
     "output_type": "execute_result"
    }
   ],
   "source": [
    "quotes = html.select('rec195388121 > div.t778 > div > div.js-store-grid-cont.t-store__grid-cont.t-container.t-store__mobile-two-columns.t-store__grid-cont_mobile-grid > div:nth-child(1) > div > a')\n",
    "#find_all('div', class_=\"t-store__card__wrap_all \")\n",
    "quotes\n",
    "\n",
    "#[q.get(\"data-original\") for q in quotes]"
   ]
  },
  {
   "cell_type": "code",
   "execution_count": null,
   "metadata": {},
   "outputs": [],
   "source": []
  },
  {
   "cell_type": "code",
   "execution_count": 26,
   "metadata": {},
   "outputs": [
    {
     "data": {
      "text/plain": [
       "<!DOCTYPE html>\n",
       "<html> <head><meta charset=\"utf-8\"/><meta content=\"text/html; charset=utf-8\" http-equiv=\"Content-Type\"/><meta content=\"width=device-width, initial-scale=1.0\" name=\"viewport\"/><!--metatextblock--><title>Женские украшения</title><meta content=\"https://kierge.com/zhenskie\" property=\"og:url\"/><meta content=\"Женские украшения\" property=\"og:title\"/><meta content=\"\" property=\"og:description\"/><meta content=\"website\" property=\"og:type\"/><link href=\"https://kierge.com/zhenskie\" rel=\"canonical\"/><!--/metatextblock--><meta content=\"257953674358265\" property=\"fb:app_id\"/><meta content=\"telephone=no\" name=\"format-detection\"/><meta content=\"on\" http-equiv=\"x-dns-prefetch-control\"/><link href=\"https://tilda.ws\" rel=\"dns-prefetch\"/><link href=\"https://static.tildacdn.com\" rel=\"dns-prefetch\"/><link href=\"https://static.tildacdn.com/tild3435-3236-4661-a666-646366613031/__.ico\" rel=\"shortcut icon\" type=\"image/x-icon\"/><!-- Assets --><link href=\"https://static.tildacdn.com/css/tilda-grid-3.0.min.css\" media=\"all\" rel=\"stylesheet\" type=\"text/css\"/><link href=\"/tilda-blocks-2.12.css?t=1611713724\" media=\"all\" rel=\"stylesheet\" type=\"text/css\"/> <link href=\"https://static.tildacdn.com/css/tilda-animation-1.0.min.css\" media=\"all\" rel=\"stylesheet\" type=\"text/css\"/><link href=\"https://static.tildacdn.com/css/tilda-slds-1.4.min.css\" media=\"all\" rel=\"stylesheet\" type=\"text/css\"/><link href=\"https://static.tildacdn.com/css/tilda-zoom-2.0.min.css\" media=\"all\" rel=\"stylesheet\" type=\"text/css\"/><link href=\"https://static.tildacdn.com/css/tilda-popup-1.1.min.css\" media=\"all\" rel=\"stylesheet\" type=\"text/css\"/><link href=\"https://static.tildacdn.com/css/tilda-catalog-1.1.min.css\" media=\"all\" rel=\"stylesheet\" type=\"text/css\"/><link href=\"https://static.tildacdn.com/css/tilda-delivery-1.0.min.css\" media=\"all\" rel=\"stylesheet\" type=\"text/css\"/><link href=\"https://static.tildacdn.com/css/tilda-menusub-1.0.min.css\" media=\"all\" rel=\"stylesheet\" type=\"text/css\"/><link href=\"https://fonts.googleapis.com/css2?family=Spectral+SC:ital,wght@0,500;0,600;0,700;0,800;1,500;1,600;1,700;1,800&amp;display=swap\" rel=\"stylesheet\" type=\"text/css\"/><link href=\"/custom.css?t=1611713724\" rel=\"stylesheet\" type=\"text/css\"/> <script src=\"https://static.tildacdn.com/js/jquery-1.10.2.min.js\"></script><script src=\"https://static.tildacdn.com/js/tilda-scripts-2.8.min.js\"></script><script src=\"/tilda-blocks-2.7.js?t=1611713724\"></script> <script charset=\"utf-8\" src=\"https://static.tildacdn.com/js/lazyload-1.3.min.js\"></script><script charset=\"utf-8\" src=\"https://static.tildacdn.com/js/tilda-animation-1.0.min.js\"></script><script charset=\"utf-8\" src=\"https://static.tildacdn.com/js/tilda-slds-1.4.min.js\"></script><script charset=\"utf-8\" src=\"https://static.tildacdn.com/js/hammer.min.js\"></script><script charset=\"utf-8\" src=\"https://static.tildacdn.com/js/tilda-zoom-2.0.min.js\"></script><script charset=\"utf-8\" src=\"https://static.tildacdn.com/js/tilda-products-1.0.min.js\"></script><script charset=\"utf-8\" src=\"https://static.tildacdn.com/js/tilda-catalog-1.1.min.js\"></script><script charset=\"utf-8\" src=\"https://static.tildacdn.com/js/tilda-forms-1.0.min.js\"></script><script charset=\"utf-8\" src=\"https://static.tildacdn.com/js/tilda-cart-1.0.min.js\"></script><script charset=\"utf-8\" src=\"https://static.tildacdn.com/js/tilda-delivery-1.0.min.js\"></script><script charset=\"utf-8\" src=\"https://static.tildacdn.com/js/tilda-menusub-1.0.min.js\"></script><!-- Facebook Pixel Code -->\n",
       "<script>\n",
       "  !function(f,b,e,v,n,t,s)\n",
       "  {if(f.fbq)return;n=f.fbq=function(){n.callMethod?\n",
       "  n.callMethod.apply(n,arguments):n.queue.push(arguments)};\n",
       "  if(!f._fbq)f._fbq=n;n.push=n;n.loaded=!0;n.version='2.0';\n",
       "  n.queue=[];t=b.createElement(e);t.async=!0;\n",
       "  t.src=v;s=b.getElementsByTagName(e)[0];\n",
       "  s.parentNode.insertBefore(t,s)}(window, document,'script',\n",
       "  'https://connect.facebook.net/en_US/fbevents.js');\n",
       "  fbq('init', '232751947838267');\n",
       "  fbq('track', 'PageView');\n",
       "</script>\n",
       "<noscript><img height=\"1\" src=\"https://www.facebook.com/tr?id=232751947838267&amp;ev=PageView&amp;noscript=1\" style=\"display:none\" width=\"1\"/></noscript>\n",
       "<!--<script src=\"https://cdnjs.cloudflare.com/ajax/libs/jquery/3.3.1/jquery.min.js\"></script>-->\n",
       "<script src=\"https://cdnjs.cloudflare.com/ajax/libs/jquery-cookie/1.4.1/jquery.cookie.min.js\"></script>\n",
       "<script src=\"//translate.google.com/translate_a/element.js?cb=TranslateInit\"></script>\n",
       "<script>\n",
       "    const googleTranslateConfig = {\n",
       "        lang: \"ru\",\n",
       "    };\n",
       "    \n",
       "    function TranslateInit() {\n",
       "    \n",
       "        let code = TranslateGetCode();\n",
       "        // Находим флаг с выбранным языком для перевода и добавляем к нему активный класс\n",
       "        $('[data-google-lang=\"' + code + '\"]').addClass('language__img_active');\n",
       "    \n",
       "        if (code == googleTranslateConfig.lang) {\n",
       "            // Если язык по умолчанию, совпадает с языком на который переводим\n",
       "            // То очищаем куки\n",
       "            TranslateClearCookie();\n",
       "        }\n",
       "    \n",
       "        // Инициализируем виджет с языком по умолчанию\n",
       "        new google.translate.TranslateElement({\n",
       "            pageLanguage: googleTranslateConfig.lang,\n",
       "        });\n",
       "    \n",
       "        // Вешаем событие  клик на флаги\n",
       "        $('[data-google-lang]').click(function () {\n",
       "            TranslateSetCookie($(this).attr(\"data-google-lang\"))\n",
       "            // Перезагружаем страницу\n",
       "            window.location.reload();\n",
       "        });\n",
       "    }\n",
       "    \n",
       "    function TranslateGetCode() {\n",
       "        // Если куки нет, то передаем дефолтный язык\n",
       "        let lang = ($.cookie('googtrans') != undefined && $.cookie('googtrans') != \"null\") ? $.cookie('googtrans') : googleTranslateConfig.lang;\n",
       "        return lang.substr(-2);\n",
       "    }\n",
       "    \n",
       "    function TranslateClearCookie() {\n",
       "        $.cookie('googtrans', null);\n",
       "        $.cookie(\"googtrans\", null, {\n",
       "            domain: \".\" + document.domain,\n",
       "        });\n",
       "    }\n",
       "    \n",
       "    function TranslateSetCookie(code) {\n",
       "        // Записываем куки /язык_который_переводим/язык_на_который_переводим\n",
       "        $.cookie('googtrans', \"/auto/\" + code);\n",
       "        $.cookie(\"googtrans\", \"/auto/\" + code, {\n",
       "            domain: \".\" + document.domain,\n",
       "        });\n",
       "    }\n",
       "</script>\n",
       "<!-- End Facebook Pixel Code -->\n",
       "<!-- Yandex.Metrika counter -->\n",
       "<script type=\"text/javascript\">\n",
       "   (function(m,e,t,r,i,k,a){m[i]=m[i]||function(){(m[i].a=m[i].a||[]).push(arguments)};\n",
       "   m[i].l=1*new Date();k=e.createElement(t),a=e.getElementsByTagName(t)[0],k.async=1,k.src=r,a.parentNode.insertBefore(k,a)})\n",
       "   (window, document, \"script\", \"https://mc.yandex.ru/metrika/tag.js\", \"ym\");\n",
       "\n",
       "   ym(61634560, \"init\", {\n",
       "        clickmap:true,\n",
       "        trackLinks:true,\n",
       "        accurateTrackBounce:true,\n",
       "        webvisor:true\n",
       "   });\n",
       "</script>\n",
       "<noscript><div><img alt=\"\" src=\"https://mc.yandex.ru/watch/61634560\" style=\"position:absolute; left:-9999px;\"/></div></noscript>\n",
       "<!-- /Yandex.Metrika counter --><script type=\"text/javascript\">window.dataLayer = window.dataLayer || [];</script><script type=\"text/javascript\">if((/bot|google|yandex|baidu|bing|msn|duckduckbot|teoma|slurp|crawler|spider|robot|crawling|facebook/i.test(navigator.userAgent))===false && typeof(sessionStorage)!='undefined' && sessionStorage.getItem('visited')!=='y'){\tvar style=document.createElement('style');\tstyle.type='text/css';\tstyle.innerHTML='@media screen and (min-width: 980px) {.t-records {opacity: 0;}.t-records_animated {-webkit-transition: opacity ease-in-out .2s;-moz-transition: opacity ease-in-out .2s;-o-transition: opacity ease-in-out .2s;transition: opacity ease-in-out .2s;}.t-records.t-records_visible {opacity: 1;}}';\tdocument.getElementsByTagName('head')[0].appendChild(style);\t$(document).ready(function() {\t$('.t-records').addClass('t-records_animated');\tsetTimeout(function(){ $('.t-records').addClass('t-records_visible'); sessionStorage.setItem('visited','y');\t},400);\t});\n",
       "}</script></head><body class=\"t-body\" style=\"margin:0;\"><!--allrecords--><div class=\"t-records\" data-hook=\"blocks-collection-content-node\" data-tilda-formskey=\"9747a7e5f44418127f4e9e0ecdb59b8c\" data-tilda-lazy=\"yes\" data-tilda-page-alias=\"zhenskie\" data-tilda-page-id=\"11612670\" data-tilda-project-id=\"2226271\" id=\"allrecords\"><!--header--><div class=\"t-records\" data-hook=\"blocks-collection-content-node\" data-tilda-formskey=\"9747a7e5f44418127f4e9e0ecdb59b8c\" data-tilda-lazy=\"yes\" data-tilda-page-id=\"15319932\" data-tilda-project-id=\"2226271\" id=\"t-header\"><div class=\"r t-rec t-screenmin-980px\" data-animationappear=\"off\" data-record-type=\"396\" data-screen-min=\"980px\" id=\"rec251366522\" style=\" \"><!-- T396 --><style>#rec251366522 .t396__artboard{height: 30px;background-color: #000000;}#rec251366522 .t396__filter{height: 30px;}#rec251366522 .t396__carrier{height: 30px;background-position: center center;background-attachment: scroll;background-size:cover;background-repeat:no-repeat;}@media screen and (max-width: 1199px){#rec251366522 .t396__artboard{}#rec251366522 .t396__filter{}#rec251366522 .t396__carrier{background-attachment:scroll;}}@media screen and (max-width: 959px){}@media screen and (max-width: 639px){}@media screen and (max-width: 479px){}#rec251366522 .tn-elem[data-elem-id=\"1605684572272\"]{color:#ffffff;text-align:right;z-index:1;top: 0px;left: calc(50% - 600px + 1040px);width:160px;}#rec251366522 .tn-elem[data-elem-id=\"1605684572272\"] .tn-atom{color:#ffffff;font-size:20px;font-family:'Montserrat',Arial,sans-serif;line-height:1.55;font-weight:400;background-position:center center;border-color:transparent;border-style:solid;}@media screen and (max-width: 1199px){#rec251366522 .tn-elem[data-elem-id=\"1605684572272\"]{top: 0px;left: calc(50% - 480px + 810px);}}@media screen and (max-width: 959px){#rec251366522 .tn-elem[data-elem-id=\"1605684572272\"]{top: 0px;left: calc(50% - 320px + 470px);}}@media screen and (max-width: 639px){#rec251366522 .tn-elem[data-elem-id=\"1605684572272\"]{top: 0px;left: calc(50% - 240px + 310px);}}@media screen and (max-width: 479px){#rec251366522 .tn-elem[data-elem-id=\"1605684572272\"]{top: 0px;left: calc(50% - 160px + 150px);}}</style> <div class=\"t396\"><div class=\"t396__artboard\" data-artboard-height=\"30\" data-artboard-height_vh=\"\" data-artboard-ovrflw=\"\" data-artboard-recid=\"251366522\" data-artboard-valign=\"center\"> <div class=\"t396__carrier\" data-artboard-recid=\"251366522\"></div> <div class=\"t396__filter\" data-artboard-recid=\"251366522\"></div> <div class=\"t396__elem tn-elem tn-elem__2513665221605684572272\" data-elem-id=\"1605684572272\" data-elem-type=\"text\" data-field-axisx-value=\"left\" data-field-axisy-value=\"top\" data-field-container-value=\"grid\" data-field-heightunits-value=\"\" data-field-left-res-320-value=\"150\" data-field-left-res-480-value=\"310\" data-field-left-res-640-value=\"470\" data-field-left-res-960-value=\"810\" data-field-left-value=\"1040\" data-field-leftunits-value=\"px\" data-field-top-res-320-value=\"0\" data-field-top-res-480-value=\"0\" data-field-top-res-640-value=\"0\" data-field-top-res-960-value=\"0\" data-field-top-value=\"0\" data-field-topunits-value=\"px\" data-field-width-value=\"160\" data-field-widthunits-value=\"px\"> <div class=\"tn-atom\" field=\"tn_text_1605684572272\">8 999 999 99 99</div> </div> </div> </div> <script>$( document ).ready(function() { t396_init('251366522');\n",
       "});</script><!-- /T396 --></div><div class=\"r t-rec t-screenmin-980px\" data-animationappear=\"off\" data-record-type=\"396\" data-screen-min=\"980px\" id=\"rec251384638\" style=\" \"><!-- T396 --><style>#rec251384638 .t396__artboard{height: 100px;background-color: #000000;}#rec251384638 .t396__filter{height: 100px;}#rec251384638 .t396__carrier{height: 100px;background-position: center center;background-attachment: scroll;background-size:cover;background-repeat:no-repeat;}@media screen and (max-width: 1199px){#rec251384638 .t396__artboard{}#rec251384638 .t396__filter{}#rec251384638 .t396__carrier{background-attachment:scroll;}}@media screen and (max-width: 959px){}@media screen and (max-width: 639px){}@media screen and (max-width: 479px){}#rec251384638 .tn-elem[data-elem-id=\"1608897418104\"]{z-index:1;top: 5px;left: calc(50% - 600px + 38px);width:200px;}#rec251384638 .tn-elem[data-elem-id=\"1608897418104\"] .tn-atom{background-position:center center;border-color:transparent;border-style:solid;}@media screen and (max-width: 1199px){#rec251384638 .tn-elem[data-elem-id=\"1608897418104\"]{top: 5px;left: calc(50% - 480px + 11px);}}@media screen and (max-width: 959px){}@media screen and (max-width: 639px){}@media screen and (max-width: 479px){}#rec251384638 .tn-elem[data-elem-id=\"1608897418124\"]{color:#ffffff;text-align:center;z-index:2;top: 38px;left: calc(50% - 600px + 294px);width:111px;}#rec251384638 .tn-elem[data-elem-id=\"1608897418124\"] .tn-atom{color:#ffffff;font-size:16px;font-family:'CenturyGothic',Arial,sans-serif;line-height:1.55;font-weight:400;background-position:center center;border-color:transparent;border-style:solid;}@media screen and (max-width: 1199px){#rec251384638 .tn-elem[data-elem-id=\"1608897418124\"]{top: 35px;left: calc(50% - 480px + 230px);}}@media screen and (max-width: 959px){}@media screen and (max-width: 639px){}@media screen and (max-width: 479px){}#rec251384638 .tn-elem[data-elem-id=\"1608897418131\"]{color:#ffffff;text-align:center;z-index:3;top: 38px;left: calc(50% - 600px + 429px);width:87px;}#rec251384638 .tn-elem[data-elem-id=\"1608897418131\"] .tn-atom{color:#ffffff;font-size:16px;font-family:'CenturyGothic',Arial,sans-serif;line-height:1.55;font-weight:400;background-position:center center;border-color:transparent;border-style:solid;}@media screen and (max-width: 1199px){#rec251384638 .tn-elem[data-elem-id=\"1608897418131\"]{top: 35px;left: calc(50% - 480px + 362px);width:91px;}}@media screen and (max-width: 959px){}@media screen and (max-width: 639px){}@media screen and (max-width: 479px){}#rec251384638 .tn-elem[data-elem-id=\"1608897418135\"]{color:#ffffff;text-align:center;z-index:4;top: 38px;left: calc(50% - 600px + 540px);width:170px;}#rec251384638 .tn-elem[data-elem-id=\"1608897418135\"] .tn-atom{color:#ffffff;font-size:16px;font-family:'CenturyGothic',Arial,sans-serif;line-height:1.55;font-weight:400;background-position:center center;border-color:transparent;border-style:solid;}@media screen and (max-width: 1199px){#rec251384638 .tn-elem[data-elem-id=\"1608897418135\"]{top: 35px;left: calc(50% - 480px + 472px);width:161px;}}@media screen and (max-width: 959px){}@media screen and (max-width: 639px){}@media screen and (max-width: 479px){}#rec251384638 .tn-elem[data-elem-id=\"1608897418139\"]{color:#ffffff;text-align:center;z-index:5;top: 38px;left: calc(50% - 600px + 734px);width:72px;}#rec251384638 .tn-elem[data-elem-id=\"1608897418139\"] .tn-atom{color:#ffffff;font-size:16px;font-family:'CenturyGothic',Arial,sans-serif;line-height:1.55;font-weight:400;background-position:center center;border-color:transparent;border-style:solid;}@media screen and (max-width: 1199px){#rec251384638 .tn-elem[data-elem-id=\"1608897418139\"]{top: 35px;left: calc(50% - 480px + 663px);}}@media screen and (max-width: 959px){}@media screen and (max-width: 639px){}@media screen and (max-width: 479px){}#rec251384638 .tn-elem[data-elem-id=\"1608897418147\"]{color:#ffffff;text-align:center;z-index:7;top: 38px;left: calc(50% - 600px + 936px);width:75px;}#rec251384638 .tn-elem[data-elem-id=\"1608897418147\"] .tn-atom{color:#ffffff;font-size:16px;font-family:'CenturyGothic',Arial,sans-serif;line-height:1.55;font-weight:400;background-position:center center;border-color:transparent;border-style:solid;}@media screen and (max-width: 1199px){#rec251384638 .tn-elem[data-elem-id=\"1608897418147\"]{top: 35px;left: calc(50% - 480px + 859px);}}@media screen and (max-width: 959px){}@media screen and (max-width: 639px){}@media screen and (max-width: 479px){}#rec251384638 .tn-elem[data-elem-id=\"1608908505502\"]{color:#ffffff;text-align:center;z-index:10;top: 38px;left: calc(50% - 600px + 830px);width:82px;}#rec251384638 .tn-elem[data-elem-id=\"1608908505502\"] .tn-atom{color:#ffffff;font-size:16px;font-family:'CenturyGothic',Arial,sans-serif;line-height:1.55;font-weight:400;background-position:center center;border-color:transparent;border-style:solid;}@media screen and (max-width: 1199px){#rec251384638 .tn-elem[data-elem-id=\"1608908505502\"]{top: 45pxpx;left: calc(50% - 480px + 673pxpx);}}@media screen and (max-width: 959px){}@media screen and (max-width: 639px){}@media screen and (max-width: 479px){}#rec251384638 .tn-elem[data-elem-id=\"1609179716527\"]{z-index:13;top: 43px;left: calc(50% - 600px + 1117px);width:24px;}#rec251384638 .tn-elem[data-elem-id=\"1609179716527\"] .tn-atom{background-position:center center;border-color:transparent;border-style:solid;}@media screen and (max-width: 1199px){}@media screen and (max-width: 959px){}@media screen and (max-width: 639px){}@media screen and (max-width: 479px){}#rec251384638 .tn-elem[data-elem-id=\"1609179716572\"]{z-index:14;top: 43px;left: calc(50% - 600px + 1157px);width:23px;}#rec251384638 .tn-elem[data-elem-id=\"1609179716572\"] .tn-atom{background-position:center center;border-color:transparent;border-style:solid;}@media screen and (max-width: 1199px){}@media screen and (max-width: 959px){}@media screen and (max-width: 639px){}@media screen and (max-width: 479px){}</style> <div class=\"t396\"><div class=\"t396__artboard\" data-artboard-height=\"100\" data-artboard-height_vh=\"\" data-artboard-ovrflw=\"\" data-artboard-recid=\"251384638\" data-artboard-valign=\"center\"> <div class=\"t396__carrier\" data-artboard-recid=\"251384638\"></div> <div class=\"t396__filter\" data-artboard-recid=\"251384638\"></div> <div class=\"t396__elem tn-elem tn-elem__2513846381608897418104\" data-elem-id=\"1608897418104\" data-elem-type=\"image\" data-field-axisx-value=\"left\" data-field-axisy-value=\"top\" data-field-container-value=\"grid\" data-field-heightunits-value=\"\" data-field-left-res-960-value=\"11\" data-field-left-value=\"38\" data-field-leftunits-value=\"px\" data-field-top-res-960-value=\"5\" data-field-top-value=\"5\" data-field-topunits-value=\"px\" data-field-width-value=\"200\" data-field-widthunits-value=\"px\"> <a class=\"tn-atom\" href=\"/\"> <img class=\"tn-atom__img t-img\" data-original=\"https://static.tildacdn.com/tild6639-3333-4261-a162-643031633337/LOGO.png\" imgfield=\"tn_img_1608897418104\"/> </a> </div> <div class=\"t396__elem tn-elem tn-elem__2513846381608897418124\" data-elem-id=\"1608897418124\" data-elem-type=\"text\" data-field-axisx-value=\"left\" data-field-axisy-value=\"top\" data-field-container-value=\"grid\" data-field-heightunits-value=\"\" data-field-left-res-960-value=\"230\" data-field-left-value=\"294\" data-field-leftunits-value=\"px\" data-field-top-res-960-value=\"35\" data-field-top-value=\"38\" data-field-topunits-value=\"px\" data-field-width-value=\"111\" data-field-widthunits-value=\"px\"> <a class=\"tn-atom\" href=\"#menuhover\">УКРАШЕНИЯ</a> </div> <div class=\"t396__elem tn-elem tn-elem__2513846381608897418131\" data-elem-id=\"1608897418131\" data-elem-type=\"text\" data-field-axisx-value=\"left\" data-field-axisy-value=\"top\" data-field-container-value=\"grid\" data-field-heightunits-value=\"\" data-field-left-res-960-value=\"362\" data-field-left-value=\"429\" data-field-leftunits-value=\"px\" data-field-top-res-960-value=\"35\" data-field-top-value=\"38\" data-field-topunits-value=\"px\" data-field-width-res-960-value=\"91\" data-field-width-value=\"87\" data-field-widthunits-value=\"px\"> <a class=\"tn-atom\" href=\"/svadba\">СВАДЬБА</a> </div> <div class=\"t396__elem tn-elem tn-elem__2513846381608897418135\" data-elem-id=\"1608897418135\" data-elem-type=\"text\" data-field-axisx-value=\"left\" data-field-axisy-value=\"top\" data-field-container-value=\"grid\" data-field-heightunits-value=\"\" data-field-left-res-960-value=\"472\" data-field-left-value=\"540\" data-field-leftunits-value=\"px\" data-field-top-res-960-value=\"35\" data-field-top-value=\"38\" data-field-topunits-value=\"px\" data-field-width-res-960-value=\"161\" data-field-width-value=\"170\" data-field-widthunits-value=\"px\"> <a class=\"tn-atom\" href=\"#submenu:stones\">ПОДБОР КАМНЕЙ</a> </div> <div class=\"t396__elem tn-elem tn-elem__2513846381608897418139\" data-elem-id=\"1608897418139\" data-elem-type=\"text\" data-field-axisx-value=\"left\" data-field-axisy-value=\"top\" data-field-container-value=\"grid\" data-field-heightunits-value=\"\" data-field-left-res-960-value=\"663\" data-field-left-value=\"734\" data-field-leftunits-value=\"px\" data-field-top-res-960-value=\"35\" data-field-top-value=\"38\" data-field-topunits-value=\"px\" data-field-width-value=\"72\" data-field-widthunits-value=\"px\"> <a class=\"tn-atom\" href=\"#submenu:more\">УСЛУГИ</a> </div> <div class=\"t396__elem tn-elem tn-elem__2513846381608897418147\" data-elem-id=\"1608897418147\" data-elem-type=\"text\" data-field-axisx-value=\"left\" data-field-axisy-value=\"top\" data-field-container-value=\"grid\" data-field-heightunits-value=\"\" data-field-left-res-960-value=\"859\" data-field-left-value=\"936\" data-field-leftunits-value=\"px\" data-field-top-res-960-value=\"35\" data-field-top-value=\"38\" data-field-topunits-value=\"px\" data-field-width-value=\"75\" data-field-widthunits-value=\"px\"> <a class=\"tn-atom\" href=\"/contacts\">КОНТАКТЫ</a> </div> <div class=\"t396__elem tn-elem tn-elem__2513846381608908505502\" data-elem-id=\"1608908505502\" data-elem-type=\"text\" data-field-axisx-value=\"left\" data-field-axisy-value=\"top\" data-field-container-value=\"grid\" data-field-heightunits-value=\"\" data-field-left-res-960-value=\"673px\" data-field-left-value=\"830\" data-field-leftunits-value=\"px\" data-field-top-res-960-value=\"45px\" data-field-top-value=\"38\" data-field-topunits-value=\"px\" data-field-width-value=\"82\" data-field-widthunits-value=\"px\"> <a class=\"tn-atom\" href=\"/o-nas\">О НАС</a> </div> <div class=\"t396__elem tn-elem tn-elem__2513846381609179716527\" data-elem-id=\"1609179716527\" data-elem-type=\"image\" data-field-axisx-value=\"left\" data-field-axisy-value=\"top\" data-field-container-value=\"grid\" data-field-heightunits-value=\"\" data-field-left-value=\"1117\" data-field-leftunits-value=\"px\" data-field-top-value=\"43\" data-field-topunits-value=\"px\" data-field-width-value=\"24\" data-field-widthunits-value=\"px\"> <a class=\"tn-atom\" href=\"/\"> <img class=\"tn-atom__img t-img\" data-original=\"https://static.tildacdn.com/tild3133-6537-4737-a335-306432656530/RU.svg\" imgfield=\"tn_img_1609179716527\"/> </a> </div> <div class=\"t396__elem tn-elem tn-elem__2513846381609179716572\" data-elem-id=\"1609179716572\" data-elem-type=\"image\" data-field-axisx-value=\"left\" data-field-axisy-value=\"top\" data-field-container-value=\"grid\" data-field-heightunits-value=\"\" data-field-left-value=\"1157\" data-field-leftunits-value=\"px\" data-field-top-value=\"43\" data-field-topunits-value=\"px\" data-field-width-value=\"23\" data-field-widthunits-value=\"px\"> <a class=\"tn-atom\" href=\"/en\"> <img class=\"tn-atom__img t-img\" data-original=\"https://static.tildacdn.com/tild3966-6230-4537-b933-353565386335/EN.svg\" imgfield=\"tn_img_1609179716572\"/> </a> </div> </div> </div> <script>$( document ).ready(function() { t396_init('251384638');\n",
       "});</script><!-- /T396 --></div><div class=\"r t-rec t-screenmin-980px\" data-animationappear=\"off\" data-record-type=\"396\" data-screen-min=\"980px\" id=\"rec251367837\" style=\" \"><!-- T396 --><style>#rec251367837 .t396__artboard{height: 340px;background-color: #000000;}#rec251367837 .t396__filter{height: 340px;}#rec251367837 .t396__carrier{height: 340px;background-position: center center;background-attachment: scroll;background-size:cover;background-repeat:no-repeat;}@media screen and (max-width: 1199px){#rec251367837 .t396__artboard{}#rec251367837 .t396__filter{}#rec251367837 .t396__carrier{background-attachment:scroll;}}@media screen and (max-width: 959px){#rec251367837 .t396__artboard{height: 400px;background-color: #000000;}#rec251367837 .t396__filter{height: 400px;}#rec251367837 .t396__carrier{height: 400px;background-position: center center;}}@media screen and (max-width: 639px){#rec251367837 .t396__artboard{height: 380px;}#rec251367837 .t396__filter{height: 380px;}#rec251367837 .t396__carrier{height: 380px;}}@media screen and (max-width: 479px){#rec251367837 .t396__artboard{height: 640px;}#rec251367837 .t396__filter{height: 640px;}#rec251367837 .t396__carrier{height: 640px;}}#rec251367837 .tn-elem[data-elem-id=\"1605684982105\"]{color:#ffffff;z-index:1;top: 40px;left: calc(50% - 600px + 299px);width:110px;}#rec251367837 .tn-elem[data-elem-id=\"1605684982105\"] .tn-atom{color:#ffffff;font-size:18px;font-family:'CenturyGothic',Arial,sans-serif;line-height:1.55;font-weight:700;background-position:center center;border-color:transparent;border-style:solid;}@media screen and (max-width: 1199px){#rec251367837 .tn-elem[data-elem-id=\"1605684982105\"]{top: 40px;left: calc(50% - 480px + 95px);}}@media screen and (max-width: 959px){#rec251367837 .tn-elem[data-elem-id=\"1605684982105\"]{top: 40px;left: calc(50% - 320px + 109px);}}@media screen and (max-width: 639px){#rec251367837 .tn-elem[data-elem-id=\"1605684982105\"]{top: 40px;left: calc(50% - 240px + 25px);}}@media screen and (max-width: 479px){#rec251367837 .tn-elem[data-elem-id=\"1605684982105\"]{top: 5px;left: calc(50% - 160px + 92px);}}#rec251367837 .tn-elem[data-elem-id=\"1605685002649\"]{color:#ffffff;z-index:2;top: 40px;left: calc(50% - 600px + 499px);width:110px;}#rec251367837 .tn-elem[data-elem-id=\"1605685002649\"] .tn-atom{color:#ffffff;font-size:18px;font-family:'CenturyGothic',Arial,sans-serif;line-height:1.55;font-weight:700;background-position:center center;border-color:transparent;border-style:solid;}@media screen and (max-width: 1199px){#rec251367837 .tn-elem[data-elem-id=\"1605685002649\"]{top: 40px;left: calc(50% - 480px + 295px);}}@media screen and (max-width: 959px){#rec251367837 .tn-elem[data-elem-id=\"1605685002649\"]{top: 40px;left: calc(50% - 320px + 266px);}}@media screen and (max-width: 639px){#rec251367837 .tn-elem[data-elem-id=\"1605685002649\"]{top: 40px;left: calc(50% - 240px + 183px);}}@media screen and (max-width: 479px){#rec251367837 .tn-elem[data-elem-id=\"1605685002649\"]{top: 220px;left: calc(50% - 160px + 93px);}}#rec251367837 .tn-elem[data-elem-id=\"1605685012766\"]{color:#ffffff;z-index:3;top: 40px;left: calc(50% - 600px + 699px);width:110px;}#rec251367837 .tn-elem[data-elem-id=\"1605685012766\"] .tn-atom{color:#ffffff;font-size:18px;font-family:'CenturyGothic',Arial,sans-serif;line-height:1.55;font-weight:700;background-position:center center;border-color:transparent;border-style:solid;}@media screen and (max-width: 1199px){#rec251367837 .tn-elem[data-elem-id=\"1605685012766\"]{top: 40px;left: calc(50% - 480px + 495px);}}@media screen and (max-width: 959px){#rec251367837 .tn-elem[data-elem-id=\"1605685012766\"]{top: 40px;left: calc(50% - 320px + 427px);}}@media screen and (max-width: 639px){#rec251367837 .tn-elem[data-elem-id=\"1605685012766\"]{top: 40px;left: calc(50% - 240px + 348px);}}@media screen and (max-width: 479px){#rec251367837 .tn-elem[data-elem-id=\"1605685012766\"]{top: 478px;left: calc(50% - 160px + 92px);}}#rec251367837 .tn-elem[data-elem-id=\"1605685058426\"]{color:#ffffff;z-index:4;top: 80px;left: calc(50% - 600px + 299px);width:110px;}#rec251367837 .tn-elem[data-elem-id=\"1605685058426\"] .tn-atom{color:#ffffff;font-size:18px;font-family:'CenturyGothic',Arial,sans-serif;line-height:1.55;font-weight:400;background-position:center center;border-color:transparent;border-style:solid;}@media screen and (max-width: 1199px){#rec251367837 .tn-elem[data-elem-id=\"1605685058426\"]{top: 80px;left: calc(50% - 480px + 95px);}}@media screen and (max-width: 959px){#rec251367837 .tn-elem[data-elem-id=\"1605685058426\"]{top: 80px;left: calc(50% - 320px + 109px);}}@media screen and (max-width: 639px){#rec251367837 .tn-elem[data-elem-id=\"1605685058426\"]{top: 80px;left: calc(50% - 240px + 25px);}}@media screen and (max-width: 479px){#rec251367837 .tn-elem[data-elem-id=\"1605685058426\"]{top: 25px;left: calc(50% - 160px + 115px);}}#rec251367837 .tn-elem[data-elem-id=\"1605685082556\"]{color:#ffffff;z-index:5;top: 120px;left: calc(50% - 600px + 299px);width:110px;}#rec251367837 .tn-elem[data-elem-id=\"1605685082556\"] .tn-atom{color:#ffffff;font-size:18px;font-family:'CenturyGothic',Arial,sans-serif;line-height:1.55;font-weight:400;background-position:center center;border-color:transparent;border-style:solid;}@media screen and (max-width: 1199px){#rec251367837 .tn-elem[data-elem-id=\"1605685082556\"]{top: 120px;left: calc(50% - 480px + 95px);}}@media screen and (max-width: 959px){#rec251367837 .tn-elem[data-elem-id=\"1605685082556\"]{top: 120px;left: calc(50% - 320px + 109px);}}@media screen and (max-width: 639px){#rec251367837 .tn-elem[data-elem-id=\"1605685082556\"]{top: 120px;left: calc(50% - 240px + 25px);}}@media screen and (max-width: 479px){#rec251367837 .tn-elem[data-elem-id=\"1605685082556\"]{top: 65px;left: calc(50% - 160px + 115px);}}#rec251367837 .tn-elem[data-elem-id=\"1605685089771\"]{color:#ffffff;z-index:6;top: 160px;left: calc(50% - 600px + 299px);width:110px;}#rec251367837 .tn-elem[data-elem-id=\"1605685089771\"] .tn-atom{color:#ffffff;font-size:18px;font-family:'CenturyGothic',Arial,sans-serif;line-height:1.55;font-weight:400;background-position:center center;border-color:transparent;border-style:solid;}@media screen and (max-width: 1199px){#rec251367837 .tn-elem[data-elem-id=\"1605685089771\"]{top: 160px;left: calc(50% - 480px + 95px);}}@media screen and (max-width: 959px){#rec251367837 .tn-elem[data-elem-id=\"1605685089771\"]{top: 160px;left: calc(50% - 320px + 109px);}}@media screen and (max-width: 639px){#rec251367837 .tn-elem[data-elem-id=\"1605685089771\"]{top: 160px;left: calc(50% - 240px + 25px);}}@media screen and (max-width: 479px){#rec251367837 .tn-elem[data-elem-id=\"1605685089771\"]{top: 105px;left: calc(50% - 160px + 115px);}}#rec251367837 .tn-elem[data-elem-id=\"1605685097669\"]{color:#ffffff;z-index:7;top: 200px;left: calc(50% - 600px + 299px);width:110px;}#rec251367837 .tn-elem[data-elem-id=\"1605685097669\"] .tn-atom{color:#ffffff;font-size:18px;font-family:'CenturyGothic',Arial,sans-serif;line-height:1.55;font-weight:400;background-position:center center;border-color:transparent;border-style:solid;}@media screen and (max-width: 1199px){#rec251367837 .tn-elem[data-elem-id=\"1605685097669\"]{top: 200px;left: calc(50% - 480px + 95px);}}@media screen and (max-width: 959px){#rec251367837 .tn-elem[data-elem-id=\"1605685097669\"]{top: 200px;left: calc(50% - 320px + 109px);}}@media screen and (max-width: 639px){#rec251367837 .tn-elem[data-elem-id=\"1605685097669\"]{top: 200px;left: calc(50% - 240px + 25px);}}@media screen and (max-width: 479px){#rec251367837 .tn-elem[data-elem-id=\"1605685097669\"]{top: 145px;left: calc(50% - 160px + 115px);}}#rec251367837 .tn-elem[data-elem-id=\"1605685107175\"]{color:#ffffff;z-index:8;top: 240px;left: calc(50% - 600px + 299px);width:110px;}#rec251367837 .tn-elem[data-elem-id=\"1605685107175\"] .tn-atom{color:#ffffff;font-size:18px;font-family:'CenturyGothic',Arial,sans-serif;line-height:1.55;font-weight:400;background-position:center center;border-color:transparent;border-style:solid;}@media screen and (max-width: 1199px){#rec251367837 .tn-elem[data-elem-id=\"1605685107175\"]{top: 240px;left: calc(50% - 480px + 95px);}}@media screen and (max-width: 959px){#rec251367837 .tn-elem[data-elem-id=\"1605685107175\"]{top: 240px;left: calc(50% - 320px + 109px);}}@media screen and (max-width: 639px){#rec251367837 .tn-elem[data-elem-id=\"1605685107175\"]{top: 240px;left: calc(50% - 240px + 25px);}}@media screen and (max-width: 479px){#rec251367837 .tn-elem[data-elem-id=\"1605685107175\"]{top: 185px;left: calc(50% - 160px + 115px);}}#rec251367837 .tn-elem[data-elem-id=\"1605685135596\"]{color:#ffffff;z-index:9;top: 80px;left: calc(50% - 600px + 499px);width:110px;}#rec251367837 .tn-elem[data-elem-id=\"1605685135596\"] .tn-atom{color:#ffffff;font-size:18px;font-family:'CenturyGothic',Arial,sans-serif;line-height:1.55;font-weight:400;background-position:center center;border-color:transparent;border-style:solid;}@media screen and (max-width: 1199px){#rec251367837 .tn-elem[data-elem-id=\"1605685135596\"]{top: 80px;left: calc(50% - 480px + 295px);}}@media screen and (max-width: 959px){#rec251367837 .tn-elem[data-elem-id=\"1605685135596\"]{top: 80px;left: calc(50% - 320px + 266px);}}@media screen and (max-width: 639px){#rec251367837 .tn-elem[data-elem-id=\"1605685135596\"]{top: 80px;left: calc(50% - 240px + 183px);}}@media screen and (max-width: 479px){#rec251367837 .tn-elem[data-elem-id=\"1605685135596\"]{top: 246px;left: calc(50% - 160px + 115px);}}#rec251367837 .tn-elem[data-elem-id=\"1605685143981\"]{color:#ffffff;z-index:10;top: 120px;left: calc(50% - 600px + 499px);width:110px;}#rec251367837 .tn-elem[data-elem-id=\"1605685143981\"] .tn-atom{color:#ffffff;font-size:18px;font-family:'CenturyGothic',Arial,sans-serif;line-height:1.55;font-weight:400;background-position:center center;border-color:transparent;border-style:solid;}@media screen and (max-width: 1199px){#rec251367837 .tn-elem[data-elem-id=\"1605685143981\"]{top: 120px;left: calc(50% - 480px + 295px);}}@media screen and (max-width: 959px){#rec251367837 .tn-elem[data-elem-id=\"1605685143981\"]{top: 120px;left: calc(50% - 320px + 266px);}}@media screen and (max-width: 639px){#rec251367837 .tn-elem[data-elem-id=\"1605685143981\"]{top: 120px;left: calc(50% - 240px + 183px);}}@media screen and (max-width: 479px){#rec251367837 .tn-elem[data-elem-id=\"1605685143981\"]{top: 286px;left: calc(50% - 160px + 115px);}}#rec251367837 .tn-elem[data-elem-id=\"1605685153341\"]{color:#ffffff;z-index:11;top: 160px;left: calc(50% - 600px + 499px);width:110px;}#rec251367837 .tn-elem[data-elem-id=\"1605685153341\"] .tn-atom{color:#ffffff;font-size:18px;font-family:'CenturyGothic',Arial,sans-serif;line-height:1.55;font-weight:400;background-position:center center;border-color:transparent;border-style:solid;}@media screen and (max-width: 1199px){#rec251367837 .tn-elem[data-elem-id=\"1605685153341\"]{top: 160px;left: calc(50% - 480px + 295px);}}@media screen and (max-width: 959px){#rec251367837 .tn-elem[data-elem-id=\"1605685153341\"]{top: 160px;left: calc(50% - 320px + 266px);}}@media screen and (max-width: 639px){#rec251367837 .tn-elem[data-elem-id=\"1605685153341\"]{top: 160px;left: calc(50% - 240px + 183px);}}@media screen and (max-width: 479px){#rec251367837 .tn-elem[data-elem-id=\"1605685153341\"]{top: 326px;left: calc(50% - 160px + 115px);}}#rec251367837 .tn-elem[data-elem-id=\"1605685160377\"]{color:#ffffff;z-index:12;top: 200px;left: calc(50% - 600px + 499px);width:110px;}#rec251367837 .tn-elem[data-elem-id=\"1605685160377\"] .tn-atom{color:#ffffff;font-size:18px;font-family:'CenturyGothic',Arial,sans-serif;line-height:1.55;font-weight:400;background-position:center center;border-color:transparent;border-style:solid;}@media screen and (max-width: 1199px){#rec251367837 .tn-elem[data-elem-id=\"1605685160377\"]{top: 200px;left: calc(50% - 480px + 295px);}}@media screen and (max-width: 959px){#rec251367837 .tn-elem[data-elem-id=\"1605685160377\"]{top: 200px;left: calc(50% - 320px + 266px);}}@media screen and (max-width: 639px){#rec251367837 .tn-elem[data-elem-id=\"1605685160377\"]{top: 200px;left: calc(50% - 240px + 183px);}}@media screen and (max-width: 479px){#rec251367837 .tn-elem[data-elem-id=\"1605685160377\"]{top: 366px;left: calc(50% - 160px + 115px);}}#rec251367837 .tn-elem[data-elem-id=\"1605685174904\"]{color:#ffffff;z-index:13;top: 240px;left: calc(50% - 600px + 499px);width:110px;}#rec251367837 .tn-elem[data-elem-id=\"1605685174904\"] .tn-atom{color:#ffffff;font-size:18px;font-family:'CenturyGothic',Arial,sans-serif;line-height:1.55;font-weight:400;background-position:center center;border-color:transparent;border-style:solid;}@media screen and (max-width: 1199px){#rec251367837 .tn-elem[data-elem-id=\"1605685174904\"]{top: 240px;left: calc(50% - 480px + 295px);}}@media screen and (max-width: 959px){#rec251367837 .tn-elem[data-elem-id=\"1605685174904\"]{top: 240px;left: calc(50% - 320px + 266px);}}@media screen and (max-width: 639px){#rec251367837 .tn-elem[data-elem-id=\"1605685174904\"]{top: 240px;left: calc(50% - 240px + 183px);}}@media screen and (max-width: 479px){#rec251367837 .tn-elem[data-elem-id=\"1605685174904\"]{top: 406px;left: calc(50% - 160px + 115px);}}#rec251367837 .tn-elem[data-elem-id=\"1605685182734\"]{color:#ffffff;z-index:14;top: 280px;left: calc(50% - 600px + 499px);width:110px;}#rec251367837 .tn-elem[data-elem-id=\"1605685182734\"] .tn-atom{color:#ffffff;font-size:18px;font-family:'CenturyGothic',Arial,sans-serif;line-height:1.55;font-weight:400;background-position:center center;border-color:transparent;border-style:solid;}@media screen and (max-width: 1199px){#rec251367837 .tn-elem[data-elem-id=\"1605685182734\"]{top: 280px;left: calc(50% - 480px + 295px);}}@media screen and (max-width: 959px){#rec251367837 .tn-elem[data-elem-id=\"1605685182734\"]{top: 280px;left: calc(50% - 320px + 266px);}}@media screen and (max-width: 639px){#rec251367837 .tn-elem[data-elem-id=\"1605685182734\"]{top: 280px;left: calc(50% - 240px + 183px);}}@media screen and (max-width: 479px){#rec251367837 .tn-elem[data-elem-id=\"1605685182734\"]{top: 444px;left: calc(50% - 160px + 114px);}}#rec251367837 .tn-elem[data-elem-id=\"1605685198428\"]{color:#ffffff;z-index:15;top: 80px;left: calc(50% - 600px + 699px);width:110px;}#rec251367837 .tn-elem[data-elem-id=\"1605685198428\"] .tn-atom{color:#ffffff;font-size:18px;font-family:'CenturyGothic',Arial,sans-serif;line-height:1.55;font-weight:400;background-position:center center;border-color:transparent;border-style:solid;}@media screen and (max-width: 1199px){#rec251367837 .tn-elem[data-elem-id=\"1605685198428\"]{top: 80px;left: calc(50% - 480px + 495px);}}@media screen and (max-width: 959px){#rec251367837 .tn-elem[data-elem-id=\"1605685198428\"]{top: 80px;left: calc(50% - 320px + 427px);}}@media screen and (max-width: 639px){#rec251367837 .tn-elem[data-elem-id=\"1605685198428\"]{top: 80px;left: calc(50% - 240px + 348px);}}@media screen and (max-width: 479px){#rec251367837 .tn-elem[data-elem-id=\"1605685198428\"]{top: 500px;left: calc(50% - 160px + 113px);}}#rec251367837 .tn-elem[data-elem-id=\"1605685208248\"]{color:#ffffff;z-index:16;top: 120px;left: calc(50% - 600px + 699px);width:110px;}#rec251367837 .tn-elem[data-elem-id=\"1605685208248\"] .tn-atom{color:#ffffff;font-size:18px;font-family:'CenturyGothic',Arial,sans-serif;line-height:1.55;font-weight:400;background-position:center center;border-color:transparent;border-style:solid;}@media screen and (max-width: 1199px){#rec251367837 .tn-elem[data-elem-id=\"1605685208248\"]{top: 120px;left: calc(50% - 480px + 495px);}}@media screen and (max-width: 959px){#rec251367837 .tn-elem[data-elem-id=\"1605685208248\"]{top: 120px;left: calc(50% - 320px + 427px);}}@media screen and (max-width: 639px){#rec251367837 .tn-elem[data-elem-id=\"1605685208248\"]{top: 120px;left: calc(50% - 240px + 348px);}}@media screen and (max-width: 479px){#rec251367837 .tn-elem[data-elem-id=\"1605685208248\"]{top: 540px;left: calc(50% - 160px + 113px);}}#rec251367837 .tn-elem[data-elem-id=\"1606455069522\"]{color:#ffffff;z-index:17;top: 40px;left: calc(50% - 600px + 880px);width:210px;}#rec251367837 .tn-elem[data-elem-id=\"1606455069522\"] .tn-atom{color:#ffffff;font-size:18px;font-family:'CenturyGothic',Arial,sans-serif;line-height:1.55;font-weight:700;background-position:center center;border-color:transparent;border-style:solid;}@media screen and (max-width: 1199px){#rec251367837 .tn-elem[data-elem-id=\"1606455069522\"]{top: 40px;left: calc(50% - 480px + 658px);}}@media screen and (max-width: 959px){#rec251367837 .tn-elem[data-elem-id=\"1606455069522\"]{top: 360px;left: calc(50% - 320px + 109px);width:310px;}}@media screen and (max-width: 639px){#rec251367837 .tn-elem[data-elem-id=\"1606455069522\"]{top: 335px;left: calc(50% - 240px + 24px);width:290px;}}@media screen and (max-width: 479px){#rec251367837 .tn-elem[data-elem-id=\"1606455069522\"]{top: 581px;left: calc(50% - 160px + 90px);width:160px;}}</style> <div class=\"t396\"><div class=\"t396__artboard\" data-artboard-height=\"340\" data-artboard-height-res-320=\"640\" data-artboard-height-res-480=\"380\" data-artboard-height-res-640=\"400\" data-artboard-height_vh=\"\" data-artboard-ovrflw=\"\" data-artboard-recid=\"251367837\" data-artboard-valign=\"center\"> <div class=\"t396__carrier\" data-artboard-recid=\"251367837\"></div> <div class=\"t396__filter\" data-artboard-recid=\"251367837\"></div> <div class=\"t396__elem tn-elem tn-elem__2513678371605684982105\" data-elem-id=\"1605684982105\" data-elem-type=\"text\" data-field-axisx-value=\"left\" data-field-axisy-value=\"top\" data-field-container-value=\"grid\" data-field-heightunits-value=\"\" data-field-left-res-320-value=\"92\" data-field-left-res-480-value=\"25\" data-field-left-res-640-value=\"109\" data-field-left-res-960-value=\"95\" data-field-left-value=\"299\" data-field-leftunits-value=\"px\" data-field-top-res-320-value=\"5\" data-field-top-res-480-value=\"40\" data-field-top-res-640-value=\"40\" data-field-top-res-960-value=\"40\" data-field-top-value=\"40\" data-field-topunits-value=\"px\" data-field-width-value=\"110\" data-field-widthunits-value=\"px\"> <a class=\"tn-atom\" href=\"/all-zenskie\">ЖЕНСКОЕ</a> </div> <div class=\"t396__elem tn-elem tn-elem__2513678371605685002649\" data-elem-id=\"1605685002649\" data-elem-type=\"text\" data-field-axisx-value=\"left\" data-field-axisy-value=\"top\" data-field-container-value=\"grid\" data-field-heightunits-value=\"\" data-field-left-res-320-value=\"93\" data-field-left-res-480-value=\"183\" data-field-left-res-640-value=\"266\" data-field-left-res-960-value=\"295\" data-field-left-value=\"499\" data-field-leftunits-value=\"px\" data-field-top-res-320-value=\"220\" data-field-top-res-480-value=\"40\" data-field-top-res-640-value=\"40\" data-field-top-res-960-value=\"40\" data-field-top-value=\"40\" data-field-topunits-value=\"px\" data-field-width-value=\"110\" data-field-widthunits-value=\"px\"> <a class=\"tn-atom\" href=\"/all-muzhskie\">МУЖСКОЕ</a> </div> <div class=\"t396__elem tn-elem tn-elem__2513678371605685012766\" data-elem-id=\"1605685012766\" data-elem-type=\"text\" data-field-axisx-value=\"left\" data-field-axisy-value=\"top\" data-field-container-value=\"grid\" data-field-heightunits-value=\"\" data-field-left-res-320-value=\"92\" data-field-left-res-480-value=\"348\" data-field-left-res-640-value=\"427\" data-field-left-res-960-value=\"495\" data-field-left-value=\"699\" data-field-leftunits-value=\"px\" data-field-top-res-320-value=\"478\" data-field-top-res-480-value=\"40\" data-field-top-res-640-value=\"40\" data-field-top-res-960-value=\"40\" data-field-top-value=\"40\" data-field-topunits-value=\"px\" data-field-width-value=\"110\" data-field-widthunits-value=\"px\"> <a class=\"tn-atom\" href=\"/all-detskie\">ДЕТСКОЕ</a> </div> <div class=\"t396__elem tn-elem tn-elem__2513678371605685058426\" data-elem-id=\"1605685058426\" data-elem-type=\"text\" data-field-axisx-value=\"left\" data-field-axisy-value=\"top\" data-field-container-value=\"grid\" data-field-heightunits-value=\"\" data-field-left-res-320-value=\"115\" data-field-left-res-480-value=\"25\" data-field-left-res-640-value=\"109\" data-field-left-res-960-value=\"95\" data-field-left-value=\"299\" data-field-leftunits-value=\"px\" data-field-top-res-320-value=\"25\" data-field-top-res-480-value=\"80\" data-field-top-res-640-value=\"80\" data-field-top-res-960-value=\"80\" data-field-top-value=\"80\" data-field-topunits-value=\"px\" data-field-width-value=\"110\" data-field-widthunits-value=\"px\"> <a class=\"tn-atom\" href=\"/zhenskie\">Кольца</a> </div> <div class=\"t396__elem tn-elem tn-elem__2513678371605685082556\" data-elem-id=\"1605685082556\" data-elem-type=\"text\" data-field-axisx-value=\"left\" data-field-axisy-value=\"top\" data-field-container-value=\"grid\" data-field-heightunits-value=\"\" data-field-left-res-320-value=\"115\" data-field-left-res-480-value=\"25\" data-field-left-res-640-value=\"109\" data-field-left-res-960-value=\"95\" data-field-left-value=\"299\" data-field-leftunits-value=\"px\" data-field-top-res-320-value=\"65\" data-field-top-res-480-value=\"120\" data-field-top-res-640-value=\"120\" data-field-top-res-960-value=\"120\" data-field-top-value=\"120\" data-field-topunits-value=\"px\" data-field-width-value=\"110\" data-field-widthunits-value=\"px\"> <a class=\"tn-atom\" href=\"/sergi\">Серьги</a> </div> <div class=\"t396__elem tn-elem tn-elem__2513678371605685089771\" data-elem-id=\"1605685089771\" data-elem-type=\"text\" data-field-axisx-value=\"left\" data-field-axisy-value=\"top\" data-field-container-value=\"grid\" data-field-heightunits-value=\"\" data-field-left-res-320-value=\"115\" data-field-left-res-480-value=\"25\" data-field-left-res-640-value=\"109\" data-field-left-res-960-value=\"95\" data-field-left-value=\"299\" data-field-leftunits-value=\"px\" data-field-top-res-320-value=\"105\" data-field-top-res-480-value=\"160\" data-field-top-res-640-value=\"160\" data-field-top-res-960-value=\"160\" data-field-top-value=\"160\" data-field-topunits-value=\"px\" data-field-width-value=\"110\" data-field-widthunits-value=\"px\"> <a class=\"tn-atom\" href=\"/podvesky\">Подвески</a> </div> <div class=\"t396__elem tn-elem tn-elem__2513678371605685097669\" data-elem-id=\"1605685097669\" data-elem-type=\"text\" data-field-axisx-value=\"left\" data-field-axisy-value=\"top\" data-field-container-value=\"grid\" data-field-heightunits-value=\"\" data-field-left-res-320-value=\"115\" data-field-left-res-480-value=\"25\" data-field-left-res-640-value=\"109\" data-field-left-res-960-value=\"95\" data-field-left-value=\"299\" data-field-leftunits-value=\"px\" data-field-top-res-320-value=\"145\" data-field-top-res-480-value=\"200\" data-field-top-res-640-value=\"200\" data-field-top-res-960-value=\"200\" data-field-top-value=\"200\" data-field-topunits-value=\"px\" data-field-width-value=\"110\" data-field-widthunits-value=\"px\"> <a class=\"tn-atom\" href=\"/braslety\">Браслеты</a> </div> <div class=\"t396__elem tn-elem tn-elem__2513678371605685107175\" data-elem-id=\"1605685107175\" data-elem-type=\"text\" data-field-axisx-value=\"left\" data-field-axisy-value=\"top\" data-field-container-value=\"grid\" data-field-heightunits-value=\"\" data-field-left-res-320-value=\"115\" data-field-left-res-480-value=\"25\" data-field-left-res-640-value=\"109\" data-field-left-res-960-value=\"95\" data-field-left-value=\"299\" data-field-leftunits-value=\"px\" data-field-top-res-320-value=\"185\" data-field-top-res-480-value=\"240\" data-field-top-res-640-value=\"240\" data-field-top-res-960-value=\"240\" data-field-top-value=\"240\" data-field-topunits-value=\"px\" data-field-width-value=\"110\" data-field-widthunits-value=\"px\"> <a class=\"tn-atom\" href=\"/nabory\">Комплекты</a> </div> <div class=\"t396__elem tn-elem tn-elem__2513678371605685135596\" data-elem-id=\"1605685135596\" data-elem-type=\"text\" data-field-axisx-value=\"left\" data-field-axisy-value=\"top\" data-field-container-value=\"grid\" data-field-heightunits-value=\"\" data-field-left-res-320-value=\"115\" data-field-left-res-480-value=\"183\" data-field-left-res-640-value=\"266\" data-field-left-res-960-value=\"295\" data-field-left-value=\"499\" data-field-leftunits-value=\"px\" data-field-top-res-320-value=\"246\" data-field-top-res-480-value=\"80\" data-field-top-res-640-value=\"80\" data-field-top-res-960-value=\"80\" data-field-top-value=\"80\" data-field-topunits-value=\"px\" data-field-width-value=\"110\" data-field-widthunits-value=\"px\"> <a class=\"tn-atom\" href=\"/muzhskie\">Кольца</a> </div> <div class=\"t396__elem tn-elem tn-elem__2513678371605685143981\" data-elem-id=\"1605685143981\" data-elem-type=\"text\" data-field-axisx-value=\"left\" data-field-axisy-value=\"top\" data-field-container-value=\"grid\" data-field-heightunits-value=\"\" data-field-left-res-320-value=\"115\" data-field-left-res-480-value=\"183\" data-field-left-res-640-value=\"266\" data-field-left-res-960-value=\"295\" data-field-left-value=\"499\" data-field-leftunits-value=\"px\" data-field-top-res-320-value=\"286\" data-field-top-res-480-value=\"120\" data-field-top-res-640-value=\"120\" data-field-top-res-960-value=\"120\" data-field-top-value=\"120\" data-field-topunits-value=\"px\" data-field-width-value=\"110\" data-field-widthunits-value=\"px\"> <a class=\"tn-atom\" href=\"/muzhskie-chasy\">Часы</a> </div> <div class=\"t396__elem tn-elem tn-elem__2513678371605685153341\" data-elem-id=\"1605685153341\" data-elem-type=\"text\" data-field-axisx-value=\"left\" data-field-axisy-value=\"top\" data-field-container-value=\"grid\" data-field-heightunits-value=\"\" data-field-left-res-320-value=\"115\" data-field-left-res-480-value=\"183\" data-field-left-res-640-value=\"266\" data-field-left-res-960-value=\"295\" data-field-left-value=\"499\" data-field-leftunits-value=\"px\" data-field-top-res-320-value=\"326\" data-field-top-res-480-value=\"160\" data-field-top-res-640-value=\"160\" data-field-top-res-960-value=\"160\" data-field-top-value=\"160\" data-field-topunits-value=\"px\" data-field-width-value=\"110\" data-field-widthunits-value=\"px\"> <a class=\"tn-atom\" href=\"/muzhskie-brelki\">Брелки</a> </div> <div class=\"t396__elem tn-elem tn-elem__2513678371605685160377\" data-elem-id=\"1605685160377\" data-elem-type=\"text\" data-field-axisx-value=\"left\" data-field-axisy-value=\"top\" data-field-container-value=\"grid\" data-field-heightunits-value=\"\" data-field-left-res-320-value=\"115\" data-field-left-res-480-value=\"183\" data-field-left-res-640-value=\"266\" data-field-left-res-960-value=\"295\" data-field-left-value=\"499\" data-field-leftunits-value=\"px\" data-field-top-res-320-value=\"366\" data-field-top-res-480-value=\"200\" data-field-top-res-640-value=\"200\" data-field-top-res-960-value=\"200\" data-field-top-value=\"200\" data-field-topunits-value=\"px\" data-field-width-value=\"110\" data-field-widthunits-value=\"px\"> <a class=\"tn-atom\" href=\"/muzhskie-zazhimy\">Зажимы</a> </div> <div class=\"t396__elem tn-elem tn-elem__2513678371605685174904\" data-elem-id=\"1605685174904\" data-elem-type=\"text\" data-field-axisx-value=\"left\" data-field-axisy-value=\"top\" data-field-container-value=\"grid\" data-field-heightunits-value=\"\" data-field-left-res-320-value=\"115\" data-field-left-res-480-value=\"183\" data-field-left-res-640-value=\"266\" data-field-left-res-960-value=\"295\" data-field-left-value=\"499\" data-field-leftunits-value=\"px\" data-field-top-res-320-value=\"406\" data-field-top-res-480-value=\"240\" data-field-top-res-640-value=\"240\" data-field-top-res-960-value=\"240\" data-field-top-value=\"240\" data-field-topunits-value=\"px\" data-field-width-value=\"110\" data-field-widthunits-value=\"px\"> <a class=\"tn-atom\" href=\"/muzhskie-zaponki\">Запонки</a> </div> <div class=\"t396__elem tn-elem tn-elem__2513678371605685182734\" data-elem-id=\"1605685182734\" data-elem-type=\"text\" data-field-axisx-value=\"left\" data-field-axisy-value=\"top\" data-field-container-value=\"grid\" data-field-heightunits-value=\"\" data-field-left-res-320-value=\"114\" data-field-left-res-480-value=\"183\" data-field-left-res-640-value=\"266\" data-field-left-res-960-value=\"295\" data-field-left-value=\"499\" data-field-leftunits-value=\"px\" data-field-top-res-320-value=\"444\" data-field-top-res-480-value=\"280\" data-field-top-res-640-value=\"280\" data-field-top-res-960-value=\"280\" data-field-top-value=\"280\" data-field-topunits-value=\"px\" data-field-width-value=\"110\" data-field-widthunits-value=\"px\"> <a class=\"tn-atom\" href=\"/muzhskie-komplectu\">Комплекты</a> </div> <div class=\"t396__elem tn-elem tn-elem__2513678371605685198428\" data-elem-id=\"1605685198428\" data-elem-type=\"text\" data-field-axisx-value=\"left\" data-field-axisy-value=\"top\" data-field-container-value=\"grid\" data-field-heightunits-value=\"\" data-field-left-res-320-value=\"113\" data-field-left-res-480-value=\"348\" data-field-left-res-640-value=\"427\" data-field-left-res-960-value=\"495\" data-field-left-value=\"699\" data-field-leftunits-value=\"px\" data-field-top-res-320-value=\"500\" data-field-top-res-480-value=\"80\" data-field-top-res-640-value=\"80\" data-field-top-res-960-value=\"80\" data-field-top-value=\"80\" data-field-topunits-value=\"px\" data-field-width-value=\"110\" data-field-widthunits-value=\"px\"> <a class=\"tn-atom\" href=\"/detskie\">Подвески</a> </div> <div class=\"t396__elem tn-elem tn-elem__2513678371605685208248\" data-elem-id=\"1605685208248\" data-elem-type=\"text\" data-field-axisx-value=\"left\" data-field-axisy-value=\"top\" data-field-container-value=\"grid\" data-field-heightunits-value=\"\" data-field-left-res-320-value=\"113\" data-field-left-res-480-value=\"348\" data-field-left-res-640-value=\"427\" data-field-left-res-960-value=\"495\" data-field-left-value=\"699\" data-field-leftunits-value=\"px\" data-field-top-res-320-value=\"540\" data-field-top-res-480-value=\"120\" data-field-top-res-640-value=\"120\" data-field-top-res-960-value=\"120\" data-field-top-value=\"120\" data-field-topunits-value=\"px\" data-field-width-value=\"110\" data-field-widthunits-value=\"px\"> <a class=\"tn-atom\" href=\"/detskie-pusetu\">Пусеты<br/></a> </div> <div class=\"t396__elem tn-elem tn-elem__2513678371606455069522\" data-elem-id=\"1606455069522\" data-elem-type=\"text\" data-field-axisx-value=\"left\" data-field-axisy-value=\"top\" data-field-container-value=\"grid\" data-field-heightunits-value=\"\" data-field-left-res-320-value=\"90\" data-field-left-res-480-value=\"24\" data-field-left-res-640-value=\"109\" data-field-left-res-960-value=\"658\" data-field-left-value=\"880\" data-field-leftunits-value=\"px\" data-field-top-res-320-value=\"581\" data-field-top-res-480-value=\"335\" data-field-top-res-640-value=\"360\" data-field-top-res-960-value=\"40\" data-field-top-value=\"40\" data-field-topunits-value=\"px\" data-field-width-res-320-value=\"160\" data-field-width-res-480-value=\"290\" data-field-width-res-640-value=\"310\" data-field-width-value=\"210\" data-field-widthunits-value=\"px\"> <a class=\"tn-atom\" href=\"/mamonth\">ИЗДЕЛИЯ ИЗ БИВНЯ МАМОНТА</a> </div> </div> </div> <script>$( document ).ready(function() { t396_init('251367837');\n",
       "});</script><!-- /T396 --></div><div class=\"r t-rec\" data-animationappear=\"off\" data-record-type=\"794\" id=\"rec251387262\" style=\" \"><!-- T794 --><div class=\"t794\" data-add-arrow=\"on\" data-tooltip-hook=\"#submenu:more\" data-tooltip-margin=\"15px\"> <div class=\"t794__tooltip-menu\"> <div class=\"t794__content\"> <ul class=\"t794__list\"> <li class=\"t794__list_item t-name t-name_xs\"><a class=\"t794__typo t-name t-name_xs\" data-menu-item-number=\"1\" href=\"/obmen\" style=\"\">ОБМЕННЫЙ ФОНД</a></li> <li class=\"t794__list_item t-name t-name_xs\"><a class=\"t794__typo t-name t-name_xs\" data-menu-item-number=\"2\" href=\"/remont\" style=\"\">РЕМОНТНАЯ МАСТЕРСКАЯ</a></li> <li class=\"t794__list_item t-name t-name_xs\"><a class=\"t794__typo t-name t-name_xs\" data-menu-item-number=\"3\" href=\"/gravirovka\" style=\"\">ХУДОЖЕСТВЕННАЯ ГРАВИРОВКА</a></li> <li class=\"t794__list_item t-name t-name_xs\"><a class=\"t794__typo t-name t-name_xs\" data-menu-item-number=\"4\" href=\"/l-gravirovka\" style=\"\">ЛАЗЕРНАЯ ГРАВИРОВКА</a></li> <li class=\"t794__list_item t-name t-name_xs\"><a class=\"t794__typo t-name t-name_xs\" data-menu-item-number=\"5\" href=\"/individ-zakaz\" style=\"\">ИНДИВИДУАЛЬНЫЙ ЗАКАЗ</a></li> <li class=\"t794__list_item t-name t-name_xs\"><a class=\"t794__typo t-name t-name_xs\" data-menu-item-number=\"6\" href=\"/corporativnuy-zakaz\" style=\"\">КОРПОРАТИВНЫЕ ЗАКАЗЫ</a></li> </ul> </div> </div></div><script type=\"text/javascript\"> $(document).ready(function() { setTimeout(function(){ t794_init('251387262'); }, 500); });</script><style type=\"text/css\"> #rec251387262 .t794__tooltip-menu { background-color:#ffffff; text-align:left; max-width:200px; border-radius:3px; box-shadow: 0px 0px 7px 0px rgba(0, 0, 0, 0.20); } #rec251387262 .t794__tooltip-menu_top:after { border-top-color: #ffffff; } #rec251387262 .t794__tooltip-menu_bottom:after { border-bottom-color: #ffffff; } #rec251387262 .t794__tooltip-menu_top:before { border-top-color: ; } #rec251387262 .t794__tooltip-menu_bottom:before { border-bottom-color: ; } </style></div><div class=\"r t-rec\" data-animationappear=\"off\" data-record-type=\"794\" id=\"rec251388385\" style=\" \"><!-- T794 --><div class=\"t794\" data-add-arrow=\"on\" data-tooltip-hook=\"#submenu:stones\" data-tooltip-margin=\"15px\"> <div class=\"t794__tooltip-menu\"> <div class=\"t794__content\"> <ul class=\"t794__list\"> <li class=\"t794__list_item t-name t-name_xs\"><a class=\"t794__typo t-name t-name_xs\" data-menu-item-number=\"1\" href=\"/zodiac\" style=\"\">ПО ЗНАКУ ЗОДИАКА</a></li> </ul> </div> </div></div><script type=\"text/javascript\"> $(document).ready(function() { setTimeout(function(){ t794_init('251388385'); }, 500); });</script><style type=\"text/css\"> #rec251388385 .t794__tooltip-menu { background-color:#ffffff; text-align:center; max-width:200px; border-radius:3px; box-shadow: 0px 0px 7px 0px rgba(0, 0, 0, 0.20); } #rec251388385 .t794__tooltip-menu_top:after { border-top-color: #ffffff; } #rec251388385 .t794__tooltip-menu_bottom:after { border-bottom-color: #ffffff; } #rec251388385 .t794__tooltip-menu_top:before { border-top-color: ; } #rec251388385 .t794__tooltip-menu_bottom:before { border-bottom-color: ; } </style></div><div class=\"r t-rec t-screenmax-980px\" data-animationappear=\"off\" data-record-type=\"451\" data-screen-max=\"980px\" id=\"rec251964056\" style=\" \"><!-- T451 --><div id=\"nav251964056marker\"></div><div class=\"t451\" data-menu=\"yes\" id=\"nav251964056\"> <div class=\"t451__container t451__positionfixed t451__panel\" data-appearoffset=\"\" style=\"height: 100px;\"> <div class=\"t451__container__bg\" data-appearoffset=\"\" data-bgcolor-hex=\"#000000\" data-bgcolor-rgba=\"rgba(0,0,0,1)\" data-bgopacity=\"1\" data-menu-shadow=\"0px 1px 3px rgba(0,0,0,0.)\" data-navmarker=\"nav251964056marker\" style=\"background-color: rgba(0,0,0,1); \"></div> <div class=\"t451__menu__content\"> <div class=\"t451__burger t451__burger_mobile\"> <span style=\"background-color:#ffffff;\"></span> <span style=\"background-color:#ffffff;\"></span> <span style=\"background-color:#ffffff;\"></span> <span style=\"background-color:#ffffff;\"></span> </div> <div class=\"t451__leftside t451__side\"> <div class=\"t451__burger\"> <span style=\"background-color:#ffffff;\"></span> <span style=\"background-color:#ffffff;\"></span> <span style=\"background-color:#ffffff;\"></span> <span style=\"background-color:#ffffff;\"></span> </div> </div> <div class=\"t451__centerside\"> <div class=\"t451__logo__container\"> <div class=\"t451__logo__content\"><a class=\"t451__logo\" href=\"/\" style=\"\"><img alt=\"\" class=\"t451__logo__img\" imgfield=\"img\" src=\"https://static.tildacdn.com/tild3262-3432-4235-b134-623733333830/LOGO.png\"/></a></div> </div> </div> <div class=\"t451__rightside t451__side\"> </div> </div> </div></div><div class=\"t451m__overlay\"> <div class=\"t451m__overlay_bg\" style=\" \"></div></div><div class=\"t451 t451m t451m__left\" data-tooltip-hook=\"\" style=\"\"> <div class=\"t451m__close t451m_opened\"> <div class=\"t451m__close_icon\"> <span style=\"background-color:#ffffff;\"></span> <span style=\"background-color:#ffffff;\"></span> <span style=\"background-color:#ffffff;\"></span> <span style=\"background-color:#ffffff;\"></span> </div> </div> <div class=\"t451m__container t-align_left\"> <div class=\"t451m__top\"> <div class=\"t451m__menu\"> <ul class=\"t451m__list\"> <li class=\"t451m__list_item\"><a class=\"t-menu__link-item\" data-menu-item-number=\"1\" data-menu-submenu-hook=\"\" href=\"#menuclick1\" style=\"color:#ffffff;font-size:21px;\">УКРАШЕНИЯ</a> </li> <li class=\"t451m__list_item\"><a class=\"t-menu__link-item\" data-menu-item-number=\"2\" data-menu-submenu-hook=\"\" href=\"\" style=\"color:#ffffff;font-size:21px;\">СВАДЬБА</a> </li> <li class=\"t451m__list_item\"><a class=\"t-menu__link-item\" data-menu-item-number=\"3\" data-menu-submenu-hook=\"\" href=\"\" style=\"color:#ffffff;font-size:21px;\">ПОДБОР КАМНЕЙ</a> </li> <li class=\"t451m__list_item\"><a class=\"t-menu__link-item\" data-menu-item-number=\"4\" data-menu-submenu-hook=\"\" href=\"#menuclick2\" style=\"color:#ffffff;font-size:21px;\">УСЛУГИ</a> </li> <li class=\"t451m__list_item\"><a class=\"t-menu__link-item\" data-menu-item-number=\"5\" data-menu-submenu-hook=\"\" href=\"\" style=\"color:#ffffff;font-size:21px;\">О НАС</a> </li> <li class=\"t451m__list_item\"><a class=\"t-menu__link-item\" data-menu-item-number=\"6\" data-menu-submenu-hook=\"\" href=\"\" style=\"color:#ffffff;font-size:21px;\">КОНТАКТЫ</a> </li> </ul> </div> </div> <div class=\"t451m__rightside\"> <div class=\"t451m__rightcontainer\"> </div> </div> </div></div><script>$(document).ready(function(){ $(\"#rec251964056\").attr('data-animationappear','off'); $(\"#rec251964056\").css('opacity','1'); t451_initMenu('251964056');\n",
       "});</script> <script type=\"text/javascript\"> $(document).ready(function() { setTimeout(function(){ t_onFuncLoad('t_menusub_init', function() { t_menusub_init('251964056'); }); }, 500); });</script><style>@media screen and (max-width: 980px) { #rec251964056 .t-menusub__menu .t-menusub__link-item { color:#ffffff !important; } #rec251964056 .t-menusub__menu .t-menusub__link-item.t-active { color:#ffffff !important; }\n",
       "}</style></div><div class=\"r t-rec t-screenmax-980px\" data-animationappear=\"off\" data-record-type=\"396\" data-screen-max=\"980px\" id=\"rec251969176\" style=\" \"><!-- T396 --><style>#rec251969176 .t396__artboard{height: 550px;background-color: #000000;}#rec251969176 .t396__filter{height: 550px;}#rec251969176 .t396__carrier{height: 550px;background-position: center center;background-attachment: scroll;background-size:cover;background-repeat:no-repeat;}@media screen and (max-width: 1199px){#rec251969176 .t396__artboard{}#rec251969176 .t396__filter{}#rec251969176 .t396__carrier{background-attachment:scroll;}}@media screen and (max-width: 959px){#rec251969176 .t396__artboard{height: 390px;}#rec251969176 .t396__filter{height: 390px;}#rec251969176 .t396__carrier{height: 390px;}}@media screen and (max-width: 639px){#rec251969176 .t396__artboard{height: 350px;}#rec251969176 .t396__filter{height: 350px;}#rec251969176 .t396__carrier{height: 350px;}}@media screen and (max-width: 479px){#rec251969176 .t396__artboard{height: 650px;}#rec251969176 .t396__filter{height: 650px;}#rec251969176 .t396__carrier{height: 650px;}}#rec251969176 .tn-elem[data-elem-id=\"1605791969853\"]{color:#ffffff;z-index:1;top: 40px;left: calc(50% - 600px + 299px);width:110px;}#rec251969176 .tn-elem[data-elem-id=\"1605791969853\"] .tn-atom{color:#ffffff;font-size:18px;font-family:'CenturyGothic',Arial,sans-serif;line-height:1.55;font-weight:700;background-position:center center;border-color:transparent;border-style:solid;}@media screen and (max-width: 1199px){}@media screen and (max-width: 959px){#rec251969176 .tn-elem[data-elem-id=\"1605791969853\"]{top: 40px;left: calc(50% - 320px + 74px);}}@media screen and (max-width: 639px){#rec251969176 .tn-elem[data-elem-id=\"1605791969853\"]{top: 25px;left: calc(50% - 240px + 50px);}}@media screen and (max-width: 479px){#rec251969176 .tn-elem[data-elem-id=\"1605791969853\"]{top: 5px;left: calc(50% - 160px + 70px);}}#rec251969176 .tn-elem[data-elem-id=\"1605791969856\"]{color:#ffffff;z-index:2;top: 40px;left: calc(50% - 600px + 499px);width:110px;}#rec251969176 .tn-elem[data-elem-id=\"1605791969856\"] .tn-atom{color:#ffffff;font-size:18px;font-family:'CenturyGothic',Arial,sans-serif;line-height:1.55;font-weight:700;background-position:center center;border-color:transparent;border-style:solid;}@media screen and (max-width: 1199px){}@media screen and (max-width: 959px){#rec251969176 .tn-elem[data-elem-id=\"1605791969856\"]{top: 40px;left: calc(50% - 320px + 274px);}}@media screen and (max-width: 639px){#rec251969176 .tn-elem[data-elem-id=\"1605791969856\"]{top: 25px;left: calc(50% - 240px + 195px);}}@media screen and (max-width: 479px){#rec251969176 .tn-elem[data-elem-id=\"1605791969856\"]{top: 227px;left: calc(50% - 160px + 70px);}}#rec251969176 .tn-elem[data-elem-id=\"1605791969860\"]{color:#ffffff;z-index:3;top: 40px;left: calc(50% - 600px + 699px);width:110px;}#rec251969176 .tn-elem[data-elem-id=\"1605791969860\"] .tn-atom{color:#ffffff;font-size:18px;font-family:'CenturyGothic',Arial,sans-serif;line-height:1.55;font-weight:700;background-position:center center;border-color:transparent;border-style:solid;}@media screen and (max-width: 1199px){}@media screen and (max-width: 959px){#rec251969176 .tn-elem[data-elem-id=\"1605791969860\"]{top: 40px;left: calc(50% - 320px + 474px);}}@media screen and (max-width: 639px){#rec251969176 .tn-elem[data-elem-id=\"1605791969860\"]{top: 25px;left: calc(50% - 240px + 336px);}}@media screen and (max-width: 479px){#rec251969176 .tn-elem[data-elem-id=\"1605791969860\"]{top: 491px;left: calc(50% - 160px + 70px);}}#rec251969176 .tn-elem[data-elem-id=\"1605791969864\"]{color:#ffffff;z-index:4;top: 80px;left: calc(50% - 600px + 299px);width:110px;}#rec251969176 .tn-elem[data-elem-id=\"1605791969864\"] .tn-atom{color:#ffffff;font-size:18px;font-family:'CenturyGothic',Arial,sans-serif;line-height:1.55;font-weight:400;background-position:center center;border-color:transparent;border-style:solid;}@media screen and (max-width: 1199px){}@media screen and (max-width: 959px){#rec251969176 .tn-elem[data-elem-id=\"1605791969864\"]{top: 80px;left: calc(50% - 320px + 74px);}}@media screen and (max-width: 639px){#rec251969176 .tn-elem[data-elem-id=\"1605791969864\"]{top: 65px;left: calc(50% - 240px + 50px);}}@media screen and (max-width: 479px){#rec251969176 .tn-elem[data-elem-id=\"1605791969864\"]{top: 34px;left: calc(50% - 160px + 92px);}}#rec251969176 .tn-elem[data-elem-id=\"1605791969867\"]{color:#ffffff;z-index:5;top: 120px;left: calc(50% - 600px + 299px);width:110px;}#rec251969176 .tn-elem[data-elem-id=\"1605791969867\"] .tn-atom{color:#ffffff;font-size:18px;font-family:'CenturyGothic',Arial,sans-serif;line-height:1.55;font-weight:400;background-position:center center;border-color:transparent;border-style:solid;}@media screen and (max-width: 1199px){}@media screen and (max-width: 959px){#rec251969176 .tn-elem[data-elem-id=\"1605791969867\"]{top: 120px;left: calc(50% - 320px + 74px);}}@media screen and (max-width: 639px){#rec251969176 .tn-elem[data-elem-id=\"1605791969867\"]{top: 105px;left: calc(50% - 240px + 50px);}}@media screen and (max-width: 479px){#rec251969176 .tn-elem[data-elem-id=\"1605791969867\"]{top: 74px;left: calc(50% - 160px + 92px);}}#rec251969176 .tn-elem[data-elem-id=\"1605791969872\"]{color:#ffffff;z-index:6;top: 160px;left: calc(50% - 600px + 299px);width:110px;}#rec251969176 .tn-elem[data-elem-id=\"1605791969872\"] .tn-atom{color:#ffffff;font-size:18px;font-family:'CenturyGothic',Arial,sans-serif;line-height:1.55;font-weight:400;background-position:center center;border-color:transparent;border-style:solid;}@media screen and (max-width: 1199px){}@media screen and (max-width: 959px){#rec251969176 .tn-elem[data-elem-id=\"1605791969872\"]{top: 160px;left: calc(50% - 320px + 74px);}}@media screen and (max-width: 639px){#rec251969176 .tn-elem[data-elem-id=\"1605791969872\"]{top: 145px;left: calc(50% - 240px + 50px);}}@media screen and (max-width: 479px){#rec251969176 .tn-elem[data-elem-id=\"1605791969872\"]{top: 114px;left: calc(50% - 160px + 92px);}}#rec251969176 .tn-elem[data-elem-id=\"1605791969875\"]{color:#ffffff;z-index:7;top: 200px;left: calc(50% - 600px + 299px);width:110px;}#rec251969176 .tn-elem[data-elem-id=\"1605791969875\"] .tn-atom{color:#ffffff;font-size:18px;font-family:'CenturyGothic',Arial,sans-serif;line-height:1.55;font-weight:400;background-position:center center;border-color:transparent;border-style:solid;}@media screen and (max-width: 1199px){}@media screen and (max-width: 959px){#rec251969176 .tn-elem[data-elem-id=\"1605791969875\"]{top: 200px;left: calc(50% - 320px + 74px);}}@media screen and (max-width: 639px){#rec251969176 .tn-elem[data-elem-id=\"1605791969875\"]{top: 185px;left: calc(50% - 240px + 50px);}}@media screen and (max-width: 479px){#rec251969176 .tn-elem[data-elem-id=\"1605791969875\"]{top: 154px;left: calc(50% - 160px + 92px);}}#rec251969176 .tn-elem[data-elem-id=\"1605791969879\"]{color:#ffffff;z-index:8;top: 240px;left: calc(50% - 600px + 299px);width:110px;}#rec251969176 .tn-elem[data-elem-id=\"1605791969879\"] .tn-atom{color:#ffffff;font-size:18px;font-family:'CenturyGothic',Arial,sans-serif;line-height:1.55;font-weight:400;background-position:center center;border-color:transparent;border-style:solid;}@media screen and (max-width: 1199px){}@media screen and (max-width: 959px){#rec251969176 .tn-elem[data-elem-id=\"1605791969879\"]{top: 240px;left: calc(50% - 320px + 74px);}}@media screen and (max-width: 639px){#rec251969176 .tn-elem[data-elem-id=\"1605791969879\"]{top: 225px;left: calc(50% - 240px + 50px);}}@media screen and (max-width: 479px){#rec251969176 .tn-elem[data-elem-id=\"1605791969879\"]{top: 194px;left: calc(50% - 160px + 92px);}}#rec251969176 .tn-elem[data-elem-id=\"1605791969882\"]{color:#ffffff;z-index:9;top: 80px;left: calc(50% - 600px + 499px);width:110px;}#rec251969176 .tn-elem[data-elem-id=\"1605791969882\"] .tn-atom{color:#ffffff;font-size:18px;font-family:'CenturyGothic',Arial,sans-serif;line-height:1.55;font-weight:400;background-position:center center;border-color:transparent;border-style:solid;}@media screen and (max-width: 1199px){}@media screen and (max-width: 959px){#rec251969176 .tn-elem[data-elem-id=\"1605791969882\"]{top: 80px;left: calc(50% - 320px + 274px);}}@media screen and (max-width: 639px){#rec251969176 .tn-elem[data-elem-id=\"1605791969882\"]{top: 65px;left: calc(50% - 240px + 195px);}}@media screen and (max-width: 479px){#rec251969176 .tn-elem[data-elem-id=\"1605791969882\"]{top: 258px;left: calc(50% - 160px + 92px);}}#rec251969176 .tn-elem[data-elem-id=\"1605791969886\"]{color:#ffffff;z-index:10;top: 120px;left: calc(50% - 600px + 499px);width:110px;}#rec251969176 .tn-elem[data-elem-id=\"1605791969886\"] .tn-atom{color:#ffffff;font-size:18px;font-family:'CenturyGothic',Arial,sans-serif;line-height:1.55;font-weight:400;background-position:center center;border-color:transparent;border-style:solid;}@media screen and (max-width: 1199px){}@media screen and (max-width: 959px){#rec251969176 .tn-elem[data-elem-id=\"1605791969886\"]{top: 120px;left: calc(50% - 320px + 274px);}}@media screen and (max-width: 639px){#rec251969176 .tn-elem[data-elem-id=\"1605791969886\"]{top: 105px;left: calc(50% - 240px + 195px);}}@media screen and (max-width: 479px){#rec251969176 .tn-elem[data-elem-id=\"1605791969886\"]{top: 298px;left: calc(50% - 160px + 92px);}}#rec251969176 .tn-elem[data-elem-id=\"1605791969889\"]{color:#ffffff;z-index:11;top: 160px;left: calc(50% - 600px + 499px);width:110px;}#rec251969176 .tn-elem[data-elem-id=\"1605791969889\"] .tn-atom{color:#ffffff;font-size:18px;font-family:'CenturyGothic',Arial,sans-serif;line-height:1.55;font-weight:400;background-position:center center;border-color:transparent;border-style:solid;}@media screen and (max-width: 1199px){}@media screen and (max-width: 959px){#rec251969176 .tn-elem[data-elem-id=\"1605791969889\"]{top: 160px;left: calc(50% - 320px + 274px);}}@media screen and (max-width: 639px){#rec251969176 .tn-elem[data-elem-id=\"1605791969889\"]{top: 145px;left: calc(50% - 240px + 195px);}}@media screen and (max-width: 479px){#rec251969176 .tn-elem[data-elem-id=\"1605791969889\"]{top: 338px;left: calc(50% - 160px + 92px);}}#rec251969176 .tn-elem[data-elem-id=\"1605791969891\"]{color:#ffffff;z-index:12;top: 200px;left: calc(50% - 600px + 499px);width:110px;}#rec251969176 .tn-elem[data-elem-id=\"1605791969891\"] .tn-atom{color:#ffffff;font-size:18px;font-family:'CenturyGothic',Arial,sans-serif;line-height:1.55;font-weight:400;background-position:center center;border-color:transparent;border-style:solid;}@media screen and (max-width: 1199px){}@media screen and (max-width: 959px){#rec251969176 .tn-elem[data-elem-id=\"1605791969891\"]{top: 200px;left: calc(50% - 320px + 274px);}}@media screen and (max-width: 639px){#rec251969176 .tn-elem[data-elem-id=\"1605791969891\"]{top: 185px;left: calc(50% - 240px + 195px);}}@media screen and (max-width: 479px){#rec251969176 .tn-elem[data-elem-id=\"1605791969891\"]{top: 378px;left: calc(50% - 160px + 92px);}}#rec251969176 .tn-elem[data-elem-id=\"1605791969894\"]{color:#ffffff;z-index:13;top: 240px;left: calc(50% - 600px + 499px);width:110px;}#rec251969176 .tn-elem[data-elem-id=\"1605791969894\"] .tn-atom{color:#ffffff;font-size:18px;font-family:'CenturyGothic',Arial,sans-serif;line-height:1.55;font-weight:400;background-position:center center;border-color:transparent;border-style:solid;}@media screen and (max-width: 1199px){}@media screen and (max-width: 959px){#rec251969176 .tn-elem[data-elem-id=\"1605791969894\"]{top: 240px;left: calc(50% - 320px + 274px);}}@media screen and (max-width: 639px){#rec251969176 .tn-elem[data-elem-id=\"1605791969894\"]{top: 225px;left: calc(50% - 240px + 195px);}}@media screen and (max-width: 479px){#rec251969176 .tn-elem[data-elem-id=\"1605791969894\"]{top: 418px;left: calc(50% - 160px + 92px);}}#rec251969176 .tn-elem[data-elem-id=\"1605791969897\"]{color:#ffffff;z-index:14;top: 280px;left: calc(50% - 600px + 499px);width:110px;}#rec251969176 .tn-elem[data-elem-id=\"1605791969897\"] .tn-atom{color:#ffffff;font-size:18px;font-family:'CenturyGothic',Arial,sans-serif;line-height:1.55;font-weight:400;background-position:center center;border-color:transparent;border-style:solid;}@media screen and (max-width: 1199px){}@media screen and (max-width: 959px){#rec251969176 .tn-elem[data-elem-id=\"1605791969897\"]{top: 280px;left: calc(50% - 320px + 274px);}}@media screen and (max-width: 639px){#rec251969176 .tn-elem[data-elem-id=\"1605791969897\"]{top: 265px;left: calc(50% - 240px + 195px);}}@media screen and (max-width: 479px){#rec251969176 .tn-elem[data-elem-id=\"1605791969897\"]{top: 458px;left: calc(50% - 160px + 92px);}}#rec251969176 .tn-elem[data-elem-id=\"1605791969900\"]{color:#ffffff;z-index:15;top: 80px;left: calc(50% - 600px + 699px);width:110px;}#rec251969176 .tn-elem[data-elem-id=\"1605791969900\"] .tn-atom{color:#ffffff;font-size:18px;font-family:'CenturyGothic',Arial,sans-serif;line-height:1.55;font-weight:400;background-position:center center;border-color:transparent;border-style:solid;}@media screen and (max-width: 1199px){}@media screen and (max-width: 959px){#rec251969176 .tn-elem[data-elem-id=\"1605791969900\"]{top: 80px;left: calc(50% - 320px + 474px);}}@media screen and (max-width: 639px){#rec251969176 .tn-elem[data-elem-id=\"1605791969900\"]{top: 65px;left: calc(50% - 240px + 336px);}}@media screen and (max-width: 479px){#rec251969176 .tn-elem[data-elem-id=\"1605791969900\"]{top: 525px;left: calc(50% - 160px + 92px);}}#rec251969176 .tn-elem[data-elem-id=\"1605791969903\"]{color:#ffffff;z-index:16;top: 120px;left: calc(50% - 600px + 699px);width:110px;}#rec251969176 .tn-elem[data-elem-id=\"1605791969903\"] .tn-atom{color:#ffffff;font-size:18px;font-family:'CenturyGothic',Arial,sans-serif;line-height:1.55;font-weight:400;background-position:center center;border-color:transparent;border-style:solid;}@media screen and (max-width: 1199px){}@media screen and (max-width: 959px){#rec251969176 .tn-elem[data-elem-id=\"1605791969903\"]{top: 120px;left: calc(50% - 320px + 474px);}}@media screen and (max-width: 639px){#rec251969176 .tn-elem[data-elem-id=\"1605791969903\"]{top: 105px;left: calc(50% - 240px + 336px);}}@media screen and (max-width: 479px){#rec251969176 .tn-elem[data-elem-id=\"1605791969903\"]{top: 565px;left: calc(50% - 160px + 92px);}}#rec251969176 .tn-elem[data-elem-id=\"1606455338498\"]{color:#ffffff;z-index:17;top: 40px;left: calc(50% - 600px + 840px);width:270px;}#rec251969176 .tn-elem[data-elem-id=\"1606455338498\"] .tn-atom{color:#ffffff;font-size:18px;font-family:'CenturyGothic',Arial,sans-serif;line-height:1.55;font-weight:700;background-position:center center;border-color:transparent;border-style:solid;}@media screen and (max-width: 1199px){}@media screen and (max-width: 959px){#rec251969176 .tn-elem[data-elem-id=\"1606455338498\"]{top: 335px;left: calc(50% - 320px + 70px);}#rec251969176 .tn-elem[data-elem-id=\"1606455338498\"]{color:#dbd35c;}#rec251969176 .tn-elem[data-elem-id=\"1606455338498\"] .tn-atom{color:#dbd35c;}}@media screen and (max-width: 639px){#rec251969176 .tn-elem[data-elem-id=\"1606455338498\"]{top: 306px;left: calc(50% - 240px + 48px);}}@media screen and (max-width: 479px){#rec251969176 .tn-elem[data-elem-id=\"1606455338498\"]{top: 595px;left: calc(50% - 160px + 70px);width:240px;}}</style> <div class=\"t396\"><div class=\"t396__artboard\" data-artboard-height=\"550\" data-artboard-height-res-320=\"650\" data-artboard-height-res-480=\"350\" data-artboard-height-res-640=\"390\" data-artboard-height_vh=\"\" data-artboard-ovrflw=\"\" data-artboard-recid=\"251969176\" data-artboard-valign=\"center\"> <div class=\"t396__carrier\" data-artboard-recid=\"251969176\"></div> <div class=\"t396__filter\" data-artboard-recid=\"251969176\"></div> <div class=\"t396__elem tn-elem tn-elem__2519691761605791969853\" data-elem-id=\"1605791969853\" data-elem-type=\"text\" data-field-axisx-value=\"left\" data-field-axisy-value=\"top\" data-field-container-value=\"grid\" data-field-heightunits-value=\"\" data-field-left-res-320-value=\"70\" data-field-left-res-480-value=\"50\" data-field-left-res-640-value=\"74\" data-field-left-value=\"299\" data-field-leftunits-value=\"px\" data-field-top-res-320-value=\"5\" data-field-top-res-480-value=\"25\" data-field-top-res-640-value=\"40\" data-field-top-value=\"40\" data-field-topunits-value=\"px\" data-field-width-value=\"110\" data-field-widthunits-value=\"px\"> <a class=\"tn-atom\" href=\"/all-zenskie\">ЖЕНСКОЕ</a> </div> <div class=\"t396__elem tn-elem tn-elem__2519691761605791969856\" data-elem-id=\"1605791969856\" data-elem-type=\"text\" data-field-axisx-value=\"left\" data-field-axisy-value=\"top\" data-field-container-value=\"grid\" data-field-heightunits-value=\"\" data-field-left-res-320-value=\"70\" data-field-left-res-480-value=\"195\" data-field-left-res-640-value=\"274\" data-field-left-value=\"499\" data-field-leftunits-value=\"px\" data-field-top-res-320-value=\"227\" data-field-top-res-480-value=\"25\" data-field-top-res-640-value=\"40\" data-field-top-value=\"40\" data-field-topunits-value=\"px\" data-field-width-value=\"110\" data-field-widthunits-value=\"px\"> <a class=\"tn-atom\" href=\"/all-muzhskie\">МУЖСКОЕ</a> </div> <div class=\"t396__elem tn-elem tn-elem__2519691761605791969860\" data-elem-id=\"1605791969860\" data-elem-type=\"text\" data-field-axisx-value=\"left\" data-field-axisy-value=\"top\" data-field-container-value=\"grid\" data-field-heightunits-value=\"\" data-field-left-res-320-value=\"70\" data-field-left-res-480-value=\"336\" data-field-left-res-640-value=\"474\" data-field-left-value=\"699\" data-field-leftunits-value=\"px\" data-field-top-res-320-value=\"491\" data-field-top-res-480-value=\"25\" data-field-top-res-640-value=\"40\" data-field-top-value=\"40\" data-field-topunits-value=\"px\" data-field-width-value=\"110\" data-field-widthunits-value=\"px\"> <a class=\"tn-atom\" href=\"/all-detskie\">ДЕТСКОЕ</a> </div> <div class=\"t396__elem tn-elem tn-elem__2519691761605791969864\" data-elem-id=\"1605791969864\" data-elem-type=\"text\" data-field-axisx-value=\"left\" data-field-axisy-value=\"top\" data-field-container-value=\"grid\" data-field-heightunits-value=\"\" data-field-left-res-320-value=\"92\" data-field-left-res-480-value=\"50\" data-field-left-res-640-value=\"74\" data-field-left-value=\"299\" data-field-leftunits-value=\"px\" data-field-top-res-320-value=\"34\" data-field-top-res-480-value=\"65\" data-field-top-res-640-value=\"80\" data-field-top-value=\"80\" data-field-topunits-value=\"px\" data-field-width-value=\"110\" data-field-widthunits-value=\"px\"> <a class=\"tn-atom\" href=\"/zhenskie\">Кольца</a> </div> <div class=\"t396__elem tn-elem tn-elem__2519691761605791969867\" data-elem-id=\"1605791969867\" data-elem-type=\"text\" data-field-axisx-value=\"left\" data-field-axisy-value=\"top\" data-field-container-value=\"grid\" data-field-heightunits-value=\"\" data-field-left-res-320-value=\"92\" data-field-left-res-480-value=\"50\" data-field-left-res-640-value=\"74\" data-field-left-value=\"299\" data-field-leftunits-value=\"px\" data-field-top-res-320-value=\"74\" data-field-top-res-480-value=\"105\" data-field-top-res-640-value=\"120\" data-field-top-value=\"120\" data-field-topunits-value=\"px\" data-field-width-value=\"110\" data-field-widthunits-value=\"px\"> <a class=\"tn-atom\" href=\"/sergi\">Серьги</a> </div> <div class=\"t396__elem tn-elem tn-elem__2519691761605791969872\" data-elem-id=\"1605791969872\" data-elem-type=\"text\" data-field-axisx-value=\"left\" data-field-axisy-value=\"top\" data-field-container-value=\"grid\" data-field-heightunits-value=\"\" data-field-left-res-320-value=\"92\" data-field-left-res-480-value=\"50\" data-field-left-res-640-value=\"74\" data-field-left-value=\"299\" data-field-leftunits-value=\"px\" data-field-top-res-320-value=\"114\" data-field-top-res-480-value=\"145\" data-field-top-res-640-value=\"160\" data-field-top-value=\"160\" data-field-topunits-value=\"px\" data-field-width-value=\"110\" data-field-widthunits-value=\"px\"> <a class=\"tn-atom\" href=\"/podvesky\">Подвески</a> </div> <div class=\"t396__elem tn-elem tn-elem__2519691761605791969875\" data-elem-id=\"1605791969875\" data-elem-type=\"text\" data-field-axisx-value=\"left\" data-field-axisy-value=\"top\" data-field-container-value=\"grid\" data-field-heightunits-value=\"\" data-field-left-res-320-value=\"92\" data-field-left-res-480-value=\"50\" data-field-left-res-640-value=\"74\" data-field-left-value=\"299\" data-field-leftunits-value=\"px\" data-field-top-res-320-value=\"154\" data-field-top-res-480-value=\"185\" data-field-top-res-640-value=\"200\" data-field-top-value=\"200\" data-field-topunits-value=\"px\" data-field-width-value=\"110\" data-field-widthunits-value=\"px\"> <a class=\"tn-atom\" href=\"/braslety\">Браслеты</a> </div> <div class=\"t396__elem tn-elem tn-elem__2519691761605791969879\" data-elem-id=\"1605791969879\" data-elem-type=\"text\" data-field-axisx-value=\"left\" data-field-axisy-value=\"top\" data-field-container-value=\"grid\" data-field-heightunits-value=\"\" data-field-left-res-320-value=\"92\" data-field-left-res-480-value=\"50\" data-field-left-res-640-value=\"74\" data-field-left-value=\"299\" data-field-leftunits-value=\"px\" data-field-top-res-320-value=\"194\" data-field-top-res-480-value=\"225\" data-field-top-res-640-value=\"240\" data-field-top-value=\"240\" data-field-topunits-value=\"px\" data-field-width-value=\"110\" data-field-widthunits-value=\"px\"> <a class=\"tn-atom\" href=\"/nabory\">Комплекты</a> </div> <div class=\"t396__elem tn-elem tn-elem__2519691761605791969882\" data-elem-id=\"1605791969882\" data-elem-type=\"text\" data-field-axisx-value=\"left\" data-field-axisy-value=\"top\" data-field-container-value=\"grid\" data-field-heightunits-value=\"\" data-field-left-res-320-value=\"92\" data-field-left-res-480-value=\"195\" data-field-left-res-640-value=\"274\" data-field-left-value=\"499\" data-field-leftunits-value=\"px\" data-field-top-res-320-value=\"258\" data-field-top-res-480-value=\"65\" data-field-top-res-640-value=\"80\" data-field-top-value=\"80\" data-field-topunits-value=\"px\" data-field-width-value=\"110\" data-field-widthunits-value=\"px\"> <a class=\"tn-atom\" href=\"/muzhskie\">Кольца</a> </div> <div class=\"t396__elem tn-elem tn-elem__2519691761605791969886\" data-elem-id=\"1605791969886\" data-elem-type=\"text\" data-field-axisx-value=\"left\" data-field-axisy-value=\"top\" data-field-container-value=\"grid\" data-field-heightunits-value=\"\" data-field-left-res-320-value=\"92\" data-field-left-res-480-value=\"195\" data-field-left-res-640-value=\"274\" data-field-left-value=\"499\" data-field-leftunits-value=\"px\" data-field-top-res-320-value=\"298\" data-field-top-res-480-value=\"105\" data-field-top-res-640-value=\"120\" data-field-top-value=\"120\" data-field-topunits-value=\"px\" data-field-width-value=\"110\" data-field-widthunits-value=\"px\"> <a class=\"tn-atom\" href=\"/muzhskie-chasy\">Часы</a> </div> <div class=\"t396__elem tn-elem tn-elem__2519691761605791969889\" data-elem-id=\"1605791969889\" data-elem-type=\"text\" data-field-axisx-value=\"left\" data-field-axisy-value=\"top\" data-field-container-value=\"grid\" data-field-heightunits-value=\"\" data-field-left-res-320-value=\"92\" data-field-left-res-480-value=\"195\" data-field-left-res-640-value=\"274\" data-field-left-value=\"499\" data-field-leftunits-value=\"px\" data-field-top-res-320-value=\"338\" data-field-top-res-480-value=\"145\" data-field-top-res-640-value=\"160\" data-field-top-value=\"160\" data-field-topunits-value=\"px\" data-field-width-value=\"110\" data-field-widthunits-value=\"px\"> <a class=\"tn-atom\" href=\"/muzhskie-brelki\">Брелки</a> </div> <div class=\"t396__elem tn-elem tn-elem__2519691761605791969891\" data-elem-id=\"1605791969891\" data-elem-type=\"text\" data-field-axisx-value=\"left\" data-field-axisy-value=\"top\" data-field-container-value=\"grid\" data-field-heightunits-value=\"\" data-field-left-res-320-value=\"92\" data-field-left-res-480-value=\"195\" data-field-left-res-640-value=\"274\" data-field-left-value=\"499\" data-field-leftunits-value=\"px\" data-field-top-res-320-value=\"378\" data-field-top-res-480-value=\"185\" data-field-top-res-640-value=\"200\" data-field-top-value=\"200\" data-field-topunits-value=\"px\" data-field-width-value=\"110\" data-field-widthunits-value=\"px\"> <a class=\"tn-atom\" href=\"/muzhskie-zazhimy\">Зажимы</a> </div> <div class=\"t396__elem tn-elem tn-elem__2519691761605791969894\" data-elem-id=\"1605791969894\" data-elem-type=\"text\" data-field-axisx-value=\"left\" data-field-axisy-value=\"top\" data-field-container-value=\"grid\" data-field-heightunits-value=\"\" data-field-left-res-320-value=\"92\" data-field-left-res-480-value=\"195\" data-field-left-res-640-value=\"274\" data-field-left-value=\"499\" data-field-leftunits-value=\"px\" data-field-top-res-320-value=\"418\" data-field-top-res-480-value=\"225\" data-field-top-res-640-value=\"240\" data-field-top-value=\"240\" data-field-topunits-value=\"px\" data-field-width-value=\"110\" data-field-widthunits-value=\"px\"> <a class=\"tn-atom\" href=\"/muzhskie-zaponki\">Запонки</a> </div> <div class=\"t396__elem tn-elem tn-elem__2519691761605791969897\" data-elem-id=\"1605791969897\" data-elem-type=\"text\" data-field-axisx-value=\"left\" data-field-axisy-value=\"top\" data-field-container-value=\"grid\" data-field-heightunits-value=\"\" data-field-left-res-320-value=\"92\" data-field-left-res-480-value=\"195\" data-field-left-res-640-value=\"274\" data-field-left-value=\"499\" data-field-leftunits-value=\"px\" data-field-top-res-320-value=\"458\" data-field-top-res-480-value=\"265\" data-field-top-res-640-value=\"280\" data-field-top-value=\"280\" data-field-topunits-value=\"px\" data-field-width-value=\"110\" data-field-widthunits-value=\"px\"> <a class=\"tn-atom\" href=\"/muzhskie-komplectu\">Комплекты</a> </div> <div class=\"t396__elem tn-elem tn-elem__2519691761605791969900\" data-elem-id=\"1605791969900\" data-elem-type=\"text\" data-field-axisx-value=\"left\" data-field-axisy-value=\"top\" data-field-container-value=\"grid\" data-field-heightunits-value=\"\" data-field-left-res-320-value=\"92\" data-field-left-res-480-value=\"336\" data-field-left-res-640-value=\"474\" data-field-left-value=\"699\" data-field-leftunits-value=\"px\" data-field-top-res-320-value=\"525\" data-field-top-res-480-value=\"65\" data-field-top-res-640-value=\"80\" data-field-top-value=\"80\" data-field-topunits-value=\"px\" data-field-width-value=\"110\" data-field-widthunits-value=\"px\"> <a class=\"tn-atom\" href=\"/detskie\">Подвески</a> </div> <div class=\"t396__elem tn-elem tn-elem__2519691761605791969903\" data-elem-id=\"1605791969903\" data-elem-type=\"text\" data-field-axisx-value=\"left\" data-field-axisy-value=\"top\" data-field-container-value=\"grid\" data-field-heightunits-value=\"\" data-field-left-res-320-value=\"92\" data-field-left-res-480-value=\"336\" data-field-left-res-640-value=\"474\" data-field-left-value=\"699\" data-field-leftunits-value=\"px\" data-field-top-res-320-value=\"565\" data-field-top-res-480-value=\"105\" data-field-top-res-640-value=\"120\" data-field-top-value=\"120\" data-field-topunits-value=\"px\" data-field-width-value=\"110\" data-field-widthunits-value=\"px\"> <a class=\"tn-atom\" href=\"/detskie-pusetu\">Пусеты<br/></a> </div> <div class=\"t396__elem tn-elem tn-elem__2519691761606455338498\" data-elem-id=\"1606455338498\" data-elem-type=\"text\" data-field-axisx-value=\"left\" data-field-axisy-value=\"top\" data-field-container-value=\"grid\" data-field-heightunits-value=\"\" data-field-left-res-320-value=\"70\" data-field-left-res-480-value=\"48\" data-field-left-res-640-value=\"70\" data-field-left-value=\"840\" data-field-leftunits-value=\"px\" data-field-top-res-320-value=\"595\" data-field-top-res-480-value=\"306\" data-field-top-res-640-value=\"335\" data-field-top-value=\"40\" data-field-topunits-value=\"px\" data-field-width-res-320-value=\"240\" data-field-width-value=\"270\" data-field-widthunits-value=\"px\"> <a class=\"tn-atom\" href=\"/mamonth\">ИЗДЕЛИЯ ИЗ БИВНЯ МАМОНТА</a> </div> </div> </div> <script>$( document ).ready(function() { t396_init('251969176');\n",
       "});</script><!-- /T396 --></div><div class=\"r t-rec t-screenmax-980px\" data-animationappear=\"off\" data-record-type=\"396\" data-screen-max=\"980px\" id=\"rec253151817\" style=\" \"><!-- T396 --><style>#rec253151817 .t396__artboard{height: 250px;background-color: #000000;}#rec253151817 .t396__filter{height: 250px;}#rec253151817 .t396__carrier{height: 250px;background-position: center center;background-attachment: scroll;background-size:cover;background-repeat:no-repeat;}@media screen and (max-width: 1199px){#rec253151817 .t396__artboard{}#rec253151817 .t396__filter{}#rec253151817 .t396__carrier{background-attachment:scroll;}}@media screen and (max-width: 959px){#rec253151817 .t396__artboard{height: 230px;}#rec253151817 .t396__filter{height: 230px;}#rec253151817 .t396__carrier{height: 230px;}}@media screen and (max-width: 639px){}@media screen and (max-width: 479px){}#rec253151817 .tn-elem[data-elem-id=\"1606099857456\"]{color:#ffffff;z-index:1;top: 20px;left: calc(50% - 600px + 20px);width:180px;}#rec253151817 .tn-elem[data-elem-id=\"1606099857456\"] .tn-atom{color:#ffffff;font-size:20px;font-family:'CenturyGothic',Arial,sans-serif;line-height:1.55;font-weight:400;background-position:center center;border-color:transparent;border-style:solid;}@media screen and (max-width: 1199px){}@media screen and (max-width: 959px){#rec253151817 .tn-elem[data-elem-id=\"1606099857456\"]{top: 20px;left: calc(50% - 320px + 172px);}}@media screen and (max-width: 639px){#rec253151817 .tn-elem[data-elem-id=\"1606099857456\"]{top: 20px;left: calc(50% - 240px + 93px);}}@media screen and (max-width: 479px){#rec253151817 .tn-elem[data-elem-id=\"1606099857456\"]{top: 20px;left: calc(50% - 160px + 18px);}}#rec253151817 .tn-elem[data-elem-id=\"1606099874346\"]{color:#ffffff;z-index:2;top: 55px;left: calc(50% - 600px + 20px);width:250px;}#rec253151817 .tn-elem[data-elem-id=\"1606099874346\"] .tn-atom{color:#ffffff;font-size:20px;font-family:'CenturyGothic',Arial,sans-serif;line-height:1.55;font-weight:400;background-position:center center;border-color:transparent;border-style:solid;}@media screen and (max-width: 1199px){}@media screen and (max-width: 959px){#rec253151817 .tn-elem[data-elem-id=\"1606099874346\"]{top: 55px;left: calc(50% - 320px + 172px);}}@media screen and (max-width: 639px){#rec253151817 .tn-elem[data-elem-id=\"1606099874346\"]{top: 55px;left: calc(50% - 240px + 93px);}}@media screen and (max-width: 479px){#rec253151817 .tn-elem[data-elem-id=\"1606099874346\"]{top: 55px;left: calc(50% - 160px + 18px);}}#rec253151817 .tn-elem[data-elem-id=\"1606099892533\"]{color:#ffffff;z-index:3;top: 90px;left: calc(50% - 600px + 19px);width:340px;}#rec253151817 .tn-elem[data-elem-id=\"1606099892533\"] .tn-atom{color:#ffffff;font-size:20px;font-family:'CenturyGothic',Arial,sans-serif;line-height:1.55;font-weight:400;background-position:center center;border-color:transparent;border-style:solid;}@media screen and (max-width: 1199px){}@media screen and (max-width: 959px){#rec253151817 .tn-elem[data-elem-id=\"1606099892533\"]{top: 90px;left: calc(50% - 320px + 171px);}}@media screen and (max-width: 639px){#rec253151817 .tn-elem[data-elem-id=\"1606099892533\"]{top: 90px;left: calc(50% - 240px + 92px);}}@media screen and (max-width: 479px){#rec253151817 .tn-elem[data-elem-id=\"1606099892533\"]{top: 90px;left: calc(50% - 160px + 17px);}}#rec253151817 .tn-elem[data-elem-id=\"1606099918719\"]{color:#ffffff;z-index:4;top: 159px;left: calc(50% - 600px + 18px);width:340px;}#rec253151817 .tn-elem[data-elem-id=\"1606099918719\"] .tn-atom{color:#ffffff;font-size:20px;font-family:'CenturyGothic',Arial,sans-serif;line-height:1.55;font-weight:400;background-position:center center;border-color:transparent;border-style:solid;}@media screen and (max-width: 1199px){}@media screen and (max-width: 959px){#rec253151817 .tn-elem[data-elem-id=\"1606099918719\"]{top: 126px;left: calc(50% - 320px + 170px);}}@media screen and (max-width: 639px){#rec253151817 .tn-elem[data-elem-id=\"1606099918719\"]{top: 126px;left: calc(50% - 240px + 91px);}}@media screen and (max-width: 479px){#rec253151817 .tn-elem[data-elem-id=\"1606099918719\"]{top: 126px;left: calc(50% - 160px + 16px);}}#rec253151817 .tn-elem[data-elem-id=\"1606099931388\"]{color:#ffffff;z-index:5;top: 194px;left: calc(50% - 600px + 18px);width:340px;}#rec253151817 .tn-elem[data-elem-id=\"1606099931388\"] .tn-atom{color:#ffffff;font-size:20px;font-family:'CenturyGothic',Arial,sans-serif;line-height:1.55;font-weight:400;background-position:center center;border-color:transparent;border-style:solid;}@media screen and (max-width: 1199px){}@media screen and (max-width: 959px){#rec253151817 .tn-elem[data-elem-id=\"1606099931388\"]{top: 161px;left: calc(50% - 320px + 170px);}}@media screen and (max-width: 639px){#rec253151817 .tn-elem[data-elem-id=\"1606099931388\"]{top: 161px;left: calc(50% - 240px + 91px);}}@media screen and (max-width: 479px){#rec253151817 .tn-elem[data-elem-id=\"1606099931388\"]{top: 161px;left: calc(50% - 160px + 16px);}}#rec253151817 .tn-elem[data-elem-id=\"1606900715641\"]{color:#ffffff;z-index:6;top: 125px;left: calc(50% - 600px + 20px);width:340px;}#rec253151817 .tn-elem[data-elem-id=\"1606900715641\"] .tn-atom{color:#ffffff;font-size:20px;font-family:'CenturyGothic',Arial,sans-serif;line-height:1.55;font-weight:400;background-position:center center;border-color:transparent;border-style:solid;}@media screen and (max-width: 1199px){}@media screen and (max-width: 959px){#rec253151817 .tn-elem[data-elem-id=\"1606900715641\"]{top: 100pxpx;left: calc(50% - 320px + 181pxpx);}}@media screen and (max-width: 639px){#rec253151817 .tn-elem[data-elem-id=\"1606900715641\"]{top: 100pxpx;left: calc(50% - 240px + 102pxpx);}}@media screen and (max-width: 479px){#rec253151817 .tn-elem[data-elem-id=\"1606900715641\"]{top: 100pxpx;left: calc(50% - 160px + 27pxpx);}}</style> <div class=\"t396\"><div class=\"t396__artboard\" data-artboard-height=\"250\" data-artboard-height-res-640=\"230\" data-artboard-height_vh=\"\" data-artboard-ovrflw=\"\" data-artboard-recid=\"253151817\" data-artboard-valign=\"center\"> <div class=\"t396__carrier\" data-artboard-recid=\"253151817\"></div> <div class=\"t396__filter\" data-artboard-recid=\"253151817\"></div> <div class=\"t396__elem tn-elem tn-elem__2531518171606099857456\" data-elem-id=\"1606099857456\" data-elem-type=\"text\" data-field-axisx-value=\"left\" data-field-axisy-value=\"top\" data-field-container-value=\"grid\" data-field-heightunits-value=\"\" data-field-left-res-320-value=\"18\" data-field-left-res-480-value=\"93\" data-field-left-res-640-value=\"172\" data-field-left-value=\"20\" data-field-leftunits-value=\"px\" data-field-top-res-320-value=\"20\" data-field-top-res-480-value=\"20\" data-field-top-res-640-value=\"20\" data-field-top-value=\"20\" data-field-topunits-value=\"px\" data-field-width-value=\"180\" data-field-widthunits-value=\"px\"> <a class=\"tn-atom\" href=\"/obmen\">Обменный фонд</a> </div> <div class=\"t396__elem tn-elem tn-elem__2531518171606099874346\" data-elem-id=\"1606099874346\" data-elem-type=\"text\" data-field-axisx-value=\"left\" data-field-axisy-value=\"top\" data-field-container-value=\"grid\" data-field-heightunits-value=\"\" data-field-left-res-320-value=\"18\" data-field-left-res-480-value=\"93\" data-field-left-res-640-value=\"172\" data-field-left-value=\"20\" data-field-leftunits-value=\"px\" data-field-top-res-320-value=\"55\" data-field-top-res-480-value=\"55\" data-field-top-res-640-value=\"55\" data-field-top-value=\"55\" data-field-topunits-value=\"px\" data-field-width-value=\"250\" data-field-widthunits-value=\"px\"> <a class=\"tn-atom\" href=\"/remont\">Ремонтная мастерская</a> </div> <div class=\"t396__elem tn-elem tn-elem__2531518171606099892533\" data-elem-id=\"1606099892533\" data-elem-type=\"text\" data-field-axisx-value=\"left\" data-field-axisy-value=\"top\" data-field-container-value=\"grid\" data-field-heightunits-value=\"\" data-field-left-res-320-value=\"17\" data-field-left-res-480-value=\"92\" data-field-left-res-640-value=\"171\" data-field-left-value=\"19\" data-field-leftunits-value=\"px\" data-field-top-res-320-value=\"90\" data-field-top-res-480-value=\"90\" data-field-top-res-640-value=\"90\" data-field-top-value=\"90\" data-field-topunits-value=\"px\" data-field-width-value=\"340\" data-field-widthunits-value=\"px\"> <a class=\"tn-atom\" href=\"/gravirovka\">Художественная гравировка</a> </div> <div class=\"t396__elem tn-elem tn-elem__2531518171606099918719\" data-elem-id=\"1606099918719\" data-elem-type=\"text\" data-field-axisx-value=\"left\" data-field-axisy-value=\"top\" data-field-container-value=\"grid\" data-field-heightunits-value=\"\" data-field-left-res-320-value=\"16\" data-field-left-res-480-value=\"91\" data-field-left-res-640-value=\"170\" data-field-left-value=\"18\" data-field-leftunits-value=\"px\" data-field-top-res-320-value=\"126\" data-field-top-res-480-value=\"126\" data-field-top-res-640-value=\"126\" data-field-top-value=\"159\" data-field-topunits-value=\"px\" data-field-width-value=\"340\" data-field-widthunits-value=\"px\"> <a class=\"tn-atom\" href=\"/individ-zakaz\">Индивидуальный заказ</a> </div> <div class=\"t396__elem tn-elem tn-elem__2531518171606099931388\" data-elem-id=\"1606099931388\" data-elem-type=\"text\" data-field-axisx-value=\"left\" data-field-axisy-value=\"top\" data-field-container-value=\"grid\" data-field-heightunits-value=\"\" data-field-left-res-320-value=\"16\" data-field-left-res-480-value=\"91\" data-field-left-res-640-value=\"170\" data-field-left-value=\"18\" data-field-leftunits-value=\"px\" data-field-top-res-320-value=\"161\" data-field-top-res-480-value=\"161\" data-field-top-res-640-value=\"161\" data-field-top-value=\"194\" data-field-topunits-value=\"px\" data-field-width-value=\"340\" data-field-widthunits-value=\"px\"> <a class=\"tn-atom\" href=\"/corporativnuy-zakaz\">Корпоративные заказы</a> </div> <div class=\"t396__elem tn-elem tn-elem__2531518171606900715641\" data-elem-id=\"1606900715641\" data-elem-type=\"text\" data-field-axisx-value=\"left\" data-field-axisy-value=\"top\" data-field-container-value=\"grid\" data-field-heightunits-value=\"\" data-field-left-res-320-value=\"27px\" data-field-left-res-480-value=\"102px\" data-field-left-res-640-value=\"181px\" data-field-left-value=\"20\" data-field-leftunits-value=\"px\" data-field-top-res-320-value=\"100px\" data-field-top-res-480-value=\"100px\" data-field-top-res-640-value=\"100px\" data-field-top-value=\"125\" data-field-topunits-value=\"px\" data-field-width-value=\"340\" data-field-widthunits-value=\"px\"> <a class=\"tn-atom\" href=\"/l-gravirovka\">Лазерная гравировка</a> </div> </div> </div> <script>$( document ).ready(function() { t396_init('253151817');\n",
       "});</script><!-- /T396 --></div><div class=\"r t-rec\" data-animationappear=\"off\" data-record-type=\"131\" id=\"rec251367863\" style=\" \"><!-- T123 --><div class=\"t123\"><div class=\"t-container_100\"><div class=\"t-width t-width_100\">\n",
       "<script>\n",
       "$(\"document\").ready(function() {\n",
       "/* #rec207720047 — id Зеро блока (меню 1-го уровня, основной) */\n",
       "    var mainMenuBlock = \"#rec251384638\";\n",
       "    var hoverLeave = $(mainMenuBlock).find(\".t396__elem\").not($(\"[href='#menuhover']\").parent());\n",
       "\n",
       "/* #rec130781742 — id Зеро блока (меню 2-го уровня, который будет всплывать) */\n",
       "    var secondaryMenuBlock = \"#rec251367837\";\n",
       "    var menuArtboardHover = $(secondaryMenuBlock).find(\".t396__artboard\");\n",
       "\n",
       "    $(\"[href='#menuhover']\").hover(function(e) {\n",
       "        e.preventDefault();\n",
       "        if(!menuArtboardHover.hasClass(\"open\")) {\n",
       "            menuArtboardHover.addClass(\"open\");\n",
       "        }\n",
       "    });\n",
       "    \n",
       "    menuArtboardHover.mouseleave(function(e) {\n",
       "        e.preventDefault();\n",
       "        menuArtboardHover.removeClass(\"open\");\n",
       "    });\n",
       "\n",
       "    $(hoverLeave).mouseenter(function(e) {\n",
       "        e.preventDefault();\n",
       "        menuArtboardHover.removeClass(\"open\");\n",
       "    });\n",
       "\n",
       "    $(window).scroll(function(e) {\n",
       "        menuArtboardHover.removeClass(\"open\");\n",
       "    });\n",
       "});\n",
       "</script>\n",
       "<style>\n",
       "/* #rec207720047 — id Зеро блока (меню 1-го уровня, основной) */\n",
       "#rec251384638 {\n",
       "    width: 100%;\n",
       "    position: fixed;\n",
       "    top: 0;\n",
       "    z-index: 998;\n",
       "}\n",
       "\n",
       "/* #rec207720048 — id Zero блока (меню 2-го уровня, который будет всплывать) */\n",
       "#rec251367837 .t396__artboard {\n",
       "    z-index: 997;\n",
       "    position: fixed;\n",
       "    margin: auto;\n",
       "    top: 100px; /* высота Zero блока (меню 1-го уровня, основной) */\n",
       "    left: 0;\n",
       "    transition: all .4s ease;\n",
       "    pointer-events: none;\n",
       "    transform: translateY(-440px); /* сумма высот Zero блоков, которые играют роль меню (1-го и 2-го уровня) */\n",
       "    justify-content: space-around;\n",
       "    box-shadow: 0 9px 9px 0 rgba(0, 0, 0, .09);\n",
       "}\n",
       "\n",
       ".open {\n",
       "    pointer-events: all !important;\n",
       "    transform: translateY(0px) !important;\n",
       "}\n",
       "</style>\n",
       "<script>\n",
       "$(\"document\").ready(function() {\n",
       "    /* #rec196486194 — id Zero блока (меню 2-го уровня, который будет всплывать) */\n",
       "    var menuBlockID = \"#rec251969176\";\n",
       "    var menuArtboardClick = $(menuBlockID).find(\".t396__artboard\");\n",
       "    \n",
       "    $(\"[href='#menuclick1']\").click(function(e) {\n",
       "        e.preventDefault();\n",
       "        if($(menuArtboardClick).hasClass(\"open1\")) {\n",
       "            $(menuArtboardClick).removeClass(\"open1\");\n",
       "        } else {\n",
       "            $(menuArtboardClick).addClass(\"open1\");\n",
       "        }\n",
       "    });\n",
       "    \n",
       "    $(menuArtboardClick).mouseleave(function(e) {\n",
       "        e.preventDefault();\n",
       "        $(menuArtboardClick).removeClass(\"open1\");\n",
       "    });\n",
       "});\n",
       "</script>\n",
       "<style>\n",
       "\n",
       "#rec251969176 .t396__artboard{\n",
       "    z-index: 997;\n",
       "    position: fixed;\n",
       "    margin: auto;\n",
       "    top: 100px; /* высота Zero блока (меню 1-го уровня, основной) */\n",
       "    left: 0;\n",
       "    transition: all .4s ease;\n",
       "    pointer-events: none;\n",
       "    transform: translateY(-600px); /* сумма высот Zero блоков, которые играют роль меню (1-го и 2-го уровня) */\n",
       "    justify-content: space-around;\n",
       "    box-shadow: 0 9px 9px 0 rgba(0, 0, 0, .09);\n",
       "}\n",
       ".open1 {\n",
       "    pointer-events: all !important;\n",
       "    transform: translateX(0px) !important;\n",
       "}\n",
       "</style>\n",
       "<script>\n",
       "$(\"document\").ready(function() {\n",
       "    /* #rec196486194 — id Zero блока (меню 2-го уровня, который будет всплывать) */\n",
       "    var menuBlockID = \"#rec253151817\";\n",
       "    var menuArtboardClick = $(menuBlockID).find(\".t396__artboard\");\n",
       "    \n",
       "    $(\"[href='#menuclick2']\").click(function(e) {\n",
       "        e.preventDefault();\n",
       "        if($(menuArtboardClick).hasClass(\"open1\")) {\n",
       "            $(menuArtboardClick).removeClass(\"open1\");\n",
       "        } else {\n",
       "            $(menuArtboardClick).addClass(\"open1\");\n",
       "        }\n",
       "    });\n",
       "    \n",
       "    $(menuArtboardClick).mouseleave(function(e) {\n",
       "        e.preventDefault();\n",
       "        $(menuArtboardClick).removeClass(\"open1\");\n",
       "    });\n",
       "});\n",
       "</script>\n",
       "<style>\n",
       "\n",
       "#rec253151817 .t396__artboard{\n",
       "    z-index: 997;\n",
       "    position: fixed;\n",
       "    margin: auto;\n",
       "    top: 100px; /* высота Zero блока (меню 1-го уровня, основной) */\n",
       "    left: 0;\n",
       "    transition: all .4s ease;\n",
       "    pointer-events: none;\n",
       "    transform: translateY(-600px); /* сумма высот Zero блоков, которые играют роль меню (1-го и 2-го уровня) */\n",
       "    justify-content: space-around;\n",
       "    box-shadow: 0 9px 9px 0 rgba(0, 0, 0, .09);\n",
       "}\n",
       "\n",
       "</style>\n",
       "<!-- Translation stuff -->\n",
       "<div class=\"language\">\n",
       "<img alt=\"ru\" class=\"language__img\" data-google-lang=\"ru\" src=\"https://www.countryflags.io/ru/flat/32.png\"/>\n",
       "<img alt=\"en\" class=\"language__img\" data-google-lang=\"en\" src=\"https://www.countryflags.io/gb/flat/32.png\"/>\n",
       "</div>\n",
       "<style>\n",
       "\n",
       "/* Фиксируем позицию body, которую меняет панель гугла*/\n",
       "\n",
       "body {\n",
       "    top: 0 !important;\n",
       "    position: static !important;\n",
       "}\n",
       "\n",
       "/* Прячем панель гугла */\n",
       "\n",
       ".skiptranslate {\n",
       "    display: none !important;\n",
       "}\n",
       "\n",
       "/* language */\n",
       "\n",
       ".language {\n",
       "    position: fixed;\n",
       "    left: 10px;\n",
       "    top: 50%;\n",
       "    transform: translateY(-50%);\n",
       "    display: flex;\n",
       "    flex-direction: column;\n",
       "}\n",
       "\n",
       ".language__img {\n",
       "    margin: 2px;\n",
       "    cursor: pointer;\n",
       "    opacity: .5;\n",
       "    width: 32px;\n",
       "    height: 24px;\n",
       "}\n",
       "\n",
       ".language__img:hover,\n",
       ".language__img_active {\n",
       "    opacity: 1;\n",
       "}\n",
       "\n",
       "</style>\n",
       "<script src=\"//translate.google.com/translate_a/element.js?cb=TranslateInit\"></script>\n",
       "<script>\n",
       "    function TranslateInit() {\n",
       "        // if (location.href.includes('/en')) {\n",
       "        //     console.log('detected english page', $.cookie('googtrans'));\n",
       "        //     if ($.cookie('googtrans') != '/ru/en' || $.cookie('googtrans') != '%2Fru%2Fen') {\n",
       "        //         console.log('wrong cookie, setting and reloading');\n",
       "        //         $.cookie('googtrans', '/ru/en');\n",
       "        //         // window.location.reload();\n",
       "        //     }\n",
       "        // } else {\n",
       "        //     if ($cookie('googtrans')) {\n",
       "        //         $.cookie('googtrans', null);\n",
       "        //         window.location.reload();\n",
       "        //     }\n",
       "        // }\n",
       "        \n",
       "        // new google.translate.TranslateElement({\n",
       "        //     pageLanguage: 'ru'\n",
       "        // });\n",
       "        \n",
       "        let code = TranslateGetCode();\n",
       "        // Находим флаг с выбранным языком для перевода и добавляем к нему активный класс\n",
       "        $('[data-google-lang=\"' + code + '\"]').addClass('language__img_active');\n",
       "        \n",
       "        let main = 'https://' + document.domain + '/';\n",
       "        if (code == 'en' && window.location.href == main) {\n",
       "            window.location.replace(main + 'en');\n",
       "        }\n",
       "    \n",
       "        if (code == googleTranslateConfig.lang) {\n",
       "            // Если язык по умолчанию, совпадает с языком на который переводим\n",
       "            // То очищаем куки\n",
       "            TranslateClearCookie();\n",
       "        }\n",
       "    \n",
       "        // Инициализируем виджет с языком по умолчанию\n",
       "        new google.translate.TranslateElement({\n",
       "            pageLanguage: googleTranslateConfig.lang,\n",
       "        });\n",
       "    \n",
       "        // Вешаем событие  клик на флаги\n",
       "        $('[data-google-lang]').click(function () {\n",
       "            \n",
       "            let lang = $(this).attr(\"data-google-lang\");\n",
       "            let url = window.location.href;\n",
       "            let main = 'https://' + document.domain + '/';\n",
       "            let mainEng = main + 'en';\n",
       "            \n",
       "            console.log(lang, url, main, mainEng);\n",
       "            \n",
       "            TranslateSetCookie(lang);\n",
       "            \n",
       "            if (lang == 'en' && url == main) {\n",
       "                window.location.replace(mainEng);\n",
       "                return;\n",
       "            } else if (lang == 'ru' && url == mainEng) {\n",
       "                window.location.replace(main);\n",
       "                return;\n",
       "            }\n",
       "            \n",
       "            // Перезагружаем страницу\n",
       "            window.location.reload();\n",
       "        });\n",
       "    }\n",
       "    \n",
       "    \n",
       "    function TranslateGetCode() {\n",
       "        // Если куки нет, то передаем дефолтный язык\n",
       "        let lang = ($.cookie('googtrans') != undefined && $.cookie('googtrans') != \"null\") ? $.cookie('googtrans') : googleTranslateConfig.lang;\n",
       "        return lang.substr(-2);\n",
       "    }\n",
       "    \n",
       "    function TranslateClearCookie() {\n",
       "        $.cookie('googtrans', null);\n",
       "        $.cookie(\"googtrans\", null, {\n",
       "            domain: \".\" + document.domain,\n",
       "        });\n",
       "    }\n",
       "    \n",
       "    function TranslateSetCookie(code) {\n",
       "        // Записываем куки /язык_который_переводим/язык_на_который_переводим\n",
       "        $.cookie('googtrans', \"/auto/\" + code);\n",
       "        $.cookie(\"googtrans\", \"/auto/\" + code, {\n",
       "            domain: \".\" + document.domain,\n",
       "        });\n",
       "    }\n",
       "</script>\n",
       "</div> </div></div></div></div><!--/header--><div class=\"r t-rec t-rec_pt_60\" data-animationappear=\"off\" data-record-type=\"396\" id=\"rec195396756\" style=\"padding-top:60px; \"><!-- T396 --><style>#rec195396756 .t396__artboard{height: 100px;background-color: #0f0f0f;}#rec195396756 .t396__filter{height: 100px;}#rec195396756 .t396__carrier{height: 100px;background-position: center center;background-attachment: scroll;background-size:cover;background-repeat:no-repeat;}@media screen and (max-width: 1199px){#rec195396756 .t396__artboard{}#rec195396756 .t396__filter{}#rec195396756 .t396__carrier{background-attachment:scroll;}}@media screen and (max-width: 959px){#rec195396756 .t396__artboard{height: 100px;background-color: #181818;}#rec195396756 .t396__filter{height: 100px;}#rec195396756 .t396__carrier{height: 100px;background-position: center center;}}@media screen and (max-width: 639px){#rec195396756 .t396__artboard{height: 100px;background-color: #181818;}#rec195396756 .t396__filter{height: 100px;}#rec195396756 .t396__carrier{height: 100px;background-position: center center;}}@media screen and (max-width: 479px){#rec195396756 .t396__artboard{height: 100px;}#rec195396756 .t396__filter{height: 100px;}#rec195396756 .t396__carrier{height: 100px;}}#rec195396756 .tn-elem[data-elem-id=\"1590427421893\"]{color:#ffffff;text-align:center;z-index:1;top: 27px;left: calc(50% - 600px + 16px);width:320px;}#rec195396756 .tn-elem[data-elem-id=\"1590427421893\"] .tn-atom{color:#ffffff;font-size:30px;font-family:'CenturyGothic',Arial,sans-serif;line-height:1.55;font-weight:400;background-position:center center;border-color:transparent;border-style:solid;}@media screen and (max-width: 1199px){#rec195396756 .tn-elem[data-elem-id=\"1590427421893\"]{top: 27px;left: calc(50% - 480px + 11px);}}@media screen and (max-width: 959px){#rec195396756 .tn-elem[data-elem-id=\"1590427421893\"]{top: 27px;left: calc(50% - 320px + 11px);}}@media screen and (max-width: 639px){#rec195396756 .tn-elem[data-elem-id=\"1590427421893\"]{top: 27px;left: calc(50% - 240px + 5px);}}@media screen and (max-width: 479px){#rec195396756 .tn-elem[data-elem-id=\"1590427421893\"]{top: 31px;left: calc(50% - 160px + -19px);width:300px;}#rec195396756 .tn-elem[data-elem-id=\"1590427421893\"] .tn-atom{font-size:25px;}}</style> <div class=\"t396\"><div class=\"t396__artboard\" data-artboard-height=\"100\" data-artboard-height-res-320=\"100\" data-artboard-height-res-480=\"100\" data-artboard-height-res-640=\"100\" data-artboard-height_vh=\"\" data-artboard-ovrflw=\"\" data-artboard-recid=\"195396756\" data-artboard-valign=\"center\"> <div class=\"t396__carrier\" data-artboard-recid=\"195396756\"></div> <div class=\"t396__filter\" data-artboard-recid=\"195396756\"></div> <div class=\"t396__elem tn-elem tn-elem__1953967561590427421893\" data-elem-id=\"1590427421893\" data-elem-type=\"text\" data-field-axisx-value=\"left\" data-field-axisy-value=\"top\" data-field-container-value=\"grid\" data-field-heightunits-value=\"\" data-field-left-res-320-value=\"-19\" data-field-left-res-480-value=\"5\" data-field-left-res-640-value=\"11\" data-field-left-res-960-value=\"11\" data-field-left-value=\"16\" data-field-leftunits-value=\"px\" data-field-top-res-320-value=\"31\" data-field-top-res-480-value=\"27\" data-field-top-res-640-value=\"27\" data-field-top-res-960-value=\"27\" data-field-top-value=\"27\" data-field-topunits-value=\"px\" data-field-width-res-320-value=\"300\" data-field-width-value=\"320\" data-field-widthunits-value=\"px\"> <div class=\"tn-atom\" field=\"tn_text_1590427421893\">Женские украшения</div> </div> </div> </div> <script>$( document ).ready(function() { t396_init('195396756');\n",
       "});</script><!-- /T396 --></div><div class=\"r t-rec t-rec_pt_0 t-rec_pb_15\" data-animationappear=\"off\" data-bg-color=\"#0f0f0f\" data-record-type=\"758\" id=\"rec253575418\" style=\"padding-top:0px;padding-bottom:15px;background-color:#0f0f0f; \"><!-- t758 --><div class=\"t758\"> <div class=\"t-container\"> <div class=\"t758__col t-col t-col_12\"> <div class=\"t758__wrapper t-align_left\"> <ul class=\"t758__list\"> <li class=\"t758__list_item\"><div class=\"t758__link-item__wrapper\"><a class=\"t-menu__link-item\" href=\"/all\" style=\"color:#ffffff;font-weight:300;\">Украшения</a></div><span class=\"t758__breadcrumb-divider\" style=\"color:#ffffff;font-weight:300;color:#ffffff;\">→</span></li><li class=\"t758__list_item\"><div class=\"t758__link-item__wrapper\"><a class=\"t-menu__link-item\" href=\"/all-zenskie\" style=\"color:#ffffff;font-weight:300;\">Женские украшения</a></div><span class=\"t758__breadcrumb-divider\" style=\"color:#ffffff;font-weight:300;color:#ffffff;\">→</span></li><li class=\"t758__list_item\"><div class=\"t758__link-item__wrapper\"><div class=\"t-menu__link-item t758__link-item_active\" style=\"color:#ffffff;font-weight:300;\">Кольца</div></div></li> </ul> </div> </div> </div></div><style>#rec253575418 .t758__link-item_active {\n",
       "color:#fcd600 !important;}</style><style>#rec253575418 .t758 .t-menu__link-item{ -webkit-transition: color 0.3s ease-in-out, opacity 0.3s ease-in-out; transition: color 0.3s ease-in-out, opacity 0.3s ease-in-out;\n",
       "}\n",
       "#rec253575418 .t758 .t-menu__link-item:hover{ color: #9e9e9e !important; }</style></div><div class=\"r t-rec t-rec_pt_0 t-rec_pb_15\" data-bg-color=\"#0f0f0f\" data-record-type=\"395\" id=\"rec195388120\" style=\"padding-top:0px;padding-bottom:15px;background-color:#0f0f0f; \"><!-- t395 --><div class=\"t395\"> <div class=\"t-container\"> <div class=\"t395__col t-width t-width_12\"> <div class=\"t395__wrapper t-align_center\"> <div class=\"t395__tab t395__tab_active t395__width_16\" data-tab-rec-ids=\"195388121\"> <div class=\"t395__title t-name t-name_xs\" field=\"title\" style=\"color:#ffffff;font-weight:400;\">Золото</div> </div> <div class=\"t395__tab t395__width_16\" data-tab-rec-ids=\"215423707\"> <div class=\"t395__title t-name t-name_xs\" field=\"title2\" style=\"color:#ffffff;font-weight:400;\">Серебро</div> </div> <div class=\"t395__tab t395__width_16\" data-tab-rec-ids=\"195388122\"> <div class=\"t395__title t-name t-name_xs\" field=\"title3\" style=\"color:#ffffff;font-weight:400;\">Обручальные</div> </div> <div class=\"t395__tab t395__width_16\" data-tab-rec-ids=\"195388124\"> <div class=\"t395__title t-name t-name_xs\" field=\"title4\" style=\"color:#ffffff;font-weight:400;\">Лимонное золото</div> </div> <div class=\"t395__tab t395__width_16\" data-tab-rec-ids=\"195388125\"> <div class=\"t395__title t-name t-name_xs\" field=\"title5\" style=\"color:#ffffff;font-weight:400;\">Комбинированное золото</div> </div> <div class=\"t395__tab t395__width_16\" data-tab-rec-ids=\"195388123\"> <div class=\"t395__title t-name t-name_xs\" field=\"title6\" style=\"color:#ffffff;font-weight:400;\">Белое золото</div> </div> </div> <div class=\"t395__wrapper_mobile\"> <div class=\"t395__firefoxfix\"></div> <select class=\"t395__select t-name\" style=\"font-family:;\"> <option value=\"195388121\">Золото</option> <option value=\"215423707\">Серебро</option> <option value=\"195388122\">Обручальные</option> <option value=\"195388124\">Лимонное золото</option> <option value=\"195388125\">Комбинированное золото</option> <option value=\"195388123\">Белое золото</option> </select> </div> </div> </div></div><style> #rec195388120 .t395__tab { border: 1px solid #ffffff; background-color: #0f0f0f !important; } #rec195388120 .t395__tab_active { background-color: #0f0f0f !important; border-color: #fcd600 !important; } #rec195388120 .t395__tab_active:after { width: 1px; top: -1px; right: -1px; bottom: -1px; background-color: #fcd600 !important; } #rec195388120 .t395__tab_active .t395__title { color: #fcd600 !important; font-weight: 600 !important; } #rec195388120 .t395__tab .t395__title { margin-left: 1px; } #rec195388120 .t395__tab:last-child .t395__title { margin-left: 0; } #rec195388120 .t395__tab:first-child { } #rec195388120 .t395__tab:last-child { border-right: 1px solid #ffffff !important; } #rec195388120 .t395__tab_active:last-child { border-right: 1px solid #fcd600 !important; } #rec195388120 .t395__select { border: 1px solid #ffffff; color: #fcd600 !important; background-color: #0f0f0f !important; } #rec195388120 .t395__wrapper_mobile:after { border-color: #fcd600 transparent transparent transparent; } #rec195388120 .t395__firefoxfix { top: 1px; bottom: 1px; right: 1px; background-color: #0f0f0f !important; } </style><script> $(document).ready(function() { t395_init('195388120'); }); </script></div><div class=\"r t-rec t-rec_pt_15 t-rec_pb_15\" data-animationappear=\"off\" data-bg-color=\"#0f0f0f\" data-record-type=\"778\" id=\"rec195388121\" style=\"padding-top:15px;padding-bottom:15px;background-color:#0f0f0f; \"><!-- t778 --><div class=\"t778\"> <!-- grid container start --> <div class=\"t-store js-store\"> <div class=\"js-store-parts-select-container t-store__grid-cont t-container\"></div> <!-- preloader els --> <div class=\"js-store-grid-cont-preloader t-store__grid-cont t-store__grid-cont-preloader_hidden t-container t-store__mobile-two-columns t-store__grid-cont_mobile-grid\"> <div class=\"t-store__card-preloader t-col t-col_4\"> <div class=\"t-store__card__img-preloader\" style=\"padding-bottom:83.333333333333%;\"> </div> </div> <div class=\"t-store__card-preloader t-col t-col_4\"> <div class=\"t-store__card__img-preloader\" style=\"padding-bottom:83.333333333333%;\"> </div> </div> <div class=\"t-store__card-preloader t-col t-col_4\"> <div class=\"t-store__card__img-preloader\" style=\"padding-bottom:83.333333333333%;\"> </div> </div> <div class=\"t-clear t-store__grid-separator\"></div> <div class=\"t-store__card-preloader t-col t-col_4\"> <div class=\"t-store__card__img-preloader\" style=\"padding-bottom:83.333333333333%;\"> </div> </div> <div class=\"t-store__card-preloader t-col t-col_4\"> <div class=\"t-store__card__img-preloader\" style=\"padding-bottom:83.333333333333%;\"> </div> </div> <div class=\"t-store__card-preloader t-col t-col_4\"> <div class=\"t-store__card__img-preloader\" style=\"padding-bottom:83.333333333333%;\"> </div> </div> </div> <!-- preloader els end --> <div class=\"js-store-grid-cont t-store__grid-cont t-container t-store__mobile-two-columns t-store__grid-cont_mobile-grid\"></div> </div><!-- grid container end --></div><!-- catalog setup start --><style type=\"text/css\">/* Slider stiles */\n",
       "#rec195388121 .t-slds__bullet_active .t-slds__bullet_body { background-color: #222 !important;\n",
       "}\n",
       "#rec195388121 .t-slds__bullet:hover .t-slds__bullet_body { background-color: #222 !important;\n",
       "}\n",
       "/* Store part switch buttons styles */\n",
       "#rec195388121 .t-store__parts-switch-btn { color:#ffffff; font-size:25px; font-weight:400; margin-left:15px;margin-right:15px;\n",
       "}\n",
       "/* Store filters buttons styles */\n",
       "#rec195388121 .t-store__filter__item-title,\n",
       "#rec195388121 .t-store__filter__opts-mob-btn { color:#ffffff; font-weight:400;\n",
       "}\n",
       "#rec195388121 .t-store__filter__item-title:after { border-right-color:#ffffff; border-bottom-color:#ffffff;\n",
       "}\n",
       "#rec195388121 .t-store__filter__opts-mob-btn-icon path,\n",
       "#rec195388121 .t-store__filter__search-mob-btn-icon path { fill:#ffffff;\n",
       "}\n",
       "#rec195388121 .t-store__filter__chosen-val,\n",
       "#rec195388121 .t-store__filter__reset,\n",
       "#rec195388121 .t-store__filter__prods-number { color:#ffffff;\n",
       "}\n",
       "@media screen and (max-width: 960px) { #rec195388121 .t-store__filter__item { border-color:rgba(255,255,255,0.3); color:#ffffff; } #rec195388121 .t-checkbox__control { color:#ffffff; } #rec195388121 .t-checkbox__indicator, #rec195388121 .t-checkbox__indicator:after { border-color:#ffffff; }\n",
       "}</style><div class=\"js-store-tpl-slider-arrows\" style=\"display: none;\"> <div class=\"t-slds__arrow_wrapper t-slds__arrow_wrapper-left\" data-slide-direction=\"left\"> <div class=\"t-slds__arrow t-slds__arrow-left t-slds__arrow-withbg\" style=\"width: 30px; height: 30px;background-color: rgba(255,255,255,1);\"> <div class=\"t-slds__arrow_body t-slds__arrow_body-left\" style=\"width: 7px;\"> <svg style=\"display: block\" viewbox=\"0 0 7.3 13\" xmlns=\"http://www.w3.org/2000/svg\" xmlns:xlink=\"http://www.w3.org/1999/xlink\"> <desc>Left</desc> <polyline fill=\"none\" points=\"0.5,0.5 6.5,6.5 0.5,12.5\" stroke=\"#000000\" stroke-linecap=\"butt\" stroke-linejoin=\"butt\" stroke-width=\"1\"></polyline> </svg> </div> </div></div><div class=\"t-slds__arrow_wrapper t-slds__arrow_wrapper-right\" data-slide-direction=\"right\"> <div class=\"t-slds__arrow t-slds__arrow-right t-slds__arrow-withbg\" style=\"width: 30px; height: 30px;background-color: rgba(255,255,255,1);\"> <div class=\"t-slds__arrow_body t-slds__arrow_body-right\" style=\"width: 7px;\"> <svg style=\"display: block\" viewbox=\"0 0 7.3 13\" xmlns=\"http://www.w3.org/2000/svg\" xmlns:xlink=\"http://www.w3.org/1999/xlink\"> <desc>Right</desc> <polyline fill=\"none\" points=\"0.5,0.5 6.5,6.5 0.5,12.5\" stroke=\"#000000\" stroke-linecap=\"butt\" stroke-linejoin=\"butt\" stroke-width=\"1\"></polyline> </svg> </div> </div></div></div><script type=\"text/javascript\">$(document).ready(function(){ var prodcard_optsObj = { hasWrap: 'true', txtPad: '', bgColor: '#222222', borderRadius: '', shadowSize: '3px', shadowOpacity: '', btnTitle1: '', btnLink1: 'popup', btnTitle2: '', btnLink2: 'popup', showOpts: false }; var price_optsObj = { color: '#ffffff', colorOld: '#bdbdbd', fontSize: '20px', fontWeight: '400' }; var popup_optsObj = { columns: '6', columns2: '6', isVertical: '', align: '', btnTitle: 'Оформить заказ', closeText: 'Смотреть еще', iconColor: '#ffffff', containerBgColor: '#0f0f0f', overlayBgColorRgba: 'rgba(15,15,15,1)', popupStat: '' }; var slider_optsObj = { anim_speed: '', videoPlayerIconColor: '', cycle: '', controls: 'arrowsthumbs', bgcolor: '#ebebeb' }; var slider_dotsOptsObj = { size: '', bgcolor: '', bordersize: '', bgcoloractive: '' }; var slider_slidesOptsObj = { zoomable: true, bgsize: 'cover', ratio: '1' }; var typography_optsObj = { title: \"color:#ffffff;font-weight:700;\", descr: \"color:#ffffff;font-size:15px;font-weight:500;\", descrColor: '#ffffff', titleColor: '#ffffff' }; var options = { storepart: '760201588556', previewmode: 'yes', prodCard: prodcard_optsObj, popup_opts: popup_optsObj, slider_opts: slider_optsObj, slider_dotsOpts: slider_dotsOptsObj, slider_slidesOpts: slider_slidesOptsObj, typo: typography_optsObj, price: price_optsObj, blocksInRow: '3', colClass: 't-col t-col_4', sidebar: false, colWidth: '360', colClassFullWidth: 't-col t-col_12', imageHover: true, imageHeight: '300px', imageRatioClass: '', align: 'left', vindent: '', isHorizOnMob:false, itemsAnim: 'fadeinup', hasOriginalAspectRatio: false, size: 36, markColor: '#ffffff', markBgColor: '#f50000', currencySide: 'r', currencyTxt: 'р.', btnSize: '', btn1_style: 'color:#ffffff;border:3px solid #ffffff;background-color:#0f0f0f;', btn2_style: 'color:#ffffff;border:1px solid #cc9c30;', isFlexCols: '', hideStoreParts: false, verticalAlignButtons: false, hideFilters: false, titleRelevants: 'СМОТРИТЕ ТАКЖЕ', showRelevants: '760201588556', relevants_slider: true, relevants_quantity: '4', sliderthumbsside: '', showStoreBtnQuantity: '', }; t_onFuncLoad('t_store_init', function() { t_store_init('195388121', options); });\n",
       "});</script><!-- catalog setup end --><style> #rec195388121 .t-col .t-store__card__wrap_all:hover{ box-shadow: 0px 0px 20px 0px rgba(0, 0, 0, 0.10) !important; }</style></div><div class=\"r t-rec t-rec_pt_15 t-rec_pb_15\" data-animationappear=\"off\" data-bg-color=\"#0f0f0f\" data-record-type=\"778\" id=\"rec195388122\" style=\"padding-top:15px;padding-bottom:15px;background-color:#0f0f0f; \"><!-- t778 --><div class=\"t778\"> <!-- grid container start --> <div class=\"t-store js-store\"> <div class=\"js-store-parts-select-container t-store__grid-cont t-container\"></div> <!-- preloader els --> <div class=\"js-store-grid-cont-preloader t-store__grid-cont t-store__grid-cont-preloader_hidden t-container t-store__mobile-two-columns t-store__grid-cont_mobile-grid\"> <div class=\"t-store__card-preloader t-col t-col_4\"> <div class=\"t-store__card__img-preloader\" style=\"padding-bottom:83.333333333333%;\"> </div> </div> <div class=\"t-store__card-preloader t-col t-col_4\"> <div class=\"t-store__card__img-preloader\" style=\"padding-bottom:83.333333333333%;\"> </div> </div> <div class=\"t-store__card-preloader t-col t-col_4\"> <div class=\"t-store__card__img-preloader\" style=\"padding-bottom:83.333333333333%;\"> </div> </div> <div class=\"t-clear t-store__grid-separator\"></div> <div class=\"t-store__card-preloader t-col t-col_4\"> <div class=\"t-store__card__img-preloader\" style=\"padding-bottom:83.333333333333%;\"> </div> </div> <div class=\"t-store__card-preloader t-col t-col_4\"> <div class=\"t-store__card__img-preloader\" style=\"padding-bottom:83.333333333333%;\"> </div> </div> <div class=\"t-store__card-preloader t-col t-col_4\"> <div class=\"t-store__card__img-preloader\" style=\"padding-bottom:83.333333333333%;\"> </div> </div> </div> <!-- preloader els end --> <div class=\"js-store-grid-cont t-store__grid-cont t-container t-store__mobile-two-columns t-store__grid-cont_mobile-grid\"></div> </div><!-- grid container end --></div><!-- catalog setup start --><style type=\"text/css\">/* Slider stiles */\n",
       "#rec195388122 .t-slds__bullet_active .t-slds__bullet_body { background-color: #222 !important;\n",
       "}\n",
       "#rec195388122 .t-slds__bullet:hover .t-slds__bullet_body { background-color: #222 !important;\n",
       "}\n",
       "/* Store part switch buttons styles */\n",
       "#rec195388122 .t-store__parts-switch-btn { color:#ffffff; font-size:25px; font-weight:400; margin-left:15px;margin-right:15px;\n",
       "}\n",
       "/* Store filters buttons styles */\n",
       "#rec195388122 .t-store__filter__item-title,\n",
       "#rec195388122 .t-store__filter__opts-mob-btn { color:#ffffff; font-weight:400;\n",
       "}\n",
       "#rec195388122 .t-store__filter__item-title:after { border-right-color:#ffffff; border-bottom-color:#ffffff;\n",
       "}\n",
       "#rec195388122 .t-store__filter__opts-mob-btn-icon path,\n",
       "#rec195388122 .t-store__filter__search-mob-btn-icon path { fill:#ffffff;\n",
       "}\n",
       "#rec195388122 .t-store__filter__chosen-val,\n",
       "#rec195388122 .t-store__filter__reset,\n",
       "#rec195388122 .t-store__filter__prods-number { color:#ffffff;\n",
       "}\n",
       "@media screen and (max-width: 960px) { #rec195388122 .t-store__filter__item { border-color:rgba(255,255,255,0.3); color:#ffffff; } #rec195388122 .t-checkbox__control { color:#ffffff; } #rec195388122 .t-checkbox__indicator, #rec195388122 .t-checkbox__indicator:after { border-color:#ffffff; }\n",
       "}</style><div class=\"js-store-tpl-slider-arrows\" style=\"display: none;\"> <div class=\"t-slds__arrow_wrapper t-slds__arrow_wrapper-left\" data-slide-direction=\"left\"> <div class=\"t-slds__arrow t-slds__arrow-left t-slds__arrow-withbg\" style=\"width: 30px; height: 30px;background-color: rgba(255,255,255,1);\"> <div class=\"t-slds__arrow_body t-slds__arrow_body-left\" style=\"width: 7px;\"> <svg style=\"display: block\" viewbox=\"0 0 7.3 13\" xmlns=\"http://www.w3.org/2000/svg\" xmlns:xlink=\"http://www.w3.org/1999/xlink\"> <desc>Left</desc> <polyline fill=\"none\" points=\"0.5,0.5 6.5,6.5 0.5,12.5\" stroke=\"#000000\" stroke-linecap=\"butt\" stroke-linejoin=\"butt\" stroke-width=\"1\"></polyline> </svg> </div> </div></div><div class=\"t-slds__arrow_wrapper t-slds__arrow_wrapper-right\" data-slide-direction=\"right\"> <div class=\"t-slds__arrow t-slds__arrow-right t-slds__arrow-withbg\" style=\"width: 30px; height: 30px;background-color: rgba(255,255,255,1);\"> <div class=\"t-slds__arrow_body t-slds__arrow_body-right\" style=\"width: 7px;\"> <svg style=\"display: block\" viewbox=\"0 0 7.3 13\" xmlns=\"http://www.w3.org/2000/svg\" xmlns:xlink=\"http://www.w3.org/1999/xlink\"> <desc>Right</desc> <polyline fill=\"none\" points=\"0.5,0.5 6.5,6.5 0.5,12.5\" stroke=\"#000000\" stroke-linecap=\"butt\" stroke-linejoin=\"butt\" stroke-width=\"1\"></polyline> </svg> </div> </div></div></div><script type=\"text/javascript\">$(document).ready(function(){ var prodcard_optsObj = { hasWrap: 'true', txtPad: 'sm', bgColor: '#222222', borderRadius: '', shadowSize: '3px', shadowOpacity: '', btnTitle1: '', btnLink1: 'popup', btnTitle2: '', btnLink2: 'popup', showOpts: false }; var price_optsObj = { color: '#ffffff', colorOld: '#b8b8b8', fontSize: '20px', fontWeight: '400' }; var popup_optsObj = { columns: '6', columns2: '6', isVertical: '', align: '', btnTitle: 'Оформить заказ', closeText: 'Смотреть еще', iconColor: '#ffffff', containerBgColor: '#0f0f0f', overlayBgColorRgba: 'rgba(15,15,15,1)', popupStat: '' }; var slider_optsObj = { anim_speed: '', videoPlayerIconColor: '', cycle: '', controls: 'arrowsthumbs', bgcolor: '#ebebeb' }; var slider_dotsOptsObj = { size: '', bgcolor: '', bordersize: '', bgcoloractive: '' }; var slider_slidesOptsObj = { zoomable: true, bgsize: 'cover', ratio: '1' }; var typography_optsObj = { title: \"color:#ffffff;font-weight:700;\", descr: \"color:#ffffff;font-size:15px;font-weight:500;\", descrColor: '#ffffff', titleColor: '#ffffff' }; var options = { storepart: '206466524991', previewmode: 'yes', prodCard: prodcard_optsObj, popup_opts: popup_optsObj, slider_opts: slider_optsObj, slider_dotsOpts: slider_dotsOptsObj, slider_slidesOpts: slider_slidesOptsObj, typo: typography_optsObj, price: price_optsObj, blocksInRow: '3', colClass: 't-col t-col_4', sidebar: false, colWidth: '360', colClassFullWidth: 't-col t-col_12', imageHover: true, imageHeight: '300px', imageRatioClass: '', align: 'left', vindent: '', isHorizOnMob:false, itemsAnim: '', hasOriginalAspectRatio: false, size: 36, markColor: '#ffffff', markBgColor: '#f50000', currencySide: 'r', currencyTxt: 'р.', btnSize: '', btn1_style: 'color:#ffffff;border:3px solid #ffffff;background-color:#0f0f0f;', btn2_style: 'color:#ffffff;border:1px solid #cc9c30;', isFlexCols: '', hideStoreParts: false, verticalAlignButtons: false, hideFilters: false, titleRelevants: 'СМОТРИТЕ ТАКЖЕ', showRelevants: '206466524991', relevants_slider: false, relevants_quantity: '4', sliderthumbsside: '', showStoreBtnQuantity: '', }; t_onFuncLoad('t_store_init', function() { t_store_init('195388122', options); });\n",
       "});</script><!-- catalog setup end --><style> #rec195388122 .t-col .t-store__card__wrap_all:hover{ box-shadow: 0px 0px 20px 0px rgba(0, 0, 0, 0.10) !important; }</style></div><div class=\"r t-rec t-rec_pt_15 t-rec_pb_15\" data-animationappear=\"off\" data-bg-color=\"#0f0f0f\" data-record-type=\"778\" id=\"rec195388123\" style=\"padding-top:15px;padding-bottom:15px;background-color:#0f0f0f; \"><!-- t778 --><div class=\"t778\"> <!-- grid container start --> <div class=\"t-store js-store\"> <div class=\"js-store-parts-select-container t-store__grid-cont t-container\"></div> <!-- preloader els --> <div class=\"js-store-grid-cont-preloader t-store__grid-cont t-store__grid-cont-preloader_hidden t-container t-store__mobile-two-columns t-store__grid-cont_mobile-grid\"> <div class=\"t-store__card-preloader t-col t-col_4\"> <div class=\"t-store__card__img-preloader\" style=\"padding-bottom:83.333333333333%;\"> </div> </div> <div class=\"t-store__card-preloader t-col t-col_4\"> <div class=\"t-store__card__img-preloader\" style=\"padding-bottom:83.333333333333%;\"> </div> </div> <div class=\"t-store__card-preloader t-col t-col_4\"> <div class=\"t-store__card__img-preloader\" style=\"padding-bottom:83.333333333333%;\"> </div> </div> <div class=\"t-clear t-store__grid-separator\"></div> <div class=\"t-store__card-preloader t-col t-col_4\"> <div class=\"t-store__card__img-preloader\" style=\"padding-bottom:83.333333333333%;\"> </div> </div> <div class=\"t-store__card-preloader t-col t-col_4\"> <div class=\"t-store__card__img-preloader\" style=\"padding-bottom:83.333333333333%;\"> </div> </div> <div class=\"t-store__card-preloader t-col t-col_4\"> <div class=\"t-store__card__img-preloader\" style=\"padding-bottom:83.333333333333%;\"> </div> </div> </div> <!-- preloader els end --> <div class=\"js-store-grid-cont t-store__grid-cont t-container t-store__mobile-two-columns t-store__grid-cont_mobile-grid\"></div> </div><!-- grid container end --></div><!-- catalog setup start --><style type=\"text/css\">/* Slider stiles */\n",
       "#rec195388123 .t-slds__bullet_active .t-slds__bullet_body { background-color: #222 !important;\n",
       "}\n",
       "#rec195388123 .t-slds__bullet:hover .t-slds__bullet_body { background-color: #222 !important;\n",
       "}\n",
       "/* Store part switch buttons styles */\n",
       "#rec195388123 .t-store__parts-switch-btn { color:#ffffff; font-size:20px; font-weight:300; margin-left:15px;margin-right:15px;\n",
       "}\n",
       "/* Store filters buttons styles */\n",
       "#rec195388123 .t-store__filter__item-title,\n",
       "#rec195388123 .t-store__filter__opts-mob-btn { color:#ffffff; font-weight:300;\n",
       "}\n",
       "#rec195388123 .t-store__filter__item-title:after { border-right-color:#ffffff; border-bottom-color:#ffffff;\n",
       "}\n",
       "#rec195388123 .t-store__filter__opts-mob-btn-icon path,\n",
       "#rec195388123 .t-store__filter__search-mob-btn-icon path { fill:#ffffff;\n",
       "}\n",
       "#rec195388123 .t-store__filter__chosen-val,\n",
       "#rec195388123 .t-store__filter__reset,\n",
       "#rec195388123 .t-store__filter__prods-number { color:#ffffff;\n",
       "}\n",
       "@media screen and (max-width: 960px) { #rec195388123 .t-store__filter__item { border-color:rgba(255,255,255,0.3); color:#ffffff; } #rec195388123 .t-checkbox__control { color:#ffffff; } #rec195388123 .t-checkbox__indicator, #rec195388123 .t-checkbox__indicator:after { border-color:#ffffff; }\n",
       "}</style><div class=\"js-store-tpl-slider-arrows\" style=\"display: none;\"> <div class=\"t-slds__arrow_wrapper t-slds__arrow_wrapper-left\" data-slide-direction=\"left\"> <div class=\"t-slds__arrow t-slds__arrow-left t-slds__arrow-withbg\" style=\"width: 30px; height: 30px;background-color: rgba(255,255,255,1);\"> <div class=\"t-slds__arrow_body t-slds__arrow_body-left\" style=\"width: 7px;\"> <svg style=\"display: block\" viewbox=\"0 0 7.3 13\" xmlns=\"http://www.w3.org/2000/svg\" xmlns:xlink=\"http://www.w3.org/1999/xlink\"> <desc>Left</desc> <polyline fill=\"none\" points=\"0.5,0.5 6.5,6.5 0.5,12.5\" stroke=\"#000000\" stroke-linecap=\"butt\" stroke-linejoin=\"butt\" stroke-width=\"1\"></polyline> </svg> </div> </div></div><div class=\"t-slds__arrow_wrapper t-slds__arrow_wrapper-right\" data-slide-direction=\"right\"> <div class=\"t-slds__arrow t-slds__arrow-right t-slds__arrow-withbg\" style=\"width: 30px; height: 30px;background-color: rgba(255,255,255,1);\"> <div class=\"t-slds__arrow_body t-slds__arrow_body-right\" style=\"width: 7px;\"> <svg style=\"display: block\" viewbox=\"0 0 7.3 13\" xmlns=\"http://www.w3.org/2000/svg\" xmlns:xlink=\"http://www.w3.org/1999/xlink\"> <desc>Right</desc> <polyline fill=\"none\" points=\"0.5,0.5 6.5,6.5 0.5,12.5\" stroke=\"#000000\" stroke-linecap=\"butt\" stroke-linejoin=\"butt\" stroke-width=\"1\"></polyline> </svg> </div> </div></div></div><script type=\"text/javascript\">$(document).ready(function(){ var prodcard_optsObj = { hasWrap: 'true', txtPad: 'sm', bgColor: '#222222', borderRadius: '', shadowSize: '3px', shadowOpacity: '', btnTitle1: '', btnLink1: 'popup', btnTitle2: '', btnLink2: 'popup', showOpts: false }; var price_optsObj = { color: '#ffffff', colorOld: '#cccccc', fontSize: '30px', fontWeight: '400' }; var popup_optsObj = { columns: '6', columns2: '6', isVertical: '', align: '', btnTitle: 'Оформить заказ', closeText: 'Смотреть еще', iconColor: '#ffffff', containerBgColor: '#0f0f0f', overlayBgColorRgba: 'rgba(15,15,15,1)', popupStat: '' }; var slider_optsObj = { anim_speed: '', videoPlayerIconColor: '', cycle: '', controls: 'arrowsthumbs', bgcolor: '#ebebeb' }; var slider_dotsOptsObj = { size: '', bgcolor: '', bordersize: '', bgcoloractive: '' }; var slider_slidesOptsObj = { zoomable: true, bgsize: 'cover', ratio: '1' }; var typography_optsObj = { title: \"color:#ffffff;font-weight:700;\", descr: \"color:#ffffff;font-size:15px;font-weight:500;\", descrColor: '#ffffff', titleColor: '#ffffff' }; var options = { storepart: '246119863597', previewmode: 'yes', prodCard: prodcard_optsObj, popup_opts: popup_optsObj, slider_opts: slider_optsObj, slider_dotsOpts: slider_dotsOptsObj, slider_slidesOpts: slider_slidesOptsObj, typo: typography_optsObj, price: price_optsObj, blocksInRow: '3', colClass: 't-col t-col_4', sidebar: false, colWidth: '360', colClassFullWidth: 't-col t-col_12', imageHover: true, imageHeight: '300px', imageRatioClass: '', align: 'left', vindent: '', isHorizOnMob:false, itemsAnim: '', hasOriginalAspectRatio: false, size: 36, markColor: '#ffffff', markBgColor: '#f50000', currencySide: 'r', currencyTxt: 'р.', btnSize: '', btn1_style: 'color:#ffffff;border:3px solid #ffffff;background-color:#0f0f0f;border-radius:5px; -moz-border-radius:5px; -webkit-border-radius:5px;', btn2_style: 'color:#ffffff;border:1px solid #cc9c30;border-radius:5px; -moz-border-radius:5px; -webkit-border-radius:5px;', isFlexCols: '', hideStoreParts: false, verticalAlignButtons: false, hideFilters: false, titleRelevants: 'СМОТРИТЕ ТАКЖЕ', showRelevants: '246119863597', relevants_slider: false, relevants_quantity: '4', sliderthumbsside: '', showStoreBtnQuantity: '', }; t_onFuncLoad('t_store_init', function() { t_store_init('195388123', options); });\n",
       "});</script><!-- catalog setup end --><style> #rec195388123 .t-col .t-store__card__wrap_all:hover{ box-shadow: 0px 0px 20px 0px rgba(0, 0, 0, 0.10) !important; }</style></div><div class=\"r t-rec t-rec_pt_15 t-rec_pb_15\" data-animationappear=\"off\" data-bg-color=\"#0f0f0f\" data-record-type=\"778\" id=\"rec195388124\" style=\"padding-top:15px;padding-bottom:15px;background-color:#0f0f0f; \"><!-- t778 --><div class=\"t778\"> <!-- grid container start --> <div class=\"t-store js-store\"> <div class=\"js-store-parts-select-container t-store__grid-cont t-container\"></div> <!-- preloader els --> <div class=\"js-store-grid-cont-preloader t-store__grid-cont t-store__grid-cont-preloader_hidden t-container t-store__mobile-two-columns t-store__grid-cont_mobile-grid\"> <div class=\"t-store__card-preloader t-col t-col_4\"> <div class=\"t-store__card__img-preloader\" style=\"padding-bottom:83.333333333333%;\"> </div> </div> <div class=\"t-store__card-preloader t-col t-col_4\"> <div class=\"t-store__card__img-preloader\" style=\"padding-bottom:83.333333333333%;\"> </div> </div> <div class=\"t-store__card-preloader t-col t-col_4\"> <div class=\"t-store__card__img-preloader\" style=\"padding-bottom:83.333333333333%;\"> </div> </div> <div class=\"t-clear t-store__grid-separator\"></div> <div class=\"t-store__card-preloader t-col t-col_4\"> <div class=\"t-store__card__img-preloader\" style=\"padding-bottom:83.333333333333%;\"> </div> </div> <div class=\"t-store__card-preloader t-col t-col_4\"> <div class=\"t-store__card__img-preloader\" style=\"padding-bottom:83.333333333333%;\"> </div> </div> <div class=\"t-store__card-preloader t-col t-col_4\"> <div class=\"t-store__card__img-preloader\" style=\"padding-bottom:83.333333333333%;\"> </div> </div> </div> <!-- preloader els end --> <div class=\"js-store-grid-cont t-store__grid-cont t-container t-store__mobile-two-columns t-store__grid-cont_mobile-grid\"></div> </div><!-- grid container end --></div><!-- catalog setup start --><style type=\"text/css\">/* Slider stiles */\n",
       "#rec195388124 .t-slds__bullet_active .t-slds__bullet_body { background-color: #222 !important;\n",
       "}\n",
       "#rec195388124 .t-slds__bullet:hover .t-slds__bullet_body { background-color: #222 !important;\n",
       "}\n",
       "/* Store part switch buttons styles */\n",
       "#rec195388124 .t-store__parts-switch-btn { color:#ffffff; font-size:20px; font-weight:300; margin-left:15px;margin-right:15px;\n",
       "}\n",
       "/* Store filters buttons styles */\n",
       "#rec195388124 .t-store__filter__item-title,\n",
       "#rec195388124 .t-store__filter__opts-mob-btn { color:#ffffff; font-weight:300;\n",
       "}\n",
       "#rec195388124 .t-store__filter__item-title:after { border-right-color:#ffffff; border-bottom-color:#ffffff;\n",
       "}\n",
       "#rec195388124 .t-store__filter__opts-mob-btn-icon path,\n",
       "#rec195388124 .t-store__filter__search-mob-btn-icon path { fill:#ffffff;\n",
       "}\n",
       "#rec195388124 .t-store__filter__chosen-val,\n",
       "#rec195388124 .t-store__filter__reset,\n",
       "#rec195388124 .t-store__filter__prods-number { color:#ffffff;\n",
       "}\n",
       "@media screen and (max-width: 960px) { #rec195388124 .t-store__filter__item { border-color:rgba(255,255,255,0.3); color:#ffffff; } #rec195388124 .t-checkbox__control { color:#ffffff; } #rec195388124 .t-checkbox__indicator, #rec195388124 .t-checkbox__indicator:after { border-color:#ffffff; }\n",
       "}</style><div class=\"js-store-tpl-slider-arrows\" style=\"display: none;\"> <div class=\"t-slds__arrow_wrapper t-slds__arrow_wrapper-left\" data-slide-direction=\"left\"> <div class=\"t-slds__arrow t-slds__arrow-left t-slds__arrow-withbg\" style=\"width: 30px; height: 30px;background-color: rgba(255,255,255,1);\"> <div class=\"t-slds__arrow_body t-slds__arrow_body-left\" style=\"width: 7px;\"> <svg style=\"display: block\" viewbox=\"0 0 7.3 13\" xmlns=\"http://www.w3.org/2000/svg\" xmlns:xlink=\"http://www.w3.org/1999/xlink\"> <desc>Left</desc> <polyline fill=\"none\" points=\"0.5,0.5 6.5,6.5 0.5,12.5\" stroke=\"#000000\" stroke-linecap=\"butt\" stroke-linejoin=\"butt\" stroke-width=\"1\"></polyline> </svg> </div> </div></div><div class=\"t-slds__arrow_wrapper t-slds__arrow_wrapper-right\" data-slide-direction=\"right\"> <div class=\"t-slds__arrow t-slds__arrow-right t-slds__arrow-withbg\" style=\"width: 30px; height: 30px;background-color: rgba(255,255,255,1);\"> <div class=\"t-slds__arrow_body t-slds__arrow_body-right\" style=\"width: 7px;\"> <svg style=\"display: block\" viewbox=\"0 0 7.3 13\" xmlns=\"http://www.w3.org/2000/svg\" xmlns:xlink=\"http://www.w3.org/1999/xlink\"> <desc>Right</desc> <polyline fill=\"none\" points=\"0.5,0.5 6.5,6.5 0.5,12.5\" stroke=\"#000000\" stroke-linecap=\"butt\" stroke-linejoin=\"butt\" stroke-width=\"1\"></polyline> </svg> </div> </div></div></div><script type=\"text/javascript\">$(document).ready(function(){ var prodcard_optsObj = { hasWrap: 'true', txtPad: 'sm', bgColor: '#222222', borderRadius: '', shadowSize: '3px', shadowOpacity: '', btnTitle1: '', btnLink1: 'popup', btnTitle2: '', btnLink2: 'popup', showOpts: false }; var price_optsObj = { color: '#ffffff', colorOld: '#cccccc', fontSize: '30px', fontWeight: '400' }; var popup_optsObj = { columns: '6', columns2: '6', isVertical: '', align: '', btnTitle: 'Оформить заказ', closeText: 'Смотреть еще', iconColor: '#ffffff', containerBgColor: '#0f0f0f', overlayBgColorRgba: 'rgba(15,15,15,1)', popupStat: '' }; var slider_optsObj = { anim_speed: '', videoPlayerIconColor: '', cycle: '', controls: 'arrowsthumbs', bgcolor: '#ebebeb' }; var slider_dotsOptsObj = { size: '', bgcolor: '', bordersize: '', bgcoloractive: '' }; var slider_slidesOptsObj = { zoomable: true, bgsize: 'cover', ratio: '1' }; var typography_optsObj = { title: \"color:#ffffff;font-weight:700;\", descr: \"color:#ffffff;font-size:15px;font-weight:500;\", descrColor: '#ffffff', titleColor: '#ffffff' }; var options = { storepart: '933414702698', previewmode: 'yes', prodCard: prodcard_optsObj, popup_opts: popup_optsObj, slider_opts: slider_optsObj, slider_dotsOpts: slider_dotsOptsObj, slider_slidesOpts: slider_slidesOptsObj, typo: typography_optsObj, price: price_optsObj, blocksInRow: '3', colClass: 't-col t-col_4', sidebar: false, colWidth: '360', colClassFullWidth: 't-col t-col_12', imageHover: true, imageHeight: '300px', imageRatioClass: '', align: 'left', vindent: '', isHorizOnMob:false, itemsAnim: '', hasOriginalAspectRatio: false, size: 36, markColor: '#ffffff', markBgColor: '#f50000', currencySide: 'r', currencyTxt: 'р.', btnSize: '', btn1_style: 'color:#ffffff;border:3px solid #ffffff;background-color:#0f0f0f;', btn2_style: 'color:#ffffff;border:1px solid #cc9c30;', isFlexCols: '', hideStoreParts: false, verticalAlignButtons: false, hideFilters: false, titleRelevants: 'СМОТРИТЕ ТАКЖЕ', showRelevants: '933414702698', relevants_slider: false, relevants_quantity: '4', sliderthumbsside: '', showStoreBtnQuantity: '', }; t_onFuncLoad('t_store_init', function() { t_store_init('195388124', options); });\n",
       "});</script><!-- catalog setup end --><style> #rec195388124 .t-col .t-store__card__wrap_all:hover{ box-shadow: 0px 0px 20px 0px rgba(0, 0, 0, 0.10) !important; }</style></div><div class=\"r t-rec t-rec_pt_15 t-rec_pb_15\" data-animationappear=\"off\" data-bg-color=\"#0f0f0f\" data-record-type=\"778\" id=\"rec195388125\" style=\"padding-top:15px;padding-bottom:15px;background-color:#0f0f0f; \"><!-- t778 --><div class=\"t778\"> <!-- grid container start --> <div class=\"t-store js-store\"> <div class=\"js-store-parts-select-container t-store__grid-cont t-container\"></div> <!-- preloader els --> <div class=\"js-store-grid-cont-preloader t-store__grid-cont t-store__grid-cont-preloader_hidden t-container t-store__mobile-two-columns t-store__grid-cont_mobile-grid\"> <div class=\"t-store__card-preloader t-col t-col_4\"> <div class=\"t-store__card__img-preloader\" style=\"padding-bottom:83.333333333333%;\"> </div> </div> <div class=\"t-store__card-preloader t-col t-col_4\"> <div class=\"t-store__card__img-preloader\" style=\"padding-bottom:83.333333333333%;\"> </div> </div> <div class=\"t-store__card-preloader t-col t-col_4\"> <div class=\"t-store__card__img-preloader\" style=\"padding-bottom:83.333333333333%;\"> </div> </div> <div class=\"t-clear t-store__grid-separator\"></div> <div class=\"t-store__card-preloader t-col t-col_4\"> <div class=\"t-store__card__img-preloader\" style=\"padding-bottom:83.333333333333%;\"> </div> </div> <div class=\"t-store__card-preloader t-col t-col_4\"> <div class=\"t-store__card__img-preloader\" style=\"padding-bottom:83.333333333333%;\"> </div> </div> <div class=\"t-store__card-preloader t-col t-col_4\"> <div class=\"t-store__card__img-preloader\" style=\"padding-bottom:83.333333333333%;\"> </div> </div> </div> <!-- preloader els end --> <div class=\"js-store-grid-cont t-store__grid-cont t-container t-store__mobile-two-columns t-store__grid-cont_mobile-grid\"></div> </div><!-- grid container end --></div><!-- catalog setup start --><style type=\"text/css\">/* Slider stiles */\n",
       "#rec195388125 .t-slds__bullet_active .t-slds__bullet_body { background-color: #222 !important;\n",
       "}\n",
       "#rec195388125 .t-slds__bullet:hover .t-slds__bullet_body { background-color: #222 !important;\n",
       "}\n",
       "/* Store part switch buttons styles */\n",
       "#rec195388125 .t-store__parts-switch-btn { color:#ffffff; font-size:20px; font-weight:300; margin-left:15px;margin-right:15px;\n",
       "}\n",
       "/* Store filters buttons styles */\n",
       "#rec195388125 .t-store__filter__item-title,\n",
       "#rec195388125 .t-store__filter__opts-mob-btn { color:#ffffff; font-weight:300;\n",
       "}\n",
       "#rec195388125 .t-store__filter__item-title:after { border-right-color:#ffffff; border-bottom-color:#ffffff;\n",
       "}\n",
       "#rec195388125 .t-store__filter__opts-mob-btn-icon path,\n",
       "#rec195388125 .t-store__filter__search-mob-btn-icon path { fill:#ffffff;\n",
       "}\n",
       "#rec195388125 .t-store__filter__chosen-val,\n",
       "#rec195388125 .t-store__filter__reset,\n",
       "#rec195388125 .t-store__filter__prods-number { color:#ffffff;\n",
       "}\n",
       "@media screen and (max-width: 960px) { #rec195388125 .t-store__filter__item { border-color:rgba(255,255,255,0.3); color:#ffffff; } #rec195388125 .t-checkbox__control { color:#ffffff; } #rec195388125 .t-checkbox__indicator, #rec195388125 .t-checkbox__indicator:after { border-color:#ffffff; }\n",
       "}</style><div class=\"js-store-tpl-slider-arrows\" style=\"display: none;\"> <div class=\"t-slds__arrow_wrapper t-slds__arrow_wrapper-left\" data-slide-direction=\"left\"> <div class=\"t-slds__arrow t-slds__arrow-left t-slds__arrow-withbg\" style=\"width: 30px; height: 30px;background-color: rgba(255,255,255,1);\"> <div class=\"t-slds__arrow_body t-slds__arrow_body-left\" style=\"width: 7px;\"> <svg style=\"display: block\" viewbox=\"0 0 7.3 13\" xmlns=\"http://www.w3.org/2000/svg\" xmlns:xlink=\"http://www.w3.org/1999/xlink\"> <desc>Left</desc> <polyline fill=\"none\" points=\"0.5,0.5 6.5,6.5 0.5,12.5\" stroke=\"#000000\" stroke-linecap=\"butt\" stroke-linejoin=\"butt\" stroke-width=\"1\"></polyline> </svg> </div> </div></div><div class=\"t-slds__arrow_wrapper t-slds__arrow_wrapper-right\" data-slide-direction=\"right\"> <div class=\"t-slds__arrow t-slds__arrow-right t-slds__arrow-withbg\" style=\"width: 30px; height: 30px;background-color: rgba(255,255,255,1);\"> <div class=\"t-slds__arrow_body t-slds__arrow_body-right\" style=\"width: 7px;\"> <svg style=\"display: block\" viewbox=\"0 0 7.3 13\" xmlns=\"http://www.w3.org/2000/svg\" xmlns:xlink=\"http://www.w3.org/1999/xlink\"> <desc>Right</desc> <polyline fill=\"none\" points=\"0.5,0.5 6.5,6.5 0.5,12.5\" stroke=\"#000000\" stroke-linecap=\"butt\" stroke-linejoin=\"butt\" stroke-width=\"1\"></polyline> </svg> </div> </div></div></div><script type=\"text/javascript\">$(document).ready(function(){ var prodcard_optsObj = { hasWrap: 'true', txtPad: 'sm', bgColor: '#222222', borderRadius: '', shadowSize: '3px', shadowOpacity: '', btnTitle1: '', btnLink1: 'popup', btnTitle2: '', btnLink2: 'popup', showOpts: true }; var price_optsObj = { color: '#ffffff', colorOld: '#d1d1d1', fontSize: '30px', fontWeight: '400' }; var popup_optsObj = { columns: '6', columns2: '6', isVertical: '', align: '', btnTitle: 'Купить', closeText: 'Смотреть еще', iconColor: '#ffffff', containerBgColor: '#0f0f0f', overlayBgColorRgba: 'rgba(15,15,15,1)', popupStat: '' }; var slider_optsObj = { anim_speed: '', videoPlayerIconColor: '', cycle: '', controls: 'arrowsthumbs', bgcolor: '#ebebeb' }; var slider_dotsOptsObj = { size: '', bgcolor: '', bordersize: '', bgcoloractive: '' }; var slider_slidesOptsObj = { zoomable: true, bgsize: 'cover', ratio: '1' }; var typography_optsObj = { title: \"color:#ffffff;font-weight:700;\", descr: \"color:#ffffff;font-size:15px;font-weight:500;\", descrColor: '#ffffff', titleColor: '#ffffff' }; var options = { storepart: '588777433699', previewmode: 'yes', prodCard: prodcard_optsObj, popup_opts: popup_optsObj, slider_opts: slider_optsObj, slider_dotsOpts: slider_dotsOptsObj, slider_slidesOpts: slider_slidesOptsObj, typo: typography_optsObj, price: price_optsObj, blocksInRow: '3', colClass: 't-col t-col_4', sidebar: false, colWidth: '360', colClassFullWidth: 't-col t-col_12', imageHover: true, imageHeight: '300px', imageRatioClass: '', align: 'left', vindent: '', isHorizOnMob:false, itemsAnim: '', hasOriginalAspectRatio: false, size: 36, markColor: '#ffffff', markBgColor: '#f50000', currencySide: 'r', currencyTxt: 'р.', btnSize: '', btn1_style: 'color:#ffffff;border:3px solid #ffffff;background-color:#0f0f0f;border-radius:5px; -moz-border-radius:5px; -webkit-border-radius:5px;', btn2_style: 'color:#ffffff;border:1px solid #cc9c30;border-radius:5px; -moz-border-radius:5px; -webkit-border-radius:5px;', isFlexCols: '', hideStoreParts: false, verticalAlignButtons: false, hideFilters: false, titleRelevants: '', showRelevants: '588777433699', relevants_slider: false, relevants_quantity: '4', sliderthumbsside: '', showStoreBtnQuantity: '', }; t_onFuncLoad('t_store_init', function() { t_store_init('195388125', options); });\n",
       "});</script><!-- catalog setup end --><style> #rec195388125 .t-col .t-store__card__wrap_all:hover{ box-shadow: 0px 0px 20px 0px rgba(0, 0, 0, 0.10) !important; }</style></div><div class=\"r t-rec t-rec_pt_15 t-rec_pb_15\" data-animationappear=\"off\" data-bg-color=\"#0f0f0f\" data-record-type=\"778\" id=\"rec215423707\" style=\"padding-top:15px;padding-bottom:15px;background-color:#0f0f0f; \"><!-- t778 --><div class=\"t778\"> <!-- grid container start --> <div class=\"t-store js-store\"> <div class=\"js-store-parts-select-container t-store__grid-cont t-container\"></div> <!-- preloader els --> <div class=\"js-store-grid-cont-preloader t-store__grid-cont t-store__grid-cont-preloader_hidden t-container t-store__mobile-two-columns t-store__grid-cont_mobile-grid\"> <div class=\"t-store__card-preloader t-col t-col_4\"> <div class=\"t-store__card__img-preloader\" style=\"padding-bottom:83.333333333333%;\"> </div> </div> <div class=\"t-store__card-preloader t-col t-col_4\"> <div class=\"t-store__card__img-preloader\" style=\"padding-bottom:83.333333333333%;\"> </div> </div> <div class=\"t-store__card-preloader t-col t-col_4\"> <div class=\"t-store__card__img-preloader\" style=\"padding-bottom:83.333333333333%;\"> </div> </div> <div class=\"t-clear t-store__grid-separator\"></div> <div class=\"t-store__card-preloader t-col t-col_4\"> <div class=\"t-store__card__img-preloader\" style=\"padding-bottom:83.333333333333%;\"> </div> </div> <div class=\"t-store__card-preloader t-col t-col_4\"> <div class=\"t-store__card__img-preloader\" style=\"padding-bottom:83.333333333333%;\"> </div> </div> <div class=\"t-store__card-preloader t-col t-col_4\"> <div class=\"t-store__card__img-preloader\" style=\"padding-bottom:83.333333333333%;\"> </div> </div> </div> <!-- preloader els end --> <div class=\"js-store-grid-cont t-store__grid-cont t-container t-store__mobile-two-columns t-store__grid-cont_mobile-grid\"></div> </div><!-- grid container end --></div><!-- catalog setup start --><style type=\"text/css\">/* Slider stiles */\n",
       "#rec215423707 .t-slds__bullet_active .t-slds__bullet_body { background-color: #222 !important;\n",
       "}\n",
       "#rec215423707 .t-slds__bullet:hover .t-slds__bullet_body { background-color: #222 !important;\n",
       "}\n",
       "/* Store part switch buttons styles */\n",
       "#rec215423707 .t-store__parts-switch-btn { color:#ffffff; font-size:20px; font-weight:300; margin-left:15px;margin-right:15px;\n",
       "}\n",
       "/* Store filters buttons styles */\n",
       "#rec215423707 .t-store__filter__item-title,\n",
       "#rec215423707 .t-store__filter__opts-mob-btn { color:#ffffff; font-weight:300;\n",
       "}\n",
       "#rec215423707 .t-store__filter__item-title:after { border-right-color:#ffffff; border-bottom-color:#ffffff;\n",
       "}\n",
       "#rec215423707 .t-store__filter__opts-mob-btn-icon path,\n",
       "#rec215423707 .t-store__filter__search-mob-btn-icon path { fill:#ffffff;\n",
       "}\n",
       "#rec215423707 .t-store__filter__chosen-val,\n",
       "#rec215423707 .t-store__filter__reset,\n",
       "#rec215423707 .t-store__filter__prods-number { color:#ffffff;\n",
       "}\n",
       "@media screen and (max-width: 960px) { #rec215423707 .t-store__filter__item { border-color:rgba(255,255,255,0.3); color:#ffffff; } #rec215423707 .t-checkbox__control { color:#ffffff; } #rec215423707 .t-checkbox__indicator, #rec215423707 .t-checkbox__indicator:after { border-color:#ffffff; }\n",
       "}</style><div class=\"js-store-tpl-slider-arrows\" style=\"display: none;\"> <div class=\"t-slds__arrow_wrapper t-slds__arrow_wrapper-left\" data-slide-direction=\"left\"> <div class=\"t-slds__arrow t-slds__arrow-left t-slds__arrow-withbg\" style=\"width: 30px; height: 30px;background-color: rgba(255,255,255,1);\"> <div class=\"t-slds__arrow_body t-slds__arrow_body-left\" style=\"width: 7px;\"> <svg style=\"display: block\" viewbox=\"0 0 7.3 13\" xmlns=\"http://www.w3.org/2000/svg\" xmlns:xlink=\"http://www.w3.org/1999/xlink\"> <desc>Left</desc> <polyline fill=\"none\" points=\"0.5,0.5 6.5,6.5 0.5,12.5\" stroke=\"#000000\" stroke-linecap=\"butt\" stroke-linejoin=\"butt\" stroke-width=\"1\"></polyline> </svg> </div> </div></div><div class=\"t-slds__arrow_wrapper t-slds__arrow_wrapper-right\" data-slide-direction=\"right\"> <div class=\"t-slds__arrow t-slds__arrow-right t-slds__arrow-withbg\" style=\"width: 30px; height: 30px;background-color: rgba(255,255,255,1);\"> <div class=\"t-slds__arrow_body t-slds__arrow_body-right\" style=\"width: 7px;\"> <svg style=\"display: block\" viewbox=\"0 0 7.3 13\" xmlns=\"http://www.w3.org/2000/svg\" xmlns:xlink=\"http://www.w3.org/1999/xlink\"> <desc>Right</desc> <polyline fill=\"none\" points=\"0.5,0.5 6.5,6.5 0.5,12.5\" stroke=\"#000000\" stroke-linecap=\"butt\" stroke-linejoin=\"butt\" stroke-width=\"1\"></polyline> </svg> </div> </div></div></div><script type=\"text/javascript\">$(document).ready(function(){ var prodcard_optsObj = { hasWrap: 'true', txtPad: 'sm', bgColor: '#222222', borderRadius: '', shadowSize: '3px', shadowOpacity: '', btnTitle1: '', btnLink1: 'popup', btnTitle2: '', btnLink2: 'popup', showOpts: true }; var price_optsObj = { color: '#ffffff', colorOld: '#d4d4d4', fontSize: '30px', fontWeight: '400' }; var popup_optsObj = { columns: '6', columns2: '6', isVertical: '', align: '', btnTitle: 'Купить', closeText: 'Смотреть еще', iconColor: '#ffffff', containerBgColor: '#0f0f0f', overlayBgColorRgba: 'rgba(15,15,15,1)', popupStat: '' }; var slider_optsObj = { anim_speed: '', videoPlayerIconColor: '', cycle: '', controls: 'arrowsthumbs', bgcolor: '#ebebeb' }; var slider_dotsOptsObj = { size: '', bgcolor: '', bordersize: '', bgcoloractive: '' }; var slider_slidesOptsObj = { zoomable: true, bgsize: 'cover', ratio: '1' }; var typography_optsObj = { title: \"color:#ffffff;font-weight:700;\", descr: \"color:#ffffff;font-size:15px;font-weight:500;\", descrColor: '#ffffff', titleColor: '#ffffff' }; var options = { storepart: '549795342329', previewmode: 'yes', prodCard: prodcard_optsObj, popup_opts: popup_optsObj, slider_opts: slider_optsObj, slider_dotsOpts: slider_dotsOptsObj, slider_slidesOpts: slider_slidesOptsObj, typo: typography_optsObj, price: price_optsObj, blocksInRow: '3', colClass: 't-col t-col_4', sidebar: false, colWidth: '360', colClassFullWidth: 't-col t-col_12', imageHover: true, imageHeight: '300px', imageRatioClass: '', align: 'left', vindent: '', isHorizOnMob:false, itemsAnim: '', hasOriginalAspectRatio: false, size: 36, markColor: '#ffffff', markBgColor: '#f50000', currencySide: 'r', currencyTxt: 'р.', btnSize: '', btn1_style: 'color:#ffffff;border:3px solid #ffffff;background-color:#0f0f0f;border-radius:5px; -moz-border-radius:5px; -webkit-border-radius:5px;', btn2_style: 'color:#ffffff;border:1px solid #cc9c30;border-radius:5px; -moz-border-radius:5px; -webkit-border-radius:5px;', isFlexCols: '', hideStoreParts: false, verticalAlignButtons: false, hideFilters: false, titleRelevants: 'СМОТРИТЕ ТАКЖЕ', showRelevants: '549795342329', relevants_slider: false, relevants_quantity: '4', sliderthumbsside: '', showStoreBtnQuantity: '', }; t_onFuncLoad('t_store_init', function() { t_store_init('215423707', options); });\n",
       "});</script><!-- catalog setup end --><style> #rec215423707 .t-col .t-store__card__wrap_all:hover{ box-shadow: 0px 0px 20px 0px rgba(0, 0, 0, 0.10) !important; }</style></div><div class=\"r t-rec\" data-animationappear=\"off\" data-record-type=\"706\" id=\"rec195388126\" style=\" \"><!--tcart--><script>$(document).ready(function(){ t_onFuncLoad('tcart__init', function() { tcart__init('195388126', '11294c6d-9ebb-4a93-b3be-f7d164af6b63');\t});\t/* hack for Android */ var ua = navigator.userAgent.toLowerCase(); var isAndroid = (ua.indexOf(\"android\") > -1); if(isAndroid && !$('.t-body').hasClass('t-body_scrollable-hack-for-android')) { $('.t-body').addClass('t-body_scrollable-hack-for-android'); $('head').append(\"<style>@media screen and (max-width: 560px) {\\n.t-body_scrollable-hack-for-android {\\noverflow: visible !important;\\n}\\n}\\n</style>\"); console.log('Android css hack was inited'); } /* fix Instagram iPhone keyboard bug */ if(ua.indexOf(\"instagram\") !== -1 && ua.indexOf(\"iphone\") !== -1) { $(\".t-body\").css(\"position\", \"relative\"); } var cartWindow = $(\"#rec195388126 .t706__cartwin\"); var curMode = $(\".t-records\").attr(\"data-tilda-mode\"); if (cartWindow.length && curMode != \"edit\" && curMode != \"preview\") { cartWindow.bind('scroll', t_throttle(function() { if (window.lazy === 'y' || $('#allrecords').attr('data-tilda-lazy') === 'yes') { t_onFuncLoad('t_lazyload_update', function () { t_lazyload_update(); }); } }, 500)) }\n",
       "});</script><div class=\"t706\" data-cart-ver=\"137\" data-opencart-onorder=\"yes\" data-payment-system=\"sberbank\" data-project-currency=\"р.\" data-project-currency-code=\"RUB\" data-project-currency-sep=\",\" data-project-currency-side=\"r\"> <div class=\"t706__carticon t706__carticon_sm\" style=\"\"> <div class=\"t706__carticon-text t-name t-name_xs\">Click to order</div> <div class=\"t706__carticon-wrapper\"> <!--<div class=\"t706__carticon-imgwrap\"><img class=\"t706__carticon-img\" src=\"https://static.tildacdn.com/lib/linea/930cac0f-758b-b7ee-1eb0-b18fc6e10893/ecommerce_bag.svg\"></div>--> <div class=\"t706__carticon-imgwrap\"> <svg class=\"t706__carticon-img\" viewbox=\"0 0 64 64\" xmlns=\"http://www.w3.org/2000/svg\"> <path d=\"M44 18h10v45H10V18h10z\" fill=\"none\" stroke-miterlimit=\"10\" stroke-width=\"2\"></path> <path d=\"M22 24V11c0-5.523 4.477-10 10-10s10 4.477 10 10v13\" fill=\"none\" stroke-miterlimit=\"10\" stroke-width=\"2\"></path> </svg> </div> <div class=\"t706__carticon-counter\"></div> </div> </div> <div class=\"t706__cartwin\"> <div class=\"t706__cartwin-close\"> <div class=\"t706__cartwin-close-wrapper\"> <svg class=\"t706__cartwin-close-icon\" height=\"23px\" version=\"1.1\" viewbox=\"0 0 23 23\" width=\"23px\" xmlns=\"http://www.w3.org/2000/svg\" xmlns:xlink=\"http://www.w3.org/1999/xlink\"> <g fill=\"#fff\" fill-rule=\"evenodd\" stroke=\"none\" stroke-width=\"1\"> <rect height=\"30\" transform=\"translate(11.313708, 11.313708) rotate(-45.000000) translate(-11.313708, -11.313708) \" width=\"2\" x=\"10.3137085\" y=\"-3.6862915\"></rect> <rect height=\"30\" transform=\"translate(11.313708, 11.313708) rotate(-315.000000) translate(-11.313708, -11.313708) \" width=\"2\" x=\"10.3137085\" y=\"-3.6862915\"></rect> </g> </svg> </div> </div> <div class=\"t706__cartwin-content\"> <div class=\"t706__cartwin-top\"> <div class=\"t706__cartwin-heading t-name t-name_xl\">Оплата заказа</div> </div> <div class=\"t706__cartwin-products\"></div> <div class=\"t706__cartwin-bottom\"> <div class=\"t706__cartwin-prodamount-wrap t-descr t-descr_sm\"> <span class=\"t706__cartwin-prodamount-label\">Total: </span><span class=\"t706__cartwin-prodamount\"></span> </div> </div> <div class=\"t706__orderform t-input_nomargin\"> <form action=\"\" class=\"t-form js-form-proccess t-form_inputs-total_4 t-form_bbonly\" data-formactiontype=\"2\" data-formsended-callback=\"t706_onSuccessCallback\" data-inputbox=\".t-input-group\" id=\"form195388126\" method=\"POST\" name=\"form195388126\" role=\"form\"> <input class=\"js-formaction-services\" name=\"formservices[]\" type=\"hidden\" value=\"4036e1b52c178fe1f570f4de36bf48f6\"/> <input class=\"js-formaction-services\" name=\"formservices[]\" type=\"hidden\" value=\"9916f93f1dd751e6d274e53844dcefe1\"/> <div class=\"js-successbox t-form__successbox t-text t-text_md\" style=\"display:none;\"></div> <div class=\"t-form__inputsbox\"> <div class=\"t-input-group t-input-group_nm\" data-input-lid=\"1585427047410\"> <div class=\"t-input-title t-descr t-descr_md\" data-redactor-toolbar=\"no\" field=\"li_title__1585427047410\" style=\"color:#000000;\">Ваше имя</div> <div class=\"t-input-block\"> <input class=\"t-input js-tilda-rule t-input_bbonly\" data-tilda-req=\"1\" data-tilda-rule=\"name\" name=\"Name\" placeholder=\"ФИО\" style=\"color:#000000; border:1px solid #000000; background-color:#e0e0e0; border-radius: 10px; -moz-border-radius: 10px; -webkit-border-radius: 10px;\" type=\"text\" value=\"\"/> <div class=\"t-input-error\"></div> </div> </div> <div class=\"t-input-group t-input-group_ph\" data-input-lid=\"1585427063427\"> <div class=\"t-input-title t-descr t-descr_md\" data-redactor-toolbar=\"no\" field=\"li_title__1585427063427\" style=\"color:#000000;\">Ваш телефон</div> <div class=\"t-input-block\"> <input class=\"t-input js-phonemask-input js-tilda-rule t-input_bbonly\" data-phonemask-id=\"195388126\" data-phonemask-init=\"no\" data-phonemask-lid=\"1585427063427\" data-phonemask-maskcountry=\"RU\" data-tilda-req=\"1\" name=\"Phone\" placeholder=\"+1(999)999-9999\" style=\"color:#000000; border:1px solid #000000; background-color:#e0e0e0; border-radius: 10px; -moz-border-radius: 10px; -webkit-border-radius: 10px;\" type=\"tel\" value=\"\"/> <script type=\"text/javascript\"> if (! document.getElementById('t-phonemask-script')) { (function (d, w, o) { var n=d.getElementsByTagName(o)[0],s=d.createElement(o),f=function(){n.parentNode.insertBefore(s,n);}; s.type = \"text/javascript\"; s.async = true; s.id = 't-phonemask-script'; s.src=\"https://static.tildacdn.com/js/tilda-phone-mask-1.1.min.js\"; if (w.opera==\"[object Opera]\") {d.addEventListener(\"DOMContentLoaded\", f, false);} else { f(); } })(document, window, 'script'); } else { $(document).ready(function(){ if (typeof t_form_phonemask_load == 'function') { t_form_phonemask_load($('#rec195388126 [data-phonemask-lid=1585427063427]')); } }); } </script> <div class=\"t-input-error\"></div> </div> </div> <div class=\"t-input-group t-input-group_em\" data-input-lid=\"1586782113756\"> <div class=\"t-input-title t-descr t-descr_md\" data-redactor-toolbar=\"no\" field=\"li_title__1586782113756\" style=\"color:#000000;\">Ваш email</div> <div class=\"t-input-block\"> <input class=\"t-input js-tilda-rule t-input_bbonly\" data-tilda-req=\"1\" data-tilda-rule=\"email\" name=\"Email\" placeholder=\"kierge@yandex.ru\" style=\"color:#000000; border:1px solid #000000; background-color:#e0e0e0; border-radius: 10px; -moz-border-radius: 10px; -webkit-border-radius: 10px;\" type=\"text\" value=\"\"/> <div class=\"t-input-error\"></div> </div> </div> <div class=\"t-input-group t-input-group_dl\" data-input-lid=\"1588160914208\"> <div class=\"t-input-block\"> <div class=\"t-radio__wrapper t-radio__wrapper-delivery\" data-delivery-free=\"5000\" data-delivery-services=\"y\" data-delivery-variants-hook=\"y\"> <label class=\"t-radio__control t-text t-text_xs\" style=\"color: #000000\"><input class=\"t-radio t-radio_delivery js-tilda-rule\" data-delivery-price=\"\" name=\"DOSTAVKA\" type=\"radio\" value=\"Самовывоз\"/><div class=\"t-radio__indicator\" style=\"border-color:#cc9c30\"></div>Самовывоз</label> <label class=\"t-radio__control t-text t-text_xs\" style=\"color: #000000\"><input class=\"t-radio t-radio_delivery js-tilda-rule\" data-delivery-price=\"\" name=\"DOSTAVKA\" type=\"radio\" value=\"Доставка по городу\"/><div class=\"t-radio__indicator\" style=\"border-color:#cc9c30\"></div>Доставка по городу</label> <style> #rec195388126 .t-radio__indicator:after { background:#cc9c30; } </style> </div> <div class=\"t-input-error\"></div> </div> </div><!--[if IE 8]><style>.t-checkbox__control .t-checkbox, .t-radio__control .t-radio { left: 0px; z-index: 1; opacity: 1;\n",
       "}\n",
       ".t-checkbox__indicator, .t-radio__indicator { display: none;\n",
       "}\n",
       ".t-img-select__control .t-img-select { position: static;\n",
       "}</style><![endif]--><div class=\"t-form__errorbox-middle\"> <div class=\"js-errorbox-all t-form__errorbox-wrapper\" style=\"display:none;\"> <div class=\"t-form__errorbox-text t-text t-text_md\"> <p class=\"t-form__errorbox-item js-rule-error js-rule-error-all\"></p> <p class=\"t-form__errorbox-item js-rule-error js-rule-error-req\"></p> <p class=\"t-form__errorbox-item js-rule-error js-rule-error-email\"></p> <p class=\"t-form__errorbox-item js-rule-error js-rule-error-name\"></p> <p class=\"t-form__errorbox-item js-rule-error js-rule-error-phone\"></p> <p class=\"t-form__errorbox-item js-rule-error js-rule-error-minlength\"></p> <p class=\"t-form__errorbox-item js-rule-error js-rule-error-string\"></p> </div> </div></div> <div class=\"t-form__submit\"> <button class=\"t-submit\" style=\"color:#ffffff;background-color:#cc9c30;border-radius:20px; -moz-border-radius:20px; -webkit-border-radius:20px;\" type=\"submit\">Submit</button> </div> </div> <div class=\"t-form__errorbox-bottom\"> <div class=\"js-errorbox-all t-form__errorbox-wrapper\" style=\"display:none;\"> <div class=\"t-form__errorbox-text t-text t-text_md\"> <p class=\"t-form__errorbox-item js-rule-error js-rule-error-all\"></p> <p class=\"t-form__errorbox-item js-rule-error js-rule-error-req\"></p> <p class=\"t-form__errorbox-item js-rule-error js-rule-error-email\"></p> <p class=\"t-form__errorbox-item js-rule-error js-rule-error-name\"></p> <p class=\"t-form__errorbox-item js-rule-error js-rule-error-phone\"></p> <p class=\"t-form__errorbox-item js-rule-error js-rule-error-minlength\"></p> <p class=\"t-form__errorbox-item js-rule-error js-rule-error-string\"></p> </div> </div> </div> </form><style>#rec195388126 input::-webkit-input-placeholder {color:#000000; opacity: 0.5;}\t#rec195388126 input::-moz-placeholder {color:#000000; opacity: 0.5;}\t#rec195388126 input:-moz-placeholder {color:#000000; opacity: 0.5;}\t#rec195388126 input:-ms-input-placeholder {color:#000000; opacity: 0.5;}\t#rec195388126 textarea::-webkit-input-placeholder {color:#000000; opacity: 0.5;}\t#rec195388126 textarea::-moz-placeholder {color:#000000; opacity: 0.5;}\t#rec195388126 textarea:-moz-placeholder {color:#000000; opacity: 0.5;}\t#rec195388126 textarea:-ms-input-placeholder {color:#000000; opacity: 0.5;}</style> </div> </div> </div> <div class=\"t706__cartdata\"> </div></div><style> .t706 .t-radio__indicator { border-color: #cc9c30 !important; }</style><!--/tcart--></div><div class=\"r t-rec\" data-animationappear=\"off\" data-record-type=\"131\" id=\"rec195388127\" style=\" \"><!-- T123 --><div class=\"t123\"><div class=\"t-container_100\"><div class=\"t-width t-width_100\">\n",
       "<script>\n",
       "$(document).ready(function(){\n",
       "    var link = \"https://static.tildacdn.com/tild3932-3564-4361-b136-383236646534/__.png\";\n",
       "    $(\".t706__carticon-imgwrap\").children().remove();\n",
       "    $(\".t706__carticon-imgwrap\").attr(\"style\", \"background-image: url(\" + link + \");background-size: cover;\")\n",
       "})\n",
       "</script>\n",
       "<style> \n",
       "\t.t706__carticon-imgwrap {\n",
       "\t\tborder-radius: 5px; \n",
       "\t\tbox-shadow: 0 0px 0px 0px rgba(0, 0, 0, 0) !important; \n",
       "\t\tbackground-color: transparent !important; \n",
       "\t\tborder: 0px solid transparent !important; \n",
       "\t}\n",
       "</style>\n",
       "</div> </div></div></div><!--footer--><div class=\"t-records\" data-hook=\"blocks-collection-content-node\" data-tilda-formskey=\"9747a7e5f44418127f4e9e0ecdb59b8c\" data-tilda-lazy=\"yes\" data-tilda-page-id=\"15321928\" data-tilda-project-id=\"2226271\" id=\"t-footer\"><div class=\"r t-rec\" data-animationappear=\"off\" data-record-type=\"396\" id=\"rec251432239\" style=\" \"><!-- T396 --><style>#rec251432239 .t396__artboard{height: 390px;background-color: #000000;}#rec251432239 .t396__filter{height: 390px;}#rec251432239 .t396__carrier{height: 390px;background-position: center center;background-attachment: scroll;background-size:cover;background-repeat:no-repeat;}@media screen and (max-width: 1199px){#rec251432239 .t396__artboard{}#rec251432239 .t396__filter{}#rec251432239 .t396__carrier{background-attachment:scroll;}}@media screen and (max-width: 959px){#rec251432239 .t396__artboard{height: 200px;}#rec251432239 .t396__filter{height: 200px;}#rec251432239 .t396__carrier{height: 200px;}}@media screen and (max-width: 639px){}@media screen and (max-width: 479px){#rec251432239 .t396__artboard{height: 160px;}#rec251432239 .t396__filter{height: 160px;}#rec251432239 .t396__carrier{height: 160px;}}#rec251432239 .tn-elem[data-elem-id=\"1605693910553\"]{color:#b3b3b3;z-index:15;top: 105px;left: calc(50% - 600px + 680px);width:110px;}#rec251432239 .tn-elem[data-elem-id=\"1605693910553\"] .tn-atom{color:#b3b3b3;font-size:18px;font-family:'CenturyGothic',Arial,sans-serif;line-height:1.55;font-weight:400;background-position:center center;border-color:transparent;border-style:solid;}@media screen and (max-width: 1199px){#rec251432239 .tn-elem[data-elem-id=\"1605693910553\"]{top: 105px;left: calc(50% - 480px + 557px);}}@media screen and (max-width: 959px){#rec251432239 .tn-elem[data-elem-id=\"1605693910553\"]{top: -190px;left: calc(50% - 320px + 220px);}}@media screen and (max-width: 639px){}@media screen and (max-width: 479px){}#rec251432239 .tn-elem[data-elem-id=\"1605693910556\"]{color:#b3b3b3;z-index:16;top: 145px;left: calc(50% - 600px + 680px);width:110px;}#rec251432239 .tn-elem[data-elem-id=\"1605693910556\"] .tn-atom{color:#b3b3b3;font-size:18px;font-family:'CenturyGothic',Arial,sans-serif;line-height:1.55;font-weight:400;background-position:center center;border-color:transparent;border-style:solid;}@media screen and (max-width: 1199px){#rec251432239 .tn-elem[data-elem-id=\"1605693910556\"]{top: 145px;left: calc(50% - 480px + 557px);}}@media screen and (max-width: 959px){#rec251432239 .tn-elem[data-elem-id=\"1605693910556\"]{top: -150px;left: calc(50% - 320px + 220px);}}@media screen and (max-width: 639px){}@media screen and (max-width: 479px){}#rec251432239 .tn-elem[data-elem-id=\"1605693933246\"]{color:#ffffff;z-index:17;top: 65px;left: calc(50% - 600px + 82px);width:110px;}#rec251432239 .tn-elem[data-elem-id=\"1605693933246\"] .tn-atom{color:#ffffff;font-size:18px;font-family:'CenturyGothic',Arial,sans-serif;line-height:1.55;font-weight:700;background-position:center center;border-color:transparent;border-style:solid;}@media screen and (max-width: 1199px){#rec251432239 .tn-elem[data-elem-id=\"1605693933246\"]{top: 65px;left: calc(50% - 480px + 12px);}}@media screen and (max-width: 959px){#rec251432239 .tn-elem[data-elem-id=\"1605693933246\"]{top: 25px;left: calc(50% - 320px + 10px);}}@media screen and (max-width: 639px){#rec251432239 .tn-elem[data-elem-id=\"1605693933246\"]{top: -205px;left: calc(50% - 240px + -50px);}}@media screen and (max-width: 479px){}#rec251432239 .tn-elem[data-elem-id=\"1605693955549\"]{color:#b3b3b3;z-index:18;top: 105px;left: calc(50% - 600px + 82px);width:180px;}#rec251432239 .tn-elem[data-elem-id=\"1605693955549\"] .tn-atom{color:#b3b3b3;font-size:18px;font-family:'CenturyGothic',Arial,sans-serif;line-height:1;font-weight:400;background-position:center center;border-color:transparent;border-style:solid;}@media screen and (max-width: 1199px){#rec251432239 .tn-elem[data-elem-id=\"1605693955549\"]{top: 105px;left: calc(50% - 480px + 12px);}}@media screen and (max-width: 959px){#rec251432239 .tn-elem[data-elem-id=\"1605693955549\"]{top: 65px;left: calc(50% - 320px + 10px);}}@media screen and (max-width: 639px){#rec251432239 .tn-elem[data-elem-id=\"1605693955549\"]{top: -285px;left: calc(50% - 240px + -260px);}}@media screen and (max-width: 479px){}#rec251432239 .tn-elem[data-elem-id=\"1605694074711\"]{z-index:19;top: 140px;left: calc(50% - 600px + 830px);width:290px;}#rec251432239 .tn-elem[data-elem-id=\"1605694074711\"] .tn-atom{background-position:center center;border-color:transparent;border-style:solid;}@media screen and (max-width: 1199px){#rec251432239 .tn-elem[data-elem-id=\"1605694074711\"]{top: 140px;left: calc(50% - 480px + 661px);}}@media screen and (max-width: 959px){#rec251432239 .tn-elem[data-elem-id=\"1605694074711\"]{top: 30px;left: calc(50% - 320px + 200px);width:230px;}}@media screen and (max-width: 639px){#rec251432239 .tn-elem[data-elem-id=\"1605694074711\"]{top: 15px;left: calc(50% - 240px + 50px);}}@media screen and (max-width: 479px){#rec251432239 .tn-elem[data-elem-id=\"1605694074711\"]{top: 20px;left: calc(50% - 160px + 50px);}}#rec251432239 .tn-elem[data-elem-id=\"1605694103846\"]{color:#ffffff;z-index:20;top: 65px;left: calc(50% - 600px + 961px);width:170px;}#rec251432239 .tn-elem[data-elem-id=\"1605694103846\"] .tn-atom{color:#ffffff;font-size:20px;font-family:'CenturyGothic',Arial,sans-serif;line-height:1.55;font-weight:400;background-position:center center;border-color:transparent;border-style:solid;}@media screen and (max-width: 1199px){#rec251432239 .tn-elem[data-elem-id=\"1605694103846\"]{top: 65px;left: calc(50% - 480px + 792px);}}@media screen and (max-width: 959px){#rec251432239 .tn-elem[data-elem-id=\"1605694103846\"]{top: 20px;left: calc(50% - 320px + 470px);}}@media screen and (max-width: 639px){#rec251432239 .tn-elem[data-elem-id=\"1605694103846\"]{top: 20px;left: calc(50% - 240px + 300px);}}@media screen and (max-width: 479px){#rec251432239 .tn-elem[data-elem-id=\"1605694103846\"]{top: -90px;left: calc(50% - 160px + 190px);}#rec251432239 .tn-elem[data-elem-id=\"1605694103846\"] .tn-atom{font-size:16px;}}#rec251432239 .tn-elem[data-elem-id=\"1605694474931\"]{color:#000000;z-index:21;top: -90px;left: calc(50% - 600px + 120px);width:560px;}#rec251432239 .tn-elem[data-elem-id=\"1605694474931\"] .tn-atom{color:#000000;font-size:20px;font-family:'CenturyGothic',Arial,sans-serif;line-height:1.55;font-weight:400;background-position:center center;border-color:transparent;border-style:solid;}@media screen and (max-width: 1199px){}@media screen and (max-width: 959px){}@media screen and (max-width: 639px){}@media screen and (max-width: 479px){}#rec251432239 .tn-elem[data-elem-id=\"1605694524070\"]{color:#b3b3b3;z-index:22;top: 360px;left: calc(50% - 600px + 440px);width:330px;}#rec251432239 .tn-elem[data-elem-id=\"1605694524070\"] .tn-atom{color:#b3b3b3;font-size:12px;font-family:'CenturyGothic',Arial,sans-serif;line-height:1.55;font-weight:400;background-position:center center;border-color:transparent;border-style:solid;}@media screen and (max-width: 1199px){#rec251432239 .tn-elem[data-elem-id=\"1605694524070\"]{top: 360px;left: calc(50% - 480px + 322px);}}@media screen and (max-width: 959px){#rec251432239 .tn-elem[data-elem-id=\"1605694524070\"]{top: 170px;left: calc(50% - 320px + 160px);}}@media screen and (max-width: 639px){#rec251432239 .tn-elem[data-elem-id=\"1605694524070\"]{top: 135px;left: calc(50% - 240px + 90px);}}@media screen and (max-width: 479px){#rec251432239 .tn-elem[data-elem-id=\"1605694524070\"]{top: 135px;left: calc(50% - 160px + 30px);}#rec251432239 .tn-elem[data-elem-id=\"1605694524070\"] .tn-atom{font-size:10px;}}#rec251432239 .tn-elem[data-elem-id=\"1605847006996\"]{z-index:23;top: 200px;left: calc(50% - 600px + 80px);width:30px;}#rec251432239 .tn-elem[data-elem-id=\"1605847006996\"] .tn-atom{background-position:center center;border-color:transparent;border-style:solid;}@media screen and (max-width: 1199px){#rec251432239 .tn-elem[data-elem-id=\"1605847006996\"]{top: 200px;left: calc(50% - 480px + 10px);}}@media screen and (max-width: 959px){#rec251432239 .tn-elem[data-elem-id=\"1605847006996\"]{top: 70px;left: calc(50% - 320px + 470px);}}@media screen and (max-width: 639px){#rec251432239 .tn-elem[data-elem-id=\"1605847006996\"]{top: 55px;left: calc(50% - 240px + 430px);}}@media screen and (max-width: 479px){#rec251432239 .tn-elem[data-elem-id=\"1605847006996\"]{top: -95px;left: calc(50% - 160px + 460px);}}#rec251432239 .tn-elem[data-elem-id=\"1605847068502\"]{z-index:24;top: 195px;left: calc(50% - 600px + 120px);width:40px;}#rec251432239 .tn-elem[data-elem-id=\"1605847068502\"] .tn-atom{background-position:center center;border-color:transparent;border-style:solid;}@media screen and (max-width: 1199px){#rec251432239 .tn-elem[data-elem-id=\"1605847068502\"]{top: 195px;left: calc(50% - 480px + 50px);}}@media screen and (max-width: 959px){#rec251432239 .tn-elem[data-elem-id=\"1605847068502\"]{top: 65px;left: calc(50% - 320px + 550px);}}@media screen and (max-width: 639px){#rec251432239 .tn-elem[data-elem-id=\"1605847068502\"]{top: 50px;left: calc(50% - 240px + 370px);}}@media screen and (max-width: 479px){#rec251432239 .tn-elem[data-elem-id=\"1605847068502\"]{top: -100px;left: calc(50% - 160px + 400px);}}#rec251432239 .tn-elem[data-elem-id=\"1605847120960\"]{z-index:25;top: 67px;left: calc(50% - 600px + 914px);width:30px;}#rec251432239 .tn-elem[data-elem-id=\"1605847120960\"] .tn-atom{background-position:center center;border-color:transparent;border-style:solid;}@media screen and (max-width: 1199px){#rec251432239 .tn-elem[data-elem-id=\"1605847120960\"]{top: 67px;left: calc(50% - 480px + 745px);}}@media screen and (max-width: 959px){#rec251432239 .tn-elem[data-elem-id=\"1605847120960\"]{top: -160px;left: calc(50% - 320px + 510px);}}@media screen and (max-width: 639px){#rec251432239 .tn-elem[data-elem-id=\"1605847120960\"]{top: -240px;left: calc(50% - 240px + 520px);}}@media screen and (max-width: 479px){}#rec251432239 .tn-elem[data-elem-id=\"1605693910517\"]{color:#b3b3b3;z-index:4;top: 105px;left: calc(50% - 600px + 300px);width:110px;}#rec251432239 .tn-elem[data-elem-id=\"1605693910517\"] .tn-atom{color:#b3b3b3;font-size:18px;font-family:'CenturyGothic',Arial,sans-serif;line-height:1.55;font-weight:400;background-position:center center;border-color:transparent;border-style:solid;}@media screen and (max-width: 1199px){#rec251432239 .tn-elem[data-elem-id=\"1605693910517\"]{top: 105px;left: calc(50% - 480px + 212px);}}@media screen and (max-width: 959px){#rec251432239 .tn-elem[data-elem-id=\"1605693910517\"]{top: -405px;left: calc(50% - 320px + 158px);}}@media screen and (max-width: 639px){}@media screen and (max-width: 479px){}#rec251432239 .tn-elem[data-elem-id=\"1605693910521\"]{color:#b3b3b3;z-index:5;top: 145px;left: calc(50% - 600px + 300px);width:110px;}#rec251432239 .tn-elem[data-elem-id=\"1605693910521\"] .tn-atom{color:#b3b3b3;font-size:18px;font-family:'CenturyGothic',Arial,sans-serif;line-height:1.55;font-weight:400;background-position:center center;border-color:transparent;border-style:solid;}@media screen and (max-width: 1199px){#rec251432239 .tn-elem[data-elem-id=\"1605693910521\"]{top: 145px;left: calc(50% - 480px + 212px);}}@media screen and (max-width: 959px){#rec251432239 .tn-elem[data-elem-id=\"1605693910521\"]{top: -365px;left: calc(50% - 320px + 158px);}}@media screen and (max-width: 639px){}@media screen and (max-width: 479px){}#rec251432239 .tn-elem[data-elem-id=\"1605693910524\"]{color:#b3b3b3;z-index:6;top: 185px;left: calc(50% - 600px + 300px);width:110px;}#rec251432239 .tn-elem[data-elem-id=\"1605693910524\"] .tn-atom{color:#b3b3b3;font-size:18px;font-family:'CenturyGothic',Arial,sans-serif;line-height:1.55;font-weight:400;background-position:center center;border-color:transparent;border-style:solid;}@media screen and (max-width: 1199px){#rec251432239 .tn-elem[data-elem-id=\"1605693910524\"]{top: 185px;left: calc(50% - 480px + 212px);}}@media screen and (max-width: 959px){#rec251432239 .tn-elem[data-elem-id=\"1605693910524\"]{top: -325px;left: calc(50% - 320px + 158px);}}@media screen and (max-width: 639px){}@media screen and (max-width: 479px){}#rec251432239 .tn-elem[data-elem-id=\"1605693910528\"]{color:#b3b3b3;z-index:7;top: 225px;left: calc(50% - 600px + 300px);width:110px;}#rec251432239 .tn-elem[data-elem-id=\"1605693910528\"] .tn-atom{color:#b3b3b3;font-size:18px;font-family:'CenturyGothic',Arial,sans-serif;line-height:1.55;font-weight:400;background-position:center center;border-color:transparent;border-style:solid;}@media screen and (max-width: 1199px){#rec251432239 .tn-elem[data-elem-id=\"1605693910528\"]{top: 225px;left: calc(50% - 480px + 212px);}}@media screen and (max-width: 959px){#rec251432239 .tn-elem[data-elem-id=\"1605693910528\"]{top: -285px;left: calc(50% - 320px + 158px);}}@media screen and (max-width: 639px){}@media screen and (max-width: 479px){}#rec251432239 .tn-elem[data-elem-id=\"1605693910532\"]{color:#b3b3b3;z-index:8;top: 265px;left: calc(50% - 600px + 300px);width:110px;}#rec251432239 .tn-elem[data-elem-id=\"1605693910532\"] .tn-atom{color:#b3b3b3;font-size:18px;font-family:'CenturyGothic',Arial,sans-serif;line-height:1.55;font-weight:400;background-position:center center;border-color:transparent;border-style:solid;}@media screen and (max-width: 1199px){#rec251432239 .tn-elem[data-elem-id=\"1605693910532\"]{top: 265px;left: calc(50% - 480px + 212px);}}@media screen and (max-width: 959px){#rec251432239 .tn-elem[data-elem-id=\"1605693910532\"]{top: -245px;left: calc(50% - 320px + 158px);}}@media screen and (max-width: 639px){}@media screen and (max-width: 479px){}#rec251432239 .tn-elem[data-elem-id=\"1605693910537\"]{color:#b3b3b3;z-index:9;top: 105px;left: calc(50% - 600px + 490px);width:110px;}#rec251432239 .tn-elem[data-elem-id=\"1605693910537\"] .tn-atom{color:#b3b3b3;font-size:18px;font-family:'CenturyGothic',Arial,sans-serif;line-height:1.55;font-weight:400;background-position:center center;border-color:transparent;border-style:solid;}@media screen and (max-width: 1199px){#rec251432239 .tn-elem[data-elem-id=\"1605693910537\"]{top: 105px;left: calc(50% - 480px + 384px);}}@media screen and (max-width: 959px){#rec251432239 .tn-elem[data-elem-id=\"1605693910537\"]{top: -405px;left: calc(50% - 320px + 330px);}}@media screen and (max-width: 639px){}@media screen and (max-width: 479px){}#rec251432239 .tn-elem[data-elem-id=\"1605693910539\"]{color:#b3b3b3;z-index:10;top: 145px;left: calc(50% - 600px + 490px);width:110px;}#rec251432239 .tn-elem[data-elem-id=\"1605693910539\"] .tn-atom{color:#b3b3b3;font-size:18px;font-family:'CenturyGothic',Arial,sans-serif;line-height:1.55;font-weight:400;background-position:center center;border-color:transparent;border-style:solid;}@media screen and (max-width: 1199px){#rec251432239 .tn-elem[data-elem-id=\"1605693910539\"]{top: 145px;left: calc(50% - 480px + 384px);}}@media screen and (max-width: 959px){#rec251432239 .tn-elem[data-elem-id=\"1605693910539\"]{top: -365px;left: calc(50% - 320px + 330px);}}@media screen and (max-width: 639px){}@media screen and (max-width: 479px){}#rec251432239 .tn-elem[data-elem-id=\"1605693910542\"]{color:#b3b3b3;z-index:11;top: 185px;left: calc(50% - 600px + 490px);width:110px;}#rec251432239 .tn-elem[data-elem-id=\"1605693910542\"] .tn-atom{color:#b3b3b3;font-size:18px;font-family:'CenturyGothic',Arial,sans-serif;line-height:1.55;font-weight:400;background-position:center center;border-color:transparent;border-style:solid;}@media screen and (max-width: 1199px){#rec251432239 .tn-elem[data-elem-id=\"1605693910542\"]{top: 185px;left: calc(50% - 480px + 384px);}}@media screen and (max-width: 959px){#rec251432239 .tn-elem[data-elem-id=\"1605693910542\"]{top: -325px;left: calc(50% - 320px + 330px);}}@media screen and (max-width: 639px){}@media screen and (max-width: 479px){}#rec251432239 .tn-elem[data-elem-id=\"1605693910545\"]{color:#b3b3b3;z-index:12;top: 225px;left: calc(50% - 600px + 490px);width:110px;}#rec251432239 .tn-elem[data-elem-id=\"1605693910545\"] .tn-atom{color:#b3b3b3;font-size:18px;font-family:'CenturyGothic',Arial,sans-serif;line-height:1.55;font-weight:400;background-position:center center;border-color:transparent;border-style:solid;}@media screen and (max-width: 1199px){#rec251432239 .tn-elem[data-elem-id=\"1605693910545\"]{top: 225px;left: calc(50% - 480px + 384px);}}@media screen and (max-width: 959px){#rec251432239 .tn-elem[data-elem-id=\"1605693910545\"]{top: -285px;left: calc(50% - 320px + 330px);}}@media screen and (max-width: 639px){}@media screen and (max-width: 479px){}#rec251432239 .tn-elem[data-elem-id=\"1605693910547\"]{color:#b3b3b3;z-index:13;top: 265px;left: calc(50% - 600px + 490px);width:110px;}#rec251432239 .tn-elem[data-elem-id=\"1605693910547\"] .tn-atom{color:#b3b3b3;font-size:18px;font-family:'CenturyGothic',Arial,sans-serif;line-height:1.55;font-weight:400;background-position:center center;border-color:transparent;border-style:solid;}@media screen and (max-width: 1199px){#rec251432239 .tn-elem[data-elem-id=\"1605693910547\"]{top: 265px;left: calc(50% - 480px + 384px);}}@media screen and (max-width: 959px){#rec251432239 .tn-elem[data-elem-id=\"1605693910547\"]{top: -245px;left: calc(50% - 320px + 330px);}}@media screen and (max-width: 639px){}@media screen and (max-width: 479px){}#rec251432239 .tn-elem[data-elem-id=\"1605693910550\"]{color:#b3b3b3;z-index:14;top: 305px;left: calc(50% - 600px + 490px);width:110px;}#rec251432239 .tn-elem[data-elem-id=\"1605693910550\"] .tn-atom{color:#b3b3b3;font-size:18px;font-family:'CenturyGothic',Arial,sans-serif;line-height:1.55;font-weight:400;background-position:center center;border-color:transparent;border-style:solid;}@media screen and (max-width: 1199px){#rec251432239 .tn-elem[data-elem-id=\"1605693910550\"]{top: 305px;left: calc(50% - 480px + 384px);}}@media screen and (max-width: 959px){#rec251432239 .tn-elem[data-elem-id=\"1605693910550\"]{top: -205px;left: calc(50% - 320px + 330px);}}@media screen and (max-width: 639px){}@media screen and (max-width: 479px){}#rec251432239 .tn-elem[data-elem-id=\"1605693910507\"]{color:#ffffff;z-index:1;top: 65px;left: calc(50% - 600px + 300px);width:110px;}#rec251432239 .tn-elem[data-elem-id=\"1605693910507\"] .tn-atom{color:#ffffff;font-size:18px;font-family:'CenturyGothic',Arial,sans-serif;line-height:1.55;font-weight:700;background-position:center center;border-color:transparent;border-style:solid;}@media screen and (max-width: 1199px){#rec251432239 .tn-elem[data-elem-id=\"1605693910507\"]{top: 65px;left: calc(50% - 480px + 212px);}}@media screen and (max-width: 959px){#rec251432239 .tn-elem[data-elem-id=\"1605693910507\"]{top: -411px;left: calc(50% - 320px + 10px);}}@media screen and (max-width: 639px){}@media screen and (max-width: 479px){}#rec251432239 .tn-elem[data-elem-id=\"1605693910511\"]{color:#ffffff;z-index:2;top: 65px;left: calc(50% - 600px + 490px);width:110px;}#rec251432239 .tn-elem[data-elem-id=\"1605693910511\"] .tn-atom{color:#ffffff;font-size:18px;font-family:'CenturyGothic',Arial,sans-serif;line-height:1.55;font-weight:700;background-position:center center;border-color:transparent;border-style:solid;}@media screen and (max-width: 1199px){#rec251432239 .tn-elem[data-elem-id=\"1605693910511\"]{top: 65px;left: calc(50% - 480px + 384px);}}@media screen and (max-width: 959px){#rec251432239 .tn-elem[data-elem-id=\"1605693910511\"]{top: -365px;left: calc(50% - 320px + 10px);}}@media screen and (max-width: 639px){}@media screen and (max-width: 479px){}#rec251432239 .tn-elem[data-elem-id=\"1605693910514\"]{color:#ffffff;z-index:3;top: 65px;left: calc(50% - 600px + 680px);width:110px;}#rec251432239 .tn-elem[data-elem-id=\"1605693910514\"] .tn-atom{color:#ffffff;font-size:18px;font-family:'CenturyGothic',Arial,sans-serif;line-height:1.55;font-weight:700;background-position:center center;border-color:transparent;border-style:solid;}@media screen and (max-width: 1199px){#rec251432239 .tn-elem[data-elem-id=\"1605693910514\"]{top: 65px;left: calc(50% - 480px + 557px);}}@media screen and (max-width: 959px){#rec251432239 .tn-elem[data-elem-id=\"1605693910514\"]{top: -319px;left: calc(50% - 320px + 10px);}}@media screen and (max-width: 639px){}@media screen and (max-width: 479px){}</style> <div class=\"t396\"><div class=\"t396__artboard\" data-artboard-height=\"390\" data-artboard-height-res-320=\"160\" data-artboard-height-res-640=\"200\" data-artboard-height_vh=\"\" data-artboard-ovrflw=\"\" data-artboard-recid=\"251432239\" data-artboard-valign=\"center\"> <div class=\"t396__carrier\" data-artboard-recid=\"251432239\"></div> <div class=\"t396__filter\" data-artboard-recid=\"251432239\"></div> <div class=\"t396__elem tn-elem tn-elem__2514322391605693910553\" data-elem-id=\"1605693910553\" data-elem-type=\"text\" data-field-axisx-value=\"left\" data-field-axisy-value=\"top\" data-field-container-value=\"grid\" data-field-heightunits-value=\"\" data-field-left-res-640-value=\"220\" data-field-left-res-960-value=\"557\" data-field-left-value=\"680\" data-field-leftunits-value=\"px\" data-field-top-res-640-value=\"-190\" data-field-top-res-960-value=\"105\" data-field-top-value=\"105\" data-field-topunits-value=\"px\" data-field-width-value=\"110\" data-field-widthunits-value=\"px\"> <a class=\"tn-atom\" href=\"/detskie\">Подвески</a> </div> <div class=\"t396__elem tn-elem tn-elem__2514322391605693910556\" data-elem-id=\"1605693910556\" data-elem-type=\"text\" data-field-axisx-value=\"left\" data-field-axisy-value=\"top\" data-field-container-value=\"grid\" data-field-heightunits-value=\"\" data-field-left-res-640-value=\"220\" data-field-left-res-960-value=\"557\" data-field-left-value=\"680\" data-field-leftunits-value=\"px\" data-field-top-res-640-value=\"-150\" data-field-top-res-960-value=\"145\" data-field-top-value=\"145\" data-field-topunits-value=\"px\" data-field-width-value=\"110\" data-field-widthunits-value=\"px\"> <a class=\"tn-atom\" href=\"/detskie-pusetu\">Пуссеты<br/></a> </div> <div class=\"t396__elem tn-elem tn-elem__2514322391605693933246\" data-elem-id=\"1605693933246\" data-elem-type=\"text\" data-field-axisx-value=\"left\" data-field-axisy-value=\"top\" data-field-container-value=\"grid\" data-field-heightunits-value=\"\" data-field-left-res-480-value=\"-50\" data-field-left-res-640-value=\"10\" data-field-left-res-960-value=\"12\" data-field-left-value=\"82\" data-field-leftunits-value=\"px\" data-field-top-res-480-value=\"-205\" data-field-top-res-640-value=\"25\" data-field-top-res-960-value=\"65\" data-field-top-value=\"65\" data-field-topunits-value=\"px\" data-field-width-value=\"110\" data-field-widthunits-value=\"px\"> <div class=\"tn-atom\" field=\"tn_text_1605693933246\">ГДЕ КУПИТЬ</div> </div> <div class=\"t396__elem tn-elem tn-elem__2514322391605693955549\" data-elem-id=\"1605693955549\" data-elem-type=\"text\" data-field-axisx-value=\"left\" data-field-axisy-value=\"top\" data-field-container-value=\"grid\" data-field-heightunits-value=\"\" data-field-left-res-480-value=\"-260\" data-field-left-res-640-value=\"10\" data-field-left-res-960-value=\"12\" data-field-left-value=\"82\" data-field-leftunits-value=\"px\" data-field-top-res-480-value=\"-285\" data-field-top-res-640-value=\"65\" data-field-top-res-960-value=\"105\" data-field-top-value=\"105\" data-field-topunits-value=\"px\" data-field-width-value=\"180\" data-field-widthunits-value=\"px\"> <div class=\"tn-atom\" field=\"tn_text_1605693955549\">АДРЕС МАГАЗИНА<br/><br/>г. Якутск<br/>ул. Ленина, д. 9/2</div> </div> <div class=\"t396__elem tn-elem tn-elem__2514322391605694074711\" data-elem-id=\"1605694074711\" data-elem-type=\"image\" data-field-axisx-value=\"left\" data-field-axisy-value=\"top\" data-field-container-value=\"grid\" data-field-heightunits-value=\"\" data-field-left-res-320-value=\"50\" data-field-left-res-480-value=\"50\" data-field-left-res-640-value=\"200\" data-field-left-res-960-value=\"661\" data-field-left-value=\"830\" data-field-leftunits-value=\"px\" data-field-top-res-320-value=\"20\" data-field-top-res-480-value=\"15\" data-field-top-res-640-value=\"30\" data-field-top-res-960-value=\"140\" data-field-top-value=\"140\" data-field-topunits-value=\"px\" data-field-width-res-640-value=\"230\" data-field-width-value=\"290\" data-field-widthunits-value=\"px\"> <a class=\"tn-atom\" href=\"/\"> <img class=\"tn-atom__img t-img\" data-original=\"https://static.tildacdn.com/tild3964-6233-4963-a433-353739346232/LOGO.png\" imgfield=\"tn_img_1605694074711\"/> </a> </div> <div class=\"t396__elem tn-elem tn-elem__2514322391605694103846\" data-elem-id=\"1605694103846\" data-elem-type=\"text\" data-field-axisx-value=\"left\" data-field-axisy-value=\"top\" data-field-container-value=\"grid\" data-field-heightunits-value=\"\" data-field-left-res-320-value=\"190\" data-field-left-res-480-value=\"300\" data-field-left-res-640-value=\"470\" data-field-left-res-960-value=\"792\" data-field-left-value=\"961\" data-field-leftunits-value=\"px\" data-field-top-res-320-value=\"-90\" data-field-top-res-480-value=\"20\" data-field-top-res-640-value=\"20\" data-field-top-res-960-value=\"65\" data-field-top-value=\"65\" data-field-topunits-value=\"px\" data-field-width-value=\"170\" data-field-widthunits-value=\"px\"> <div class=\"tn-atom\" field=\"tn_text_1605694103846\">8 (914) 300 80 90</div> </div> <div class=\"t396__elem tn-elem tn-elem__2514322391605694474931\" data-elem-id=\"1605694474931\" data-elem-type=\"text\" data-field-axisx-value=\"left\" data-field-axisy-value=\"top\" data-field-container-value=\"grid\" data-field-heightunits-value=\"\" data-field-left-value=\"120\" data-field-leftunits-value=\"px\" data-field-top-value=\"-90\" data-field-topunits-value=\"px\" data-field-width-value=\"560\" data-field-widthunits-value=\"px\"> <div class=\"tn-atom\" field=\"tn_text_1605694474931\"></div> </div> <div class=\"t396__elem tn-elem tn-elem__2514322391605694524070\" data-elem-id=\"1605694524070\" data-elem-type=\"text\" data-field-axisx-value=\"left\" data-field-axisy-value=\"top\" data-field-container-value=\"grid\" data-field-heightunits-value=\"\" data-field-left-res-320-value=\"30\" data-field-left-res-480-value=\"90\" data-field-left-res-640-value=\"160\" data-field-left-res-960-value=\"322\" data-field-left-value=\"440\" data-field-leftunits-value=\"px\" data-field-top-res-320-value=\"135\" data-field-top-res-480-value=\"135\" data-field-top-res-640-value=\"170\" data-field-top-res-960-value=\"360\" data-field-top-value=\"360\" data-field-topunits-value=\"px\" data-field-width-value=\"330\" data-field-widthunits-value=\"px\"> <div class=\"tn-atom\" field=\"tn_text_1605694524070\">© 1993-2020, ООО \"КИЭРГЭ\". ВСЕ ПРАВА ЗАЩИЩЕНЫ.</div> </div> <div class=\"t396__elem tn-elem tn-elem__2514322391605847006996\" data-elem-id=\"1605847006996\" data-elem-type=\"image\" data-field-axisx-value=\"left\" data-field-axisy-value=\"top\" data-field-container-value=\"grid\" data-field-heightunits-value=\"\" data-field-left-res-320-value=\"460\" data-field-left-res-480-value=\"430\" data-field-left-res-640-value=\"470\" data-field-left-res-960-value=\"10\" data-field-left-value=\"80\" data-field-leftunits-value=\"px\" data-field-top-res-320-value=\"-95\" data-field-top-res-480-value=\"55\" data-field-top-res-640-value=\"70\" data-field-top-res-960-value=\"200\" data-field-top-value=\"200\" data-field-topunits-value=\"px\" data-field-width-value=\"30\" data-field-widthunits-value=\"px\"> <a class=\"tn-atom\" href=\"https://www.instagram.com/kierge/\"> <img class=\"tn-atom__img t-img\" data-original=\"https://static.tildacdn.com/tild3861-3664-4734-b235-383634353064/instagram.png\" imgfield=\"tn_img_1605847006996\"/> </a> </div> <div class=\"t396__elem tn-elem tn-elem__2514322391605847068502\" data-elem-id=\"1605847068502\" data-elem-type=\"image\" data-field-axisx-value=\"left\" data-field-axisy-value=\"top\" data-field-container-value=\"grid\" data-field-heightunits-value=\"\" data-field-left-res-320-value=\"400\" data-field-left-res-480-value=\"370\" data-field-left-res-640-value=\"550\" data-field-left-res-960-value=\"50\" data-field-left-value=\"120\" data-field-leftunits-value=\"px\" data-field-top-res-320-value=\"-100\" data-field-top-res-480-value=\"50\" data-field-top-res-640-value=\"65\" data-field-top-res-960-value=\"195\" data-field-top-value=\"195\" data-field-topunits-value=\"px\" data-field-width-value=\"40\" data-field-widthunits-value=\"px\"> <a class=\"tn-atom\" href=\"https://www.youtube.com/channel/UCa6nMgP8ILAsIShpDhqmQYg\"> <img class=\"tn-atom__img t-img\" data-original=\"https://static.tildacdn.com/tild3730-3964-4063-b836-333938373139/youtube.png\" imgfield=\"tn_img_1605847068502\"/> </a> </div> <div class=\"t396__elem tn-elem tn-elem__2514322391605847120960\" data-elem-id=\"1605847120960\" data-elem-type=\"image\" data-field-axisx-value=\"left\" data-field-axisy-value=\"top\" data-field-container-value=\"grid\" data-field-heightunits-value=\"\" data-field-left-res-480-value=\"520\" data-field-left-res-640-value=\"510\" data-field-left-res-960-value=\"745\" data-field-left-value=\"914\" data-field-leftunits-value=\"px\" data-field-top-res-480-value=\"-240\" data-field-top-res-640-value=\"-160\" data-field-top-res-960-value=\"67\" data-field-top-value=\"67\" data-field-topunits-value=\"px\" data-field-width-value=\"30\" data-field-widthunits-value=\"px\"> <div class=\"tn-atom\"> <img class=\"tn-atom__img t-img\" data-original=\"https://static.tildacdn.com/tild3935-3234-4433-a465-663836333666/phone-call.png\" imgfield=\"tn_img_1605847120960\"/> </div> </div> <div class=\"t396__elem tn-elem tn-elem__2514322391605693910517\" data-elem-id=\"1605693910517\" data-elem-type=\"text\" data-field-axisx-value=\"left\" data-field-axisy-value=\"top\" data-field-container-value=\"grid\" data-field-heightunits-value=\"\" data-field-left-res-640-value=\"158\" data-field-left-res-960-value=\"212\" data-field-left-value=\"300\" data-field-leftunits-value=\"px\" data-field-top-res-640-value=\"-405\" data-field-top-res-960-value=\"105\" data-field-top-value=\"105\" data-field-topunits-value=\"px\" data-field-width-value=\"110\" data-field-widthunits-value=\"px\"> <a class=\"tn-atom\" href=\"/zhenskie\">Кольца</a> </div> <div class=\"t396__elem tn-elem tn-elem__2514322391605693910521\" data-elem-id=\"1605693910521\" data-elem-type=\"text\" data-field-axisx-value=\"left\" data-field-axisy-value=\"top\" data-field-container-value=\"grid\" data-field-heightunits-value=\"\" data-field-left-res-640-value=\"158\" data-field-left-res-960-value=\"212\" data-field-left-value=\"300\" data-field-leftunits-value=\"px\" data-field-top-res-640-value=\"-365\" data-field-top-res-960-value=\"145\" data-field-top-value=\"145\" data-field-topunits-value=\"px\" data-field-width-value=\"110\" data-field-widthunits-value=\"px\"> <a class=\"tn-atom\" href=\"/sergi\">Серьги</a> </div> <div class=\"t396__elem tn-elem tn-elem__2514322391605693910524\" data-elem-id=\"1605693910524\" data-elem-type=\"text\" data-field-axisx-value=\"left\" data-field-axisy-value=\"top\" data-field-container-value=\"grid\" data-field-heightunits-value=\"\" data-field-left-res-640-value=\"158\" data-field-left-res-960-value=\"212\" data-field-left-value=\"300\" data-field-leftunits-value=\"px\" data-field-top-res-640-value=\"-325\" data-field-top-res-960-value=\"185\" data-field-top-value=\"185\" data-field-topunits-value=\"px\" data-field-width-value=\"110\" data-field-widthunits-value=\"px\"> <a class=\"tn-atom\" href=\"/podvesky\">Подвески</a> </div> <div class=\"t396__elem tn-elem tn-elem__2514322391605693910528\" data-elem-id=\"1605693910528\" data-elem-type=\"text\" data-field-axisx-value=\"left\" data-field-axisy-value=\"top\" data-field-container-value=\"grid\" data-field-heightunits-value=\"\" data-field-left-res-640-value=\"158\" data-field-left-res-960-value=\"212\" data-field-left-value=\"300\" data-field-leftunits-value=\"px\" data-field-top-res-640-value=\"-285\" data-field-top-res-960-value=\"225\" data-field-top-value=\"225\" data-field-topunits-value=\"px\" data-field-width-value=\"110\" data-field-widthunits-value=\"px\"> <a class=\"tn-atom\" href=\"/braslety\">Браслеты</a> </div> <div class=\"t396__elem tn-elem tn-elem__2514322391605693910532\" data-elem-id=\"1605693910532\" data-elem-type=\"text\" data-field-axisx-value=\"left\" data-field-axisy-value=\"top\" data-field-container-value=\"grid\" data-field-heightunits-value=\"\" data-field-left-res-640-value=\"158\" data-field-left-res-960-value=\"212\" data-field-left-value=\"300\" data-field-leftunits-value=\"px\" data-field-top-res-640-value=\"-245\" data-field-top-res-960-value=\"265\" data-field-top-value=\"265\" data-field-topunits-value=\"px\" data-field-width-value=\"110\" data-field-widthunits-value=\"px\"> <a class=\"tn-atom\" href=\"/nabory\">Комплекты</a> </div> <div class=\"t396__elem tn-elem tn-elem__2514322391605693910537\" data-elem-id=\"1605693910537\" data-elem-type=\"text\" data-field-axisx-value=\"left\" data-field-axisy-value=\"top\" data-field-container-value=\"grid\" data-field-heightunits-value=\"\" data-field-left-res-640-value=\"330\" data-field-left-res-960-value=\"384\" data-field-left-value=\"490\" data-field-leftunits-value=\"px\" data-field-top-res-640-value=\"-405\" data-field-top-res-960-value=\"105\" data-field-top-value=\"105\" data-field-topunits-value=\"px\" data-field-width-value=\"110\" data-field-widthunits-value=\"px\"> <a class=\"tn-atom\" href=\"/muzhskie\">Кольца</a> </div> <div class=\"t396__elem tn-elem tn-elem__2514322391605693910539\" data-elem-id=\"1605693910539\" data-elem-type=\"text\" data-field-axisx-value=\"left\" data-field-axisy-value=\"top\" data-field-container-value=\"grid\" data-field-heightunits-value=\"\" data-field-left-res-640-value=\"330\" data-field-left-res-960-value=\"384\" data-field-left-value=\"490\" data-field-leftunits-value=\"px\" data-field-top-res-640-value=\"-365\" data-field-top-res-960-value=\"145\" data-field-top-value=\"145\" data-field-topunits-value=\"px\" data-field-width-value=\"110\" data-field-widthunits-value=\"px\"> <a class=\"tn-atom\" href=\"/muzhskie-chasy\">Часы</a> </div> <div class=\"t396__elem tn-elem tn-elem__2514322391605693910542\" data-elem-id=\"1605693910542\" data-elem-type=\"text\" data-field-axisx-value=\"left\" data-field-axisy-value=\"top\" data-field-container-value=\"grid\" data-field-heightunits-value=\"\" data-field-left-res-640-value=\"330\" data-field-left-res-960-value=\"384\" data-field-left-value=\"490\" data-field-leftunits-value=\"px\" data-field-top-res-640-value=\"-325\" data-field-top-res-960-value=\"185\" data-field-top-value=\"185\" data-field-topunits-value=\"px\" data-field-width-value=\"110\" data-field-widthunits-value=\"px\"> <a class=\"tn-atom\" href=\"/muzhskie-brelki\">Брелки</a> </div> <div class=\"t396__elem tn-elem tn-elem__2514322391605693910545\" data-elem-id=\"1605693910545\" data-elem-type=\"text\" data-field-axisx-value=\"left\" data-field-axisy-value=\"top\" data-field-container-value=\"grid\" data-field-heightunits-value=\"\" data-field-left-res-640-value=\"330\" data-field-left-res-960-value=\"384\" data-field-left-value=\"490\" data-field-leftunits-value=\"px\" data-field-top-res-640-value=\"-285\" data-field-top-res-960-value=\"225\" data-field-top-value=\"225\" data-field-topunits-value=\"px\" data-field-width-value=\"110\" data-field-widthunits-value=\"px\"> <a class=\"tn-atom\" href=\"/muzhskie-zazhimy\">Зажимы</a> </div> <div class=\"t396__elem tn-elem tn-elem__2514322391605693910547\" data-elem-id=\"1605693910547\" data-elem-type=\"text\" data-field-axisx-value=\"left\" data-field-axisy-value=\"top\" data-field-container-value=\"grid\" data-field-heightunits-value=\"\" data-field-left-res-640-value=\"330\" data-field-left-res-960-value=\"384\" data-field-left-value=\"490\" data-field-leftunits-value=\"px\" data-field-top-res-640-value=\"-245\" data-field-top-res-960-value=\"265\" data-field-top-value=\"265\" data-field-topunits-value=\"px\" data-field-width-value=\"110\" data-field-widthunits-value=\"px\"> <a class=\"tn-atom\" href=\"/muzhskie-zaponki\">Запонки</a> </div> <div class=\"t396__elem tn-elem tn-elem__2514322391605693910550\" data-elem-id=\"1605693910550\" data-elem-type=\"text\" data-field-axisx-value=\"left\" data-field-axisy-value=\"top\" data-field-container-value=\"grid\" data-field-heightunits-value=\"\" data-field-left-res-640-value=\"330\" data-field-left-res-960-value=\"384\" data-field-left-value=\"490\" data-field-leftunits-value=\"px\" data-field-top-res-640-value=\"-205\" data-field-top-res-960-value=\"305\" data-field-top-value=\"305\" data-field-topunits-value=\"px\" data-field-width-value=\"110\" data-field-widthunits-value=\"px\"> <a class=\"tn-atom\" href=\"/muzhskie-komplectu\">Комплекты</a> </div> <div class=\"t396__elem tn-elem tn-elem__2514322391605693910507\" data-elem-id=\"1605693910507\" data-elem-type=\"text\" data-field-axisx-value=\"left\" data-field-axisy-value=\"top\" data-field-container-value=\"grid\" data-field-heightunits-value=\"\" data-field-left-res-640-value=\"10\" data-field-left-res-960-value=\"212\" data-field-left-value=\"300\" data-field-leftunits-value=\"px\" data-field-top-res-640-value=\"-411\" data-field-top-res-960-value=\"65\" data-field-top-value=\"65\" data-field-topunits-value=\"px\" data-field-width-value=\"110\" data-field-widthunits-value=\"px\"> <div class=\"tn-atom\" field=\"tn_text_1605693910507\">ЖЕНСКОЕ</div> </div> <div class=\"t396__elem tn-elem tn-elem__2514322391605693910511\" data-elem-id=\"1605693910511\" data-elem-type=\"text\" data-field-axisx-value=\"left\" data-field-axisy-value=\"top\" data-field-container-value=\"grid\" data-field-heightunits-value=\"\" data-field-left-res-640-value=\"10\" data-field-left-res-960-value=\"384\" data-field-left-value=\"490\" data-field-leftunits-value=\"px\" data-field-top-res-640-value=\"-365\" data-field-top-res-960-value=\"65\" data-field-top-value=\"65\" data-field-topunits-value=\"px\" data-field-width-value=\"110\" data-field-widthunits-value=\"px\"> <div class=\"tn-atom\" field=\"tn_text_1605693910511\">МУЖСКОЕ</div> </div> <div class=\"t396__elem tn-elem tn-elem__2514322391605693910514\" data-elem-id=\"1605693910514\" data-elem-type=\"text\" data-field-axisx-value=\"left\" data-field-axisy-value=\"top\" data-field-container-value=\"grid\" data-field-heightunits-value=\"\" data-field-left-res-640-value=\"10\" data-field-left-res-960-value=\"557\" data-field-left-value=\"680\" data-field-leftunits-value=\"px\" data-field-top-res-640-value=\"-319\" data-field-top-res-960-value=\"65\" data-field-top-value=\"65\" data-field-topunits-value=\"px\" data-field-width-value=\"110\" data-field-widthunits-value=\"px\"> <div class=\"tn-atom\" field=\"tn_text_1605693910514\">ДЕТСКОЕ</div> </div> </div> </div> <script>$( document ).ready(function() { t396_init('251432239');\n",
       "});</script><!-- /T396 --></div><div class=\"r t-rec\" data-animationappear=\"off\" data-record-type=\"396\" id=\"rec251788761\" style=\" \"><!-- T396 --><style>#rec251788761 .t396__artboard{height: 40px;background-color: #757575;}#rec251788761 .t396__filter{height: 40px;}#rec251788761 .t396__carrier{height: 40px;background-position: center center;background-attachment: scroll;background-size:cover;background-repeat:no-repeat;}@media screen and (max-width: 1199px){#rec251788761 .t396__artboard{}#rec251788761 .t396__filter{}#rec251788761 .t396__carrier{background-attachment:scroll;}}@media screen and (max-width: 959px){}@media screen and (max-width: 639px){}@media screen and (max-width: 479px){#rec251788761 .t396__artboard{height: 30px;}#rec251788761 .t396__filter{height: 30px;}#rec251788761 .t396__carrier{height: 30px;}}#rec251788761 .tn-elem[data-elem-id=\"1605768960861\"]{color:#ffffff;z-index:1;top: 3px;left: calc(50% - 600px + 410px);width:380px;}#rec251788761 .tn-elem[data-elem-id=\"1605768960861\"] .tn-atom{color:#ffffff;font-size:20px;font-family:'CenturyGothic',Arial,sans-serif;line-height:1.55;font-weight:400;background-position:center center;border-color:transparent;border-style:solid;}@media screen and (max-width: 1199px){#rec251788761 .tn-elem[data-elem-id=\"1605768960861\"]{top: 3px;left: calc(50% - 480px + 272px);}}@media screen and (max-width: 959px){#rec251788761 .tn-elem[data-elem-id=\"1605768960861\"]{top: 3px;left: calc(50% - 320px + 126px);}}@media screen and (max-width: 639px){#rec251788761 .tn-elem[data-elem-id=\"1605768960861\"]{top: 3px;left: calc(50% - 240px + 52px);}}@media screen and (max-width: 479px){#rec251788761 .tn-elem[data-elem-id=\"1605768960861\"]{top: 3px;left: calc(50% - 160px + 8px);}#rec251788761 .tn-elem[data-elem-id=\"1605768960861\"] .tn-atom{font-size:16px;}}</style> <div class=\"t396\"><div class=\"t396__artboard\" data-artboard-height=\"40\" data-artboard-height-res-320=\"30\" data-artboard-height_vh=\"\" data-artboard-ovrflw=\"\" data-artboard-recid=\"251788761\" data-artboard-valign=\"center\"> <div class=\"t396__carrier\" data-artboard-recid=\"251788761\"></div> <div class=\"t396__filter\" data-artboard-recid=\"251788761\"></div> <div class=\"t396__elem tn-elem tn-elem__2517887611605768960861\" data-elem-id=\"1605768960861\" data-elem-type=\"text\" data-field-axisx-value=\"left\" data-field-axisy-value=\"top\" data-field-container-value=\"grid\" data-field-heightunits-value=\"\" data-field-left-res-320-value=\"8\" data-field-left-res-480-value=\"52\" data-field-left-res-640-value=\"126\" data-field-left-res-960-value=\"272\" data-field-left-value=\"410\" data-field-leftunits-value=\"px\" data-field-top-res-320-value=\"3\" data-field-top-res-480-value=\"3\" data-field-top-res-640-value=\"3\" data-field-top-res-960-value=\"3\" data-field-top-value=\"3\" data-field-topunits-value=\"px\" data-field-width-value=\"380\" data-field-widthunits-value=\"px\"> <div class=\"tn-atom\" field=\"tn_text_1605768960861\">Сайт находится на стадии доработки</div> </div> </div> </div> <script>$( document ).ready(function() { t396_init('251788761');\n",
       "});</script><!-- /T396 --></div><div class=\"r t-rec\" data-animationappear=\"off\" data-record-type=\"217\" id=\"rec251785135\" style=\" \"><div class=\"t190\" style=\"position:fixed; z-index:100000; bottom:30px; left:30px; min-height:30px;\"> <a href=\"javascript:t190_scrollToTop();\"> <svg enable-background=\"new 0 0 48 48\" height=\"50px\" id=\"Layer_1\" version=\"1.1\" viewbox=\"0 0 48 48\" width=\"50px\" x=\"0px\" xml:space=\"preserve\" xmlns=\"http://www.w3.org/2000/svg\" xmlns:xlink=\"http://www.w3.org/1999/xlink\" y=\"0px\"> <path d=\"M47.875,24c0,13.186-10.689,23.875-23.875,23.875S0.125,37.186,0.125,24S10.814,0.125,24,0.125 S47.875,10.814,47.875,24z M25.503,16.881l6.994,7.049c0.583,0.588,1.532,0.592,2.121,0.008c0.588-0.583,0.592-1.533,0.008-2.122 l-9.562-9.637c-0.281-0.283-0.664-0.443-1.063-0.443c0,0,0,0-0.001,0c-0.399,0-0.782,0.159-1.063,0.442l-9.591,9.637 c-0.584,0.587-0.583,1.537,0.005,2.121c0.292,0.292,0.675,0.437,1.058,0.437c0.385,0,0.77-0.147,1.063-0.442L22.5,16.87v19.163 c0,0.828,0.671,1.5,1.5,1.5s1.5-0.672,1.5-1.5L25.503,16.881z\" style=\"fill:#ffffff;\"></path> </svg> </a></div><script type=\"text/javascript\"> $(document).ready(function(){ $('.t190').css(\"display\",\"none\"); $(window).bind('scroll', t_throttle(function(){ if ($(window).scrollTop() > $(window).height()) { if($('.t190').css('display')==\"none\"){$('.t190').css(\"display\",\"block\");} }else{ if($('.t190').css('display')==\"block\"){$('.t190').css(\"display\",\"none\");} } }, 200)); }); </script></div><div class=\"r t-rec\" data-animationappear=\"off\" data-record-type=\"898\" id=\"rec251785236\" style=\" \"><div class=\"t898\" style=\"\"> <div class=\"t898__wrapper\" style=\" \"> <input class=\"t898__btn_input\" id=\"t898__btn_input_251785236\" type=\"checkbox\"/> <label class=\"t898__btn_label\" for=\"t898__btn_input_251785236\" style=\"background:#ffffff; \"> <svg class=\"t898__icon t898__icon-write\" height=\"32\" viewbox=\"0 0 35 32\" width=\"35\" xmlns=\"http://www.w3.org/2000/svg\"> <path d=\"M11.2667 12.6981H23.3667M11.2667 16.4717H23.3667M4.8104 23.5777C2.4311 21.1909 1 18.1215 1 14.7736C1 7.16679 8.38723 1 17.5 1C26.6128 1 34 7.16679 34 14.7736C34 22.3804 26.6128 28.5472 17.5 28.5472C15.6278 28.5472 13.8286 28.2868 12.1511 27.8072L12 27.7925L5.03333 31V23.8219L4.8104 23.5777Z\" fill=\"none\" stroke=\"#000000\" stroke-linecap=\"round\" stroke-linejoin=\"round\" stroke-miterlimit=\"10\" stroke-width=\"2\"></path> </svg> <svg class=\"t898__icon t898__icon-close\" height=\"16\" viewbox=\"0 0 23 23\" width=\"16\" xmlns=\"http://www.w3.org/2000/svg\"> <g fillrule=\"evenodd\"> <path d=\"M10.314 -3.686H12.314V26.314H10.314z\" transform=\"rotate(-45 11.314 11.314)\"></path> <path d=\"M10.314 -3.686H12.314V26.314H10.314z\" transform=\"rotate(45 11.314 11.314)\"></path> </g> </svg> </label> <a class=\"t898__icon t898__icon-whatsapp_wrapper t898__icon_link\" href=\"https://wa.me/79143008090\" rel=\"nofollow noopener noreferrer\" target=\"_blank\"> <span class=\"t898__tooltip t-name t-name_xs\"> WhatsApp </span> <svg fill=\"none\" height=\"50\" width=\"50\" xmlns=\"http://www.w3.org/2000/svg\"> <path d=\"M25 50a25 25 0 100-50 25 25 0 000 50z\" fill=\"#fff\"></path> <path d=\"M26.1 12a12.1 12.1 0 00-10.25 18.53l.29.46-1.22 4.46 4.57-1.2.45.27a12.1 12.1 0 106.16-22.51V12zm6.79 17.22c-.3.85-1.72 1.62-2.41 1.72-.62.1-1.4.14-2.25-.14-.7-.22-1.37-.47-2.03-.77-3.59-1.57-5.93-5.24-6.1-5.48-.19-.24-1.47-1.97-1.47-3.76 0-1.79.93-2.67 1.25-3.03.33-.37.72-.46.96-.46.23 0 .47 0 .68.02.22 0 .52-.09.8.62l1.1 2.7c.1.18.16.4.04.64s-.18.39-.36.6c-.18.21-.38.47-.54.64-.18.18-.36.38-.15.74.2.36.92 1.55 1.98 2.52 1.37 1.23 2.52 1.62 2.88 1.8.35.18.56.15.77-.1.2-.23.9-1.05 1.13-1.42.24-.36.48-.3.8-.18.33.12 2.09 1 2.44 1.18.36.19.6.28.69.43.09.15.09.88-.21 1.73z\" fill=\"#27D061\"></path> <path d=\"M25 0a25 25 0 100 50 25 25 0 000-50zm1.03 38.37c-2.42 0-4.8-.6-6.9-1.76l-7.67 2 2.05-7.45a14.3 14.3 0 01-1.93-7.2c0-7.92 6.49-14.38 14.45-14.38a14.4 14.4 0 110 28.79z\" fill=\"#27D061\"></path> </svg> </a> <a class=\"t898__icon t898__icon-phone_wrapper t898__icon_link\" href=\"tel:+79143008090\" rel=\"nofollow noopener noreferrer\" target=\"_blank\"> <span class=\"t898__tooltip t-name t-name_xs\"> Phone </span> <svg fill=\"none\" height=\"50\" viewbox=\"0 0 50 50\" width=\"50\" xmlns=\"http://www.w3.org/2000/svg\"><path d=\"M25 0C11.2 0 0 11.2 0 25C0 38.8 11.2 50 25 50C38.8 50 50 38.8 50 25C50 11.2 38.84 0 25 0Z\" fill=\"#004D73\"></path><path d=\"M38.66 34.1001L32.44 27.7801C32.3435 27.6746 32.226 27.5904 32.0952 27.5327C31.9643 27.4751 31.8229 27.4453 31.68 27.4453C31.537 27.4453 31.3956 27.4751 31.2647 27.5327C31.1339 27.5904 31.0165 27.6746 30.92 27.7801L27.5 31.2001C26.81 31.8801 25.79 31.8801 25.1 31.2001L18.74 24.8301C18.5778 24.6751 18.4488 24.4889 18.3606 24.2826C18.2724 24.0764 18.227 23.8544 18.227 23.6301C18.227 23.4058 18.2724 23.1838 18.3606 22.9776C18.4488 22.7713 18.5778 22.5851 18.74 22.4301L22.16 19.0001C22.61 18.5601 22.61 17.9201 22.16 17.4801L15.9 11.3101C15.7943 11.209 15.6695 11.13 15.5329 11.0776C15.3963 11.0253 15.2506 11.0008 15.1045 11.0054C14.9583 11.0101 14.8145 11.0439 14.6815 11.1048C14.5485 11.1657 14.429 11.2525 14.33 11.3601C12.33 13.8101 8.65996 20.6201 18.73 30.9101L18.89 31.0601L19.03 31.2101C29.36 41.3501 36.16 37.6801 38.61 35.6701C39.1 35.2701 39.15 34.5401 38.66 34.1001Z\" fill=\"white\"></path></svg> </a> </div></div><style> #rec251785236 .t898__hint { color: ; }</style><script type=\"text/javascript\"> $(document).ready(function(){ setTimeout(function(){ t898_init('251785236'); }, 500); });</script></div></div><!--/footer--></div><!--/allrecords--><!-- Stat --> <!-- Yandex.Metrika counter 61634560 --> <script type=\"text/javascript\"> (function (d, w, c) { (w[c] = w[c] || []).push(function() { try { w.yaCounter61634560 = new Ya.Metrika({ id:61634560, clickmap:true, trackLinks:true, accurateTrackBounce:true, webvisor:true ,ecommerce:\"dataLayer\" }); w.mainMetrika = 'yaCounter61634560'; } catch(e) { } }); var n = d.getElementsByTagName(\"script\")[0], s = d.createElement(\"script\"), f = function () { n.parentNode.insertBefore(s, n); }; s.type = \"text/javascript\"; s.async = true; s.src = \"https://mc.yandex.ru/metrika/watch.js\"; if (w.opera == \"[object Opera]\") { d.addEventListener(\"DOMContentLoaded\", f, false); } else { f(); } })(document, window, \"yandex_metrika_callbacks\"); </script><noscript><div><img alt=\"\" src=\"https://mc.yandex.ru/watch/61634560\" style=\"position:absolute; left:-9999px;\"/></div></noscript> <!-- /Yandex.Metrika counter --> <script type=\"text/javascript\">if (! window.mainTracker) { window.mainTracker = 'tilda'; }\t(function (d, w, k, o, g) { var n=d.getElementsByTagName(o)[0],s=d.createElement(o),f=function(){n.parentNode.insertBefore(s,n);}; s.type = \"text/javascript\"; s.async = true; s.key = k; s.id = \"tildastatscript\"; s.src=g; if (w.opera==\"[object Opera]\") {d.addEventListener(\"DOMContentLoaded\", f, false);} else { f(); } })(document, window, 'b36a1e01d7577b1761535149f5d13ea7','script','https://static.tildacdn.com/js/tildastat-0.2.min.js');</script></body></html>"
      ]
     },
     "execution_count": 26,
     "metadata": {},
     "output_type": "execute_result"
    }
   ],
   "source": [
    "html"
   ]
  },
  {
   "cell_type": "code",
   "execution_count": null,
   "metadata": {},
   "outputs": [],
   "source": [
    "<div class=\"js-product-img t-store__card__bgimg t-bgimg loaded\" data-original=\"https://static.tildacdn.com/tild3964-3932-4639-a536-653231343765/8-min.jpg\" style=\"background-image: url(&quot;https://thumb.tildacdn.com/tild3964-3932-4639-a536-653231343765/-/cover/280x233/center/center/-/format/webp/8-min.jpg&quot;);\" bgimgfield=\"st_gallery__117902233653:::0\"></div>"
   ]
  },
  {
   "cell_type": "code",
   "execution_count": null,
   "metadata": {},
   "outputs": [],
   "source": [
    "<div class=\"t-store__card__wrap_all \" style=\"background-color:#222222;box-shadow: 0px 0px 3px 0px rgba(0, 0, 0, 0.3);\">    <a href=\"https://kierge.com/zhenskie/tproduct/195388121-117902233653-koltso\">        <div class=\"t-store__card__imgwrapper \" style=\"padding-bottom:83.33333333333333%;\">        <div class=\"js-product-img t-store__card__bgimg t-bgimg loaded\" data-original=\"https://static.tildacdn.com/tild3964-3932-4639-a536-653231343765/8-min.jpg\" style=\"background-image: url(&quot;https://thumb.tildacdn.com/tild3964-3932-4639-a536-653231343765/-/cover/280x233/center/center/-/format/webp/8-min.jpg&quot;);\" bgimgfield=\"st_gallery__117902233653:::0\"></div>    </div>    </a>    <div class=\"t-store__card__wrap_txt-and-btns\" style=\"height: 143px;\">        <div class=\"store__card__wrap_txt-and-opts\">            <a href=\"https://kierge.com/zhenskie/tproduct/195388121-117902233653-koltso\">                        <div class=\"t-store__card__textwrapper\">            <div class=\"js-store-prod-name js-product-name t-store__card__title t-name t-name_md\" style=\"color:#ffffff;font-weight:700;\" field=\"st_title__117902233653\" data-redactor-toolbar=\"no\">Кольцо</div><div class=\"t-store__card__sku t-descr t-descr_xxs\" style=\"display:none;color:#ffffff;\">Артикул: <span class=\"js-store-prod-sku js-product-sku\" field=\"st_sku__117902233653\" data-redactor-toolbar=\"no\">2000000509006</span></div><div class=\"js-store-price-wrapper t-store__card__price-wrapper\">    <div class=\"t-store__card__price t-store__card__price-item t-name t-name_xs\" style=\"color:#ffffff;font-size:20px;font-weight:400;\"><div class=\"js-product-price js-store-prod-price-val t-store__card__price-value notranslate\" translate=\"no\" field=\"st_price__117902233653\" data-redactor-toolbar=\"no\" data-product-price-def=\"7936\" data-product-price-def-str=\"7936\">7 936</div><div class=\"t-store__card__price-currency\">р.</div></div>    <div class=\"t-store__card__price_old t-store__card__price-item t-name t-name_xs\" style=\"display: none;color:#bdbdbd;font-size:20px;font-weight:400;\"><div class=\"js-store-prod-price-old-val t-store__card__price-value notranslate\" translate=\"no\" field=\"st_priceold__117902233653\" data-redactor-toolbar=\"no\"></div><div class=\"t-store__card__price-currency\">р.</div></div>    </div>        </div>            </a>            <div class=\"js-product-controls-wrapper t-store__card__prod-controls-wrapper\" style=\"display:none;\"></div>        </div>            </div></div>"
   ]
  },
  {
   "cell_type": "code",
   "execution_count": null,
   "metadata": {},
   "outputs": [],
   "source": []
  },
  {
   "cell_type": "code",
   "execution_count": null,
   "metadata": {},
   "outputs": [],
   "source": []
  },
  {
   "cell_type": "code",
   "execution_count": null,
   "metadata": {},
   "outputs": [],
   "source": []
  },
  {
   "cell_type": "code",
   "execution_count": null,
   "metadata": {},
   "outputs": [],
   "source": [
    "#jlook.find_all('span',\"woocommerce-Price-amount amount\")\n",
    "#jlook = mysoup('https://egelge.com/catalog/zolotye-sergi-s-brilliantami-811/')"
   ]
  },
  {
   "cell_type": "code",
   "execution_count": null,
   "metadata": {},
   "outputs": [],
   "source": [
    "domain+links[73]"
   ]
  },
  {
   "cell_type": "code",
   "execution_count": null,
   "metadata": {},
   "outputs": [],
   "source": [
    "#цена без скидки\n",
    "jlook.find_all('span',\"woocommerce-Price-amount amount\")[0].text"
   ]
  },
  {
   "cell_type": "code",
   "execution_count": null,
   "metadata": {},
   "outputs": [],
   "source": [
    "#цена со скидкой\n",
    "jlook.find_all('span',\"woocommerce-Price-amount amount\")[1].text"
   ]
  },
  {
   "cell_type": "code",
   "execution_count": null,
   "metadata": {},
   "outputs": [],
   "source": [
    "#наименование\n",
    "jlook.find_all('h1',\"product_title entry-title\")[0].text"
   ]
  },
  {
   "cell_type": "code",
   "execution_count": null,
   "metadata": {},
   "outputs": [],
   "source": [
    "#наименование\n",
    "jlook.find('h1',\"product_title entry-title\").text"
   ]
  },
  {
   "cell_type": "code",
   "execution_count": null,
   "metadata": {},
   "outputs": [],
   "source": [
    "#Артикул:\n",
    "jlook.find_all('p',\"reference\")[0].text"
   ]
  },
  {
   "cell_type": "code",
   "execution_count": null,
   "metadata": {},
   "outputs": [],
   "source": [
    "#Акция:\n",
    "jlook.find_all('div',\"col\")[0].text.strip()"
   ]
  },
  {
   "cell_type": "code",
   "execution_count": null,
   "metadata": {},
   "outputs": [],
   "source": [
    "#Описание:\n",
    "jlook.find_all('div',\"tab-pane fade show active\")[0].text.strip()"
   ]
  },
  {
   "cell_type": "markdown",
   "metadata": {},
   "source": [
    "## Сборка цикла по карточкам"
   ]
  },
  {
   "cell_type": "code",
   "execution_count": null,
   "metadata": {},
   "outputs": [],
   "source": [
    "data = pd.DataFrame(columns=['h1','art','price','disc_price','action','describe','char','Бренд','Страна производства','Материал','Вставка','Средний вес','url'])"
   ]
  },
  {
   "cell_type": "code",
   "execution_count": null,
   "metadata": {},
   "outputs": [],
   "source": [
    "'Бренд - ЭГЭЛГЭ',\n",
    " 'Страна производства - Россия',\n",
    " 'Материал - красное золото 585 пробы',\n",
    " 'Вставка - 1 Бр Кр 57 0,013Ct 3/6А ,1 Бр Кр 57 0,005Ct 3/6А ,1 Бр Кр 57 0,009Ct 3/6А',\n",
    " 'Средний вес - 1,1 гр']"
   ]
  },
  {
   "cell_type": "code",
   "execution_count": null,
   "metadata": {
    "scrolled": true
   },
   "outputs": [],
   "source": [
    "data"
   ]
  },
  {
   "cell_type": "code",
   "execution_count": null,
   "metadata": {},
   "outputs": [],
   "source": [
    "len(data)\n"
   ]
  },
  {
   "cell_type": "code",
   "execution_count": null,
   "metadata": {
    "scrolled": false
   },
   "outputs": [],
   "source": [
    "#20-04-2022\n",
    "for i in range(18,len(links)):\n",
    "    try:\n",
    "        urlcard = domain +links[i]\n",
    "        \n",
    "        response = requests.get(urlcard)\n",
    "        card = BeautifulSoup(response.text, 'lxml')\n",
    "        row = len(data)+1\n",
    "        data.loc[row,'url'] = urlcard\n",
    "        data.loc[row,'h1'] = card.find('h1',\"product_title entry-title\").text#.strip()\n",
    "        data.loc[row,'art'] = card.find_all('p',\"reference\")[0].text\n",
    "        data.loc[row,'price'] = card.find_all('span',\"woocommerce-Price-amount amount\")[0].text\n",
    "        data.loc[row,'disc_price'] = card.find_all('span',\"woocommerce-Price-amount amount\")[1].text\n",
    "        data.loc[row,'action'] = card.find_all('div',\"col\")[0].text.strip()\n",
    "        data.loc[row,'describe'] = card.find_all('div',\"tab-pane fade show active\")[0].text.strip()\n",
    "        #data.loc[row,'char'] = card.find_all('div',\"tab-pane fade\")[1].find('ul')\n",
    "        \n",
    "        ch = [x.text.replace('\\xa0',' ') for x in card.find_all(\n",
    "                \"div\",\"tab-pane fade\")[1].find('ul').find_all('li')]\n",
    "        if len(ch) == 5:\n",
    "            data.loc[row,['Бренд','Страна производства','Материал','Вставка','Средний вес']] = ch \n",
    "        elif len(ch) == 4:\n",
    "            data.loc[row,['Бренд','Страна производства','Материал','Средний вес']]  = ch\n",
    "        else:\n",
    "            print('ch is not 5 or 4')\n",
    "    except (AttributeError,TypeError) as e:\n",
    "        print('error',e, urlcard)\n",
    "    except (IndexError,ValueError) as e:\n",
    "        print('index value error len of = ', e, urlcard)\n",
    "    print(i, urlcard)\n",
    "   "
   ]
  },
  {
   "cell_type": "markdown",
   "metadata": {},
   "source": [
    "## Обработка датафрейма"
   ]
  },
  {
   "cell_type": "code",
   "execution_count": null,
   "metadata": {},
   "outputs": [],
   "source": [
    "data"
   ]
  },
  {
   "cell_type": "code",
   "execution_count": null,
   "metadata": {},
   "outputs": [],
   "source": [
    "data.price = data.price.apply(lambda x: x.replace('р.','').replace(' ','')).astype('float')"
   ]
  },
  {
   "cell_type": "code",
   "execution_count": null,
   "metadata": {},
   "outputs": [],
   "source": [
    "data.disc_price = data.disc_price.apply(lambda x: x.replace('р.','').replace(' ','')).astype('float')"
   ]
  },
  {
   "cell_type": "code",
   "execution_count": null,
   "metadata": {},
   "outputs": [],
   "source": [
    "todelete = ['Бренд','Страна производства','Материал','Вставка','Средний вес']"
   ]
  },
  {
   "cell_type": "code",
   "execution_count": null,
   "metadata": {},
   "outputs": [],
   "source": [
    "for xxx in todelete:\n",
    "    data[xxx] = data[xxx].apply(lambda xx: str(xx).replace(xxx+' - ',''))"
   ]
  },
  {
   "cell_type": "code",
   "execution_count": null,
   "metadata": {},
   "outputs": [],
   "source": [
    "data['Средний вес'] = data['Средний вес'].apply(lambda x: x.replace('гр','').replace(',','.')).astype('float')"
   ]
  },
  {
   "cell_type": "markdown",
   "metadata": {},
   "source": [
    "## Запись в файл"
   ]
  },
  {
   "cell_type": "code",
   "execution_count": null,
   "metadata": {},
   "outputs": [],
   "source": [
    "import os"
   ]
  },
  {
   "cell_type": "code",
   "execution_count": null,
   "metadata": {},
   "outputs": [],
   "source": [
    "import datetime"
   ]
  },
  {
   "cell_type": "code",
   "execution_count": null,
   "metadata": {},
   "outputs": [],
   "source": [
    "datetime.datetime.now().strftime('%d-%m-%Y')"
   ]
  },
  {
   "cell_type": "code",
   "execution_count": null,
   "metadata": {},
   "outputs": [],
   "source": [
    "os.listdir('jewels/egelge/')"
   ]
  },
  {
   "cell_type": "code",
   "execution_count": null,
   "metadata": {},
   "outputs": [],
   "source": [
    "resdir = 'jewels/egelge/'"
   ]
  },
  {
   "cell_type": "code",
   "execution_count": null,
   "metadata": {},
   "outputs": [],
   "source": [
    "\n",
    "\n",
    "data.to_excel(resdir+'эгэлгеЭг_'+str(len(data))+datetime.datetime.now().strftime('%d-%m-%Y')+ '.xlsx')"
   ]
  },
  {
   "cell_type": "code",
   "execution_count": null,
   "metadata": {},
   "outputs": [],
   "source": []
  },
  {
   "cell_type": "code",
   "execution_count": null,
   "metadata": {},
   "outputs": [],
   "source": []
  },
  {
   "cell_type": "markdown",
   "metadata": {},
   "source": [
    "## dump"
   ]
  },
  {
   "cell_type": "code",
   "execution_count": null,
   "metadata": {},
   "outputs": [],
   "source": []
  },
  {
   "cell_type": "code",
   "execution_count": null,
   "metadata": {},
   "outputs": [],
   "source": []
  },
  {
   "cell_type": "code",
   "execution_count": null,
   "metadata": {},
   "outputs": [],
   "source": [
    "xxx = todelete[0]"
   ]
  },
  {
   "cell_type": "code",
   "execution_count": null,
   "metadata": {},
   "outputs": [],
   "source": [
    "xxx"
   ]
  },
  {
   "cell_type": "code",
   "execution_count": null,
   "metadata": {},
   "outputs": [],
   "source": [
    "data[xxx] = data[xxx].apply(lambda xx: str(xx).replace(xxx+' - ',''))"
   ]
  },
  {
   "cell_type": "code",
   "execution_count": null,
   "metadata": {},
   "outputs": [],
   "source": []
  },
  {
   "cell_type": "code",
   "execution_count": null,
   "metadata": {},
   "outputs": [],
   "source": [
    "urlcard"
   ]
  },
  {
   "cell_type": "code",
   "execution_count": null,
   "metadata": {},
   "outputs": [],
   "source": [
    "len(data)"
   ]
  },
  {
   "cell_type": "code",
   "execution_count": null,
   "metadata": {},
   "outputs": [],
   "source": [
    "data.loc()"
   ]
  },
  {
   "cell_type": "code",
   "execution_count": null,
   "metadata": {},
   "outputs": [],
   "source": [
    "#data.drop(0,inplace=True)"
   ]
  },
  {
   "cell_type": "code",
   "execution_count": null,
   "metadata": {},
   "outputs": [],
   "source": []
  },
  {
   "cell_type": "code",
   "execution_count": null,
   "metadata": {},
   "outputs": [],
   "source": []
  },
  {
   "cell_type": "markdown",
   "metadata": {},
   "source": [
    "https://egelge.com/catalog/zolotoe-kolco-s-brilliantami-716/"
   ]
  },
  {
   "cell_type": "code",
   "execution_count": null,
   "metadata": {},
   "outputs": [],
   "source": []
  },
  {
   "cell_type": "code",
   "execution_count": null,
   "metadata": {},
   "outputs": [],
   "source": [
    "response = requests.get( 'https://egelge.com/catalog/zolotoe-kolco-s-brilliantami-716/')\n",
    "response"
   ]
  },
  {
   "cell_type": "code",
   "execution_count": null,
   "metadata": {},
   "outputs": [],
   "source": [
    "response.text"
   ]
  },
  {
   "cell_type": "code",
   "execution_count": null,
   "metadata": {},
   "outputs": [],
   "source": [
    "card = BeautifulSoup(response.text, 'lxml')"
   ]
  },
  {
   "cell_type": "code",
   "execution_count": null,
   "metadata": {},
   "outputs": [],
   "source": []
  },
  {
   "cell_type": "code",
   "execution_count": null,
   "metadata": {},
   "outputs": [],
   "source": [
    "<div class=\"tab-pane fade active show\" id=\"pills-profile\" role=\"tabpanel\" aria-labelledby=\"pills-profile-tab\"><ul>\n",
    "\t<li>Бренд - ЭГЭЛГЭ</li>\n",
    "\t<li>Страна производства - Россия</li>\n",
    "\t<li>Материал - красное золото 585 пробы</li>\n",
    "\t<li>Вставка -&nbsp;20 Бр Кр 17 0,043Ct 2/3А ,1 Хромдиопсид круг 5,00 0,512Ct</li>\n",
    "\t<li>Средний вес - 3,5 гр</li>\n",
    "</ul>\n",
    "</div>"
   ]
  },
  {
   "cell_type": "code",
   "execution_count": null,
   "metadata": {},
   "outputs": [],
   "source": [
    "[x.text.replace('\\xa0',' ') for x in card.find_all(\"div\",\"tab-pane fade\")[1].find('ul').find_all('li')]"
   ]
  },
  {
   "cell_type": "code",
   "execution_count": null,
   "metadata": {},
   "outputs": [],
   "source": [
    "data.loc[1000,['Бренд','Страна производства','Материал','Вставка','Средний вес']] = [\n",
    "    x.text.replace('\\xa0',' ') for x in card.find_all(\n",
    "        \"div\",\"tab-pane fade\")[1].find('ul').find_all('li')]"
   ]
  },
  {
   "cell_type": "code",
   "execution_count": null,
   "metadata": {},
   "outputs": [],
   "source": [
    "card.select('ul')"
   ]
  },
  {
   "cell_type": "code",
   "execution_count": null,
   "metadata": {},
   "outputs": [],
   "source": []
  },
  {
   "cell_type": "code",
   "execution_count": null,
   "metadata": {},
   "outputs": [],
   "source": [
    "#pills-profile > ul > li:nth-child(1)"
   ]
  },
  {
   "cell_type": "code",
   "execution_count": null,
   "metadata": {},
   "outputs": [],
   "source": []
  },
  {
   "cell_type": "code",
   "execution_count": null,
   "metadata": {},
   "outputs": [],
   "source": []
  },
  {
   "cell_type": "code",
   "execution_count": null,
   "metadata": {},
   "outputs": [],
   "source": []
  },
  {
   "cell_type": "code",
   "execution_count": null,
   "metadata": {},
   "outputs": [],
   "source": [
    "<div class=\"tab-pane fade show active\" id=\"pills-home\" role=\"tabpanel\" aria-labelledby=\"pills-home-tab\" itemprop=\"description\" content=\"Кольцо из коллекции \" Европейская=\"\" классика\".=\"\" Изготовлено=\"\" из=\"\" красного=\"\" золота=\"\" 585=\"\" пробы.=\"\" Вставки=\"\" -=\"\" 3=\"\" Бриллианта=\"\" круглой=\"\" огранки=\"\" 57=\"\" граней,=\"\" общим=\"\" весом=\"\" 0.03=\"\" карат,=\"\" группа=\"\" цвета=\"\" 3,=\"\" чистоты=\"\" 6,=\"\" качество=\"\" А.=\"\" Вес=\"\" изделия=\"\" 1,1=\"\" грамм.=\"\" \"=\"\">Кольцо из коллекции \"Европейская классика\". Изготовлено из красного золота 585 пробы. Вставки - 3 Бриллианта круглой огранки 57 граней, общим весом 0.03 карат, группа цвета - 3, группа чистоты - 6, качество огранки - А. Вес изделия 1,1 грамм."
   ]
  },
  {
   "cell_type": "code",
   "execution_count": null,
   "metadata": {},
   "outputs": [],
   "source": [
    "<div class=\"col\" style=\"color: #7A1C6C\">\n"
   ]
  },
  {
   "cell_type": "code",
   "execution_count": null,
   "metadata": {},
   "outputs": [],
   "source": [
    "<p class=\"reference\"><b>Артикул:</b> п06110-10-2010</p>"
   ]
  },
  {
   "cell_type": "code",
   "execution_count": null,
   "metadata": {},
   "outputs": [],
   "source": [
    "<h1 class=\"product_title entry-title\" itemprop=\"name\" content=\"Золотое кольцо с бриллиантами\">Золотое кольцо с бриллиантами</h1>"
   ]
  },
  {
   "cell_type": "code",
   "execution_count": null,
   "metadata": {},
   "outputs": [],
   "source": [
    "<span class=\"woocommerce-Price-amount amount\">16 151 р.</span>"
   ]
  },
  {
   "cell_type": "code",
   "execution_count": null,
   "metadata": {},
   "outputs": [],
   "source": [
    "links"
   ]
  },
  {
   "cell_type": "code",
   "execution_count": null,
   "metadata": {},
   "outputs": [],
   "source": [
    "#drop duplicates subset keep\n",
    "links = list(set(links))"
   ]
  },
  {
   "cell_type": "code",
   "execution_count": null,
   "metadata": {},
   "outputs": [],
   "source": [
    "links[10]"
   ]
  },
  {
   "cell_type": "code",
   "execution_count": null,
   "metadata": {},
   "outputs": [],
   "source": [
    "#del after"
   ]
  },
  {
   "cell_type": "code",
   "execution_count": null,
   "metadata": {},
   "outputs": [],
   "source": [
    "jlook = mysoup('https://miuz.ru/catalog/rings/R2022-MSR501/')"
   ]
  },
  {
   "cell_type": "code",
   "execution_count": null,
   "metadata": {},
   "outputs": [],
   "source": [
    "jgems = jlook.select('body > div.grid > div > div > div.detail__item.detail__item--new > div.detail__item-col._3.position-relative > form > div:nth-child(8)')"
   ]
  },
  {
   "cell_type": "code",
   "execution_count": null,
   "metadata": {},
   "outputs": [],
   "source": [
    "type(jgems)"
   ]
  },
  {
   "cell_type": "code",
   "execution_count": null,
   "metadata": {},
   "outputs": [],
   "source": [
    "#def main():\n",
    "\n",
    "urls = f'https://egelge.com/catalog/ukrasheniya-164/?mat%5B%5D=175&type%5B%5D=%D0%9A%D0%BE%D0%BB%D1%8C%D1%86%D0%BE&order=prices+asc'\n",
    "domain = f'https://egelge.com'\n",
    "\n",
    "\n",
    "\n",
    "quotes = mysoup(urls).find_all('div', class_=\"dici-thumb-wrapper\")\n",
    "res.extend([q.find(\"a\").get(\"href\") for q in quotes])\n",
    "\n",
    "\n",
    "\n",
    "\n",
    "\n",
    "\n",
    "\n",
    "\n",
    "\n",
    "\n",
    "\n",
    "\n",
    "\n",
    "\n",
    "\n",
    "\n",
    "\n",
    "#for i in range(1,100):\n",
    "#    pages = f'page={i}/'\n",
    "#links += getlinks(urls)"
   ]
  },
  {
   "cell_type": "code",
   "execution_count": null,
   "metadata": {},
   "outputs": [],
   "source": [
    "jlook.find_all('div','detail__item-option')[0].text\n"
   ]
  },
  {
   "cell_type": "code",
   "execution_count": null,
   "metadata": {},
   "outputs": [],
   "source": [
    "<div class=\"detail__item-option\"><span>Камни:</span>\n",
    "                    28  Бриллиантов огранки \"Круглая\" граней - 57, <span class=\"href\" onclick=\"event.preventDefault(); window.open('/guide/stones/dragotsennye-kamni/brilliant/cutForm/'); event.stopPropagation();\">тип огранки</span> A, <span class=\"href\" onclick=\"event.preventDefault(); window.open('/guide/stones/dragotsennye-kamni/brilliant/razmer-tsvet-ves/'); event.stopPropagation();\">цвет</span> 3, <span class=\"href\" onclick=\"event.preventDefault(); window.open('/guide/quality/chistota-brillianta/'); event.stopPropagation();\">чистота</span> 6, 0.21 карат;<br>4  Бриллианта огранки \"Круглая\" граней - 57, <span class=\"href\" onclick=\"event.preventDefault(); window.open('/guide/stones/dragotsennye-kamni/brilliant/cutForm/'); event.stopPropagation();\">тип огранки</span> A, <span class=\"href\" onclick=\"event.preventDefault(); window.open('/guide/stones/dragotsennye-kamni/brilliant/razmer-tsvet-ves/'); event.stopPropagation();\">цвет</span> 3, <span class=\"href\" onclick=\"event.preventDefault(); window.open('/guide/quality/chistota-brillianta/'); event.stopPropagation();\">чистота</span> 6, 0.023 карат;<br>12  Бриллиантов огранки \"Круглая\" граней - 57, <span class=\"href\" onclick=\"event.preventDefault(); window.open('/guide/stones/dragotsennye-kamni/brilliant/cutForm/'); event.stopPropagation();\">тип огранки</span> A, <span class=\"href\" onclick=\"event.preventDefault(); window.open('/guide/stones/dragotsennye-kamni/brilliant/razmer-tsvet-ves/'); event.stopPropagation();\">цвет</span> 3, <span class=\"href\" onclick=\"event.preventDefault(); window.open('/guide/quality/chistota-brillianta/'); event.stopPropagation();\">чистота</span> 6, 0.105 карат;<br>12  Бриллиантов огранки \"Круглая\" граней - 57, <span class=\"href\" onclick=\"event.preventDefault(); window.open('/guide/stones/dragotsennye-kamni/brilliant/cutForm/'); event.stopPropagation();\">тип огранки</span> A, <span class=\"href\" onclick=\"event.preventDefault(); window.open('/guide/stones/dragotsennye-kamni/brilliant/razmer-tsvet-ves/'); event.stopPropagation();\">цвет</span> 3, <span class=\"href\" onclick=\"event.preventDefault(); window.open('/guide/quality/chistota-brillianta/'); event.stopPropagation();\">чистота</span> 6, 0.114 карат;<br>4  Бриллианта огранки \"Круглая\" граней - 57, <span class=\"href\" onclick=\"event.preventDefault(); window.open('/guide/stones/dragotsennye-kamni/brilliant/cutForm/'); event.stopPropagation();\">тип огранки</span> A, <span class=\"href\" onclick=\"event.preventDefault(); window.open('/guide/stones/dragotsennye-kamni/brilliant/razmer-tsvet-ves/'); event.stopPropagation();\">цвет</span> 3, <span class=\"href\" onclick=\"event.preventDefault(); window.open('/guide/quality/chistota-brillianta/'); event.stopPropagation();\">чистота</span> 6, 0.084 карат;<br>2  Бриллианта огранки \"Багет\" граней - 25, <span class=\"href\" onclick=\"event.preventDefault(); window.open('/guide/stones/dragotsennye-kamni/brilliant/cutForm/'); event.stopPropagation();\">тип огранки</span> A, <span class=\"href\" onclick=\"event.preventDefault(); window.open('/guide/stones/dragotsennye-kamni/brilliant/razmer-tsvet-ves/'); event.stopPropagation();\">цвет</span> 3, <span class=\"href\" onclick=\"event.preventDefault(); window.open('/guide/quality/chistota-brillianta/'); event.stopPropagation();\">чистота</span> 5, 0.068 карат;<br>2  Бриллианта огранки \"Багет\" граней - 25, <span class=\"href\" onclick=\"event.preventDefault(); window.open('/guide/stones/dragotsennye-kamni/brilliant/cutForm/'); event.stopPropagation();\">тип огранки</span> A, <span class=\"href\" onclick=\"event.preventDefault(); window.open('/guide/stones/dragotsennye-kamni/brilliant/razmer-tsvet-ves/'); event.stopPropagation();\">цвет</span> 3, <span class=\"href\" onclick=\"event.preventDefault(); window.open('/guide/quality/chistota-brillianta/'); event.stopPropagation();\">чистота</span> 5, 0.067 карат;<br>3  Бриллианта огранки \"Багет\" граней - 25, <span class=\"href\" onclick=\"event.preventDefault(); window.open('/guide/stones/dragotsennye-kamni/brilliant/cutForm/'); event.stopPropagation();\">тип огранки</span> A, <span class=\"href\" onclick=\"event.preventDefault(); window.open('/guide/stones/dragotsennye-kamni/brilliant/razmer-tsvet-ves/'); event.stopPropagation();\">цвет</span> 3, <span class=\"href\" onclick=\"event.preventDefault(); window.open('/guide/quality/chistota-brillianta/'); event.stopPropagation();\">чистота</span> 5, 0.325 карат;<br>                </div>"
   ]
  },
  {
   "cell_type": "code",
   "execution_count": null,
   "metadata": {},
   "outputs": [],
   "source": []
  },
  {
   "cell_type": "code",
   "execution_count": null,
   "metadata": {},
   "outputs": [],
   "source": [
    "re.findall(r'<div class=\"detail__item-option\"><span>Камни:</span>[\\w\\W]+?\\s*</div>',str(jlook))[0]"
   ]
  },
  {
   "cell_type": "code",
   "execution_count": null,
   "metadata": {},
   "outputs": [],
   "source": [
    "re.search(r'Камни:\\s+([\\w\\W]+)', str(div_gems[0].text.strip()))[1]"
   ]
  },
  {
   "cell_type": "code",
   "execution_count": null,
   "metadata": {},
   "outputs": [],
   "source": [
    "jgems[0].text"
   ]
  },
  {
   "cell_type": "code",
   "execution_count": null,
   "metadata": {},
   "outputs": [],
   "source": [
    "data = pd.DataFrame(columns=['h1','art','price','gold','weight','gems','url'])"
   ]
  },
  {
   "cell_type": "code",
   "execution_count": null,
   "metadata": {},
   "outputs": [],
   "source": [
    " pd.options.display.max_colwidth = 200"
   ]
  },
  {
   "cell_type": "code",
   "execution_count": null,
   "metadata": {},
   "outputs": [],
   "source": [
    "urlcard = domain +links[0]\n",
    "urlcard"
   ]
  },
  {
   "cell_type": "code",
   "execution_count": null,
   "metadata": {},
   "outputs": [],
   "source": [
    "data"
   ]
  },
  {
   "cell_type": "code",
   "execution_count": null,
   "metadata": {},
   "outputs": [],
   "source": [
    "#отладка ручной прогон"
   ]
  },
  {
   "cell_type": "code",
   "execution_count": null,
   "metadata": {},
   "outputs": [],
   "source": [
    "#urlcard = 'https://miuz.ru/catalog/rings/R01-ALR52-090-G1/'"
   ]
  },
  {
   "cell_type": "code",
   "execution_count": null,
   "metadata": {},
   "outputs": [],
   "source": [
    "card = mysoup(urlcard)"
   ]
  },
  {
   "cell_type": "code",
   "execution_count": null,
   "metadata": {},
   "outputs": [],
   "source": [
    "card"
   ]
  },
  {
   "cell_type": "code",
   "execution_count": null,
   "metadata": {},
   "outputs": [],
   "source": [
    "re.findall(r'<div class=\"detail__item-option\"><span>Камни:</span>([\\w\\W]+?)\\s*</div>',str(card))"
   ]
  },
  {
   "cell_type": "code",
   "execution_count": null,
   "metadata": {},
   "outputs": [],
   "source": [
    "row = len(data)"
   ]
  },
  {
   "cell_type": "code",
   "execution_count": null,
   "metadata": {},
   "outputs": [],
   "source": [
    "data.loc[row,'url'] = urlcard"
   ]
  },
  {
   "cell_type": "code",
   "execution_count": null,
   "metadata": {},
   "outputs": [],
   "source": [
    "data.loc[row,'h1'] = card.find(\"h1\").text.strip()"
   ]
  },
  {
   "cell_type": "code",
   "execution_count": null,
   "metadata": {},
   "outputs": [],
   "source": [
    "data.loc[row,'art'] = card.select('body > div.grid > div > div > div.shops__breadcrumbs.catalog_breadcrumbs > div > div:nth-child(4) > span > span')\n"
   ]
  },
  {
   "cell_type": "code",
   "execution_count": null,
   "metadata": {},
   "outputs": [],
   "source": [
    "card.select('body > div.grid > div > div > div.shops__breadcrumbs.catalog_breadcrumbs > div > div:nth-child(4) > span > span')"
   ]
  },
  {
   "cell_type": "code",
   "execution_count": null,
   "metadata": {},
   "outputs": [],
   "source": [
    "data.loc[row,'price'] = float(''.join(re.findall(r'\\d+', card.find('div',\"detail__item-price-new\").text)))"
   ]
  },
  {
   "cell_type": "code",
   "execution_count": null,
   "metadata": {},
   "outputs": [],
   "source": [
    "data.loc[row,'gold'] = re.findall(r\"(Золото\\s+\\d+)\",str(card))[0]"
   ]
  },
  {
   "cell_type": "code",
   "execution_count": null,
   "metadata": {},
   "outputs": [],
   "source": [
    "div_gems = card.select('body > div.grid > div > div > div.detail__item.detail__item--new > div.detail__item-col._3.position-relative > form > div:nth-child(8)')"
   ]
  },
  {
   "cell_type": "code",
   "execution_count": null,
   "metadata": {},
   "outputs": [],
   "source": [
    "div_gems = card.find_all('div','detail__item-option')[3]"
   ]
  },
  {
   "cell_type": "code",
   "execution_count": null,
   "metadata": {},
   "outputs": [],
   "source": [
    "card.find_all('div','detail__item-option')[1].text\n"
   ]
  },
  {
   "cell_type": "code",
   "execution_count": null,
   "metadata": {},
   "outputs": [],
   "source": [
    "len(card.find_all('div','detail__item-option'))"
   ]
  },
  {
   "cell_type": "code",
   "execution_count": null,
   "metadata": {},
   "outputs": [],
   "source": [
    "len(jlook.find_all('div','detail__item-option'))"
   ]
  },
  {
   "cell_type": "code",
   "execution_count": null,
   "metadata": {},
   "outputs": [],
   "source": [
    "jlook.find_all('div','detail__item-option')[].text"
   ]
  },
  {
   "cell_type": "code",
   "execution_count": null,
   "metadata": {},
   "outputs": [],
   "source": [
    "str(card)"
   ]
  },
  {
   "cell_type": "code",
   "execution_count": null,
   "metadata": {},
   "outputs": [],
   "source": [
    "re.search(r'Камни:\\s+([\\w\\W]+)', str(div_gems.text.strip()))"
   ]
  },
  {
   "cell_type": "code",
   "execution_count": null,
   "metadata": {},
   "outputs": [],
   "source": [
    " str(div_gems.text.strip())"
   ]
  },
  {
   "cell_type": "code",
   "execution_count": null,
   "metadata": {},
   "outputs": [],
   "source": [
    "data.loc[row,'gems'] = re.search(r'Камни:\\s+([\\w\\W]+)', str(div_gems.text.strip()))[1]"
   ]
  },
  {
   "cell_type": "code",
   "execution_count": null,
   "metadata": {},
   "outputs": [],
   "source": [
    "data.loc[row,'weight'] = float(re.findall(r\"(?:Вес:\\n)\\s+(\\d+.\\d+)\",\n",
    "                                          card.find_all('div','detail__item-option')[1].text)[0])"
   ]
  },
  {
   "cell_type": "code",
   "execution_count": null,
   "metadata": {},
   "outputs": [],
   "source": [
    "card.find_all('div','detail__item-option')[1].text"
   ]
  },
  {
   "cell_type": "code",
   "execution_count": null,
   "metadata": {},
   "outputs": [],
   "source": [
    "re.findall(r\"(?:Вес:\\n)\\s+(\\d+.\\d+)\",card.find_all('div','detail__item-option')[1].text)[0]"
   ]
  },
  {
   "cell_type": "code",
   "execution_count": null,
   "metadata": {},
   "outputs": [],
   "source": [
    "div_gems = card.select('body > div.grid > div > div > div.detail__item.detail__item--new > div.detail__item-col._3.position-relative > form > div:nth-child(8)')"
   ]
  },
  {
   "cell_type": "code",
   "execution_count": null,
   "metadata": {},
   "outputs": [],
   "source": [
    "re.findall(r'Камни:\\s+([\\w\\W]+)',div_gems[0].text.strip())[0]"
   ]
  },
  {
   "cell_type": "code",
   "execution_count": null,
   "metadata": {},
   "outputs": [],
   "source": [
    " \n",
    "data.loc[row,'gold'] = re.findall(r\"(Золото\\s+\\d+)\",str(card))[0]\n",
    "data.loc[row,'weight'] = float(re.findall(r\"(?:Вес:\\n)\\s+(\\d+.\\d+)\",\n",
    "                                          card.find_all('div','detail__item-option')[1].text)[0])\n",
    "#data.loc[row,'weight'] = float(re.findall(r\"(?:Вес:\\n)\\s+(\\d+.\\d+)\",str(card))[1])\n",
    "div_gems = card.select('body > div.grid > div > div > div.detail__item.detail__item--new > div.detail__item-col._3.position-relative > form > div:nth-child(8)')\n",
    "#data.loc[row,'gems'] = re.search(r'Камни:\\s+([\\w\\W]+)', str(div_gems[0].text.strip()))[1]\n",
    "data.loc[row,'gems'] = re.findall(r'Камни:\\s+([\\w\\W]+)',div_gems[0].text.strip())[0]"
   ]
  },
  {
   "cell_type": "code",
   "execution_count": null,
   "metadata": {},
   "outputs": [],
   "source": [
    "data"
   ]
  },
  {
   "cell_type": "code",
   "execution_count": null,
   "metadata": {},
   "outputs": [],
   "source": []
  },
  {
   "cell_type": "code",
   "execution_count": null,
   "metadata": {},
   "outputs": [],
   "source": []
  },
  {
   "cell_type": "code",
   "execution_count": null,
   "metadata": {},
   "outputs": [],
   "source": []
  },
  {
   "cell_type": "code",
   "execution_count": null,
   "metadata": {},
   "outputs": [],
   "source": []
  },
  {
   "cell_type": "code",
   "execution_count": null,
   "metadata": {},
   "outputs": [],
   "source": [
    "#change 151121\n",
    "data.loc[row,'art'] = card.select('body > div.grid > div > div > div.detail__item.detail__item--new > div.detail__item-col._3.position-relative > div.title-line > meta:nth-child(1)')"
   ]
  },
  {
   "cell_type": "code",
   "execution_count": null,
   "metadata": {},
   "outputs": [],
   "source": [
    "data.loc[row,'price'] = float(''.join(re.findall(r'\\d+', card.find('div',\"detail__item-price-new\").text)))"
   ]
  },
  {
   "cell_type": "code",
   "execution_count": null,
   "metadata": {},
   "outputs": [],
   "source": [
    "data.loc[row,'gold'] = re.findall(r\"(Золото\\s+\\d+)\",str(card))[0]"
   ]
  },
  {
   "cell_type": "code",
   "execution_count": null,
   "metadata": {},
   "outputs": [],
   "source": [
    "data.loc[row,'weight'] = float(re.findall(r\"(?:Вес:</span>\\n)\\s+(\\d+.\\d+)\",str(card))[0])"
   ]
  },
  {
   "cell_type": "code",
   "execution_count": null,
   "metadata": {},
   "outputs": [],
   "source": [
    "#div_gems = card.select('body > div.grid > div > div > div.detail__item.detail__item--new > div.detail__item-col._3.position-relative > form > div:nth-child(8)')\n",
    "#data.loc[row,'gems'] = re.search(r'Камни:\\s+([\\w\\W]+)', str(div_gems[0].text.strip()))[1]\n",
    "div_gems = re.findall(r'<div class=\"detail__item-option\"><span>Камни:</span>([\\w\\W]+?)\\s*</div>',str(card))\n",
    "\n",
    "data.loc[row,'gems'] = div_gems[0]"
   ]
  },
  {
   "cell_type": "code",
   "execution_count": null,
   "metadata": {},
   "outputs": [],
   "source": []
  },
  {
   "cell_type": "code",
   "execution_count": null,
   "metadata": {
    "scrolled": false
   },
   "outputs": [],
   "source": [
    "#old_2021\n",
    "for i in range(0,len(links)):\n",
    "    try:\n",
    "        urlcard = domain +links[i]\n",
    "        card = mysoup(urlcard)\n",
    "        row = len(data)\n",
    "        data.loc[row,'url'] = urlcard\n",
    "        data.loc[row,'h1'] = card.find(\"h1\").text.strip()\n",
    "        data.loc[row,'art'] = card.select('body > div.grid > div > div > div.shops__breadcrumbs.catalog_breadcrumbs > div > div:nth-child(4) > span > span')\n",
    "        data.loc[row,'price'] = float(''.join(re.findall(r'\\d+', card.find('div',\"detail__item-price-new\").text)))\n",
    "        data.loc[row,'gold'] = re.findall(r\"(Золото\\s+\\d+)\",str(card))[0]\n",
    "        data.loc[row,'weight'] = float(re.findall(r\"(?:Вес:</span>\\n)\\s+(\\d+.\\d+)\",str(card))[0])\n",
    "        div_gems = card.select('body > div.grid > div > div > div.detail__item.detail__item--new > div.detail__item-col._3.position-relative > form > div:nth-child(8)')\n",
    "        data.loc[row,'gems'] = re.search(r'Камни:\\s+([\\w\\W]+)', str(div_gems[0].text.strip()))[1]\n",
    "    except (AttributeError,TypeError) as e:\n",
    "        print('error',e)\n",
    "    except IndexError:\n",
    "        print('indexerror len of = ' , len(card.find_all('div','detail__item-option')) )\n",
    "    print(i, urlcard)\n"
   ]
  },
  {
   "cell_type": "code",
   "execution_count": null,
   "metadata": {},
   "outputs": [],
   "source": [
    "#14-04-2022\n",
    "for i in range(0,len(links)):\n",
    "    try:\n",
    "        urlcard = domain +links[i]\n",
    "        card = mysoup(urlcard)\n",
    "        row = len(data)\n",
    "        data.loc[row,'url'] = urlcard\n",
    "        data.loc[row,'h1'] = card.find(\"h1\").text.strip()\n",
    "        data.loc[row,'art'] = card.select('body > div.grid > div > div > div.shops__breadcrumbs.catalog_breadcrumbs > div > div:nth-child(4) > span > span')\n",
    "        data.loc[row,'price'] = float(''.join(re.findall(r'\\d+', card.find('div',\"detail__item-price-new\").text)))\n",
    "        data.loc[row,'gold'] = re.findall(r\"(Золото\\s+\\d+)\",str(card))[0]\n",
    "        data.loc[row,'weight'] = float(re.findall(r\"(?:Вес:</span>\\n)\\s+(\\d+.\\d+)\",str(card))[0])\n",
    "        div_gems = card.select('body > div.grid > div > div > div.detail__item.detail__item--new > div.detail__item-col._3.position-relative > form > div:nth-child(8)')\n",
    "        data.loc[row,'gems'] = re.search(r'Камни:\\s+([\\w\\W]+)', str(div_gems[0].text.strip()))[1]\n",
    "    except (AttributeError,TypeError) as e:\n",
    "        print('error',e)\n",
    "    except IndexError:\n",
    "        print('indexerror len of = ' , len(card.find_all('div','detail__item-option')) )\n",
    "    print(i, urlcard)\n"
   ]
  },
  {
   "cell_type": "code",
   "execution_count": null,
   "metadata": {
    "scrolled": false
   },
   "outputs": [],
   "source": [
    "data"
   ]
  },
  {
   "cell_type": "code",
   "execution_count": null,
   "metadata": {},
   "outputs": [],
   "source": [
    "import os"
   ]
  },
  {
   "cell_type": "code",
   "execution_count": null,
   "metadata": {},
   "outputs": [],
   "source": [
    "folders = os.listdir()\n",
    "[q for q in (enumerate(folders))]"
   ]
  },
  {
   "cell_type": "code",
   "execution_count": null,
   "metadata": {},
   "outputs": [],
   "source": [
    "resfolder = folders[14]"
   ]
  },
  {
   "cell_type": "code",
   "execution_count": null,
   "metadata": {},
   "outputs": [],
   "source": [
    "resfolder"
   ]
  },
  {
   "cell_type": "code",
   "execution_count": null,
   "metadata": {},
   "outputs": [],
   "source": []
  },
  {
   "cell_type": "code",
   "execution_count": null,
   "metadata": {},
   "outputs": [],
   "source": [
    "data.to_excel(resfolder+'/'+'mius140422_0-4431.xlsx')\n"
   ]
  },
  {
   "cell_type": "code",
   "execution_count": null,
   "metadata": {},
   "outputs": [],
   "source": []
  },
  {
   "cell_type": "code",
   "execution_count": null,
   "metadata": {},
   "outputs": [],
   "source": []
  },
  {
   "cell_type": "code",
   "execution_count": null,
   "metadata": {},
   "outputs": [],
   "source": []
  },
  {
   "cell_type": "code",
   "execution_count": null,
   "metadata": {},
   "outputs": [],
   "source": []
  },
  {
   "cell_type": "code",
   "execution_count": null,
   "metadata": {},
   "outputs": [],
   "source": [
    "urlcard"
   ]
  },
  {
   "cell_type": "code",
   "execution_count": null,
   "metadata": {},
   "outputs": [],
   "source": [
    "linkspd = pd.DataFrame(links)"
   ]
  },
  {
   "cell_type": "code",
   "execution_count": null,
   "metadata": {},
   "outputs": [],
   "source": [
    "linkspd.rename(columns={0:'short'}, inplace=True)"
   ]
  },
  {
   "cell_type": "code",
   "execution_count": null,
   "metadata": {},
   "outputs": [],
   "source": [
    "linkspd['path'] = domain +linkspd['short']"
   ]
  },
  {
   "cell_type": "code",
   "execution_count": null,
   "metadata": {},
   "outputs": [],
   "source": [
    "linkspd.to_excel('links5500_16112021.xlsx')"
   ]
  },
  {
   "cell_type": "code",
   "execution_count": null,
   "metadata": {},
   "outputs": [],
   "source": []
  },
  {
   "cell_type": "code",
   "execution_count": null,
   "metadata": {},
   "outputs": [],
   "source": []
  },
  {
   "cell_type": "code",
   "execution_count": null,
   "metadata": {},
   "outputs": [],
   "source": []
  },
  {
   "cell_type": "code",
   "execution_count": null,
   "metadata": {},
   "outputs": [],
   "source": []
  },
  {
   "cell_type": "code",
   "execution_count": null,
   "metadata": {},
   "outputs": [],
   "source": []
  },
  {
   "cell_type": "code",
   "execution_count": null,
   "metadata": {},
   "outputs": [],
   "source": []
  },
  {
   "cell_type": "code",
   "execution_count": null,
   "metadata": {},
   "outputs": [],
   "source": []
  },
  {
   "cell_type": "code",
   "execution_count": null,
   "metadata": {},
   "outputs": [],
   "source": [
    "re.findall(r\"(?:Вес:</span>\\n)\\s+(\\d+.\\d+)\",str(card))"
   ]
  },
  {
   "cell_type": "code",
   "execution_count": null,
   "metadata": {},
   "outputs": [],
   "source": [
    "card"
   ]
  },
  {
   "cell_type": "code",
   "execution_count": null,
   "metadata": {},
   "outputs": [],
   "source": []
  },
  {
   "cell_type": "code",
   "execution_count": null,
   "metadata": {},
   "outputs": [],
   "source": [
    "card = mysoup(urlcard)\n",
    "row = len(data)\n",
    "data.loc[row,'h1'] = card.find(\"h1\").text.strip()\n",
    "data.loc[row,'art'] = card.select('body > div.grid > div > div > div.shops__breadcrumbs.catalog_breadcrumbs > div > div:nth-child(4) > span > span')\n",
    "\n",
    "data.loc[row,'price'] = float(''.join(re.findall(r'\\d+', card.find('div',\"detail__item-price-new\").text)))\n",
    "              \n",
    "\n",
    "#quotes_inner = card.find_all('div', \"detail__item-option\")\n",
    "#quotes_inner\n",
    "\n",
    "data.loc[row,'gold'] = re.findall(r\"(Золото\\s+\\d+)\",str(quotes_inner[0]))[0]\n",
    "\n",
    "data.loc[row,'weight'] = float(re.findall(r\"(?:Вес:</span>\\n)\\s+(\\d+.\\d+)\",str(card))[0])\n",
    "\n",
    "div_gems = card.select('body > div.grid > div > div > div.detail__item.detail__item--new > div.detail__item-col._3.position-relative > form > div:nth-child(8)')\n",
    "\n",
    "data.loc[row,'gems'] = re.search(r'Камни:\\s+([\\w\\W]+)', str(div_gems[0].text.strip()))[1]\n"
   ]
  },
  {
   "cell_type": "code",
   "execution_count": null,
   "metadata": {},
   "outputs": [],
   "source": []
  },
  {
   "cell_type": "code",
   "execution_count": null,
   "metadata": {},
   "outputs": [],
   "source": []
  },
  {
   "cell_type": "code",
   "execution_count": null,
   "metadata": {},
   "outputs": [],
   "source": []
  },
  {
   "cell_type": "code",
   "execution_count": null,
   "metadata": {},
   "outputs": [],
   "source": []
  },
  {
   "cell_type": "code",
   "execution_count": null,
   "metadata": {},
   "outputs": [],
   "source": [
    "patt_muis = r\"\"\"(?ix) (?P<N>\\d*)\\s+(?:Брилл\\w+)(?P<Form>[\\w\\W])[^,]\"\"\""
   ]
  },
  {
   "cell_type": "code",
   "execution_count": null,
   "metadata": {
    "scrolled": true
   },
   "outputs": [],
   "source": [
    "re.findall(patt_muis,div_gems[0].text.strip() ) "
   ]
  },
  {
   "cell_type": "code",
   "execution_count": null,
   "metadata": {},
   "outputs": [],
   "source": []
  },
  {
   "cell_type": "code",
   "execution_count": null,
   "metadata": {},
   "outputs": [],
   "source": []
  },
  {
   "cell_type": "code",
   "execution_count": null,
   "metadata": {},
   "outputs": [],
   "source": []
  },
  {
   "cell_type": "code",
   "execution_count": null,
   "metadata": {},
   "outputs": [],
   "source": []
  },
  {
   "cell_type": "code",
   "execution_count": null,
   "metadata": {},
   "outputs": [],
   "source": []
  },
  {
   "cell_type": "code",
   "execution_count": null,
   "metadata": {},
   "outputs": [],
   "source": []
  },
  {
   "cell_type": "code",
   "execution_count": null,
   "metadata": {},
   "outputs": [],
   "source": []
  },
  {
   "cell_type": "code",
   "execution_count": null,
   "metadata": {},
   "outputs": [],
   "source": [
    "response = requests.get(urls)"
   ]
  },
  {
   "cell_type": "code",
   "execution_count": null,
   "metadata": {},
   "outputs": [],
   "source": []
  },
  {
   "cell_type": "code",
   "execution_count": null,
   "metadata": {},
   "outputs": [],
   "source": []
  },
  {
   "cell_type": "code",
   "execution_count": null,
   "metadata": {},
   "outputs": [],
   "source": []
  },
  {
   "cell_type": "code",
   "execution_count": null,
   "metadata": {},
   "outputs": [],
   "source": [
    "soup = BeautifulSoup(response.text, 'lxml')\n",
    "quotes = soup.find_all('div', class_=\"product\")\n"
   ]
  },
  {
   "cell_type": "code",
   "execution_count": null,
   "metadata": {},
   "outputs": [],
   "source": [
    "domain = 'https://miuz.ru'"
   ]
  },
  {
   "cell_type": "code",
   "execution_count": null,
   "metadata": {},
   "outputs": [],
   "source": [
    "link_to_product = domain+quotes[1].find(\"a\").get(\"href\")"
   ]
  },
  {
   "cell_type": "code",
   "execution_count": null,
   "metadata": {},
   "outputs": [],
   "source": [
    "response_inner = requests.get(link_to_product)"
   ]
  },
  {
   "cell_type": "code",
   "execution_count": null,
   "metadata": {},
   "outputs": [],
   "source": [
    "soup_inner = BeautifulSoup(response_inner.text, 'lxml')"
   ]
  },
  {
   "cell_type": "code",
   "execution_count": null,
   "metadata": {},
   "outputs": [],
   "source": []
  },
  {
   "cell_type": "code",
   "execution_count": null,
   "metadata": {},
   "outputs": [],
   "source": [
    "quotes_inner = soup_inner.find_all('div', \"detail__item-option\")\n",
    "quotes_inner"
   ]
  },
  {
   "cell_type": "code",
   "execution_count": null,
   "metadata": {},
   "outputs": [],
   "source": []
  },
  {
   "cell_type": "code",
   "execution_count": null,
   "metadata": {},
   "outputs": [],
   "source": [
    "str(quotes_inner[2].find('span',\"href\"))\n",
    "    "
   ]
  },
  {
   "cell_type": "code",
   "execution_count": null,
   "metadata": {},
   "outputs": [],
   "source": [
    "select('body > div.grid > div > div > div.detail__item.detail__item--new > div.detail__item-col._3.position-relative > form > div:nth-child(8)')"
   ]
  },
  {
   "cell_type": "code",
   "execution_count": null,
   "metadata": {},
   "outputs": [],
   "source": []
  },
  {
   "cell_type": "code",
   "execution_count": null,
   "metadata": {},
   "outputs": [],
   "source": []
  },
  {
   "cell_type": "code",
   "execution_count": null,
   "metadata": {},
   "outputs": [],
   "source": [
    "body > div.grid > div > div > div.detail__item.detail__item--new > div.detail__item-col._3.position-relative > form > div:nth-child(8)"
   ]
  },
  {
   "cell_type": "code",
   "execution_count": null,
   "metadata": {},
   "outputs": [],
   "source": []
  },
  {
   "cell_type": "code",
   "execution_count": null,
   "metadata": {},
   "outputs": [],
   "source": [
    "div class=\"detail__item-option\""
   ]
  },
  {
   "cell_type": "code",
   "execution_count": null,
   "metadata": {
    "scrolled": false
   },
   "outputs": [],
   "source": [
    "BeautifulSoup(response_inner.text, 'lxml')"
   ]
  },
  {
   "cell_type": "code",
   "execution_count": null,
   "metadata": {},
   "outputs": [],
   "source": []
  },
  {
   "cell_type": "code",
   "execution_count": null,
   "metadata": {},
   "outputs": [],
   "source": [
    "quotes[1].prettify()"
   ]
  },
  {
   "cell_type": "code",
   "execution_count": null,
   "metadata": {},
   "outputs": [],
   "source": [
    "name = str(quotes[2].find('div',\"product__name_catalog_list\"))\n",
    "name = name.replace('<div class=\"product__name_catalog_list\">\\n','').replace('</div>','').strip()\n",
    "name"
   ]
  },
  {
   "cell_type": "code",
   "execution_count": null,
   "metadata": {},
   "outputs": [],
   "source": [
    "pricenew = str(quotes[2].find('span',\"product__price-new\"))\n",
    "pricenew.replace('<span class=\"product__price-new\">','').replace( '<span class=\"rub\"></span>\\n</span>','').strip()"
   ]
  },
  {
   "cell_type": "code",
   "execution_count": null,
   "metadata": {},
   "outputs": [],
   "source": [
    "quotes0[3].find('span', 'link__text')"
   ]
  },
  {
   "cell_type": "code",
   "execution_count": null,
   "metadata": {},
   "outputs": [],
   "source": [
    "type(quotes0[3])"
   ]
  },
  {
   "cell_type": "code",
   "execution_count": null,
   "metadata": {},
   "outputs": [],
   "source": [
    "quotes[1].find('span',\"href\")"
   ]
  },
  {
   "cell_type": "code",
   "execution_count": null,
   "metadata": {},
   "outputs": [],
   "source": [
    "quotes[1].find('div',\"product__name_catalog_list\")"
   ]
  },
  {
   "cell_type": "code",
   "execution_count": null,
   "metadata": {},
   "outputs": [],
   "source": []
  },
  {
   "cell_type": "code",
   "execution_count": null,
   "metadata": {},
   "outputs": [],
   "source": [
    "quotes[1]"
   ]
  },
  {
   "cell_type": "code",
   "execution_count": null,
   "metadata": {},
   "outputs": [],
   "source": [
    "for i in range(len(quotes)):\n",
    "    print('---\\n', i, quotes[i].find()) )"
   ]
  },
  {
   "cell_type": "code",
   "execution_count": null,
   "metadata": {},
   "outputs": [],
   "source": [
    "quotes0[1]"
   ]
  },
  {
   "cell_type": "code",
   "execution_count": null,
   "metadata": {},
   "outputs": [],
   "source": [
    "if len(quotes) != 0:\n",
    "    for i in range(len(quotes)):\n",
    "        name = str(quotes[i].find('span', 'link__text'))\n",
    "        name = name.replace('<span class=\"link__text\">', '')\n",
    "        name = name.replace('</span>', '')\n",
    "        \n",
    "        url = str(quotes[i].find('a', 'link link_font_large margin_bottom_10 link-holder'))\n",
    "        url = url.replace('<a class=\"link link_font_large margin_bottom_10 link-holder\" href=\"', 'https://dobro.mail.ru')\n",
    "        url = url.split('\"')[0]\n",
    "        \n",
    "        city = str(quotes[i].find('div', 'p-fund__city margin_bottom_5'))\n",
    "        city = city.replace('<div class=\"p-fund__city margin_bottom_5\">', '')\n",
    "        city = city.replace('</div>', '')\n",
    "        \n",
    "        responses = requests.get(url)\n",
    "        soups = BeautifulSoup(responses.text, 'lxml')\n",
    "        \n",
    "        site = soups.find_all('div', class_='p-fund-detail__info-row')\n",
    "        if str(site[0].find('a', 'link')) == None:\n",
    "            site = str(site[0].find('a', 'link'))\n",
    "            site = site.replace('<span class=\"link__text\">', '')\n",
    "            site = site.replace('</span>', '')\n",
    "        else:\n",
    "            site = str(site[1].find('a', 'link'))\n",
    "            site = site.replace('<span class=\"link__text\">', '')\n",
    "            site = site.split('\"')[3]\n",
    "        \n",
    "        print(name + '\\n' + city + '\\n' + url + '\\n' + site + '\\n')\n",
    "else:\n",
    "    print('Нет')\n",
    "    "
   ]
  },
  {
   "cell_type": "code",
   "execution_count": null,
   "metadata": {},
   "outputs": [],
   "source": []
  }
 ],
 "metadata": {
  "kernelspec": {
   "display_name": "Python 3",
   "language": "python",
   "name": "python3"
  },
  "language_info": {
   "codemirror_mode": {
    "name": "ipython",
    "version": 3
   },
   "file_extension": ".py",
   "mimetype": "text/x-python",
   "name": "python",
   "nbconvert_exporter": "python",
   "pygments_lexer": "ipython3",
   "version": "3.8.8"
  },
  "toc": {
   "base_numbering": 1,
   "nav_menu": {},
   "number_sections": true,
   "sideBar": true,
   "skip_h1_title": false,
   "title_cell": "Table of Contents",
   "title_sidebar": "Contents",
   "toc_cell": false,
   "toc_position": {
    "height": "calc(100% - 180px)",
    "left": "10px",
    "top": "150px",
    "width": "384px"
   },
   "toc_section_display": true,
   "toc_window_display": true
  }
 },
 "nbformat": 4,
 "nbformat_minor": 2
}
