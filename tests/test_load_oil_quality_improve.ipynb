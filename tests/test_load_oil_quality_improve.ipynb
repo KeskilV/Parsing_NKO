{
 "cells": [
  {
   "cell_type": "code",
   "execution_count": 1,
   "id": "e36999b5",
   "metadata": {},
   "outputs": [],
   "source": [
    "import pandas as pd"
   ]
  },
  {
   "cell_type": "code",
   "execution_count": 2,
   "id": "dd61543e",
   "metadata": {},
   "outputs": [],
   "source": [
    "#import\n",
    "#readme \n",
    "def check_columns(data, controlcolumns, ignore_extra = True):\n",
    "    '''\n",
    "    Signature:\n",
    "        check_columns(\n",
    "        data: 'DataFrame',\n",
    "        controlcolumns: 'list-like'\n",
    "        ignore_extra = True\n",
    "        ) -> 'bool'\n",
    "    DocstringDataFrame:\n",
    "        Проверяет соответствие столбцов в обрабатываемом файле, \n",
    "        по умолчанию игнорирует избыточные столбцы\n",
    "    Parametrs\n",
    "    ---------\n",
    "        data: DataFrame\n",
    "        controlcolumns: 'list-like'\n",
    "            должны содержаться эти столбцы\n",
    "        ignore_extra: bool, default True\n",
    "            игнорирует избыточные столбцы\n",
    "    Returns\n",
    "    -------\n",
    "        True|False\n",
    "    '''\n",
    "    set_data_columns = set(data.columns)\n",
    "    set_columns = set (controlcolumns)\n",
    "    if ignore_extra:\n",
    "        return set_columns.issubset(set_data_columns)\n",
    "    else:\n",
    "        return set_columns == set_data_columns\n",
    "    "
   ]
  },
  {
   "cell_type": "code",
   "execution_count": 6,
   "id": "e51d15f1",
   "metadata": {},
   "outputs": [
    {
     "name": "stderr",
     "output_type": "stream",
     "text": [
      "test_checkcolumns_v1 (__main__.Test_checkcolumns) ... ok\n",
      "test_checkcolumns_v2 (__main__.Test_checkcolumns) ... ok\n",
      "test_checkcolumns_v3 (__main__.Test_checkcolumns) ... ok\n",
      "\n",
      "----------------------------------------------------------------------\n",
      "Ran 3 tests in 18.582s\n",
      "\n",
      "OK\n"
     ]
    }
   ],
   "source": [
    "import unittest\n",
    "\n",
    "class Test_checkcolumns(unittest.TestCase):\n",
    "    def test_checkcolumns_v2(self):\n",
    "        data = pd.read_excel('data/_joined-2022-09-09-10-18-Copy1.xlsx').head()\n",
    "        controlcolumns = {'art', 'd0', 'd1', 'filname', 'gems', 'gems2', 'gold',\n",
    " 'gold2', 'h1', 'price', 'price2', 'source', 'url', 'weight'}\n",
    "        self.assertEqual(check_columns(data, controlcolumns), True)\n",
    "        \n",
    "    def test_checkcolumns_v1(self):\n",
    "        data = pd.read_excel('data/_joined-2022-09-09-10-18-Copy1.xlsx').head()\n",
    "        controlcolumns = {'art', 'extracol', 'd0', 'd1', 'filname', 'gems', 'gems2', 'gold',\n",
    " 'gold2', 'h1', 'price', 'price2', 'source', 'url', 'weight'}\n",
    "        self.assertEqual(check_columns(data, controlcolumns), False)\n",
    "        \n",
    "    def test_checkcolumns_v3(self):\n",
    "        data = pd.read_excel('data/_joined-2022-09-09-10-18-Copy1.xlsx').head()\n",
    "        controlcolumns = {'art', 'd0', 'd1', 'filname', 'gems', 'gems2', 'gold',\n",
    " 'gold2', 'h1', 'price', 'price2', 'source', 'url', 'weight'}\n",
    "        self.assertEqual(check_columns(data, controlcolumns, ignore_extra=False), False)\n",
    "\n",
    "\n",
    "\n",
    "\n",
    "res = unittest.main(argv=[''], verbosity=3, exit=False)\n",
    "\n",
    "# if we want our notebook to stop processing due to failures, we need a cell itself to fail\n",
    "assert len(res.result.failures) == 0\n"
   ]
  },
  {
   "cell_type": "code",
   "execution_count": null,
   "id": "066c2dfd",
   "metadata": {},
   "outputs": [],
   "source": []
  },
  {
   "cell_type": "code",
   "execution_count": 70,
   "id": "de8eda1c",
   "metadata": {},
   "outputs": [],
   "source": [
    "import datetime\n",
    "import dateutil\n",
    "\n",
    "def make_url(date):\n",
    "    \"\"\"Return the url for our API call based on date.\"\"\"\n",
    "\n",
    "    if isinstance(date, str):\n",
    "        date = dateutil.parser.parse(date).date()\n",
    "    elif not isinstance(date, datetime.date):\n",
    "        raise ValueError(\"must be a date\")\n",
    "    if date >= datetime.date(2020, 1, 1):\n",
    "        return f\"https://api.example.com/v2/{date.year}/{date.month}/{date.day}\"\n",
    "    else:\n",
    "        return f\"https://api.example.com/v1/{date:%Y-%m-%d}\"\n"
   ]
  },
  {
   "cell_type": "code",
   "execution_count": 71,
   "id": "4ac6fdbe",
   "metadata": {},
   "outputs": [
    {
     "name": "stderr",
     "output_type": "stream",
     "text": [
      "test_make_url_v1 (__main__.TestUrl) ... ok\n",
      "test_make_url_v2 (__main__.TestUrl) ... ok\n",
      "\n",
      "----------------------------------------------------------------------\n",
      "Ran 2 tests in 0.002s\n",
      "\n",
      "OK\n"
     ]
    }
   ],
   "source": [
    "import unittest\n",
    "\n",
    "class TestUrl(unittest.TestCase):\n",
    "    def test_make_url_v2(self):\n",
    "        date = datetime.date(2020, 1, 1)\n",
    "        self.assertEqual(make_url(date), \"https://api.example.com/v2/2020/1/1\")\n",
    "\n",
    "    def test_make_url_v1(self):\n",
    "        date = datetime.date(2019, 12, 31)\n",
    "        self.assertEqual(make_url(date), \"https://api.example.com/v1/2019-12-31\")\n",
    "\n",
    "\n",
    "res = unittest.main(argv=[''], verbosity=3, exit=False)\n",
    "\n",
    "# if we want our notebook to stop processing due to failures, we need a cell itself to fail\n",
    "assert len(res.result.failures) == 0\n"
   ]
  },
  {
   "cell_type": "code",
   "execution_count": null,
   "id": "da8e0eeb",
   "metadata": {},
   "outputs": [],
   "source": []
  },
  {
   "cell_type": "code",
   "execution_count": null,
   "id": "3706b037",
   "metadata": {},
   "outputs": [],
   "source": []
  }
 ],
 "metadata": {
  "kernelspec": {
   "display_name": "Python 3 (ipykernel)",
   "language": "python",
   "name": "python3"
  },
  "language_info": {
   "codemirror_mode": {
    "name": "ipython",
    "version": 3
   },
   "file_extension": ".py",
   "mimetype": "text/x-python",
   "name": "python",
   "nbconvert_exporter": "python",
   "pygments_lexer": "ipython3",
   "version": "3.9.7"
  },
  "toc": {
   "base_numbering": 1,
   "nav_menu": {},
   "number_sections": true,
   "sideBar": true,
   "skip_h1_title": false,
   "title_cell": "Table of Contents",
   "title_sidebar": "Contents",
   "toc_cell": false,
   "toc_position": {},
   "toc_section_display": true,
   "toc_window_display": false
  }
 },
 "nbformat": 4,
 "nbformat_minor": 5
}
