{
 "cells": [
  {
   "cell_type": "code",
   "execution_count": 2,
   "metadata": {},
   "outputs": [],
   "source": [
    "#v10.11.21 c func_rpdiamonds\n",
    "#разложение таблицы эксель с ювелиркой в таблицу с бриллиантами по ключу 1С7 и подстановка прейскуранта\n",
    "import numpy as np\n",
    "import pandas as pd\n",
    "import re\n",
    "import os"
   ]
  },
  {
   "cell_type": "code",
   "execution_count": 3,
   "metadata": {},
   "outputs": [],
   "source": [
    "from rusprice.dictdiamonds import dcol_dia, dcla_dia, dpo_dia, dogr_dia_discount"
   ]
  },
  {
   "cell_type": "code",
   "execution_count": 4,
   "metadata": {},
   "outputs": [],
   "source": [
    "import rusprice.func_rpdiamonds_xlsx as func_rpdiamonds"
   ]
  },
  {
   "cell_type": "code",
   "execution_count": 5,
   "metadata": {},
   "outputs": [
    {
     "data": {
      "text/plain": [
       "\"\\nparametrs = {'ШТУК':'ШТУК','ОГРАНКА':'ОГРАНКА', 'КАРАТ':'КАРАТ', 'ПО': 'ПО', 'Ц':'Ц', 'Д':'Д'}\\nrusian price of diamond v14-10-21 \\ndef rpdiamonds({'id':1,'ОГРАНКА':['Кр-57А'], 'Ц':[3], 'Д':['7а'], 'ПО': 'A','ШТУК':[1],'КАРАТ':0.35})\\n\""
      ]
     },
     "execution_count": 5,
     "metadata": {},
     "output_type": "execute_result"
    }
   ],
   "source": [
    "func_rpdiamonds.__doc__"
   ]
  },
  {
   "cell_type": "markdown",
   "metadata": {},
   "source": [
    "# Чтение файла и подготовка jewellery"
   ]
  },
  {
   "cell_type": "code",
   "execution_count": 6,
   "metadata": {},
   "outputs": [
    {
     "data": {
      "text/plain": [
       "[(0, '.DS_Store'), (1, 'miuz')]"
      ]
     },
     "execution_count": 6,
     "metadata": {},
     "output_type": "execute_result"
    }
   ],
   "source": [
    "folders = os.listdir(path='jewels/')\n",
    "[nf for nf in enumerate(folders)]"
   ]
  },
  {
   "cell_type": "code",
   "execution_count": 7,
   "metadata": {},
   "outputs": [
    {
     "data": {
      "text/plain": [
       "'jewels/miuz/'"
      ]
     },
     "execution_count": 7,
     "metadata": {},
     "output_type": "execute_result"
    }
   ],
   "source": [
    "#выбор папки\n",
    "#sourcepath = 'jewels/antipina2/'\n",
    "sourcepath = 'jewels/'+folders[1]+'/'\n",
    "sourcepath"
   ]
  },
  {
   "cell_type": "code",
   "execution_count": 8,
   "metadata": {},
   "outputs": [
    {
     "data": {
      "text/plain": [
       "[(0, '_failed_frommius1-6.xlsx'),\n",
       " (1, '_failed_re_mius1-6.xlsx'),\n",
       " (2, 'mius1-6.xlsx')]"
      ]
     },
     "execution_count": 8,
     "metadata": {},
     "output_type": "execute_result"
    }
   ],
   "source": [
    "files = os.listdir(path=sourcepath)\n",
    "[f for f in enumerate(files)]"
   ]
  },
  {
   "cell_type": "code",
   "execution_count": 9,
   "metadata": {},
   "outputs": [],
   "source": [
    "filename = files[2]"
   ]
  },
  {
   "cell_type": "code",
   "execution_count": 10,
   "metadata": {},
   "outputs": [],
   "source": [
    "#filename = 'jewels/artemeva/расчет ЛеженниковИсправл.xlsx'\n",
    "#filename = files[n]\n",
    "filenamep = filename.split('.')[0]"
   ]
  },
  {
   "cell_type": "code",
   "execution_count": 11,
   "metadata": {},
   "outputs": [
    {
     "name": "stdout",
     "output_type": "stream",
     "text": [
      "mius1-6\n"
     ]
    }
   ],
   "source": [
    "print(filenamep)"
   ]
  },
  {
   "cell_type": "code",
   "execution_count": 12,
   "metadata": {},
   "outputs": [],
   "source": [
    "raw = pd.read_excel(sourcepath+filename)"
   ]
  },
  {
   "cell_type": "code",
   "execution_count": 13,
   "metadata": {},
   "outputs": [
    {
     "name": "stdout",
     "output_type": "stream",
     "text": [
      "<class 'pandas.core.frame.DataFrame'>\n",
      "RangeIndex: 302 entries, 0 to 301\n",
      "Data columns (total 8 columns):\n",
      " #   Column      Non-Null Count  Dtype  \n",
      "---  ------      --------------  -----  \n",
      " 0   Unnamed: 0  302 non-null    int64  \n",
      " 1   h1          302 non-null    object \n",
      " 2   art         302 non-null    object \n",
      " 3   price       257 non-null    float64\n",
      " 4   gold        255 non-null    object \n",
      " 5   weight      238 non-null    float64\n",
      " 6   gems        236 non-null    object \n",
      " 7   url         302 non-null    object \n",
      "dtypes: float64(2), int64(1), object(5)\n",
      "memory usage: 19.0+ KB\n"
     ]
    }
   ],
   "source": [
    "raw.info()"
   ]
  },
  {
   "cell_type": "code",
   "execution_count": 14,
   "metadata": {},
   "outputs": [
    {
     "data": {
      "text/html": [
       "<div>\n",
       "<style scoped>\n",
       "    .dataframe tbody tr th:only-of-type {\n",
       "        vertical-align: middle;\n",
       "    }\n",
       "\n",
       "    .dataframe tbody tr th {\n",
       "        vertical-align: top;\n",
       "    }\n",
       "\n",
       "    .dataframe thead th {\n",
       "        text-align: right;\n",
       "    }\n",
       "</style>\n",
       "<table border=\"1\" class=\"dataframe\">\n",
       "  <thead>\n",
       "    <tr style=\"text-align: right;\">\n",
       "      <th></th>\n",
       "      <th>Unnamed: 0</th>\n",
       "      <th>h1</th>\n",
       "      <th>art</th>\n",
       "      <th>price</th>\n",
       "      <th>gold</th>\n",
       "      <th>weight</th>\n",
       "      <th>gems</th>\n",
       "      <th>url</th>\n",
       "    </tr>\n",
       "  </thead>\n",
       "  <tbody>\n",
       "    <tr>\n",
       "      <th>0</th>\n",
       "      <td>0</td>\n",
       "      <td>Кольцо c бриллиантом R01-SOL74-025-G2</td>\n",
       "      <td>[&lt;span itemprop=\"name\"&gt;Артикул R01-SOL74-025-G...</td>\n",
       "      <td>57745.0</td>\n",
       "      <td>Золото 585</td>\n",
       "      <td>1.25</td>\n",
       "      <td>1  Бриллиант огранки \"Круглая\" граней - 57, ти...</td>\n",
       "      <td>https://miuz.ru/catalog/rings/R01-SOL74-025-G2/</td>\n",
       "    </tr>\n",
       "    <tr>\n",
       "      <th>1</th>\n",
       "      <td>1</td>\n",
       "      <td>Кольцо c бриллиантом R01-WED-00147-RW</td>\n",
       "      <td>[&lt;span itemprop=\"name\"&gt;Артикул R01-WED-00147-R...</td>\n",
       "      <td>33594.0</td>\n",
       "      <td>Золото 585</td>\n",
       "      <td>1.89</td>\n",
       "      <td>1  Бриллиант огранки \"Круглая\" граней - 57, ти...</td>\n",
       "      <td>https://miuz.ru/catalog/rings/R01-WED-00147-RW/</td>\n",
       "    </tr>\n",
       "    <tr>\n",
       "      <th>2</th>\n",
       "      <td>2</td>\n",
       "      <td>Кольцо c бриллиантом R01-PL-34397-R</td>\n",
       "      <td>[&lt;span itemprop=\"name\"&gt;Артикул R01-PL-34397-R&lt;...</td>\n",
       "      <td>38094.0</td>\n",
       "      <td>Золото 585</td>\n",
       "      <td>2.59</td>\n",
       "      <td>1  Бриллиант огранки \"Круглая\" граней - 57, ти...</td>\n",
       "      <td>https://miuz.ru/catalog/rings/R01-PL-34397-R/</td>\n",
       "    </tr>\n",
       "    <tr>\n",
       "      <th>3</th>\n",
       "      <td>3</td>\n",
       "      <td>Кольцо c бриллиантами R01-WED-00032-R</td>\n",
       "      <td>[&lt;span itemprop=\"name\"&gt;Артикул R01-WED-00032-R...</td>\n",
       "      <td>65940.0</td>\n",
       "      <td>Золото 585</td>\n",
       "      <td>3.64</td>\n",
       "      <td>2  Бриллианта огранки \"Круглая\" граней - 57, т...</td>\n",
       "      <td>https://miuz.ru/catalog/rings/R01-WED-00032-R/</td>\n",
       "    </tr>\n",
       "    <tr>\n",
       "      <th>4</th>\n",
       "      <td>4</td>\n",
       "      <td>Кольцо c бриллиантами R01-35499-W</td>\n",
       "      <td>[&lt;span itemprop=\"name\"&gt;Артикул R01-35499-W&lt;/sp...</td>\n",
       "      <td>194994.0</td>\n",
       "      <td>Золото 585</td>\n",
       "      <td>3.98</td>\n",
       "      <td>9  Бриллиантов огранки \"Круглая\" граней - 57, ...</td>\n",
       "      <td>https://miuz.ru/catalog/rings/R01-35499-W/</td>\n",
       "    </tr>\n",
       "    <tr>\n",
       "      <th>...</th>\n",
       "      <td>...</td>\n",
       "      <td>...</td>\n",
       "      <td>...</td>\n",
       "      <td>...</td>\n",
       "      <td>...</td>\n",
       "      <td>...</td>\n",
       "      <td>...</td>\n",
       "      <td>...</td>\n",
       "    </tr>\n",
       "    <tr>\n",
       "      <th>297</th>\n",
       "      <td>297</td>\n",
       "      <td>Кольцо c бриллиантами R2011-1851355AD</td>\n",
       "      <td>[&lt;span itemprop=\"name\"&gt;Артикул R2011-1851355AD...</td>\n",
       "      <td>131940.0</td>\n",
       "      <td>Золото 585</td>\n",
       "      <td>3.91</td>\n",
       "      <td>6  Бриллиантов огранки \"Круглая\" граней - 17, ...</td>\n",
       "      <td>https://miuz.ru/catalog/rings/R2011-1851355AD/</td>\n",
       "    </tr>\n",
       "    <tr>\n",
       "      <th>298</th>\n",
       "      <td>298</td>\n",
       "      <td>Кольцо c бриллиантами и изумрудами R2017-R3045...</td>\n",
       "      <td>[&lt;span itemprop=\"name\"&gt;Артикул R2017-R304551EM...</td>\n",
       "      <td>30597.0</td>\n",
       "      <td>Золото 585</td>\n",
       "      <td>2.70</td>\n",
       "      <td>42  Бриллианта огранки \"Круглая\" граней - 17, ...</td>\n",
       "      <td>https://miuz.ru/catalog/rings/R2017-R304551EMP...</td>\n",
       "    </tr>\n",
       "    <tr>\n",
       "      <th>299</th>\n",
       "      <td>299</td>\n",
       "      <td>Кольцо c бриллиантами и гранатом R2017-R305306...</td>\n",
       "      <td>[&lt;span itemprop=\"name\"&gt;Артикул R2017-R305306GA...</td>\n",
       "      <td>34196.0</td>\n",
       "      <td>Золото 585</td>\n",
       "      <td>3.24</td>\n",
       "      <td>36  Бриллиантов огранки \"Круглая\" граней - 17,...</td>\n",
       "      <td>https://miuz.ru/catalog/rings/R2017-R305306GAN...</td>\n",
       "    </tr>\n",
       "    <tr>\n",
       "      <th>300</th>\n",
       "      <td>300</td>\n",
       "      <td>Кольцо c бриллиантами и сапфиром R2017-BODD127...</td>\n",
       "      <td>[&lt;span itemprop=\"name\"&gt;Артикул R2017-BODD1270A...</td>\n",
       "      <td>22996.0</td>\n",
       "      <td>Золото 585</td>\n",
       "      <td>1.82</td>\n",
       "      <td>26  Бриллиантов огранки \"Круглая\" граней - 17,...</td>\n",
       "      <td>https://miuz.ru/catalog/rings/R2017-BODD1270A-...</td>\n",
       "    </tr>\n",
       "    <tr>\n",
       "      <th>301</th>\n",
       "      <td>301</td>\n",
       "      <td>Кольцо c топазом и бриллиантами R2017-R304362BKT</td>\n",
       "      <td>[&lt;span itemprop=\"name\"&gt;Артикул R2017-R304362BK...</td>\n",
       "      <td>18396.0</td>\n",
       "      <td>Золото 585</td>\n",
       "      <td>2.06</td>\n",
       "      <td>1  Топаз, 2.424 карат;10  Бриллиантов огранки ...</td>\n",
       "      <td>https://miuz.ru/catalog/rings/R2017-R304362BKT/</td>\n",
       "    </tr>\n",
       "  </tbody>\n",
       "</table>\n",
       "<p>302 rows × 8 columns</p>\n",
       "</div>"
      ],
      "text/plain": [
       "     Unnamed: 0                                                 h1  \\\n",
       "0             0              Кольцо c бриллиантом R01-SOL74-025-G2   \n",
       "1             1              Кольцо c бриллиантом R01-WED-00147-RW   \n",
       "2             2                Кольцо c бриллиантом R01-PL-34397-R   \n",
       "3             3              Кольцо c бриллиантами R01-WED-00032-R   \n",
       "4             4                  Кольцо c бриллиантами R01-35499-W   \n",
       "..          ...                                                ...   \n",
       "297         297              Кольцо c бриллиантами R2011-1851355AD   \n",
       "298         298  Кольцо c бриллиантами и изумрудами R2017-R3045...   \n",
       "299         299  Кольцо c бриллиантами и гранатом R2017-R305306...   \n",
       "300         300  Кольцо c бриллиантами и сапфиром R2017-BODD127...   \n",
       "301         301   Кольцо c топазом и бриллиантами R2017-R304362BKT   \n",
       "\n",
       "                                                   art     price        gold  \\\n",
       "0    [<span itemprop=\"name\">Артикул R01-SOL74-025-G...   57745.0  Золото 585   \n",
       "1    [<span itemprop=\"name\">Артикул R01-WED-00147-R...   33594.0  Золото 585   \n",
       "2    [<span itemprop=\"name\">Артикул R01-PL-34397-R<...   38094.0  Золото 585   \n",
       "3    [<span itemprop=\"name\">Артикул R01-WED-00032-R...   65940.0  Золото 585   \n",
       "4    [<span itemprop=\"name\">Артикул R01-35499-W</sp...  194994.0  Золото 585   \n",
       "..                                                 ...       ...         ...   \n",
       "297  [<span itemprop=\"name\">Артикул R2011-1851355AD...  131940.0  Золото 585   \n",
       "298  [<span itemprop=\"name\">Артикул R2017-R304551EM...   30597.0  Золото 585   \n",
       "299  [<span itemprop=\"name\">Артикул R2017-R305306GA...   34196.0  Золото 585   \n",
       "300  [<span itemprop=\"name\">Артикул R2017-BODD1270A...   22996.0  Золото 585   \n",
       "301  [<span itemprop=\"name\">Артикул R2017-R304362BK...   18396.0  Золото 585   \n",
       "\n",
       "     weight                                               gems  \\\n",
       "0      1.25  1  Бриллиант огранки \"Круглая\" граней - 57, ти...   \n",
       "1      1.89  1  Бриллиант огранки \"Круглая\" граней - 57, ти...   \n",
       "2      2.59  1  Бриллиант огранки \"Круглая\" граней - 57, ти...   \n",
       "3      3.64  2  Бриллианта огранки \"Круглая\" граней - 57, т...   \n",
       "4      3.98  9  Бриллиантов огранки \"Круглая\" граней - 57, ...   \n",
       "..      ...                                                ...   \n",
       "297    3.91  6  Бриллиантов огранки \"Круглая\" граней - 17, ...   \n",
       "298    2.70  42  Бриллианта огранки \"Круглая\" граней - 17, ...   \n",
       "299    3.24  36  Бриллиантов огранки \"Круглая\" граней - 17,...   \n",
       "300    1.82  26  Бриллиантов огранки \"Круглая\" граней - 17,...   \n",
       "301    2.06  1  Топаз, 2.424 карат;10  Бриллиантов огранки ...   \n",
       "\n",
       "                                                   url  \n",
       "0      https://miuz.ru/catalog/rings/R01-SOL74-025-G2/  \n",
       "1      https://miuz.ru/catalog/rings/R01-WED-00147-RW/  \n",
       "2        https://miuz.ru/catalog/rings/R01-PL-34397-R/  \n",
       "3       https://miuz.ru/catalog/rings/R01-WED-00032-R/  \n",
       "4           https://miuz.ru/catalog/rings/R01-35499-W/  \n",
       "..                                                 ...  \n",
       "297     https://miuz.ru/catalog/rings/R2011-1851355AD/  \n",
       "298  https://miuz.ru/catalog/rings/R2017-R304551EMP...  \n",
       "299  https://miuz.ru/catalog/rings/R2017-R305306GAN...  \n",
       "300  https://miuz.ru/catalog/rings/R2017-BODD1270A-...  \n",
       "301    https://miuz.ru/catalog/rings/R2017-R304362BKT/  \n",
       "\n",
       "[302 rows x 8 columns]"
      ]
     },
     "execution_count": 14,
     "metadata": {},
     "output_type": "execute_result"
    }
   ],
   "source": [
    "raw"
   ]
  },
  {
   "cell_type": "code",
   "execution_count": 15,
   "metadata": {},
   "outputs": [],
   "source": [
    "#for all\n",
    "jewellery = raw"
   ]
  },
  {
   "cell_type": "code",
   "execution_count": 16,
   "metadata": {},
   "outputs": [],
   "source": [
    "jewellery['checklog'] = ''\n",
    "#jewellery['filname'] = filename"
   ]
  },
  {
   "cell_type": "code",
   "execution_count": 17,
   "metadata": {
    "scrolled": true
   },
   "outputs": [],
   "source": [
    "jewellery.loc[jewellery.gems.isna()].to_excel(sourcepath+'_failed_from'+filenamep+'.xlsx')"
   ]
  },
  {
   "cell_type": "code",
   "execution_count": 18,
   "metadata": {},
   "outputs": [],
   "source": [
    "jewellery = jewellery.loc[~jewellery.gems.isna()].copy()"
   ]
  },
  {
   "cell_type": "markdown",
   "metadata": {},
   "source": [
    "# Выделение наполнение vstavki "
   ]
  },
  {
   "cell_type": "code",
   "execution_count": 19,
   "metadata": {},
   "outputs": [],
   "source": [
    "pd.options.display.max_colwidth = 200"
   ]
  },
  {
   "cell_type": "code",
   "execution_count": 20,
   "metadata": {},
   "outputs": [],
   "source": [
    "jewellery['vstavki_list1'] = jewellery.gems.apply(lambda x: re.split(r\";\", x))"
   ]
  },
  {
   "cell_type": "code",
   "execution_count": 34,
   "metadata": {},
   "outputs": [],
   "source": [
    "jewellery.vstavki_list1=jewellery.vstavki_list1.apply(lambda l: list(filter(lambda x: 0 if x == '' else 1,l)))"
   ]
  },
  {
   "cell_type": "code",
   "execution_count": 47,
   "metadata": {},
   "outputs": [],
   "source": [
    "wow = jewellery.vstavki_list1.apply(lambda l: all([1 if x.__contains__('Б') else 0 for x in l]))"
   ]
  },
  {
   "cell_type": "code",
   "execution_count": 50,
   "metadata": {},
   "outputs": [
    {
     "data": {
      "text/html": [
       "<div>\n",
       "<style scoped>\n",
       "    .dataframe tbody tr th:only-of-type {\n",
       "        vertical-align: middle;\n",
       "    }\n",
       "\n",
       "    .dataframe tbody tr th {\n",
       "        vertical-align: top;\n",
       "    }\n",
       "\n",
       "    .dataframe thead th {\n",
       "        text-align: right;\n",
       "    }\n",
       "</style>\n",
       "<table border=\"1\" class=\"dataframe\">\n",
       "  <thead>\n",
       "    <tr style=\"text-align: right;\">\n",
       "      <th></th>\n",
       "      <th>Unnamed: 0</th>\n",
       "      <th>h1</th>\n",
       "      <th>art</th>\n",
       "      <th>price</th>\n",
       "      <th>gold</th>\n",
       "      <th>weight</th>\n",
       "      <th>gems</th>\n",
       "      <th>url</th>\n",
       "      <th>checklog</th>\n",
       "      <th>vstavki_list1</th>\n",
       "    </tr>\n",
       "  </thead>\n",
       "  <tbody>\n",
       "    <tr>\n",
       "      <th>9</th>\n",
       "      <td>9</td>\n",
       "      <td>Кольцо c бриллиантами и изумрудами R755-59623R051</td>\n",
       "      <td>[&lt;span itemprop=\"name\"&gt;Артикул R755-59623R051&lt;/span&gt;]</td>\n",
       "      <td>71396.0</td>\n",
       "      <td>Золото 585</td>\n",
       "      <td>4.07</td>\n",
       "      <td>5  Бриллиантов огранки \"Круглая\" граней - 57, тип огранки A, цвет 3, чистота 6, 0.336 карат;6  Изумрудов огранки \"Круглая\", цвет 3, чистота 3, 0.352 карат;</td>\n",
       "      <td>https://miuz.ru/catalog/rings/R755-59623R051/</td>\n",
       "      <td></td>\n",
       "      <td>[5  Бриллиантов огранки \"Круглая\" граней - 57, тип огранки A, цвет 3, чистота 6, 0.336 карат, 6  Изумрудов огранки \"Круглая\", цвет 3, чистота 3, 0.352 карат]</td>\n",
       "    </tr>\n",
       "    <tr>\n",
       "      <th>12</th>\n",
       "      <td>12</td>\n",
       "      <td>Кольцо c бриллиантами и рубинами R755-46031R167</td>\n",
       "      <td>[&lt;span itemprop=\"name\"&gt;Артикул R755-46031R167&lt;/span&gt;]</td>\n",
       "      <td>75796.0</td>\n",
       "      <td>Золото 585</td>\n",
       "      <td>4.85</td>\n",
       "      <td>48  Бриллиантов огранки \"Круглая\" граней - 57, тип огранки A, цвет 3, чистота 6, 0.175 карат;10  Рубинов огранки \"Квадрат\", цвет 3, чистота 3, 1.288 карат;</td>\n",
       "      <td>https://miuz.ru/catalog/rings/R755-46031R167/</td>\n",
       "      <td></td>\n",
       "      <td>[48  Бриллиантов огранки \"Круглая\" граней - 57, тип огранки A, цвет 3, чистота 6, 0.175 карат, 10  Рубинов огранки \"Квадрат\", цвет 3, чистота 3, 1.288 карат]</td>\n",
       "    </tr>\n",
       "    <tr>\n",
       "      <th>17</th>\n",
       "      <td>17</td>\n",
       "      <td>Кольцо c бриллиантами и сапфирами R2017-BL-R304689BDS</td>\n",
       "      <td>[&lt;span itemprop=\"name\"&gt;Артикул R2017-BL-R304689BDS&lt;/span&gt;]</td>\n",
       "      <td>41596.0</td>\n",
       "      <td>Золото 585</td>\n",
       "      <td>3.71</td>\n",
       "      <td>16  Бриллиантов огранки \"Круглая\" граней - 17, тип огранки A, цвет 4, чистота 6, 0.075 карат;10  Бриллиантов огранки \"Круглая\" граней - 17, тип огранки A, цвет 4, чистота 6, 0.08 карат;1  Сапфир о...</td>\n",
       "      <td>https://miuz.ru/catalog/rings/R2017-BL-R304689BDS/</td>\n",
       "      <td></td>\n",
       "      <td>[16  Бриллиантов огранки \"Круглая\" граней - 17, тип огранки A, цвет 4, чистота 6, 0.075 карат, 10  Бриллиантов огранки \"Круглая\" граней - 17, тип огранки A, цвет 4, чистота 6, 0.08 карат, 1  Сапфи...</td>\n",
       "    </tr>\n",
       "    <tr>\n",
       "      <th>18</th>\n",
       "      <td>18</td>\n",
       "      <td>Кольцо c аквамарином и бриллиантами R01-34115-AQ</td>\n",
       "      <td>[&lt;span itemprop=\"name\"&gt;Артикул R01-34115-AQ&lt;/span&gt;]</td>\n",
       "      <td>28596.0</td>\n",
       "      <td>Золото 585</td>\n",
       "      <td>2.48</td>\n",
       "      <td>1  Аквамарин огранки \"Овал\", 0.65 карат;12  Бриллиантов огранки \"Круглая\" граней - 17, тип огранки A, цвет 3, чистота 4, 0.04 карат;</td>\n",
       "      <td>https://miuz.ru/catalog/rings/R01-34115-AQ/</td>\n",
       "      <td></td>\n",
       "      <td>[1  Аквамарин огранки \"Овал\", 0.65 карат, 12  Бриллиантов огранки \"Круглая\" граней - 17, тип огранки A, цвет 3, чистота 4, 0.04 карат]</td>\n",
       "    </tr>\n",
       "    <tr>\n",
       "      <th>21</th>\n",
       "      <td>21</td>\n",
       "      <td>Кольцо c аквамарином и бриллиантами R169-TRG150017DAQ</td>\n",
       "      <td>[&lt;span itemprop=\"name\"&gt;Артикул R169-TRG150017DAQ&lt;/span&gt;]</td>\n",
       "      <td>151796.0</td>\n",
       "      <td>Золото 585</td>\n",
       "      <td>5.48</td>\n",
       "      <td>1  Аквамарин огранки \"Октагон\", 2.76 карат;24  Бриллианта огранки \"Круглая\" граней - 57, тип огранки A, цвет 3, чистота 6, 0.16 карат;12  Бриллиантов огранки \"Багет\" граней - 25, тип огранки A, цв...</td>\n",
       "      <td>https://miuz.ru/catalog/rings/R169-TRG150017DAQ/</td>\n",
       "      <td></td>\n",
       "      <td>[1  Аквамарин огранки \"Октагон\", 2.76 карат, 24  Бриллианта огранки \"Круглая\" граней - 57, тип огранки A, цвет 3, чистота 6, 0.16 карат, 12  Бриллиантов огранки \"Багет\" граней - 25, тип огранки A,...</td>\n",
       "    </tr>\n",
       "    <tr>\n",
       "      <th>...</th>\n",
       "      <td>...</td>\n",
       "      <td>...</td>\n",
       "      <td>...</td>\n",
       "      <td>...</td>\n",
       "      <td>...</td>\n",
       "      <td>...</td>\n",
       "      <td>...</td>\n",
       "      <td>...</td>\n",
       "      <td>...</td>\n",
       "      <td>...</td>\n",
       "    </tr>\n",
       "    <tr>\n",
       "      <th>295</th>\n",
       "      <td>295</td>\n",
       "      <td>Кольцо c бриллиантами и сапфиром R2017-LQDD1689A-R17</td>\n",
       "      <td>[&lt;span itemprop=\"name\"&gt;Артикул R2017-LQDD1689A-R17&lt;/span&gt;]</td>\n",
       "      <td>20796.0</td>\n",
       "      <td>Золото 585</td>\n",
       "      <td>1.67</td>\n",
       "      <td>16  Бриллиантов огранки \"Круглая\" граней - 17, тип огранки A, цвет 3, чистота 4, 0.033 карат;1  Сапфир огранки \"Круглая\", цвет Черный, 0.32 карат;</td>\n",
       "      <td>https://miuz.ru/catalog/rings/R2017-LQDD1689A-R17/</td>\n",
       "      <td></td>\n",
       "      <td>[16  Бриллиантов огранки \"Круглая\" граней - 17, тип огранки A, цвет 3, чистота 4, 0.033 карат, 1  Сапфир огранки \"Круглая\", цвет Черный, 0.32 карат]</td>\n",
       "    </tr>\n",
       "    <tr>\n",
       "      <th>298</th>\n",
       "      <td>298</td>\n",
       "      <td>Кольцо c бриллиантами и изумрудами R2017-R304551EMP-R17</td>\n",
       "      <td>[&lt;span itemprop=\"name\"&gt;Артикул R2017-R304551EMP-R17&lt;/span&gt;]</td>\n",
       "      <td>30597.0</td>\n",
       "      <td>Золото 585</td>\n",
       "      <td>2.70</td>\n",
       "      <td>42  Бриллианта огранки \"Круглая\" граней - 17, тип огранки A, цвет 3, чистота 4, 0.085 карат;1  Изумруд огранки \"Маркиз\", цвет 3, чистота 3, 0.078 карат;1  Изумруд огранки \"Груша\" граней - 56, цвет...</td>\n",
       "      <td>https://miuz.ru/catalog/rings/R2017-R304551EMP-R17/</td>\n",
       "      <td></td>\n",
       "      <td>[42  Бриллианта огранки \"Круглая\" граней - 17, тип огранки A, цвет 3, чистота 4, 0.085 карат, 1  Изумруд огранки \"Маркиз\", цвет 3, чистота 3, 0.078 карат, 1  Изумруд огранки \"Груша\" граней - 56, ц...</td>\n",
       "    </tr>\n",
       "    <tr>\n",
       "      <th>299</th>\n",
       "      <td>299</td>\n",
       "      <td>Кольцо c бриллиантами и гранатом R2017-R305306GAN-R17</td>\n",
       "      <td>[&lt;span itemprop=\"name\"&gt;Артикул R2017-R305306GAN-R17&lt;/span&gt;]</td>\n",
       "      <td>34196.0</td>\n",
       "      <td>Золото 585</td>\n",
       "      <td>3.24</td>\n",
       "      <td>36  Бриллиантов огранки \"Круглая\" граней - 17, тип огранки A, цвет 3, чистота 4, 0.079 карат;1  Гранат, 1.733 карат;</td>\n",
       "      <td>https://miuz.ru/catalog/rings/R2017-R305306GAN-R17/</td>\n",
       "      <td></td>\n",
       "      <td>[36  Бриллиантов огранки \"Круглая\" граней - 17, тип огранки A, цвет 3, чистота 4, 0.079 карат, 1  Гранат, 1.733 карат]</td>\n",
       "    </tr>\n",
       "    <tr>\n",
       "      <th>300</th>\n",
       "      <td>300</td>\n",
       "      <td>Кольцо c бриллиантами и сапфиром R2017-BODD1270A-R17</td>\n",
       "      <td>[&lt;span itemprop=\"name\"&gt;Артикул R2017-BODD1270A-R17&lt;/span&gt;]</td>\n",
       "      <td>22996.0</td>\n",
       "      <td>Золото 585</td>\n",
       "      <td>1.82</td>\n",
       "      <td>26  Бриллиантов огранки \"Круглая\" граней - 17, тип огранки A, цвет 3, чистота 4, 0.053 карат;1  Сапфир огранки \"Маркиз\", цвет Черный, 0.476 карат;</td>\n",
       "      <td>https://miuz.ru/catalog/rings/R2017-BODD1270A-R17/</td>\n",
       "      <td></td>\n",
       "      <td>[26  Бриллиантов огранки \"Круглая\" граней - 17, тип огранки A, цвет 3, чистота 4, 0.053 карат, 1  Сапфир огранки \"Маркиз\", цвет Черный, 0.476 карат]</td>\n",
       "    </tr>\n",
       "    <tr>\n",
       "      <th>301</th>\n",
       "      <td>301</td>\n",
       "      <td>Кольцо c топазом и бриллиантами R2017-R304362BKT</td>\n",
       "      <td>[&lt;span itemprop=\"name\"&gt;Артикул R2017-R304362BKT&lt;/span&gt;]</td>\n",
       "      <td>18396.0</td>\n",
       "      <td>Золото 585</td>\n",
       "      <td>2.06</td>\n",
       "      <td>1  Топаз, 2.424 карат;10  Бриллиантов огранки \"Круглая\" граней - 17, тип огранки A, цвет 3, чистота 4, 0.032 карат;</td>\n",
       "      <td>https://miuz.ru/catalog/rings/R2017-R304362BKT/</td>\n",
       "      <td></td>\n",
       "      <td>[1  Топаз, 2.424 карат, 10  Бриллиантов огранки \"Круглая\" граней - 17, тип огранки A, цвет 3, чистота 4, 0.032 карат]</td>\n",
       "    </tr>\n",
       "  </tbody>\n",
       "</table>\n",
       "<p>126 rows × 10 columns</p>\n",
       "</div>"
      ],
      "text/plain": [
       "     Unnamed: 0                                                       h1  \\\n",
       "9             9        Кольцо c бриллиантами и изумрудами R755-59623R051   \n",
       "12           12          Кольцо c бриллиантами и рубинами R755-46031R167   \n",
       "17           17    Кольцо c бриллиантами и сапфирами R2017-BL-R304689BDS   \n",
       "18           18         Кольцо c аквамарином и бриллиантами R01-34115-AQ   \n",
       "21           21    Кольцо c аквамарином и бриллиантами R169-TRG150017DAQ   \n",
       "..          ...                                                      ...   \n",
       "295         295     Кольцо c бриллиантами и сапфиром R2017-LQDD1689A-R17   \n",
       "298         298  Кольцо c бриллиантами и изумрудами R2017-R304551EMP-R17   \n",
       "299         299    Кольцо c бриллиантами и гранатом R2017-R305306GAN-R17   \n",
       "300         300     Кольцо c бриллиантами и сапфиром R2017-BODD1270A-R17   \n",
       "301         301         Кольцо c топазом и бриллиантами R2017-R304362BKT   \n",
       "\n",
       "                                                             art     price  \\\n",
       "9          [<span itemprop=\"name\">Артикул R755-59623R051</span>]   71396.0   \n",
       "12         [<span itemprop=\"name\">Артикул R755-46031R167</span>]   75796.0   \n",
       "17    [<span itemprop=\"name\">Артикул R2017-BL-R304689BDS</span>]   41596.0   \n",
       "18           [<span itemprop=\"name\">Артикул R01-34115-AQ</span>]   28596.0   \n",
       "21      [<span itemprop=\"name\">Артикул R169-TRG150017DAQ</span>]  151796.0   \n",
       "..                                                           ...       ...   \n",
       "295   [<span itemprop=\"name\">Артикул R2017-LQDD1689A-R17</span>]   20796.0   \n",
       "298  [<span itemprop=\"name\">Артикул R2017-R304551EMP-R17</span>]   30597.0   \n",
       "299  [<span itemprop=\"name\">Артикул R2017-R305306GAN-R17</span>]   34196.0   \n",
       "300   [<span itemprop=\"name\">Артикул R2017-BODD1270A-R17</span>]   22996.0   \n",
       "301      [<span itemprop=\"name\">Артикул R2017-R304362BKT</span>]   18396.0   \n",
       "\n",
       "           gold  weight  \\\n",
       "9    Золото 585    4.07   \n",
       "12   Золото 585    4.85   \n",
       "17   Золото 585    3.71   \n",
       "18   Золото 585    2.48   \n",
       "21   Золото 585    5.48   \n",
       "..          ...     ...   \n",
       "295  Золото 585    1.67   \n",
       "298  Золото 585    2.70   \n",
       "299  Золото 585    3.24   \n",
       "300  Золото 585    1.82   \n",
       "301  Золото 585    2.06   \n",
       "\n",
       "                                                                                                                                                                                                        gems  \\\n",
       "9                                                5  Бриллиантов огранки \"Круглая\" граней - 57, тип огранки A, цвет 3, чистота 6, 0.336 карат;6  Изумрудов огранки \"Круглая\", цвет 3, чистота 3, 0.352 карат;   \n",
       "12                                               48  Бриллиантов огранки \"Круглая\" граней - 57, тип огранки A, цвет 3, чистота 6, 0.175 карат;10  Рубинов огранки \"Квадрат\", цвет 3, чистота 3, 1.288 карат;   \n",
       "17   16  Бриллиантов огранки \"Круглая\" граней - 17, тип огранки A, цвет 4, чистота 6, 0.075 карат;10  Бриллиантов огранки \"Круглая\" граней - 17, тип огранки A, цвет 4, чистота 6, 0.08 карат;1  Сапфир о...   \n",
       "18                                                                      1  Аквамарин огранки \"Овал\", 0.65 карат;12  Бриллиантов огранки \"Круглая\" граней - 17, тип огранки A, цвет 3, чистота 4, 0.04 карат;   \n",
       "21   1  Аквамарин огранки \"Октагон\", 2.76 карат;24  Бриллианта огранки \"Круглая\" граней - 57, тип огранки A, цвет 3, чистота 6, 0.16 карат;12  Бриллиантов огранки \"Багет\" граней - 25, тип огранки A, цв...   \n",
       "..                                                                                                                                                                                                       ...   \n",
       "295                                                       16  Бриллиантов огранки \"Круглая\" граней - 17, тип огранки A, цвет 3, чистота 4, 0.033 карат;1  Сапфир огранки \"Круглая\", цвет Черный, 0.32 карат;   \n",
       "298  42  Бриллианта огранки \"Круглая\" граней - 17, тип огранки A, цвет 3, чистота 4, 0.085 карат;1  Изумруд огранки \"Маркиз\", цвет 3, чистота 3, 0.078 карат;1  Изумруд огранки \"Груша\" граней - 56, цвет...   \n",
       "299                                                                                     36  Бриллиантов огранки \"Круглая\" граней - 17, тип огранки A, цвет 3, чистота 4, 0.079 карат;1  Гранат, 1.733 карат;   \n",
       "300                                                       26  Бриллиантов огранки \"Круглая\" граней - 17, тип огранки A, цвет 3, чистота 4, 0.053 карат;1  Сапфир огранки \"Маркиз\", цвет Черный, 0.476 карат;   \n",
       "301                                                                                      1  Топаз, 2.424 карат;10  Бриллиантов огранки \"Круглая\" граней - 17, тип огранки A, цвет 3, чистота 4, 0.032 карат;   \n",
       "\n",
       "                                                     url checklog  \\\n",
       "9          https://miuz.ru/catalog/rings/R755-59623R051/            \n",
       "12         https://miuz.ru/catalog/rings/R755-46031R167/            \n",
       "17    https://miuz.ru/catalog/rings/R2017-BL-R304689BDS/            \n",
       "18           https://miuz.ru/catalog/rings/R01-34115-AQ/            \n",
       "21      https://miuz.ru/catalog/rings/R169-TRG150017DAQ/            \n",
       "..                                                   ...      ...   \n",
       "295   https://miuz.ru/catalog/rings/R2017-LQDD1689A-R17/            \n",
       "298  https://miuz.ru/catalog/rings/R2017-R304551EMP-R17/            \n",
       "299  https://miuz.ru/catalog/rings/R2017-R305306GAN-R17/            \n",
       "300   https://miuz.ru/catalog/rings/R2017-BODD1270A-R17/            \n",
       "301      https://miuz.ru/catalog/rings/R2017-R304362BKT/            \n",
       "\n",
       "                                                                                                                                                                                               vstavki_list1  \n",
       "9                                              [5  Бриллиантов огранки \"Круглая\" граней - 57, тип огранки A, цвет 3, чистота 6, 0.336 карат, 6  Изумрудов огранки \"Круглая\", цвет 3, чистота 3, 0.352 карат]  \n",
       "12                                             [48  Бриллиантов огранки \"Круглая\" граней - 57, тип огранки A, цвет 3, чистота 6, 0.175 карат, 10  Рубинов огранки \"Квадрат\", цвет 3, чистота 3, 1.288 карат]  \n",
       "17   [16  Бриллиантов огранки \"Круглая\" граней - 17, тип огранки A, цвет 4, чистота 6, 0.075 карат, 10  Бриллиантов огранки \"Круглая\" граней - 17, тип огранки A, цвет 4, чистота 6, 0.08 карат, 1  Сапфи...  \n",
       "18                                                                    [1  Аквамарин огранки \"Овал\", 0.65 карат, 12  Бриллиантов огранки \"Круглая\" граней - 17, тип огранки A, цвет 3, чистота 4, 0.04 карат]  \n",
       "21   [1  Аквамарин огранки \"Октагон\", 2.76 карат, 24  Бриллианта огранки \"Круглая\" граней - 57, тип огранки A, цвет 3, чистота 6, 0.16 карат, 12  Бриллиантов огранки \"Багет\" граней - 25, тип огранки A,...  \n",
       "..                                                                                                                                                                                                       ...  \n",
       "295                                                     [16  Бриллиантов огранки \"Круглая\" граней - 17, тип огранки A, цвет 3, чистота 4, 0.033 карат, 1  Сапфир огранки \"Круглая\", цвет Черный, 0.32 карат]  \n",
       "298  [42  Бриллианта огранки \"Круглая\" граней - 17, тип огранки A, цвет 3, чистота 4, 0.085 карат, 1  Изумруд огранки \"Маркиз\", цвет 3, чистота 3, 0.078 карат, 1  Изумруд огранки \"Груша\" граней - 56, ц...  \n",
       "299                                                                                   [36  Бриллиантов огранки \"Круглая\" граней - 17, тип огранки A, цвет 3, чистота 4, 0.079 карат, 1  Гранат, 1.733 карат]  \n",
       "300                                                     [26  Бриллиантов огранки \"Круглая\" граней - 17, тип огранки A, цвет 3, чистота 4, 0.053 карат, 1  Сапфир огранки \"Маркиз\", цвет Черный, 0.476 карат]  \n",
       "301                                                                                    [1  Топаз, 2.424 карат, 10  Бриллиантов огранки \"Круглая\" граней - 17, тип огранки A, цвет 3, чистота 4, 0.032 карат]  \n",
       "\n",
       "[126 rows x 10 columns]"
      ]
     },
     "execution_count": 50,
     "metadata": {},
     "output_type": "execute_result"
    }
   ],
   "source": [
    "jewellery[~wow]"
   ]
  },
  {
   "cell_type": "code",
   "execution_count": 42,
   "metadata": {},
   "outputs": [
    {
     "data": {
      "text/plain": [
       "True"
      ]
     },
     "execution_count": 42,
     "metadata": {},
     "output_type": "execute_result"
    }
   ],
   "source": [
    "'1  Бриллиант огранки \"Круглая\" граней - 57, тип огранки A, цвет 3, чистота 6, 0.06 карат'.__contains__('Б')"
   ]
  },
  {
   "cell_type": "code",
   "execution_count": null,
   "metadata": {},
   "outputs": [],
   "source": []
  },
  {
   "cell_type": "code",
   "execution_count": null,
   "metadata": {},
   "outputs": [],
   "source": [
    "x.__contains __('Б')"
   ]
  },
  {
   "cell_type": "code",
   "execution_count": null,
   "metadata": {},
   "outputs": [],
   "source": [
    "#TODO how to drop the [''] in re.split?"
   ]
  },
  {
   "cell_type": "code",
   "execution_count": null,
   "metadata": {},
   "outputs": [],
   "source": [
    "vstavki = jewellery.copy()"
   ]
  },
  {
   "cell_type": "code",
   "execution_count": null,
   "metadata": {},
   "outputs": [],
   "source": [
    "vstavki.info()"
   ]
  },
  {
   "cell_type": "code",
   "execution_count": null,
   "metadata": {},
   "outputs": [],
   "source": [
    "vstavki = vstavki.explode('vstavki_list1')"
   ]
  },
  {
   "cell_type": "code",
   "execution_count": null,
   "metadata": {},
   "outputs": [],
   "source": [
    "#related with TODO how to drop the [''] in re.split?\n",
    "vstavki = vstavki.loc[~(vstavki.vstavki_list1 == '')].copy()"
   ]
  },
  {
   "cell_type": "code",
   "execution_count": null,
   "metadata": {},
   "outputs": [],
   "source": [
    "vstavki['vstavki_list2'] = vstavki.vstavki_list1.apply(lambda x: x.split(','))"
   ]
  },
  {
   "cell_type": "code",
   "execution_count": null,
   "metadata": {},
   "outputs": [],
   "source": [
    "pattern_miuz0 = r\"\"\"(?ix)(?P<n>\\d{1,4})\\s+(?P<gem>\\w+)\\s+огранки\\s+\"\n",
    "                    (?P<form>[\\W\\w]+)\"[\\s\\w]*(?:граней)?\\s?-?\\s?(?P<graney>\\d*)?\"\"\""
   ]
  },
  {
   "cell_type": "code",
   "execution_count": null,
   "metadata": {},
   "outputs": [],
   "source": [
    "vstavki['n_gem_ogr_ngra'] = vstavki.vstavki_list2.apply(lambda x: re.findall(pattern_miuz0,x[0]))"
   ]
  },
  {
   "cell_type": "code",
   "execution_count": null,
   "metadata": {},
   "outputs": [],
   "source": [
    "vstavki['ШТУК'] = vstavki.n_gem_ogr_ngra.apply(lambda x: x[0][0] if len(x) != 0 else 0)"
   ]
  },
  {
   "cell_type": "code",
   "execution_count": null,
   "metadata": {},
   "outputs": [],
   "source": [
    "vstavki['gem'] = vstavki.n_gem_ogr_ngra.apply(lambda x: x[0][1] if len(x) != 0 else '')"
   ]
  },
  {
   "cell_type": "code",
   "execution_count": null,
   "metadata": {},
   "outputs": [],
   "source": [
    "vstavki['ОГРАНКА'] = vstavki.n_gem_ogr_ngra.apply(lambda x: (x[0][2]+'-'+ x[0][3]).strip('-') if len(x) != 0 else '')"
   ]
  },
  {
   "cell_type": "code",
   "execution_count": null,
   "metadata": {},
   "outputs": [],
   "source": [
    "vstavki['ПО'] = vstavki.vstavki_list1.apply(lambda x: re.findall(r\"\"\"тип огранки\\s+(.)\"\"\" , x)[0] if re.findall(r\"\"\"тип огранки\\s+(.)\"\"\" , x) else \"\")"
   ]
  },
  {
   "cell_type": "code",
   "execution_count": null,
   "metadata": {},
   "outputs": [],
   "source": [
    "vstavki['Ц'] = vstavki.vstavki_list1.apply(lambda x: re.findall(r\"\"\"цвет\\s+(.)\"\"\" , x)[0] if re.findall(r\"\"\"цвет\\s+(.)\"\"\" , x) else \"\")"
   ]
  },
  {
   "cell_type": "code",
   "execution_count": null,
   "metadata": {},
   "outputs": [],
   "source": [
    "vstavki['Д'] = vstavki.vstavki_list1.apply(lambda x: re.findall(r\"\"\"чистота\\s+(.)\"\"\" , x)[0] if re.findall(r\"\"\"чистота\\s+(.)\"\"\" , x) else \"\")"
   ]
  },
  {
   "cell_type": "code",
   "execution_count": null,
   "metadata": {},
   "outputs": [],
   "source": [
    "vstavki['КАРАТ'] = vstavki.vstavki_list1.apply(lambda x: float(re.findall(r\"\"\"(\\d\\d?.\\d\\d\\d?)\"\"\" , x)[0]) if re.findall(r\"\"\"(\\d\\d?.\\d\\d\\d?)\"\"\" , x) else 0)"
   ]
  },
  {
   "cell_type": "code",
   "execution_count": null,
   "metadata": {},
   "outputs": [],
   "source": [
    "vstavki"
   ]
  },
  {
   "cell_type": "code",
   "execution_count": null,
   "metadata": {},
   "outputs": [],
   "source": [
    "vstavki[~vstavki.gem.str.contains('Брилл')].to_excel(sourcepath+'_failed_re_'+filenamep+'.xlsx')"
   ]
  },
  {
   "cell_type": "code",
   "execution_count": null,
   "metadata": {},
   "outputs": [],
   "source": [
    "diaminds = vstavki[vstavki.gem.str.contains('Брилл')].copy()"
   ]
  },
  {
   "cell_type": "code",
   "execution_count": null,
   "metadata": {},
   "outputs": [],
   "source": [
    "diaminds.ШТУК = diaminds.ШТУК.astype('int')"
   ]
  },
  {
   "cell_type": "markdown",
   "metadata": {},
   "source": [
    "### Распознавание"
   ]
  },
  {
   "cell_type": "code",
   "execution_count": null,
   "metadata": {},
   "outputs": [],
   "source": [
    "pd.options.display.max_colwidth = 200"
   ]
  },
  {
   "cell_type": "markdown",
   "metadata": {},
   "source": [
    "### CHECK!!! DROP ALL WHEN no vst"
   ]
  },
  {
   "cell_type": "code",
   "execution_count": null,
   "metadata": {},
   "outputs": [],
   "source": [
    "#vstavki = vstavki.dropna(subset = ['vstavki']).copy()\n",
    "#vstavki[~(vstavki.vs_dict == '')].dropna(subset = ['vstavki'])#.copy()\n",
    "#(vstavki.vs_dict!='')|"
   ]
  },
  {
   "cell_type": "markdown",
   "metadata": {},
   "source": [
    "### Проверка 0  по длине строки вставки и количества распознанных строк + пропуск брилл"
   ]
  },
  {
   "cell_type": "code",
   "execution_count": null,
   "metadata": {},
   "outputs": [],
   "source": [
    "pd.options.display.max_colwidth = 300"
   ]
  },
  {
   "cell_type": "code",
   "execution_count": null,
   "metadata": {},
   "outputs": [],
   "source": [
    "diaminds.ШТУК.sort_values().unique()"
   ]
  },
  {
   "cell_type": "code",
   "execution_count": null,
   "metadata": {},
   "outputs": [],
   "source": [
    "pd.options.display.max_colwidth = 200"
   ]
  },
  {
   "cell_type": "code",
   "execution_count": null,
   "metadata": {},
   "outputs": [],
   "source": [
    "diaminds[diaminds.ШТУК >= 100].sort_values(by=\"ШТУК\")"
   ]
  },
  {
   "cell_type": "code",
   "execution_count": null,
   "metadata": {},
   "outputs": [],
   "source": [
    "diaminds.ПО.unique()"
   ]
  },
  {
   "cell_type": "code",
   "execution_count": null,
   "metadata": {},
   "outputs": [],
   "source": [
    "diaminds.loc[diaminds.ПО == '']\n"
   ]
  },
  {
   "cell_type": "code",
   "execution_count": null,
   "metadata": {},
   "outputs": [],
   "source": [
    "diaminds.ОГРАНКА.unique()"
   ]
  },
  {
   "cell_type": "code",
   "execution_count": null,
   "metadata": {
    "scrolled": true
   },
   "outputs": [],
   "source": [
    "diaminds[diaminds.ОГРАНКА == 'Фантазия']"
   ]
  },
  {
   "cell_type": "code",
   "execution_count": null,
   "metadata": {},
   "outputs": [],
   "source": [
    "diaminds.loc[diaminds.КАРАТ > -10000,'КАРАТ'].sort_values().unique()"
   ]
  },
  {
   "cell_type": "code",
   "execution_count": null,
   "metadata": {},
   "outputs": [],
   "source": [
    "diaminds.Ц.unique()"
   ]
  },
  {
   "cell_type": "code",
   "execution_count": null,
   "metadata": {},
   "outputs": [],
   "source": [
    "diaminds.loc[diaminds.Ц =='8']"
   ]
  },
  {
   "cell_type": "code",
   "execution_count": null,
   "metadata": {},
   "outputs": [],
   "source": [
    "diaminds.Д.unique()"
   ]
  },
  {
   "cell_type": "code",
   "execution_count": null,
   "metadata": {},
   "outputs": [],
   "source": [
    "diaminds[diaminds.Д == '7']"
   ]
  },
  {
   "cell_type": "code",
   "execution_count": null,
   "metadata": {},
   "outputs": [],
   "source": [
    "diaminds.Ц.apply(lambda x: x in dcol_dia).unique()\n"
   ]
  },
  {
   "cell_type": "code",
   "execution_count": null,
   "metadata": {},
   "outputs": [],
   "source": [
    "diaminds.Д.apply(lambda x: x in dcla_dia).unique()"
   ]
  },
  {
   "cell_type": "code",
   "execution_count": null,
   "metadata": {},
   "outputs": [],
   "source": [
    "#vstavki_d.Д.apply(lambda x: x in dcla_dia)\n",
    "diaminds.loc[~diaminds.Д.apply(lambda x: x in dcla_dia)]"
   ]
  },
  {
   "cell_type": "code",
   "execution_count": null,
   "metadata": {},
   "outputs": [],
   "source": []
  },
  {
   "cell_type": "code",
   "execution_count": null,
   "metadata": {},
   "outputs": [],
   "source": [
    "diaminds.ПО.apply(lambda x: x in dpo_dia).unique()"
   ]
  },
  {
   "cell_type": "code",
   "execution_count": null,
   "metadata": {},
   "outputs": [],
   "source": [
    "diaminds.ОГРАНКА.apply(lambda x: x in dogr_dia_discount).unique()"
   ]
  },
  {
   "cell_type": "code",
   "execution_count": null,
   "metadata": {},
   "outputs": [],
   "source": [
    "#vstavki_d[~vstavki_d.ПО.apply(lambda x: x in dpo_dia)]\n",
    "vstavki_d[~vstavki_d.ОГРАНКА.apply(lambda x: x in dogr_dia_discount)].ОГРАНКА.unique()"
   ]
  },
  {
   "cell_type": "code",
   "execution_count": null,
   "metadata": {},
   "outputs": [],
   "source": [
    "#vstavki_d.loc[vstavki_d.ОГРАНКА == 'р57','ОГРАНКА'] = \"Кр-57\""
   ]
  },
  {
   "cell_type": "markdown",
   "metadata": {},
   "source": [
    "### Проверки 2"
   ]
  },
  {
   "cell_type": "code",
   "execution_count": null,
   "metadata": {},
   "outputs": [],
   "source": [
    "diaminds['СРКАРАТ'] = diaminds.КАРАТ/diaminds.ШТУК"
   ]
  },
  {
   "cell_type": "code",
   "execution_count": null,
   "metadata": {},
   "outputs": [],
   "source": [
    "#vstavki_d.loc[vstavki_d.СРКАРАТ > 0.3000,'СРКАРАТ'].sort_values().unique()"
   ]
  },
  {
   "cell_type": "code",
   "execution_count": null,
   "metadata": {},
   "outputs": [],
   "source": [
    "diaminds.СРКАРАТ.sort_values().unique()"
   ]
  },
  {
   "cell_type": "markdown",
   "metadata": {},
   "source": [
    "### Сохранение"
   ]
  },
  {
   "cell_type": "code",
   "execution_count": null,
   "metadata": {},
   "outputs": [],
   "source": [
    "#stavki_d.loc[12396,'Д'] = 4"
   ]
  },
  {
   "cell_type": "code",
   "execution_count": null,
   "metadata": {},
   "outputs": [],
   "source": [
    "#vstavki_d.to_excel('res/vs'+filenamep + '.xlsx')"
   ]
  },
  {
   "cell_type": "markdown",
   "metadata": {},
   "source": [
    "### Прейскурант"
   ]
  },
  {
   "cell_type": "code",
   "execution_count": null,
   "metadata": {},
   "outputs": [],
   "source": [
    "diamonds = func_rpdiamonds.rpdiamonds(diaminds)"
   ]
  },
  {
   "cell_type": "code",
   "execution_count": null,
   "metadata": {},
   "outputs": [],
   "source": [
    "res = diamonds"
   ]
  },
  {
   "cell_type": "markdown",
   "metadata": {},
   "source": [
    "## Проверка сработки прейскуранта"
   ]
  },
  {
   "cell_type": "code",
   "execution_count": null,
   "metadata": {},
   "outputs": [],
   "source": [
    "res.loc[pd.isna(res.prpr),[ 'vstavki', 'filname',\n",
    "       'vs_dict', 'gem', 'ШТУК',\n",
    "       'ОГРАНКА', 'КАРАТ', 'ЦД', 'ПО', 'Ц', 'Д', 'checklog', 'СРКАРАТ', 'Col',\n",
    "       'Cla', 'Po', 'ogrdisc', 'Grp', 'discont_po', 'ogrbasic', 'Pr2019',\n",
    "       'ogrdiscount', 'prpr', 'prcost']]"
   ]
  },
  {
   "cell_type": "code",
   "execution_count": null,
   "metadata": {},
   "outputs": [],
   "source": [
    "#saveerrlog(res,'id7c','МС00148933' )"
   ]
  },
  {
   "cell_type": "code",
   "execution_count": null,
   "metadata": {},
   "outputs": [],
   "source": [
    "res#.drop(index = res.index, inplace = True)"
   ]
  },
  {
   "cell_type": "code",
   "execution_count": null,
   "metadata": {},
   "outputs": [],
   "source": [
    "res.to_excel(sourcepath +'_брилл_в_строку_'+ filenamep+'.xlsx')\n"
   ]
  },
  {
   "cell_type": "code",
   "execution_count": null,
   "metadata": {},
   "outputs": [],
   "source": [
    "res[['id7c','пп', 'Кол','Вес', 'Закуп', 'Розн','vs_dict','ШТУК', 'КАРАТ','prpr',\n",
    "       'prcost']].groupby(['id7c']).agg({'пп':'first','Кол':'first','Вес':'first', 'Закуп':'first', 'Розн':'first',\n",
    "       'vs_dict':\"sum\",'ШТУК':\"sum\",'КАРАТ':\"sum\",'prcost':\"sum\",}).reset_index()\n",
    "#res.columns "
   ]
  },
  {
   "cell_type": "code",
   "execution_count": null,
   "metadata": {},
   "outputs": [],
   "source": [
    "resfinsh = res[['id7c','пп', 'Кол','Вес', 'Закуп', 'Розн','vs_dict','ШТУК', 'КАРАТ','prpr',\n",
    "       'prcost']].groupby(['id7c']).agg({'пп':'first','Кол':'first','Вес':'first', 'Закуп':'first', 'Розн':'first',\n",
    "       'vs_dict':\"sum\",'ШТУК':\"sum\",'КАРАТ':\"sum\",'prcost':\"sum\",}).reset_index()\n"
   ]
  },
  {
   "cell_type": "code",
   "execution_count": null,
   "metadata": {},
   "outputs": [],
   "source": [
    "resfinsh[['ШТУК', 'КАРАТ','prcost']].sum()"
   ]
  },
  {
   "cell_type": "code",
   "execution_count": null,
   "metadata": {},
   "outputs": [],
   "source": [
    "jewelleryfinish = pd.merge(jewellery,resfinsh[['id7c','ШТУК', 'КАРАТ','prcost']],how='left',right_on='id7c',left_on='id7c')"
   ]
  },
  {
   "cell_type": "code",
   "execution_count": null,
   "metadata": {},
   "outputs": [],
   "source": [
    "#jewelleryfinish.to_excel('res/jewdpr_'+filenamep+'.xlsx')\n",
    "jewelleryfinish.to_excel(sourcepath + '_брилл_суммированы_'+filenamep+'.xlsx')"
   ]
  },
  {
   "cell_type": "code",
   "execution_count": null,
   "metadata": {},
   "outputs": [],
   "source": [
    "pd.merge(jewellery,resfinsh[['id7c','ШТУК', 'КАРАТ','prcost']],how='left',right_on='id7c',left_on='id7c')#.to_excel('res/jewdpr_'+filenamep+'.xlsx')"
   ]
  },
  {
   "cell_type": "code",
   "execution_count": null,
   "metadata": {},
   "outputs": [],
   "source": [
    "summallres = jewelleryfinish[['filname', 'Кол', \"Вес\", \"Закуп\", \"Розн\",'ШТУК', 'КАРАТ','prcost']].groupby(by = 'filname').sum().reset_index()"
   ]
  },
  {
   "cell_type": "code",
   "execution_count": null,
   "metadata": {},
   "outputs": [],
   "source": [
    "summallres['партия'] = sourcepath"
   ]
  },
  {
   "cell_type": "code",
   "execution_count": null,
   "metadata": {},
   "outputs": [],
   "source": [
    "summallres"
   ]
  },
  {
   "cell_type": "code",
   "execution_count": null,
   "metadata": {},
   "outputs": [],
   "source": [
    "summallres.to_excel(sourcepath + '_свод_после_прейскуранта_'+filenamep+'.xlsx')"
   ]
  },
  {
   "cell_type": "code",
   "execution_count": null,
   "metadata": {},
   "outputs": [],
   "source": [
    "summallres"
   ]
  },
  {
   "cell_type": "markdown",
   "metadata": {},
   "source": [
    "filname    03-10-203.xls03-10-206а.xls03-10-256а.xls06-34...\n",
    "Кол                                                    27521\n",
    "Вес                                                121058.21\n",
    "Закуп                                           179497903.46\n",
    "Розн                                            453427001.68\n",
    "dtype: object"
   ]
  },
  {
   "cell_type": "code",
   "execution_count": null,
   "metadata": {},
   "outputs": [],
   "source": [
    "pd.options.display.float_format = '{:.2f}'.format\n",
    "pd.options.display.max_colwidth = 100"
   ]
  },
  {
   "cell_type": "code",
   "execution_count": null,
   "metadata": {},
   "outputs": [],
   "source": []
  },
  {
   "cell_type": "code",
   "execution_count": null,
   "metadata": {},
   "outputs": [],
   "source": [
    "pd.DataFrame.explode?"
   ]
  }
 ],
 "metadata": {
  "kernelspec": {
   "display_name": "Python 3",
   "language": "python",
   "name": "python3"
  },
  "language_info": {
   "codemirror_mode": {
    "name": "ipython",
    "version": 3
   },
   "file_extension": ".py",
   "mimetype": "text/x-python",
   "name": "python",
   "nbconvert_exporter": "python",
   "pygments_lexer": "ipython3",
   "version": "3.6.4"
  }
 },
 "nbformat": 4,
 "nbformat_minor": 5
}
